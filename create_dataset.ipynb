{
 "cells": [
  {
   "cell_type": "code",
   "execution_count": 4,
   "metadata": {},
   "outputs": [],
   "source": [
    "from copy import copy\n",
    "import datetime\n",
    "import numpy as np\n",
    "import pandas as pd\n",
    "import pandas_profiling as pdp\n",
    "import matplotlib.pyplot as plt\n",
    "%matplotlib inline\n",
    "import seaborn as sns\n",
    "\n",
    "from sklearn.preprocessing import StandardScaler, LabelEncoder"
   ]
  },
  {
   "cell_type": "code",
   "execution_count": 5,
   "metadata": {},
   "outputs": [
    {
     "data": {
      "text/html": [
       "<div>\n",
       "<style scoped>\n",
       "    .dataframe tbody tr th:only-of-type {\n",
       "        vertical-align: middle;\n",
       "    }\n",
       "\n",
       "    .dataframe tbody tr th {\n",
       "        vertical-align: top;\n",
       "    }\n",
       "\n",
       "    .dataframe thead th {\n",
       "        text-align: right;\n",
       "    }\n",
       "</style>\n",
       "<table border=\"1\" class=\"dataframe\">\n",
       "  <thead>\n",
       "    <tr style=\"text-align: right;\">\n",
       "      <th></th>\n",
       "      <th>id</th>\n",
       "      <th>age</th>\n",
       "      <th>job</th>\n",
       "      <th>marital</th>\n",
       "      <th>education</th>\n",
       "      <th>default</th>\n",
       "      <th>balance</th>\n",
       "      <th>housing</th>\n",
       "      <th>loan</th>\n",
       "      <th>contact</th>\n",
       "      <th>day</th>\n",
       "      <th>month</th>\n",
       "      <th>duration</th>\n",
       "      <th>campaign</th>\n",
       "      <th>pdays</th>\n",
       "      <th>previous</th>\n",
       "      <th>poutcome</th>\n",
       "      <th>y</th>\n",
       "    </tr>\n",
       "  </thead>\n",
       "  <tbody>\n",
       "    <tr>\n",
       "      <th>0</th>\n",
       "      <td>0</td>\n",
       "      <td>31</td>\n",
       "      <td>services</td>\n",
       "      <td>married</td>\n",
       "      <td>secondary</td>\n",
       "      <td>no</td>\n",
       "      <td>12294</td>\n",
       "      <td>yes</td>\n",
       "      <td>no</td>\n",
       "      <td>cellular</td>\n",
       "      <td>21</td>\n",
       "      <td>nov</td>\n",
       "      <td>101</td>\n",
       "      <td>3</td>\n",
       "      <td>498</td>\n",
       "      <td>0</td>\n",
       "      <td>other</td>\n",
       "      <td>0</td>\n",
       "    </tr>\n",
       "    <tr>\n",
       "      <th>1</th>\n",
       "      <td>1</td>\n",
       "      <td>29</td>\n",
       "      <td>entrepreneur</td>\n",
       "      <td>single</td>\n",
       "      <td>tertiary</td>\n",
       "      <td>no</td>\n",
       "      <td>43027</td>\n",
       "      <td>no</td>\n",
       "      <td>no</td>\n",
       "      <td>cellular</td>\n",
       "      <td>22</td>\n",
       "      <td>aug</td>\n",
       "      <td>158</td>\n",
       "      <td>2</td>\n",
       "      <td>702</td>\n",
       "      <td>0</td>\n",
       "      <td>unknown</td>\n",
       "      <td>1</td>\n",
       "    </tr>\n",
       "    <tr>\n",
       "      <th>2</th>\n",
       "      <td>2</td>\n",
       "      <td>35</td>\n",
       "      <td>management</td>\n",
       "      <td>married</td>\n",
       "      <td>tertiary</td>\n",
       "      <td>no</td>\n",
       "      <td>12252</td>\n",
       "      <td>yes</td>\n",
       "      <td>no</td>\n",
       "      <td>cellular</td>\n",
       "      <td>11</td>\n",
       "      <td>nov</td>\n",
       "      <td>351</td>\n",
       "      <td>1</td>\n",
       "      <td>826</td>\n",
       "      <td>0</td>\n",
       "      <td>failure</td>\n",
       "      <td>0</td>\n",
       "    </tr>\n",
       "    <tr>\n",
       "      <th>3</th>\n",
       "      <td>3</td>\n",
       "      <td>31</td>\n",
       "      <td>technician</td>\n",
       "      <td>married</td>\n",
       "      <td>secondary</td>\n",
       "      <td>no</td>\n",
       "      <td>99121</td>\n",
       "      <td>yes</td>\n",
       "      <td>yes</td>\n",
       "      <td>unknown</td>\n",
       "      <td>16</td>\n",
       "      <td>may</td>\n",
       "      <td>658</td>\n",
       "      <td>2</td>\n",
       "      <td>120</td>\n",
       "      <td>0</td>\n",
       "      <td>failure</td>\n",
       "      <td>0</td>\n",
       "    </tr>\n",
       "    <tr>\n",
       "      <th>4</th>\n",
       "      <td>4</td>\n",
       "      <td>48</td>\n",
       "      <td>unemployed</td>\n",
       "      <td>married</td>\n",
       "      <td>primary</td>\n",
       "      <td>no</td>\n",
       "      <td>42005</td>\n",
       "      <td>yes</td>\n",
       "      <td>no</td>\n",
       "      <td>telephone</td>\n",
       "      <td>3</td>\n",
       "      <td>apr</td>\n",
       "      <td>177</td>\n",
       "      <td>1</td>\n",
       "      <td>273</td>\n",
       "      <td>0</td>\n",
       "      <td>unknown</td>\n",
       "      <td>0</td>\n",
       "    </tr>\n",
       "  </tbody>\n",
       "</table>\n",
       "</div>"
      ],
      "text/plain": [
       "   id  age           job  marital  education default  balance housing loan  \\\n",
       "0   0   31      services  married  secondary      no    12294     yes   no   \n",
       "1   1   29  entrepreneur   single   tertiary      no    43027      no   no   \n",
       "2   2   35    management  married   tertiary      no    12252     yes   no   \n",
       "3   3   31    technician  married  secondary      no    99121     yes  yes   \n",
       "4   4   48    unemployed  married    primary      no    42005     yes   no   \n",
       "\n",
       "     contact  day month  duration  campaign  pdays  previous poutcome  y  \n",
       "0   cellular   21   nov       101         3    498         0    other  0  \n",
       "1   cellular   22   aug       158         2    702         0  unknown  1  \n",
       "2   cellular   11   nov       351         1    826         0  failure  0  \n",
       "3    unknown   16   may       658         2    120         0  failure  0  \n",
       "4  telephone    3   apr       177         1    273         0  unknown  0  "
      ]
     },
     "execution_count": 5,
     "metadata": {},
     "output_type": "execute_result"
    }
   ],
   "source": [
    "train_data = pd.read_csv('dataset/train.csv')\n",
    "train_data.head()"
   ]
  },
  {
   "cell_type": "code",
   "execution_count": 6,
   "metadata": {},
   "outputs": [
    {
     "data": {
      "text/html": [
       "<div>\n",
       "<style scoped>\n",
       "    .dataframe tbody tr th:only-of-type {\n",
       "        vertical-align: middle;\n",
       "    }\n",
       "\n",
       "    .dataframe tbody tr th {\n",
       "        vertical-align: top;\n",
       "    }\n",
       "\n",
       "    .dataframe thead th {\n",
       "        text-align: right;\n",
       "    }\n",
       "</style>\n",
       "<table border=\"1\" class=\"dataframe\">\n",
       "  <thead>\n",
       "    <tr style=\"text-align: right;\">\n",
       "      <th></th>\n",
       "      <th>id</th>\n",
       "      <th>age</th>\n",
       "      <th>job</th>\n",
       "      <th>marital</th>\n",
       "      <th>education</th>\n",
       "      <th>default</th>\n",
       "      <th>balance</th>\n",
       "      <th>housing</th>\n",
       "      <th>loan</th>\n",
       "      <th>contact</th>\n",
       "      <th>day</th>\n",
       "      <th>month</th>\n",
       "      <th>duration</th>\n",
       "      <th>campaign</th>\n",
       "      <th>pdays</th>\n",
       "      <th>previous</th>\n",
       "      <th>poutcome</th>\n",
       "    </tr>\n",
       "  </thead>\n",
       "  <tbody>\n",
       "    <tr>\n",
       "      <th>0</th>\n",
       "      <td>0</td>\n",
       "      <td>35</td>\n",
       "      <td>technician</td>\n",
       "      <td>single</td>\n",
       "      <td>secondary</td>\n",
       "      <td>no</td>\n",
       "      <td>89043</td>\n",
       "      <td>no</td>\n",
       "      <td>no</td>\n",
       "      <td>cellular</td>\n",
       "      <td>7</td>\n",
       "      <td>feb</td>\n",
       "      <td>101</td>\n",
       "      <td>2</td>\n",
       "      <td>184</td>\n",
       "      <td>2</td>\n",
       "      <td>success</td>\n",
       "    </tr>\n",
       "    <tr>\n",
       "      <th>1</th>\n",
       "      <td>1</td>\n",
       "      <td>37</td>\n",
       "      <td>services</td>\n",
       "      <td>married</td>\n",
       "      <td>secondary</td>\n",
       "      <td>no</td>\n",
       "      <td>64372</td>\n",
       "      <td>yes</td>\n",
       "      <td>no</td>\n",
       "      <td>cellular</td>\n",
       "      <td>7</td>\n",
       "      <td>jul</td>\n",
       "      <td>158</td>\n",
       "      <td>3</td>\n",
       "      <td>241</td>\n",
       "      <td>0</td>\n",
       "      <td>unknown</td>\n",
       "    </tr>\n",
       "    <tr>\n",
       "      <th>2</th>\n",
       "      <td>2</td>\n",
       "      <td>31</td>\n",
       "      <td>services</td>\n",
       "      <td>single</td>\n",
       "      <td>secondary</td>\n",
       "      <td>no</td>\n",
       "      <td>31606</td>\n",
       "      <td>yes</td>\n",
       "      <td>no</td>\n",
       "      <td>unknown</td>\n",
       "      <td>15</td>\n",
       "      <td>may</td>\n",
       "      <td>152</td>\n",
       "      <td>2</td>\n",
       "      <td>47</td>\n",
       "      <td>0</td>\n",
       "      <td>unknown</td>\n",
       "    </tr>\n",
       "    <tr>\n",
       "      <th>3</th>\n",
       "      <td>3</td>\n",
       "      <td>31</td>\n",
       "      <td>admin.</td>\n",
       "      <td>married</td>\n",
       "      <td>secondary</td>\n",
       "      <td>no</td>\n",
       "      <td>94826</td>\n",
       "      <td>yes</td>\n",
       "      <td>no</td>\n",
       "      <td>cellular</td>\n",
       "      <td>27</td>\n",
       "      <td>may</td>\n",
       "      <td>345</td>\n",
       "      <td>2</td>\n",
       "      <td>490</td>\n",
       "      <td>0</td>\n",
       "      <td>unknown</td>\n",
       "    </tr>\n",
       "    <tr>\n",
       "      <th>4</th>\n",
       "      <td>4</td>\n",
       "      <td>32</td>\n",
       "      <td>services</td>\n",
       "      <td>married</td>\n",
       "      <td>secondary</td>\n",
       "      <td>no</td>\n",
       "      <td>100401</td>\n",
       "      <td>no</td>\n",
       "      <td>no</td>\n",
       "      <td>cellular</td>\n",
       "      <td>7</td>\n",
       "      <td>jan</td>\n",
       "      <td>126</td>\n",
       "      <td>1</td>\n",
       "      <td>686</td>\n",
       "      <td>0</td>\n",
       "      <td>other</td>\n",
       "    </tr>\n",
       "  </tbody>\n",
       "</table>\n",
       "</div>"
      ],
      "text/plain": [
       "   id  age         job  marital  education default  balance housing loan  \\\n",
       "0   0   35  technician   single  secondary      no    89043      no   no   \n",
       "1   1   37    services  married  secondary      no    64372     yes   no   \n",
       "2   2   31    services   single  secondary      no    31606     yes   no   \n",
       "3   3   31      admin.  married  secondary      no    94826     yes   no   \n",
       "4   4   32    services  married  secondary      no   100401      no   no   \n",
       "\n",
       "    contact  day month  duration  campaign  pdays  previous poutcome  \n",
       "0  cellular    7   feb       101         2    184         2  success  \n",
       "1  cellular    7   jul       158         3    241         0  unknown  \n",
       "2   unknown   15   may       152         2     47         0  unknown  \n",
       "3  cellular   27   may       345         2    490         0  unknown  \n",
       "4  cellular    7   jan       126         1    686         0    other  "
      ]
     },
     "execution_count": 6,
     "metadata": {},
     "output_type": "execute_result"
    }
   ],
   "source": [
    "test_data = pd.read_csv('dataset/test.csv')\n",
    "test_data.head()"
   ]
  },
  {
   "cell_type": "code",
   "execution_count": 7,
   "metadata": {},
   "outputs": [],
   "source": [
    "train_df = copy(train_data)\n",
    "x = copy(train_df)\n",
    "test_df = copy(test_data)"
   ]
  },
  {
   "cell_type": "code",
   "execution_count": 15,
   "metadata": {},
   "outputs": [],
   "source": [
    "ID = test_data['id']\n",
    "test_df['y'] = -99"
   ]
  },
  {
   "cell_type": "code",
   "execution_count": 16,
   "metadata": {},
   "outputs": [],
   "source": [
    "all_df = pd.concat([x, test_df], ignore_index=True)"
   ]
  },
  {
   "cell_type": "code",
   "execution_count": 17,
   "metadata": {},
   "outputs": [
    {
     "data": {
      "text/plain": [
       "((27100, 18), (18050, 18), (45150, 18))"
      ]
     },
     "execution_count": 17,
     "metadata": {},
     "output_type": "execute_result"
    }
   ],
   "source": [
    "x.shape, test_df.shape, all_df.shape"
   ]
  },
  {
   "cell_type": "code",
   "execution_count": 9,
   "metadata": {},
   "outputs": [
    {
     "name": "stdout",
     "output_type": "stream",
     "text": [
      "<class 'pandas.core.frame.DataFrame'>\n",
      "RangeIndex: 27100 entries, 0 to 27099\n",
      "Data columns (total 18 columns):\n",
      " #   Column     Non-Null Count  Dtype \n",
      "---  ------     --------------  ----- \n",
      " 0   id         27100 non-null  int64 \n",
      " 1   age        27100 non-null  int64 \n",
      " 2   job        27100 non-null  object\n",
      " 3   marital    27100 non-null  object\n",
      " 4   education  27100 non-null  object\n",
      " 5   default    27100 non-null  object\n",
      " 6   balance    27100 non-null  int64 \n",
      " 7   housing    27100 non-null  object\n",
      " 8   loan       27100 non-null  object\n",
      " 9   contact    27100 non-null  object\n",
      " 10  day        27100 non-null  int64 \n",
      " 11  month      27100 non-null  object\n",
      " 12  duration   27100 non-null  int64 \n",
      " 13  campaign   27100 non-null  int64 \n",
      " 14  pdays      27100 non-null  int64 \n",
      " 15  previous   27100 non-null  int64 \n",
      " 16  poutcome   27100 non-null  object\n",
      " 17  y          27100 non-null  int64 \n",
      "dtypes: int64(9), object(9)\n",
      "memory usage: 3.7+ MB\n"
     ]
    }
   ],
   "source": [
    "x.info()"
   ]
  },
  {
   "cell_type": "code",
   "execution_count": 19,
   "metadata": {},
   "outputs": [
    {
     "data": {
      "text/html": [
       "<div>\n",
       "<style scoped>\n",
       "    .dataframe tbody tr th:only-of-type {\n",
       "        vertical-align: middle;\n",
       "    }\n",
       "\n",
       "    .dataframe tbody tr th {\n",
       "        vertical-align: top;\n",
       "    }\n",
       "\n",
       "    .dataframe thead th {\n",
       "        text-align: right;\n",
       "    }\n",
       "</style>\n",
       "<table border=\"1\" class=\"dataframe\">\n",
       "  <thead>\n",
       "    <tr style=\"text-align: right;\">\n",
       "      <th></th>\n",
       "      <th>id</th>\n",
       "      <th>age</th>\n",
       "      <th>balance</th>\n",
       "      <th>day</th>\n",
       "      <th>month</th>\n",
       "      <th>duration</th>\n",
       "      <th>campaign</th>\n",
       "      <th>pdays</th>\n",
       "      <th>previous</th>\n",
       "      <th>y</th>\n",
       "    </tr>\n",
       "  </thead>\n",
       "  <tbody>\n",
       "    <tr>\n",
       "      <th>count</th>\n",
       "      <td>27100.000000</td>\n",
       "      <td>27100.000000</td>\n",
       "      <td>27100.000000</td>\n",
       "      <td>27100.000000</td>\n",
       "      <td>27100.000000</td>\n",
       "      <td>27100.000000</td>\n",
       "      <td>27100.000000</td>\n",
       "      <td>27100.000000</td>\n",
       "      <td>27100.000000</td>\n",
       "      <td>27100.000000</td>\n",
       "    </tr>\n",
       "    <tr>\n",
       "      <th>mean</th>\n",
       "      <td>13549.500000</td>\n",
       "      <td>36.073284</td>\n",
       "      <td>47682.901771</td>\n",
       "      <td>16.747565</td>\n",
       "      <td>6.001919</td>\n",
       "      <td>229.325387</td>\n",
       "      <td>1.775830</td>\n",
       "      <td>432.482399</td>\n",
       "      <td>0.085720</td>\n",
       "      <td>0.077934</td>\n",
       "    </tr>\n",
       "    <tr>\n",
       "      <th>std</th>\n",
       "      <td>7823.240484</td>\n",
       "      <td>7.816417</td>\n",
       "      <td>31650.760036</td>\n",
       "      <td>8.569588</td>\n",
       "      <td>2.137665</td>\n",
       "      <td>204.939958</td>\n",
       "      <td>0.950045</td>\n",
       "      <td>252.150648</td>\n",
       "      <td>0.365889</td>\n",
       "      <td>0.268072</td>\n",
       "    </tr>\n",
       "    <tr>\n",
       "      <th>min</th>\n",
       "      <td>0.000000</td>\n",
       "      <td>22.000000</td>\n",
       "      <td>-6847.000000</td>\n",
       "      <td>1.000000</td>\n",
       "      <td>1.000000</td>\n",
       "      <td>0.000000</td>\n",
       "      <td>1.000000</td>\n",
       "      <td>-1.000000</td>\n",
       "      <td>0.000000</td>\n",
       "      <td>0.000000</td>\n",
       "    </tr>\n",
       "    <tr>\n",
       "      <th>25%</th>\n",
       "      <td>6774.750000</td>\n",
       "      <td>31.000000</td>\n",
       "      <td>20015.750000</td>\n",
       "      <td>8.000000</td>\n",
       "      <td>5.000000</td>\n",
       "      <td>121.000000</td>\n",
       "      <td>1.000000</td>\n",
       "      <td>214.000000</td>\n",
       "      <td>0.000000</td>\n",
       "      <td>0.000000</td>\n",
       "    </tr>\n",
       "    <tr>\n",
       "      <th>50%</th>\n",
       "      <td>13549.500000</td>\n",
       "      <td>33.000000</td>\n",
       "      <td>47624.000000</td>\n",
       "      <td>17.000000</td>\n",
       "      <td>5.000000</td>\n",
       "      <td>158.000000</td>\n",
       "      <td>1.000000</td>\n",
       "      <td>432.000000</td>\n",
       "      <td>0.000000</td>\n",
       "      <td>0.000000</td>\n",
       "    </tr>\n",
       "    <tr>\n",
       "      <th>75%</th>\n",
       "      <td>20324.250000</td>\n",
       "      <td>37.000000</td>\n",
       "      <td>75330.000000</td>\n",
       "      <td>26.000000</td>\n",
       "      <td>7.000000</td>\n",
       "      <td>345.000000</td>\n",
       "      <td>2.000000</td>\n",
       "      <td>650.000000</td>\n",
       "      <td>0.000000</td>\n",
       "      <td>0.000000</td>\n",
       "    </tr>\n",
       "    <tr>\n",
       "      <th>max</th>\n",
       "      <td>27099.000000</td>\n",
       "      <td>90.000000</td>\n",
       "      <td>102121.000000</td>\n",
       "      <td>31.000000</td>\n",
       "      <td>11.000000</td>\n",
       "      <td>3076.000000</td>\n",
       "      <td>5.000000</td>\n",
       "      <td>870.000000</td>\n",
       "      <td>3.000000</td>\n",
       "      <td>1.000000</td>\n",
       "    </tr>\n",
       "  </tbody>\n",
       "</table>\n",
       "</div>"
      ],
      "text/plain": [
       "                 id           age        balance           day         month  \\\n",
       "count  27100.000000  27100.000000   27100.000000  27100.000000  27100.000000   \n",
       "mean   13549.500000     36.073284   47682.901771     16.747565      6.001919   \n",
       "std     7823.240484      7.816417   31650.760036      8.569588      2.137665   \n",
       "min        0.000000     22.000000   -6847.000000      1.000000      1.000000   \n",
       "25%     6774.750000     31.000000   20015.750000      8.000000      5.000000   \n",
       "50%    13549.500000     33.000000   47624.000000     17.000000      5.000000   \n",
       "75%    20324.250000     37.000000   75330.000000     26.000000      7.000000   \n",
       "max    27099.000000     90.000000  102121.000000     31.000000     11.000000   \n",
       "\n",
       "           duration      campaign         pdays      previous             y  \n",
       "count  27100.000000  27100.000000  27100.000000  27100.000000  27100.000000  \n",
       "mean     229.325387      1.775830    432.482399      0.085720      0.077934  \n",
       "std      204.939958      0.950045    252.150648      0.365889      0.268072  \n",
       "min        0.000000      1.000000     -1.000000      0.000000      0.000000  \n",
       "25%      121.000000      1.000000    214.000000      0.000000      0.000000  \n",
       "50%      158.000000      1.000000    432.000000      0.000000      0.000000  \n",
       "75%      345.000000      2.000000    650.000000      0.000000      0.000000  \n",
       "max     3076.000000      5.000000    870.000000      3.000000      1.000000  "
      ]
     },
     "execution_count": 19,
     "metadata": {},
     "output_type": "execute_result"
    }
   ],
   "source": [
    "x.describe()"
   ]
  },
  {
   "cell_type": "code",
   "execution_count": 10,
   "metadata": {},
   "outputs": [
    {
     "name": "stdout",
     "output_type": "stream",
     "text": [
      "<class 'pandas.core.frame.DataFrame'>\n",
      "RangeIndex: 18050 entries, 0 to 18049\n",
      "Data columns (total 17 columns):\n",
      " #   Column     Non-Null Count  Dtype \n",
      "---  ------     --------------  ----- \n",
      " 0   id         18050 non-null  int64 \n",
      " 1   age        18050 non-null  int64 \n",
      " 2   job        18050 non-null  object\n",
      " 3   marital    18050 non-null  object\n",
      " 4   education  18050 non-null  object\n",
      " 5   default    18050 non-null  object\n",
      " 6   balance    18050 non-null  int64 \n",
      " 7   housing    18050 non-null  object\n",
      " 8   loan       18050 non-null  object\n",
      " 9   contact    18050 non-null  object\n",
      " 10  day        18050 non-null  int64 \n",
      " 11  month      18050 non-null  object\n",
      " 12  duration   18050 non-null  int64 \n",
      " 13  campaign   18050 non-null  int64 \n",
      " 14  pdays      18050 non-null  int64 \n",
      " 15  previous   18050 non-null  int64 \n",
      " 16  poutcome   18050 non-null  object\n",
      "dtypes: int64(8), object(9)\n",
      "memory usage: 2.3+ MB\n"
     ]
    }
   ],
   "source": [
    "test_df.info()"
   ]
  },
  {
   "cell_type": "code",
   "execution_count": 20,
   "metadata": {},
   "outputs": [
    {
     "data": {
      "text/html": [
       "<div>\n",
       "<style scoped>\n",
       "    .dataframe tbody tr th:only-of-type {\n",
       "        vertical-align: middle;\n",
       "    }\n",
       "\n",
       "    .dataframe tbody tr th {\n",
       "        vertical-align: top;\n",
       "    }\n",
       "\n",
       "    .dataframe thead th {\n",
       "        text-align: right;\n",
       "    }\n",
       "</style>\n",
       "<table border=\"1\" class=\"dataframe\">\n",
       "  <thead>\n",
       "    <tr style=\"text-align: right;\">\n",
       "      <th></th>\n",
       "      <th>id</th>\n",
       "      <th>age</th>\n",
       "      <th>balance</th>\n",
       "      <th>day</th>\n",
       "      <th>month</th>\n",
       "      <th>duration</th>\n",
       "      <th>campaign</th>\n",
       "      <th>pdays</th>\n",
       "      <th>previous</th>\n",
       "      <th>y</th>\n",
       "    </tr>\n",
       "  </thead>\n",
       "  <tbody>\n",
       "    <tr>\n",
       "      <th>count</th>\n",
       "      <td>18050.000000</td>\n",
       "      <td>18050.000000</td>\n",
       "      <td>18050.000000</td>\n",
       "      <td>18050.000000</td>\n",
       "      <td>18050.000000</td>\n",
       "      <td>18050.000000</td>\n",
       "      <td>18050.000000</td>\n",
       "      <td>18050.000000</td>\n",
       "      <td>18050.000000</td>\n",
       "      <td>18050.0</td>\n",
       "    </tr>\n",
       "    <tr>\n",
       "      <th>mean</th>\n",
       "      <td>9024.500000</td>\n",
       "      <td>36.104266</td>\n",
       "      <td>47158.451801</td>\n",
       "      <td>16.763934</td>\n",
       "      <td>5.996454</td>\n",
       "      <td>229.315014</td>\n",
       "      <td>1.770083</td>\n",
       "      <td>436.171801</td>\n",
       "      <td>0.090859</td>\n",
       "      <td>-99.0</td>\n",
       "    </tr>\n",
       "    <tr>\n",
       "      <th>std</th>\n",
       "      <td>5210.730515</td>\n",
       "      <td>7.863805</td>\n",
       "      <td>31469.525699</td>\n",
       "      <td>8.571112</td>\n",
       "      <td>2.121859</td>\n",
       "      <td>208.796946</td>\n",
       "      <td>0.944872</td>\n",
       "      <td>251.392519</td>\n",
       "      <td>0.375801</td>\n",
       "      <td>0.0</td>\n",
       "    </tr>\n",
       "    <tr>\n",
       "      <th>min</th>\n",
       "      <td>0.000000</td>\n",
       "      <td>20.000000</td>\n",
       "      <td>-6838.000000</td>\n",
       "      <td>2.000000</td>\n",
       "      <td>1.000000</td>\n",
       "      <td>0.000000</td>\n",
       "      <td>1.000000</td>\n",
       "      <td>-1.000000</td>\n",
       "      <td>0.000000</td>\n",
       "      <td>-99.0</td>\n",
       "    </tr>\n",
       "    <tr>\n",
       "      <th>25%</th>\n",
       "      <td>4512.250000</td>\n",
       "      <td>31.000000</td>\n",
       "      <td>19654.500000</td>\n",
       "      <td>8.000000</td>\n",
       "      <td>5.000000</td>\n",
       "      <td>121.000000</td>\n",
       "      <td>1.000000</td>\n",
       "      <td>219.250000</td>\n",
       "      <td>0.000000</td>\n",
       "      <td>-99.0</td>\n",
       "    </tr>\n",
       "    <tr>\n",
       "      <th>50%</th>\n",
       "      <td>9024.500000</td>\n",
       "      <td>33.000000</td>\n",
       "      <td>46886.000000</td>\n",
       "      <td>17.000000</td>\n",
       "      <td>5.000000</td>\n",
       "      <td>158.000000</td>\n",
       "      <td>1.000000</td>\n",
       "      <td>436.000000</td>\n",
       "      <td>0.000000</td>\n",
       "      <td>-99.0</td>\n",
       "    </tr>\n",
       "    <tr>\n",
       "      <th>75%</th>\n",
       "      <td>13536.750000</td>\n",
       "      <td>37.000000</td>\n",
       "      <td>74178.000000</td>\n",
       "      <td>26.000000</td>\n",
       "      <td>7.000000</td>\n",
       "      <td>345.000000</td>\n",
       "      <td>2.000000</td>\n",
       "      <td>654.000000</td>\n",
       "      <td>0.000000</td>\n",
       "      <td>-99.0</td>\n",
       "    </tr>\n",
       "    <tr>\n",
       "      <th>max</th>\n",
       "      <td>18049.000000</td>\n",
       "      <td>90.000000</td>\n",
       "      <td>102124.000000</td>\n",
       "      <td>31.000000</td>\n",
       "      <td>11.000000</td>\n",
       "      <td>3076.000000</td>\n",
       "      <td>4.000000</td>\n",
       "      <td>870.000000</td>\n",
       "      <td>3.000000</td>\n",
       "      <td>-99.0</td>\n",
       "    </tr>\n",
       "  </tbody>\n",
       "</table>\n",
       "</div>"
      ],
      "text/plain": [
       "                 id           age        balance           day         month  \\\n",
       "count  18050.000000  18050.000000   18050.000000  18050.000000  18050.000000   \n",
       "mean    9024.500000     36.104266   47158.451801     16.763934      5.996454   \n",
       "std     5210.730515      7.863805   31469.525699      8.571112      2.121859   \n",
       "min        0.000000     20.000000   -6838.000000      2.000000      1.000000   \n",
       "25%     4512.250000     31.000000   19654.500000      8.000000      5.000000   \n",
       "50%     9024.500000     33.000000   46886.000000     17.000000      5.000000   \n",
       "75%    13536.750000     37.000000   74178.000000     26.000000      7.000000   \n",
       "max    18049.000000     90.000000  102124.000000     31.000000     11.000000   \n",
       "\n",
       "           duration      campaign         pdays      previous        y  \n",
       "count  18050.000000  18050.000000  18050.000000  18050.000000  18050.0  \n",
       "mean     229.315014      1.770083    436.171801      0.090859    -99.0  \n",
       "std      208.796946      0.944872    251.392519      0.375801      0.0  \n",
       "min        0.000000      1.000000     -1.000000      0.000000    -99.0  \n",
       "25%      121.000000      1.000000    219.250000      0.000000    -99.0  \n",
       "50%      158.000000      1.000000    436.000000      0.000000    -99.0  \n",
       "75%      345.000000      2.000000    654.000000      0.000000    -99.0  \n",
       "max     3076.000000      4.000000    870.000000      3.000000    -99.0  "
      ]
     },
     "execution_count": 20,
     "metadata": {},
     "output_type": "execute_result"
    }
   ],
   "source": [
    "test_df.describe()"
   ]
  },
  {
   "cell_type": "code",
   "execution_count": 21,
   "metadata": {},
   "outputs": [
    {
     "data": {
      "text/html": [
       "<div>\n",
       "<style scoped>\n",
       "    .dataframe tbody tr th:only-of-type {\n",
       "        vertical-align: middle;\n",
       "    }\n",
       "\n",
       "    .dataframe tbody tr th {\n",
       "        vertical-align: top;\n",
       "    }\n",
       "\n",
       "    .dataframe thead th {\n",
       "        text-align: right;\n",
       "    }\n",
       "</style>\n",
       "<table border=\"1\" class=\"dataframe\">\n",
       "  <thead>\n",
       "    <tr style=\"text-align: right;\">\n",
       "      <th></th>\n",
       "      <th>id</th>\n",
       "      <th>age</th>\n",
       "      <th>balance</th>\n",
       "      <th>day</th>\n",
       "      <th>month</th>\n",
       "      <th>duration</th>\n",
       "      <th>campaign</th>\n",
       "      <th>pdays</th>\n",
       "      <th>previous</th>\n",
       "      <th>y</th>\n",
       "    </tr>\n",
       "  </thead>\n",
       "  <tbody>\n",
       "    <tr>\n",
       "      <th>count</th>\n",
       "      <td>45150.000000</td>\n",
       "      <td>45150.000000</td>\n",
       "      <td>45150.000000</td>\n",
       "      <td>45150.000000</td>\n",
       "      <td>45150.000000</td>\n",
       "      <td>45150.000000</td>\n",
       "      <td>45150.000000</td>\n",
       "      <td>45150.000000</td>\n",
       "      <td>45150.000000</td>\n",
       "      <td>45150.000000</td>\n",
       "    </tr>\n",
       "    <tr>\n",
       "      <th>mean</th>\n",
       "      <td>11740.502215</td>\n",
       "      <td>36.085670</td>\n",
       "      <td>47473.237940</td>\n",
       "      <td>16.754109</td>\n",
       "      <td>5.999734</td>\n",
       "      <td>229.321240</td>\n",
       "      <td>1.773533</td>\n",
       "      <td>433.957342</td>\n",
       "      <td>0.087774</td>\n",
       "      <td>-39.531296</td>\n",
       "    </tr>\n",
       "    <tr>\n",
       "      <th>std</th>\n",
       "      <td>7245.862941</td>\n",
       "      <td>7.835323</td>\n",
       "      <td>31579.127347</td>\n",
       "      <td>8.570106</td>\n",
       "      <td>2.131338</td>\n",
       "      <td>206.488239</td>\n",
       "      <td>0.947974</td>\n",
       "      <td>251.851537</td>\n",
       "      <td>0.369888</td>\n",
       "      <td>48.534574</td>\n",
       "    </tr>\n",
       "    <tr>\n",
       "      <th>min</th>\n",
       "      <td>0.000000</td>\n",
       "      <td>20.000000</td>\n",
       "      <td>-6847.000000</td>\n",
       "      <td>1.000000</td>\n",
       "      <td>1.000000</td>\n",
       "      <td>0.000000</td>\n",
       "      <td>1.000000</td>\n",
       "      <td>-1.000000</td>\n",
       "      <td>0.000000</td>\n",
       "      <td>-99.000000</td>\n",
       "    </tr>\n",
       "    <tr>\n",
       "      <th>25%</th>\n",
       "      <td>5643.250000</td>\n",
       "      <td>31.000000</td>\n",
       "      <td>19890.500000</td>\n",
       "      <td>8.000000</td>\n",
       "      <td>5.000000</td>\n",
       "      <td>121.000000</td>\n",
       "      <td>1.000000</td>\n",
       "      <td>216.000000</td>\n",
       "      <td>0.000000</td>\n",
       "      <td>-99.000000</td>\n",
       "    </tr>\n",
       "    <tr>\n",
       "      <th>50%</th>\n",
       "      <td>11287.000000</td>\n",
       "      <td>33.000000</td>\n",
       "      <td>47360.500000</td>\n",
       "      <td>17.000000</td>\n",
       "      <td>5.000000</td>\n",
       "      <td>158.000000</td>\n",
       "      <td>1.000000</td>\n",
       "      <td>434.000000</td>\n",
       "      <td>0.000000</td>\n",
       "      <td>0.000000</td>\n",
       "    </tr>\n",
       "    <tr>\n",
       "      <th>75%</th>\n",
       "      <td>16930.750000</td>\n",
       "      <td>37.000000</td>\n",
       "      <td>74916.500000</td>\n",
       "      <td>26.000000</td>\n",
       "      <td>7.000000</td>\n",
       "      <td>345.000000</td>\n",
       "      <td>2.000000</td>\n",
       "      <td>652.000000</td>\n",
       "      <td>0.000000</td>\n",
       "      <td>0.000000</td>\n",
       "    </tr>\n",
       "    <tr>\n",
       "      <th>max</th>\n",
       "      <td>27099.000000</td>\n",
       "      <td>90.000000</td>\n",
       "      <td>102124.000000</td>\n",
       "      <td>31.000000</td>\n",
       "      <td>11.000000</td>\n",
       "      <td>3076.000000</td>\n",
       "      <td>5.000000</td>\n",
       "      <td>870.000000</td>\n",
       "      <td>3.000000</td>\n",
       "      <td>1.000000</td>\n",
       "    </tr>\n",
       "  </tbody>\n",
       "</table>\n",
       "</div>"
      ],
      "text/plain": [
       "                 id           age        balance           day         month  \\\n",
       "count  45150.000000  45150.000000   45150.000000  45150.000000  45150.000000   \n",
       "mean   11740.502215     36.085670   47473.237940     16.754109      5.999734   \n",
       "std     7245.862941      7.835323   31579.127347      8.570106      2.131338   \n",
       "min        0.000000     20.000000   -6847.000000      1.000000      1.000000   \n",
       "25%     5643.250000     31.000000   19890.500000      8.000000      5.000000   \n",
       "50%    11287.000000     33.000000   47360.500000     17.000000      5.000000   \n",
       "75%    16930.750000     37.000000   74916.500000     26.000000      7.000000   \n",
       "max    27099.000000     90.000000  102124.000000     31.000000     11.000000   \n",
       "\n",
       "           duration      campaign         pdays      previous             y  \n",
       "count  45150.000000  45150.000000  45150.000000  45150.000000  45150.000000  \n",
       "mean     229.321240      1.773533    433.957342      0.087774    -39.531296  \n",
       "std      206.488239      0.947974    251.851537      0.369888     48.534574  \n",
       "min        0.000000      1.000000     -1.000000      0.000000    -99.000000  \n",
       "25%      121.000000      1.000000    216.000000      0.000000    -99.000000  \n",
       "50%      158.000000      1.000000    434.000000      0.000000      0.000000  \n",
       "75%      345.000000      2.000000    652.000000      0.000000      0.000000  \n",
       "max     3076.000000      5.000000    870.000000      3.000000      1.000000  "
      ]
     },
     "execution_count": 21,
     "metadata": {},
     "output_type": "execute_result"
    }
   ],
   "source": [
    "all_df.describe()"
   ]
  },
  {
   "cell_type": "markdown",
   "metadata": {},
   "source": [
    "# ・AGE"
   ]
  },
  {
   "cell_type": "code",
   "execution_count": 24,
   "metadata": {},
   "outputs": [
    {
     "data": {
      "image/png": "[encoded data removed]",
      "text/plain": [
       "<Figure size 1152x576 with 1 Axes>"
      ]
     },
     "metadata": {
      "needs_background": "light"
     },
     "output_type": "display_data"
    }
   ],
   "source": [
    "fig, ax = plt.subplots(figsize=(16,8))\n",
    "sns.countplot(x='age', data=all_df)\n",
    "ax.set_xlabel('age', fontsize=15)\n",
    "ax.set_ylabel('count', fontsize=15)\n",
    "ax.set_title('age count', fontsize=15)\n",
    "sns.despine()"
   ]
  },
  {
   "cell_type": "code",
   "execution_count": 29,
   "metadata": {},
   "outputs": [
    {
     "data": {
      "image/png": "[encoded data removed]",
      "text/plain": [
       "<Figure size 432x288 with 1 Axes>"
      ]
     },
     "metadata": {
      "needs_background": "light"
     },
     "output_type": "display_data"
    }
   ],
   "source": [
    "g = sns.kdeplot(x['age'][x['y'] == 0], color='red', shade = True)\n",
    "g = sns.kdeplot(x['age'][x['y'] == 1], color='blue', shade = True)\n",
    "g.set_xlabel('age')\n",
    "g.set_ylabel('Frequency')\n",
    "g = g.legend(['Not appl','appl'])"
   ]
  },
  {
   "cell_type": "code",
   "execution_count": 34,
   "metadata": {},
   "outputs": [
    {
     "data": {
      "image/png": "[encoded data removed]",
      "text/plain": [
       "<Figure size 1080x360 with 2 Axes>"
      ]
     },
     "metadata": {
      "needs_background": "light"
     },
     "output_type": "display_data"
    }
   ],
   "source": [
    "fig, (ax1, ax2) = plt.subplots(1,2,figsize=(15,5))\n",
    "sns.boxplot(x='age', data=all_df, orient='v', ax=ax1)\n",
    "ax1.set_xlabel('people age', fontsize=15)\n",
    "ax1.set_ylabel('age', fontsize=15)\n",
    "ax1.set_title('age data', fontsize=15)\n",
    "ax1.tick_params(labelsize=15)\n",
    "\n",
    "sns.distplot(all_df['age'], ax=ax2)\n",
    "sns.despine(ax=ax2)\n",
    "ax2.set_xlabel('age', fontsize=15)\n",
    "ax2.set_ylabel('occurence', fontsize=15)\n",
    "ax2.set_title('age x ocucurence', fontsize=15)\n",
    "ax2.tick_params(labelsize=15)\n",
    "\n",
    "plt.subplots_adjust(wspace=0.5)\n",
    "plt.tight_layout()"
   ]
  },
  {
   "cell_type": "code",
   "execution_count": 35,
   "metadata": {},
   "outputs": [
    {
     "name": "stdout",
     "output_type": "stream",
     "text": [
      "1º Quartile:  31.0\n",
      "2º Quartile:  33.0\n",
      "3º Quartile:  37.0\n",
      "4º Quartile:  90.0\n",
      "Ages above:  46.0 are outliers\n"
     ]
    }
   ],
   "source": [
    "print('1º Quartile: ', all_df['age'].quantile(q = 0.25))\n",
    "print('2º Quartile: ', all_df['age'].quantile(q = 0.50))\n",
    "print('3º Quartile: ', all_df['age'].quantile(q = 0.75))\n",
    "print('4º Quartile: ', all_df['age'].quantile(q = 1.00))\n",
    "    \n",
    "print('Ages above: ', all_df['age'].quantile(q = 0.75) + \n",
    "                      1.5*(all_df['age'].quantile(q = 0.75) - all_df['age'].quantile(q = 0.25)), 'are outliers')"
   ]
  },
  {
   "cell_type": "code",
   "execution_count": 36,
   "metadata": {},
   "outputs": [],
   "source": [
    "def age_class(age):\n",
    "    a = ''\n",
    "    if age <= 31:\n",
    "        a = 0\n",
    "    elif age <= 33:\n",
    "        a = 1\n",
    "    elif age <= 37:\n",
    "        a = 2\n",
    "    elif age <= 46:\n",
    "        a = 3\n",
    "    else:\n",
    "        a = 4\n",
    "    return a"
   ]
  },
  {
   "cell_type": "code",
   "execution_count": 42,
   "metadata": {},
   "outputs": [],
   "source": [
    "x['age_class'] = x['age'].map(age_class)\n",
    "test_df['age_class'] = test_df['age'].map(age_class)\n",
    "all_df['age_class'] = all_df['age'].map(age_class)"
   ]
  },
  {
   "cell_type": "code",
   "execution_count": 46,
   "metadata": {},
   "outputs": [
    {
     "data": {
      "text/plain": [
       "<seaborn.axisgrid.FacetGrid at 0x7f46bb426d50>"
      ]
     },
     "execution_count": 46,
     "metadata": {},
     "output_type": "execute_result"
    },
    {
     "data": {
      "image/png": "[encoded data removed]",
      "text/plain": [
       "<Figure size 360x360 with 1 Axes>"
      ]
     },
     "metadata": {
      "needs_background": "light"
     },
     "output_type": "display_data"
    }
   ],
   "source": [
    "sns.catplot(x='age_class', kind='count', palette=('Set2'), data=all_df)"
   ]
  },
  {
   "cell_type": "code",
   "execution_count": 41,
   "metadata": {},
   "outputs": [
    {
     "data": {
      "image/png": "[encoded data removed]",
      "text/plain": [
       "<Figure size 1152x576 with 1 Axes>"
      ]
     },
     "metadata": {
      "needs_background": "light"
     },
     "output_type": "display_data"
    }
   ],
   "source": [
    "plt.figure(figsize=(16,8))\n",
    "ax = sns.countplot(x='age_class', data=x ,hue='y')\n",
    "bars = ax.patches\n",
    "half = int(len(bars)/2)\n",
    "left_bars = bars[:half]\n",
    "right_bars = bars[half:]\n",
    "\n",
    "for left, right in zip(left_bars, right_bars):\n",
    "    height_l = left.get_height()\n",
    "    height_r = right.get_height()\n",
    "    total = height_l + height_r\n",
    "\n",
    "    ax.text(left.get_x() + left.get_width()/2., height_l + 10, '{0:.0%}'.format(height_l/total), ha='center')\n",
    "    ax.text(right.get_x() + right.get_width()/2., height_r + 10, '{0:.0%}'.format(height_r/total), ha='center')"
   ]
  },
  {
   "cell_type": "markdown",
   "metadata": {},
   "source": [
    "# ・JOB"
   ]
  },
  {
   "cell_type": "code",
   "execution_count": null,
   "metadata": {},
   "outputs": [],
   "source": []
  },
  {
   "cell_type": "code",
   "execution_count": null,
   "metadata": {},
   "outputs": [],
   "source": []
  },
  {
   "cell_type": "code",
   "execution_count": null,
   "metadata": {},
   "outputs": [],
   "source": []
  },
  {
   "cell_type": "code",
   "execution_count": null,
   "metadata": {},
   "outputs": [],
   "source": []
  },
  {
   "cell_type": "code",
   "execution_count": null,
   "metadata": {},
   "outputs": [],
   "source": []
  },
  {
   "cell_type": "code",
   "execution_count": null,
   "metadata": {},
   "outputs": [],
   "source": []
  },
  {
   "cell_type": "code",
   "execution_count": null,
   "metadata": {},
   "outputs": [],
   "source": []
  },
  {
   "cell_type": "code",
   "execution_count": null,
   "metadata": {},
   "outputs": [],
   "source": []
  },
  {
   "cell_type": "code",
   "execution_count": null,
   "metadata": {},
   "outputs": [],
   "source": []
  },
  {
   "cell_type": "code",
   "execution_count": null,
   "metadata": {},
   "outputs": [],
   "source": []
  },
  {
   "cell_type": "code",
   "execution_count": null,
   "metadata": {},
   "outputs": [],
   "source": []
  },
  {
   "cell_type": "code",
   "execution_count": null,
   "metadata": {},
   "outputs": [],
   "source": []
  },
  {
   "cell_type": "code",
   "execution_count": null,
   "metadata": {},
   "outputs": [],
   "source": []
  },
  {
   "cell_type": "code",
   "execution_count": null,
   "metadata": {},
   "outputs": [],
   "source": []
  },
  {
   "cell_type": "code",
   "execution_count": null,
   "metadata": {},
   "outputs": [],
   "source": []
  },
  {
   "cell_type": "code",
   "execution_count": null,
   "metadata": {},
   "outputs": [],
   "source": []
  },
  {
   "cell_type": "code",
   "execution_count": null,
   "metadata": {},
   "outputs": [],
   "source": []
  },
  {
   "cell_type": "code",
   "execution_count": null,
   "metadata": {},
   "outputs": [],
   "source": []
  },
  {
   "cell_type": "code",
   "execution_count": null,
   "metadata": {},
   "outputs": [],
   "source": []
  },
  {
   "cell_type": "code",
   "execution_count": null,
   "metadata": {},
   "outputs": [],
   "source": []
  },
  {
   "cell_type": "markdown",
   "metadata": {},
   "source": [
    "# <時間>"
   ]
  },
  {
   "cell_type": "code",
   "execution_count": 11,
   "metadata": {},
   "outputs": [
    {
     "name": "stdout",
     "output_type": "stream",
     "text": [
      "['nov' 'aug' 'may' 'apr' 'sep' 'jun' 'jul' 'feb' 'oct' 'jan' 'mar']\n",
      "11\n"
     ]
    }
   ],
   "source": [
    "print(pd.unique(x.month))\n",
    "print(len(pd.unique(x.month)))"
   ]
  },
  {
   "cell_type": "code",
   "execution_count": 12,
   "metadata": {},
   "outputs": [
    {
     "name": "stdout",
     "output_type": "stream",
     "text": [
      "['feb' 'jul' 'may' 'jan' 'jun' 'aug' 'apr' 'sep' 'nov' 'oct' 'mar']\n",
      "11\n"
     ]
    }
   ],
   "source": [
    "print(pd.unique(test_df.month))\n",
    "print(len(pd.unique(test_df.month)))"
   ]
  },
  {
   "cell_type": "code",
   "execution_count": 13,
   "metadata": {},
   "outputs": [],
   "source": [
    "month_dict = {\"jan\": 1, \"feb\": 2, \"mar\": 3, \"apr\": 4, \"may\": 5, \"jun\": 6, \n",
    "              \"jul\": 7, \"aug\": 8, \"sep\": 9, \"oct\": 10, \"nov\": 11, \"dec\": 12}\n",
    "\n",
    "x['month'] = x['month'].map(month_dict)\n",
    "x['month'] = x['month'].map(int, month_dict)\n",
    "test_df['month'] = test_df['month'].map(month_dict)\n",
    "test_df['month'] = test_df['month'].map(int, month_dict)"
   ]
  },
  {
   "cell_type": "code",
   "execution_count": 14,
   "metadata": {},
   "outputs": [
    {
     "data": {
      "text/plain": [
       "<matplotlib.axes._subplots.AxesSubplot at 0x7f46cdd3a9d0>"
      ]
     },
     "execution_count": 14,
     "metadata": {},
     "output_type": "execute_result"
    },
    {
     "name": "stderr",
     "output_type": "stream",
     "text": [
      "findfont: Font family ['sans-serif'] not found. Falling back to DejaVu Sans.\n",
      "findfont: Font family ['sans-serif'] not found. Falling back to DejaVu Sans.\n",
      "findfont: Font family ['sans-serif'] not found. Falling back to DejaVu Sans.\n"
     ]
    },
    {
     "data": {
      "image/png": "[encoded data removed]",
      "text/plain": [
       "<Figure size 432x288 with 1 Axes>"
      ]
     },
     "metadata": {
      "needs_background": "light"
     },
     "output_type": "display_data"
    },
    {
     "data": {
      "image/png": "[encoded data removed]",
      "text/plain": [
       "<Figure size 432x288 with 1 Axes>"
      ]
     },
     "metadata": {
      "needs_background": "light"
     },
     "output_type": "display_data"
    }
   ],
   "source": [
    "pd.crosstab(x.month, x.y).plot(kind='bar', stacked=True, title='y by month')\n",
    "pd.crosstab(x.month, x.y, normalize='index').plot(kind='bar', stacked=True, title='y by month(%)')"
   ]
  },
  {
   "cell_type": "code",
   "execution_count": 12,
   "metadata": {},
   "outputs": [
    {
     "name": "stdout",
     "output_type": "stream",
     "text": [
      "27    4129\n",
      "7     1919\n",
      "18    1732\n",
      "20    1693\n",
      "16    1681\n",
      "2     1495\n",
      "15    1451\n",
      "21    1328\n",
      "17    1285\n",
      "26    1172\n",
      "30    1143\n",
      "8     1142\n",
      "12    1060\n",
      "28    1044\n",
      "4      872\n",
      "3      806\n",
      "13     618\n",
      "6      502\n",
      "14     435\n",
      "9      376\n",
      "11     324\n",
      "23     268\n",
      "5      199\n",
      "19     140\n",
      "22     124\n",
      "25     116\n",
      "29      38\n",
      "10       4\n",
      "31       3\n",
      "1        1\n",
      "Name: day, dtype: int64\n"
     ]
    }
   ],
   "source": [
    "print(x['day'].value_counts())"
   ]
  },
  {
   "cell_type": "code",
   "execution_count": 13,
   "metadata": {},
   "outputs": [
    {
     "data": {
      "text/plain": [
       "<matplotlib.axes._subplots.AxesSubplot at 0x7fbd93571710>"
      ]
     },
     "execution_count": 13,
     "metadata": {},
     "output_type": "execute_result"
    },
    {
     "data": {
      "image/png": "[encoded data removed]",
      "text/plain": [
       "<Figure size 432x288 with 1 Axes>"
      ]
     },
     "metadata": {
      "needs_background": "light"
     },
     "output_type": "display_data"
    },
    {
     "data": {
      "image/png": "[encoded data removed]",
      "text/plain": [
       "<Figure size 432x288 with 1 Axes>"
      ]
     },
     "metadata": {
      "needs_background": "light"
     },
     "output_type": "display_data"
    }
   ],
   "source": [
    "pd.crosstab(x.day, x.y).plot(kind='bar', stacked=True, title='y by day')\n",
    "pd.crosstab(x.day, x.y, normalize='index').plot(kind='bar', stacked=True, title='y by day(%)')"
   ]
  },
  {
   "cell_type": "code",
   "execution_count": 14,
   "metadata": {},
   "outputs": [],
   "source": [
    "def month_div1(month):\n",
    "    a = ''\n",
    "    if month <= 3:\n",
    "        a = 0\n",
    "    elif month <= 6:\n",
    "        a = 1\n",
    "    elif month <= 9:\n",
    "        a = 2\n",
    "    else:\n",
    "        a = 3\n",
    "    return a"
   ]
  },
  {
   "cell_type": "code",
   "execution_count": 15,
   "metadata": {},
   "outputs": [],
   "source": [
    "def month_div2(month):\n",
    "    a = ''\n",
    "    if month <= 4:\n",
    "        a = 0\n",
    "    elif month <= 8:\n",
    "        a = 1\n",
    "    else:\n",
    "        a = 2\n",
    "    return a"
   ]
  },
  {
   "cell_type": "code",
   "execution_count": 16,
   "metadata": {},
   "outputs": [],
   "source": [
    "x['month_class'] = x['month'].map(month_div1)\n",
    "test_df['month_class'] = test_df['month'].map(month_div1)"
   ]
  },
  {
   "cell_type": "code",
   "execution_count": 17,
   "metadata": {},
   "outputs": [
    {
     "data": {
      "text/plain": [
       "<matplotlib.axes._subplots.AxesSubplot at 0x7fbd93455090>"
      ]
     },
     "execution_count": 17,
     "metadata": {},
     "output_type": "execute_result"
    },
    {
     "data": {
      "image/png": "[encoded data removed]",
      "text/plain": [
       "<Figure size 432x288 with 1 Axes>"
      ]
     },
     "metadata": {
      "needs_background": "light"
     },
     "output_type": "display_data"
    },
    {
     "data": {
      "image/png": "[encoded data removed]",
      "text/plain": [
       "<Figure size 432x288 with 1 Axes>"
      ]
     },
     "metadata": {
      "needs_background": "light"
     },
     "output_type": "display_data"
    }
   ],
   "source": [
    "pd.crosstab(x.month_class, x.y).plot(kind='bar', stacked=True, title='y by month')\n",
    "pd.crosstab(x.month_class, x.y, normalize='index').plot(kind='bar', stacked=True, title='y by month(%)')"
   ]
  },
  {
   "cell_type": "code",
   "execution_count": 18,
   "metadata": {},
   "outputs": [],
   "source": [
    "def day_div(day):\n",
    "    a = ''\n",
    "    if day <= 10:\n",
    "        a = 0\n",
    "    elif day <= 20:\n",
    "        a = 1\n",
    "    else:\n",
    "        a =2\n",
    "    return a"
   ]
  },
  {
   "cell_type": "code",
   "execution_count": 19,
   "metadata": {},
   "outputs": [],
   "source": [
    "x['day_class'] = x['day'].map(day_div)\n",
    "test_df['day_class'] = test_df['day'].map(day_div)"
   ]
  },
  {
   "cell_type": "code",
   "execution_count": 20,
   "metadata": {},
   "outputs": [
    {
     "data": {
      "text/plain": [
       "<matplotlib.axes._subplots.AxesSubplot at 0x7fbd933016d0>"
      ]
     },
     "execution_count": 20,
     "metadata": {},
     "output_type": "execute_result"
    },
    {
     "data": {
      "image/png": "[encoded data removed]",
      "text/plain": [
       "<Figure size 432x288 with 1 Axes>"
      ]
     },
     "metadata": {
      "needs_background": "light"
     },
     "output_type": "display_data"
    },
    {
     "data": {
      "image/png": "[encoded data removed]",
      "text/plain": [
       "<Figure size 432x288 with 1 Axes>"
      ]
     },
     "metadata": {
      "needs_background": "light"
     },
     "output_type": "display_data"
    }
   ],
   "source": [
    "pd.crosstab(x.day_class, x.y).plot(kind='bar', stacked=True, title='y by day')\n",
    "pd.crosstab(x.day_class, x.y, normalize='index').plot(kind='bar', stacked=True, title='y by day(%)')"
   ]
  },
  {
   "cell_type": "code",
   "execution_count": 21,
   "metadata": {},
   "outputs": [
    {
     "data": {
      "image/png": "[encoded data removed]",
      "text/plain": [
       "<Figure size 432x288 with 1 Axes>"
      ]
     },
     "metadata": {
      "needs_background": "light"
     },
     "output_type": "display_data"
    }
   ],
   "source": [
    "g = sns.kdeplot(x['duration'][x['y'] == 0], color='red', shade = True)\n",
    "g = sns.kdeplot(x['duration'][x['y'] == 1], color='blue', shade = True)\n",
    "g.set_xlabel('duration')\n",
    "g.set_ylabel('Frequency')\n",
    "g = g.legend(['Not appl','appl'])"
   ]
  },
  {
   "cell_type": "code",
   "execution_count": 22,
   "metadata": {},
   "outputs": [],
   "source": [
    "tmp_x = copy(train_data)\n",
    "tmp_test = copy(test_data)\n",
    "\n",
    "x['duration'] = [sec // 60 for sec in tmp_x.duration]\n",
    "tmp_test['duration'] = [sec // 60 for sec in tmp_test.duration]\n",
    "\n",
    "del tmp_x, tmp_test"
   ]
  },
  {
   "cell_type": "code",
   "execution_count": 23,
   "metadata": {},
   "outputs": [
    {
     "name": "stdout",
     "output_type": "stream",
     "text": [
      "min:0, max:51\n"
     ]
    }
   ],
   "source": [
    "min_min = x['duration'].min()\n",
    "min_max = x['duration'].max()\n",
    "\n",
    "print('min:{}, max:{}'.format(min_min, min_max))"
   ]
  },
  {
   "cell_type": "code",
   "execution_count": 24,
   "metadata": {},
   "outputs": [],
   "source": [
    "def duration_class(duration):\n",
    "    a = ''\n",
    "    if duration <= 0:\n",
    "        a = 0\n",
    "    elif duration <= 5:\n",
    "        a = 1\n",
    "    else:\n",
    "        a = 2\n",
    "    return a\n"
   ]
  },
  {
   "cell_type": "code",
   "execution_count": 25,
   "metadata": {},
   "outputs": [],
   "source": [
    "x['duration_class'] = x['duration'].map(duration_class)\n",
    "test_df['duration_class'] = test_df['duration'].map(duration_class)"
   ]
  },
  {
   "cell_type": "code",
   "execution_count": 26,
   "metadata": {},
   "outputs": [
    {
     "data": {
      "text/plain": [
       "<matplotlib.axes._subplots.AxesSubplot at 0x7fbd90957650>"
      ]
     },
     "execution_count": 26,
     "metadata": {},
     "output_type": "execute_result"
    },
    {
     "data": {
      "image/png": "[encoded data removed]",
      "text/plain": [
       "<Figure size 432x288 with 1 Axes>"
      ]
     },
     "metadata": {
      "needs_background": "light"
     },
     "output_type": "display_data"
    },
    {
     "data": {
      "image/png": "[encoded data removed]",
      "text/plain": [
       "<Figure size 432x288 with 1 Axes>"
      ]
     },
     "metadata": {
      "needs_background": "light"
     },
     "output_type": "display_data"
    }
   ],
   "source": [
    "pd.crosstab(x.duration_class, x.y).plot(kind='bar', stacked=True, title='y by duration_class')\n",
    "pd.crosstab(x.duration_class, x.y, normalize='index').plot(kind='bar', stacked=True, title='y by duration_class(%)')"
   ]
  },
  {
   "cell_type": "code",
   "execution_count": 27,
   "metadata": {},
   "outputs": [
    {
     "data": {
      "text/plain": [
       "cellular     19147\n",
       "unknown       6849\n",
       "telephone     1104\n",
       "Name: contact, dtype: int64"
      ]
     },
     "execution_count": 27,
     "metadata": {},
     "output_type": "execute_result"
    }
   ],
   "source": [
    "x['contact'].value_counts()"
   ]
  },
  {
   "cell_type": "code",
   "execution_count": 28,
   "metadata": {},
   "outputs": [
    {
     "data": {
      "text/plain": [
       "<matplotlib.axes._subplots.AxesSubplot at 0x7fbd932492d0>"
      ]
     },
     "execution_count": 28,
     "metadata": {},
     "output_type": "execute_result"
    },
    {
     "data": {
      "image/png": "[encoded data removed]",
      "text/plain": [
       "<Figure size 432x288 with 1 Axes>"
      ]
     },
     "metadata": {
      "needs_background": "light"
     },
     "output_type": "display_data"
    },
    {
     "data": {
      "image/png": "[encoded data removed]",
      "text/plain": [
       "<Figure size 432x288 with 1 Axes>"
      ]
     },
     "metadata": {
      "needs_background": "light"
     },
     "output_type": "display_data"
    }
   ],
   "source": [
    "pd.crosstab(x.contact, x.y).plot(kind='bar', stacked=True, title='y by contact')\n",
    "pd.crosstab(x.contact, x.y, normalize='index').plot(kind='bar', stacked=True, title='y by contact(%)')"
   ]
  },
  {
   "cell_type": "code",
   "execution_count": null,
   "metadata": {},
   "outputs": [],
   "source": []
  },
  {
   "cell_type": "code",
   "execution_count": null,
   "metadata": {},
   "outputs": [],
   "source": []
  },
  {
   "cell_type": "markdown",
   "metadata": {},
   "source": [
    "# <平均残高>"
   ]
  },
  {
   "cell_type": "code",
   "execution_count": 35,
   "metadata": {},
   "outputs": [
    {
     "data": {
      "image/png": "[encoded data removed]",
      "text/plain": [
       "<Figure size 432x288 with 1 Axes>"
      ]
     },
     "metadata": {
      "needs_background": "light"
     },
     "output_type": "display_data"
    }
   ],
   "source": [
    "g = sns.kdeplot(x['balance'][x['y'] == 0], color='red', shade = True)\n",
    "g = sns.kdeplot(x['balance'][x['y'] == 1], color='blue', shade = True)\n",
    "g.set_xlabel('balance')\n",
    "g.set_ylabel('Frequency')\n",
    "g = g.legend(['Not appl','appl'])"
   ]
  },
  {
   "cell_type": "code",
   "execution_count": null,
   "metadata": {},
   "outputs": [],
   "source": []
  },
  {
   "cell_type": "markdown",
   "metadata": {},
   "source": [
    "# <ローンと債務不履行>"
   ]
  },
  {
   "cell_type": "code",
   "execution_count": 36,
   "metadata": {},
   "outputs": [
    {
     "data": {
      "text/plain": [
       "<matplotlib.axes._subplots.AxesSubplot at 0x7fbd9466f190>"
      ]
     },
     "execution_count": 36,
     "metadata": {},
     "output_type": "execute_result"
    },
    {
     "data": {
      "image/png": "[encoded data removed]",
      "text/plain": [
       "<Figure size 432x288 with 1 Axes>"
      ]
     },
     "metadata": {
      "needs_background": "light"
     },
     "output_type": "display_data"
    },
    {
     "data": {
      "image/png": "[encoded data removed]",
      "text/plain": [
       "<Figure size 432x288 with 1 Axes>"
      ]
     },
     "metadata": {
      "needs_background": "light"
     },
     "output_type": "display_data"
    }
   ],
   "source": [
    "pd.crosstab(x.housing, x.y).plot(kind='bar', stacked=True, title='y by housing')\n",
    "pd.crosstab(x.housing, x.y, normalize='index').plot(kind='bar', stacked=True, title='y by housing(%)')"
   ]
  },
  {
   "cell_type": "code",
   "execution_count": 37,
   "metadata": {},
   "outputs": [
    {
     "data": {
      "text/plain": [
       "<matplotlib.axes._subplots.AxesSubplot at 0x7fbd9072bc90>"
      ]
     },
     "execution_count": 37,
     "metadata": {},
     "output_type": "execute_result"
    },
    {
     "data": {
      "image/png": "[encoded data removed]",
      "text/plain": [
       "<Figure size 432x288 with 1 Axes>"
      ]
     },
     "metadata": {
      "needs_background": "light"
     },
     "output_type": "display_data"
    },
    {
     "data": {
      "image/png": "[encoded data removed]",
      "text/plain": [
       "<Figure size 432x288 with 1 Axes>"
      ]
     },
     "metadata": {
      "needs_background": "light"
     },
     "output_type": "display_data"
    }
   ],
   "source": [
    "pd.crosstab(x.loan, x.y).plot(kind='bar', stacked=True, title='y by loan')\n",
    "pd.crosstab(x.loan, x.y, normalize='index').plot(kind='bar', stacked=True, title='y by loan(%)')"
   ]
  },
  {
   "cell_type": "code",
   "execution_count": 38,
   "metadata": {},
   "outputs": [
    {
     "data": {
      "text/plain": [
       "<matplotlib.axes._subplots.AxesSubplot at 0x7fbd906e5f90>"
      ]
     },
     "execution_count": 38,
     "metadata": {},
     "output_type": "execute_result"
    },
    {
     "data": {
      "image/png": "[encoded data removed]",
      "text/plain": [
       "<Figure size 432x288 with 1 Axes>"
      ]
     },
     "metadata": {
      "needs_background": "light"
     },
     "output_type": "display_data"
    },
    {
     "data": {
      "image/png": "[encoded data removed]",
      "text/plain": [
       "<Figure size 432x288 with 1 Axes>"
      ]
     },
     "metadata": {
      "needs_background": "light"
     },
     "output_type": "display_data"
    }
   ],
   "source": [
    "pd.crosstab(x.default, x.y).plot(kind='bar', stacked=True, title='y by default')\n",
    "pd.crosstab(x.default, x.y, normalize='index').plot(kind='bar', stacked=True, title='y by default(%)')"
   ]
  },
  {
   "cell_type": "code",
   "execution_count": null,
   "metadata": {},
   "outputs": [],
   "source": []
  },
  {
   "cell_type": "code",
   "execution_count": null,
   "metadata": {},
   "outputs": [],
   "source": []
  },
  {
   "cell_type": "markdown",
   "metadata": {},
   "source": [
    "# <ステータス>"
   ]
  },
  {
   "cell_type": "code",
   "execution_count": null,
   "metadata": {},
   "outputs": [],
   "source": [
    "pd.crosstab(x.marital, x.y).plot(kind='bar', stacked=True, title='y by marital')\n",
    "pd.crosstab(x.marital, x.y, normalize='index').plot(kind='bar', stacked=True, title='y by marital(%)')"
   ]
  },
  {
   "cell_type": "code",
   "execution_count": null,
   "metadata": {},
   "outputs": [],
   "source": [
    "pd.crosstab(x.education, x.y).plot(kind='bar', stacked=True, title='y by education')\n",
    "pd.crosstab(x.education, x.y, normalize='index').plot(kind='bar', stacked=True, title='y by education(%)')"
   ]
  },
  {
   "cell_type": "code",
   "execution_count": null,
   "metadata": {},
   "outputs": [],
   "source": [
    "pd.crosstab(x.job, x.y).plot(kind='bar', stacked=True, title='y by job')\n",
    "pd.crosstab(x.job, x.y, normalize='index').plot(kind='bar', stacked=True, title='y by job(%)')"
   ]
  },
  {
   "cell_type": "code",
   "execution_count": null,
   "metadata": {},
   "outputs": [],
   "source": [
    "x['job'].value_counts()"
   ]
  },
  {
   "cell_type": "code",
   "execution_count": null,
   "metadata": {},
   "outputs": [],
   "source": [
    "test_df['job'].value_counts()"
   ]
  },
  {
   "cell_type": "code",
   "execution_count": null,
   "metadata": {},
   "outputs": [],
   "source": [
    "test_df[test_df['job'] == 'unknown']"
   ]
  },
  {
   "cell_type": "code",
   "execution_count": null,
   "metadata": {},
   "outputs": [],
   "source": [
    "find_df = x[\n",
    "            (26 <= x['age'])\n",
    "          &(x['age'] <= 32)\n",
    "          & (x['marital'] == 'married')\n",
    "          & (x['default'] == 'no')\n",
    "          & (x['housing'] == 'no')\n",
    "          & (x['loan'] == 'no')\n",
    "          & (9000 <= x['balance'])\n",
    "          & (x['balance'] <= 12000)\n",
    "         ]\n",
    "\n",
    "print(find_df['job'].value_counts())"
   ]
  },
  {
   "cell_type": "code",
   "execution_count": null,
   "metadata": {},
   "outputs": [],
   "source": [
    "find_df.groupby('job').median()['balance']"
   ]
  },
  {
   "cell_type": "code",
   "execution_count": null,
   "metadata": {},
   "outputs": [],
   "source": [
    "test_df['job'].iloc[10810] = 'management'\n",
    "\n",
    "del find_df"
   ]
  },
  {
   "cell_type": "markdown",
   "metadata": {},
   "source": [
    "# <キャンペーン関連>"
   ]
  },
  {
   "cell_type": "code",
   "execution_count": null,
   "metadata": {},
   "outputs": [],
   "source": [
    "train_data[((train_data['pdays'] == -1)\n",
    "           | (train_data['pdays'] == 0))\n",
    "           & (train_data['y'] == 1)]"
   ]
  },
  {
   "cell_type": "code",
   "execution_count": null,
   "metadata": {},
   "outputs": [],
   "source": [
    "train_data[((train_data['pdays'] == -1)\n",
    "           | (train_data['pdays'] == 0))].count()['id']"
   ]
  },
  {
   "cell_type": "code",
   "execution_count": null,
   "metadata": {},
   "outputs": [],
   "source": [
    "tmp_x = copy(train_data)\n",
    "tmp_test = copy(test_data)\n",
    "\n",
    "x['pdays'] = [days // 30 for days in tmp_x.pdays]\n",
    "test_df['pdays'] = [days // 30 for days in tmp_test.pdays]\n",
    "\n",
    "del tmp_x, tmp_test"
   ]
  },
  {
   "cell_type": "code",
   "execution_count": null,
   "metadata": {},
   "outputs": [],
   "source": [
    "pd.crosstab(x.pdays, x.y).plot(kind='bar', stacked=True, title='y by pdays')\n",
    "pd.crosstab(x.pdays, x.y, normalize='index').plot(kind='bar', stacked=True, title='y by pdays(%)')"
   ]
  },
  {
   "cell_type": "code",
   "execution_count": null,
   "metadata": {},
   "outputs": [],
   "source": [
    "x[['previous', 'y']].groupby(['previous'], as_index=False).mean().sort_values(by='previous')"
   ]
  },
  {
   "cell_type": "code",
   "execution_count": null,
   "metadata": {},
   "outputs": [],
   "source": [
    "x[['campaign', 'y']].groupby(['campaign'], as_index=False).mean().sort_values(by='campaign')"
   ]
  },
  {
   "cell_type": "code",
   "execution_count": null,
   "metadata": {},
   "outputs": [],
   "source": [
    "x[x['campaign'] == 5]"
   ]
  },
  {
   "cell_type": "code",
   "execution_count": null,
   "metadata": {},
   "outputs": [],
   "source": [
    "def campaign_contact1(campaign):\n",
    "    a = ''\n",
    "    if campaign >= 1:\n",
    "        a = 0\n",
    "    else:\n",
    "        a = 0\n",
    "    return a"
   ]
  },
  {
   "cell_type": "code",
   "execution_count": null,
   "metadata": {},
   "outputs": [],
   "source": [
    "def campaign_contact2(campaign):\n",
    "    a = ''\n",
    "    if campaign == 0:\n",
    "        a = 0\n",
    "    elif campaign == 1:\n",
    "        a = 1\n",
    "    elif campaign == 2:\n",
    "        a = 2\n",
    "    elif campaign == 3:\n",
    "        a = 3\n",
    "    else:\n",
    "        a = 4\n",
    "    return a"
   ]
  },
  {
   "cell_type": "code",
   "execution_count": null,
   "metadata": {},
   "outputs": [],
   "source": [
    "x['campaign_contact'] = x['campaign'].map(campaign_contact1)\n",
    "test_df['campaign_contact'] = test_df['campaign'].map(campaign_contact1)"
   ]
  },
  {
   "cell_type": "code",
   "execution_count": null,
   "metadata": {},
   "outputs": [],
   "source": [
    "x[['campaign_contact', 'y']].groupby(['campaign_contact'], as_index=False).mean().sort_values(by='campaign_contact')"
   ]
  },
  {
   "cell_type": "code",
   "execution_count": null,
   "metadata": {},
   "outputs": [],
   "source": [
    "x[['poutcome', 'y']].groupby(['poutcome'], as_index=False).mean().sort_values(by='poutcome')"
   ]
  },
  {
   "cell_type": "code",
   "execution_count": null,
   "metadata": {},
   "outputs": [],
   "source": [
    "x['success'] = [1 if i == 'success' else 0 for i in x.poutcome]\n",
    "test_df['success'] = [1 if i == 'success' else 0 for i in test_df.poutcome]"
   ]
  },
  {
   "cell_type": "code",
   "execution_count": null,
   "metadata": {},
   "outputs": [],
   "source": [
    "x[['success', 'y']].groupby(['success'], as_index=False).mean().sort_values(by='success')"
   ]
  },
  {
   "cell_type": "code",
   "execution_count": null,
   "metadata": {},
   "outputs": [],
   "source": []
  },
  {
   "cell_type": "markdown",
   "metadata": {},
   "source": [
    "# <相関>"
   ]
  },
  {
   "cell_type": "code",
   "execution_count": 67,
   "metadata": {},
   "outputs": [],
   "source": [
    "x_tmp = copy(x)"
   ]
  },
  {
   "cell_type": "code",
   "execution_count": 68,
   "metadata": {},
   "outputs": [
    {
     "data": {
      "text/html": [
       "<div>\n",
       "<style scoped>\n",
       "    .dataframe tbody tr th:only-of-type {\n",
       "        vertical-align: middle;\n",
       "    }\n",
       "\n",
       "    .dataframe tbody tr th {\n",
       "        vertical-align: top;\n",
       "    }\n",
       "\n",
       "    .dataframe thead th {\n",
       "        text-align: right;\n",
       "    }\n",
       "</style>\n",
       "<table border=\"1\" class=\"dataframe\">\n",
       "  <thead>\n",
       "    <tr style=\"text-align: right;\">\n",
       "      <th></th>\n",
       "      <th>id</th>\n",
       "      <th>age</th>\n",
       "      <th>job</th>\n",
       "      <th>marital</th>\n",
       "      <th>education</th>\n",
       "      <th>default</th>\n",
       "      <th>balance</th>\n",
       "      <th>housing</th>\n",
       "      <th>loan</th>\n",
       "      <th>contact</th>\n",
       "      <th>...</th>\n",
       "      <th>duration</th>\n",
       "      <th>campaign</th>\n",
       "      <th>pdays</th>\n",
       "      <th>previous</th>\n",
       "      <th>poutcome</th>\n",
       "      <th>y</th>\n",
       "      <th>month_class</th>\n",
       "      <th>day_class</th>\n",
       "      <th>duration_class</th>\n",
       "      <th>age_class</th>\n",
       "    </tr>\n",
       "  </thead>\n",
       "  <tbody>\n",
       "    <tr>\n",
       "      <th>0</th>\n",
       "      <td>0</td>\n",
       "      <td>31</td>\n",
       "      <td>services</td>\n",
       "      <td>married</td>\n",
       "      <td>secondary</td>\n",
       "      <td>no</td>\n",
       "      <td>12294</td>\n",
       "      <td>yes</td>\n",
       "      <td>no</td>\n",
       "      <td>cellular</td>\n",
       "      <td>...</td>\n",
       "      <td>1</td>\n",
       "      <td>3</td>\n",
       "      <td>498</td>\n",
       "      <td>0</td>\n",
       "      <td>other</td>\n",
       "      <td>0</td>\n",
       "      <td>3</td>\n",
       "      <td>2</td>\n",
       "      <td>1</td>\n",
       "      <td>1</td>\n",
       "    </tr>\n",
       "    <tr>\n",
       "      <th>1</th>\n",
       "      <td>1</td>\n",
       "      <td>29</td>\n",
       "      <td>entrepreneur</td>\n",
       "      <td>single</td>\n",
       "      <td>tertiary</td>\n",
       "      <td>no</td>\n",
       "      <td>43027</td>\n",
       "      <td>no</td>\n",
       "      <td>no</td>\n",
       "      <td>cellular</td>\n",
       "      <td>...</td>\n",
       "      <td>2</td>\n",
       "      <td>2</td>\n",
       "      <td>702</td>\n",
       "      <td>0</td>\n",
       "      <td>unknown</td>\n",
       "      <td>1</td>\n",
       "      <td>2</td>\n",
       "      <td>2</td>\n",
       "      <td>1</td>\n",
       "      <td>0</td>\n",
       "    </tr>\n",
       "    <tr>\n",
       "      <th>2</th>\n",
       "      <td>2</td>\n",
       "      <td>35</td>\n",
       "      <td>management</td>\n",
       "      <td>married</td>\n",
       "      <td>tertiary</td>\n",
       "      <td>no</td>\n",
       "      <td>12252</td>\n",
       "      <td>yes</td>\n",
       "      <td>no</td>\n",
       "      <td>cellular</td>\n",
       "      <td>...</td>\n",
       "      <td>5</td>\n",
       "      <td>1</td>\n",
       "      <td>826</td>\n",
       "      <td>0</td>\n",
       "      <td>failure</td>\n",
       "      <td>0</td>\n",
       "      <td>3</td>\n",
       "      <td>1</td>\n",
       "      <td>1</td>\n",
       "      <td>1</td>\n",
       "    </tr>\n",
       "    <tr>\n",
       "      <th>3</th>\n",
       "      <td>3</td>\n",
       "      <td>31</td>\n",
       "      <td>technician</td>\n",
       "      <td>married</td>\n",
       "      <td>secondary</td>\n",
       "      <td>no</td>\n",
       "      <td>99121</td>\n",
       "      <td>yes</td>\n",
       "      <td>yes</td>\n",
       "      <td>unknown</td>\n",
       "      <td>...</td>\n",
       "      <td>10</td>\n",
       "      <td>2</td>\n",
       "      <td>120</td>\n",
       "      <td>0</td>\n",
       "      <td>failure</td>\n",
       "      <td>0</td>\n",
       "      <td>1</td>\n",
       "      <td>1</td>\n",
       "      <td>2</td>\n",
       "      <td>1</td>\n",
       "    </tr>\n",
       "    <tr>\n",
       "      <th>4</th>\n",
       "      <td>4</td>\n",
       "      <td>48</td>\n",
       "      <td>unemployed</td>\n",
       "      <td>married</td>\n",
       "      <td>primary</td>\n",
       "      <td>no</td>\n",
       "      <td>42005</td>\n",
       "      <td>yes</td>\n",
       "      <td>no</td>\n",
       "      <td>telephone</td>\n",
       "      <td>...</td>\n",
       "      <td>2</td>\n",
       "      <td>1</td>\n",
       "      <td>273</td>\n",
       "      <td>0</td>\n",
       "      <td>unknown</td>\n",
       "      <td>0</td>\n",
       "      <td>1</td>\n",
       "      <td>0</td>\n",
       "      <td>1</td>\n",
       "      <td>2</td>\n",
       "    </tr>\n",
       "  </tbody>\n",
       "</table>\n",
       "<p>5 rows × 22 columns</p>\n",
       "</div>"
      ],
      "text/plain": [
       "   id  age           job  marital  education default  balance housing loan  \\\n",
       "0   0   31      services  married  secondary      no    12294     yes   no   \n",
       "1   1   29  entrepreneur   single   tertiary      no    43027      no   no   \n",
       "2   2   35    management  married   tertiary      no    12252     yes   no   \n",
       "3   3   31    technician  married  secondary      no    99121     yes  yes   \n",
       "4   4   48    unemployed  married    primary      no    42005     yes   no   \n",
       "\n",
       "     contact  ...  duration  campaign  pdays  previous  poutcome  y  \\\n",
       "0   cellular  ...         1         3    498         0     other  0   \n",
       "1   cellular  ...         2         2    702         0   unknown  1   \n",
       "2   cellular  ...         5         1    826         0   failure  0   \n",
       "3    unknown  ...        10         2    120         0   failure  0   \n",
       "4  telephone  ...         2         1    273         0   unknown  0   \n",
       "\n",
       "  month_class  day_class  duration_class  age_class  \n",
       "0           3          2               1          1  \n",
       "1           2          2               1          0  \n",
       "2           3          1               1          1  \n",
       "3           1          1               2          1  \n",
       "4           1          0               1          2  \n",
       "\n",
       "[5 rows x 22 columns]"
      ]
     },
     "execution_count": 68,
     "metadata": {},
     "output_type": "execute_result"
    }
   ],
   "source": [
    "x_tmp.head()"
   ]
  },
  {
   "cell_type": "code",
   "execution_count": 69,
   "metadata": {},
   "outputs": [
    {
     "name": "stdout",
     "output_type": "stream",
     "text": [
      "<class 'pandas.core.frame.DataFrame'>\n",
      "RangeIndex: 27100 entries, 0 to 27099\n",
      "Data columns (total 22 columns):\n",
      " #   Column          Non-Null Count  Dtype \n",
      "---  ------          --------------  ----- \n",
      " 0   id              27100 non-null  int64 \n",
      " 1   age             27100 non-null  int64 \n",
      " 2   job             27100 non-null  object\n",
      " 3   marital         27100 non-null  object\n",
      " 4   education       27100 non-null  object\n",
      " 5   default         27100 non-null  object\n",
      " 6   balance         27100 non-null  int64 \n",
      " 7   housing         27100 non-null  object\n",
      " 8   loan            27100 non-null  object\n",
      " 9   contact         27100 non-null  object\n",
      " 10  day             27100 non-null  int64 \n",
      " 11  month           27100 non-null  int64 \n",
      " 12  duration        27100 non-null  int64 \n",
      " 13  campaign        27100 non-null  int64 \n",
      " 14  pdays           27100 non-null  int64 \n",
      " 15  previous        27100 non-null  int64 \n",
      " 16  poutcome        27100 non-null  object\n",
      " 17  y               27100 non-null  int64 \n",
      " 18  month_class     27100 non-null  int64 \n",
      " 19  day_class       27100 non-null  int64 \n",
      " 20  duration_class  27100 non-null  int64 \n",
      " 21  age_class       27100 non-null  int64 \n",
      "dtypes: int64(14), object(8)\n",
      "memory usage: 4.5+ MB\n"
     ]
    }
   ],
   "source": [
    "x_tmp.info()"
   ]
  },
  {
   "cell_type": "code",
   "execution_count": 72,
   "metadata": {},
   "outputs": [],
   "source": [
    "x_tmp = x[['month_class', 'day_class', 'age_class', 'duration_class', 'y']]"
   ]
  },
  {
   "cell_type": "code",
   "execution_count": 74,
   "metadata": {},
   "outputs": [
    {
     "data": {
      "text/plain": [
       "<matplotlib.axes._subplots.AxesSubplot at 0x7fbd37e5e390>"
      ]
     },
     "execution_count": 74,
     "metadata": {},
     "output_type": "execute_result"
    },
    {
     "data": {
      "image/png": "[encoded data removed]",
      "text/plain": [
       "<Figure size 432x288 with 2 Axes>"
      ]
     },
     "metadata": {
      "needs_background": "light"
     },
     "output_type": "display_data"
    }
   ],
   "source": [
    "corr = x_tmp.corr()\n",
    "sns.heatmap(corr, square=True, annot=True, cmap=\"YlGnBu\")"
   ]
  },
  {
   "cell_type": "code",
   "execution_count": null,
   "metadata": {},
   "outputs": [],
   "source": [
    "del x_tmp, corr"
   ]
  },
  {
   "cell_type": "code",
   "execution_count": null,
   "metadata": {},
   "outputs": [],
   "source": []
  },
  {
   "cell_type": "code",
   "execution_count": null,
   "metadata": {},
   "outputs": [],
   "source": []
  },
  {
   "cell_type": "code",
   "execution_count": null,
   "metadata": {},
   "outputs": [],
   "source": []
  },
  {
   "cell_type": "code",
   "execution_count": null,
   "metadata": {},
   "outputs": [],
   "source": []
  },
  {
   "cell_type": "code",
   "execution_count": null,
   "metadata": {},
   "outputs": [],
   "source": []
  },
  {
   "cell_type": "code",
   "execution_count": null,
   "metadata": {},
   "outputs": [],
   "source": []
  },
  {
   "cell_type": "code",
   "execution_count": null,
   "metadata": {},
   "outputs": [],
   "source": []
  },
  {
   "cell_type": "code",
   "execution_count": null,
   "metadata": {},
   "outputs": [],
   "source": []
  },
  {
   "cell_type": "markdown",
   "metadata": {},
   "source": [
    "# <数値変換>"
   ]
  },
  {
   "cell_type": "code",
   "execution_count": null,
   "metadata": {},
   "outputs": [],
   "source": [
    "x.info()"
   ]
  },
  {
   "cell_type": "code",
   "execution_count": null,
   "metadata": {},
   "outputs": [],
   "source": [
    "test_df.info()"
   ]
  },
  {
   "cell_type": "code",
   "execution_count": null,
   "metadata": {},
   "outputs": [],
   "source": [
    "drop_col = ['month', 'day', 'duration', 'age', 'campaign', 'poutcome']\n",
    "\n",
    "x = x.drop(columns=drop_col)\n",
    "\n",
    "train_df = train_data.drop(columns=drop_col)\n",
    "test_df = test_df.drop(columns=drop_col)"
   ]
  },
  {
   "cell_type": "code",
   "execution_count": null,
   "metadata": {},
   "outputs": [],
   "source": [
    "main_df = pd.concat([x, test_df], ignore_index=True)"
   ]
  },
  {
   "cell_type": "code",
   "execution_count": null,
   "metadata": {},
   "outputs": [],
   "source": [
    "num_features = ['balance']\n",
    "\n",
    "for col in num_features:\n",
    "    scaler = StandardScaler()\n",
    "    scaler.fit(np.array(main_df[col].values).reshape(-1, 1))\n",
    "    x[col] = scaler.transform(np.array(train_df[col].values).reshape(-1, 1))\n",
    "    \n",
    "for col in num_features:\n",
    "    scaler = StandardScaler()\n",
    "    scaler.fit(np.array(main_df[col].values).reshape(-1, 1))\n",
    "    test_df[col] = scaler.transform(np.array(test_df[col].values).reshape(-1, 1))"
   ]
  },
  {
   "cell_type": "code",
   "execution_count": null,
   "metadata": {},
   "outputs": [],
   "source": [
    "cat_features = ['job', 'marital', 'education', 'default', 'housing', 'loan',\n",
    "               'contact']\n",
    "\n",
    "for col in cat_features:\n",
    "    cat = set(x[col].unique().tolist() + test_df[col].unique().tolist())\n",
    "    \n",
    "    x[col] = pd.Categorical(x[col], categories=cat)\n",
    "    test_df[col] = pd.Categorical(test_df[col], categories=cat)"
   ]
  },
  {
   "cell_type": "code",
   "execution_count": null,
   "metadata": {},
   "outputs": [],
   "source": [
    "x = pd.get_dummies(x, drop_first=True)\n",
    "test_df = pd.get_dummies(test_df, drop_first=True)"
   ]
  },
  {
   "cell_type": "code",
   "execution_count": null,
   "metadata": {},
   "outputs": [],
   "source": [
    "x.info()"
   ]
  },
  {
   "cell_type": "code",
   "execution_count": null,
   "metadata": {},
   "outputs": [],
   "source": [
    "test_df.info()"
   ]
  },
  {
   "cell_type": "code",
   "execution_count": null,
   "metadata": {},
   "outputs": [],
   "source": []
  },
  {
   "cell_type": "code",
   "execution_count": null,
   "metadata": {},
   "outputs": [],
   "source": []
  },
  {
   "cell_type": "code",
   "execution_count": null,
   "metadata": {},
   "outputs": [],
   "source": [
    "now = datetime.datetime.now()\n",
    "\n",
    "fname_x = 'dataset/train_' + now.strftime('%d_%H%M') + '.csv'\n",
    "fname_test = 'dataset/test_' + now.strftime('%d_%H%M') + '.csv'\n",
    "\n",
    "x.to_csv(fname_x, index=False)\n",
    "test_df.to_csv(fname_test, index=False)"
   ]
  },
  {
   "cell_type": "code",
   "execution_count": null,
   "metadata": {},
   "outputs": [],
   "source": []
  },
  {
   "cell_type": "code",
   "execution_count": null,
   "metadata": {},
   "outputs": [],
   "source": []
  },
  {
   "cell_type": "code",
   "execution_count": null,
   "metadata": {},
   "outputs": [],
   "source": []
  },
  {
   "cell_type": "code",
   "execution_count": null,
   "metadata": {},
   "outputs": [],
   "source": []
  },
  {
   "cell_type": "code",
   "execution_count": null,
   "metadata": {},
   "outputs": [],
   "source": []
  },
  {
   "cell_type": "code",
   "execution_count": null,
   "metadata": {},
   "outputs": [],
   "source": []
  }
 ],
 "metadata": {
  "kernelspec": {
   "display_name": "Python 3",
   "language": "python",
   "name": "python3"
  },
  "language_info": {
   "codemirror_mode": {
    "name": "ipython",
    "version": 3
   },
   "file_extension": ".py",
   "mimetype": "text/x-python",
   "name": "python",
   "nbconvert_exporter": "python",
   "pygments_lexer": "ipython3",
   "version": "3.7.7"
  }
 },
 "nbformat": 4,
 "nbformat_minor": 4
}
