{
 "cells": [
  {
   "cell_type": "code",
   "execution_count": 1,
   "metadata": {},
   "outputs": [],
   "source": [
    "import datetime\n",
    "from copy import copy\n",
    "import numpy as np\n",
    "import pandas as pd\n",
    "import matplotlib.pyplot as plt\n",
    "%matplotlib inline\n",
    "import seaborn as sns\n",
    "import ipywidgets\n",
    "import pickle\n",
    "import gc\n",
    "\n",
    "from sklearn.model_selection import train_test_split, StratifiedKFold, cross_val_score, cross_validate\n",
    "from sklearn.metrics import accuracy_score, roc_auc_score\n",
    "\n",
    "from sklearn.ensemble import RandomForestClassifier\n",
    "import xgboost\n",
    "from xgboost import XGBClassifier\n",
    "from lightgbm import LGBMClassifier\n",
    "from catboost import CatBoostClassifier, cv, Pool\n",
    "import optuna\n",
    "from optuna.integration import lightgbm as lgb"
   ]
  },
  {
   "cell_type": "code",
   "execution_count": 2,
   "metadata": {},
   "outputs": [],
   "source": [
    "train_df = pd.read_csv('dataset/train_16_0246.csv')\n",
    "test_df = pd.read_csv('dataset/test_16_0246.csv')"
   ]
  },
  {
   "cell_type": "code",
   "execution_count": 3,
   "metadata": {},
   "outputs": [],
   "source": [
    "ID = test_df['id']\n",
    "x = train_df.drop(columns=['y', 'id'])\n",
    "y = train_df['y']\n",
    "test_df = test_df.drop(columns=['y', 'id'])"
   ]
  },
  {
   "cell_type": "code",
   "execution_count": 4,
   "metadata": {},
   "outputs": [],
   "source": [
    "x_train, x_test, y_train, y_test = train_test_split(x, y,\n",
    "                                                    test_size=0.35,\n",
    "                                                    stratify=y,\n",
    "                                                    shuffle=True,\n",
    "                                                    random_state=18)"
   ]
  },
  {
   "cell_type": "markdown",
   "metadata": {},
   "source": [
    "# ＜Random Forest＞"
   ]
  },
  {
   "cell_type": "code",
   "execution_count": null,
   "metadata": {},
   "outputs": [],
   "source": [
    "def objective_rf(trial):\n",
    "    \n",
    "    param_rf = {\n",
    "    'n_estimators': 1200,\n",
    "    'criterion': trial.suggest_categorical('criterion', ['gini', 'entropy']),\n",
    "    'max_depth': trial.suggest_int('max_depth', 7, 20),\n",
    "    'min_samples_split': trial.suggest_int('min_samples_split', 2, 16),\n",
    "    'random_state': 1215,\n",
    "    'verbose': 0\n",
    "    }\n",
    "    \n",
    "    rf = RandomForestClassifier(**param_rf)\n",
    "    k = 5\n",
    "    skf = StratifiedKFold(n_splits=k, shuffle=True, random_state=18)\n",
    "    \n",
    "    scoring = 'roc_auc'\n",
    "    cv_output = cross_validate(rf, x_train, y_train, scoring=scoring, cv=skf, return_estimator=True)\n",
    "    \n",
    "    return cv_output['test_score'].mean()"
   ]
  },
  {
   "cell_type": "code",
   "execution_count": null,
   "metadata": {},
   "outputs": [],
   "source": [
    "%%time\n",
    "\n",
    "study_rf = optuna.create_study(direction='maximize')\n",
    "study_rf.optimize(objective_rf, n_trials=100)\n",
    "print(study_rf.best_params)\n",
    "print(study_rf.best_value)\n",
    "rf_best_params = study_rf.best_params"
   ]
  },
  {
   "cell_type": "code",
   "execution_count": null,
   "metadata": {},
   "outputs": [],
   "source": [
    "rf_best_params"
   ]
  },
  {
   "cell_type": "code",
   "execution_count": null,
   "metadata": {},
   "outputs": [],
   "source": [
    "rf_best_params = {\n",
    "    'n_estimators': 1200,\n",
    "    'criterion': 'entropy',\n",
    "    'max_depth': 10,\n",
    "    'min_samples_split': 22,\n",
    "    'random_state': 18,\n",
    "    'verbose': 0\n",
    "}\n",
    "\n",
    "\n",
    "rf = RandomForestClassifier(**rf_best_params, n_jobs=-1)\n",
    "rf.fit(x_train, y_train)"
   ]
  },
  {
   "cell_type": "code",
   "execution_count": null,
   "metadata": {},
   "outputs": [],
   "source": [
    "train_score_rf = rf.score(x_train, y_train)\n",
    "test_score_rf = rf.score(x_test, y_test)\n",
    "\n",
    "rf_p = rf.predict(x_test)\n",
    "\n",
    "acc_rf = accuracy_score(rf_p, y_test)\n",
    "auc_rf = roc_auc_score(rf_p, y_test)\n",
    "\n",
    "print('train score:{}, test_score:{}'.format(train_score_rf, test_score_rf))\n",
    "print('acc:{}, auc:{}'.format(acc_rf, auc_rf))"
   ]
  },
  {
   "cell_type": "code",
   "execution_count": null,
   "metadata": {},
   "outputs": [],
   "source": [
    "features = x_train.columns\n",
    "importances = rf.feature_importances_\n",
    "indices = np.argsort(importances)\n",
    "\n",
    "plt.figure(figsize=(6,6))\n",
    "plt.barh(range(len(indices)), importances[indices], color='darkviolet', align='center')\n",
    "plt.yticks(range(len(indices)), features[indices])\n",
    "plt.show()"
   ]
  },
  {
   "cell_type": "code",
   "execution_count": null,
   "metadata": {},
   "outputs": [],
   "source": [
    "pred_rf = rf.predict_proba(test_df)\n",
    "rf_p = pd.DataFrame(pred_rf)\n",
    "rf_p.head()"
   ]
  },
  {
   "cell_type": "code",
   "execution_count": null,
   "metadata": {},
   "outputs": [],
   "source": [
    "now = datetime.datetime.now()\n",
    "\n",
    "rf_name = 'models/RF_' + now.strftime('%d_%H%M') + '.pkl'\n",
    "pickle.dump(rf, open(rf_name, 'wb'))"
   ]
  },
  {
   "cell_type": "markdown",
   "metadata": {},
   "source": [
    "# ＜XGBoost＞"
   ]
  },
  {
   "cell_type": "code",
   "execution_count": 5,
   "metadata": {},
   "outputs": [],
   "source": [
    "def obj_xgb(trial):\n",
    "    \n",
    "    param_xgb = {\n",
    "        'objective': 'binary:logistic',\n",
    "        'booster': 'dart',\n",
    "        'eval_metric': 'auc',\n",
    "        'eta': 0.01,\n",
    "        'n_estimators': 1000,\n",
    "        'early_stopping_rounds': 100,\n",
    "        'max_depth': trial.suggest_int('max_depth', 7, 12),\n",
    "        'min_child_weight': trial.suggest_int('min_child_weight', 1, 5),\n",
    "        'subsample': trial.suggest_discrete_uniform('subsample', 0.8, 1.0, 0.1),\n",
    "        'colsample_bytree': trial.suggest_discrete_uniform('colsample_bytree', 0.80, 1.00, 0.05),\n",
    "        'gamma': 0.0,\n",
    "        'alpha': 0.0,\n",
    "        'seed': 18\n",
    "    }\n",
    "    \n",
    "    xgb = XGBClassifier(**param_xgb)\n",
    "    k = 5\n",
    "    skf = StratifiedKFold(n_splits=k, shuffle=True, random_state=18)\n",
    "    \n",
    "    scoring = 'roc_auc'\n",
    "    cv_output = cross_validate(xgb, x_train, y_train, scoring=scoring, cv=skf)\n",
    "    \n",
    "    return cv_output['test_score'].mean()"
   ]
  },
  {
   "cell_type": "code",
   "execution_count": 6,
   "metadata": {
    "collapsed": true,
    "jupyter": {
     "outputs_hidden": true
    }
   },
   "outputs": [
    {
     "name": "stderr",
     "output_type": "stream",
     "text": [
      "[I 2020-08-28 05:22:03,395] Finished trial#0 resulted in value: 0.8464100736984193. Current best value is 0.8464100736984193 with parameters: {'max_depth': 11, 'min_child_weight': 4, 'subsample': 0.8, 'colsample_bytree': 1.0}.\n",
      "[I 2020-08-28 05:29:48,398] Finished trial#1 resulted in value: 0.8506338810779287. Current best value is 0.8506338810779287 with parameters: {'max_depth': 7, 'min_child_weight': 1, 'subsample': 0.8, 'colsample_bytree': 0.8}.\n",
      "[I 2020-08-28 05:39:32,953] Finished trial#2 resulted in value: 0.8403898824117914. Current best value is 0.8506338810779287 with parameters: {'max_depth': 7, 'min_child_weight': 1, 'subsample': 0.8, 'colsample_bytree': 0.8}.\n",
      "[I 2020-08-28 05:49:59,023] Finished trial#3 resulted in value: 0.8491352319493174. Current best value is 0.8506338810779287 with parameters: {'max_depth': 7, 'min_child_weight': 1, 'subsample': 0.8, 'colsample_bytree': 0.8}.\n",
      "[I 2020-08-28 06:00:08,703] Finished trial#4 resulted in value: 0.8478259986953361. Current best value is 0.8506338810779287 with parameters: {'max_depth': 7, 'min_child_weight': 1, 'subsample': 0.8, 'colsample_bytree': 0.8}.\n",
      "[I 2020-08-28 06:08:38,480] Finished trial#5 resulted in value: 0.8489539563444648. Current best value is 0.8506338810779287 with parameters: {'max_depth': 7, 'min_child_weight': 1, 'subsample': 0.8, 'colsample_bytree': 0.8}.\n",
      "[I 2020-08-28 06:17:23,287] Finished trial#6 resulted in value: 0.8341647120258223. Current best value is 0.8506338810779287 with parameters: {'max_depth': 7, 'min_child_weight': 1, 'subsample': 0.8, 'colsample_bytree': 0.8}.\n",
      "[I 2020-08-28 06:24:41,681] Finished trial#7 resulted in value: 0.8499741529915917. Current best value is 0.8506338810779287 with parameters: {'max_depth': 7, 'min_child_weight': 1, 'subsample': 0.8, 'colsample_bytree': 0.8}.\n",
      "[I 2020-08-28 06:34:16,285] Finished trial#8 resulted in value: 0.8491698658175661. Current best value is 0.8506338810779287 with parameters: {'max_depth': 7, 'min_child_weight': 1, 'subsample': 0.8, 'colsample_bytree': 0.8}.\n",
      "[I 2020-08-28 06:46:18,465] Finished trial#9 resulted in value: 0.8399497215709262. Current best value is 0.8506338810779287 with parameters: {'max_depth': 7, 'min_child_weight': 1, 'subsample': 0.8, 'colsample_bytree': 0.8}.\n",
      "[I 2020-08-28 06:53:46,738] Finished trial#10 resulted in value: 0.8520275434871006. Current best value is 0.8520275434871006 with parameters: {'max_depth': 7, 'min_child_weight': 2, 'subsample': 0.8, 'colsample_bytree': 0.8}.\n",
      "[I 2020-08-28 07:01:14,278] Finished trial#11 resulted in value: 0.8520275434871006. Current best value is 0.8520275434871006 with parameters: {'max_depth': 7, 'min_child_weight': 2, 'subsample': 0.8, 'colsample_bytree': 0.8}.\n",
      "[I 2020-08-28 07:08:40,918] Finished trial#12 resulted in value: 0.8520275434871006. Current best value is 0.8520275434871006 with parameters: {'max_depth': 7, 'min_child_weight': 2, 'subsample': 0.8, 'colsample_bytree': 0.8}.\n",
      "[I 2020-08-28 07:17:40,844] Finished trial#13 resulted in value: 0.8495690137461374. Current best value is 0.8520275434871006 with parameters: {'max_depth': 7, 'min_child_weight': 2, 'subsample': 0.8, 'colsample_bytree': 0.8}.\n",
      "[I 2020-08-28 07:30:51,195] Finished trial#14 resulted in value: 0.8446189989867058. Current best value is 0.8520275434871006 with parameters: {'max_depth': 7, 'min_child_weight': 2, 'subsample': 0.8, 'colsample_bytree': 0.8}.\n",
      "[I 2020-08-28 07:38:03,948] Finished trial#15 resulted in value: 0.8520318352617181. Current best value is 0.8520318352617181 with parameters: {'max_depth': 7, 'min_child_weight': 3, 'subsample': 0.9, 'colsample_bytree': 0.8500000000000001}.\n",
      "[I 2020-08-28 07:45:43,339] Finished trial#16 resulted in value: 0.8479820904704143. Current best value is 0.8520318352617181 with parameters: {'max_depth': 7, 'min_child_weight': 3, 'subsample': 0.9, 'colsample_bytree': 0.8500000000000001}.\n",
      "[I 2020-08-28 07:55:26,304] Finished trial#17 resulted in value: 0.8469373927176449. Current best value is 0.8520318352617181 with parameters: {'max_depth': 7, 'min_child_weight': 3, 'subsample': 0.9, 'colsample_bytree': 0.8500000000000001}.\n",
      "[I 2020-08-28 08:02:22,551] Finished trial#18 resulted in value: 0.8532908805510815. Current best value is 0.8532908805510815 with parameters: {'max_depth': 7, 'min_child_weight': 5, 'subsample': 0.9, 'colsample_bytree': 0.8500000000000001}.\n",
      "[I 2020-08-28 08:11:31,718] Finished trial#19 resulted in value: 0.8506200885405623. Current best value is 0.8532908805510815 with parameters: {'max_depth': 7, 'min_child_weight': 5, 'subsample': 0.9, 'colsample_bytree': 0.8500000000000001}.\n",
      "[I 2020-08-28 08:18:34,555] Finished trial#20 resulted in value: 0.845777278744805. Current best value is 0.8532908805510815 with parameters: {'max_depth': 7, 'min_child_weight': 5, 'subsample': 0.9, 'colsample_bytree': 0.8500000000000001}.\n",
      "[I 2020-08-28 08:25:40,543] Finished trial#21 resulted in value: 0.8522301350445607. Current best value is 0.8532908805510815 with parameters: {'max_depth': 7, 'min_child_weight': 5, 'subsample': 0.9, 'colsample_bytree': 0.8500000000000001}.\n",
      "[I 2020-08-28 08:32:44,523] Finished trial#22 resulted in value: 0.8522301350445607. Current best value is 0.8532908805510815 with parameters: {'max_depth': 7, 'min_child_weight': 5, 'subsample': 0.9, 'colsample_bytree': 0.8500000000000001}.\n",
      "[I 2020-08-28 08:39:50,670] Finished trial#23 resulted in value: 0.8522301350445607. Current best value is 0.8532908805510815 with parameters: {'max_depth': 7, 'min_child_weight': 5, 'subsample': 0.9, 'colsample_bytree': 0.8500000000000001}.\n",
      "[I 2020-08-28 08:47:59,574] Finished trial#24 resulted in value: 0.8516719804800692. Current best value is 0.8532908805510815 with parameters: {'max_depth': 7, 'min_child_weight': 5, 'subsample': 0.9, 'colsample_bytree': 0.8500000000000001}.\n",
      "[I 2020-08-28 08:55:08,338] Finished trial#25 resulted in value: 0.8522301350445607. Current best value is 0.8532908805510815 with parameters: {'max_depth': 7, 'min_child_weight': 5, 'subsample': 0.9, 'colsample_bytree': 0.8500000000000001}.\n",
      "[I 2020-08-28 09:03:33,853] Finished trial#26 resulted in value: 0.8511148839214189. Current best value is 0.8532908805510815 with parameters: {'max_depth': 7, 'min_child_weight': 5, 'subsample': 0.9, 'colsample_bytree': 0.8500000000000001}.\n",
      "[I 2020-08-28 09:11:50,967] Finished trial#27 resulted in value: 0.845526001336046. Current best value is 0.8532908805510815 with parameters: {'max_depth': 7, 'min_child_weight': 5, 'subsample': 0.9, 'colsample_bytree': 0.8500000000000001}.\n",
      "[I 2020-08-28 09:23:22,788] Finished trial#28 resulted in value: 0.8448367244374821. Current best value is 0.8532908805510815 with parameters: {'max_depth': 7, 'min_child_weight': 5, 'subsample': 0.9, 'colsample_bytree': 0.8500000000000001}.\n",
      "[I 2020-08-28 09:34:39,611] Finished trial#29 resulted in value: 0.8485359916681426. Current best value is 0.8532908805510815 with parameters: {'max_depth': 7, 'min_child_weight': 5, 'subsample': 0.9, 'colsample_bytree': 0.8500000000000001}.\n",
      "[I 2020-08-28 09:41:10,002] Finished trial#30 resulted in value: 0.8499222730108368. Current best value is 0.8532908805510815 with parameters: {'max_depth': 7, 'min_child_weight': 5, 'subsample': 0.9, 'colsample_bytree': 0.8500000000000001}.\n",
      "[I 2020-08-28 09:48:18,605] Finished trial#31 resulted in value: 0.8522301350445607. Current best value is 0.8532908805510815 with parameters: {'max_depth': 7, 'min_child_weight': 5, 'subsample': 0.9, 'colsample_bytree': 0.8500000000000001}.\n",
      "[I 2020-08-28 09:55:23,963] Finished trial#32 resulted in value: 0.8522301350445607. Current best value is 0.8532908805510815 with parameters: {'max_depth': 7, 'min_child_weight': 5, 'subsample': 0.9, 'colsample_bytree': 0.8500000000000001}.\n",
      "[I 2020-08-28 10:02:24,849] Finished trial#33 resulted in value: 0.8516097937352949. Current best value is 0.8532908805510815 with parameters: {'max_depth': 7, 'min_child_weight': 5, 'subsample': 0.9, 'colsample_bytree': 0.8500000000000001}.\n",
      "[I 2020-08-28 10:11:09,349] Finished trial#34 resulted in value: 0.8502718738481951. Current best value is 0.8532908805510815 with parameters: {'max_depth': 7, 'min_child_weight': 5, 'subsample': 0.9, 'colsample_bytree': 0.8500000000000001}.\n",
      "[I 2020-08-28 10:18:08,507] Finished trial#35 resulted in value: 0.8532908805510815. Current best value is 0.8532908805510815 with parameters: {'max_depth': 7, 'min_child_weight': 5, 'subsample': 0.9, 'colsample_bytree': 0.8500000000000001}.\n",
      "[I 2020-08-28 10:26:23,683] Finished trial#36 resulted in value: 0.8518621974333754. Current best value is 0.8532908805510815 with parameters: {'max_depth': 7, 'min_child_weight': 5, 'subsample': 0.9, 'colsample_bytree': 0.8500000000000001}.\n",
      "[I 2020-08-28 10:33:24,338] Finished trial#37 resulted in value: 0.8532908805510815. Current best value is 0.8532908805510815 with parameters: {'max_depth': 7, 'min_child_weight': 5, 'subsample': 0.9, 'colsample_bytree': 0.8500000000000001}.\n",
      "[I 2020-08-28 10:39:55,770] Finished trial#38 resulted in value: 0.8499222730108368. Current best value is 0.8532908805510815 with parameters: {'max_depth': 7, 'min_child_weight': 5, 'subsample': 0.9, 'colsample_bytree': 0.8500000000000001}.\n",
      "[I 2020-08-28 10:48:11,224] Finished trial#39 resulted in value: 0.8518621974333754. Current best value is 0.8532908805510815 with parameters: {'max_depth': 7, 'min_child_weight': 5, 'subsample': 0.9, 'colsample_bytree': 0.8500000000000001}.\n",
      "[I 2020-08-28 10:55:06,743] Finished trial#40 resulted in value: 0.8532908805510815. Current best value is 0.8532908805510815 with parameters: {'max_depth': 7, 'min_child_weight': 5, 'subsample': 0.9, 'colsample_bytree': 0.8500000000000001}.\n",
      "[I 2020-08-28 11:02:02,083] Finished trial#41 resulted in value: 0.8532908805510815. Current best value is 0.8532908805510815 with parameters: {'max_depth': 7, 'min_child_weight': 5, 'subsample': 0.9, 'colsample_bytree': 0.8500000000000001}.\n",
      "[I 2020-08-28 11:08:58,378] Finished trial#42 resulted in value: 0.8532908805510815. Current best value is 0.8532908805510815 with parameters: {'max_depth': 7, 'min_child_weight': 5, 'subsample': 0.9, 'colsample_bytree': 0.8500000000000001}.\n",
      "[I 2020-08-28 11:15:51,832] Finished trial#43 resulted in value: 0.8532908805510815. Current best value is 0.8532908805510815 with parameters: {'max_depth': 7, 'min_child_weight': 5, 'subsample': 0.9, 'colsample_bytree': 0.8500000000000001}.\n",
      "[I 2020-08-28 11:24:01,522] Finished trial#44 resulted in value: 0.8518621974333754. Current best value is 0.8532908805510815 with parameters: {'max_depth': 7, 'min_child_weight': 5, 'subsample': 0.9, 'colsample_bytree': 0.8500000000000001}.\n",
      "[I 2020-08-28 11:30:56,218] Finished trial#45 resulted in value: 0.8532908805510815. Current best value is 0.8532908805510815 with parameters: {'max_depth': 7, 'min_child_weight': 5, 'subsample': 0.9, 'colsample_bytree': 0.8500000000000001}.\n",
      "[I 2020-08-28 11:37:51,556] Finished trial#46 resulted in value: 0.8532908805510815. Current best value is 0.8532908805510815 with parameters: {'max_depth': 7, 'min_child_weight': 5, 'subsample': 0.9, 'colsample_bytree': 0.8500000000000001}.\n",
      "[I 2020-08-28 11:46:04,835] Finished trial#47 resulted in value: 0.8527435471733853. Current best value is 0.8532908805510815 with parameters: {'max_depth': 7, 'min_child_weight': 5, 'subsample': 0.9, 'colsample_bytree': 0.8500000000000001}.\n",
      "[I 2020-08-28 11:53:01,542] Finished trial#48 resulted in value: 0.8532908805510815. Current best value is 0.8532908805510815 with parameters: {'max_depth': 7, 'min_child_weight': 5, 'subsample': 0.9, 'colsample_bytree': 0.8500000000000001}.\n",
      "[I 2020-08-28 12:03:40,935] Finished trial#49 resulted in value: 0.8499880042170144. Current best value is 0.8532908805510815 with parameters: {'max_depth': 7, 'min_child_weight': 5, 'subsample': 0.9, 'colsample_bytree': 0.8500000000000001}.\n",
      "[I 2020-08-28 12:10:36,335] Finished trial#50 resulted in value: 0.8532908805510815. Current best value is 0.8532908805510815 with parameters: {'max_depth': 7, 'min_child_weight': 5, 'subsample': 0.9, 'colsample_bytree': 0.8500000000000001}.\n",
      "[I 2020-08-28 12:17:33,055] Finished trial#51 resulted in value: 0.8532908805510815. Current best value is 0.8532908805510815 with parameters: {'max_depth': 7, 'min_child_weight': 5, 'subsample': 0.9, 'colsample_bytree': 0.8500000000000001}.\n",
      "[I 2020-08-28 12:24:29,206] Finished trial#52 resulted in value: 0.8532908805510815. Current best value is 0.8532908805510815 with parameters: {'max_depth': 7, 'min_child_weight': 5, 'subsample': 0.9, 'colsample_bytree': 0.8500000000000001}.\n",
      "[I 2020-08-28 12:31:21,852] Finished trial#53 resulted in value: 0.8532908805510815. Current best value is 0.8532908805510815 with parameters: {'max_depth': 7, 'min_child_weight': 5, 'subsample': 0.9, 'colsample_bytree': 0.8500000000000001}.\n",
      "[I 2020-08-28 12:39:28,934] Finished trial#54 resulted in value: 0.8518621974333754. Current best value is 0.8532908805510815 with parameters: {'max_depth': 7, 'min_child_weight': 5, 'subsample': 0.9, 'colsample_bytree': 0.8500000000000001}.\n",
      "[I 2020-08-28 12:46:20,306] Finished trial#55 resulted in value: 0.8532908805510815. Current best value is 0.8532908805510815 with parameters: {'max_depth': 7, 'min_child_weight': 5, 'subsample': 0.9, 'colsample_bytree': 0.8500000000000001}.\n",
      "[I 2020-08-28 12:53:11,164] Finished trial#56 resulted in value: 0.8532908805510815. Current best value is 0.8532908805510815 with parameters: {'max_depth': 7, 'min_child_weight': 5, 'subsample': 0.9, 'colsample_bytree': 0.8500000000000001}.\n",
      "[I 2020-08-28 13:01:18,244] Finished trial#57 resulted in value: 0.8518621974333754. Current best value is 0.8532908805510815 with parameters: {'max_depth': 7, 'min_child_weight': 5, 'subsample': 0.9, 'colsample_bytree': 0.8500000000000001}.\n",
      "[I 2020-08-28 13:08:14,595] Finished trial#58 resulted in value: 0.8536475593553243. Current best value is 0.8536475593553243 with parameters: {'max_depth': 7, 'min_child_weight': 5, 'subsample': 0.8, 'colsample_bytree': 0.8}.\n",
      "[I 2020-08-28 13:15:17,688] Finished trial#59 resulted in value: 0.8536152980453661. Current best value is 0.8536475593553243 with parameters: {'max_depth': 7, 'min_child_weight': 5, 'subsample': 0.8, 'colsample_bytree': 0.8}.\n",
      "[I 2020-08-28 13:23:39,434] Finished trial#60 resulted in value: 0.8525579446493452. Current best value is 0.8536475593553243 with parameters: {'max_depth': 7, 'min_child_weight': 5, 'subsample': 0.8, 'colsample_bytree': 0.8}.\n",
      "[I 2020-08-28 13:30:34,204] Finished trial#61 resulted in value: 0.8536475593553243. Current best value is 0.8536475593553243 with parameters: {'max_depth': 7, 'min_child_weight': 5, 'subsample': 0.8, 'colsample_bytree': 0.8}.\n",
      "[I 2020-08-28 13:37:37,408] Finished trial#62 resulted in value: 0.8536152980453661. Current best value is 0.8536475593553243 with parameters: {'max_depth': 7, 'min_child_weight': 5, 'subsample': 0.8, 'colsample_bytree': 0.8}.\n",
      "[I 2020-08-28 13:44:46,343] Finished trial#63 resulted in value: 0.8531244745447125. Current best value is 0.8536475593553243 with parameters: {'max_depth': 7, 'min_child_weight': 5, 'subsample': 0.8, 'colsample_bytree': 0.8}.\n",
      "[I 2020-08-28 13:51:48,016] Finished trial#64 resulted in value: 0.8536152980453661. Current best value is 0.8536475593553243 with parameters: {'max_depth': 7, 'min_child_weight': 5, 'subsample': 0.8, 'colsample_bytree': 0.8}.\n",
      "[I 2020-08-28 13:58:49,339] Finished trial#65 resulted in value: 0.8536152980453661. Current best value is 0.8536475593553243 with parameters: {'max_depth': 7, 'min_child_weight': 5, 'subsample': 0.8, 'colsample_bytree': 0.8}.\n",
      "[I 2020-08-28 14:05:57,265] Finished trial#66 resulted in value: 0.8536152980453661. Current best value is 0.8536475593553243 with parameters: {'max_depth': 7, 'min_child_weight': 5, 'subsample': 0.8, 'colsample_bytree': 0.8}.\n",
      "[I 2020-08-28 14:14:14,272] Finished trial#67 resulted in value: 0.8525579446493452. Current best value is 0.8536475593553243 with parameters: {'max_depth': 7, 'min_child_weight': 5, 'subsample': 0.8, 'colsample_bytree': 0.8}.\n",
      "[I 2020-08-28 14:21:16,650] Finished trial#68 resulted in value: 0.8526727068156024. Current best value is 0.8536475593553243 with parameters: {'max_depth': 7, 'min_child_weight': 5, 'subsample': 0.8, 'colsample_bytree': 0.8}.\n",
      "[I 2020-08-28 14:28:17,055] Finished trial#69 resulted in value: 0.8536152980453661. Current best value is 0.8536475593553243 with parameters: {'max_depth': 7, 'min_child_weight': 5, 'subsample': 0.8, 'colsample_bytree': 0.8}.\n",
      "[I 2020-08-28 14:37:40,245] Finished trial#70 resulted in value: 0.8510924231778197. Current best value is 0.8536475593553243 with parameters: {'max_depth': 7, 'min_child_weight': 5, 'subsample': 0.8, 'colsample_bytree': 0.8}.\n",
      "[I 2020-08-28 14:44:41,100] Finished trial#71 resulted in value: 0.8536152980453661. Current best value is 0.8536475593553243 with parameters: {'max_depth': 7, 'min_child_weight': 5, 'subsample': 0.8, 'colsample_bytree': 0.8}.\n",
      "[I 2020-08-28 14:51:41,319] Finished trial#72 resulted in value: 0.8536152980453661. Current best value is 0.8536475593553243 with parameters: {'max_depth': 7, 'min_child_weight': 5, 'subsample': 0.8, 'colsample_bytree': 0.8}.\n",
      "[I 2020-08-28 14:58:40,590] Finished trial#73 resulted in value: 0.8536152980453661. Current best value is 0.8536475593553243 with parameters: {'max_depth': 7, 'min_child_weight': 5, 'subsample': 0.8, 'colsample_bytree': 0.8}.\n",
      "[I 2020-08-28 15:05:48,031] Finished trial#74 resulted in value: 0.8531244745447125. Current best value is 0.8536475593553243 with parameters: {'max_depth': 7, 'min_child_weight': 5, 'subsample': 0.8, 'colsample_bytree': 0.8}.\n",
      "[I 2020-08-28 15:12:50,794] Finished trial#75 resulted in value: 0.8536152980453661. Current best value is 0.8536475593553243 with parameters: {'max_depth': 7, 'min_child_weight': 5, 'subsample': 0.8, 'colsample_bytree': 0.8}.\n",
      "[I 2020-08-28 15:19:46,771] Finished trial#76 resulted in value: 0.8523564634209448. Current best value is 0.8536475593553243 with parameters: {'max_depth': 7, 'min_child_weight': 5, 'subsample': 0.8, 'colsample_bytree': 0.8}.\n",
      "[I 2020-08-28 15:28:00,214] Finished trial#77 resulted in value: 0.8521486011624582. Current best value is 0.8536475593553243 with parameters: {'max_depth': 7, 'min_child_weight': 5, 'subsample': 0.8, 'colsample_bytree': 0.8}.\n",
      "[I 2020-08-28 15:38:13,943] Finished trial#78 resulted in value: 0.8503109929413869. Current best value is 0.8536475593553243 with parameters: {'max_depth': 7, 'min_child_weight': 5, 'subsample': 0.8, 'colsample_bytree': 0.8}.\n",
      "[I 2020-08-28 15:45:22,327] Finished trial#79 resulted in value: 0.8531244745447125. Current best value is 0.8536475593553243 with parameters: {'max_depth': 7, 'min_child_weight': 5, 'subsample': 0.8, 'colsample_bytree': 0.8}.\n",
      "[I 2020-08-28 15:54:24,578] Finished trial#80 resulted in value: 0.8521486011624582. Current best value is 0.8536475593553243 with parameters: {'max_depth': 7, 'min_child_weight': 5, 'subsample': 0.8, 'colsample_bytree': 0.8}.\n",
      "[I 2020-08-28 16:01:33,862] Finished trial#81 resulted in value: 0.8536152980453661. Current best value is 0.8536475593553243 with parameters: {'max_depth': 7, 'min_child_weight': 5, 'subsample': 0.8, 'colsample_bytree': 0.8}.\n",
      "[I 2020-08-28 16:08:34,588] Finished trial#82 resulted in value: 0.8536152980453661. Current best value is 0.8536475593553243 with parameters: {'max_depth': 7, 'min_child_weight': 5, 'subsample': 0.8, 'colsample_bytree': 0.8}.\n",
      "[I 2020-08-28 16:15:34,501] Finished trial#83 resulted in value: 0.8536152980453661. Current best value is 0.8536475593553243 with parameters: {'max_depth': 7, 'min_child_weight': 5, 'subsample': 0.8, 'colsample_bytree': 0.8}.\n",
      "[I 2020-08-28 16:22:35,566] Finished trial#84 resulted in value: 0.8536152980453661. Current best value is 0.8536475593553243 with parameters: {'max_depth': 7, 'min_child_weight': 5, 'subsample': 0.8, 'colsample_bytree': 0.8}.\n",
      "[I 2020-08-28 16:29:35,860] Finished trial#85 resulted in value: 0.8536152980453661. Current best value is 0.8536475593553243 with parameters: {'max_depth': 7, 'min_child_weight': 5, 'subsample': 0.8, 'colsample_bytree': 0.8}.\n",
      "[I 2020-08-28 16:36:36,146] Finished trial#86 resulted in value: 0.8536152980453661. Current best value is 0.8536475593553243 with parameters: {'max_depth': 7, 'min_child_weight': 5, 'subsample': 0.8, 'colsample_bytree': 0.8}.\n",
      "[I 2020-08-28 16:43:35,554] Finished trial#87 resulted in value: 0.8536152980453661. Current best value is 0.8536475593553243 with parameters: {'max_depth': 7, 'min_child_weight': 5, 'subsample': 0.8, 'colsample_bytree': 0.8}.\n",
      "[I 2020-08-28 16:50:44,771] Finished trial#88 resulted in value: 0.8531244745447125. Current best value is 0.8536475593553243 with parameters: {'max_depth': 7, 'min_child_weight': 5, 'subsample': 0.8, 'colsample_bytree': 0.8}.\n",
      "[I 2020-08-28 16:57:45,846] Finished trial#89 resulted in value: 0.8536152980453661. Current best value is 0.8536475593553243 with parameters: {'max_depth': 7, 'min_child_weight': 5, 'subsample': 0.8, 'colsample_bytree': 0.8}.\n",
      "[I 2020-08-28 17:04:48,070] Finished trial#90 resulted in value: 0.8536152980453661. Current best value is 0.8536475593553243 with parameters: {'max_depth': 7, 'min_child_weight': 5, 'subsample': 0.8, 'colsample_bytree': 0.8}.\n",
      "[I 2020-08-28 17:11:49,070] Finished trial#91 resulted in value: 0.8536152980453661. Current best value is 0.8536475593553243 with parameters: {'max_depth': 7, 'min_child_weight': 5, 'subsample': 0.8, 'colsample_bytree': 0.8}.\n",
      "[I 2020-08-28 17:18:49,428] Finished trial#92 resulted in value: 0.8536152980453661. Current best value is 0.8536475593553243 with parameters: {'max_depth': 7, 'min_child_weight': 5, 'subsample': 0.8, 'colsample_bytree': 0.8}.\n",
      "[I 2020-08-28 17:25:48,222] Finished trial#93 resulted in value: 0.8536152980453661. Current best value is 0.8536475593553243 with parameters: {'max_depth': 7, 'min_child_weight': 5, 'subsample': 0.8, 'colsample_bytree': 0.8}.\n",
      "[I 2020-08-28 17:32:43,699] Finished trial#94 resulted in value: 0.8530644154567213. Current best value is 0.8536475593553243 with parameters: {'max_depth': 7, 'min_child_weight': 5, 'subsample': 0.8, 'colsample_bytree': 0.8}.\n",
      "[I 2020-08-28 17:39:41,827] Finished trial#95 resulted in value: 0.8536152980453661. Current best value is 0.8536475593553243 with parameters: {'max_depth': 7, 'min_child_weight': 5, 'subsample': 0.8, 'colsample_bytree': 0.8}.\n",
      "[I 2020-08-28 17:46:40,588] Finished trial#96 resulted in value: 0.8536152980453661. Current best value is 0.8536475593553243 with parameters: {'max_depth': 7, 'min_child_weight': 5, 'subsample': 0.8, 'colsample_bytree': 0.8}.\n",
      "[I 2020-08-28 17:53:40,228] Finished trial#97 resulted in value: 0.8536152980453661. Current best value is 0.8536475593553243 with parameters: {'max_depth': 7, 'min_child_weight': 5, 'subsample': 0.8, 'colsample_bytree': 0.8}.\n",
      "[I 2020-08-28 18:01:58,186] Finished trial#98 resulted in value: 0.8525579446493452. Current best value is 0.8536475593553243 with parameters: {'max_depth': 7, 'min_child_weight': 5, 'subsample': 0.8, 'colsample_bytree': 0.8}.\n",
      "[I 2020-08-28 18:09:05,632] Finished trial#99 resulted in value: 0.8531244745447125. Current best value is 0.8536475593553243 with parameters: {'max_depth': 7, 'min_child_weight': 5, 'subsample': 0.8, 'colsample_bytree': 0.8}.\n"
     ]
    },
    {
     "name": "stdout",
     "output_type": "stream",
     "text": [
      "{'max_depth': 7, 'min_child_weight': 5, 'subsample': 0.8, 'colsample_bytree': 0.8}\n",
      "0.8536475593553243\n",
      "CPU times: user 3d 3h 54min 39s, sys: 10min 12s, total: 3d 4h 4min 51s\n",
      "Wall time: 12h 57min 50s\n"
     ]
    }
   ],
   "source": [
    "%%time\n",
    "\n",
    "study_xgb = optuna.create_study(direction='maximize')\n",
    "study_xgb.optimize(obj_xgb, n_trials=100)\n",
    "print(study_xgb.best_params)\n",
    "print(study_xgb.best_value)\n",
    "xgb_best_params = study_xgb.best_params"
   ]
  },
  {
   "cell_type": "code",
   "execution_count": 7,
   "metadata": {},
   "outputs": [
    {
     "data": {
      "text/plain": [
       "{'max_depth': 7,\n",
       " 'min_child_weight': 5,\n",
       " 'subsample': 0.8,\n",
       " 'colsample_bytree': 0.8}"
      ]
     },
     "execution_count": 7,
     "metadata": {},
     "output_type": "execute_result"
    }
   ],
   "source": [
    "xgb_best_params"
   ]
  },
  {
   "cell_type": "code",
   "execution_count": 6,
   "metadata": {},
   "outputs": [
    {
     "data": {
      "text/plain": [
       "XGBClassifier(alpha=0.0, base_score=0.5, booster='dart', colsample_bylevel=1,\n",
       "              colsample_bynode=1, colsample_bytree=0.8,\n",
       "              early_stopping_rounds=100, eta=0.01, eval_metric='auc', gamma=0.0,\n",
       "              gpu_id=-1, importance_type='gain', interaction_constraints=None,\n",
       "              learning_rate=0.00999999978, max_delta_step=0, max_depth=7,\n",
       "              min_child_weight=5, missing=nan, monotone_constraints=None,\n",
       "              n_estimators=1000, n_jobs=0, num_parallel_tree=1, random_state=18,\n",
       "              reg_alpha=0, reg_lambda=1, scale_pos_weight=1, seed=18,\n",
       "              subsample=0.8, tree_method=None, validate_parameters=False, ...)"
      ]
     },
     "execution_count": 6,
     "metadata": {},
     "output_type": "execute_result"
    }
   ],
   "source": [
    "xgb_best_params = {\n",
    "        'objective': 'binary:logistic',\n",
    "        'booster': 'dart',\n",
    "        'eval_metric': 'auc',\n",
    "        'eta': 0.01,\n",
    "        'n_estimators': 1000,\n",
    "        'early_stopping_rounds': 100,\n",
    "        'max_depth': 7,\n",
    "        'min_child_weight': 5,\n",
    "        'subsample': 0.8,\n",
    "        'colsample_bytree': 0.8,\n",
    "        'gamma': 0.0,\n",
    "        'alpha': 0.0,\n",
    "        'seed': 18\n",
    "}\n",
    "\n",
    "xgb_model = XGBClassifier(**xgb_best_params)\n",
    "xgb_model.fit(x_train, y_train, eval_set=[(x_test, y_test)], verbose=False)"
   ]
  },
  {
   "cell_type": "code",
   "execution_count": 7,
   "metadata": {},
   "outputs": [
    {
     "name": "stdout",
     "output_type": "stream",
     "text": [
      "train score:0.9444791370990633, test_score:0.9319978914074855\n",
      "acc:0.9319978914074855, auc:0.8356206246634355\n"
     ]
    }
   ],
   "source": [
    "train_score_xgb = xgb_model.score(x_train, y_train)\n",
    "test_score_xgb = xgb_model.score(x_test, y_test)\n",
    "\n",
    "xgb_p = xgb_model.predict(x_test)\n",
    "\n",
    "acc_xgb = accuracy_score(xgb_p, y_test)\n",
    "auc_xgb = roc_auc_score(xgb_p, y_test)\n",
    "\n",
    "print('train score:{}, test_score:{}'.format(train_score_xgb, test_score_xgb))\n",
    "print('acc:{}, auc:{}'.format(acc_xgb, auc_xgb))"
   ]
  },
  {
   "cell_type": "code",
   "execution_count": 8,
   "metadata": {},
   "outputs": [
    {
     "data": {
      "image/png": "[encoded data removed]",
      "text/plain": [
       "<Figure size 576x576 with 1 Axes>"
      ]
     },
     "metadata": {
      "needs_background": "light"
     },
     "output_type": "display_data"
    }
   ],
   "source": [
    "_, ax = plt.subplots(figsize=(8, 8))\n",
    "xgboost.plot_importance(xgb_model,\n",
    "                    ax=ax,\n",
    "                    importance_type='gain',\n",
    "                    color='darkviolet',\n",
    "                    show_values=False)\n",
    "plt.show()"
   ]
  },
  {
   "cell_type": "code",
   "execution_count": 9,
   "metadata": {},
   "outputs": [
    {
     "data": {
      "text/html": [
       "<div>\n",
       "<style scoped>\n",
       "    .dataframe tbody tr th:only-of-type {\n",
       "        vertical-align: middle;\n",
       "    }\n",
       "\n",
       "    .dataframe tbody tr th {\n",
       "        vertical-align: top;\n",
       "    }\n",
       "\n",
       "    .dataframe thead th {\n",
       "        text-align: right;\n",
       "    }\n",
       "</style>\n",
       "<table border=\"1\" class=\"dataframe\">\n",
       "  <thead>\n",
       "    <tr style=\"text-align: right;\">\n",
       "      <th></th>\n",
       "      <th>0</th>\n",
       "      <th>1</th>\n",
       "    </tr>\n",
       "  </thead>\n",
       "  <tbody>\n",
       "    <tr>\n",
       "      <th>0</th>\n",
       "      <td>0.271734</td>\n",
       "      <td>0.728266</td>\n",
       "    </tr>\n",
       "    <tr>\n",
       "      <th>1</th>\n",
       "      <td>0.887957</td>\n",
       "      <td>0.112043</td>\n",
       "    </tr>\n",
       "    <tr>\n",
       "      <th>2</th>\n",
       "      <td>0.979612</td>\n",
       "      <td>0.020388</td>\n",
       "    </tr>\n",
       "    <tr>\n",
       "      <th>3</th>\n",
       "      <td>0.997624</td>\n",
       "      <td>0.002376</td>\n",
       "    </tr>\n",
       "    <tr>\n",
       "      <th>4</th>\n",
       "      <td>0.964795</td>\n",
       "      <td>0.035205</td>\n",
       "    </tr>\n",
       "  </tbody>\n",
       "</table>\n",
       "</div>"
      ],
      "text/plain": [
       "          0         1\n",
       "0  0.271734  0.728266\n",
       "1  0.887957  0.112043\n",
       "2  0.979612  0.020388\n",
       "3  0.997624  0.002376\n",
       "4  0.964795  0.035205"
      ]
     },
     "execution_count": 9,
     "metadata": {},
     "output_type": "execute_result"
    }
   ],
   "source": [
    "pred_xgb = xgb_model.predict_proba(test_df)\n",
    "xgb_p = pd.DataFrame(pred_xgb)\n",
    "xgb_p.head()"
   ]
  },
  {
   "cell_type": "code",
   "execution_count": 10,
   "metadata": {},
   "outputs": [],
   "source": [
    "now = datetime.datetime.now()\n",
    "\n",
    "xgb_name = 'models/XG_' + now.strftime('%d_%H%M') + '.pkl'\n",
    "pickle.dump(xgb_model, open(xgb_name, 'wb'))"
   ]
  },
  {
   "cell_type": "markdown",
   "metadata": {},
   "source": [
    "# ＜LightGBM＞"
   ]
  },
  {
   "cell_type": "code",
   "execution_count": null,
   "metadata": {},
   "outputs": [],
   "source": [
    "lgb_train = lgb.Dataset(x_train, y_train)\n",
    "lgb_eval = lgb.Dataset(x_test, y_test, reference=lgb_train)"
   ]
  },
  {
   "cell_type": "code",
   "execution_count": null,
   "metadata": {},
   "outputs": [],
   "source": [
    "es = 1000\n",
    "\n",
    "lgb_params = {\n",
    "    'n_estimations': 10000,\n",
    "    'learning_rate': 0.001,\n",
    "    'metric': 'auc',\n",
    "    'seed': 18\n",
    "}"
   ]
  },
  {
   "cell_type": "code",
   "execution_count": null,
   "metadata": {},
   "outputs": [],
   "source": [
    "%%time\n",
    "\n",
    "best_lgb = lgb.train(lgb_params,\n",
    "                     lgb_train,\n",
    "                     valid_sets=lgb_eval,\n",
    "                     early_stopping_rounds=es,\n",
    "                     verbosity=False)"
   ]
  },
  {
   "cell_type": "code",
   "execution_count": null,
   "metadata": {},
   "outputs": [],
   "source": [
    "lgb_best_params = best_lgb.params\n",
    "lgb_best_params"
   ]
  },
  {
   "cell_type": "code",
   "execution_count": null,
   "metadata": {},
   "outputs": [],
   "source": [
    "best_itr = best_lgb.best_iteration\n",
    "best_itr"
   ]
  },
  {
   "cell_type": "code",
   "execution_count": null,
   "metadata": {},
   "outputs": [],
   "source": [
    "best_lgb.best_score"
   ]
  },
  {
   "cell_type": "code",
   "execution_count": null,
   "metadata": {},
   "outputs": [],
   "source": [
    "lgb_model = lgb.train(lgb_best_params,\n",
    "                     lgb_train,\n",
    "                     valid_sets=lgb_eval,\n",
    "                     early_stopping_rounds=es,\n",
    "                     verbosity=0)"
   ]
  },
  {
   "cell_type": "code",
   "execution_count": null,
   "metadata": {},
   "outputs": [],
   "source": [
    "lgb.plot_importance(lgb_model, figsize=(8,8), color='darkviolet')"
   ]
  },
  {
   "cell_type": "code",
   "execution_count": null,
   "metadata": {},
   "outputs": [],
   "source": [
    "pred_lgb = lgb_model.predict(test_df, num_iteration=best_itr)\n",
    "lgb_p = pd.DataFrame(pred_lgb)\n",
    "lgb_p.head()"
   ]
  },
  {
   "cell_type": "code",
   "execution_count": null,
   "metadata": {},
   "outputs": [],
   "source": [
    "now = datetime.datetime.now()\n",
    "\n",
    "lgb_name = 'models/LGBM_op' + now.strftime('%d_%H%M') + '.pkl'\n",
    "pickle.dump(best_lgb, open(lgb_name, 'wb'))"
   ]
  },
  {
   "cell_type": "markdown",
   "metadata": {},
   "source": [
    "# ＜CatBoost＞"
   ]
  },
  {
   "cell_type": "code",
   "execution_count": null,
   "metadata": {},
   "outputs": [],
   "source": [
    "train_df = pd.read_csv('dataset/train_cat_16_2206.csv')\n",
    "test_df = pd.read_csv('dataset/test_cat_16_2206.csv')"
   ]
  },
  {
   "cell_type": "code",
   "execution_count": null,
   "metadata": {},
   "outputs": [],
   "source": [
    "ID = test_df['id']\n",
    "x = train_df.drop(columns=['y', 'id'])\n",
    "y = train_df['y']\n",
    "test_df = test_df.drop(columns=['y', 'id'])"
   ]
  },
  {
   "cell_type": "code",
   "execution_count": null,
   "metadata": {},
   "outputs": [],
   "source": [
    "cat_features = np.where(x.dtypes != np.float)[0]"
   ]
  },
  {
   "cell_type": "code",
   "execution_count": null,
   "metadata": {},
   "outputs": [],
   "source": [
    "x_train, x_test, y_train, y_test = train_test_split(x, y,\n",
    "                                                    test_size=0.2,\n",
    "                                                    stratify=y,\n",
    "                                                    shuffle=True,\n",
    "                                                    random_state=18)"
   ]
  },
  {
   "cell_type": "code",
   "execution_count": null,
   "metadata": {},
   "outputs": [],
   "source": [
    "def obj_cb(trial):\n",
    "    \n",
    "    param_cb = {\n",
    "        'eval_metric': 'AUC',\n",
    "        'cat_features': cat_features,\n",
    "        'iterations': 1000,\n",
    "        'learning_rate': 0.001,\n",
    "        'depth': trial.suggest_int('depth', 6, 10),\n",
    "        'od_pval': trial.suggest_loguniform('od_pval', 1e-10, 1e-2),\n",
    "        'od_wait': 1000,\n",
    "        'l2_leaf_reg': trial.suggest_int('l2_leaf_reg', 1, 100),\n",
    "        'random_strength': trial.suggest_int('random_strength', 1, 3),\n",
    "        'bagging_temperature': trial.suggest_int('bagging_temperature', 1, 10),\n",
    "        'random_seed': 18,\n",
    "        'use_best_model': True\n",
    "    }\n",
    "    \n",
    "    cb = CatBoostClassifier(**param_cb)\n",
    "    cb.fit(x_train, y_train, eval_set=[(x_test, y_test)], early_stopping_rounds=100, silent=True)\n",
    "    predictions = cb.predict(x_test)\n",
    "    auc_score = roc_auc_score(predictions, y_test)\n",
    "    \n",
    "    return auc_score"
   ]
  },
  {
   "cell_type": "code",
   "execution_count": null,
   "metadata": {},
   "outputs": [],
   "source": [
    "def obj_cb2(trial):\n",
    "    \n",
    "    param_cb = {\n",
    "        'eval_metric': 'AUC',\n",
    "        'cat_features': cat_features,\n",
    "        'iterations': 1000,\n",
    "        'learning_rate': 0.005,\n",
    "        'depth': trial.suggest_int('depth', 6, 10),\n",
    "        'od_pval': trial.suggest_loguniform('od_pval', 1e-10, 1e-2),\n",
    "        'od_wait': 1000,\n",
    "        'l2_leaf_reg': trial.suggest_int('l2_leaf_reg', 1, 100),\n",
    "        'random_strength': trial.suggest_int('random_strength', 1, 3),\n",
    "        'bagging_temperature': trial.suggest_int('bagging_temperature', 1, 10),\n",
    "        'random_seed': 18,\n",
    "    }\n",
    "    \n",
    "    cb = CatBoostClassifier(**param_cb)\n",
    "    k = 5\n",
    "    skf = StratifiedKFold(n_splits=k, shuffle=True, random_state=18)\n",
    "    \n",
    "    scoring = 'roc_auc'\n",
    "    cv_output = cross_validate(cb, x_train, y_train, n_jobs=1, scoring=scoring, cv=skf)\n",
    "    \n",
    "    return cv_output['test_score'].mean()"
   ]
  },
  {
   "cell_type": "code",
   "execution_count": null,
   "metadata": {},
   "outputs": [],
   "source": [
    "%%time\n",
    "\n",
    "study_cb = optuna.create_study(direction='maximize')\n",
    "study_cb.optimize(obj_cb2, n_trials=100, n_jobs=1)\n",
    "\n",
    "print(study_cb.best_params)\n",
    "print(study_cb.best_value)\n",
    "cb_best_params = study_cb.best_params"
   ]
  },
  {
   "cell_type": "code",
   "execution_count": null,
   "metadata": {},
   "outputs": [],
   "source": [
    "cb_best_params"
   ]
  },
  {
   "cell_type": "code",
   "execution_count": null,
   "metadata": {},
   "outputs": [],
   "source": [
    "cb_best_params = {\n",
    "        'eval_metric': 'AUC',\n",
    "        'cat_features': cat_features,\n",
    "        'iterations': 10000,\n",
    "        'learning_rate': 0.005,\n",
    "        'depth': 10,\n",
    "        'od_pval': 0.00000000010051726483293451,\n",
    "        'od_wait': 1000,\n",
    "        'l2_leaf_reg': 1,\n",
    "        'random_strength': 1,\n",
    "        'bagging_temperature': 9,\n",
    "        'random_seed': 18,\n",
    "        'use_best_model': True\n",
    "}\n",
    "\n"
   ]
  },
  {
   "cell_type": "code",
   "execution_count": null,
   "metadata": {},
   "outputs": [],
   "source": [
    "cb_model = CatBoostClassifier(**cb_best_params)\n",
    "cb_model.fit(x_train, y_train, eval_set=[(x_test, y_test)], early_stopping_rounds=1000, silent=True)"
   ]
  },
  {
   "cell_type": "code",
   "execution_count": null,
   "metadata": {},
   "outputs": [],
   "source": [
    "cv_params = cb_model.get_params()\n",
    "cv_params.update({\n",
    "    'loss_function': 'Logloss'\n",
    "})\n",
    "\n",
    "cv_data = cv(Pool(x, y, cat_features=cat_features),\n",
    "            cv_params,\n",
    "            plot=True)"
   ]
  },
  {
   "cell_type": "code",
   "execution_count": null,
   "metadata": {},
   "outputs": [],
   "source": [
    "train_score_cb = cb_model.score(x_train, y_train)\n",
    "test_score_cb = cb_model.score(x_test, y_test)\n",
    "\n",
    "cb_p = cb_model.predict(x_test)\n",
    "\n",
    "acc_cb = accuracy_score(cb_p, y_test)\n",
    "auc_cb = roc_auc_score(cb_p, y_test)\n",
    "\n",
    "print('train score:{}, test_score:{}'.format(train_score_cb, test_score_cb))\n",
    "print('acc:{}, auc:{}'.format(acc_cb, auc_cb))"
   ]
  },
  {
   "cell_type": "code",
   "execution_count": null,
   "metadata": {},
   "outputs": [],
   "source": [
    "fea_imp = pd.DataFrame({'imp': cb_model.feature_importances_, 'col': x.columns})\n",
    "fea_imp = fea_imp.sort_values(['imp', 'col'], ascending=[True, False]).iloc[-30:]\n",
    "fea_imp.plot(kind='barh', x='col', y='imp', figsize=(10, 7), color='darkviolet', legend=None)\n",
    "plt.title('CatBoost - Feature Importance')\n",
    "plt.ylabel('Features')\n",
    "plt.xlabel('Importance')"
   ]
  },
  {
   "cell_type": "code",
   "execution_count": null,
   "metadata": {},
   "outputs": [],
   "source": [
    "pred_cb = cb_model.predict_proba(test_df)\n",
    "cb_p = pd.DataFrame(pred_cb)\n",
    "cb_p.head()"
   ]
  },
  {
   "cell_type": "code",
   "execution_count": null,
   "metadata": {},
   "outputs": [],
   "source": [
    "now = datetime.datetime.now()\n",
    "\n",
    "cb_name = 'models/CatBoost_' + now.strftime('%d_%H%M') + '.pkl'\n",
    "pickle.dump(cb_model, open(cb_name, 'wb'))"
   ]
  },
  {
   "cell_type": "markdown",
   "metadata": {},
   "source": [
    "# ＜SUBMIT＞"
   ]
  },
  {
   "cell_type": "code",
   "execution_count": null,
   "metadata": {},
   "outputs": [],
   "source": [
    "pred = pd.DataFrame({\n",
    "    'XGBoost': xgb_p[1],\n",
    "    'LightGBM': lgb_p[0],\n",
    "    'CatBoost': cb_p[1]\n",
    "})\n",
    "\n",
    "pred.head()"
   ]
  },
  {
   "cell_type": "code",
   "execution_count": null,
   "metadata": {},
   "outputs": [],
   "source": [
    "print(pred.corr())"
   ]
  },
  {
   "cell_type": "code",
   "execution_count": null,
   "metadata": {},
   "outputs": [],
   "source": [
    "print(pred.corr())"
   ]
  },
  {
   "cell_type": "code",
   "execution_count": null,
   "metadata": {},
   "outputs": [],
   "source": [
    "pred['pred'] = pred.XGBoost* 0.2 + pred.LightGBM * 0.8\n",
    "pred.head(10)"
   ]
  },
  {
   "cell_type": "code",
   "execution_count": null,
   "metadata": {},
   "outputs": [],
   "source": [
    "# ensemble\n",
    "\n",
    "now = datetime.datetime.now()\n",
    "\n",
    "submission = pd.DataFrame({\n",
    "    'ID':ID,\n",
    "    'pred':pred['pred']\n",
    "})\n",
    "\n",
    "file_name = 'submit/submit_' + now.strftime('%d_%H%M') + '.csv'\n",
    "\n",
    "submission.to_csv(file_name, header=False, index=False)"
   ]
  },
  {
   "cell_type": "code",
   "execution_count": null,
   "metadata": {},
   "outputs": [],
   "source": [
    "# RandomForest\n",
    "\n",
    "now = datetime.datetime.now()\n",
    "\n",
    "submission = pd.DataFrame({\n",
    "    'ID':ID,\n",
    "    'pred':rf_p[1]\n",
    "})\n",
    "\n",
    "file_name = 'submit/submit_RF' + now.strftime('%d_%H%M') + '.csv'\n",
    "\n",
    "submission.to_csv(file_name, index=False, header=False)"
   ]
  },
  {
   "cell_type": "code",
   "execution_count": 12,
   "metadata": {},
   "outputs": [],
   "source": [
    "# XGBoost\n",
    "\n",
    "now = datetime.datetime.now()\n",
    "\n",
    "submission = pd.DataFrame({\n",
    "    'ID':ID,\n",
    "    'pred':xgb_p[1]\n",
    "})\n",
    "\n",
    "file_name = 'submit/submit_XGBoost' + now.strftime('%d_%H%M') + '.csv'\n",
    "\n",
    "submission.to_csv(file_name, index=False, header=False)"
   ]
  },
  {
   "cell_type": "code",
   "execution_count": null,
   "metadata": {},
   "outputs": [],
   "source": [
    "# LightGBM\n",
    "\n",
    "now = datetime.datetime.now()\n",
    "\n",
    "submission = pd.DataFrame({\n",
    "    'ID':ID,\n",
    "    'pred':lgb_p[0]\n",
    "})\n",
    "\n",
    "file_name = 'submit/submit_LGBM' + now.strftime('%d_%H%M') + '.csv'\n",
    "\n",
    "submission.to_csv(file_name, index=False, header=False)"
   ]
  },
  {
   "cell_type": "code",
   "execution_count": null,
   "metadata": {},
   "outputs": [],
   "source": [
    "# CatBoost\n",
    "\n",
    "now = datetime.datetime.now()\n",
    "\n",
    "submission = pd.DataFrame({\n",
    "    'ID':ID,\n",
    "    'pred':cb_p[1]\n",
    "})\n",
    "\n",
    "file_name = 'submit/submit_CatBoost' + now.strftime('%d_%H%M') + '.csv'\n",
    "\n",
    "submission.to_csv(file_name, index=False, header=False)"
   ]
  },
  {
   "cell_type": "code",
   "execution_count": null,
   "metadata": {},
   "outputs": [],
   "source": []
  }
 ],
 "metadata": {
  "kernelspec": {
   "display_name": "Python 3",
   "language": "python",
   "name": "python3"
  },
  "language_info": {
   "codemirror_mode": {
    "name": "ipython",
    "version": 3
   },
   "file_extension": ".py",
   "mimetype": "text/x-python",
   "name": "python",
   "nbconvert_exporter": "python",
   "pygments_lexer": "ipython3",
   "version": "3.7.7"
  }
 },
 "nbformat": 4,
 "nbformat_minor": 4
}
