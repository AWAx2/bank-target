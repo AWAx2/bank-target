{
 "cells": [
  {
   "cell_type": "code",
   "execution_count": 52,
   "metadata": {},
   "outputs": [],
   "source": [
    "import datetime\n",
    "from copy import copy\n",
    "import numpy as np\n",
    "import pandas as pd\n",
    "import pandas_profiling as pdp\n",
    "import matplotlib.pyplot as plt\n",
    "%matplotlib inline\n",
    "import seaborn as sns\n",
    "import pickle\n",
    "\n",
    "from sklearn.preprocessing import StandardScaler, LabelEncoder\n",
    "from sklearn.model_selection import train_test_split, StratifiedKFold, cross_validate\n",
    "from sklearn.metrics import accuracy_score, roc_auc_score\n",
    "import optuna\n",
    "from optuna.integration import lightgbm as lgb_op\n",
    "from sklearn.ensemble import RandomForestClassifier\n",
    "import lightgbm as lgb\n",
    "from lightgbm import LGBMClassifier\n",
    "import xgboost as xgb\n",
    "from xgboost import XGBClassifier\n",
    "from catboost import CatBoostClassifier"
   ]
  },
  {
   "cell_type": "code",
   "execution_count": 2,
   "metadata": {},
   "outputs": [],
   "source": [
    "now = datetime.datetime.now()"
   ]
  },
  {
   "cell_type": "code",
   "execution_count": 3,
   "metadata": {},
   "outputs": [],
   "source": [
    "train_df = pd.read_csv('dataset/train_01.csv')\n",
    "test_df = pd.read_csv('dataset/test_01.csv')"
   ]
  },
  {
   "cell_type": "code",
   "execution_count": 4,
   "metadata": {},
   "outputs": [],
   "source": [
    "ID = test_df['id']\n",
    "x = train_df.drop(columns=['y', 'id'])\n",
    "y = train_df['y']\n",
    "test_df = test_df.drop(columns='id')"
   ]
  },
  {
   "cell_type": "code",
   "execution_count": 5,
   "metadata": {},
   "outputs": [],
   "source": [
    "x_train, x_test, y_train, y_test = train_test_split(x, y,\n",
    "                                                    test_size=0.3,\n",
    "                                                    stratify=y,\n",
    "                                                    shuffle=True,\n",
    "                                                    random_state=18)"
   ]
  },
  {
   "cell_type": "markdown",
   "metadata": {},
   "source": [
    "# RF"
   ]
  },
  {
   "cell_type": "code",
   "execution_count": 6,
   "metadata": {},
   "outputs": [],
   "source": [
    "def objective_rf(trial):\n",
    "    \n",
    "    param_rf = {\n",
    "    'n_estimators': 1800,\n",
    "    'criterion': trial.suggest_categorical('criterion', ['gini', 'entropy']),\n",
    "    'max_depth': trial.suggest_int('max_depth', 3, 12),\n",
    "    'min_samples_split': trial.suggest_int('min_samples_split', 5, 15),\n",
    "    'min_samples_leaf': trial.suggest_int('min_samples_leaf', 1, 5),\n",
    "    'random_state': 18,\n",
    "    'n_jobs': 2\n",
    "    }\n",
    "    \n",
    "    rf = RandomForestClassifier(**param_rf)\n",
    "    rf.fit(x_train, y_train)\n",
    "    predictions = rf.predict(x_test)\n",
    "    auc_score = roc_auc_score(predictions, y_test)\n",
    "    \n",
    "    return auc_score"
   ]
  },
  {
   "cell_type": "code",
   "execution_count": 7,
   "metadata": {
    "collapsed": true,
    "jupyter": {
     "outputs_hidden": true
    }
   },
   "outputs": [
    {
     "name": "stderr",
     "output_type": "stream",
     "text": [
      "[I 2020-08-11 08:31:13,733] Finished trial#0 resulted in value: 0.9116908135364511. Current best value is 0.9116908135364511 with parameters: {'criterion': 'gini', 'max_depth': 11, 'min_samples_split': 14, 'min_samples_leaf': 2}.\n",
      "[I 2020-08-11 08:31:13,733] Finished trial#1 resulted in value: 0.9177053371684243. Current best value is 0.9177053371684243 with parameters: {'criterion': 'gini', 'max_depth': 11, 'min_samples_split': 6, 'min_samples_leaf': 4}.\n",
      "[I 2020-08-11 08:31:20,074] Finished trial#3 resulted in value: 0.9370838471023427. Current best value is 0.9370838471023427 with parameters: {'criterion': 'gini', 'max_depth': 3, 'min_samples_split': 12, 'min_samples_leaf': 3}.\n",
      "[I 2020-08-11 08:31:27,050] Finished trial#4 resulted in value: 0.9289879475363346. Current best value is 0.9370838471023427 with parameters: {'criterion': 'gini', 'max_depth': 3, 'min_samples_split': 12, 'min_samples_leaf': 3}.\n",
      "[I 2020-08-11 08:31:28,537] Finished trial#2 resulted in value: 0.9013001167994634. Current best value is 0.9370838471023427 with parameters: {'criterion': 'gini', 'max_depth': 3, 'min_samples_split': 12, 'min_samples_leaf': 3}.\n",
      "[I 2020-08-11 08:31:35,168] Finished trial#5 resulted in value: 0.9255126579796897. Current best value is 0.9370838471023427 with parameters: {'criterion': 'gini', 'max_depth': 3, 'min_samples_split': 12, 'min_samples_leaf': 3}.\n",
      "[I 2020-08-11 08:31:39,142] Finished trial#6 resulted in value: 0.9271849239578699. Current best value is 0.9370838471023427 with parameters: {'criterion': 'gini', 'max_depth': 3, 'min_samples_split': 12, 'min_samples_leaf': 3}.\n",
      "[I 2020-08-11 08:31:42,131] Finished trial#7 resulted in value: 0.9144601236721103. Current best value is 0.9370838471023427 with parameters: {'criterion': 'gini', 'max_depth': 3, 'min_samples_split': 12, 'min_samples_leaf': 3}.\n",
      "[I 2020-08-11 08:31:46,406] Finished trial#8 resulted in value: 0.9306060512694109. Current best value is 0.9370838471023427 with parameters: {'criterion': 'gini', 'max_depth': 3, 'min_samples_split': 12, 'min_samples_leaf': 3}.\n",
      "[I 2020-08-11 08:31:52,250] Finished trial#9 resulted in value: 0.9164282597100325. Current best value is 0.9370838471023427 with parameters: {'criterion': 'gini', 'max_depth': 3, 'min_samples_split': 12, 'min_samples_leaf': 3}.\n",
      "[I 2020-08-11 08:31:54,108] Finished trial#10 resulted in value: 0.9289879475363346. Current best value is 0.9370838471023427 with parameters: {'criterion': 'gini', 'max_depth': 3, 'min_samples_split': 12, 'min_samples_leaf': 3}.\n",
      "[I 2020-08-11 08:32:00,641] Finished trial#11 resulted in value: 0.929548628163072. Current best value is 0.9370838471023427 with parameters: {'criterion': 'gini', 'max_depth': 3, 'min_samples_split': 12, 'min_samples_leaf': 3}.\n",
      "[I 2020-08-11 08:32:01,493] Finished trial#12 resulted in value: 0.9284658040665434. Current best value is 0.9370838471023427 with parameters: {'criterion': 'gini', 'max_depth': 3, 'min_samples_split': 12, 'min_samples_leaf': 3}.\n",
      "[I 2020-08-11 08:32:08,328] Finished trial#13 resulted in value: 0.9284658040665434. Current best value is 0.9370838471023427 with parameters: {'criterion': 'gini', 'max_depth': 3, 'min_samples_split': 12, 'min_samples_leaf': 3}.\n",
      "[I 2020-08-11 08:32:09,153] Finished trial#14 resulted in value: 0.9284658040665434. Current best value is 0.9370838471023427 with parameters: {'criterion': 'gini', 'max_depth': 3, 'min_samples_split': 12, 'min_samples_leaf': 3}.\n",
      "[I 2020-08-11 08:32:16,428] Finished trial#15 resulted in value: 0.912474208839581. Current best value is 0.9370838471023427 with parameters: {'criterion': 'gini', 'max_depth': 3, 'min_samples_split': 12, 'min_samples_leaf': 3}.\n",
      "[I 2020-08-11 08:32:17,092] Finished trial#16 resulted in value: 0.912474208839581. Current best value is 0.9370838471023427 with parameters: {'criterion': 'gini', 'max_depth': 3, 'min_samples_split': 12, 'min_samples_leaf': 3}.\n",
      "[I 2020-08-11 08:32:26,171] Finished trial#18 resulted in value: 0.9266402995911193. Current best value is 0.9370838471023427 with parameters: {'criterion': 'gini', 'max_depth': 3, 'min_samples_split': 12, 'min_samples_leaf': 3}.\n",
      "[I 2020-08-11 08:32:26,236] Finished trial#17 resulted in value: 0.9266402995911193. Current best value is 0.9370838471023427 with parameters: {'criterion': 'gini', 'max_depth': 3, 'min_samples_split': 12, 'min_samples_leaf': 3}.\n",
      "[I 2020-08-11 08:32:33,161] Finished trial#20 resulted in value: 0.912474208839581. Current best value is 0.9370838471023427 with parameters: {'criterion': 'gini', 'max_depth': 3, 'min_samples_split': 12, 'min_samples_leaf': 3}.\n",
      "[I 2020-08-11 08:32:36,505] Finished trial#19 resulted in value: 0.9260830439894142. Current best value is 0.9370838471023427 with parameters: {'criterion': 'gini', 'max_depth': 3, 'min_samples_split': 12, 'min_samples_leaf': 3}.\n",
      "[I 2020-08-11 08:32:43,247] Finished trial#22 resulted in value: 0.929548628163072. Current best value is 0.9370838471023427 with parameters: {'criterion': 'gini', 'max_depth': 3, 'min_samples_split': 12, 'min_samples_leaf': 3}.\n",
      "[I 2020-08-11 08:32:44,894] Finished trial#21 resulted in value: 0.9220031934033673. Current best value is 0.9370838471023427 with parameters: {'criterion': 'gini', 'max_depth': 3, 'min_samples_split': 12, 'min_samples_leaf': 3}.\n",
      "[I 2020-08-11 08:32:50,920] Finished trial#23 resulted in value: 0.9135519801980198. Current best value is 0.9370838471023427 with parameters: {'criterion': 'gini', 'max_depth': 3, 'min_samples_split': 12, 'min_samples_leaf': 3}.\n",
      "[I 2020-08-11 08:32:52,560] Finished trial#24 resulted in value: 0.9135519801980198. Current best value is 0.9370838471023427 with parameters: {'criterion': 'gini', 'max_depth': 3, 'min_samples_split': 12, 'min_samples_leaf': 3}.\n",
      "[I 2020-08-11 08:32:59,306] Finished trial#25 resulted in value: 0.9260830439894142. Current best value is 0.9370838471023427 with parameters: {'criterion': 'gini', 'max_depth': 3, 'min_samples_split': 12, 'min_samples_leaf': 3}.\n",
      "[I 2020-08-11 08:33:01,121] Finished trial#26 resulted in value: 0.9260830439894142. Current best value is 0.9370838471023427 with parameters: {'criterion': 'gini', 'max_depth': 3, 'min_samples_split': 12, 'min_samples_leaf': 3}.\n",
      "[I 2020-08-11 08:33:06,694] Finished trial#27 resulted in value: 0.9370838471023427. Current best value is 0.9370838471023427 with parameters: {'criterion': 'gini', 'max_depth': 3, 'min_samples_split': 12, 'min_samples_leaf': 3}.\n",
      "[I 2020-08-11 08:33:08,598] Finished trial#28 resulted in value: 0.9370838471023427. Current best value is 0.9370838471023427 with parameters: {'criterion': 'gini', 'max_depth': 3, 'min_samples_split': 12, 'min_samples_leaf': 3}.\n",
      "[I 2020-08-11 08:33:14,886] Finished trial#29 resulted in value: 0.9135519801980198. Current best value is 0.9370838471023427 with parameters: {'criterion': 'gini', 'max_depth': 3, 'min_samples_split': 12, 'min_samples_leaf': 3}.\n",
      "[I 2020-08-11 08:33:15,775] Finished trial#30 resulted in value: 0.9370838471023427. Current best value is 0.9370838471023427 with parameters: {'criterion': 'gini', 'max_depth': 3, 'min_samples_split': 12, 'min_samples_leaf': 3}.\n",
      "[I 2020-08-11 08:33:22,298] Finished trial#31 resulted in value: 0.9370838471023427. Current best value is 0.9370838471023427 with parameters: {'criterion': 'gini', 'max_depth': 3, 'min_samples_split': 12, 'min_samples_leaf': 3}.\n",
      "[I 2020-08-11 08:33:23,340] Finished trial#32 resulted in value: 0.9370838471023427. Current best value is 0.9370838471023427 with parameters: {'criterion': 'gini', 'max_depth': 3, 'min_samples_split': 12, 'min_samples_leaf': 3}.\n",
      "[I 2020-08-11 08:33:29,686] Finished trial#33 resulted in value: 0.9370838471023427. Current best value is 0.9370838471023427 with parameters: {'criterion': 'gini', 'max_depth': 3, 'min_samples_split': 12, 'min_samples_leaf': 3}.\n",
      "[I 2020-08-11 08:33:30,728] Finished trial#34 resulted in value: 0.9370838471023427. Current best value is 0.9370838471023427 with parameters: {'criterion': 'gini', 'max_depth': 3, 'min_samples_split': 12, 'min_samples_leaf': 3}.\n",
      "[I 2020-08-11 08:33:36,778] Finished trial#35 resulted in value: 0.9135519801980198. Current best value is 0.9370838471023427 with parameters: {'criterion': 'gini', 'max_depth': 3, 'min_samples_split': 12, 'min_samples_leaf': 3}.\n",
      "[I 2020-08-11 08:33:42,282] Finished trial#36 resulted in value: 0.8913813275756822. Current best value is 0.9370838471023427 with parameters: {'criterion': 'gini', 'max_depth': 3, 'min_samples_split': 12, 'min_samples_leaf': 3}.\n",
      "[I 2020-08-11 08:33:44,378] Finished trial#37 resulted in value: 0.9289879475363346. Current best value is 0.9370838471023427 with parameters: {'criterion': 'gini', 'max_depth': 3, 'min_samples_split': 12, 'min_samples_leaf': 3}.\n",
      "[I 2020-08-11 08:33:50,480] Finished trial#38 resulted in value: 0.9289879475363346. Current best value is 0.9370838471023427 with parameters: {'criterion': 'gini', 'max_depth': 3, 'min_samples_split': 12, 'min_samples_leaf': 3}.\n",
      "[I 2020-08-11 08:33:52,479] Finished trial#39 resulted in value: 0.9289879475363346. Current best value is 0.9370838471023427 with parameters: {'criterion': 'gini', 'max_depth': 3, 'min_samples_split': 12, 'min_samples_leaf': 3}.\n",
      "[I 2020-08-11 08:33:58,228] Finished trial#40 resulted in value: 0.912474208839581. Current best value is 0.9370838471023427 with parameters: {'criterion': 'gini', 'max_depth': 3, 'min_samples_split': 12, 'min_samples_leaf': 3}.\n",
      "[I 2020-08-11 08:34:00,286] Finished trial#41 resulted in value: 0.912474208839581. Current best value is 0.9370838471023427 with parameters: {'criterion': 'gini', 'max_depth': 3, 'min_samples_split': 12, 'min_samples_leaf': 3}.\n",
      "[I 2020-08-11 08:34:05,721] Finished trial#42 resulted in value: 0.9370838471023427. Current best value is 0.9370838471023427 with parameters: {'criterion': 'gini', 'max_depth': 3, 'min_samples_split': 12, 'min_samples_leaf': 3}.\n",
      "[I 2020-08-11 08:34:07,727] Finished trial#43 resulted in value: 0.9370838471023427. Current best value is 0.9370838471023427 with parameters: {'criterion': 'gini', 'max_depth': 3, 'min_samples_split': 12, 'min_samples_leaf': 3}.\n",
      "[I 2020-08-11 08:34:13,227] Finished trial#44 resulted in value: 0.9144601236721103. Current best value is 0.9370838471023427 with parameters: {'criterion': 'gini', 'max_depth': 3, 'min_samples_split': 12, 'min_samples_leaf': 3}.\n",
      "[I 2020-08-11 08:34:15,076] Finished trial#45 resulted in value: 0.9144601236721103. Current best value is 0.9370838471023427 with parameters: {'criterion': 'gini', 'max_depth': 3, 'min_samples_split': 12, 'min_samples_leaf': 3}.\n",
      "[I 2020-08-11 08:34:23,366] Finished trial#46 resulted in value: 0.917073787881737. Current best value is 0.9370838471023427 with parameters: {'criterion': 'gini', 'max_depth': 3, 'min_samples_split': 12, 'min_samples_leaf': 3}.\n",
      "[I 2020-08-11 08:34:25,288] Finished trial#47 resulted in value: 0.917073787881737. Current best value is 0.9370838471023427 with parameters: {'criterion': 'gini', 'max_depth': 3, 'min_samples_split': 12, 'min_samples_leaf': 3}.\n",
      "[I 2020-08-11 08:34:30,628] Finished trial#48 resulted in value: 0.9370838471023427. Current best value is 0.9370838471023427 with parameters: {'criterion': 'gini', 'max_depth': 3, 'min_samples_split': 12, 'min_samples_leaf': 3}.\n",
      "[I 2020-08-11 08:34:32,565] Finished trial#49 resulted in value: 0.9370838471023427. Current best value is 0.9370838471023427 with parameters: {'criterion': 'gini', 'max_depth': 3, 'min_samples_split': 12, 'min_samples_leaf': 3}.\n",
      "[I 2020-08-11 08:34:39,407] Finished trial#51 resulted in value: 0.9135519801980198. Current best value is 0.9370838471023427 with parameters: {'criterion': 'gini', 'max_depth': 3, 'min_samples_split': 12, 'min_samples_leaf': 3}.\n",
      "[I 2020-08-11 08:34:40,176] Finished trial#50 resulted in value: 0.9255126579796897. Current best value is 0.9370838471023427 with parameters: {'criterion': 'gini', 'max_depth': 3, 'min_samples_split': 12, 'min_samples_leaf': 3}.\n",
      "[I 2020-08-11 08:34:46,926] Finished trial#52 resulted in value: 0.9370838471023427. Current best value is 0.9370838471023427 with parameters: {'criterion': 'gini', 'max_depth': 3, 'min_samples_split': 12, 'min_samples_leaf': 3}.\n",
      "[I 2020-08-11 08:34:47,655] Finished trial#53 resulted in value: 0.9370838471023427. Current best value is 0.9370838471023427 with parameters: {'criterion': 'gini', 'max_depth': 3, 'min_samples_split': 12, 'min_samples_leaf': 3}.\n",
      "[I 2020-08-11 08:34:54,415] Finished trial#54 resulted in value: 0.9370838471023427. Current best value is 0.9370838471023427 with parameters: {'criterion': 'gini', 'max_depth': 3, 'min_samples_split': 12, 'min_samples_leaf': 3}.\n",
      "[I 2020-08-11 08:34:55,112] Finished trial#55 resulted in value: 0.9370838471023427. Current best value is 0.9370838471023427 with parameters: {'criterion': 'gini', 'max_depth': 3, 'min_samples_split': 12, 'min_samples_leaf': 3}.\n",
      "[I 2020-08-11 08:35:02,362] Finished trial#57 resulted in value: 0.912474208839581. Current best value is 0.9370838471023427 with parameters: {'criterion': 'gini', 'max_depth': 3, 'min_samples_split': 12, 'min_samples_leaf': 3}.\n",
      "[I 2020-08-11 08:35:02,552] Finished trial#56 resulted in value: 0.912474208839581. Current best value is 0.9370838471023427 with parameters: {'criterion': 'gini', 'max_depth': 3, 'min_samples_split': 12, 'min_samples_leaf': 3}.\n",
      "[I 2020-08-11 08:35:09,593] Finished trial#59 resulted in value: 0.9370838471023427. Current best value is 0.9370838471023427 with parameters: {'criterion': 'gini', 'max_depth': 3, 'min_samples_split': 12, 'min_samples_leaf': 3}.\n",
      "[I 2020-08-11 08:35:10,911] Finished trial#58 resulted in value: 0.912474208839581. Current best value is 0.9370838471023427 with parameters: {'criterion': 'gini', 'max_depth': 3, 'min_samples_split': 12, 'min_samples_leaf': 3}.\n",
      "[I 2020-08-11 08:35:17,741] Finished trial#60 resulted in value: 0.928412700981106. Current best value is 0.9370838471023427 with parameters: {'criterion': 'gini', 'max_depth': 3, 'min_samples_split': 12, 'min_samples_leaf': 3}.\n",
      "[I 2020-08-11 08:35:19,020] Finished trial#61 resulted in value: 0.9289879475363346. Current best value is 0.9370838471023427 with parameters: {'criterion': 'gini', 'max_depth': 3, 'min_samples_split': 12, 'min_samples_leaf': 3}.\n",
      "[I 2020-08-11 08:35:25,475] Finished trial#62 resulted in value: 0.9370838471023427. Current best value is 0.9370838471023427 with parameters: {'criterion': 'gini', 'max_depth': 3, 'min_samples_split': 12, 'min_samples_leaf': 3}.\n",
      "[I 2020-08-11 08:35:26,565] Finished trial#63 resulted in value: 0.9370838471023427. Current best value is 0.9370838471023427 with parameters: {'criterion': 'gini', 'max_depth': 3, 'min_samples_split': 12, 'min_samples_leaf': 3}.\n",
      "[I 2020-08-11 08:35:33,012] Finished trial#64 resulted in value: 0.9370838471023427. Current best value is 0.9370838471023427 with parameters: {'criterion': 'gini', 'max_depth': 3, 'min_samples_split': 12, 'min_samples_leaf': 3}.\n",
      "[I 2020-08-11 08:35:34,093] Finished trial#65 resulted in value: 0.9370838471023427. Current best value is 0.9370838471023427 with parameters: {'criterion': 'gini', 'max_depth': 3, 'min_samples_split': 12, 'min_samples_leaf': 3}.\n",
      "[I 2020-08-11 08:35:40,949] Finished trial#66 resulted in value: 0.9135519801980198. Current best value is 0.9370838471023427 with parameters: {'criterion': 'gini', 'max_depth': 3, 'min_samples_split': 12, 'min_samples_leaf': 3}.\n",
      "[I 2020-08-11 08:35:41,987] Finished trial#67 resulted in value: 0.9135519801980198. Current best value is 0.9370838471023427 with parameters: {'criterion': 'gini', 'max_depth': 3, 'min_samples_split': 12, 'min_samples_leaf': 3}.\n",
      "[I 2020-08-11 08:35:48,649] Finished trial#69 resulted in value: 0.9144601236721103. Current best value is 0.9370838471023427 with parameters: {'criterion': 'gini', 'max_depth': 3, 'min_samples_split': 12, 'min_samples_leaf': 3}.\n",
      "[I 2020-08-11 08:35:49,585] Finished trial#68 resulted in value: 0.9135519801980198. Current best value is 0.9370838471023427 with parameters: {'criterion': 'gini', 'max_depth': 3, 'min_samples_split': 12, 'min_samples_leaf': 3}.\n",
      "[I 2020-08-11 08:35:56,229] Finished trial#71 resulted in value: 0.9370838471023427. Current best value is 0.9370838471023427 with parameters: {'criterion': 'gini', 'max_depth': 3, 'min_samples_split': 12, 'min_samples_leaf': 3}.\n",
      "[I 2020-08-11 08:35:57,253] Finished trial#70 resulted in value: 0.9135519801980198. Current best value is 0.9370838471023427 with parameters: {'criterion': 'gini', 'max_depth': 3, 'min_samples_split': 12, 'min_samples_leaf': 3}.\n",
      "[I 2020-08-11 08:36:03,714] Finished trial#72 resulted in value: 0.9370838471023427. Current best value is 0.9370838471023427 with parameters: {'criterion': 'gini', 'max_depth': 3, 'min_samples_split': 12, 'min_samples_leaf': 3}.\n",
      "[I 2020-08-11 08:36:04,712] Finished trial#73 resulted in value: 0.9370838471023427. Current best value is 0.9370838471023427 with parameters: {'criterion': 'gini', 'max_depth': 3, 'min_samples_split': 12, 'min_samples_leaf': 3}.\n",
      "[I 2020-08-11 08:36:11,231] Finished trial#74 resulted in value: 0.9370838471023427. Current best value is 0.9370838471023427 with parameters: {'criterion': 'gini', 'max_depth': 3, 'min_samples_split': 12, 'min_samples_leaf': 3}.\n",
      "[I 2020-08-11 08:36:12,225] Finished trial#75 resulted in value: 0.9370838471023427. Current best value is 0.9370838471023427 with parameters: {'criterion': 'gini', 'max_depth': 3, 'min_samples_split': 12, 'min_samples_leaf': 3}.\n",
      "[I 2020-08-11 08:36:18,444] Finished trial#76 resulted in value: 0.9144601236721103. Current best value is 0.9370838471023427 with parameters: {'criterion': 'gini', 'max_depth': 3, 'min_samples_split': 12, 'min_samples_leaf': 3}.\n",
      "[I 2020-08-11 08:36:20,248] Finished trial#77 resulted in value: 0.9135519801980198. Current best value is 0.9370838471023427 with parameters: {'criterion': 'gini', 'max_depth': 3, 'min_samples_split': 12, 'min_samples_leaf': 3}.\n",
      "[I 2020-08-11 08:36:26,039] Finished trial#78 resulted in value: 0.912474208839581. Current best value is 0.9370838471023427 with parameters: {'criterion': 'gini', 'max_depth': 3, 'min_samples_split': 12, 'min_samples_leaf': 3}.\n",
      "[I 2020-08-11 08:36:30,997] Finished trial#79 resulted in value: 0.9271849239578699. Current best value is 0.9370838471023427 with parameters: {'criterion': 'gini', 'max_depth': 3, 'min_samples_split': 12, 'min_samples_leaf': 3}.\n",
      "[I 2020-08-11 08:36:32,819] Finished trial#80 resulted in value: 0.9370838471023427. Current best value is 0.9370838471023427 with parameters: {'criterion': 'gini', 'max_depth': 3, 'min_samples_split': 12, 'min_samples_leaf': 3}.\n",
      "[I 2020-08-11 08:36:38,492] Finished trial#81 resulted in value: 0.9370838471023427. Current best value is 0.9370838471023427 with parameters: {'criterion': 'gini', 'max_depth': 3, 'min_samples_split': 12, 'min_samples_leaf': 3}.\n",
      "[I 2020-08-11 08:36:40,228] Finished trial#82 resulted in value: 0.9370838471023427. Current best value is 0.9370838471023427 with parameters: {'criterion': 'gini', 'max_depth': 3, 'min_samples_split': 12, 'min_samples_leaf': 3}.\n",
      "[I 2020-08-11 08:36:45,981] Finished trial#83 resulted in value: 0.9370838471023427. Current best value is 0.9370838471023427 with parameters: {'criterion': 'gini', 'max_depth': 3, 'min_samples_split': 12, 'min_samples_leaf': 3}.\n",
      "[I 2020-08-11 08:36:47,719] Finished trial#84 resulted in value: 0.9370838471023427. Current best value is 0.9370838471023427 with parameters: {'criterion': 'gini', 'max_depth': 3, 'min_samples_split': 12, 'min_samples_leaf': 3}.\n",
      "[I 2020-08-11 08:36:53,255] Finished trial#85 resulted in value: 0.9370838471023427. Current best value is 0.9370838471023427 with parameters: {'criterion': 'gini', 'max_depth': 3, 'min_samples_split': 12, 'min_samples_leaf': 3}.\n",
      "[I 2020-08-11 08:36:55,720] Finished trial#86 resulted in value: 0.912474208839581. Current best value is 0.9370838471023427 with parameters: {'criterion': 'gini', 'max_depth': 3, 'min_samples_split': 12, 'min_samples_leaf': 3}.\n",
      "[I 2020-08-11 08:37:01,162] Finished trial#87 resulted in value: 0.9135519801980198. Current best value is 0.9370838471023427 with parameters: {'criterion': 'gini', 'max_depth': 3, 'min_samples_split': 12, 'min_samples_leaf': 3}.\n",
      "[I 2020-08-11 08:37:03,008] Finished trial#88 resulted in value: 0.9370838471023427. Current best value is 0.9370838471023427 with parameters: {'criterion': 'gini', 'max_depth': 3, 'min_samples_split': 12, 'min_samples_leaf': 3}.\n",
      "[I 2020-08-11 08:37:08,659] Finished trial#89 resulted in value: 0.9370838471023427. Current best value is 0.9370838471023427 with parameters: {'criterion': 'gini', 'max_depth': 3, 'min_samples_split': 12, 'min_samples_leaf': 3}.\n",
      "[I 2020-08-11 08:37:10,516] Finished trial#90 resulted in value: 0.9370838471023427. Current best value is 0.9370838471023427 with parameters: {'criterion': 'gini', 'max_depth': 3, 'min_samples_split': 12, 'min_samples_leaf': 3}.\n",
      "[I 2020-08-11 08:37:16,551] Finished trial#91 resulted in value: 0.9135519801980198. Current best value is 0.9370838471023427 with parameters: {'criterion': 'gini', 'max_depth': 3, 'min_samples_split': 12, 'min_samples_leaf': 3}.\n",
      "[I 2020-08-11 08:37:17,858] Finished trial#92 resulted in value: 0.9370838471023427. Current best value is 0.9370838471023427 with parameters: {'criterion': 'gini', 'max_depth': 3, 'min_samples_split': 12, 'min_samples_leaf': 3}.\n",
      "[I 2020-08-11 08:37:24,053] Finished trial#93 resulted in value: 0.9370838471023427. Current best value is 0.9370838471023427 with parameters: {'criterion': 'gini', 'max_depth': 3, 'min_samples_split': 12, 'min_samples_leaf': 3}.\n",
      "[I 2020-08-11 08:37:25,372] Finished trial#94 resulted in value: 0.9370838471023427. Current best value is 0.9370838471023427 with parameters: {'criterion': 'gini', 'max_depth': 3, 'min_samples_split': 12, 'min_samples_leaf': 3}.\n",
      "[I 2020-08-11 08:37:31,549] Finished trial#95 resulted in value: 0.9370838471023427. Current best value is 0.9370838471023427 with parameters: {'criterion': 'gini', 'max_depth': 3, 'min_samples_split': 12, 'min_samples_leaf': 3}.\n",
      "[I 2020-08-11 08:37:32,861] Finished trial#96 resulted in value: 0.9370838471023427. Current best value is 0.9370838471023427 with parameters: {'criterion': 'gini', 'max_depth': 3, 'min_samples_split': 12, 'min_samples_leaf': 3}.\n",
      "[I 2020-08-11 08:37:39,437] Finished trial#97 resulted in value: 0.9135519801980198. Current best value is 0.9370838471023427 with parameters: {'criterion': 'gini', 'max_depth': 3, 'min_samples_split': 12, 'min_samples_leaf': 3}.\n",
      "[I 2020-08-11 08:37:40,744] Finished trial#98 resulted in value: 0.9135519801980198. Current best value is 0.9370838471023427 with parameters: {'criterion': 'gini', 'max_depth': 3, 'min_samples_split': 12, 'min_samples_leaf': 3}.\n",
      "[I 2020-08-11 08:37:46,990] Finished trial#99 resulted in value: 0.9370838471023427. Current best value is 0.9370838471023427 with parameters: {'criterion': 'gini', 'max_depth': 3, 'min_samples_split': 12, 'min_samples_leaf': 3}.\n",
      "[I 2020-08-11 08:37:48,186] Finished trial#100 resulted in value: 0.9370838471023427. Current best value is 0.9370838471023427 with parameters: {'criterion': 'gini', 'max_depth': 3, 'min_samples_split': 12, 'min_samples_leaf': 3}.\n",
      "[I 2020-08-11 08:37:54,526] Finished trial#101 resulted in value: 0.9370838471023427. Current best value is 0.9370838471023427 with parameters: {'criterion': 'gini', 'max_depth': 3, 'min_samples_split': 12, 'min_samples_leaf': 3}.\n",
      "[I 2020-08-11 08:37:55,669] Finished trial#102 resulted in value: 0.9370838471023427. Current best value is 0.9370838471023427 with parameters: {'criterion': 'gini', 'max_depth': 3, 'min_samples_split': 12, 'min_samples_leaf': 3}.\n",
      "[I 2020-08-11 08:38:01,939] Finished trial#103 resulted in value: 0.9370838471023427. Current best value is 0.9370838471023427 with parameters: {'criterion': 'gini', 'max_depth': 3, 'min_samples_split': 12, 'min_samples_leaf': 3}.\n",
      "[I 2020-08-11 08:38:03,171] Finished trial#104 resulted in value: 0.9370838471023427. Current best value is 0.9370838471023427 with parameters: {'criterion': 'gini', 'max_depth': 3, 'min_samples_split': 12, 'min_samples_leaf': 3}.\n",
      "[I 2020-08-11 08:38:09,446] Finished trial#105 resulted in value: 0.9370838471023427. Current best value is 0.9370838471023427 with parameters: {'criterion': 'gini', 'max_depth': 3, 'min_samples_split': 12, 'min_samples_leaf': 3}.\n",
      "[I 2020-08-11 08:38:10,680] Finished trial#106 resulted in value: 0.9370838471023427. Current best value is 0.9370838471023427 with parameters: {'criterion': 'gini', 'max_depth': 3, 'min_samples_split': 12, 'min_samples_leaf': 3}.\n",
      "[I 2020-08-11 08:38:16,959] Finished trial#107 resulted in value: 0.9144601236721103. Current best value is 0.9370838471023427 with parameters: {'criterion': 'gini', 'max_depth': 3, 'min_samples_split': 12, 'min_samples_leaf': 3}.\n",
      "[I 2020-08-11 08:38:18,157] Finished trial#108 resulted in value: 0.9370838471023427. Current best value is 0.9370838471023427 with parameters: {'criterion': 'gini', 'max_depth': 3, 'min_samples_split': 12, 'min_samples_leaf': 3}.\n",
      "[I 2020-08-11 08:38:24,779] Finished trial#109 resulted in value: 0.9135519801980198. Current best value is 0.9370838471023427 with parameters: {'criterion': 'gini', 'max_depth': 3, 'min_samples_split': 12, 'min_samples_leaf': 3}.\n",
      "[I 2020-08-11 08:38:25,974] Finished trial#110 resulted in value: 0.9135519801980198. Current best value is 0.9370838471023427 with parameters: {'criterion': 'gini', 'max_depth': 3, 'min_samples_split': 12, 'min_samples_leaf': 3}.\n",
      "[I 2020-08-11 08:38:32,740] Finished trial#112 resulted in value: 0.9370838471023427. Current best value is 0.9370838471023427 with parameters: {'criterion': 'gini', 'max_depth': 3, 'min_samples_split': 12, 'min_samples_leaf': 3}.\n",
      "[I 2020-08-11 08:38:33,431] Finished trial#111 resulted in value: 0.9135519801980198. Current best value is 0.9370838471023427 with parameters: {'criterion': 'gini', 'max_depth': 3, 'min_samples_split': 12, 'min_samples_leaf': 3}.\n",
      "[I 2020-08-11 08:38:40,426] Finished trial#114 resulted in value: 0.9370838471023427. Current best value is 0.9370838471023427 with parameters: {'criterion': 'gini', 'max_depth': 3, 'min_samples_split': 12, 'min_samples_leaf': 3}.\n",
      "[I 2020-08-11 08:38:40,501] Finished trial#113 resulted in value: 0.9370838471023427. Current best value is 0.9370838471023427 with parameters: {'criterion': 'gini', 'max_depth': 3, 'min_samples_split': 12, 'min_samples_leaf': 3}.\n",
      "[I 2020-08-11 08:38:47,914] Finished trial#115 resulted in value: 0.9370838471023427. Current best value is 0.9370838471023427 with parameters: {'criterion': 'gini', 'max_depth': 3, 'min_samples_split': 12, 'min_samples_leaf': 3}.\n",
      "[I 2020-08-11 08:38:47,989] Finished trial#116 resulted in value: 0.9370838471023427. Current best value is 0.9370838471023427 with parameters: {'criterion': 'gini', 'max_depth': 3, 'min_samples_split': 12, 'min_samples_leaf': 3}.\n",
      "[I 2020-08-11 08:38:55,350] Finished trial#118 resulted in value: 0.9370838471023427. Current best value is 0.9370838471023427 with parameters: {'criterion': 'gini', 'max_depth': 3, 'min_samples_split': 12, 'min_samples_leaf': 3}.\n",
      "[I 2020-08-11 08:38:55,964] Finished trial#117 resulted in value: 0.9370838471023427. Current best value is 0.9370838471023427 with parameters: {'criterion': 'gini', 'max_depth': 3, 'min_samples_split': 12, 'min_samples_leaf': 3}.\n",
      "[I 2020-08-11 08:39:03,075] Finished trial#119 resulted in value: 0.9284658040665434. Current best value is 0.9370838471023427 with parameters: {'criterion': 'gini', 'max_depth': 3, 'min_samples_split': 12, 'min_samples_leaf': 3}.\n",
      "[I 2020-08-11 08:39:03,658] Finished trial#120 resulted in value: 0.9284658040665434. Current best value is 0.9370838471023427 with parameters: {'criterion': 'gini', 'max_depth': 3, 'min_samples_split': 12, 'min_samples_leaf': 3}.\n",
      "[I 2020-08-11 08:39:10,309] Finished trial#122 resulted in value: 0.9370838471023427. Current best value is 0.9370838471023427 with parameters: {'criterion': 'gini', 'max_depth': 3, 'min_samples_split': 12, 'min_samples_leaf': 3}.\n",
      "[I 2020-08-11 08:39:11,707] Finished trial#121 resulted in value: 0.9135519801980198. Current best value is 0.9370838471023427 with parameters: {'criterion': 'gini', 'max_depth': 3, 'min_samples_split': 12, 'min_samples_leaf': 3}.\n",
      "[I 2020-08-11 08:39:17,024] Finished trial#123 resulted in value: 0.9370838471023427. Current best value is 0.9370838471023427 with parameters: {'criterion': 'gini', 'max_depth': 3, 'min_samples_split': 12, 'min_samples_leaf': 3}.\n",
      "[I 2020-08-11 08:39:22,866] Finished trial#124 resulted in value: 0.917073787881737. Current best value is 0.9370838471023427 with parameters: {'criterion': 'gini', 'max_depth': 3, 'min_samples_split': 12, 'min_samples_leaf': 3}.\n",
      "[I 2020-08-11 08:39:28,456] Finished trial#125 resulted in value: 0.917073787881737. Current best value is 0.9370838471023427 with parameters: {'criterion': 'gini', 'max_depth': 3, 'min_samples_split': 12, 'min_samples_leaf': 3}.\n",
      "[I 2020-08-11 08:39:29,468] Finished trial#126 resulted in value: 0.9370838471023427. Current best value is 0.9370838471023427 with parameters: {'criterion': 'gini', 'max_depth': 3, 'min_samples_split': 12, 'min_samples_leaf': 3}.\n",
      "[I 2020-08-11 08:39:35,862] Finished trial#127 resulted in value: 0.9370838471023427. Current best value is 0.9370838471023427 with parameters: {'criterion': 'gini', 'max_depth': 3, 'min_samples_split': 12, 'min_samples_leaf': 3}.\n",
      "[I 2020-08-11 08:39:36,977] Finished trial#128 resulted in value: 0.9370838471023427. Current best value is 0.9370838471023427 with parameters: {'criterion': 'gini', 'max_depth': 3, 'min_samples_split': 12, 'min_samples_leaf': 3}.\n",
      "[I 2020-08-11 08:39:43,388] Finished trial#129 resulted in value: 0.9370838471023427. Current best value is 0.9370838471023427 with parameters: {'criterion': 'gini', 'max_depth': 3, 'min_samples_split': 12, 'min_samples_leaf': 3}.\n",
      "[I 2020-08-11 08:39:44,527] Finished trial#130 resulted in value: 0.9370838471023427. Current best value is 0.9370838471023427 with parameters: {'criterion': 'gini', 'max_depth': 3, 'min_samples_split': 12, 'min_samples_leaf': 3}.\n",
      "[I 2020-08-11 08:39:50,878] Finished trial#131 resulted in value: 0.9370838471023427. Current best value is 0.9370838471023427 with parameters: {'criterion': 'gini', 'max_depth': 3, 'min_samples_split': 12, 'min_samples_leaf': 3}.\n",
      "[I 2020-08-11 08:39:52,018] Finished trial#132 resulted in value: 0.9370838471023427. Current best value is 0.9370838471023427 with parameters: {'criterion': 'gini', 'max_depth': 3, 'min_samples_split': 12, 'min_samples_leaf': 3}.\n",
      "[I 2020-08-11 08:39:58,386] Finished trial#133 resulted in value: 0.9370838471023427. Current best value is 0.9370838471023427 with parameters: {'criterion': 'gini', 'max_depth': 3, 'min_samples_split': 12, 'min_samples_leaf': 3}.\n",
      "[I 2020-08-11 08:39:59,491] Finished trial#134 resulted in value: 0.9370838471023427. Current best value is 0.9370838471023427 with parameters: {'criterion': 'gini', 'max_depth': 3, 'min_samples_split': 12, 'min_samples_leaf': 3}.\n",
      "[I 2020-08-11 08:40:05,931] Finished trial#135 resulted in value: 0.9370838471023427. Current best value is 0.9370838471023427 with parameters: {'criterion': 'gini', 'max_depth': 3, 'min_samples_split': 12, 'min_samples_leaf': 3}.\n",
      "[I 2020-08-11 08:40:06,933] Finished trial#136 resulted in value: 0.9370838471023427. Current best value is 0.9370838471023427 with parameters: {'criterion': 'gini', 'max_depth': 3, 'min_samples_split': 12, 'min_samples_leaf': 3}.\n",
      "[I 2020-08-11 08:40:13,890] Finished trial#137 resulted in value: 0.9135519801980198. Current best value is 0.9370838471023427 with parameters: {'criterion': 'gini', 'max_depth': 3, 'min_samples_split': 12, 'min_samples_leaf': 3}.\n",
      "[I 2020-08-11 08:40:14,705] Finished trial#138 resulted in value: 0.9135519801980198. Current best value is 0.9370838471023427 with parameters: {'criterion': 'gini', 'max_depth': 3, 'min_samples_split': 12, 'min_samples_leaf': 3}.\n",
      "[I 2020-08-11 08:40:21,355] Finished trial#140 resulted in value: 0.9370838471023427. Current best value is 0.9370838471023427 with parameters: {'criterion': 'gini', 'max_depth': 3, 'min_samples_split': 12, 'min_samples_leaf': 3}.\n",
      "[I 2020-08-11 08:40:22,459] Finished trial#139 resulted in value: 0.912474208839581. Current best value is 0.9370838471023427 with parameters: {'criterion': 'gini', 'max_depth': 3, 'min_samples_split': 12, 'min_samples_leaf': 3}.\n",
      "[I 2020-08-11 08:40:28,847] Finished trial#141 resulted in value: 0.9370838471023427. Current best value is 0.9370838471023427 with parameters: {'criterion': 'gini', 'max_depth': 3, 'min_samples_split': 12, 'min_samples_leaf': 3}.\n",
      "[I 2020-08-11 08:40:29,940] Finished trial#142 resulted in value: 0.9370838471023427. Current best value is 0.9370838471023427 with parameters: {'criterion': 'gini', 'max_depth': 3, 'min_samples_split': 12, 'min_samples_leaf': 3}.\n",
      "[I 2020-08-11 08:40:36,382] Finished trial#143 resulted in value: 0.9370838471023427. Current best value is 0.9370838471023427 with parameters: {'criterion': 'gini', 'max_depth': 3, 'min_samples_split': 12, 'min_samples_leaf': 3}.\n",
      "[I 2020-08-11 08:40:37,462] Finished trial#144 resulted in value: 0.9370838471023427. Current best value is 0.9370838471023427 with parameters: {'criterion': 'gini', 'max_depth': 3, 'min_samples_split': 12, 'min_samples_leaf': 3}.\n",
      "[I 2020-08-11 08:40:43,912] Finished trial#145 resulted in value: 0.9370838471023427. Current best value is 0.9370838471023427 with parameters: {'criterion': 'gini', 'max_depth': 3, 'min_samples_split': 12, 'min_samples_leaf': 3}.\n",
      "[I 2020-08-11 08:40:44,999] Finished trial#146 resulted in value: 0.9370838471023427. Current best value is 0.9370838471023427 with parameters: {'criterion': 'gini', 'max_depth': 3, 'min_samples_split': 12, 'min_samples_leaf': 3}.\n",
      "[I 2020-08-11 08:40:51,435] Finished trial#147 resulted in value: 0.9370838471023427. Current best value is 0.9370838471023427 with parameters: {'criterion': 'gini', 'max_depth': 3, 'min_samples_split': 12, 'min_samples_leaf': 3}.\n",
      "[I 2020-08-11 08:40:52,446] Finished trial#148 resulted in value: 0.9370838471023427. Current best value is 0.9370838471023427 with parameters: {'criterion': 'gini', 'max_depth': 3, 'min_samples_split': 12, 'min_samples_leaf': 3}.\n",
      "[I 2020-08-11 08:40:59,113] Finished trial#149 resulted in value: 0.9370838471023427. Current best value is 0.9370838471023427 with parameters: {'criterion': 'gini', 'max_depth': 3, 'min_samples_split': 12, 'min_samples_leaf': 3}.\n",
      "[I 2020-08-11 08:40:59,984] Finished trial#150 resulted in value: 0.9370838471023427. Current best value is 0.9370838471023427 with parameters: {'criterion': 'gini', 'max_depth': 3, 'min_samples_split': 12, 'min_samples_leaf': 3}.\n",
      "[I 2020-08-11 08:41:06,658] Finished trial#151 resulted in value: 0.9370838471023427. Current best value is 0.9370838471023427 with parameters: {'criterion': 'gini', 'max_depth': 3, 'min_samples_split': 12, 'min_samples_leaf': 3}.\n",
      "[I 2020-08-11 08:41:07,467] Finished trial#152 resulted in value: 0.9370838471023427. Current best value is 0.9370838471023427 with parameters: {'criterion': 'gini', 'max_depth': 3, 'min_samples_split': 12, 'min_samples_leaf': 3}.\n",
      "[I 2020-08-11 08:41:13,405] Finished trial#154 resulted in value: 0.9370838471023427. Current best value is 0.9370838471023427 with parameters: {'criterion': 'gini', 'max_depth': 3, 'min_samples_split': 12, 'min_samples_leaf': 3}.\n",
      "[I 2020-08-11 08:41:18,641] Finished trial#153 resulted in value: 0.9164282597100325. Current best value is 0.9370838471023427 with parameters: {'criterion': 'gini', 'max_depth': 3, 'min_samples_split': 12, 'min_samples_leaf': 3}.\n",
      "[I 2020-08-11 08:41:20,306] Finished trial#155 resulted in value: 0.9370838471023427. Current best value is 0.9370838471023427 with parameters: {'criterion': 'gini', 'max_depth': 3, 'min_samples_split': 12, 'min_samples_leaf': 3}.\n",
      "[I 2020-08-11 08:41:26,146] Finished trial#156 resulted in value: 0.9370838471023427. Current best value is 0.9370838471023427 with parameters: {'criterion': 'gini', 'max_depth': 3, 'min_samples_split': 12, 'min_samples_leaf': 3}.\n",
      "[I 2020-08-11 08:41:27,754] Finished trial#157 resulted in value: 0.9370838471023427. Current best value is 0.9370838471023427 with parameters: {'criterion': 'gini', 'max_depth': 3, 'min_samples_split': 12, 'min_samples_leaf': 3}.\n",
      "[I 2020-08-11 08:41:33,640] Finished trial#158 resulted in value: 0.9370838471023427. Current best value is 0.9370838471023427 with parameters: {'criterion': 'gini', 'max_depth': 3, 'min_samples_split': 12, 'min_samples_leaf': 3}.\n",
      "[I 2020-08-11 08:41:35,256] Finished trial#159 resulted in value: 0.9370838471023427. Current best value is 0.9370838471023427 with parameters: {'criterion': 'gini', 'max_depth': 3, 'min_samples_split': 12, 'min_samples_leaf': 3}.\n",
      "[I 2020-08-11 08:41:40,499] Finished trial#160 resulted in value: 0.9370838471023427. Current best value is 0.9370838471023427 with parameters: {'criterion': 'gini', 'max_depth': 3, 'min_samples_split': 12, 'min_samples_leaf': 3}.\n",
      "[I 2020-08-11 08:41:45,404] Finished trial#161 resulted in value: 0.9271849239578699. Current best value is 0.9370838471023427 with parameters: {'criterion': 'gini', 'max_depth': 3, 'min_samples_split': 12, 'min_samples_leaf': 3}.\n",
      "[I 2020-08-11 08:41:47,426] Finished trial#162 resulted in value: 0.9370838471023427. Current best value is 0.9370838471023427 with parameters: {'criterion': 'gini', 'max_depth': 3, 'min_samples_split': 12, 'min_samples_leaf': 3}.\n",
      "[I 2020-08-11 08:41:52,965] Finished trial#163 resulted in value: 0.9370838471023427. Current best value is 0.9370838471023427 with parameters: {'criterion': 'gini', 'max_depth': 3, 'min_samples_split': 12, 'min_samples_leaf': 3}.\n",
      "[I 2020-08-11 08:41:54,925] Finished trial#164 resulted in value: 0.9370838471023427. Current best value is 0.9370838471023427 with parameters: {'criterion': 'gini', 'max_depth': 3, 'min_samples_split': 12, 'min_samples_leaf': 3}.\n",
      "[I 2020-08-11 08:42:00,555] Finished trial#165 resulted in value: 0.9370838471023427. Current best value is 0.9370838471023427 with parameters: {'criterion': 'gini', 'max_depth': 3, 'min_samples_split': 12, 'min_samples_leaf': 3}.\n",
      "[I 2020-08-11 08:42:02,433] Finished trial#166 resulted in value: 0.9370838471023427. Current best value is 0.9370838471023427 with parameters: {'criterion': 'gini', 'max_depth': 3, 'min_samples_split': 12, 'min_samples_leaf': 3}.\n",
      "[I 2020-08-11 08:42:08,069] Finished trial#167 resulted in value: 0.9370838471023427. Current best value is 0.9370838471023427 with parameters: {'criterion': 'gini', 'max_depth': 3, 'min_samples_split': 12, 'min_samples_leaf': 3}.\n",
      "[I 2020-08-11 08:42:09,930] Finished trial#168 resulted in value: 0.9370838471023427. Current best value is 0.9370838471023427 with parameters: {'criterion': 'gini', 'max_depth': 3, 'min_samples_split': 12, 'min_samples_leaf': 3}.\n",
      "[I 2020-08-11 08:42:15,386] Finished trial#169 resulted in value: 0.9370838471023427. Current best value is 0.9370838471023427 with parameters: {'criterion': 'gini', 'max_depth': 3, 'min_samples_split': 12, 'min_samples_leaf': 3}.\n",
      "[I 2020-08-11 08:42:17,934] Finished trial#170 resulted in value: 0.9135519801980198. Current best value is 0.9370838471023427 with parameters: {'criterion': 'gini', 'max_depth': 3, 'min_samples_split': 12, 'min_samples_leaf': 3}.\n",
      "[I 2020-08-11 08:42:23,373] Finished trial#171 resulted in value: 0.9135519801980198. Current best value is 0.9370838471023427 with parameters: {'criterion': 'gini', 'max_depth': 3, 'min_samples_split': 12, 'min_samples_leaf': 3}.\n",
      "[I 2020-08-11 08:42:25,274] Finished trial#172 resulted in value: 0.9370838471023427. Current best value is 0.9370838471023427 with parameters: {'criterion': 'gini', 'max_depth': 3, 'min_samples_split': 12, 'min_samples_leaf': 3}.\n",
      "[I 2020-08-11 08:42:30,879] Finished trial#173 resulted in value: 0.9370838471023427. Current best value is 0.9370838471023427 with parameters: {'criterion': 'gini', 'max_depth': 3, 'min_samples_split': 12, 'min_samples_leaf': 3}.\n",
      "[I 2020-08-11 08:42:32,788] Finished trial#174 resulted in value: 0.9370838471023427. Current best value is 0.9370838471023427 with parameters: {'criterion': 'gini', 'max_depth': 3, 'min_samples_split': 12, 'min_samples_leaf': 3}.\n",
      "[I 2020-08-11 08:42:38,421] Finished trial#175 resulted in value: 0.9370838471023427. Current best value is 0.9370838471023427 with parameters: {'criterion': 'gini', 'max_depth': 3, 'min_samples_split': 12, 'min_samples_leaf': 3}.\n",
      "[I 2020-08-11 08:42:40,280] Finished trial#176 resulted in value: 0.9370838471023427. Current best value is 0.9370838471023427 with parameters: {'criterion': 'gini', 'max_depth': 3, 'min_samples_split': 12, 'min_samples_leaf': 3}.\n",
      "[I 2020-08-11 08:42:45,943] Finished trial#177 resulted in value: 0.9370838471023427. Current best value is 0.9370838471023427 with parameters: {'criterion': 'gini', 'max_depth': 3, 'min_samples_split': 12, 'min_samples_leaf': 3}.\n",
      "[I 2020-08-11 08:42:47,760] Finished trial#178 resulted in value: 0.9370838471023427. Current best value is 0.9370838471023427 with parameters: {'criterion': 'gini', 'max_depth': 3, 'min_samples_split': 12, 'min_samples_leaf': 3}.\n",
      "[I 2020-08-11 08:42:53,447] Finished trial#179 resulted in value: 0.9370838471023427. Current best value is 0.9370838471023427 with parameters: {'criterion': 'gini', 'max_depth': 3, 'min_samples_split': 12, 'min_samples_leaf': 3}.\n",
      "[I 2020-08-11 08:42:55,255] Finished trial#180 resulted in value: 0.9370838471023427. Current best value is 0.9370838471023427 with parameters: {'criterion': 'gini', 'max_depth': 3, 'min_samples_split': 12, 'min_samples_leaf': 3}.\n",
      "[I 2020-08-11 08:43:00,990] Finished trial#181 resulted in value: 0.9370838471023427. Current best value is 0.9370838471023427 with parameters: {'criterion': 'gini', 'max_depth': 3, 'min_samples_split': 12, 'min_samples_leaf': 3}.\n",
      "[I 2020-08-11 08:43:02,762] Finished trial#182 resulted in value: 0.9370838471023427. Current best value is 0.9370838471023427 with parameters: {'criterion': 'gini', 'max_depth': 3, 'min_samples_split': 12, 'min_samples_leaf': 3}.\n",
      "[I 2020-08-11 08:43:08,522] Finished trial#183 resulted in value: 0.9370838471023427. Current best value is 0.9370838471023427 with parameters: {'criterion': 'gini', 'max_depth': 3, 'min_samples_split': 12, 'min_samples_leaf': 3}.\n",
      "[I 2020-08-11 08:43:10,258] Finished trial#184 resulted in value: 0.9370838471023427. Current best value is 0.9370838471023427 with parameters: {'criterion': 'gini', 'max_depth': 3, 'min_samples_split': 12, 'min_samples_leaf': 3}.\n",
      "[I 2020-08-11 08:43:16,129] Finished trial#185 resulted in value: 0.9370838471023427. Current best value is 0.9370838471023427 with parameters: {'criterion': 'gini', 'max_depth': 3, 'min_samples_split': 12, 'min_samples_leaf': 3}.\n",
      "[I 2020-08-11 08:43:17,790] Finished trial#186 resulted in value: 0.9144601236721103. Current best value is 0.9370838471023427 with parameters: {'criterion': 'gini', 'max_depth': 3, 'min_samples_split': 12, 'min_samples_leaf': 3}.\n",
      "[I 2020-08-11 08:43:23,033] Finished trial#187 resulted in value: 0.9144601236721103. Current best value is 0.9370838471023427 with parameters: {'criterion': 'gini', 'max_depth': 3, 'min_samples_split': 12, 'min_samples_leaf': 3}.\n",
      "[I 2020-08-11 08:43:26,998] Finished trial#188 resulted in value: 0.9266402995911193. Current best value is 0.9370838471023427 with parameters: {'criterion': 'gini', 'max_depth': 3, 'min_samples_split': 12, 'min_samples_leaf': 3}.\n",
      "[I 2020-08-11 08:43:32,152] Finished trial#189 resulted in value: 0.9266402995911193. Current best value is 0.9370838471023427 with parameters: {'criterion': 'gini', 'max_depth': 3, 'min_samples_split': 12, 'min_samples_leaf': 3}.\n",
      "[I 2020-08-11 08:43:34,418] Finished trial#190 resulted in value: 0.9284658040665434. Current best value is 0.9370838471023427 with parameters: {'criterion': 'gini', 'max_depth': 3, 'min_samples_split': 12, 'min_samples_leaf': 3}.\n",
      "[I 2020-08-11 08:43:39,964] Finished trial#191 resulted in value: 0.9284658040665434. Current best value is 0.9370838471023427 with parameters: {'criterion': 'gini', 'max_depth': 3, 'min_samples_split': 12, 'min_samples_leaf': 3}.\n",
      "[I 2020-08-11 08:43:41,716] Finished trial#192 resulted in value: 0.9370838471023427. Current best value is 0.9370838471023427 with parameters: {'criterion': 'gini', 'max_depth': 3, 'min_samples_split': 12, 'min_samples_leaf': 3}.\n",
      "[I 2020-08-11 08:43:47,456] Finished trial#193 resulted in value: 0.9370838471023427. Current best value is 0.9370838471023427 with parameters: {'criterion': 'gini', 'max_depth': 3, 'min_samples_split': 12, 'min_samples_leaf': 3}.\n",
      "[I 2020-08-11 08:43:49,260] Finished trial#194 resulted in value: 0.9370838471023427. Current best value is 0.9370838471023427 with parameters: {'criterion': 'gini', 'max_depth': 3, 'min_samples_split': 12, 'min_samples_leaf': 3}.\n",
      "[I 2020-08-11 08:43:55,053] Finished trial#195 resulted in value: 0.9370838471023427. Current best value is 0.9370838471023427 with parameters: {'criterion': 'gini', 'max_depth': 3, 'min_samples_split': 12, 'min_samples_leaf': 3}.\n",
      "[I 2020-08-11 08:43:56,665] Finished trial#196 resulted in value: 0.9370838471023427. Current best value is 0.9370838471023427 with parameters: {'criterion': 'gini', 'max_depth': 3, 'min_samples_split': 12, 'min_samples_leaf': 3}.\n",
      "[I 2020-08-11 08:44:02,648] Finished trial#197 resulted in value: 0.9370838471023427. Current best value is 0.9370838471023427 with parameters: {'criterion': 'gini', 'max_depth': 3, 'min_samples_split': 12, 'min_samples_leaf': 3}.\n",
      "[I 2020-08-11 08:44:04,164] Finished trial#198 resulted in value: 0.9370838471023427. Current best value is 0.9370838471023427 with parameters: {'criterion': 'gini', 'max_depth': 3, 'min_samples_split': 12, 'min_samples_leaf': 3}.\n",
      "[I 2020-08-11 08:44:10,143] Finished trial#199 resulted in value: 0.9370838471023427. Current best value is 0.9370838471023427 with parameters: {'criterion': 'gini', 'max_depth': 3, 'min_samples_split': 12, 'min_samples_leaf': 3}.\n",
      "[I 2020-08-11 08:44:11,770] Finished trial#200 resulted in value: 0.9370838471023427. Current best value is 0.9370838471023427 with parameters: {'criterion': 'gini', 'max_depth': 3, 'min_samples_split': 12, 'min_samples_leaf': 3}.\n",
      "[I 2020-08-11 08:44:17,653] Finished trial#201 resulted in value: 0.9370838471023427. Current best value is 0.9370838471023427 with parameters: {'criterion': 'gini', 'max_depth': 3, 'min_samples_split': 12, 'min_samples_leaf': 3}.\n",
      "[I 2020-08-11 08:44:19,280] Finished trial#202 resulted in value: 0.9370838471023427. Current best value is 0.9370838471023427 with parameters: {'criterion': 'gini', 'max_depth': 3, 'min_samples_split': 12, 'min_samples_leaf': 3}.\n",
      "[I 2020-08-11 08:44:25,150] Finished trial#203 resulted in value: 0.9370838471023427. Current best value is 0.9370838471023427 with parameters: {'criterion': 'gini', 'max_depth': 3, 'min_samples_split': 12, 'min_samples_leaf': 3}.\n",
      "[I 2020-08-11 08:44:26,782] Finished trial#204 resulted in value: 0.9370838471023427. Current best value is 0.9370838471023427 with parameters: {'criterion': 'gini', 'max_depth': 3, 'min_samples_split': 12, 'min_samples_leaf': 3}.\n",
      "[I 2020-08-11 08:44:32,679] Finished trial#205 resulted in value: 0.9370838471023427. Current best value is 0.9370838471023427 with parameters: {'criterion': 'gini', 'max_depth': 3, 'min_samples_split': 12, 'min_samples_leaf': 3}.\n",
      "[I 2020-08-11 08:44:34,302] Finished trial#206 resulted in value: 0.9370838471023427. Current best value is 0.9370838471023427 with parameters: {'criterion': 'gini', 'max_depth': 3, 'min_samples_split': 12, 'min_samples_leaf': 3}.\n",
      "[I 2020-08-11 08:44:40,173] Finished trial#207 resulted in value: 0.9370838471023427. Current best value is 0.9370838471023427 with parameters: {'criterion': 'gini', 'max_depth': 3, 'min_samples_split': 12, 'min_samples_leaf': 3}.\n",
      "[I 2020-08-11 08:44:41,723] Finished trial#208 resulted in value: 0.9370838471023427. Current best value is 0.9370838471023427 with parameters: {'criterion': 'gini', 'max_depth': 3, 'min_samples_split': 12, 'min_samples_leaf': 3}.\n",
      "[I 2020-08-11 08:44:47,701] Finished trial#209 resulted in value: 0.9370838471023427. Current best value is 0.9370838471023427 with parameters: {'criterion': 'gini', 'max_depth': 3, 'min_samples_split': 12, 'min_samples_leaf': 3}.\n",
      "[I 2020-08-11 08:44:49,210] Finished trial#210 resulted in value: 0.9370838471023427. Current best value is 0.9370838471023427 with parameters: {'criterion': 'gini', 'max_depth': 3, 'min_samples_split': 12, 'min_samples_leaf': 3}.\n",
      "[I 2020-08-11 08:44:55,253] Finished trial#211 resulted in value: 0.9370838471023427. Current best value is 0.9370838471023427 with parameters: {'criterion': 'gini', 'max_depth': 3, 'min_samples_split': 12, 'min_samples_leaf': 3}.\n",
      "[I 2020-08-11 08:44:56,707] Finished trial#212 resulted in value: 0.9370838471023427. Current best value is 0.9370838471023427 with parameters: {'criterion': 'gini', 'max_depth': 3, 'min_samples_split': 12, 'min_samples_leaf': 3}.\n",
      "[I 2020-08-11 08:45:02,736] Finished trial#213 resulted in value: 0.9370838471023427. Current best value is 0.9370838471023427 with parameters: {'criterion': 'gini', 'max_depth': 3, 'min_samples_split': 12, 'min_samples_leaf': 3}.\n",
      "[I 2020-08-11 08:45:04,187] Finished trial#214 resulted in value: 0.9370838471023427. Current best value is 0.9370838471023427 with parameters: {'criterion': 'gini', 'max_depth': 3, 'min_samples_split': 12, 'min_samples_leaf': 3}.\n",
      "[I 2020-08-11 08:45:10,431] Finished trial#215 resulted in value: 0.9370838471023427. Current best value is 0.9370838471023427 with parameters: {'criterion': 'gini', 'max_depth': 3, 'min_samples_split': 12, 'min_samples_leaf': 3}.\n",
      "[I 2020-08-11 08:45:11,725] Finished trial#216 resulted in value: 0.9370838471023427. Current best value is 0.9370838471023427 with parameters: {'criterion': 'gini', 'max_depth': 3, 'min_samples_split': 12, 'min_samples_leaf': 3}.\n",
      "[I 2020-08-11 08:45:17,970] Finished trial#217 resulted in value: 0.9370838471023427. Current best value is 0.9370838471023427 with parameters: {'criterion': 'gini', 'max_depth': 3, 'min_samples_split': 12, 'min_samples_leaf': 3}.\n",
      "[I 2020-08-11 08:45:19,207] Finished trial#218 resulted in value: 0.9370838471023427. Current best value is 0.9370838471023427 with parameters: {'criterion': 'gini', 'max_depth': 3, 'min_samples_split': 12, 'min_samples_leaf': 3}.\n",
      "[I 2020-08-11 08:45:25,564] Finished trial#219 resulted in value: 0.9370838471023427. Current best value is 0.9370838471023427 with parameters: {'criterion': 'gini', 'max_depth': 3, 'min_samples_split': 12, 'min_samples_leaf': 3}.\n",
      "[I 2020-08-11 08:45:26,683] Finished trial#220 resulted in value: 0.9370838471023427. Current best value is 0.9370838471023427 with parameters: {'criterion': 'gini', 'max_depth': 3, 'min_samples_split': 12, 'min_samples_leaf': 3}.\n",
      "[I 2020-08-11 08:45:32,903] Finished trial#221 resulted in value: 0.9135519801980198. Current best value is 0.9370838471023427 with parameters: {'criterion': 'gini', 'max_depth': 3, 'min_samples_split': 12, 'min_samples_leaf': 3}.\n",
      "[I 2020-08-11 08:45:37,043] Finished trial#222 resulted in value: 0.9164282597100325. Current best value is 0.9370838471023427 with parameters: {'criterion': 'gini', 'max_depth': 3, 'min_samples_split': 12, 'min_samples_leaf': 3}.\n",
      "[I 2020-08-11 08:45:39,889] Finished trial#223 resulted in value: 0.9370838471023427. Current best value is 0.9370838471023427 with parameters: {'criterion': 'gini', 'max_depth': 3, 'min_samples_split': 12, 'min_samples_leaf': 3}.\n",
      "[I 2020-08-11 08:45:44,638] Finished trial#224 resulted in value: 0.9370838471023427. Current best value is 0.9370838471023427 with parameters: {'criterion': 'gini', 'max_depth': 3, 'min_samples_split': 12, 'min_samples_leaf': 3}.\n",
      "[I 2020-08-11 08:45:47,393] Finished trial#225 resulted in value: 0.9370838471023427. Current best value is 0.9370838471023427 with parameters: {'criterion': 'gini', 'max_depth': 3, 'min_samples_split': 12, 'min_samples_leaf': 3}.\n",
      "[I 2020-08-11 08:45:52,160] Finished trial#226 resulted in value: 0.9370838471023427. Current best value is 0.9370838471023427 with parameters: {'criterion': 'gini', 'max_depth': 3, 'min_samples_split': 12, 'min_samples_leaf': 3}.\n",
      "[I 2020-08-11 08:45:54,883] Finished trial#227 resulted in value: 0.9370838471023427. Current best value is 0.9370838471023427 with parameters: {'criterion': 'gini', 'max_depth': 3, 'min_samples_split': 12, 'min_samples_leaf': 3}.\n",
      "[I 2020-08-11 08:45:59,768] Finished trial#228 resulted in value: 0.9370838471023427. Current best value is 0.9370838471023427 with parameters: {'criterion': 'gini', 'max_depth': 3, 'min_samples_split': 12, 'min_samples_leaf': 3}.\n",
      "[I 2020-08-11 08:46:02,297] Finished trial#229 resulted in value: 0.9370838471023427. Current best value is 0.9370838471023427 with parameters: {'criterion': 'gini', 'max_depth': 3, 'min_samples_split': 12, 'min_samples_leaf': 3}.\n",
      "[I 2020-08-11 08:46:07,379] Finished trial#230 resulted in value: 0.9370838471023427. Current best value is 0.9370838471023427 with parameters: {'criterion': 'gini', 'max_depth': 3, 'min_samples_split': 12, 'min_samples_leaf': 3}.\n",
      "[I 2020-08-11 08:46:09,807] Finished trial#231 resulted in value: 0.9370838471023427. Current best value is 0.9370838471023427 with parameters: {'criterion': 'gini', 'max_depth': 3, 'min_samples_split': 12, 'min_samples_leaf': 3}.\n",
      "[I 2020-08-11 08:46:14,936] Finished trial#232 resulted in value: 0.9370838471023427. Current best value is 0.9370838471023427 with parameters: {'criterion': 'gini', 'max_depth': 3, 'min_samples_split': 12, 'min_samples_leaf': 3}.\n",
      "[I 2020-08-11 08:46:17,324] Finished trial#233 resulted in value: 0.9370838471023427. Current best value is 0.9370838471023427 with parameters: {'criterion': 'gini', 'max_depth': 3, 'min_samples_split': 12, 'min_samples_leaf': 3}.\n",
      "[I 2020-08-11 08:46:22,455] Finished trial#234 resulted in value: 0.9370838471023427. Current best value is 0.9370838471023427 with parameters: {'criterion': 'gini', 'max_depth': 3, 'min_samples_split': 12, 'min_samples_leaf': 3}.\n",
      "[I 2020-08-11 08:46:24,760] Finished trial#235 resulted in value: 0.9370838471023427. Current best value is 0.9370838471023427 with parameters: {'criterion': 'gini', 'max_depth': 3, 'min_samples_split': 12, 'min_samples_leaf': 3}.\n",
      "[I 2020-08-11 08:46:30,010] Finished trial#236 resulted in value: 0.9370838471023427. Current best value is 0.9370838471023427 with parameters: {'criterion': 'gini', 'max_depth': 3, 'min_samples_split': 12, 'min_samples_leaf': 3}.\n",
      "[I 2020-08-11 08:46:32,274] Finished trial#237 resulted in value: 0.9370838471023427. Current best value is 0.9370838471023427 with parameters: {'criterion': 'gini', 'max_depth': 3, 'min_samples_split': 12, 'min_samples_leaf': 3}.\n",
      "[I 2020-08-11 08:46:37,492] Finished trial#238 resulted in value: 0.9370838471023427. Current best value is 0.9370838471023427 with parameters: {'criterion': 'gini', 'max_depth': 3, 'min_samples_split': 12, 'min_samples_leaf': 3}.\n",
      "[I 2020-08-11 08:46:39,810] Finished trial#239 resulted in value: 0.9370838471023427. Current best value is 0.9370838471023427 with parameters: {'criterion': 'gini', 'max_depth': 3, 'min_samples_split': 12, 'min_samples_leaf': 3}.\n",
      "[I 2020-08-11 08:46:45,004] Finished trial#240 resulted in value: 0.9370838471023427. Current best value is 0.9370838471023427 with parameters: {'criterion': 'gini', 'max_depth': 3, 'min_samples_split': 12, 'min_samples_leaf': 3}.\n",
      "[I 2020-08-11 08:46:47,320] Finished trial#241 resulted in value: 0.9370838471023427. Current best value is 0.9370838471023427 with parameters: {'criterion': 'gini', 'max_depth': 3, 'min_samples_split': 12, 'min_samples_leaf': 3}.\n",
      "[I 2020-08-11 08:46:52,519] Finished trial#242 resulted in value: 0.9370838471023427. Current best value is 0.9370838471023427 with parameters: {'criterion': 'gini', 'max_depth': 3, 'min_samples_split': 12, 'min_samples_leaf': 3}.\n",
      "[I 2020-08-11 08:46:54,838] Finished trial#243 resulted in value: 0.9370838471023427. Current best value is 0.9370838471023427 with parameters: {'criterion': 'gini', 'max_depth': 3, 'min_samples_split': 12, 'min_samples_leaf': 3}.\n",
      "[I 2020-08-11 08:46:59,967] Finished trial#244 resulted in value: 0.9370838471023427. Current best value is 0.9370838471023427 with parameters: {'criterion': 'gini', 'max_depth': 3, 'min_samples_split': 12, 'min_samples_leaf': 3}.\n",
      "[I 2020-08-11 08:47:02,406] Finished trial#245 resulted in value: 0.9370838471023427. Current best value is 0.9370838471023427 with parameters: {'criterion': 'gini', 'max_depth': 3, 'min_samples_split': 12, 'min_samples_leaf': 3}.\n",
      "[I 2020-08-11 08:47:07,470] Finished trial#246 resulted in value: 0.9370838471023427. Current best value is 0.9370838471023427 with parameters: {'criterion': 'gini', 'max_depth': 3, 'min_samples_split': 12, 'min_samples_leaf': 3}.\n",
      "[I 2020-08-11 08:47:09,806] Finished trial#247 resulted in value: 0.9370838471023427. Current best value is 0.9370838471023427 with parameters: {'criterion': 'gini', 'max_depth': 3, 'min_samples_split': 12, 'min_samples_leaf': 3}.\n",
      "[I 2020-08-11 08:47:15,087] Finished trial#248 resulted in value: 0.9370838471023427. Current best value is 0.9370838471023427 with parameters: {'criterion': 'gini', 'max_depth': 3, 'min_samples_split': 12, 'min_samples_leaf': 3}.\n",
      "[I 2020-08-11 08:47:17,314] Finished trial#249 resulted in value: 0.9370838471023427. Current best value is 0.9370838471023427 with parameters: {'criterion': 'gini', 'max_depth': 3, 'min_samples_split': 12, 'min_samples_leaf': 3}.\n",
      "[I 2020-08-11 08:47:22,559] Finished trial#250 resulted in value: 0.9370838471023427. Current best value is 0.9370838471023427 with parameters: {'criterion': 'gini', 'max_depth': 3, 'min_samples_split': 12, 'min_samples_leaf': 3}.\n",
      "[I 2020-08-11 08:47:24,877] Finished trial#251 resulted in value: 0.9370838471023427. Current best value is 0.9370838471023427 with parameters: {'criterion': 'gini', 'max_depth': 3, 'min_samples_split': 12, 'min_samples_leaf': 3}.\n",
      "[I 2020-08-11 08:47:30,104] Finished trial#252 resulted in value: 0.9370838471023427. Current best value is 0.9370838471023427 with parameters: {'criterion': 'gini', 'max_depth': 3, 'min_samples_split': 12, 'min_samples_leaf': 3}.\n",
      "[I 2020-08-11 08:47:32,323] Finished trial#253 resulted in value: 0.9370838471023427. Current best value is 0.9370838471023427 with parameters: {'criterion': 'gini', 'max_depth': 3, 'min_samples_split': 12, 'min_samples_leaf': 3}.\n",
      "[I 2020-08-11 08:47:37,671] Finished trial#254 resulted in value: 0.9370838471023427. Current best value is 0.9370838471023427 with parameters: {'criterion': 'gini', 'max_depth': 3, 'min_samples_split': 12, 'min_samples_leaf': 3}.\n",
      "[I 2020-08-11 08:47:39,821] Finished trial#255 resulted in value: 0.9370838471023427. Current best value is 0.9370838471023427 with parameters: {'criterion': 'gini', 'max_depth': 3, 'min_samples_split': 12, 'min_samples_leaf': 3}.\n",
      "[I 2020-08-11 08:47:45,191] Finished trial#256 resulted in value: 0.9370838471023427. Current best value is 0.9370838471023427 with parameters: {'criterion': 'gini', 'max_depth': 3, 'min_samples_split': 12, 'min_samples_leaf': 3}.\n",
      "[I 2020-08-11 08:47:47,339] Finished trial#257 resulted in value: 0.9370838471023427. Current best value is 0.9370838471023427 with parameters: {'criterion': 'gini', 'max_depth': 3, 'min_samples_split': 12, 'min_samples_leaf': 3}.\n",
      "[I 2020-08-11 08:47:52,709] Finished trial#258 resulted in value: 0.9370838471023427. Current best value is 0.9370838471023427 with parameters: {'criterion': 'gini', 'max_depth': 3, 'min_samples_split': 12, 'min_samples_leaf': 3}.\n",
      "[I 2020-08-11 08:47:54,879] Finished trial#259 resulted in value: 0.9370838471023427. Current best value is 0.9370838471023427 with parameters: {'criterion': 'gini', 'max_depth': 3, 'min_samples_split': 12, 'min_samples_leaf': 3}.\n",
      "[I 2020-08-11 08:48:00,251] Finished trial#260 resulted in value: 0.9370838471023427. Current best value is 0.9370838471023427 with parameters: {'criterion': 'gini', 'max_depth': 3, 'min_samples_split': 12, 'min_samples_leaf': 3}.\n",
      "[I 2020-08-11 08:48:02,427] Finished trial#261 resulted in value: 0.9370838471023427. Current best value is 0.9370838471023427 with parameters: {'criterion': 'gini', 'max_depth': 3, 'min_samples_split': 12, 'min_samples_leaf': 3}.\n",
      "[I 2020-08-11 08:48:07,758] Finished trial#262 resulted in value: 0.9370838471023427. Current best value is 0.9370838471023427 with parameters: {'criterion': 'gini', 'max_depth': 3, 'min_samples_split': 12, 'min_samples_leaf': 3}.\n",
      "[I 2020-08-11 08:48:09,957] Finished trial#263 resulted in value: 0.9370838471023427. Current best value is 0.9370838471023427 with parameters: {'criterion': 'gini', 'max_depth': 3, 'min_samples_split': 12, 'min_samples_leaf': 3}.\n",
      "[I 2020-08-11 08:48:15,286] Finished trial#264 resulted in value: 0.9370838471023427. Current best value is 0.9370838471023427 with parameters: {'criterion': 'gini', 'max_depth': 3, 'min_samples_split': 12, 'min_samples_leaf': 3}.\n",
      "[I 2020-08-11 08:48:17,384] Finished trial#265 resulted in value: 0.9370838471023427. Current best value is 0.9370838471023427 with parameters: {'criterion': 'gini', 'max_depth': 3, 'min_samples_split': 12, 'min_samples_leaf': 3}.\n",
      "[I 2020-08-11 08:48:23,233] Finished trial#266 resulted in value: 0.912474208839581. Current best value is 0.9370838471023427 with parameters: {'criterion': 'gini', 'max_depth': 3, 'min_samples_split': 12, 'min_samples_leaf': 3}.\n",
      "[I 2020-08-11 08:48:25,229] Finished trial#267 resulted in value: 0.912474208839581. Current best value is 0.9370838471023427 with parameters: {'criterion': 'gini', 'max_depth': 3, 'min_samples_split': 12, 'min_samples_leaf': 3}.\n",
      "[I 2020-08-11 08:48:30,779] Finished trial#268 resulted in value: 0.9370838471023427. Current best value is 0.9370838471023427 with parameters: {'criterion': 'gini', 'max_depth': 3, 'min_samples_split': 12, 'min_samples_leaf': 3}.\n",
      "[I 2020-08-11 08:48:32,725] Finished trial#269 resulted in value: 0.9370838471023427. Current best value is 0.9370838471023427 with parameters: {'criterion': 'gini', 'max_depth': 3, 'min_samples_split': 12, 'min_samples_leaf': 3}.\n",
      "[I 2020-08-11 08:48:38,289] Finished trial#270 resulted in value: 0.9370838471023427. Current best value is 0.9370838471023427 with parameters: {'criterion': 'gini', 'max_depth': 3, 'min_samples_split': 12, 'min_samples_leaf': 3}.\n",
      "[I 2020-08-11 08:48:40,222] Finished trial#271 resulted in value: 0.9370838471023427. Current best value is 0.9370838471023427 with parameters: {'criterion': 'gini', 'max_depth': 3, 'min_samples_split': 12, 'min_samples_leaf': 3}.\n",
      "[I 2020-08-11 08:48:45,900] Finished trial#272 resulted in value: 0.9370838471023427. Current best value is 0.9370838471023427 with parameters: {'criterion': 'gini', 'max_depth': 3, 'min_samples_split': 12, 'min_samples_leaf': 3}.\n",
      "[I 2020-08-11 08:48:47,732] Finished trial#273 resulted in value: 0.9370838471023427. Current best value is 0.9370838471023427 with parameters: {'criterion': 'gini', 'max_depth': 3, 'min_samples_split': 12, 'min_samples_leaf': 3}.\n",
      "[I 2020-08-11 08:48:53,322] Finished trial#274 resulted in value: 0.9370838471023427. Current best value is 0.9370838471023427 with parameters: {'criterion': 'gini', 'max_depth': 3, 'min_samples_split': 12, 'min_samples_leaf': 3}.\n",
      "[I 2020-08-11 08:48:55,545] Finished trial#275 resulted in value: 0.9284658040665434. Current best value is 0.9370838471023427 with parameters: {'criterion': 'gini', 'max_depth': 3, 'min_samples_split': 12, 'min_samples_leaf': 3}.\n",
      "[I 2020-08-11 08:49:01,164] Finished trial#276 resulted in value: 0.9284658040665434. Current best value is 0.9370838471023427 with parameters: {'criterion': 'gini', 'max_depth': 3, 'min_samples_split': 12, 'min_samples_leaf': 3}.\n",
      "[I 2020-08-11 08:49:02,869] Finished trial#277 resulted in value: 0.9370838471023427. Current best value is 0.9370838471023427 with parameters: {'criterion': 'gini', 'max_depth': 3, 'min_samples_split': 12, 'min_samples_leaf': 3}.\n",
      "[I 2020-08-11 08:49:08,697] Finished trial#278 resulted in value: 0.9370838471023427. Current best value is 0.9370838471023427 with parameters: {'criterion': 'gini', 'max_depth': 3, 'min_samples_split': 12, 'min_samples_leaf': 3}.\n",
      "[I 2020-08-11 08:49:10,440] Finished trial#279 resulted in value: 0.9370838471023427. Current best value is 0.9370838471023427 with parameters: {'criterion': 'gini', 'max_depth': 3, 'min_samples_split': 12, 'min_samples_leaf': 3}.\n",
      "[I 2020-08-11 08:49:16,309] Finished trial#280 resulted in value: 0.9370838471023427. Current best value is 0.9370838471023427 with parameters: {'criterion': 'gini', 'max_depth': 3, 'min_samples_split': 12, 'min_samples_leaf': 3}.\n",
      "[I 2020-08-11 08:49:17,889] Finished trial#281 resulted in value: 0.9370838471023427. Current best value is 0.9370838471023427 with parameters: {'criterion': 'gini', 'max_depth': 3, 'min_samples_split': 12, 'min_samples_leaf': 3}.\n",
      "[I 2020-08-11 08:49:24,163] Finished trial#283 resulted in value: 0.9370838471023427. Current best value is 0.9370838471023427 with parameters: {'criterion': 'gini', 'max_depth': 3, 'min_samples_split': 12, 'min_samples_leaf': 3}.\n",
      "[I 2020-08-11 08:49:25,890] Finished trial#282 resulted in value: 0.9260830439894142. Current best value is 0.9370838471023427 with parameters: {'criterion': 'gini', 'max_depth': 3, 'min_samples_split': 12, 'min_samples_leaf': 3}.\n",
      "[I 2020-08-11 08:49:31,939] Finished trial#285 resulted in value: 0.9370838471023427. Current best value is 0.9370838471023427 with parameters: {'criterion': 'gini', 'max_depth': 3, 'min_samples_split': 12, 'min_samples_leaf': 3}.\n",
      "[I 2020-08-11 08:49:35,833] Finished trial#284 resulted in value: 0.9277173913043478. Current best value is 0.9370838471023427 with parameters: {'criterion': 'gini', 'max_depth': 3, 'min_samples_split': 12, 'min_samples_leaf': 3}.\n",
      "[I 2020-08-11 08:49:38,950] Finished trial#286 resulted in value: 0.9370838471023427. Current best value is 0.9370838471023427 with parameters: {'criterion': 'gini', 'max_depth': 3, 'min_samples_split': 12, 'min_samples_leaf': 3}.\n",
      "[I 2020-08-11 08:49:43,786] Finished trial#287 resulted in value: 0.912474208839581. Current best value is 0.9370838471023427 with parameters: {'criterion': 'gini', 'max_depth': 3, 'min_samples_split': 12, 'min_samples_leaf': 3}.\n",
      "[I 2020-08-11 08:49:46,894] Finished trial#288 resulted in value: 0.912474208839581. Current best value is 0.9370838471023427 with parameters: {'criterion': 'gini', 'max_depth': 3, 'min_samples_split': 12, 'min_samples_leaf': 3}.\n",
      "[I 2020-08-11 08:49:51,211] Finished trial#289 resulted in value: 0.9370838471023427. Current best value is 0.9370838471023427 with parameters: {'criterion': 'gini', 'max_depth': 3, 'min_samples_split': 12, 'min_samples_leaf': 3}.\n",
      "[I 2020-08-11 08:49:54,448] Finished trial#290 resulted in value: 0.9144601236721103. Current best value is 0.9370838471023427 with parameters: {'criterion': 'gini', 'max_depth': 3, 'min_samples_split': 12, 'min_samples_leaf': 3}.\n",
      "[I 2020-08-11 08:49:58,726] Finished trial#291 resulted in value: 0.9370838471023427. Current best value is 0.9370838471023427 with parameters: {'criterion': 'gini', 'max_depth': 3, 'min_samples_split': 12, 'min_samples_leaf': 3}.\n",
      "[I 2020-08-11 08:50:01,997] Finished trial#292 resulted in value: 0.9370838471023427. Current best value is 0.9370838471023427 with parameters: {'criterion': 'gini', 'max_depth': 3, 'min_samples_split': 12, 'min_samples_leaf': 3}.\n",
      "[I 2020-08-11 08:50:06,255] Finished trial#293 resulted in value: 0.9370838471023427. Current best value is 0.9370838471023427 with parameters: {'criterion': 'gini', 'max_depth': 3, 'min_samples_split': 12, 'min_samples_leaf': 3}.\n",
      "[I 2020-08-11 08:50:09,523] Finished trial#294 resulted in value: 0.9370838471023427. Current best value is 0.9370838471023427 with parameters: {'criterion': 'gini', 'max_depth': 3, 'min_samples_split': 12, 'min_samples_leaf': 3}.\n",
      "[I 2020-08-11 08:50:13,765] Finished trial#295 resulted in value: 0.9370838471023427. Current best value is 0.9370838471023427 with parameters: {'criterion': 'gini', 'max_depth': 3, 'min_samples_split': 12, 'min_samples_leaf': 3}.\n",
      "[I 2020-08-11 08:50:17,055] Finished trial#296 resulted in value: 0.9370838471023427. Current best value is 0.9370838471023427 with parameters: {'criterion': 'gini', 'max_depth': 3, 'min_samples_split': 12, 'min_samples_leaf': 3}.\n",
      "[I 2020-08-11 08:50:21,316] Finished trial#297 resulted in value: 0.9370838471023427. Current best value is 0.9370838471023427 with parameters: {'criterion': 'gini', 'max_depth': 3, 'min_samples_split': 12, 'min_samples_leaf': 3}.\n",
      "[I 2020-08-11 08:50:24,571] Finished trial#298 resulted in value: 0.9370838471023427. Current best value is 0.9370838471023427 with parameters: {'criterion': 'gini', 'max_depth': 3, 'min_samples_split': 12, 'min_samples_leaf': 3}.\n",
      "[I 2020-08-11 08:50:27,080] Finished trial#299 resulted in value: 0.9370838471023427. Current best value is 0.9370838471023427 with parameters: {'criterion': 'gini', 'max_depth': 3, 'min_samples_split': 12, 'min_samples_leaf': 3}.\n"
     ]
    },
    {
     "name": "stdout",
     "output_type": "stream",
     "text": [
      "{'criterion': 'gini', 'max_depth': 3, 'min_samples_split': 12, 'min_samples_leaf': 3}\n",
      "0.9370838471023427\n",
      "CPU times: user 43min 40s, sys: 4min 21s, total: 48min 1s\n",
      "Wall time: 19min 24s\n"
     ]
    }
   ],
   "source": [
    "%%time\n",
    "\n",
    "study_rf = optuna.create_study(direction='maximize')\n",
    "study_rf.optimize(objective_rf, n_trials=300, n_jobs=2)\n",
    "print(study_rf.best_params)\n",
    "print(study_rf.best_value)\n",
    "rf_best_params = study_rf.best_params"
   ]
  },
  {
   "cell_type": "code",
   "execution_count": 8,
   "metadata": {},
   "outputs": [
    {
     "data": {
      "text/plain": [
       "RandomForestClassifier(max_depth=3, min_samples_leaf=3, min_samples_split=12)"
      ]
     },
     "execution_count": 8,
     "metadata": {},
     "output_type": "execute_result"
    }
   ],
   "source": [
    "rf = RandomForestClassifier(**rf_best_params)\n",
    "rf.fit(x_train, y_train)"
   ]
  },
  {
   "cell_type": "code",
   "execution_count": 9,
   "metadata": {},
   "outputs": [
    {
     "name": "stdout",
     "output_type": "stream",
     "text": [
      "train score:0.924037954665261, test_score:0.9234932349323494\n",
      "acc:0.9234932349323494, auc:0.961690071446169\n"
     ]
    }
   ],
   "source": [
    "train_score_rf = rf.score(x_train, y_train)\n",
    "test_score_rf = rf.score(x_test, y_test)\n",
    "\n",
    "rf_p = rf.predict(x_test)\n",
    "\n",
    "acc_rf = accuracy_score(rf_p, y_test)\n",
    "auc_rf = roc_auc_score(rf_p, y_test)\n",
    "\n",
    "print('train score:{}, test_score:{}'.format(train_score_rf, test_score_rf))\n",
    "print('acc:{}, auc:{}'.format(acc_rf, auc_rf))"
   ]
  },
  {
   "cell_type": "code",
   "execution_count": 10,
   "metadata": {},
   "outputs": [
    {
     "name": "stderr",
     "output_type": "stream",
     "text": [
      "findfont: Font family ['sans-serif'] not found. Falling back to DejaVu Sans.\n"
     ]
    },
    {
     "data": {
      "image/png": "[encoded data removed]",
      "text/plain": [
       "<Figure size 432x432 with 1 Axes>"
      ]
     },
     "metadata": {
      "needs_background": "light"
     },
     "output_type": "display_data"
    }
   ],
   "source": [
    "features = x_train.columns\n",
    "importances = rf.feature_importances_\n",
    "indices = np.argsort(importances)\n",
    "\n",
    "plt.figure(figsize=(6,6))\n",
    "plt.barh(range(len(indices)), importances[indices], color='darkviolet', align='center')\n",
    "plt.yticks(range(len(indices)), features[indices])\n",
    "plt.show()"
   ]
  },
  {
   "cell_type": "code",
   "execution_count": 11,
   "metadata": {},
   "outputs": [],
   "source": [
    "rf_name = 'models/RF_' + now.strftime('%d_%H%M') + '.pkl'\n",
    "pickle.dump(rf, open(rf_name, 'wb'))"
   ]
  },
  {
   "cell_type": "code",
   "execution_count": 12,
   "metadata": {},
   "outputs": [
    {
     "data": {
      "text/html": [
       "<div>\n",
       "<style scoped>\n",
       "    .dataframe tbody tr th:only-of-type {\n",
       "        vertical-align: middle;\n",
       "    }\n",
       "\n",
       "    .dataframe tbody tr th {\n",
       "        vertical-align: top;\n",
       "    }\n",
       "\n",
       "    .dataframe thead th {\n",
       "        text-align: right;\n",
       "    }\n",
       "</style>\n",
       "<table border=\"1\" class=\"dataframe\">\n",
       "  <thead>\n",
       "    <tr style=\"text-align: right;\">\n",
       "      <th></th>\n",
       "      <th>0</th>\n",
       "      <th>1</th>\n",
       "    </tr>\n",
       "  </thead>\n",
       "  <tbody>\n",
       "    <tr>\n",
       "      <th>0</th>\n",
       "      <td>0.542850</td>\n",
       "      <td>0.457150</td>\n",
       "    </tr>\n",
       "    <tr>\n",
       "      <th>1</th>\n",
       "      <td>0.946455</td>\n",
       "      <td>0.053545</td>\n",
       "    </tr>\n",
       "    <tr>\n",
       "      <th>2</th>\n",
       "      <td>0.938399</td>\n",
       "      <td>0.061601</td>\n",
       "    </tr>\n",
       "    <tr>\n",
       "      <th>3</th>\n",
       "      <td>0.945748</td>\n",
       "      <td>0.054252</td>\n",
       "    </tr>\n",
       "    <tr>\n",
       "      <th>4</th>\n",
       "      <td>0.895520</td>\n",
       "      <td>0.104480</td>\n",
       "    </tr>\n",
       "  </tbody>\n",
       "</table>\n",
       "</div>"
      ],
      "text/plain": [
       "          0         1\n",
       "0  0.542850  0.457150\n",
       "1  0.946455  0.053545\n",
       "2  0.938399  0.061601\n",
       "3  0.945748  0.054252\n",
       "4  0.895520  0.104480"
      ]
     },
     "execution_count": 12,
     "metadata": {},
     "output_type": "execute_result"
    }
   ],
   "source": [
    "pred_rf = rf.predict_proba(test_df)\n",
    "rf_p = pd.DataFrame(pred_rf)\n",
    "rf_p.head()"
   ]
  },
  {
   "cell_type": "markdown",
   "metadata": {},
   "source": [
    "# XGB"
   ]
  },
  {
   "cell_type": "code",
   "execution_count": 13,
   "metadata": {},
   "outputs": [],
   "source": [
    "def objective_xgb(trial):\n",
    "    \n",
    "    param_xgb = {\n",
    "        'objective': 'binary:logistic',\n",
    "        'eval_metric': 'logloss',\n",
    "        'eta': 0.05,\n",
    "        'n_estimators': 1800,\n",
    "        'early_stopping_rounds': 100,\n",
    "        'max_depth': trial.suggest_int('max_depth', 3, 12),\n",
    "        'min_child_weight': trial.suggest_int('min_child_weight', 1, 5),\n",
    "        'subsample': 0.8,\n",
    "        'colsample_bytree': 0.8,\n",
    "        'gamma': 0.0,\n",
    "        'alpha': 0.0,\n",
    "        'seed': 18,\n",
    "        'n_jobs': 2\n",
    "    }\n",
    "    \n",
    "    xgb = XGBClassifier(**param_xgb)\n",
    "    xgb.fit(x_train, y_train, eval_set=[(x_train, y_train), (x_test, y_test)], eval_metric='logloss', verbose=False)\n",
    "    predictions = xgb.predict(x_test)\n",
    "    auc_score = roc_auc_score(predictions, y_test)\n",
    "    \n",
    "    return auc_score"
   ]
  },
  {
   "cell_type": "code",
   "execution_count": 14,
   "metadata": {
    "collapsed": true,
    "jupyter": {
     "outputs_hidden": true
    }
   },
   "outputs": [
    {
     "name": "stderr",
     "output_type": "stream",
     "text": [
      "[I 2020-08-11 08:50:44,213] Finished trial#2 resulted in value: 0.8233812810340526. Current best value is 0.8233812810340526 with parameters: {'max_depth': 3, 'min_child_weight': 4}.\n",
      "[I 2020-08-11 08:50:57,644] Finished trial#3 resulted in value: 0.7272927286442499. Current best value is 0.8233812810340526 with parameters: {'max_depth': 3, 'min_child_weight': 4}.\n",
      "[I 2020-08-11 08:51:02,135] Finished trial#0 resulted in value: 0.7369306457371425. Current best value is 0.8233812810340526 with parameters: {'max_depth': 3, 'min_child_weight': 4}.\n",
      "[I 2020-08-11 08:51:12,361] Finished trial#1 resulted in value: 0.6898878994967005. Current best value is 0.8233812810340526 with parameters: {'max_depth': 3, 'min_child_weight': 4}.\n",
      "[I 2020-08-11 08:51:19,988] Finished trial#4 resulted in value: 0.7419327887043256. Current best value is 0.8233812810340526 with parameters: {'max_depth': 3, 'min_child_weight': 4}.\n",
      "[I 2020-08-11 08:51:20,519] Finished trial#5 resulted in value: 0.7557564902565266. Current best value is 0.8233812810340526 with parameters: {'max_depth': 3, 'min_child_weight': 4}.\n",
      "[I 2020-08-11 08:51:22,987] Finished trial#6 resulted in value: 0.8173089941359147. Current best value is 0.8233812810340526 with parameters: {'max_depth': 3, 'min_child_weight': 4}.\n",
      "[I 2020-08-11 08:51:44,170] Finished trial#9 resulted in value: 0.7557564902565266. Current best value is 0.8233812810340526 with parameters: {'max_depth': 3, 'min_child_weight': 4}.\n",
      "[I 2020-08-11 08:51:50,753] Finished trial#8 resulted in value: 0.751707509456286. Current best value is 0.8233812810340526 with parameters: {'max_depth': 3, 'min_child_weight': 4}.\n",
      "[I 2020-08-11 08:51:53,414] Finished trial#7 resulted in value: 0.7093831960848063. Current best value is 0.8233812810340526 with parameters: {'max_depth': 3, 'min_child_weight': 4}.\n",
      "[I 2020-08-11 08:51:57,276] Finished trial#10 resulted in value: 0.7369306457371425. Current best value is 0.8233812810340526 with parameters: {'max_depth': 3, 'min_child_weight': 4}.\n",
      "[I 2020-08-11 08:52:01,305] Finished trial#11 resulted in value: 0.8220863055683636. Current best value is 0.8233812810340526 with parameters: {'max_depth': 3, 'min_child_weight': 4}.\n",
      "[I 2020-08-11 08:52:13,161] Finished trial#13 resulted in value: 0.8233812810340526. Current best value is 0.8233812810340526 with parameters: {'max_depth': 3, 'min_child_weight': 4}.\n",
      "[I 2020-08-11 08:52:14,121] Finished trial#14 resulted in value: 0.8173089941359147. Current best value is 0.8233812810340526 with parameters: {'max_depth': 3, 'min_child_weight': 4}.\n",
      "[I 2020-08-11 08:52:17,111] Finished trial#15 resulted in value: 0.8233812810340526. Current best value is 0.8233812810340526 with parameters: {'max_depth': 3, 'min_child_weight': 4}.\n",
      "[I 2020-08-11 08:52:32,577] Finished trial#16 resulted in value: 0.8233812810340526. Current best value is 0.8233812810340526 with parameters: {'max_depth': 3, 'min_child_weight': 4}.\n",
      "[I 2020-08-11 08:52:36,405] Finished trial#18 resulted in value: 0.7953494055332015. Current best value is 0.8233812810340526 with parameters: {'max_depth': 3, 'min_child_weight': 4}.\n",
      "[I 2020-08-11 08:52:52,762] Finished trial#12 resulted in value: 0.7038692464116607. Current best value is 0.8233812810340526 with parameters: {'max_depth': 3, 'min_child_weight': 4}.\n",
      "[I 2020-08-11 08:53:17,966] Finished trial#17 resulted in value: 0.7038692464116607. Current best value is 0.8233812810340526 with parameters: {'max_depth': 3, 'min_child_weight': 4}.\n",
      "[I 2020-08-11 08:53:28,484] Finished trial#19 resulted in value: 0.695569538043063. Current best value is 0.8233812810340526 with parameters: {'max_depth': 3, 'min_child_weight': 4}.\n",
      "[I 2020-08-11 08:53:29,300] Finished trial#20 resulted in value: 0.6950442457183238. Current best value is 0.8233812810340526 with parameters: {'max_depth': 3, 'min_child_weight': 4}.\n",
      "[I 2020-08-11 08:53:37,368] Finished trial#21 resulted in value: 0.7015444161632962. Current best value is 0.8233812810340526 with parameters: {'max_depth': 3, 'min_child_weight': 4}.\n",
      "[I 2020-08-11 08:53:48,273] Finished trial#24 resulted in value: 0.7953494055332015. Current best value is 0.8233812810340526 with parameters: {'max_depth': 3, 'min_child_weight': 4}.\n",
      "[I 2020-08-11 08:54:02,400] Finished trial#25 resulted in value: 0.7935215490318552. Current best value is 0.8233812810340526 with parameters: {'max_depth': 3, 'min_child_weight': 4}.\n",
      "[I 2020-08-11 08:54:07,696] Finished trial#26 resulted in value: 0.7935215490318552. Current best value is 0.8233812810340526 with parameters: {'max_depth': 3, 'min_child_weight': 4}.\n",
      "[I 2020-08-11 08:54:08,436] Finished trial#22 resulted in value: 0.7015444161632962. Current best value is 0.8233812810340526 with parameters: {'max_depth': 3, 'min_child_weight': 4}.\n",
      "[I 2020-08-11 08:54:16,345] Finished trial#23 resulted in value: 0.7036933890159954. Current best value is 0.8233812810340526 with parameters: {'max_depth': 3, 'min_child_weight': 4}.\n",
      "[I 2020-08-11 08:54:25,836] Finished trial#27 resulted in value: 0.7935215490318552. Current best value is 0.8233812810340526 with parameters: {'max_depth': 3, 'min_child_weight': 4}.\n",
      "[I 2020-08-11 08:54:32,131] Finished trial#29 resulted in value: 0.745198143579053. Current best value is 0.8233812810340526 with parameters: {'max_depth': 3, 'min_child_weight': 4}.\n",
      "[I 2020-08-11 08:54:32,181] Finished trial#28 resulted in value: 0.745198143579053. Current best value is 0.8233812810340526 with parameters: {'max_depth': 3, 'min_child_weight': 4}.\n",
      "[I 2020-08-11 08:54:45,204] Finished trial#30 resulted in value: 0.745198143579053. Current best value is 0.8233812810340526 with parameters: {'max_depth': 3, 'min_child_weight': 4}.\n",
      "[I 2020-08-11 08:54:47,597] Finished trial#33 resulted in value: 0.8233812810340526. Current best value is 0.8233812810340526 with parameters: {'max_depth': 3, 'min_child_weight': 4}.\n",
      "[I 2020-08-11 08:54:52,606] Finished trial#31 resulted in value: 0.745198143579053. Current best value is 0.8233812810340526 with parameters: {'max_depth': 3, 'min_child_weight': 4}.\n",
      "[I 2020-08-11 08:54:53,225] Finished trial#32 resulted in value: 0.8233812810340526. Current best value is 0.8233812810340526 with parameters: {'max_depth': 3, 'min_child_weight': 4}.\n",
      "[I 2020-08-11 08:55:02,719] Finished trial#34 resulted in value: 0.8233812810340526. Current best value is 0.8233812810340526 with parameters: {'max_depth': 3, 'min_child_weight': 4}.\n",
      "[I 2020-08-11 08:55:04,241] Finished trial#35 resulted in value: 0.8233812810340526. Current best value is 0.8233812810340526 with parameters: {'max_depth': 3, 'min_child_weight': 4}.\n",
      "[I 2020-08-11 08:55:10,533] Finished trial#37 resulted in value: 0.8233812810340526. Current best value is 0.8233812810340526 with parameters: {'max_depth': 3, 'min_child_weight': 4}.\n",
      "[I 2020-08-11 08:55:13,551] Finished trial#36 resulted in value: 0.8233812810340526. Current best value is 0.8233812810340526 with parameters: {'max_depth': 3, 'min_child_weight': 4}.\n",
      "[I 2020-08-11 08:55:26,167] Finished trial#38 resulted in value: 0.7935215490318552. Current best value is 0.8233812810340526 with parameters: {'max_depth': 3, 'min_child_weight': 4}.\n",
      "[I 2020-08-11 08:55:37,550] Finished trial#39 resulted in value: 0.7076958061267583. Current best value is 0.8233812810340526 with parameters: {'max_depth': 3, 'min_child_weight': 4}.\n",
      "[I 2020-08-11 08:55:46,064] Finished trial#41 resulted in value: 0.7076958061267583. Current best value is 0.8233812810340526 with parameters: {'max_depth': 3, 'min_child_weight': 4}.\n",
      "[I 2020-08-11 08:55:47,823] Finished trial#40 resulted in value: 0.7076958061267583. Current best value is 0.8233812810340526 with parameters: {'max_depth': 3, 'min_child_weight': 4}.\n",
      "[I 2020-08-11 08:55:57,106] Finished trial#43 resulted in value: 0.7795886181430649. Current best value is 0.8233812810340526 with parameters: {'max_depth': 3, 'min_child_weight': 4}.\n",
      "[I 2020-08-11 08:56:02,783] Finished trial#42 resulted in value: 0.7021935808725596. Current best value is 0.8233812810340526 with parameters: {'max_depth': 3, 'min_child_weight': 4}.\n",
      "[I 2020-08-11 08:56:06,562] Finished trial#44 resulted in value: 0.8143492823418221. Current best value is 0.8233812810340526 with parameters: {'max_depth': 3, 'min_child_weight': 4}.\n",
      "[I 2020-08-11 08:56:07,575] Finished trial#45 resulted in value: 0.8143492823418221. Current best value is 0.8233812810340526 with parameters: {'max_depth': 3, 'min_child_weight': 4}.\n",
      "[I 2020-08-11 08:56:12,988] Finished trial#46 resulted in value: 0.8143492823418221. Current best value is 0.8233812810340526 with parameters: {'max_depth': 3, 'min_child_weight': 4}.\n",
      "[I 2020-08-11 08:56:23,660] Finished trial#47 resulted in value: 0.8233812810340526. Current best value is 0.8233812810340526 with parameters: {'max_depth': 3, 'min_child_weight': 4}.\n",
      "[I 2020-08-11 08:56:28,298] Finished trial#49 resulted in value: 0.7953494055332015. Current best value is 0.8233812810340526 with parameters: {'max_depth': 3, 'min_child_weight': 4}.\n",
      "[I 2020-08-11 08:56:31,472] Finished trial#48 resulted in value: 0.7953494055332015. Current best value is 0.8233812810340526 with parameters: {'max_depth': 3, 'min_child_weight': 4}.\n",
      "[I 2020-08-11 08:56:32,154] Finished trial#50 resulted in value: 0.7953494055332015. Current best value is 0.8233812810340526 with parameters: {'max_depth': 3, 'min_child_weight': 4}.\n",
      "[I 2020-08-11 08:56:46,712] Finished trial#51 resulted in value: 0.7953494055332015. Current best value is 0.8233812810340526 with parameters: {'max_depth': 3, 'min_child_weight': 4}.\n",
      "[I 2020-08-11 08:56:49,289] Finished trial#54 resulted in value: 0.8233812810340526. Current best value is 0.8233812810340526 with parameters: {'max_depth': 3, 'min_child_weight': 4}.\n",
      "[I 2020-08-11 08:56:50,650] Finished trial#53 resulted in value: 0.8173089941359147. Current best value is 0.8233812810340526 with parameters: {'max_depth': 3, 'min_child_weight': 4}.\n",
      "[I 2020-08-11 08:56:51,422] Finished trial#52 resulted in value: 0.7953494055332015. Current best value is 0.8233812810340526 with parameters: {'max_depth': 3, 'min_child_weight': 4}.\n",
      "[I 2020-08-11 08:57:04,934] Finished trial#56 resulted in value: 0.8233812810340526. Current best value is 0.8233812810340526 with parameters: {'max_depth': 3, 'min_child_weight': 4}.\n",
      "[I 2020-08-11 08:57:06,996] Finished trial#57 resulted in value: 0.8233812810340526. Current best value is 0.8233812810340526 with parameters: {'max_depth': 3, 'min_child_weight': 4}.\n",
      "[I 2020-08-11 08:57:08,354] Finished trial#55 resulted in value: 0.8233812810340526. Current best value is 0.8233812810340526 with parameters: {'max_depth': 3, 'min_child_weight': 4}.\n",
      "[I 2020-08-11 08:57:12,145] Finished trial#58 resulted in value: 0.8233812810340526. Current best value is 0.8233812810340526 with parameters: {'max_depth': 3, 'min_child_weight': 4}.\n",
      "[I 2020-08-11 08:57:21,035] Finished trial#59 resulted in value: 0.8233812810340526. Current best value is 0.8233812810340526 with parameters: {'max_depth': 3, 'min_child_weight': 4}.\n",
      "[I 2020-08-11 08:57:23,767] Finished trial#60 resulted in value: 0.8233812810340526. Current best value is 0.8233812810340526 with parameters: {'max_depth': 3, 'min_child_weight': 4}.\n",
      "[I 2020-08-11 08:57:28,558] Finished trial#61 resulted in value: 0.8233812810340526. Current best value is 0.8233812810340526 with parameters: {'max_depth': 3, 'min_child_weight': 4}.\n",
      "[I 2020-08-11 08:57:40,311] Finished trial#62 resulted in value: 0.745198143579053. Current best value is 0.8233812810340526 with parameters: {'max_depth': 3, 'min_child_weight': 4}.\n",
      "[I 2020-08-11 08:57:45,032] Finished trial#63 resulted in value: 0.745198143579053. Current best value is 0.8233812810340526 with parameters: {'max_depth': 3, 'min_child_weight': 4}.\n",
      "[I 2020-08-11 08:57:51,524] Finished trial#64 resulted in value: 0.745198143579053. Current best value is 0.8233812810340526 with parameters: {'max_depth': 3, 'min_child_weight': 4}.\n",
      "[I 2020-08-11 08:57:57,794] Finished trial#65 resulted in value: 0.745198143579053. Current best value is 0.8233812810340526 with parameters: {'max_depth': 3, 'min_child_weight': 4}.\n",
      "[I 2020-08-11 08:58:03,848] Finished trial#66 resulted in value: 0.7953494055332015. Current best value is 0.8233812810340526 with parameters: {'max_depth': 3, 'min_child_weight': 4}.\n",
      "[I 2020-08-11 08:58:04,729] Finished trial#67 resulted in value: 0.7935215490318552. Current best value is 0.8233812810340526 with parameters: {'max_depth': 3, 'min_child_weight': 4}.\n",
      "[I 2020-08-11 08:58:10,399] Finished trial#68 resulted in value: 0.8233812810340526. Current best value is 0.8233812810340526 with parameters: {'max_depth': 3, 'min_child_weight': 4}.\n",
      "[I 2020-08-11 08:58:18,350] Finished trial#69 resulted in value: 0.8220863055683636. Current best value is 0.8233812810340526 with parameters: {'max_depth': 3, 'min_child_weight': 4}.\n",
      "[I 2020-08-11 08:58:22,890] Finished trial#70 resulted in value: 0.8220863055683636. Current best value is 0.8233812810340526 with parameters: {'max_depth': 3, 'min_child_weight': 4}.\n",
      "[I 2020-08-11 08:58:27,020] Finished trial#72 resulted in value: 0.8233812810340526. Current best value is 0.8233812810340526 with parameters: {'max_depth': 3, 'min_child_weight': 4}.\n",
      "[I 2020-08-11 08:58:32,449] Finished trial#71 resulted in value: 0.7200258470202192. Current best value is 0.8233812810340526 with parameters: {'max_depth': 3, 'min_child_weight': 4}.\n",
      "[I 2020-08-11 08:58:42,813] Finished trial#75 resulted in value: 0.8233812810340526. Current best value is 0.8233812810340526 with parameters: {'max_depth': 3, 'min_child_weight': 4}.\n",
      "[I 2020-08-11 08:58:43,497] Finished trial#74 resulted in value: 0.8233812810340526. Current best value is 0.8233812810340526 with parameters: {'max_depth': 3, 'min_child_weight': 4}.\n",
      "[I 2020-08-11 08:58:49,051] Finished trial#76 resulted in value: 0.8233812810340526. Current best value is 0.8233812810340526 with parameters: {'max_depth': 3, 'min_child_weight': 4}.\n",
      "[I 2020-08-11 08:58:51,645] Finished trial#73 resulted in value: 0.7200258470202192. Current best value is 0.8233812810340526 with parameters: {'max_depth': 3, 'min_child_weight': 4}.\n",
      "[I 2020-08-11 08:59:03,861] Finished trial#77 resulted in value: 0.7953494055332015. Current best value is 0.8233812810340526 with parameters: {'max_depth': 3, 'min_child_weight': 4}.\n",
      "[I 2020-08-11 08:59:07,656] Finished trial#79 resulted in value: 0.7953494055332015. Current best value is 0.8233812810340526 with parameters: {'max_depth': 3, 'min_child_weight': 4}.\n",
      "[I 2020-08-11 08:59:08,940] Finished trial#78 resulted in value: 0.7953494055332015. Current best value is 0.8233812810340526 with parameters: {'max_depth': 3, 'min_child_weight': 4}.\n",
      "[I 2020-08-11 08:59:14,575] Finished trial#80 resulted in value: 0.7953494055332015. Current best value is 0.8233812810340526 with parameters: {'max_depth': 3, 'min_child_weight': 4}.\n",
      "[I 2020-08-11 08:59:23,504] Finished trial#81 resulted in value: 0.8233812810340526. Current best value is 0.8233812810340526 with parameters: {'max_depth': 3, 'min_child_weight': 4}.\n",
      "[I 2020-08-11 08:59:24,514] Finished trial#82 resulted in value: 0.8233812810340526. Current best value is 0.8233812810340526 with parameters: {'max_depth': 3, 'min_child_weight': 4}.\n",
      "[I 2020-08-11 08:59:32,106] Finished trial#84 resulted in value: 0.8233812810340526. Current best value is 0.8233812810340526 with parameters: {'max_depth': 3, 'min_child_weight': 4}.\n",
      "[I 2020-08-11 08:59:40,756] Finished trial#86 resulted in value: 0.8233812810340526. Current best value is 0.8233812810340526 with parameters: {'max_depth': 3, 'min_child_weight': 4}.\n",
      "[I 2020-08-11 08:59:43,624] Finished trial#85 resulted in value: 0.8233812810340526. Current best value is 0.8233812810340526 with parameters: {'max_depth': 3, 'min_child_weight': 4}.\n",
      "[I 2020-08-11 08:59:50,641] Finished trial#87 resulted in value: 0.8233812810340526. Current best value is 0.8233812810340526 with parameters: {'max_depth': 3, 'min_child_weight': 4}.\n",
      "[I 2020-08-11 08:59:57,129] Finished trial#88 resulted in value: 0.8233812810340526. Current best value is 0.8233812810340526 with parameters: {'max_depth': 3, 'min_child_weight': 4}.\n",
      "[I 2020-08-11 09:00:03,327] Finished trial#89 resulted in value: 0.8233812810340526. Current best value is 0.8233812810340526 with parameters: {'max_depth': 3, 'min_child_weight': 4}.\n",
      "[I 2020-08-11 09:00:07,010] Finished trial#83 resulted in value: 0.6960784436163091. Current best value is 0.8233812810340526 with parameters: {'max_depth': 3, 'min_child_weight': 4}.\n",
      "[I 2020-08-11 09:00:17,576] Finished trial#91 resulted in value: 0.7671764762401514. Current best value is 0.8233812810340526 with parameters: {'max_depth': 3, 'min_child_weight': 4}.\n",
      "[I 2020-08-11 09:00:33,308] Finished trial#93 resulted in value: 0.7953494055332015. Current best value is 0.8233812810340526 with parameters: {'max_depth': 3, 'min_child_weight': 4}.\n",
      "[I 2020-08-11 09:00:33,461] Finished trial#94 resulted in value: 0.8233812810340526. Current best value is 0.8233812810340526 with parameters: {'max_depth': 3, 'min_child_weight': 4}.\n",
      "[I 2020-08-11 09:00:39,383] Finished trial#90 resulted in value: 0.6996683401469161. Current best value is 0.8233812810340526 with parameters: {'max_depth': 3, 'min_child_weight': 4}.\n",
      "[I 2020-08-11 09:00:49,102] Finished trial#96 resulted in value: 0.8233812810340526. Current best value is 0.8233812810340526 with parameters: {'max_depth': 3, 'min_child_weight': 4}.\n",
      "[I 2020-08-11 09:00:55,326] Finished trial#95 resulted in value: 0.8233812810340526. Current best value is 0.8233812810340526 with parameters: {'max_depth': 3, 'min_child_weight': 4}.\n",
      "[I 2020-08-11 09:00:56,867] Finished trial#97 resulted in value: 0.8233812810340526. Current best value is 0.8233812810340526 with parameters: {'max_depth': 3, 'min_child_weight': 4}.\n",
      "[I 2020-08-11 09:00:59,163] Finished trial#92 resulted in value: 0.6960784436163091. Current best value is 0.8233812810340526 with parameters: {'max_depth': 3, 'min_child_weight': 4}.\n",
      "[I 2020-08-11 09:01:05,943] Finished trial#98 resulted in value: 0.8233812810340526. Current best value is 0.8233812810340526 with parameters: {'max_depth': 3, 'min_child_weight': 4}.\n",
      "[I 2020-08-11 09:01:16,226] Finished trial#99 resulted in value: 0.8233812810340526. Current best value is 0.8233812810340526 with parameters: {'max_depth': 3, 'min_child_weight': 4}.\n",
      "[I 2020-08-11 09:01:19,779] Finished trial#101 resulted in value: 0.8143492823418221. Current best value is 0.8233812810340526 with parameters: {'max_depth': 3, 'min_child_weight': 4}.\n",
      "[I 2020-08-11 09:01:25,418] Finished trial#102 resulted in value: 0.7795886181430649. Current best value is 0.8233812810340526 with parameters: {'max_depth': 3, 'min_child_weight': 4}.\n",
      "[I 2020-08-11 09:01:38,281] Finished trial#103 resulted in value: 0.7795886181430649. Current best value is 0.8233812810340526 with parameters: {'max_depth': 3, 'min_child_weight': 4}.\n",
      "[I 2020-08-11 09:01:38,814] Finished trial#100 resulted in value: 0.6981578263726523. Current best value is 0.8233812810340526 with parameters: {'max_depth': 3, 'min_child_weight': 4}.\n",
      "[I 2020-08-11 09:01:39,582] Finished trial#104 resulted in value: 0.8233812810340526. Current best value is 0.8233812810340526 with parameters: {'max_depth': 3, 'min_child_weight': 4}.\n",
      "[I 2020-08-11 09:01:41,240] Finished trial#105 resulted in value: 0.8233812810340526. Current best value is 0.8233812810340526 with parameters: {'max_depth': 3, 'min_child_weight': 4}.\n",
      "[I 2020-08-11 09:01:54,535] Finished trial#106 resulted in value: 0.8233812810340526. Current best value is 0.8233812810340526 with parameters: {'max_depth': 3, 'min_child_weight': 4}.\n",
      "[I 2020-08-11 09:01:57,035] Finished trial#109 resulted in value: 0.8233812810340526. Current best value is 0.8233812810340526 with parameters: {'max_depth': 3, 'min_child_weight': 4}.\n",
      "[I 2020-08-11 09:01:59,461] Finished trial#107 resulted in value: 0.8233812810340526. Current best value is 0.8233812810340526 with parameters: {'max_depth': 3, 'min_child_weight': 4}.\n",
      "[I 2020-08-11 09:01:59,944] Finished trial#108 resulted in value: 0.8233812810340526. Current best value is 0.8233812810340526 with parameters: {'max_depth': 3, 'min_child_weight': 4}.\n",
      "[I 2020-08-11 09:02:13,240] Finished trial#111 resulted in value: 0.8233812810340526. Current best value is 0.8233812810340526 with parameters: {'max_depth': 3, 'min_child_weight': 4}.\n",
      "[I 2020-08-11 09:02:15,968] Finished trial#110 resulted in value: 0.8233812810340526. Current best value is 0.8233812810340526 with parameters: {'max_depth': 3, 'min_child_weight': 4}.\n",
      "[I 2020-08-11 09:02:20,827] Finished trial#112 resulted in value: 0.7953494055332015. Current best value is 0.8233812810340526 with parameters: {'max_depth': 3, 'min_child_weight': 4}.\n",
      "[I 2020-08-11 09:02:23,325] Finished trial#113 resulted in value: 0.7953494055332015. Current best value is 0.8233812810340526 with parameters: {'max_depth': 3, 'min_child_weight': 4}.\n",
      "[I 2020-08-11 09:02:29,495] Finished trial#114 resulted in value: 0.8233812810340526. Current best value is 0.8233812810340526 with parameters: {'max_depth': 3, 'min_child_weight': 4}.\n",
      "[I 2020-08-11 09:02:36,938] Finished trial#115 resulted in value: 0.8233812810340526. Current best value is 0.8233812810340526 with parameters: {'max_depth': 3, 'min_child_weight': 4}.\n",
      "[I 2020-08-11 09:02:38,861] Finished trial#116 resulted in value: 0.8233812810340526. Current best value is 0.8233812810340526 with parameters: {'max_depth': 3, 'min_child_weight': 4}.\n",
      "[I 2020-08-11 09:02:42,318] Finished trial#117 resulted in value: 0.8233812810340526. Current best value is 0.8233812810340526 with parameters: {'max_depth': 3, 'min_child_weight': 4}.\n",
      "[I 2020-08-11 09:02:45,766] Finished trial#118 resulted in value: 0.8233812810340526. Current best value is 0.8233812810340526 with parameters: {'max_depth': 3, 'min_child_weight': 4}.\n",
      "[I 2020-08-11 09:02:55,061] Finished trial#119 resulted in value: 0.8233812810340526. Current best value is 0.8233812810340526 with parameters: {'max_depth': 3, 'min_child_weight': 4}.\n",
      "[I 2020-08-11 09:02:57,289] Finished trial#120 resulted in value: 0.8233812810340526. Current best value is 0.8233812810340526 with parameters: {'max_depth': 3, 'min_child_weight': 4}.\n",
      "[I 2020-08-11 09:03:02,631] Finished trial#121 resulted in value: 0.8233812810340526. Current best value is 0.8233812810340526 with parameters: {'max_depth': 3, 'min_child_weight': 4}.\n",
      "[I 2020-08-11 09:03:03,076] Finished trial#122 resulted in value: 0.8220863055683636. Current best value is 0.8233812810340526 with parameters: {'max_depth': 3, 'min_child_weight': 4}.\n",
      "[I 2020-08-11 09:03:14,015] Finished trial#124 resulted in value: 0.8233812810340526. Current best value is 0.8233812810340526 with parameters: {'max_depth': 3, 'min_child_weight': 4}.\n",
      "[I 2020-08-11 09:03:18,991] Finished trial#123 resulted in value: 0.7953494055332015. Current best value is 0.8233812810340526 with parameters: {'max_depth': 3, 'min_child_weight': 4}.\n",
      "[I 2020-08-11 09:03:22,127] Finished trial#126 resulted in value: 0.7953494055332015. Current best value is 0.8233812810340526 with parameters: {'max_depth': 3, 'min_child_weight': 4}.\n",
      "[I 2020-08-11 09:03:22,888] Finished trial#125 resulted in value: 0.8233812810340526. Current best value is 0.8233812810340526 with parameters: {'max_depth': 3, 'min_child_weight': 4}.\n",
      "[I 2020-08-11 09:03:35,071] Finished trial#127 resulted in value: 0.8233812810340526. Current best value is 0.8233812810340526 with parameters: {'max_depth': 3, 'min_child_weight': 4}.\n",
      "[I 2020-08-11 09:03:38,198] Finished trial#129 resulted in value: 0.8233812810340526. Current best value is 0.8233812810340526 with parameters: {'max_depth': 3, 'min_child_weight': 4}.\n",
      "[I 2020-08-11 09:03:39,422] Finished trial#130 resulted in value: 0.8233812810340526. Current best value is 0.8233812810340526 with parameters: {'max_depth': 3, 'min_child_weight': 4}.\n",
      "[I 2020-08-11 09:03:45,381] Finished trial#128 resulted in value: 0.7953494055332015. Current best value is 0.8233812810340526 with parameters: {'max_depth': 3, 'min_child_weight': 4}.\n",
      "[I 2020-08-11 09:03:53,503] Finished trial#131 resulted in value: 0.8233812810340526. Current best value is 0.8233812810340526 with parameters: {'max_depth': 3, 'min_child_weight': 4}.\n",
      "[I 2020-08-11 09:03:54,895] Finished trial#132 resulted in value: 0.8233812810340526. Current best value is 0.8233812810340526 with parameters: {'max_depth': 3, 'min_child_weight': 4}.\n",
      "[I 2020-08-11 09:03:59,785] Finished trial#133 resulted in value: 0.8233812810340526. Current best value is 0.8233812810340526 with parameters: {'max_depth': 3, 'min_child_weight': 4}.\n",
      "[I 2020-08-11 09:04:05,766] Finished trial#134 resulted in value: 0.8233812810340526. Current best value is 0.8233812810340526 with parameters: {'max_depth': 3, 'min_child_weight': 4}.\n",
      "[I 2020-08-11 09:04:11,062] Finished trial#135 resulted in value: 0.8233812810340526. Current best value is 0.8233812810340526 with parameters: {'max_depth': 3, 'min_child_weight': 4}.\n",
      "[I 2020-08-11 09:04:11,676] Finished trial#136 resulted in value: 0.8233812810340526. Current best value is 0.8233812810340526 with parameters: {'max_depth': 3, 'min_child_weight': 4}.\n",
      "[I 2020-08-11 09:04:18,172] Finished trial#137 resulted in value: 0.8233812810340526. Current best value is 0.8233812810340526 with parameters: {'max_depth': 3, 'min_child_weight': 4}.\n",
      "[I 2020-08-11 09:04:26,040] Finished trial#138 resulted in value: 0.8233812810340526. Current best value is 0.8233812810340526 with parameters: {'max_depth': 3, 'min_child_weight': 4}.\n",
      "[I 2020-08-11 09:04:28,220] Finished trial#140 resulted in value: 0.8233812810340526. Current best value is 0.8233812810340526 with parameters: {'max_depth': 3, 'min_child_weight': 4}.\n",
      "[I 2020-08-11 09:04:30,665] Finished trial#139 resulted in value: 0.8233812810340526. Current best value is 0.8233812810340526 with parameters: {'max_depth': 3, 'min_child_weight': 4}.\n",
      "[I 2020-08-11 09:04:38,588] Finished trial#141 resulted in value: 0.8233812810340526. Current best value is 0.8233812810340526 with parameters: {'max_depth': 3, 'min_child_weight': 4}.\n",
      "[I 2020-08-11 09:04:47,644] Finished trial#143 resulted in value: 0.7953494055332015. Current best value is 0.8233812810340526 with parameters: {'max_depth': 3, 'min_child_weight': 4}.\n",
      "[I 2020-08-11 09:04:48,186] Finished trial#144 resulted in value: 0.8233812810340526. Current best value is 0.8233812810340526 with parameters: {'max_depth': 3, 'min_child_weight': 4}.\n",
      "[I 2020-08-11 09:04:51,787] Finished trial#142 resulted in value: 0.7851021218004544. Current best value is 0.8233812810340526 with parameters: {'max_depth': 3, 'min_child_weight': 4}.\n",
      "[I 2020-08-11 09:04:56,840] Finished trial#145 resulted in value: 0.8173089941359147. Current best value is 0.8233812810340526 with parameters: {'max_depth': 3, 'min_child_weight': 4}.\n",
      "[I 2020-08-11 09:05:04,834] Finished trial#146 resulted in value: 0.8233812810340526. Current best value is 0.8233812810340526 with parameters: {'max_depth': 3, 'min_child_weight': 4}.\n",
      "[I 2020-08-11 09:05:07,745] Finished trial#147 resulted in value: 0.8233812810340526. Current best value is 0.8233812810340526 with parameters: {'max_depth': 3, 'min_child_weight': 4}.\n",
      "[I 2020-08-11 09:05:11,765] Finished trial#148 resulted in value: 0.8233812810340526. Current best value is 0.8233812810340526 with parameters: {'max_depth': 3, 'min_child_weight': 4}.\n",
      "[I 2020-08-11 09:05:14,715] Finished trial#149 resulted in value: 0.8233812810340526. Current best value is 0.8233812810340526 with parameters: {'max_depth': 3, 'min_child_weight': 4}.\n",
      "[I 2020-08-11 09:05:21,100] Finished trial#150 resulted in value: 0.8233812810340526. Current best value is 0.8233812810340526 with parameters: {'max_depth': 3, 'min_child_weight': 4}.\n",
      "[I 2020-08-11 09:05:26,347] Finished trial#151 resulted in value: 0.8233812810340526. Current best value is 0.8233812810340526 with parameters: {'max_depth': 3, 'min_child_weight': 4}.\n",
      "[I 2020-08-11 09:05:32,337] Finished trial#153 resulted in value: 0.8233812810340526. Current best value is 0.8233812810340526 with parameters: {'max_depth': 3, 'min_child_weight': 4}.\n",
      "[I 2020-08-11 09:05:33,559] Finished trial#152 resulted in value: 0.8233812810340526. Current best value is 0.8233812810340526 with parameters: {'max_depth': 3, 'min_child_weight': 4}.\n",
      "[I 2020-08-11 09:05:37,111] Finished trial#154 resulted in value: 0.8233812810340526. Current best value is 0.8233812810340526 with parameters: {'max_depth': 3, 'min_child_weight': 4}.\n",
      "[I 2020-08-11 09:05:44,265] Finished trial#155 resulted in value: 0.8233812810340526. Current best value is 0.8233812810340526 with parameters: {'max_depth': 3, 'min_child_weight': 4}.\n",
      "[I 2020-08-11 09:05:52,399] Finished trial#156 resulted in value: 0.8233812810340526. Current best value is 0.8233812810340526 with parameters: {'max_depth': 3, 'min_child_weight': 4}.\n",
      "[I 2020-08-11 09:05:53,858] Finished trial#158 resulted in value: 0.8233812810340526. Current best value is 0.8233812810340526 with parameters: {'max_depth': 3, 'min_child_weight': 4}.\n",
      "[I 2020-08-11 09:05:54,108] Finished trial#157 resulted in value: 0.8233812810340526. Current best value is 0.8233812810340526 with parameters: {'max_depth': 3, 'min_child_weight': 4}.\n",
      "[I 2020-08-11 09:06:04,503] Finished trial#159 resulted in value: 0.8233812810340526. Current best value is 0.8233812810340526 with parameters: {'max_depth': 3, 'min_child_weight': 4}.\n",
      "[I 2020-08-11 09:06:12,777] Finished trial#161 resulted in value: 0.7953494055332015. Current best value is 0.8233812810340526 with parameters: {'max_depth': 3, 'min_child_weight': 4}.\n",
      "[I 2020-08-11 09:06:13,067] Finished trial#160 resulted in value: 0.8233812810340526. Current best value is 0.8233812810340526 with parameters: {'max_depth': 3, 'min_child_weight': 4}.\n",
      "[I 2020-08-11 09:06:15,147] Finished trial#162 resulted in value: 0.7953494055332015. Current best value is 0.8233812810340526 with parameters: {'max_depth': 3, 'min_child_weight': 4}.\n",
      "[I 2020-08-11 09:06:29,477] Finished trial#163 resulted in value: 0.7953494055332015. Current best value is 0.8233812810340526 with parameters: {'max_depth': 3, 'min_child_weight': 4}.\n",
      "[I 2020-08-11 09:06:29,653] Finished trial#164 resulted in value: 0.8233812810340526. Current best value is 0.8233812810340526 with parameters: {'max_depth': 3, 'min_child_weight': 4}.\n",
      "[I 2020-08-11 09:06:32,764] Finished trial#166 resulted in value: 0.8233812810340526. Current best value is 0.8233812810340526 with parameters: {'max_depth': 3, 'min_child_weight': 4}.\n",
      "[I 2020-08-11 09:06:33,750] Finished trial#165 resulted in value: 0.8233812810340526. Current best value is 0.8233812810340526 with parameters: {'max_depth': 3, 'min_child_weight': 4}.\n",
      "[I 2020-08-11 09:06:46,033] Finished trial#168 resulted in value: 0.8233812810340526. Current best value is 0.8233812810340526 with parameters: {'max_depth': 3, 'min_child_weight': 4}.\n",
      "[I 2020-08-11 09:06:49,139] Finished trial#167 resulted in value: 0.8233812810340526. Current best value is 0.8233812810340526 with parameters: {'max_depth': 3, 'min_child_weight': 4}.\n",
      "[I 2020-08-11 09:06:51,587] Finished trial#170 resulted in value: 0.8233812810340526. Current best value is 0.8233812810340526 with parameters: {'max_depth': 3, 'min_child_weight': 4}.\n",
      "[I 2020-08-11 09:06:52,242] Finished trial#169 resulted in value: 0.8233812810340526. Current best value is 0.8233812810340526 with parameters: {'max_depth': 3, 'min_child_weight': 4}.\n",
      "[I 2020-08-11 09:07:03,443] Finished trial#171 resulted in value: 0.8233812810340526. Current best value is 0.8233812810340526 with parameters: {'max_depth': 3, 'min_child_weight': 4}.\n",
      "[I 2020-08-11 09:07:08,851] Finished trial#172 resulted in value: 0.8233812810340526. Current best value is 0.8233812810340526 with parameters: {'max_depth': 3, 'min_child_weight': 4}.\n",
      "[I 2020-08-11 09:07:10,393] Finished trial#174 resulted in value: 0.8233812810340526. Current best value is 0.8233812810340526 with parameters: {'max_depth': 3, 'min_child_weight': 4}.\n",
      "[I 2020-08-11 09:07:11,018] Finished trial#173 resulted in value: 0.8233812810340526. Current best value is 0.8233812810340526 with parameters: {'max_depth': 3, 'min_child_weight': 4}.\n",
      "[I 2020-08-11 09:07:19,619] Finished trial#175 resulted in value: 0.8233812810340526. Current best value is 0.8233812810340526 with parameters: {'max_depth': 3, 'min_child_weight': 4}.\n",
      "[I 2020-08-11 09:07:28,762] Finished trial#178 resulted in value: 0.8233812810340526. Current best value is 0.8233812810340526 with parameters: {'max_depth': 3, 'min_child_weight': 4}.\n",
      "[I 2020-08-11 09:07:28,839] Finished trial#176 resulted in value: 0.8233812810340526. Current best value is 0.8233812810340526 with parameters: {'max_depth': 3, 'min_child_weight': 4}.\n",
      "[I 2020-08-11 09:07:31,125] Finished trial#177 resulted in value: 0.8233812810340526. Current best value is 0.8233812810340526 with parameters: {'max_depth': 3, 'min_child_weight': 4}.\n",
      "[I 2020-08-11 09:07:36,308] Finished trial#179 resulted in value: 0.8233812810340526. Current best value is 0.8233812810340526 with parameters: {'max_depth': 3, 'min_child_weight': 4}.\n",
      "[I 2020-08-11 09:07:46,191] Finished trial#180 resulted in value: 0.8233812810340526. Current best value is 0.8233812810340526 with parameters: {'max_depth': 3, 'min_child_weight': 4}.\n",
      "[I 2020-08-11 09:07:48,508] Finished trial#181 resulted in value: 0.8233812810340526. Current best value is 0.8233812810340526 with parameters: {'max_depth': 3, 'min_child_weight': 4}.\n",
      "[I 2020-08-11 09:07:51,965] Finished trial#182 resulted in value: 0.8233812810340526. Current best value is 0.8233812810340526 with parameters: {'max_depth': 3, 'min_child_weight': 4}.\n",
      "[I 2020-08-11 09:07:52,852] Finished trial#183 resulted in value: 0.8233812810340526. Current best value is 0.8233812810340526 with parameters: {'max_depth': 3, 'min_child_weight': 4}.\n",
      "[I 2020-08-11 09:08:04,798] Finished trial#184 resulted in value: 0.8233812810340526. Current best value is 0.8233812810340526 with parameters: {'max_depth': 3, 'min_child_weight': 4}.\n",
      "[I 2020-08-11 09:08:07,665] Finished trial#185 resulted in value: 0.8233812810340526. Current best value is 0.8233812810340526 with parameters: {'max_depth': 3, 'min_child_weight': 4}.\n",
      "[I 2020-08-11 09:08:09,819] Finished trial#187 resulted in value: 0.8233812810340526. Current best value is 0.8233812810340526 with parameters: {'max_depth': 3, 'min_child_weight': 4}.\n",
      "[I 2020-08-11 09:08:12,216] Finished trial#186 resulted in value: 0.8233812810340526. Current best value is 0.8233812810340526 with parameters: {'max_depth': 3, 'min_child_weight': 4}.\n",
      "[I 2020-08-11 09:08:24,308] Finished trial#188 resulted in value: 0.8233812810340526. Current best value is 0.8233812810340526 with parameters: {'max_depth': 3, 'min_child_weight': 4}.\n",
      "[I 2020-08-11 09:08:25,386] Finished trial#189 resulted in value: 0.8233812810340526. Current best value is 0.8233812810340526 with parameters: {'max_depth': 3, 'min_child_weight': 4}.\n",
      "[I 2020-08-11 09:08:26,813] Finished trial#190 resulted in value: 0.8233812810340526. Current best value is 0.8233812810340526 with parameters: {'max_depth': 3, 'min_child_weight': 4}.\n",
      "[I 2020-08-11 09:08:31,480] Finished trial#191 resulted in value: 0.8233812810340526. Current best value is 0.8233812810340526 with parameters: {'max_depth': 3, 'min_child_weight': 4}.\n",
      "[I 2020-08-11 09:08:43,002] Finished trial#194 resulted in value: 0.8233812810340526. Current best value is 0.8233812810340526 with parameters: {'max_depth': 3, 'min_child_weight': 4}.\n",
      "[I 2020-08-11 09:08:44,428] Finished trial#192 resulted in value: 0.8233812810340526. Current best value is 0.8233812810340526 with parameters: {'max_depth': 3, 'min_child_weight': 4}.\n",
      "[I 2020-08-11 09:08:44,680] Finished trial#193 resulted in value: 0.8233812810340526. Current best value is 0.8233812810340526 with parameters: {'max_depth': 3, 'min_child_weight': 4}.\n",
      "[I 2020-08-11 09:08:50,455] Finished trial#195 resulted in value: 0.8233812810340526. Current best value is 0.8233812810340526 with parameters: {'max_depth': 3, 'min_child_weight': 4}.\n",
      "[I 2020-08-11 09:08:59,680] Finished trial#196 resulted in value: 0.8233812810340526. Current best value is 0.8233812810340526 with parameters: {'max_depth': 3, 'min_child_weight': 4}.\n",
      "[I 2020-08-11 09:09:02,998] Finished trial#198 resulted in value: 0.8233812810340526. Current best value is 0.8233812810340526 with parameters: {'max_depth': 3, 'min_child_weight': 4}.\n",
      "[I 2020-08-11 09:09:03,969] Finished trial#197 resulted in value: 0.8233812810340526. Current best value is 0.8233812810340526 with parameters: {'max_depth': 3, 'min_child_weight': 4}.\n",
      "[I 2020-08-11 09:09:11,224] Finished trial#199 resulted in value: 0.8233812810340526. Current best value is 0.8233812810340526 with parameters: {'max_depth': 3, 'min_child_weight': 4}.\n",
      "[I 2020-08-11 09:09:15,330] Finished trial#200 resulted in value: 0.8233812810340526. Current best value is 0.8233812810340526 with parameters: {'max_depth': 3, 'min_child_weight': 4}.\n",
      "[I 2020-08-11 09:09:21,850] Finished trial#201 resulted in value: 0.8233812810340526. Current best value is 0.8233812810340526 with parameters: {'max_depth': 3, 'min_child_weight': 4}.\n",
      "[I 2020-08-11 09:09:23,435] Finished trial#202 resulted in value: 0.8233812810340526. Current best value is 0.8233812810340526 with parameters: {'max_depth': 3, 'min_child_weight': 4}.\n",
      "[I 2020-08-11 09:09:30,680] Finished trial#203 resulted in value: 0.8233812810340526. Current best value is 0.8233812810340526 with parameters: {'max_depth': 3, 'min_child_weight': 4}.\n",
      "[I 2020-08-11 09:09:32,154] Finished trial#204 resulted in value: 0.8233812810340526. Current best value is 0.8233812810340526 with parameters: {'max_depth': 3, 'min_child_weight': 4}.\n",
      "[I 2020-08-11 09:09:40,348] Finished trial#205 resulted in value: 0.8233812810340526. Current best value is 0.8233812810340526 with parameters: {'max_depth': 3, 'min_child_weight': 4}.\n",
      "[I 2020-08-11 09:09:42,307] Finished trial#206 resulted in value: 0.8233812810340526. Current best value is 0.8233812810340526 with parameters: {'max_depth': 3, 'min_child_weight': 4}.\n",
      "[I 2020-08-11 09:09:47,745] Finished trial#208 resulted in value: 0.8233812810340526. Current best value is 0.8233812810340526 with parameters: {'max_depth': 3, 'min_child_weight': 4}.\n",
      "[I 2020-08-11 09:09:49,883] Finished trial#207 resulted in value: 0.8233812810340526. Current best value is 0.8233812810340526 with parameters: {'max_depth': 3, 'min_child_weight': 4}.\n",
      "[I 2020-08-11 09:09:59,729] Finished trial#209 resulted in value: 0.8233812810340526. Current best value is 0.8233812810340526 with parameters: {'max_depth': 3, 'min_child_weight': 4}.\n",
      "[I 2020-08-11 09:10:03,502] Finished trial#210 resulted in value: 0.8233812810340526. Current best value is 0.8233812810340526 with parameters: {'max_depth': 3, 'min_child_weight': 4}.\n",
      "[I 2020-08-11 09:10:03,887] Finished trial#211 resulted in value: 0.8233812810340526. Current best value is 0.8233812810340526 with parameters: {'max_depth': 3, 'min_child_weight': 4}.\n",
      "[I 2020-08-11 09:10:09,365] Finished trial#212 resulted in value: 0.8233812810340526. Current best value is 0.8233812810340526 with parameters: {'max_depth': 3, 'min_child_weight': 4}.\n",
      "[I 2020-08-11 09:10:16,313] Finished trial#213 resulted in value: 0.8233812810340526. Current best value is 0.8233812810340526 with parameters: {'max_depth': 3, 'min_child_weight': 4}.\n",
      "[I 2020-08-11 09:10:19,975] Finished trial#215 resulted in value: 0.8233812810340526. Current best value is 0.8233812810340526 with parameters: {'max_depth': 3, 'min_child_weight': 4}.\n",
      "[I 2020-08-11 09:10:24,209] Finished trial#214 resulted in value: 0.8233812810340526. Current best value is 0.8233812810340526 with parameters: {'max_depth': 3, 'min_child_weight': 4}.\n",
      "[I 2020-08-11 09:10:29,241] Finished trial#216 resulted in value: 0.8233812810340526. Current best value is 0.8233812810340526 with parameters: {'max_depth': 3, 'min_child_weight': 4}.\n",
      "[I 2020-08-11 09:10:35,412] Finished trial#218 resulted in value: 0.8233812810340526. Current best value is 0.8233812810340526 with parameters: {'max_depth': 3, 'min_child_weight': 4}.\n",
      "[I 2020-08-11 09:10:36,102] Finished trial#217 resulted in value: 0.8233812810340526. Current best value is 0.8233812810340526 with parameters: {'max_depth': 3, 'min_child_weight': 4}.\n",
      "[I 2020-08-11 09:10:44,480] Finished trial#219 resulted in value: 0.8233812810340526. Current best value is 0.8233812810340526 with parameters: {'max_depth': 3, 'min_child_weight': 4}.\n",
      "[I 2020-08-11 09:10:48,932] Finished trial#220 resulted in value: 0.8233812810340526. Current best value is 0.8233812810340526 with parameters: {'max_depth': 3, 'min_child_weight': 4}.\n",
      "[I 2020-08-11 09:10:51,924] Finished trial#221 resulted in value: 0.8233812810340526. Current best value is 0.8233812810340526 with parameters: {'max_depth': 3, 'min_child_weight': 4}.\n",
      "[I 2020-08-11 09:10:54,324] Finished trial#222 resulted in value: 0.8233812810340526. Current best value is 0.8233812810340526 with parameters: {'max_depth': 3, 'min_child_weight': 4}.\n",
      "[I 2020-08-11 09:11:03,922] Finished trial#223 resulted in value: 0.8233812810340526. Current best value is 0.8233812810340526 with parameters: {'max_depth': 3, 'min_child_weight': 4}.\n",
      "[I 2020-08-11 09:11:06,870] Finished trial#224 resulted in value: 0.8233812810340526. Current best value is 0.8233812810340526 with parameters: {'max_depth': 3, 'min_child_weight': 4}.\n",
      "[I 2020-08-11 09:11:07,906] Finished trial#225 resulted in value: 0.8233812810340526. Current best value is 0.8233812810340526 with parameters: {'max_depth': 3, 'min_child_weight': 4}.\n",
      "[I 2020-08-11 09:11:14,388] Finished trial#226 resulted in value: 0.8233812810340526. Current best value is 0.8233812810340526 with parameters: {'max_depth': 3, 'min_child_weight': 4}.\n",
      "[I 2020-08-11 09:11:22,243] Finished trial#227 resulted in value: 0.8233812810340526. Current best value is 0.8233812810340526 with parameters: {'max_depth': 3, 'min_child_weight': 4}.\n",
      "[I 2020-08-11 09:11:24,607] Finished trial#229 resulted in value: 0.8233812810340526. Current best value is 0.8233812810340526 with parameters: {'max_depth': 3, 'min_child_weight': 4}.\n",
      "[I 2020-08-11 09:11:26,235] Finished trial#228 resulted in value: 0.8233812810340526. Current best value is 0.8233812810340526 with parameters: {'max_depth': 3, 'min_child_weight': 4}.\n",
      "[I 2020-08-11 09:11:35,563] Finished trial#230 resulted in value: 0.8233812810340526. Current best value is 0.8233812810340526 with parameters: {'max_depth': 3, 'min_child_weight': 4}.\n",
      "[I 2020-08-11 09:11:40,485] Finished trial#232 resulted in value: 0.8233812810340526. Current best value is 0.8233812810340526 with parameters: {'max_depth': 3, 'min_child_weight': 4}.\n",
      "[I 2020-08-11 09:11:42,786] Finished trial#231 resulted in value: 0.8233812810340526. Current best value is 0.8233812810340526 with parameters: {'max_depth': 3, 'min_child_weight': 4}.\n",
      "[I 2020-08-11 09:11:43,659] Finished trial#233 resulted in value: 0.8233812810340526. Current best value is 0.8233812810340526 with parameters: {'max_depth': 3, 'min_child_weight': 4}.\n",
      "[I 2020-08-11 09:11:54,965] Finished trial#234 resulted in value: 0.8233812810340526. Current best value is 0.8233812810340526 with parameters: {'max_depth': 3, 'min_child_weight': 4}.\n",
      "[I 2020-08-11 09:11:56,719] Finished trial#235 resulted in value: 0.8233812810340526. Current best value is 0.8233812810340526 with parameters: {'max_depth': 3, 'min_child_weight': 4}.\n",
      "[I 2020-08-11 09:12:01,102] Finished trial#236 resulted in value: 0.8233812810340526. Current best value is 0.8233812810340526 with parameters: {'max_depth': 3, 'min_child_weight': 4}.\n",
      "[I 2020-08-11 09:12:03,320] Finished trial#237 resulted in value: 0.8233812810340526. Current best value is 0.8233812810340526 with parameters: {'max_depth': 3, 'min_child_weight': 4}.\n",
      "[I 2020-08-11 09:12:12,970] Finished trial#239 resulted in value: 0.8233812810340526. Current best value is 0.8233812810340526 with parameters: {'max_depth': 3, 'min_child_weight': 4}.\n",
      "[I 2020-08-11 09:12:13,136] Finished trial#238 resulted in value: 0.8233812810340526. Current best value is 0.8233812810340526 with parameters: {'max_depth': 3, 'min_child_weight': 4}.\n",
      "[I 2020-08-11 09:12:21,065] Finished trial#240 resulted in value: 0.8233812810340526. Current best value is 0.8233812810340526 with parameters: {'max_depth': 3, 'min_child_weight': 4}.\n",
      "[I 2020-08-11 09:12:22,386] Finished trial#241 resulted in value: 0.8233812810340526. Current best value is 0.8233812810340526 with parameters: {'max_depth': 3, 'min_child_weight': 4}.\n",
      "[I 2020-08-11 09:12:29,425] Finished trial#242 resulted in value: 0.8233812810340526. Current best value is 0.8233812810340526 with parameters: {'max_depth': 3, 'min_child_weight': 4}.\n",
      "[I 2020-08-11 09:12:31,828] Finished trial#243 resulted in value: 0.8233812810340526. Current best value is 0.8233812810340526 with parameters: {'max_depth': 3, 'min_child_weight': 4}.\n",
      "[I 2020-08-11 09:12:40,199] Finished trial#244 resulted in value: 0.8233812810340526. Current best value is 0.8233812810340526 with parameters: {'max_depth': 3, 'min_child_weight': 4}.\n",
      "[I 2020-08-11 09:12:43,059] Finished trial#245 resulted in value: 0.8233812810340526. Current best value is 0.8233812810340526 with parameters: {'max_depth': 3, 'min_child_weight': 4}.\n",
      "[I 2020-08-11 09:12:45,893] Finished trial#246 resulted in value: 0.8233812810340526. Current best value is 0.8233812810340526 with parameters: {'max_depth': 3, 'min_child_weight': 4}.\n",
      "[I 2020-08-11 09:12:50,942] Finished trial#247 resulted in value: 0.8233812810340526. Current best value is 0.8233812810340526 with parameters: {'max_depth': 3, 'min_child_weight': 4}.\n",
      "[I 2020-08-11 09:12:57,414] Finished trial#248 resulted in value: 0.8233812810340526. Current best value is 0.8233812810340526 with parameters: {'max_depth': 3, 'min_child_weight': 4}.\n",
      "[I 2020-08-11 09:13:01,513] Finished trial#250 resulted in value: 0.8233812810340526. Current best value is 0.8233812810340526 with parameters: {'max_depth': 3, 'min_child_weight': 4}.\n",
      "[I 2020-08-11 09:13:03,852] Finished trial#249 resulted in value: 0.8233812810340526. Current best value is 0.8233812810340526 with parameters: {'max_depth': 3, 'min_child_weight': 4}.\n",
      "[I 2020-08-11 09:13:09,608] Finished trial#251 resulted in value: 0.8233812810340526. Current best value is 0.8233812810340526 with parameters: {'max_depth': 3, 'min_child_weight': 4}.\n",
      "[I 2020-08-11 09:13:16,447] Finished trial#252 resulted in value: 0.8233812810340526. Current best value is 0.8233812810340526 with parameters: {'max_depth': 3, 'min_child_weight': 4}.\n",
      "[I 2020-08-11 09:13:17,071] Finished trial#253 resulted in value: 0.8233812810340526. Current best value is 0.8233812810340526 with parameters: {'max_depth': 3, 'min_child_weight': 4}.\n",
      "[I 2020-08-11 09:13:25,448] Finished trial#254 resulted in value: 0.8233812810340526. Current best value is 0.8233812810340526 with parameters: {'max_depth': 3, 'min_child_weight': 4}.\n",
      "[I 2020-08-11 09:13:27,597] Finished trial#255 resulted in value: 0.8233812810340526. Current best value is 0.8233812810340526 with parameters: {'max_depth': 3, 'min_child_weight': 4}.\n",
      "[I 2020-08-11 09:13:36,857] Finished trial#257 resulted in value: 0.7953494055332015. Current best value is 0.8233812810340526 with parameters: {'max_depth': 3, 'min_child_weight': 4}.\n",
      "[I 2020-08-11 09:13:41,780] Finished trial#256 resulted in value: 0.7953494055332015. Current best value is 0.8233812810340526 with parameters: {'max_depth': 3, 'min_child_weight': 4}.\n",
      "[I 2020-08-11 09:13:45,330] Finished trial#258 resulted in value: 0.8233812810340526. Current best value is 0.8233812810340526 with parameters: {'max_depth': 3, 'min_child_weight': 4}.\n",
      "[I 2020-08-11 09:13:45,381] Finished trial#259 resulted in value: 0.8233812810340526. Current best value is 0.8233812810340526 with parameters: {'max_depth': 3, 'min_child_weight': 4}.\n",
      "[I 2020-08-11 09:13:53,599] Finished trial#260 resulted in value: 0.8233812810340526. Current best value is 0.8233812810340526 with parameters: {'max_depth': 3, 'min_child_weight': 4}.\n",
      "[I 2020-08-11 09:14:00,033] Finished trial#261 resulted in value: 0.8233812810340526. Current best value is 0.8233812810340526 with parameters: {'max_depth': 3, 'min_child_weight': 4}.\n",
      "[I 2020-08-11 09:14:04,196] Finished trial#263 resulted in value: 0.8233812810340526. Current best value is 0.8233812810340526 with parameters: {'max_depth': 3, 'min_child_weight': 4}.\n",
      "[I 2020-08-11 09:14:05,589] Finished trial#262 resulted in value: 0.8233812810340526. Current best value is 0.8233812810340526 with parameters: {'max_depth': 3, 'min_child_weight': 4}.\n",
      "[I 2020-08-11 09:14:09,287] Finished trial#264 resulted in value: 0.8233812810340526. Current best value is 0.8233812810340526 with parameters: {'max_depth': 3, 'min_child_weight': 4}.\n",
      "[I 2020-08-11 09:14:19,771] Finished trial#265 resulted in value: 0.8233812810340526. Current best value is 0.8233812810340526 with parameters: {'max_depth': 3, 'min_child_weight': 4}.\n",
      "[I 2020-08-11 09:14:22,215] Finished trial#266 resulted in value: 0.8233812810340526. Current best value is 0.8233812810340526 with parameters: {'max_depth': 3, 'min_child_weight': 4}.\n",
      "[I 2020-08-11 09:14:25,316] Finished trial#268 resulted in value: 0.8233812810340526. Current best value is 0.8233812810340526 with parameters: {'max_depth': 3, 'min_child_weight': 4}.\n",
      "[I 2020-08-11 09:14:27,528] Finished trial#267 resulted in value: 0.8233812810340526. Current best value is 0.8233812810340526 with parameters: {'max_depth': 3, 'min_child_weight': 4}.\n",
      "[I 2020-08-11 09:14:38,754] Finished trial#269 resulted in value: 0.8233812810340526. Current best value is 0.8233812810340526 with parameters: {'max_depth': 3, 'min_child_weight': 4}.\n",
      "[I 2020-08-11 09:14:41,589] Finished trial#270 resulted in value: 0.8233812810340526. Current best value is 0.8233812810340526 with parameters: {'max_depth': 3, 'min_child_weight': 4}.\n",
      "[I 2020-08-11 09:14:42,415] Finished trial#271 resulted in value: 0.8233812810340526. Current best value is 0.8233812810340526 with parameters: {'max_depth': 3, 'min_child_weight': 4}.\n",
      "[I 2020-08-11 09:14:47,141] Finished trial#272 resulted in value: 0.8146358097467363. Current best value is 0.8233812810340526 with parameters: {'max_depth': 3, 'min_child_weight': 4}.\n",
      "[I 2020-08-11 09:14:54,868] Finished trial#273 resulted in value: 0.8233812810340526. Current best value is 0.8233812810340526 with parameters: {'max_depth': 3, 'min_child_weight': 4}.\n",
      "[I 2020-08-11 09:15:01,086] Finished trial#274 resulted in value: 0.8233812810340526. Current best value is 0.8233812810340526 with parameters: {'max_depth': 3, 'min_child_weight': 4}.\n",
      "[I 2020-08-11 09:15:12,355] Finished trial#277 resulted in value: 0.8233812810340526. Current best value is 0.8233812810340526 with parameters: {'max_depth': 3, 'min_child_weight': 4}.\n",
      "[I 2020-08-11 09:15:13,418] Finished trial#276 resulted in value: 0.7953494055332015. Current best value is 0.8233812810340526 with parameters: {'max_depth': 3, 'min_child_weight': 4}.\n",
      "[I 2020-08-11 09:15:17,357] Finished trial#275 resulted in value: 0.6962370768245529. Current best value is 0.8233812810340526 with parameters: {'max_depth': 3, 'min_child_weight': 4}.\n",
      "[I 2020-08-11 09:15:24,682] Finished trial#278 resulted in value: 0.7953494055332015. Current best value is 0.8233812810340526 with parameters: {'max_depth': 3, 'min_child_weight': 4}.\n",
      "[I 2020-08-11 09:15:33,261] Finished trial#281 resulted in value: 0.8233812810340526. Current best value is 0.8233812810340526 with parameters: {'max_depth': 3, 'min_child_weight': 4}.\n",
      "[I 2020-08-11 09:15:34,363] Finished trial#280 resulted in value: 0.8233812810340526. Current best value is 0.8233812810340526 with parameters: {'max_depth': 3, 'min_child_weight': 4}.\n",
      "[I 2020-08-11 09:15:35,358] Finished trial#279 resulted in value: 0.7953494055332015. Current best value is 0.8233812810340526 with parameters: {'max_depth': 3, 'min_child_weight': 4}.\n",
      "[I 2020-08-11 09:15:45,886] Finished trial#282 resulted in value: 0.8233812810340526. Current best value is 0.8233812810340526 with parameters: {'max_depth': 3, 'min_child_weight': 4}.\n",
      "[I 2020-08-11 09:15:50,050] Finished trial#283 resulted in value: 0.8233812810340526. Current best value is 0.8233812810340526 with parameters: {'max_depth': 3, 'min_child_weight': 4}.\n",
      "[I 2020-08-11 09:15:51,195] Finished trial#285 resulted in value: 0.8233812810340526. Current best value is 0.8233812810340526 with parameters: {'max_depth': 3, 'min_child_weight': 4}.\n",
      "[I 2020-08-11 09:15:55,310] Finished trial#284 resulted in value: 0.8233812810340526. Current best value is 0.8233812810340526 with parameters: {'max_depth': 3, 'min_child_weight': 4}.\n",
      "[I 2020-08-11 09:16:06,279] Finished trial#287 resulted in value: 0.8233812810340526. Current best value is 0.8233812810340526 with parameters: {'max_depth': 3, 'min_child_weight': 4}.\n",
      "[I 2020-08-11 09:16:06,750] Finished trial#286 resulted in value: 0.8233812810340526. Current best value is 0.8233812810340526 with parameters: {'max_depth': 3, 'min_child_weight': 4}.\n",
      "[I 2020-08-11 09:16:10,701] Finished trial#288 resulted in value: 0.8233812810340526. Current best value is 0.8233812810340526 with parameters: {'max_depth': 3, 'min_child_weight': 4}.\n",
      "[I 2020-08-11 09:16:12,407] Finished trial#289 resulted in value: 0.8233812810340526. Current best value is 0.8233812810340526 with parameters: {'max_depth': 3, 'min_child_weight': 4}.\n",
      "[I 2020-08-11 09:16:22,185] Finished trial#290 resulted in value: 0.8233812810340526. Current best value is 0.8233812810340526 with parameters: {'max_depth': 3, 'min_child_weight': 4}.\n",
      "[I 2020-08-11 09:16:24,607] Finished trial#291 resulted in value: 0.8233812810340526. Current best value is 0.8233812810340526 with parameters: {'max_depth': 3, 'min_child_weight': 4}.\n",
      "[I 2020-08-11 09:16:31,762] Finished trial#292 resulted in value: 0.8233812810340526. Current best value is 0.8233812810340526 with parameters: {'max_depth': 3, 'min_child_weight': 4}.\n",
      "[I 2020-08-11 09:16:33,336] Finished trial#293 resulted in value: 0.8233812810340526. Current best value is 0.8233812810340526 with parameters: {'max_depth': 3, 'min_child_weight': 4}.\n",
      "[I 2020-08-11 09:16:38,790] Finished trial#294 resulted in value: 0.8233812810340526. Current best value is 0.8233812810340526 with parameters: {'max_depth': 3, 'min_child_weight': 4}.\n",
      "[I 2020-08-11 09:16:51,870] Finished trial#296 resulted in value: 0.8233812810340526. Current best value is 0.8233812810340526 with parameters: {'max_depth': 3, 'min_child_weight': 4}.\n",
      "[I 2020-08-11 09:16:53,162] Finished trial#297 resulted in value: 0.8233812810340526. Current best value is 0.8233812810340526 with parameters: {'max_depth': 3, 'min_child_weight': 4}.\n",
      "[I 2020-08-11 09:16:54,278] Finished trial#298 resulted in value: 0.8233812810340526. Current best value is 0.8233812810340526 with parameters: {'max_depth': 3, 'min_child_weight': 4}.\n",
      "[I 2020-08-11 09:17:05,106] Finished trial#299 resulted in value: 0.8233812810340526. Current best value is 0.8233812810340526 with parameters: {'max_depth': 3, 'min_child_weight': 4}.\n",
      "[I 2020-08-11 09:17:07,199] Finished trial#295 resulted in value: 0.6996683401469161. Current best value is 0.8233812810340526 with parameters: {'max_depth': 3, 'min_child_weight': 4}.\n"
     ]
    },
    {
     "name": "stdout",
     "output_type": "stream",
     "text": [
      "{'max_depth': 3, 'min_child_weight': 4}\n",
      "0.8233812810340526\n",
      "CPU times: user 2h 30min 31s, sys: 4min 56s, total: 2h 35min 27s\n",
      "Wall time: 26min 39s\n"
     ]
    }
   ],
   "source": [
    "%%time\n",
    "\n",
    "study_xgb = optuna.create_study(direction='maximize')\n",
    "study_xgb.optimize(objective_xgb, n_trials=300, n_jobs=4)\n",
    "print(study_xgb.best_params)\n",
    "print(study_xgb.best_value)\n",
    "xgb_best_params = study_xgb.best_params"
   ]
  },
  {
   "cell_type": "code",
   "execution_count": 15,
   "metadata": {},
   "outputs": [
    {
     "data": {
      "text/plain": [
       "XGBClassifier(base_score=0.5, booster=None, colsample_bylevel=1,\n",
       "              colsample_bynode=1, colsample_bytree=1, gamma=0, gpu_id=-1,\n",
       "              importance_type='gain', interaction_constraints=None,\n",
       "              learning_rate=0.300000012, max_delta_step=0, max_depth=3,\n",
       "              min_child_weight=4, missing=nan, monotone_constraints=None,\n",
       "              n_estimators=100, n_jobs=0, num_parallel_tree=1, random_state=0,\n",
       "              reg_alpha=0, reg_lambda=1, scale_pos_weight=1, subsample=1,\n",
       "              tree_method=None, validate_parameters=False, verbosity=None)"
      ]
     },
     "execution_count": 15,
     "metadata": {},
     "output_type": "execute_result"
    }
   ],
   "source": [
    "xgb_model = XGBClassifier(**xgb_best_params)\n",
    "xgb_model.fit(x_train, y_train)"
   ]
  },
  {
   "cell_type": "code",
   "execution_count": 16,
   "metadata": {},
   "outputs": [
    {
     "name": "stdout",
     "output_type": "stream",
     "text": [
      "train score:0.9325250395361097, test_score:0.9291512915129151\n",
      "acc:0.9291512915129151, auc:0.8604420921544209\n"
     ]
    }
   ],
   "source": [
    "train_score_xgb = xgb_model.score(x_train, y_train)\n",
    "test_score_xgb = xgb_model.score(x_test, y_test)\n",
    "\n",
    "xgb_p = xgb_model.predict(x_test)\n",
    "\n",
    "acc_xgb = accuracy_score(xgb_p, y_test)\n",
    "auc_xgb = roc_auc_score(xgb_p, y_test)\n",
    "\n",
    "print('train score:{}, test_score:{}'.format(train_score_xgb, test_score_xgb))\n",
    "print('acc:{}, auc:{}'.format(acc_xgb, auc_xgb))"
   ]
  },
  {
   "cell_type": "code",
   "execution_count": 17,
   "metadata": {},
   "outputs": [
    {
     "name": "stderr",
     "output_type": "stream",
     "text": [
      "findfont: Font family ['sans-serif'] not found. Falling back to DejaVu Sans.\n",
      "findfont: Font family ['sans-serif'] not found. Falling back to DejaVu Sans.\n"
     ]
    },
    {
     "data": {
      "image/png": "[encoded data removed]",
      "text/plain": [
       "<Figure size 576x576 with 1 Axes>"
      ]
     },
     "metadata": {
      "needs_background": "light"
     },
     "output_type": "display_data"
    }
   ],
   "source": [
    "_, ax = plt.subplots(figsize=(8, 8))\n",
    "xgb.plot_importance(xgb_model,\n",
    "                    ax=ax,\n",
    "                    importance_type='gain',\n",
    "                    color='darkviolet',\n",
    "                    show_values=False)\n",
    "plt.show()"
   ]
  },
  {
   "cell_type": "code",
   "execution_count": 18,
   "metadata": {},
   "outputs": [],
   "source": [
    "xgb_name = 'models/XG_' + now.strftime('%d_%H%M') + '.pkl'\n",
    "pickle.dump(xgb_model, open(xgb_name, 'wb'))"
   ]
  },
  {
   "cell_type": "code",
   "execution_count": 19,
   "metadata": {},
   "outputs": [
    {
     "data": {
      "text/html": [
       "<div>\n",
       "<style scoped>\n",
       "    .dataframe tbody tr th:only-of-type {\n",
       "        vertical-align: middle;\n",
       "    }\n",
       "\n",
       "    .dataframe tbody tr th {\n",
       "        vertical-align: top;\n",
       "    }\n",
       "\n",
       "    .dataframe thead th {\n",
       "        text-align: right;\n",
       "    }\n",
       "</style>\n",
       "<table border=\"1\" class=\"dataframe\">\n",
       "  <thead>\n",
       "    <tr style=\"text-align: right;\">\n",
       "      <th></th>\n",
       "      <th>0</th>\n",
       "    </tr>\n",
       "  </thead>\n",
       "  <tbody>\n",
       "    <tr>\n",
       "      <th>0</th>\n",
       "      <td>1</td>\n",
       "    </tr>\n",
       "    <tr>\n",
       "      <th>1</th>\n",
       "      <td>0</td>\n",
       "    </tr>\n",
       "    <tr>\n",
       "      <th>2</th>\n",
       "      <td>0</td>\n",
       "    </tr>\n",
       "    <tr>\n",
       "      <th>3</th>\n",
       "      <td>0</td>\n",
       "    </tr>\n",
       "    <tr>\n",
       "      <th>4</th>\n",
       "      <td>0</td>\n",
       "    </tr>\n",
       "  </tbody>\n",
       "</table>\n",
       "</div>"
      ],
      "text/plain": [
       "   0\n",
       "0  1\n",
       "1  0\n",
       "2  0\n",
       "3  0\n",
       "4  0"
      ]
     },
     "execution_count": 19,
     "metadata": {},
     "output_type": "execute_result"
    }
   ],
   "source": [
    "pred_xgb = xgb_model.predict(test_df)\n",
    "xgb_p = pd.DataFrame(pred_xgb)\n",
    "xgb_p.head()"
   ]
  },
  {
   "cell_type": "markdown",
   "metadata": {},
   "source": [
    "# LGB"
   ]
  },
  {
   "cell_type": "code",
   "execution_count": 20,
   "metadata": {},
   "outputs": [],
   "source": [
    "lgb_train = lgb.Dataset(x_train, y_train)\n",
    "lgb_eval = lgb.Dataset(x_test, y_test, reference=lgb_train)"
   ]
  },
  {
   "cell_type": "code",
   "execution_count": 21,
   "metadata": {},
   "outputs": [],
   "source": [
    "\"\"\"\n",
    "def objective_lgb(trial):\n",
    "    \n",
    "    params_lgb = {\n",
    "        'objective': 'binary',\n",
    "        'metric': 'binary_logloss',\n",
    "        'n_estimators': 1800,\n",
    "        'learning_rate': 0.05,\n",
    "        'max_depth': trial.suggest_int('max_depth', 3, 12),\n",
    "        'min_child_weight': trial.suggest_int('min_child_weight', 1, 5),\n",
    "        'subsample': trial.suggest_uniform('subsample', 0.3, 0.9),\n",
    "        'colsample_bytree': trial.suggest_uniform('colsample_bytree', 0.6, 1.0),\n",
    "        'min_data_in_leaf': trial.suggest_int('min_data_in_leaf', 20, 35),\n",
    "        'feature fraction': trial.suggest_uniform('feature fraction', 0.80, 0.95),\n",
    "        'random_state': 18,\n",
    "        'n_jobs': 2\n",
    "    }\n",
    "                          \n",
    "    lgb = LGBMClassifier(**params_lgb)\n",
    "    lgb = lgb.fit(x_train, y_train)\n",
    "    \n",
    "    predictions = lgb.predict(x_test)\n",
    "    auc_score = roc_auc_score(predictions, y_test)\n",
    "    \n",
    "    return auc_score\n",
    "    \"\"\""
   ]
  },
  {
   "cell_type": "code",
   "execution_count": 69,
   "metadata": {},
   "outputs": [],
   "source": [
    "params_lgb_op = {\n",
    "    'objective': 'binary',\n",
    "    'metric': 'binary_logloss',\n",
    "    'num_iterations': 10000,\n",
    "    'eta': 0.05,\n",
    "    'seed': 18,\n",
    "    'n_jobs': 2\n",
    "}"
   ]
  },
  {
   "cell_type": "code",
   "execution_count": 70,
   "metadata": {
    "collapsed": true,
    "jupyter": {
     "outputs_hidden": true
    }
   },
   "outputs": [
    {
     "name": "stderr",
     "output_type": "stream",
     "text": [
      "\n",
      "  0%|          | 0/7 [00:00<?, ?it/s]\n",
      "tune_feature_fraction, val_score: inf:   0%|          | 0/7 [00:00<?, ?it/s]"
     ]
    },
    {
     "name": "stdout",
     "output_type": "stream",
     "text": [
      "Training until validation scores don't improve for 100 rounds\n",
      "[200]\tvalid_0's binary_logloss: 0.228418\n",
      "Early stopping, best iteration is:\n",
      "[111]\tvalid_0's binary_logloss: 0.226972\n"
     ]
    },
    {
     "name": "stderr",
     "output_type": "stream",
     "text": [
      "\n",
      "tune_feature_fraction, val_score: 0.226972:   0%|          | 0/7 [00:00<?, ?it/s]\n",
      "tune_feature_fraction, val_score: 0.226972:  14%|#4        | 1/7 [00:00<00:01,  3.05it/s][I 2020-08-11 12:32:25,285] Finished trial#0 resulted in value: 0.22697235592461093. Current best value is 0.22697235592461093 with parameters: {'feature_fraction': 0.4}.\n",
      "\n",
      "tune_feature_fraction, val_score: 0.226972:  14%|#4        | 1/7 [00:00<00:01,  3.05it/s]"
     ]
    },
    {
     "name": "stdout",
     "output_type": "stream",
     "text": [
      "Training until validation scores don't improve for 100 rounds\n",
      "[200]\tvalid_0's binary_logloss: 0.228961\n",
      "Early stopping, best iteration is:\n",
      "[101]\tvalid_0's binary_logloss: 0.227214\n"
     ]
    },
    {
     "name": "stderr",
     "output_type": "stream",
     "text": [
      "\n",
      "tune_feature_fraction, val_score: 0.226972:  14%|#4        | 1/7 [00:00<00:01,  3.05it/s]\n",
      "tune_feature_fraction, val_score: 0.226972:  29%|##8       | 2/7 [00:00<00:01,  2.95it/s][I 2020-08-11 12:32:25,649] Finished trial#1 resulted in value: 0.22721371089534315. Current best value is 0.22697235592461093 with parameters: {'feature_fraction': 0.4}.\n",
      "\n",
      "tune_feature_fraction, val_score: 0.226972:  29%|##8       | 2/7 [00:00<00:01,  2.95it/s]"
     ]
    },
    {
     "name": "stdout",
     "output_type": "stream",
     "text": [
      "Training until validation scores don't improve for 100 rounds\n",
      "Early stopping, best iteration is:\n",
      "[90]\tvalid_0's binary_logloss: 0.22707\n"
     ]
    },
    {
     "name": "stderr",
     "output_type": "stream",
     "text": [
      "\n",
      "tune_feature_fraction, val_score: 0.226972:  29%|##8       | 2/7 [00:01<00:01,  2.95it/s]\n",
      "tune_feature_fraction, val_score: 0.226972:  43%|####2     | 3/7 [00:01<00:01,  2.91it/s][I 2020-08-11 12:32:26,004] Finished trial#2 resulted in value: 0.2270699123271569. Current best value is 0.22697235592461093 with parameters: {'feature_fraction': 0.4}.\n",
      "\n",
      "tune_feature_fraction, val_score: 0.226972:  43%|####2     | 3/7 [00:01<00:01,  2.91it/s]"
     ]
    },
    {
     "name": "stdout",
     "output_type": "stream",
     "text": [
      "Training until validation scores don't improve for 100 rounds\n",
      "Early stopping, best iteration is:\n",
      "[88]\tvalid_0's binary_logloss: 0.227216\n"
     ]
    },
    {
     "name": "stderr",
     "output_type": "stream",
     "text": [
      "\n",
      "tune_feature_fraction, val_score: 0.226972:  43%|####2     | 3/7 [00:01<00:01,  2.91it/s]\n",
      "tune_feature_fraction, val_score: 0.226972:  57%|#####7    | 4/7 [00:01<00:01,  2.85it/s][I 2020-08-11 12:32:26,387] Finished trial#3 resulted in value: 0.22721593668850343. Current best value is 0.22697235592461093 with parameters: {'feature_fraction': 0.4}.\n",
      "\n",
      "tune_feature_fraction, val_score: 0.226972:  57%|#####7    | 4/7 [00:01<00:01,  2.85it/s]"
     ]
    },
    {
     "name": "stdout",
     "output_type": "stream",
     "text": [
      "Training until validation scores don't improve for 100 rounds\n",
      "Early stopping, best iteration is:\n",
      "[92]\tvalid_0's binary_logloss: 0.227607\n"
     ]
    },
    {
     "name": "stderr",
     "output_type": "stream",
     "text": [
      "\n",
      "tune_feature_fraction, val_score: 0.226972:  57%|#####7    | 4/7 [00:01<00:01,  2.85it/s]\n",
      "tune_feature_fraction, val_score: 0.226972:  71%|#######1  | 5/7 [00:01<00:00,  2.76it/s][I 2020-08-11 12:32:26,758] Finished trial#4 resulted in value: 0.227607170533226. Current best value is 0.22697235592461093 with parameters: {'feature_fraction': 0.4}.\n",
      "\n",
      "tune_feature_fraction, val_score: 0.226972:  71%|#######1  | 5/7 [00:01<00:00,  2.76it/s]"
     ]
    },
    {
     "name": "stdout",
     "output_type": "stream",
     "text": [
      "Training until validation scores don't improve for 100 rounds\n",
      "Early stopping, best iteration is:\n",
      "[67]\tvalid_0's binary_logloss: 0.228025\n"
     ]
    },
    {
     "name": "stderr",
     "output_type": "stream",
     "text": [
      "\n",
      "tune_feature_fraction, val_score: 0.226972:  71%|#######1  | 5/7 [00:02<00:00,  2.76it/s]\n",
      "tune_feature_fraction, val_score: 0.226972:  86%|########5 | 6/7 [00:02<00:00,  2.81it/s][I 2020-08-11 12:32:27,097] Finished trial#5 resulted in value: 0.2280251132016893. Current best value is 0.22697235592461093 with parameters: {'feature_fraction': 0.4}.\n",
      "\n",
      "tune_feature_fraction, val_score: 0.226972:  86%|########5 | 6/7 [00:02<00:00,  2.81it/s]"
     ]
    },
    {
     "name": "stdout",
     "output_type": "stream",
     "text": [
      "Training until validation scores don't improve for 100 rounds\n",
      "Early stopping, best iteration is:\n",
      "[89]\tvalid_0's binary_logloss: 0.229064\n"
     ]
    },
    {
     "name": "stderr",
     "output_type": "stream",
     "text": [
      "\n",
      "tune_feature_fraction, val_score: 0.226972:  86%|########5 | 6/7 [00:02<00:00,  2.81it/s]\n",
      "tune_feature_fraction, val_score: 0.226972: 100%|##########| 7/7 [00:02<00:00,  2.77it/s][I 2020-08-11 12:32:27,473] Finished trial#6 resulted in value: 0.22906363285252201. Current best value is 0.22697235592461093 with parameters: {'feature_fraction': 0.4}.\n",
      "tune_feature_fraction, val_score: 0.226972: 100%|##########| 7/7 [00:02<00:00,  2.69it/s]\n",
      "\n",
      "  0%|          | 0/20 [00:00<?, ?it/s]\n",
      "tune_num_leaves, val_score: 0.226972:   0%|          | 0/20 [00:00<?, ?it/s]"
     ]
    },
    {
     "name": "stdout",
     "output_type": "stream",
     "text": [
      "Training until validation scores don't improve for 100 rounds\n",
      "[200]\tvalid_0's binary_logloss: 0.2355\n",
      "Early stopping, best iteration is:\n",
      "[111]\tvalid_0's binary_logloss: 0.228914\n"
     ]
    },
    {
     "name": "stderr",
     "output_type": "stream",
     "text": [
      "\n",
      "tune_num_leaves, val_score: 0.226972:   0%|          | 0/20 [00:00<?, ?it/s]\n",
      "tune_num_leaves, val_score: 0.226972:   5%|5         | 1/20 [00:00<00:10,  1.79it/s][I 2020-08-11 12:32:28,116] Finished trial#0 resulted in value: 0.2289135758967026. Current best value is 0.2289135758967026 with parameters: {'num_leaves': 117}.\n",
      "\n",
      "tune_num_leaves, val_score: 0.226972:   5%|5         | 1/20 [00:00<00:10,  1.79it/s]"
     ]
    },
    {
     "name": "stdout",
     "output_type": "stream",
     "text": [
      "Training until validation scores don't improve for 100 rounds\n",
      "Early stopping, best iteration is:\n",
      "[65]\tvalid_0's binary_logloss: 0.230123\n"
     ]
    },
    {
     "name": "stderr",
     "output_type": "stream",
     "text": [
      "\n",
      "tune_num_leaves, val_score: 0.226972:   5%|5         | 1/20 [00:01<00:10,  1.79it/s]\n",
      "tune_num_leaves, val_score: 0.226972:  10%|#         | 2/20 [00:01<00:10,  1.71it/s][I 2020-08-11 12:32:28,766] Finished trial#1 resulted in value: 0.23012278619021653. Current best value is 0.2289135758967026 with parameters: {'num_leaves': 117}.\n",
      "\n",
      "tune_num_leaves, val_score: 0.226972:  10%|#         | 2/20 [00:01<00:10,  1.71it/s]"
     ]
    },
    {
     "name": "stdout",
     "output_type": "stream",
     "text": [
      "Training until validation scores don't improve for 100 rounds\n",
      "Early stopping, best iteration is:\n",
      "[65]\tvalid_0's binary_logloss: 0.230229\n"
     ]
    },
    {
     "name": "stderr",
     "output_type": "stream",
     "text": [
      "\n",
      "tune_num_leaves, val_score: 0.226972:  10%|#         | 2/20 [00:01<00:10,  1.71it/s]\n",
      "tune_num_leaves, val_score: 0.226972:  15%|#5        | 3/20 [00:01<00:10,  1.68it/s][I 2020-08-11 12:32:29,389] Finished trial#2 resulted in value: 0.2302294601821709. Current best value is 0.2289135758967026 with parameters: {'num_leaves': 117}.\n",
      "\n",
      "tune_num_leaves, val_score: 0.226972:  15%|#5        | 3/20 [00:01<00:10,  1.68it/s]"
     ]
    },
    {
     "name": "stdout",
     "output_type": "stream",
     "text": [
      "Training until validation scores don't improve for 100 rounds\n",
      "Early stopping, best iteration is:\n",
      "[87]\tvalid_0's binary_logloss: 0.228605\n"
     ]
    },
    {
     "name": "stderr",
     "output_type": "stream",
     "text": [
      "\n",
      "tune_num_leaves, val_score: 0.226972:  15%|#5        | 3/20 [00:02<00:10,  1.68it/s]\n",
      "tune_num_leaves, val_score: 0.226972:  20%|##        | 4/20 [00:02<00:09,  1.73it/s][I 2020-08-11 12:32:29,923] Finished trial#3 resulted in value: 0.2286045808475399. Current best value is 0.2286045808475399 with parameters: {'num_leaves': 103}.\n",
      "\n",
      "tune_num_leaves, val_score: 0.226972:  20%|##        | 4/20 [00:02<00:09,  1.73it/s]"
     ]
    },
    {
     "name": "stdout",
     "output_type": "stream",
     "text": [
      "Training until validation scores don't improve for 100 rounds\n",
      "[200]\tvalid_0's binary_logloss: 0.227395\n",
      "Early stopping, best iteration is:\n",
      "[126]\tvalid_0's binary_logloss: 0.22634\n"
     ]
    },
    {
     "name": "stderr",
     "output_type": "stream",
     "text": [
      "\n",
      "tune_num_leaves, val_score: 0.226340:  20%|##        | 4/20 [00:02<00:09,  1.73it/s]\n",
      "tune_num_leaves, val_score: 0.226340:  25%|##5       | 5/20 [00:02<00:07,  1.95it/s][I 2020-08-11 12:32:30,279] Finished trial#4 resulted in value: 0.22634028498083403. Current best value is 0.22634028498083403 with parameters: {'num_leaves': 22}.\n",
      "\n",
      "tune_num_leaves, val_score: 0.226340:  25%|##5       | 5/20 [00:02<00:07,  1.95it/s]"
     ]
    },
    {
     "name": "stdout",
     "output_type": "stream",
     "text": [
      "Training until validation scores don't improve for 100 rounds\n",
      "Early stopping, best iteration is:\n",
      "[65]\tvalid_0's binary_logloss: 0.230902\n"
     ]
    },
    {
     "name": "stderr",
     "output_type": "stream",
     "text": [
      "\n",
      "tune_num_leaves, val_score: 0.226340:  25%|##5       | 5/20 [00:03<00:07,  1.95it/s]\n",
      "tune_num_leaves, val_score: 0.226340:  30%|###       | 6/20 [00:03<00:08,  1.69it/s][I 2020-08-11 12:32:31,063] Finished trial#5 resulted in value: 0.23090189942835707. Current best value is 0.22634028498083403 with parameters: {'num_leaves': 22}.\n",
      "\n",
      "tune_num_leaves, val_score: 0.226340:  30%|###       | 6/20 [00:03<00:08,  1.69it/s]"
     ]
    },
    {
     "name": "stdout",
     "output_type": "stream",
     "text": [
      "Training until validation scores don't improve for 100 rounds\n",
      "[200]\tvalid_0's binary_logloss: 0.229056\n",
      "Early stopping, best iteration is:\n",
      "[110]\tvalid_0's binary_logloss: 0.226884\n"
     ]
    },
    {
     "name": "stderr",
     "output_type": "stream",
     "text": [
      "\n",
      "tune_num_leaves, val_score: 0.226340:  30%|###       | 6/20 [00:03<00:08,  1.69it/s]\n",
      "tune_num_leaves, val_score: 0.226340:  35%|###5      | 7/20 [00:03<00:06,  1.87it/s][I 2020-08-11 12:32:31,464] Finished trial#6 resulted in value: 0.2268835270983601. Current best value is 0.22634028498083403 with parameters: {'num_leaves': 22}.\n",
      "\n",
      "tune_num_leaves, val_score: 0.226340:  35%|###5      | 7/20 [00:03<00:06,  1.87it/s]"
     ]
    },
    {
     "name": "stdout",
     "output_type": "stream",
     "text": [
      "Training until validation scores don't improve for 100 rounds\n",
      "[200]\tvalid_0's binary_logloss: 0.229064\n",
      "Early stopping, best iteration is:\n",
      "[112]\tvalid_0's binary_logloss: 0.226945\n"
     ]
    },
    {
     "name": "stderr",
     "output_type": "stream",
     "text": [
      "\n",
      "tune_num_leaves, val_score: 0.226340:  35%|###5      | 7/20 [00:04<00:06,  1.87it/s]\n",
      "tune_num_leaves, val_score: 0.226340:  40%|####      | 8/20 [00:04<00:05,  2.02it/s][I 2020-08-11 12:32:31,869] Finished trial#7 resulted in value: 0.22694468166621243. Current best value is 0.22634028498083403 with parameters: {'num_leaves': 22}.\n",
      "\n",
      "tune_num_leaves, val_score: 0.226340:  40%|####      | 8/20 [00:04<00:05,  2.02it/s]"
     ]
    },
    {
     "name": "stdout",
     "output_type": "stream",
     "text": [
      "Training until validation scores don't improve for 100 rounds\n",
      "[200]\tvalid_0's binary_logloss: 0.2287\n",
      "Early stopping, best iteration is:\n",
      "[111]\tvalid_0's binary_logloss: 0.226748\n"
     ]
    },
    {
     "name": "stderr",
     "output_type": "stream",
     "text": [
      "\n",
      "tune_num_leaves, val_score: 0.226340:  40%|####      | 8/20 [00:04<00:05,  2.02it/s]\n",
      "tune_num_leaves, val_score: 0.226340:  45%|####5     | 9/20 [00:04<00:05,  2.12it/s][I 2020-08-11 12:32:32,284] Finished trial#8 resulted in value: 0.22674823442271147. Current best value is 0.22634028498083403 with parameters: {'num_leaves': 22}.\n",
      "\n",
      "tune_num_leaves, val_score: 0.226340:  45%|####5     | 9/20 [00:04<00:05,  2.12it/s]"
     ]
    },
    {
     "name": "stdout",
     "output_type": "stream",
     "text": [
      "Training until validation scores don't improve for 100 rounds\n",
      "Early stopping, best iteration is:\n",
      "[65]\tvalid_0's binary_logloss: 0.230092\n"
     ]
    },
    {
     "name": "stderr",
     "output_type": "stream",
     "text": [
      "\n",
      "tune_num_leaves, val_score: 0.226340:  45%|####5     | 9/20 [00:05<00:05,  2.12it/s]\n",
      "tune_num_leaves, val_score: 0.226340:  50%|#####     | 10/20 [00:05<00:05,  1.89it/s][I 2020-08-11 12:32:32,941] Finished trial#9 resulted in value: 0.23009200295629037. Current best value is 0.22634028498083403 with parameters: {'num_leaves': 22}.\n",
      "\n",
      "tune_num_leaves, val_score: 0.226340:  50%|#####     | 10/20 [00:05<00:05,  1.89it/s]"
     ]
    },
    {
     "name": "stdout",
     "output_type": "stream",
     "text": [
      "Training until validation scores don't improve for 100 rounds\n",
      "[200]\tvalid_0's binary_logloss: 0.227291\n",
      "Early stopping, best iteration is:\n",
      "[291]\tvalid_0's binary_logloss: 0.226917\n"
     ]
    },
    {
     "name": "stderr",
     "output_type": "stream",
     "text": [
      "\n",
      "tune_num_leaves, val_score: 0.226340:  50%|#####     | 10/20 [00:05<00:05,  1.89it/s]\n",
      "tune_num_leaves, val_score: 0.226340:  55%|#####5    | 11/20 [00:05<00:04,  2.03it/s][I 2020-08-11 12:32:33,349] Finished trial#10 resulted in value: 0.22691657875603133. Current best value is 0.22634028498083403 with parameters: {'num_leaves': 22}.\n",
      "\n",
      "tune_num_leaves, val_score: 0.226340:  55%|#####5    | 11/20 [00:05<00:04,  2.03it/s]"
     ]
    },
    {
     "name": "stdout",
     "output_type": "stream",
     "text": [
      "Training until validation scores don't improve for 100 rounds\n",
      "[200]\tvalid_0's binary_logloss: 0.22699\n",
      "Early stopping, best iteration is:\n",
      "[161]\tvalid_0's binary_logloss: 0.226681\n"
     ]
    },
    {
     "name": "stderr",
     "output_type": "stream",
     "text": [
      "\n",
      "tune_num_leaves, val_score: 0.226340:  55%|#####5    | 11/20 [00:06<00:04,  2.03it/s]\n",
      "tune_num_leaves, val_score: 0.226340:  60%|######    | 12/20 [00:06<00:03,  2.24it/s][I 2020-08-11 12:32:33,688] Finished trial#11 resulted in value: 0.22668061664535738. Current best value is 0.22634028498083403 with parameters: {'num_leaves': 22}.\n",
      "\n",
      "tune_num_leaves, val_score: 0.226340:  60%|######    | 12/20 [00:06<00:03,  2.24it/s]"
     ]
    },
    {
     "name": "stdout",
     "output_type": "stream",
     "text": [
      "Training until validation scores don't improve for 100 rounds\n",
      "Early stopping, best iteration is:\n",
      "[87]\tvalid_0's binary_logloss: 0.228265\n"
     ]
    },
    {
     "name": "stderr",
     "output_type": "stream",
     "text": [
      "\n",
      "tune_num_leaves, val_score: 0.226340:  60%|######    | 12/20 [00:06<00:03,  2.24it/s]\n",
      "tune_num_leaves, val_score: 0.226340:  65%|######5   | 13/20 [00:06<00:03,  2.20it/s][I 2020-08-11 12:32:34,161] Finished trial#12 resulted in value: 0.22826468115644993. Current best value is 0.22634028498083403 with parameters: {'num_leaves': 22}.\n",
      "\n",
      "tune_num_leaves, val_score: 0.226340:  65%|######5   | 13/20 [00:06<00:03,  2.20it/s]"
     ]
    },
    {
     "name": "stdout",
     "output_type": "stream",
     "text": [
      "Training until validation scores don't improve for 100 rounds\n",
      "[200]\tvalid_0's binary_logloss: 0.229566\n",
      "[400]\tvalid_0's binary_logloss: 0.228337\n",
      "Early stopping, best iteration is:\n",
      "[498]\tvalid_0's binary_logloss: 0.228225\n"
     ]
    },
    {
     "name": "stderr",
     "output_type": "stream",
     "text": [
      "\n",
      "tune_num_leaves, val_score: 0.226340:  65%|######5   | 13/20 [00:07<00:03,  2.20it/s]\n",
      "tune_num_leaves, val_score: 0.226340:  70%|#######   | 14/20 [00:07<00:02,  2.14it/s][I 2020-08-11 12:32:34,661] Finished trial#13 resulted in value: 0.22822450815881123. Current best value is 0.22634028498083403 with parameters: {'num_leaves': 22}.\n",
      "\n",
      "tune_num_leaves, val_score: 0.226340:  70%|#######   | 14/20 [00:07<00:02,  2.14it/s]"
     ]
    },
    {
     "name": "stdout",
     "output_type": "stream",
     "text": [
      "Training until validation scores don't improve for 100 rounds\n",
      "[200]\tvalid_0's binary_logloss: 0.232096\n",
      "Early stopping, best iteration is:\n",
      "[109]\tvalid_0's binary_logloss: 0.227768\n"
     ]
    },
    {
     "name": "stderr",
     "output_type": "stream",
     "text": [
      "\n",
      "tune_num_leaves, val_score: 0.226340:  70%|#######   | 14/20 [00:07<00:02,  2.14it/s]\n",
      "tune_num_leaves, val_score: 0.226340:  75%|#######5  | 15/20 [00:07<00:02,  2.07it/s][I 2020-08-11 12:32:35,177] Finished trial#14 resulted in value: 0.22776817065127344. Current best value is 0.22634028498083403 with parameters: {'num_leaves': 22}.\n",
      "\n",
      "tune_num_leaves, val_score: 0.226340:  75%|#######5  | 15/20 [00:07<00:02,  2.07it/s]"
     ]
    },
    {
     "name": "stdout",
     "output_type": "stream",
     "text": [
      "Training until validation scores don't improve for 100 rounds\n",
      "[200]\tvalid_0's binary_logloss: 0.233761\n",
      "[400]\tvalid_0's binary_logloss: 0.231043\n",
      "[600]\tvalid_0's binary_logloss: 0.230438\n",
      "[800]\tvalid_0's binary_logloss: 0.230415\n",
      "Early stopping, best iteration is:\n",
      "[709]\tvalid_0's binary_logloss: 0.230353\n"
     ]
    },
    {
     "name": "stderr",
     "output_type": "stream",
     "text": [
      "\n",
      "tune_num_leaves, val_score: 0.226340:  75%|#######5  | 15/20 [00:08<00:02,  2.07it/s]\n",
      "tune_num_leaves, val_score: 0.226340:  80%|########  | 16/20 [00:08<00:02,  1.96it/s][I 2020-08-11 12:32:35,752] Finished trial#15 resulted in value: 0.2303533987758447. Current best value is 0.22634028498083403 with parameters: {'num_leaves': 22}.\n",
      "\n",
      "tune_num_leaves, val_score: 0.226340:  80%|########  | 16/20 [00:08<00:02,  1.96it/s]"
     ]
    },
    {
     "name": "stdout",
     "output_type": "stream",
     "text": [
      "Training until validation scores don't improve for 100 rounds\n",
      "Early stopping, best iteration is:\n",
      "[65]\tvalid_0's binary_logloss: 0.229533\n"
     ]
    },
    {
     "name": "stderr",
     "output_type": "stream",
     "text": [
      "\n",
      "tune_num_leaves, val_score: 0.226340:  80%|########  | 16/20 [00:08<00:02,  1.96it/s]\n",
      "tune_num_leaves, val_score: 0.226340:  85%|########5 | 17/20 [00:08<00:01,  1.88it/s][I 2020-08-11 12:32:36,335] Finished trial#16 resulted in value: 0.2295331790784937. Current best value is 0.22634028498083403 with parameters: {'num_leaves': 22}.\n",
      "\n",
      "tune_num_leaves, val_score: 0.226340:  85%|########5 | 17/20 [00:08<00:01,  1.88it/s]"
     ]
    },
    {
     "name": "stdout",
     "output_type": "stream",
     "text": [
      "Training until validation scores don't improve for 100 rounds\n",
      "[200]\tvalid_0's binary_logloss: 0.228127\n",
      "Early stopping, best iteration is:\n",
      "[141]\tvalid_0's binary_logloss: 0.226622\n"
     ]
    },
    {
     "name": "stderr",
     "output_type": "stream",
     "text": [
      "\n",
      "tune_num_leaves, val_score: 0.226340:  85%|########5 | 17/20 [00:09<00:01,  1.88it/s]\n",
      "tune_num_leaves, val_score: 0.226340:  90%|######### | 18/20 [00:09<00:00,  2.05it/s][I 2020-08-11 12:32:36,720] Finished trial#17 resulted in value: 0.22662191163079806. Current best value is 0.22634028498083403 with parameters: {'num_leaves': 22}.\n",
      "\n",
      "tune_num_leaves, val_score: 0.226340:  90%|######### | 18/20 [00:09<00:00,  2.05it/s]"
     ]
    },
    {
     "name": "stdout",
     "output_type": "stream",
     "text": [
      "Training until validation scores don't improve for 100 rounds\n",
      "[200]\tvalid_0's binary_logloss: 0.232219\n",
      "Early stopping, best iteration is:\n",
      "[110]\tvalid_0's binary_logloss: 0.227817\n"
     ]
    },
    {
     "name": "stderr",
     "output_type": "stream",
     "text": [
      "\n",
      "tune_num_leaves, val_score: 0.226340:  90%|######### | 18/20 [00:09<00:00,  2.05it/s]\n",
      "tune_num_leaves, val_score: 0.226340:  95%|#########5| 19/20 [00:09<00:00,  2.06it/s][I 2020-08-11 12:32:37,197] Finished trial#18 resulted in value: 0.22781657830526245. Current best value is 0.22634028498083403 with parameters: {'num_leaves': 22}.\n",
      "\n",
      "tune_num_leaves, val_score: 0.226340:  95%|#########5| 19/20 [00:09<00:00,  2.06it/s]"
     ]
    },
    {
     "name": "stdout",
     "output_type": "stream",
     "text": [
      "Training until validation scores don't improve for 100 rounds\n",
      "[200]\tvalid_0's binary_logloss: 0.228387\n",
      "Early stopping, best iteration is:\n",
      "[125]\tvalid_0's binary_logloss: 0.22667\n"
     ]
    },
    {
     "name": "stderr",
     "output_type": "stream",
     "text": [
      "\n",
      "tune_num_leaves, val_score: 0.226340:  95%|#########5| 19/20 [00:10<00:00,  2.06it/s]\n",
      "tune_num_leaves, val_score: 0.226340: 100%|##########| 20/20 [00:10<00:00,  2.20it/s][I 2020-08-11 12:32:37,579] Finished trial#19 resulted in value: 0.22666951140524794. Current best value is 0.22634028498083403 with parameters: {'num_leaves': 22}.\n",
      "tune_num_leaves, val_score: 0.226340: 100%|##########| 20/20 [00:10<00:00,  1.98it/s]\n",
      "\n",
      "  0%|          | 0/10 [00:00<?, ?it/s]\n",
      "tune_bagging_fraction_and_bagging_freq, val_score: 0.226340:   0%|          | 0/10 [00:00<?, ?it/s]"
     ]
    },
    {
     "name": "stdout",
     "output_type": "stream",
     "text": [
      "Training until validation scores don't improve for 100 rounds\n",
      "[200]\tvalid_0's binary_logloss: 0.227131\n",
      "Early stopping, best iteration is:\n",
      "[153]\tvalid_0's binary_logloss: 0.226461\n"
     ]
    },
    {
     "name": "stderr",
     "output_type": "stream",
     "text": [
      "\n",
      "tune_bagging_fraction_and_bagging_freq, val_score: 0.226340:   0%|          | 0/10 [00:00<?, ?it/s]\n",
      "tune_bagging_fraction_and_bagging_freq, val_score: 0.226340:  10%|#         | 1/10 [00:00<00:03,  2.52it/s][I 2020-08-11 12:32:38,060] Finished trial#0 resulted in value: 0.22646095004957856. Current best value is 0.22646095004957856 with parameters: {'bagging_fraction': 0.923371208449977, 'bagging_freq': 7}.\n",
      "\n",
      "tune_bagging_fraction_and_bagging_freq, val_score: 0.226340:  10%|#         | 1/10 [00:00<00:03,  2.52it/s]"
     ]
    },
    {
     "name": "stdout",
     "output_type": "stream",
     "text": [
      "Training until validation scores don't improve for 100 rounds\n",
      "[200]\tvalid_0's binary_logloss: 0.228512\n",
      "Early stopping, best iteration is:\n",
      "[129]\tvalid_0's binary_logloss: 0.227355\n"
     ]
    },
    {
     "name": "stderr",
     "output_type": "stream",
     "text": [
      "\n",
      "tune_bagging_fraction_and_bagging_freq, val_score: 0.226340:  10%|#         | 1/10 [00:00<00:03,  2.52it/s]\n",
      "tune_bagging_fraction_and_bagging_freq, val_score: 0.226340:  20%|##        | 2/10 [00:00<00:03,  2.52it/s][I 2020-08-11 12:32:38,455] Finished trial#1 resulted in value: 0.22735529716490369. Current best value is 0.22646095004957856 with parameters: {'bagging_fraction': 0.923371208449977, 'bagging_freq': 7}.\n",
      "\n",
      "tune_bagging_fraction_and_bagging_freq, val_score: 0.226340:  20%|##        | 2/10 [00:00<00:03,  2.52it/s]"
     ]
    },
    {
     "name": "stdout",
     "output_type": "stream",
     "text": [
      "Training until validation scores don't improve for 100 rounds\n",
      "[200]\tvalid_0's binary_logloss: 0.228418\n",
      "Early stopping, best iteration is:\n",
      "[146]\tvalid_0's binary_logloss: 0.227585\n"
     ]
    },
    {
     "name": "stderr",
     "output_type": "stream",
     "text": [
      "\n",
      "tune_bagging_fraction_and_bagging_freq, val_score: 0.226340:  20%|##        | 2/10 [00:01<00:03,  2.52it/s]\n",
      "tune_bagging_fraction_and_bagging_freq, val_score: 0.226340:  30%|###       | 3/10 [00:01<00:02,  2.48it/s][I 2020-08-11 12:32:38,875] Finished trial#2 resulted in value: 0.22758465750827506. Current best value is 0.22646095004957856 with parameters: {'bagging_fraction': 0.923371208449977, 'bagging_freq': 7}.\n",
      "\n",
      "tune_bagging_fraction_and_bagging_freq, val_score: 0.226340:  30%|###       | 3/10 [00:01<00:02,  2.48it/s]"
     ]
    },
    {
     "name": "stdout",
     "output_type": "stream",
     "text": [
      "Training until validation scores don't improve for 100 rounds\n",
      "[200]\tvalid_0's binary_logloss: 0.22711\n",
      "Early stopping, best iteration is:\n",
      "[126]\tvalid_0's binary_logloss: 0.226436\n"
     ]
    },
    {
     "name": "stderr",
     "output_type": "stream",
     "text": [
      "\n",
      "tune_bagging_fraction_and_bagging_freq, val_score: 0.226340:  30%|###       | 3/10 [00:01<00:02,  2.48it/s]\n",
      "tune_bagging_fraction_and_bagging_freq, val_score: 0.226340:  40%|####      | 4/10 [00:01<00:02,  2.41it/s][I 2020-08-11 12:32:39,315] Finished trial#3 resulted in value: 0.22643558297685398. Current best value is 0.22643558297685398 with parameters: {'bagging_fraction': 0.9723393943095793, 'bagging_freq': 2}.\n",
      "\n",
      "tune_bagging_fraction_and_bagging_freq, val_score: 0.226340:  40%|####      | 4/10 [00:01<00:02,  2.41it/s]"
     ]
    },
    {
     "name": "stdout",
     "output_type": "stream",
     "text": [
      "Training until validation scores don't improve for 100 rounds\n",
      "[200]\tvalid_0's binary_logloss: 0.228004\n",
      "Early stopping, best iteration is:\n",
      "[125]\tvalid_0's binary_logloss: 0.226759\n"
     ]
    },
    {
     "name": "stderr",
     "output_type": "stream",
     "text": [
      "\n",
      "tune_bagging_fraction_and_bagging_freq, val_score: 0.226340:  40%|####      | 4/10 [00:02<00:02,  2.41it/s]\n",
      "tune_bagging_fraction_and_bagging_freq, val_score: 0.226340:  50%|#####     | 5/10 [00:02<00:02,  2.43it/s][I 2020-08-11 12:32:39,718] Finished trial#4 resulted in value: 0.22675865318266894. Current best value is 0.22643558297685398 with parameters: {'bagging_fraction': 0.9723393943095793, 'bagging_freq': 2}.\n",
      "\n",
      "tune_bagging_fraction_and_bagging_freq, val_score: 0.226340:  50%|#####     | 5/10 [00:02<00:02,  2.43it/s]"
     ]
    },
    {
     "name": "stdout",
     "output_type": "stream",
     "text": [
      "Training until validation scores don't improve for 100 rounds\n",
      "[200]\tvalid_0's binary_logloss: 0.227353\n",
      "Early stopping, best iteration is:\n",
      "[127]\tvalid_0's binary_logloss: 0.226368\n"
     ]
    },
    {
     "name": "stderr",
     "output_type": "stream",
     "text": [
      "\n",
      "tune_bagging_fraction_and_bagging_freq, val_score: 0.226340:  50%|#####     | 5/10 [00:02<00:02,  2.43it/s]\n",
      "tune_bagging_fraction_and_bagging_freq, val_score: 0.226340:  60%|######    | 6/10 [00:02<00:01,  2.41it/s][I 2020-08-11 12:32:40,144] Finished trial#5 resulted in value: 0.2263683760927389. Current best value is 0.2263683760927389 with parameters: {'bagging_fraction': 0.8566838708435025, 'bagging_freq': 3}.\n",
      "\n",
      "tune_bagging_fraction_and_bagging_freq, val_score: 0.226340:  60%|######    | 6/10 [00:02<00:01,  2.41it/s]"
     ]
    },
    {
     "name": "stdout",
     "output_type": "stream",
     "text": [
      "Training until validation scores don't improve for 100 rounds\n",
      "[200]\tvalid_0's binary_logloss: 0.228171\n",
      "Early stopping, best iteration is:\n",
      "[125]\tvalid_0's binary_logloss: 0.226703\n"
     ]
    },
    {
     "name": "stderr",
     "output_type": "stream",
     "text": [
      "\n",
      "tune_bagging_fraction_and_bagging_freq, val_score: 0.226340:  60%|######    | 6/10 [00:02<00:01,  2.41it/s]\n",
      "tune_bagging_fraction_and_bagging_freq, val_score: 0.226340:  70%|#######   | 7/10 [00:02<00:01,  2.40it/s][I 2020-08-11 12:32:40,561] Finished trial#6 resulted in value: 0.2267025297889229. Current best value is 0.2263683760927389 with parameters: {'bagging_fraction': 0.8566838708435025, 'bagging_freq': 3}.\n",
      "\n",
      "tune_bagging_fraction_and_bagging_freq, val_score: 0.226340:  70%|#######   | 7/10 [00:02<00:01,  2.40it/s]"
     ]
    },
    {
     "name": "stdout",
     "output_type": "stream",
     "text": [
      "Training until validation scores don't improve for 100 rounds\n",
      "[200]\tvalid_0's binary_logloss: 0.228018\n",
      "Early stopping, best iteration is:\n",
      "[124]\tvalid_0's binary_logloss: 0.226823\n"
     ]
    },
    {
     "name": "stderr",
     "output_type": "stream",
     "text": [
      "\n",
      "tune_bagging_fraction_and_bagging_freq, val_score: 0.226340:  70%|#######   | 7/10 [00:03<00:01,  2.40it/s]\n",
      "tune_bagging_fraction_and_bagging_freq, val_score: 0.226340:  80%|########  | 8/10 [00:03<00:00,  2.44it/s][I 2020-08-11 12:32:40,959] Finished trial#7 resulted in value: 0.226823102528188. Current best value is 0.2263683760927389 with parameters: {'bagging_fraction': 0.8566838708435025, 'bagging_freq': 3}.\n",
      "\n",
      "tune_bagging_fraction_and_bagging_freq, val_score: 0.226340:  80%|########  | 8/10 [00:03<00:00,  2.44it/s]"
     ]
    },
    {
     "name": "stdout",
     "output_type": "stream",
     "text": [
      "Training until validation scores don't improve for 100 rounds\n",
      "[200]\tvalid_0's binary_logloss: 0.228363\n",
      "Early stopping, best iteration is:\n",
      "[124]\tvalid_0's binary_logloss: 0.227452\n"
     ]
    },
    {
     "name": "stderr",
     "output_type": "stream",
     "text": [
      "\n",
      "tune_bagging_fraction_and_bagging_freq, val_score: 0.226340:  80%|########  | 8/10 [00:03<00:00,  2.44it/s]\n",
      "tune_bagging_fraction_and_bagging_freq, val_score: 0.226340:  90%|######### | 9/10 [00:03<00:00,  2.45it/s][I 2020-08-11 12:32:41,362] Finished trial#8 resulted in value: 0.22745176593602465. Current best value is 0.2263683760927389 with parameters: {'bagging_fraction': 0.8566838708435025, 'bagging_freq': 3}.\n",
      "\n",
      "tune_bagging_fraction_and_bagging_freq, val_score: 0.226340:  90%|######### | 9/10 [00:03<00:00,  2.45it/s]"
     ]
    },
    {
     "name": "stdout",
     "output_type": "stream",
     "text": [
      "Training until validation scores don't improve for 100 rounds\n",
      "[200]\tvalid_0's binary_logloss: 0.229001\n",
      "Early stopping, best iteration is:\n",
      "[125]\tvalid_0's binary_logloss: 0.228084\n"
     ]
    },
    {
     "name": "stderr",
     "output_type": "stream",
     "text": [
      "\n",
      "tune_bagging_fraction_and_bagging_freq, val_score: 0.226340:  90%|######### | 9/10 [00:04<00:00,  2.45it/s]\n",
      "tune_bagging_fraction_and_bagging_freq, val_score: 0.226340: 100%|##########| 10/10 [00:04<00:00,  2.48it/s][I 2020-08-11 12:32:41,753] Finished trial#9 resulted in value: 0.22808414412850808. Current best value is 0.2263683760927389 with parameters: {'bagging_fraction': 0.8566838708435025, 'bagging_freq': 3}.\n",
      "tune_bagging_fraction_and_bagging_freq, val_score: 0.226340: 100%|##########| 10/10 [00:04<00:00,  2.40it/s]\n",
      "\n",
      "  0%|          | 0/3 [00:00<?, ?it/s]\n",
      "tune_feature_fraction, val_score: 0.226340:   0%|          | 0/3 [00:00<?, ?it/s]"
     ]
    },
    {
     "name": "stdout",
     "output_type": "stream",
     "text": [
      "Training until validation scores don't improve for 100 rounds\n",
      "[200]\tvalid_0's binary_logloss: 0.227395\n",
      "Early stopping, best iteration is:\n",
      "[126]\tvalid_0's binary_logloss: 0.22634\n"
     ]
    },
    {
     "name": "stderr",
     "output_type": "stream",
     "text": [
      "\n",
      "tune_feature_fraction, val_score: 0.226340:   0%|          | 0/3 [00:00<?, ?it/s]\n",
      "tune_feature_fraction, val_score: 0.226340:  33%|###3      | 1/3 [00:00<00:00,  3.55it/s][I 2020-08-11 12:32:42,117] Finished trial#0 resulted in value: 0.22634028498083403. Current best value is 0.22634028498083403 with parameters: {'feature_fraction': 0.41600000000000004}.\n",
      "\n",
      "tune_feature_fraction, val_score: 0.226340:  33%|###3      | 1/3 [00:00<00:00,  3.55it/s]"
     ]
    },
    {
     "name": "stdout",
     "output_type": "stream",
     "text": [
      "Training until validation scores don't improve for 100 rounds\n",
      "[200]\tvalid_0's binary_logloss: 0.227914\n",
      "Early stopping, best iteration is:\n",
      "[126]\tvalid_0's binary_logloss: 0.226365\n"
     ]
    },
    {
     "name": "stderr",
     "output_type": "stream",
     "text": [
      "\n",
      "tune_feature_fraction, val_score: 0.226340:  33%|###3      | 1/3 [00:00<00:00,  3.55it/s]\n",
      "tune_feature_fraction, val_score: 0.226340:  67%|######6   | 2/3 [00:00<00:00,  3.23it/s][I 2020-08-11 12:32:42,493] Finished trial#1 resulted in value: 0.2263645132045758. Current best value is 0.22634028498083403 with parameters: {'feature_fraction': 0.41600000000000004}.\n",
      "\n",
      "tune_feature_fraction, val_score: 0.226340:  67%|######6   | 2/3 [00:00<00:00,  3.23it/s]"
     ]
    },
    {
     "name": "stdout",
     "output_type": "stream",
     "text": [
      "Training until validation scores don't improve for 100 rounds\n",
      "[200]\tvalid_0's binary_logloss: 0.227444\n",
      "Early stopping, best iteration is:\n",
      "[115]\tvalid_0's binary_logloss: 0.226209\n"
     ]
    },
    {
     "name": "stderr",
     "output_type": "stream",
     "text": [
      "\n",
      "tune_feature_fraction, val_score: 0.226209:  67%|######6   | 2/3 [00:01<00:00,  3.23it/s]\n",
      "tune_feature_fraction, val_score: 0.226209: 100%|##########| 3/3 [00:01<00:00,  3.10it/s][I 2020-08-11 12:32:42,846] Finished trial#2 resulted in value: 0.22620919647641394. Current best value is 0.22620919647641394 with parameters: {'feature_fraction': 0.48000000000000004}.\n",
      "tune_feature_fraction, val_score: 0.226209: 100%|##########| 3/3 [00:01<00:00,  2.75it/s]\n",
      "\n",
      "  0%|          | 0/20 [00:00<?, ?it/s]\n",
      "tune_lambda_l1_and_lambda_l2, val_score: 0.226209:   0%|          | 0/20 [00:00<?, ?it/s]"
     ]
    },
    {
     "name": "stdout",
     "output_type": "stream",
     "text": [
      "Training until validation scores don't improve for 100 rounds\n",
      "[200]\tvalid_0's binary_logloss: 0.227202\n",
      "Early stopping, best iteration is:\n",
      "[126]\tvalid_0's binary_logloss: 0.226466\n"
     ]
    },
    {
     "name": "stderr",
     "output_type": "stream",
     "text": [
      "\n",
      "tune_lambda_l1_and_lambda_l2, val_score: 0.226209:   0%|          | 0/20 [00:00<?, ?it/s]\n",
      "tune_lambda_l1_and_lambda_l2, val_score: 0.226209:   5%|5         | 1/20 [00:00<00:05,  3.39it/s][I 2020-08-11 12:32:43,225] Finished trial#0 resulted in value: 0.22646645347513555. Current best value is 0.22646645347513555 with parameters: {'lambda_l1': 0.5072999305121059, 'lambda_l2': 0.6085760409571651}.\n",
      "\n",
      "tune_lambda_l1_and_lambda_l2, val_score: 0.226209:   5%|5         | 1/20 [00:00<00:05,  3.39it/s]"
     ]
    },
    {
     "name": "stdout",
     "output_type": "stream",
     "text": [
      "Training until validation scores don't improve for 100 rounds\n",
      "[200]\tvalid_0's binary_logloss: 0.227325\n",
      "Early stopping, best iteration is:\n",
      "[125]\tvalid_0's binary_logloss: 0.225981\n"
     ]
    },
    {
     "name": "stderr",
     "output_type": "stream",
     "text": [
      "\n",
      "tune_lambda_l1_and_lambda_l2, val_score: 0.225981:   5%|5         | 1/20 [00:00<00:05,  3.39it/s]\n",
      "tune_lambda_l1_and_lambda_l2, val_score: 0.225981:  10%|#         | 2/20 [00:00<00:05,  3.17it/s][I 2020-08-11 12:32:43,586] Finished trial#1 resulted in value: 0.2259813003693579. Current best value is 0.2259813003693579 with parameters: {'lambda_l1': 5.6811762388261576e-08, 'lambda_l2': 3.472254462764833e-05}.\n",
      "\n",
      "tune_lambda_l1_and_lambda_l2, val_score: 0.225981:  10%|#         | 2/20 [00:00<00:05,  3.17it/s]"
     ]
    },
    {
     "name": "stdout",
     "output_type": "stream",
     "text": [
      "Training until validation scores don't improve for 100 rounds\n",
      "[200]\tvalid_0's binary_logloss: 0.227923\n",
      "Early stopping, best iteration is:\n",
      "[115]\tvalid_0's binary_logloss: 0.226446\n"
     ]
    },
    {
     "name": "stderr",
     "output_type": "stream",
     "text": [
      "\n",
      "tune_lambda_l1_and_lambda_l2, val_score: 0.225981:  10%|#         | 2/20 [00:00<00:05,  3.17it/s]\n",
      "tune_lambda_l1_and_lambda_l2, val_score: 0.225981:  15%|#5        | 3/20 [00:01<00:05,  3.09it/s][I 2020-08-11 12:32:43,928] Finished trial#2 resulted in value: 0.22644620493561224. Current best value is 0.2259813003693579 with parameters: {'lambda_l1': 5.6811762388261576e-08, 'lambda_l2': 3.472254462764833e-05}.\n",
      "\n",
      "tune_lambda_l1_and_lambda_l2, val_score: 0.225981:  15%|#5        | 3/20 [00:01<00:05,  3.09it/s]"
     ]
    },
    {
     "name": "stdout",
     "output_type": "stream",
     "text": [
      "Training until validation scores don't improve for 100 rounds\n",
      "[200]\tvalid_0's binary_logloss: 0.226145\n",
      "Early stopping, best iteration is:\n",
      "[157]\tvalid_0's binary_logloss: 0.225926\n"
     ]
    },
    {
     "name": "stderr",
     "output_type": "stream",
     "text": [
      "\n",
      "tune_lambda_l1_and_lambda_l2, val_score: 0.225926:  15%|#5        | 3/20 [00:01<00:05,  3.09it/s]\n",
      "tune_lambda_l1_and_lambda_l2, val_score: 0.225926:  20%|##        | 4/20 [00:01<00:05,  2.69it/s][I 2020-08-11 12:32:44,413] Finished trial#3 resulted in value: 0.22592627215654942. Current best value is 0.22592627215654942 with parameters: {'lambda_l1': 5.0338005309371665, 'lambda_l2': 2.9139814271924417e-05}.\n",
      "\n",
      "tune_lambda_l1_and_lambda_l2, val_score: 0.225926:  20%|##        | 4/20 [00:01<00:05,  2.69it/s]"
     ]
    },
    {
     "name": "stdout",
     "output_type": "stream",
     "text": [
      "Training until validation scores don't improve for 100 rounds\n",
      "[200]\tvalid_0's binary_logloss: 0.227686\n",
      "Early stopping, best iteration is:\n",
      "[117]\tvalid_0's binary_logloss: 0.226198\n"
     ]
    },
    {
     "name": "stderr",
     "output_type": "stream",
     "text": [
      "\n",
      "tune_lambda_l1_and_lambda_l2, val_score: 0.225926:  20%|##        | 4/20 [00:01<00:05,  2.69it/s]\n",
      "tune_lambda_l1_and_lambda_l2, val_score: 0.225926:  25%|##5       | 5/20 [00:01<00:05,  2.74it/s][I 2020-08-11 12:32:44,760] Finished trial#4 resulted in value: 0.22619838021275845. Current best value is 0.22592627215654942 with parameters: {'lambda_l1': 5.0338005309371665, 'lambda_l2': 2.9139814271924417e-05}.\n",
      "\n",
      "tune_lambda_l1_and_lambda_l2, val_score: 0.225926:  25%|##5       | 5/20 [00:01<00:05,  2.74it/s]"
     ]
    },
    {
     "name": "stdout",
     "output_type": "stream",
     "text": [
      "Training until validation scores don't improve for 100 rounds\n",
      "[200]\tvalid_0's binary_logloss: 0.227457\n",
      "Early stopping, best iteration is:\n",
      "[115]\tvalid_0's binary_logloss: 0.22625\n"
     ]
    },
    {
     "name": "stderr",
     "output_type": "stream",
     "text": [
      "\n",
      "tune_lambda_l1_and_lambda_l2, val_score: 0.225926:  25%|##5       | 5/20 [00:02<00:05,  2.74it/s]\n",
      "tune_lambda_l1_and_lambda_l2, val_score: 0.225926:  30%|###       | 6/20 [00:02<00:05,  2.77it/s][I 2020-08-11 12:32:45,117] Finished trial#5 resulted in value: 0.2262499589452788. Current best value is 0.22592627215654942 with parameters: {'lambda_l1': 5.0338005309371665, 'lambda_l2': 2.9139814271924417e-05}.\n",
      "\n",
      "tune_lambda_l1_and_lambda_l2, val_score: 0.225926:  30%|###       | 6/20 [00:02<00:05,  2.77it/s]"
     ]
    },
    {
     "name": "stdout",
     "output_type": "stream",
     "text": [
      "Training until validation scores don't improve for 100 rounds\n",
      "[200]\tvalid_0's binary_logloss: 0.227355\n",
      "Early stopping, best iteration is:\n",
      "[126]\tvalid_0's binary_logloss: 0.22622\n"
     ]
    },
    {
     "name": "stderr",
     "output_type": "stream",
     "text": [
      "\n",
      "tune_lambda_l1_and_lambda_l2, val_score: 0.225926:  30%|###       | 6/20 [00:02<00:05,  2.77it/s]\n",
      "tune_lambda_l1_and_lambda_l2, val_score: 0.225926:  35%|###5      | 7/20 [00:02<00:04,  2.77it/s][I 2020-08-11 12:32:45,473] Finished trial#6 resulted in value: 0.22621963015734128. Current best value is 0.22592627215654942 with parameters: {'lambda_l1': 5.0338005309371665, 'lambda_l2': 2.9139814271924417e-05}.\n",
      "\n",
      "tune_lambda_l1_and_lambda_l2, val_score: 0.225926:  35%|###5      | 7/20 [00:02<00:04,  2.77it/s]"
     ]
    },
    {
     "name": "stdout",
     "output_type": "stream",
     "text": [
      "Training until validation scores don't improve for 100 rounds\n",
      "[200]\tvalid_0's binary_logloss: 0.22764\n",
      "Early stopping, best iteration is:\n",
      "[126]\tvalid_0's binary_logloss: 0.226318\n"
     ]
    },
    {
     "name": "stderr",
     "output_type": "stream",
     "text": [
      "\n",
      "tune_lambda_l1_and_lambda_l2, val_score: 0.225926:  35%|###5      | 7/20 [00:02<00:04,  2.77it/s]\n",
      "tune_lambda_l1_and_lambda_l2, val_score: 0.225926:  40%|####      | 8/20 [00:02<00:04,  2.77it/s][I 2020-08-11 12:32:45,833] Finished trial#7 resulted in value: 0.2263183501265389. Current best value is 0.22592627215654942 with parameters: {'lambda_l1': 5.0338005309371665, 'lambda_l2': 2.9139814271924417e-05}.\n",
      "\n",
      "tune_lambda_l1_and_lambda_l2, val_score: 0.225926:  40%|####      | 8/20 [00:02<00:04,  2.77it/s]"
     ]
    },
    {
     "name": "stdout",
     "output_type": "stream",
     "text": [
      "Training until validation scores don't improve for 100 rounds\n",
      "[200]\tvalid_0's binary_logloss: 0.227716\n",
      "Early stopping, best iteration is:\n",
      "[115]\tvalid_0's binary_logloss: 0.226469\n"
     ]
    },
    {
     "name": "stderr",
     "output_type": "stream",
     "text": [
      "\n",
      "tune_lambda_l1_and_lambda_l2, val_score: 0.225926:  40%|####      | 8/20 [00:03<00:04,  2.77it/s]\n",
      "tune_lambda_l1_and_lambda_l2, val_score: 0.225926:  45%|####5     | 9/20 [00:03<00:03,  2.81it/s][I 2020-08-11 12:32:46,180] Finished trial#8 resulted in value: 0.2264690422710771. Current best value is 0.22592627215654942 with parameters: {'lambda_l1': 5.0338005309371665, 'lambda_l2': 2.9139814271924417e-05}.\n",
      "\n",
      "tune_lambda_l1_and_lambda_l2, val_score: 0.225926:  45%|####5     | 9/20 [00:03<00:03,  2.81it/s]"
     ]
    },
    {
     "name": "stdout",
     "output_type": "stream",
     "text": [
      "Training until validation scores don't improve for 100 rounds\n",
      "[200]\tvalid_0's binary_logloss: 0.227325\n",
      "Early stopping, best iteration is:\n",
      "[125]\tvalid_0's binary_logloss: 0.225981\n"
     ]
    },
    {
     "name": "stderr",
     "output_type": "stream",
     "text": [
      "\n",
      "tune_lambda_l1_and_lambda_l2, val_score: 0.225926:  45%|####5     | 9/20 [00:03<00:03,  2.81it/s]\n",
      "tune_lambda_l1_and_lambda_l2, val_score: 0.225926:  50%|#####     | 10/20 [00:03<00:03,  2.76it/s][I 2020-08-11 12:32:46,555] Finished trial#9 resulted in value: 0.22598130738055588. Current best value is 0.22592627215654942 with parameters: {'lambda_l1': 5.0338005309371665, 'lambda_l2': 2.9139814271924417e-05}.\n",
      "\n",
      "tune_lambda_l1_and_lambda_l2, val_score: 0.225926:  50%|#####     | 10/20 [00:03<00:03,  2.76it/s]"
     ]
    },
    {
     "name": "stdout",
     "output_type": "stream",
     "text": [
      "Training until validation scores don't improve for 100 rounds\n",
      "[200]\tvalid_0's binary_logloss: 0.226518\n",
      "Early stopping, best iteration is:\n",
      "[221]\tvalid_0's binary_logloss: 0.226462\n"
     ]
    },
    {
     "name": "stderr",
     "output_type": "stream",
     "text": [
      "\n",
      "tune_lambda_l1_and_lambda_l2, val_score: 0.225926:  50%|#####     | 10/20 [00:04<00:03,  2.76it/s]\n",
      "tune_lambda_l1_and_lambda_l2, val_score: 0.225926:  55%|#####5    | 11/20 [00:04<00:03,  2.40it/s][I 2020-08-11 12:32:47,106] Finished trial#10 resulted in value: 0.2264624323019433. Current best value is 0.22592627215654942 with parameters: {'lambda_l1': 5.0338005309371665, 'lambda_l2': 2.9139814271924417e-05}.\n",
      "\n",
      "tune_lambda_l1_and_lambda_l2, val_score: 0.225926:  55%|#####5    | 11/20 [00:04<00:03,  2.40it/s]"
     ]
    },
    {
     "name": "stdout",
     "output_type": "stream",
     "text": [
      "Training until validation scores don't improve for 100 rounds\n",
      "[200]\tvalid_0's binary_logloss: 0.227778\n",
      "Early stopping, best iteration is:\n",
      "[115]\tvalid_0's binary_logloss: 0.226209\n"
     ]
    },
    {
     "name": "stderr",
     "output_type": "stream",
     "text": [
      "\n",
      "tune_lambda_l1_and_lambda_l2, val_score: 0.225926:  55%|#####5    | 11/20 [00:04<00:03,  2.40it/s]\n",
      "tune_lambda_l1_and_lambda_l2, val_score: 0.225926:  60%|######    | 12/20 [00:04<00:03,  2.52it/s][I 2020-08-11 12:32:47,450] Finished trial#11 resulted in value: 0.22620919478665855. Current best value is 0.22592627215654942 with parameters: {'lambda_l1': 5.0338005309371665, 'lambda_l2': 2.9139814271924417e-05}.\n",
      "\n",
      "tune_lambda_l1_and_lambda_l2, val_score: 0.225926:  60%|######    | 12/20 [00:04<00:03,  2.52it/s]"
     ]
    },
    {
     "name": "stdout",
     "output_type": "stream",
     "text": [
      "Training until validation scores don't improve for 100 rounds\n",
      "[200]\tvalid_0's binary_logloss: 0.227294\n",
      "Early stopping, best iteration is:\n",
      "[128]\tvalid_0's binary_logloss: 0.22646\n"
     ]
    },
    {
     "name": "stderr",
     "output_type": "stream",
     "text": [
      "\n",
      "tune_lambda_l1_and_lambda_l2, val_score: 0.225926:  60%|######    | 12/20 [00:04<00:03,  2.52it/s]\n",
      "tune_lambda_l1_and_lambda_l2, val_score: 0.225926:  65%|######5   | 13/20 [00:04<00:02,  2.57it/s][I 2020-08-11 12:32:47,820] Finished trial#12 resulted in value: 0.22645965242437432. Current best value is 0.22592627215654942 with parameters: {'lambda_l1': 5.0338005309371665, 'lambda_l2': 2.9139814271924417e-05}.\n",
      "\n",
      "tune_lambda_l1_and_lambda_l2, val_score: 0.225926:  65%|######5   | 13/20 [00:04<00:02,  2.57it/s]"
     ]
    },
    {
     "name": "stdout",
     "output_type": "stream",
     "text": [
      "Training until validation scores don't improve for 100 rounds\n",
      "[200]\tvalid_0's binary_logloss: 0.227324\n",
      "Early stopping, best iteration is:\n",
      "[115]\tvalid_0's binary_logloss: 0.226175\n"
     ]
    },
    {
     "name": "stderr",
     "output_type": "stream",
     "text": [
      "\n",
      "tune_lambda_l1_and_lambda_l2, val_score: 0.225926:  65%|######5   | 13/20 [00:05<00:02,  2.57it/s]\n",
      "tune_lambda_l1_and_lambda_l2, val_score: 0.225926:  70%|#######   | 14/20 [00:05<00:02,  2.66it/s][I 2020-08-11 12:32:48,167] Finished trial#13 resulted in value: 0.2261749219546128. Current best value is 0.22592627215654942 with parameters: {'lambda_l1': 5.0338005309371665, 'lambda_l2': 2.9139814271924417e-05}.\n",
      "\n",
      "tune_lambda_l1_and_lambda_l2, val_score: 0.225926:  70%|#######   | 14/20 [00:05<00:02,  2.66it/s]"
     ]
    },
    {
     "name": "stdout",
     "output_type": "stream",
     "text": [
      "Training until validation scores don't improve for 100 rounds\n",
      "[200]\tvalid_0's binary_logloss: 0.226366\n",
      "Early stopping, best iteration is:\n",
      "[169]\tvalid_0's binary_logloss: 0.226228\n"
     ]
    },
    {
     "name": "stderr",
     "output_type": "stream",
     "text": [
      "\n",
      "tune_lambda_l1_and_lambda_l2, val_score: 0.225926:  70%|#######   | 14/20 [00:05<00:02,  2.66it/s]\n",
      "tune_lambda_l1_and_lambda_l2, val_score: 0.225926:  75%|#######5  | 15/20 [00:05<00:02,  2.44it/s][I 2020-08-11 12:32:48,660] Finished trial#14 resulted in value: 0.22622806897199468. Current best value is 0.22592627215654942 with parameters: {'lambda_l1': 5.0338005309371665, 'lambda_l2': 2.9139814271924417e-05}.\n",
      "\n",
      "tune_lambda_l1_and_lambda_l2, val_score: 0.225926:  75%|#######5  | 15/20 [00:05<00:02,  2.44it/s]"
     ]
    },
    {
     "name": "stdout",
     "output_type": "stream",
     "text": [
      "Training until validation scores don't improve for 100 rounds\n",
      "[200]\tvalid_0's binary_logloss: 0.227778\n",
      "Early stopping, best iteration is:\n",
      "[115]\tvalid_0's binary_logloss: 0.226209\n"
     ]
    },
    {
     "name": "stderr",
     "output_type": "stream",
     "text": [
      "\n",
      "tune_lambda_l1_and_lambda_l2, val_score: 0.225926:  75%|#######5  | 15/20 [00:06<00:02,  2.44it/s]\n",
      "tune_lambda_l1_and_lambda_l2, val_score: 0.225926:  80%|########  | 16/20 [00:06<00:01,  2.55it/s][I 2020-08-11 12:32:49,006] Finished trial#15 resulted in value: 0.22620919607162507. Current best value is 0.22592627215654942 with parameters: {'lambda_l1': 5.0338005309371665, 'lambda_l2': 2.9139814271924417e-05}.\n",
      "\n",
      "tune_lambda_l1_and_lambda_l2, val_score: 0.225926:  80%|########  | 16/20 [00:06<00:01,  2.55it/s]"
     ]
    },
    {
     "name": "stdout",
     "output_type": "stream",
     "text": [
      "Training until validation scores don't improve for 100 rounds\n",
      "[200]\tvalid_0's binary_logloss: 0.227586\n",
      "Early stopping, best iteration is:\n",
      "[114]\tvalid_0's binary_logloss: 0.226496\n"
     ]
    },
    {
     "name": "stderr",
     "output_type": "stream",
     "text": [
      "\n",
      "tune_lambda_l1_and_lambda_l2, val_score: 0.225926:  80%|########  | 16/20 [00:06<00:01,  2.55it/s]\n",
      "tune_lambda_l1_and_lambda_l2, val_score: 0.225926:  85%|########5 | 17/20 [00:06<00:01,  2.64it/s][I 2020-08-11 12:32:49,356] Finished trial#16 resulted in value: 0.22649626320815594. Current best value is 0.22592627215654942 with parameters: {'lambda_l1': 5.0338005309371665, 'lambda_l2': 2.9139814271924417e-05}.\n",
      "\n",
      "tune_lambda_l1_and_lambda_l2, val_score: 0.225926:  85%|########5 | 17/20 [00:06<00:01,  2.64it/s]"
     ]
    },
    {
     "name": "stdout",
     "output_type": "stream",
     "text": [
      "Training until validation scores don't improve for 100 rounds\n",
      "[200]\tvalid_0's binary_logloss: 0.227325\n",
      "Early stopping, best iteration is:\n",
      "[125]\tvalid_0's binary_logloss: 0.225981\n"
     ]
    },
    {
     "name": "stderr",
     "output_type": "stream",
     "text": [
      "\n",
      "tune_lambda_l1_and_lambda_l2, val_score: 0.225926:  85%|########5 | 17/20 [00:06<00:01,  2.64it/s]\n",
      "tune_lambda_l1_and_lambda_l2, val_score: 0.225926:  90%|######### | 18/20 [00:06<00:00,  2.68it/s][I 2020-08-11 12:32:49,714] Finished trial#17 resulted in value: 0.2259812984010946. Current best value is 0.22592627215654942 with parameters: {'lambda_l1': 5.0338005309371665, 'lambda_l2': 2.9139814271924417e-05}.\n",
      "\n",
      "tune_lambda_l1_and_lambda_l2, val_score: 0.225926:  90%|######### | 18/20 [00:06<00:00,  2.68it/s]"
     ]
    },
    {
     "name": "stdout",
     "output_type": "stream",
     "text": [
      "Training until validation scores don't improve for 100 rounds\n",
      "[200]\tvalid_0's binary_logloss: 0.227325\n",
      "Early stopping, best iteration is:\n",
      "[125]\tvalid_0's binary_logloss: 0.225981\n"
     ]
    },
    {
     "name": "stderr",
     "output_type": "stream",
     "text": [
      "\n",
      "tune_lambda_l1_and_lambda_l2, val_score: 0.225926:  90%|######### | 18/20 [00:07<00:00,  2.68it/s]\n",
      "tune_lambda_l1_and_lambda_l2, val_score: 0.225926:  95%|#########5| 19/20 [00:07<00:00,  2.70it/s][I 2020-08-11 12:32:50,080] Finished trial#18 resulted in value: 0.22598129391689561. Current best value is 0.22592627215654942 with parameters: {'lambda_l1': 5.0338005309371665, 'lambda_l2': 2.9139814271924417e-05}.\n",
      "\n",
      "tune_lambda_l1_and_lambda_l2, val_score: 0.225926:  95%|#########5| 19/20 [00:07<00:00,  2.70it/s]"
     ]
    },
    {
     "name": "stdout",
     "output_type": "stream",
     "text": [
      "Training until validation scores don't improve for 100 rounds\n",
      "[200]\tvalid_0's binary_logloss: 0.227506\n",
      "Early stopping, best iteration is:\n",
      "[115]\tvalid_0's binary_logloss: 0.22621\n"
     ]
    },
    {
     "name": "stderr",
     "output_type": "stream",
     "text": [
      "\n",
      "tune_lambda_l1_and_lambda_l2, val_score: 0.225926:  95%|#########5| 19/20 [00:07<00:00,  2.70it/s]\n",
      "tune_lambda_l1_and_lambda_l2, val_score: 0.225926: 100%|##########| 20/20 [00:07<00:00,  2.75it/s][I 2020-08-11 12:32:50,428] Finished trial#19 resulted in value: 0.22621020662131436. Current best value is 0.22592627215654942 with parameters: {'lambda_l1': 5.0338005309371665, 'lambda_l2': 2.9139814271924417e-05}.\n",
      "tune_lambda_l1_and_lambda_l2, val_score: 0.225926: 100%|##########| 20/20 [00:07<00:00,  2.64it/s]\n",
      "\n",
      "  0%|          | 0/5 [00:00<?, ?it/s]\n",
      "tune_min_child_samples, val_score: 0.225926:   0%|          | 0/5 [00:00<?, ?it/s]"
     ]
    },
    {
     "name": "stdout",
     "output_type": "stream",
     "text": [
      "Training until validation scores don't improve for 100 rounds\n",
      "[200]\tvalid_0's binary_logloss: 0.226371\n",
      "Early stopping, best iteration is:\n",
      "[149]\tvalid_0's binary_logloss: 0.226033\n"
     ]
    },
    {
     "name": "stderr",
     "output_type": "stream",
     "text": [
      "\n",
      "tune_min_child_samples, val_score: 0.225926:   0%|          | 0/5 [00:00<?, ?it/s]\n",
      "tune_min_child_samples, val_score: 0.225926:  20%|##        | 1/5 [00:00<00:01,  2.59it/s][I 2020-08-11 12:32:50,897] Finished trial#0 resulted in value: 0.2260334059468309. Current best value is 0.2260334059468309 with parameters: {'min_child_samples': 5}.\n",
      "\n",
      "tune_min_child_samples, val_score: 0.225926:  20%|##        | 1/5 [00:00<00:01,  2.59it/s]"
     ]
    },
    {
     "name": "stdout",
     "output_type": "stream",
     "text": [
      "Training until validation scores don't improve for 100 rounds\n",
      "[200]\tvalid_0's binary_logloss: 0.226303\n",
      "Early stopping, best iteration is:\n",
      "[152]\tvalid_0's binary_logloss: 0.226067\n"
     ]
    },
    {
     "name": "stderr",
     "output_type": "stream",
     "text": [
      "\n",
      "tune_min_child_samples, val_score: 0.225926:  20%|##        | 1/5 [00:00<00:01,  2.59it/s]\n",
      "tune_min_child_samples, val_score: 0.225926:  40%|####      | 2/5 [00:00<00:01,  2.40it/s][I 2020-08-11 12:32:51,387] Finished trial#1 resulted in value: 0.22606738874081353. Current best value is 0.2260334059468309 with parameters: {'min_child_samples': 5}.\n",
      "\n",
      "tune_min_child_samples, val_score: 0.225926:  40%|####      | 2/5 [00:00<00:01,  2.40it/s]"
     ]
    },
    {
     "name": "stdout",
     "output_type": "stream",
     "text": [
      "Training until validation scores don't improve for 100 rounds\n",
      "[200]\tvalid_0's binary_logloss: 0.226499\n",
      "Early stopping, best iteration is:\n",
      "[152]\tvalid_0's binary_logloss: 0.226226\n"
     ]
    },
    {
     "name": "stderr",
     "output_type": "stream",
     "text": [
      "\n",
      "tune_min_child_samples, val_score: 0.225926:  40%|####      | 2/5 [00:01<00:01,  2.40it/s]\n",
      "tune_min_child_samples, val_score: 0.225926:  60%|######    | 3/5 [00:01<00:00,  2.33it/s][I 2020-08-11 12:32:51,847] Finished trial#2 resulted in value: 0.22622571124007834. Current best value is 0.2260334059468309 with parameters: {'min_child_samples': 5}.\n",
      "\n",
      "tune_min_child_samples, val_score: 0.225926:  60%|######    | 3/5 [00:01<00:00,  2.33it/s]"
     ]
    },
    {
     "name": "stdout",
     "output_type": "stream",
     "text": [
      "Training until validation scores don't improve for 100 rounds\n",
      "[200]\tvalid_0's binary_logloss: 0.226385\n",
      "Early stopping, best iteration is:\n",
      "[152]\tvalid_0's binary_logloss: 0.226163\n"
     ]
    },
    {
     "name": "stderr",
     "output_type": "stream",
     "text": [
      "\n",
      "tune_min_child_samples, val_score: 0.225926:  60%|######    | 3/5 [00:01<00:00,  2.33it/s]\n",
      "tune_min_child_samples, val_score: 0.225926:  80%|########  | 4/5 [00:01<00:00,  2.23it/s][I 2020-08-11 12:32:52,340] Finished trial#3 resulted in value: 0.22616271655988393. Current best value is 0.2260334059468309 with parameters: {'min_child_samples': 5}.\n",
      "\n",
      "tune_min_child_samples, val_score: 0.225926:  80%|########  | 4/5 [00:01<00:00,  2.23it/s]"
     ]
    },
    {
     "name": "stdout",
     "output_type": "stream",
     "text": [
      "Training until validation scores don't improve for 100 rounds\n",
      "[200]\tvalid_0's binary_logloss: 0.226813\n",
      "Early stopping, best iteration is:\n",
      "[151]\tvalid_0's binary_logloss: 0.226515\n"
     ]
    },
    {
     "name": "stderr",
     "output_type": "stream",
     "text": [
      "\n",
      "tune_min_child_samples, val_score: 0.225926:  80%|########  | 4/5 [00:02<00:00,  2.23it/s]\n",
      "tune_min_child_samples, val_score: 0.225926: 100%|##########| 5/5 [00:02<00:00,  2.19it/s][I 2020-08-11 12:32:52,805] Finished trial#4 resulted in value: 0.22651500492029092. Current best value is 0.2260334059468309 with parameters: {'min_child_samples': 5}.\n",
      "tune_min_child_samples, val_score: 0.225926: 100%|##########| 5/5 [00:02<00:00,  2.11it/s]\n"
     ]
    }
   ],
   "source": [
    "lgb_op_model = lgb_op.train(params_lgb_op,\n",
    "                     lgb_train,\n",
    "                     valid_sets=lgb_eval,\n",
    "                     early_stopping_rounds=100,\n",
    "                     verbose_eval=200)"
   ]
  },
  {
   "cell_type": "code",
   "execution_count": 71,
   "metadata": {},
   "outputs": [
    {
     "name": "stdout",
     "output_type": "stream",
     "text": [
      "  Params: \n",
      "    objective: binary\n",
      "    metric: binary_logloss\n",
      "    seed: 18\n",
      "    n_jobs: 2\n",
      "    learning_rate: 0.05\n",
      "    lambda_l1: 5.0338005309371665\n",
      "    lambda_l2: 2.9139814271924417e-05\n",
      "    num_leaves: 22\n",
      "    feature_fraction: 0.48000000000000004\n",
      "    bagging_fraction: 1.0\n",
      "    bagging_freq: 0\n",
      "    min_child_samples: 20\n",
      "r2_train:0.8322\n",
      "r2_test:0.7855\n"
     ]
    }
   ],
   "source": [
    "y_trainval_pred = lgb_op_model.predict(x_train, num_iteration=lgb_op_model.best_iteration)\n",
    "y_test_pred = lgb_op_model.predict(x_test, num_iteration=lgb_op_model.best_iteration)\n",
    "\n",
    "# ベストパラメータの取得\n",
    "best_params = lgb_op_model.params\n",
    "print(\"  Params: \")\n",
    "for key, value in best_params.items():\n",
    "    print(\"    {}: {}\".format(key, value))\n",
    "\n",
    "# 評価スコアの計算\n",
    "r2_trainval = roc_auc_score(y_train, y_trainval_pred)\n",
    "r2_test = roc_auc_score(y_test, y_test_pred)\n",
    "\n",
    "print(\"r2_train:{0:.4}\".format(r2_trainval))\n",
    "print(\"r2_test:{0:.4}\".format(r2_test))"
   ]
  },
  {
   "cell_type": "raw",
   "metadata": {},
   "source": []
  },
  {
   "cell_type": "code",
   "execution_count": null,
   "metadata": {},
   "outputs": [],
   "source": []
  },
  {
   "cell_type": "code",
   "execution_count": null,
   "metadata": {},
   "outputs": [],
   "source": []
  },
  {
   "cell_type": "code",
   "execution_count": 22,
   "metadata": {
    "collapsed": true,
    "jupyter": {
     "outputs_hidden": true
    }
   },
   "outputs": [
    {
     "name": "stderr",
     "output_type": "stream",
     "text": [
      "[I 2020-08-11 09:17:10,755] Finished trial#1 resulted in value: 0.7600196152172792. Current best value is 0.7600196152172792 with parameters: {'max_depth': 5, 'min_child_weight': 1, 'subsample': 0.8521537596288304, 'colsample_bytree': 0.6926319281339657, 'min_data_in_leaf': 26, 'feature fraction': 0.8335737873239604}.\n",
      "[I 2020-08-11 09:17:11,935] Finished trial#3 resulted in value: 0.7215389169986004. Current best value is 0.7600196152172792 with parameters: {'max_depth': 5, 'min_child_weight': 1, 'subsample': 0.8521537596288304, 'colsample_bytree': 0.6926319281339657, 'min_data_in_leaf': 26, 'feature fraction': 0.8335737873239604}.\n",
      "[I 2020-08-11 09:17:12,234] Finished trial#2 resulted in value: 0.7271488469601677. Current best value is 0.7600196152172792 with parameters: {'max_depth': 5, 'min_child_weight': 1, 'subsample': 0.8521537596288304, 'colsample_bytree': 0.6926319281339657, 'min_data_in_leaf': 26, 'feature fraction': 0.8335737873239604}.\n",
      "[I 2020-08-11 09:17:13,090] Finished trial#0 resulted in value: 0.718603757375715. Current best value is 0.7600196152172792 with parameters: {'max_depth': 5, 'min_child_weight': 1, 'subsample': 0.8521537596288304, 'colsample_bytree': 0.6926319281339657, 'min_data_in_leaf': 26, 'feature fraction': 0.8335737873239604}.\n",
      "[I 2020-08-11 09:17:14,376] Finished trial#4 resulted in value: 0.7390341766893296. Current best value is 0.7600196152172792 with parameters: {'max_depth': 5, 'min_child_weight': 1, 'subsample': 0.8521537596288304, 'colsample_bytree': 0.6926319281339657, 'min_data_in_leaf': 26, 'feature fraction': 0.8335737873239604}.\n",
      "[I 2020-08-11 09:17:15,568] Finished trial#7 resulted in value: 0.7966892659935445. Current best value is 0.7966892659935445 with parameters: {'max_depth': 4, 'min_child_weight': 5, 'subsample': 0.3907875091545316, 'colsample_bytree': 0.9333803737151166, 'min_data_in_leaf': 24, 'feature fraction': 0.9237700122059708}.\n",
      "[I 2020-08-11 09:17:16,143] Finished trial#5 resulted in value: 0.7307809843089081. Current best value is 0.7966892659935445 with parameters: {'max_depth': 4, 'min_child_weight': 5, 'subsample': 0.3907875091545316, 'colsample_bytree': 0.9333803737151166, 'min_data_in_leaf': 24, 'feature fraction': 0.9237700122059708}.\n",
      "[I 2020-08-11 09:17:16,546] Finished trial#6 resulted in value: 0.7460142151736633. Current best value is 0.7966892659935445 with parameters: {'max_depth': 4, 'min_child_weight': 5, 'subsample': 0.3907875091545316, 'colsample_bytree': 0.9333803737151166, 'min_data_in_leaf': 24, 'feature fraction': 0.9237700122059708}.\n",
      "[I 2020-08-11 09:17:17,845] Finished trial#8 resulted in value: 0.7671764762401514. Current best value is 0.7966892659935445 with parameters: {'max_depth': 4, 'min_child_weight': 5, 'subsample': 0.3907875091545316, 'colsample_bytree': 0.9333803737151166, 'min_data_in_leaf': 24, 'feature fraction': 0.9237700122059708}.\n",
      "[I 2020-08-11 09:17:19,954] Finished trial#9 resulted in value: 0.7354847914169947. Current best value is 0.7966892659935445 with parameters: {'max_depth': 4, 'min_child_weight': 5, 'subsample': 0.3907875091545316, 'colsample_bytree': 0.9333803737151166, 'min_data_in_leaf': 24, 'feature fraction': 0.9237700122059708}.\n",
      "[I 2020-08-11 09:17:21,196] Finished trial#10 resulted in value: 0.725601687275696. Current best value is 0.7966892659935445 with parameters: {'max_depth': 4, 'min_child_weight': 5, 'subsample': 0.3907875091545316, 'colsample_bytree': 0.9333803737151166, 'min_data_in_leaf': 24, 'feature fraction': 0.9237700122059708}.\n",
      "[I 2020-08-11 09:17:21,197] Finished trial#11 resulted in value: 0.724388958099984. Current best value is 0.7966892659935445 with parameters: {'max_depth': 4, 'min_child_weight': 5, 'subsample': 0.3907875091545316, 'colsample_bytree': 0.9333803737151166, 'min_data_in_leaf': 24, 'feature fraction': 0.9237700122059708}.\n",
      "[I 2020-08-11 09:17:22,219] Finished trial#13 resulted in value: 0.8309067238059075. Current best value is 0.8309067238059075 with parameters: {'max_depth': 3, 'min_child_weight': 5, 'subsample': 0.6982200138956735, 'colsample_bytree': 0.7965252511102283, 'min_data_in_leaf': 21, 'feature fraction': 0.8565573297109748}.\n",
      "[I 2020-08-11 09:17:22,499] Finished trial#12 resulted in value: 0.7292986360782971. Current best value is 0.8309067238059075 with parameters: {'max_depth': 3, 'min_child_weight': 5, 'subsample': 0.6982200138956735, 'colsample_bytree': 0.7965252511102283, 'min_data_in_leaf': 21, 'feature fraction': 0.8565573297109748}.\n",
      "[I 2020-08-11 09:17:23,094] Finished trial#14 resulted in value: 0.8203192248493634. Current best value is 0.8309067238059075 with parameters: {'max_depth': 3, 'min_child_weight': 5, 'subsample': 0.6982200138956735, 'colsample_bytree': 0.7965252511102283, 'min_data_in_leaf': 21, 'feature fraction': 0.8565573297109748}.\n",
      "[I 2020-08-11 09:17:23,799] Finished trial#15 resulted in value: 0.8203192248493634. Current best value is 0.8309067238059075 with parameters: {'max_depth': 3, 'min_child_weight': 5, 'subsample': 0.6982200138956735, 'colsample_bytree': 0.7965252511102283, 'min_data_in_leaf': 21, 'feature fraction': 0.8565573297109748}.\n",
      "[I 2020-08-11 09:17:24,650] Finished trial#17 resulted in value: 0.8271222339022912. Current best value is 0.8309067238059075 with parameters: {'max_depth': 3, 'min_child_weight': 5, 'subsample': 0.6982200138956735, 'colsample_bytree': 0.7965252511102283, 'min_data_in_leaf': 21, 'feature fraction': 0.8565573297109748}.\n",
      "[I 2020-08-11 09:17:24,709] Finished trial#16 resulted in value: 0.8271222339022912. Current best value is 0.8309067238059075 with parameters: {'max_depth': 3, 'min_child_weight': 5, 'subsample': 0.6982200138956735, 'colsample_bytree': 0.7965252511102283, 'min_data_in_leaf': 21, 'feature fraction': 0.8565573297109748}.\n",
      "[I 2020-08-11 09:17:25,096] Finished trial#18 resulted in value: 0.8228774720473635. Current best value is 0.8309067238059075 with parameters: {'max_depth': 3, 'min_child_weight': 5, 'subsample': 0.6982200138956735, 'colsample_bytree': 0.7965252511102283, 'min_data_in_leaf': 21, 'feature fraction': 0.8565573297109748}.\n",
      "[I 2020-08-11 09:17:26,081] Finished trial#19 resulted in value: 0.8186133771945928. Current best value is 0.8309067238059075 with parameters: {'max_depth': 3, 'min_child_weight': 5, 'subsample': 0.6982200138956735, 'colsample_bytree': 0.7965252511102283, 'min_data_in_leaf': 21, 'feature fraction': 0.8565573297109748}.\n",
      "[I 2020-08-11 09:17:26,906] Finished trial#20 resulted in value: 0.8140824339594831. Current best value is 0.8309067238059075 with parameters: {'max_depth': 3, 'min_child_weight': 5, 'subsample': 0.6982200138956735, 'colsample_bytree': 0.7965252511102283, 'min_data_in_leaf': 21, 'feature fraction': 0.8565573297109748}.\n",
      "[I 2020-08-11 09:17:27,416] Finished trial#21 resulted in value: 0.7920529224877051. Current best value is 0.8309067238059075 with parameters: {'max_depth': 3, 'min_child_weight': 5, 'subsample': 0.6982200138956735, 'colsample_bytree': 0.7965252511102283, 'min_data_in_leaf': 21, 'feature fraction': 0.8565573297109748}.\n",
      "[I 2020-08-11 09:17:27,823] Finished trial#22 resulted in value: 0.7756828905329827. Current best value is 0.8309067238059075 with parameters: {'max_depth': 3, 'min_child_weight': 5, 'subsample': 0.6982200138956735, 'colsample_bytree': 0.7965252511102283, 'min_data_in_leaf': 21, 'feature fraction': 0.8565573297109748}.\n",
      "[I 2020-08-11 09:17:29,176] Finished trial#23 resulted in value: 0.7851021218004544. Current best value is 0.8309067238059075 with parameters: {'max_depth': 3, 'min_child_weight': 5, 'subsample': 0.6982200138956735, 'colsample_bytree': 0.7965252511102283, 'min_data_in_leaf': 21, 'feature fraction': 0.8565573297109748}.\n",
      "[I 2020-08-11 09:17:29,844] Finished trial#24 resulted in value: 0.7907251874587344. Current best value is 0.8309067238059075 with parameters: {'max_depth': 3, 'min_child_weight': 5, 'subsample': 0.6982200138956735, 'colsample_bytree': 0.7965252511102283, 'min_data_in_leaf': 21, 'feature fraction': 0.8565573297109748}.\n",
      "[I 2020-08-11 09:17:30,160] Finished trial#25 resulted in value: 0.8005111879360777. Current best value is 0.8309067238059075 with parameters: {'max_depth': 3, 'min_child_weight': 5, 'subsample': 0.6982200138956735, 'colsample_bytree': 0.7965252511102283, 'min_data_in_leaf': 21, 'feature fraction': 0.8565573297109748}.\n",
      "[I 2020-08-11 09:17:30,754] Finished trial#26 resulted in value: 0.7907251874587344. Current best value is 0.8309067238059075 with parameters: {'max_depth': 3, 'min_child_weight': 5, 'subsample': 0.6982200138956735, 'colsample_bytree': 0.7965252511102283, 'min_data_in_leaf': 21, 'feature fraction': 0.8565573297109748}.\n",
      "[I 2020-08-11 09:17:33,335] Finished trial#27 resulted in value: 0.7614149265979757. Current best value is 0.8309067238059075 with parameters: {'max_depth': 3, 'min_child_weight': 5, 'subsample': 0.6982200138956735, 'colsample_bytree': 0.7965252511102283, 'min_data_in_leaf': 21, 'feature fraction': 0.8565573297109748}.\n",
      "[I 2020-08-11 09:17:34,397] Finished trial#28 resulted in value: 0.7614149265979757. Current best value is 0.8309067238059075 with parameters: {'max_depth': 3, 'min_child_weight': 5, 'subsample': 0.6982200138956735, 'colsample_bytree': 0.7965252511102283, 'min_data_in_leaf': 21, 'feature fraction': 0.8565573297109748}.\n",
      "[I 2020-08-11 09:17:34,736] Finished trial#30 resulted in value: 0.7379431428174658. Current best value is 0.8309067238059075 with parameters: {'max_depth': 3, 'min_child_weight': 5, 'subsample': 0.6982200138956735, 'colsample_bytree': 0.7965252511102283, 'min_data_in_leaf': 21, 'feature fraction': 0.8565573297109748}.\n",
      "[I 2020-08-11 09:17:35,458] Finished trial#29 resulted in value: 0.7614149265979757. Current best value is 0.8309067238059075 with parameters: {'max_depth': 3, 'min_child_weight': 5, 'subsample': 0.6982200138956735, 'colsample_bytree': 0.7965252511102283, 'min_data_in_leaf': 21, 'feature fraction': 0.8565573297109748}.\n",
      "[I 2020-08-11 09:17:37,374] Finished trial#34 resulted in value: 0.8253550499489728. Current best value is 0.8309067238059075 with parameters: {'max_depth': 3, 'min_child_weight': 5, 'subsample': 0.6982200138956735, 'colsample_bytree': 0.7965252511102283, 'min_data_in_leaf': 21, 'feature fraction': 0.8565573297109748}.\n",
      "[I 2020-08-11 09:17:37,623] Finished trial#31 resulted in value: 0.7358658434975904. Current best value is 0.8309067238059075 with parameters: {'max_depth': 3, 'min_child_weight': 5, 'subsample': 0.6982200138956735, 'colsample_bytree': 0.7965252511102283, 'min_data_in_leaf': 21, 'feature fraction': 0.8565573297109748}.\n",
      "[I 2020-08-11 09:17:38,112] Finished trial#33 resulted in value: 0.7450630322472838. Current best value is 0.8309067238059075 with parameters: {'max_depth': 3, 'min_child_weight': 5, 'subsample': 0.6982200138956735, 'colsample_bytree': 0.7965252511102283, 'min_data_in_leaf': 21, 'feature fraction': 0.8565573297109748}.\n",
      "[I 2020-08-11 09:17:38,346] Finished trial#32 resulted in value: 0.7720153118444143. Current best value is 0.8309067238059075 with parameters: {'max_depth': 3, 'min_child_weight': 5, 'subsample': 0.6982200138956735, 'colsample_bytree': 0.7965252511102283, 'min_data_in_leaf': 21, 'feature fraction': 0.8565573297109748}.\n",
      "[I 2020-08-11 09:17:39,901] Finished trial#35 resulted in value: 0.8253550499489728. Current best value is 0.8309067238059075 with parameters: {'max_depth': 3, 'min_child_weight': 5, 'subsample': 0.6982200138956735, 'colsample_bytree': 0.7965252511102283, 'min_data_in_leaf': 21, 'feature fraction': 0.8565573297109748}.\n",
      "[I 2020-08-11 09:17:40,081] Finished trial#36 resulted in value: 0.8156679151061174. Current best value is 0.8309067238059075 with parameters: {'max_depth': 3, 'min_child_weight': 5, 'subsample': 0.6982200138956735, 'colsample_bytree': 0.7965252511102283, 'min_data_in_leaf': 21, 'feature fraction': 0.8565573297109748}.\n",
      "[I 2020-08-11 09:17:40,385] Finished trial#37 resulted in value: 0.8253550499489728. Current best value is 0.8309067238059075 with parameters: {'max_depth': 3, 'min_child_weight': 5, 'subsample': 0.6982200138956735, 'colsample_bytree': 0.7965252511102283, 'min_data_in_leaf': 21, 'feature fraction': 0.8565573297109748}.\n",
      "[I 2020-08-11 09:17:40,718] Finished trial#38 resulted in value: 0.8253550499489728. Current best value is 0.8309067238059075 with parameters: {'max_depth': 3, 'min_child_weight': 5, 'subsample': 0.6982200138956735, 'colsample_bytree': 0.7965252511102283, 'min_data_in_leaf': 21, 'feature fraction': 0.8565573297109748}.\n",
      "[I 2020-08-11 09:17:42,203] Finished trial#39 resulted in value: 0.8253550499489728. Current best value is 0.8309067238059075 with parameters: {'max_depth': 3, 'min_child_weight': 5, 'subsample': 0.6982200138956735, 'colsample_bytree': 0.7965252511102283, 'min_data_in_leaf': 21, 'feature fraction': 0.8565573297109748}.\n",
      "[I 2020-08-11 09:17:42,294] Finished trial#40 resulted in value: 0.8241260923845193. Current best value is 0.8309067238059075 with parameters: {'max_depth': 3, 'min_child_weight': 5, 'subsample': 0.6982200138956735, 'colsample_bytree': 0.7965252511102283, 'min_data_in_leaf': 21, 'feature fraction': 0.8565573297109748}.\n",
      "[I 2020-08-11 09:17:42,941] Finished trial#41 resulted in value: 0.8081550318211435. Current best value is 0.8309067238059075 with parameters: {'max_depth': 3, 'min_child_weight': 5, 'subsample': 0.6982200138956735, 'colsample_bytree': 0.7965252511102283, 'min_data_in_leaf': 21, 'feature fraction': 0.8565573297109748}.\n",
      "[I 2020-08-11 09:17:43,836] Finished trial#42 resulted in value: 0.798149567002514. Current best value is 0.8309067238059075 with parameters: {'max_depth': 3, 'min_child_weight': 5, 'subsample': 0.6982200138956735, 'colsample_bytree': 0.7965252511102283, 'min_data_in_leaf': 21, 'feature fraction': 0.8565573297109748}.\n",
      "[I 2020-08-11 09:17:45,068] Finished trial#44 resulted in value: 0.7864340524871816. Current best value is 0.8309067238059075 with parameters: {'max_depth': 3, 'min_child_weight': 5, 'subsample': 0.6982200138956735, 'colsample_bytree': 0.7965252511102283, 'min_data_in_leaf': 21, 'feature fraction': 0.8565573297109748}.\n",
      "[I 2020-08-11 09:17:45,977] Finished trial#45 resulted in value: 0.7944373772306242. Current best value is 0.8309067238059075 with parameters: {'max_depth': 3, 'min_child_weight': 5, 'subsample': 0.6982200138956735, 'colsample_bytree': 0.7965252511102283, 'min_data_in_leaf': 21, 'feature fraction': 0.8565573297109748}.\n",
      "[I 2020-08-11 09:17:46,050] Finished trial#43 resulted in value: 0.795928177840275. Current best value is 0.8309067238059075 with parameters: {'max_depth': 3, 'min_child_weight': 5, 'subsample': 0.6982200138956735, 'colsample_bytree': 0.7965252511102283, 'min_data_in_leaf': 21, 'feature fraction': 0.8565573297109748}.\n",
      "[I 2020-08-11 09:17:47,674] Finished trial#46 resulted in value: 0.7592753434120656. Current best value is 0.8309067238059075 with parameters: {'max_depth': 3, 'min_child_weight': 5, 'subsample': 0.6982200138956735, 'colsample_bytree': 0.7965252511102283, 'min_data_in_leaf': 21, 'feature fraction': 0.8565573297109748}.\n",
      "[I 2020-08-11 09:17:48,508] Finished trial#47 resulted in value: 0.7571759145903693. Current best value is 0.8309067238059075 with parameters: {'max_depth': 3, 'min_child_weight': 5, 'subsample': 0.6982200138956735, 'colsample_bytree': 0.7965252511102283, 'min_data_in_leaf': 21, 'feature fraction': 0.8565573297109748}.\n",
      "[I 2020-08-11 09:17:49,150] Finished trial#48 resulted in value: 0.7668270910211056. Current best value is 0.8309067238059075 with parameters: {'max_depth': 3, 'min_child_weight': 5, 'subsample': 0.6982200138956735, 'colsample_bytree': 0.7965252511102283, 'min_data_in_leaf': 21, 'feature fraction': 0.8565573297109748}.\n",
      "[I 2020-08-11 09:17:51,051] Finished trial#49 resulted in value: 0.7258118138981773. Current best value is 0.8309067238059075 with parameters: {'max_depth': 3, 'min_child_weight': 5, 'subsample': 0.6982200138956735, 'colsample_bytree': 0.7965252511102283, 'min_data_in_leaf': 21, 'feature fraction': 0.8565573297109748}.\n",
      "[I 2020-08-11 09:17:53,349] Finished trial#50 resulted in value: 0.7301964991885158. Current best value is 0.8309067238059075 with parameters: {'max_depth': 3, 'min_child_weight': 5, 'subsample': 0.6982200138956735, 'colsample_bytree': 0.7965252511102283, 'min_data_in_leaf': 21, 'feature fraction': 0.8565573297109748}.\n",
      "[I 2020-08-11 09:17:53,441] Finished trial#51 resulted in value: 0.7258118138981773. Current best value is 0.8309067238059075 with parameters: {'max_depth': 3, 'min_child_weight': 5, 'subsample': 0.6982200138956735, 'colsample_bytree': 0.7965252511102283, 'min_data_in_leaf': 21, 'feature fraction': 0.8565573297109748}.\n",
      "[I 2020-08-11 09:17:53,524] Finished trial#53 resulted in value: 0.8241260923845193. Current best value is 0.8309067238059075 with parameters: {'max_depth': 3, 'min_child_weight': 5, 'subsample': 0.6982200138956735, 'colsample_bytree': 0.7965252511102283, 'min_data_in_leaf': 21, 'feature fraction': 0.8565573297109748}.\n",
      "[I 2020-08-11 09:17:54,901] Finished trial#52 resulted in value: 0.7160579345088162. Current best value is 0.8309067238059075 with parameters: {'max_depth': 3, 'min_child_weight': 5, 'subsample': 0.6982200138956735, 'colsample_bytree': 0.7965252511102283, 'min_data_in_leaf': 21, 'feature fraction': 0.8565573297109748}.\n",
      "[I 2020-08-11 09:17:55,960] Finished trial#56 resulted in value: 0.8253550499489728. Current best value is 0.8309067238059075 with parameters: {'max_depth': 3, 'min_child_weight': 5, 'subsample': 0.6982200138956735, 'colsample_bytree': 0.7965252511102283, 'min_data_in_leaf': 21, 'feature fraction': 0.8565573297109748}.\n",
      "[I 2020-08-11 09:17:56,026] Finished trial#54 resulted in value: 0.8253550499489728. Current best value is 0.8309067238059075 with parameters: {'max_depth': 3, 'min_child_weight': 5, 'subsample': 0.6982200138956735, 'colsample_bytree': 0.7965252511102283, 'min_data_in_leaf': 21, 'feature fraction': 0.8565573297109748}.\n",
      "[I 2020-08-11 09:17:56,117] Finished trial#55 resulted in value: 0.8186133771945928. Current best value is 0.8309067238059075 with parameters: {'max_depth': 3, 'min_child_weight': 5, 'subsample': 0.6982200138956735, 'colsample_bytree': 0.7965252511102283, 'min_data_in_leaf': 21, 'feature fraction': 0.8565573297109748}.\n",
      "[I 2020-08-11 09:17:57,399] Finished trial#57 resulted in value: 0.8253550499489728. Current best value is 0.8309067238059075 with parameters: {'max_depth': 3, 'min_child_weight': 5, 'subsample': 0.6982200138956735, 'colsample_bytree': 0.7965252511102283, 'min_data_in_leaf': 21, 'feature fraction': 0.8565573297109748}.\n",
      "[I 2020-08-11 09:17:58,007] Finished trial#58 resulted in value: 0.8228774720473635. Current best value is 0.8309067238059075 with parameters: {'max_depth': 3, 'min_child_weight': 5, 'subsample': 0.6982200138956735, 'colsample_bytree': 0.7965252511102283, 'min_data_in_leaf': 21, 'feature fraction': 0.8565573297109748}.\n",
      "[I 2020-08-11 09:17:58,569] Finished trial#59 resulted in value: 0.8265648286140089. Current best value is 0.8309067238059075 with parameters: {'max_depth': 3, 'min_child_weight': 5, 'subsample': 0.6982200138956735, 'colsample_bytree': 0.7965252511102283, 'min_data_in_leaf': 21, 'feature fraction': 0.8565573297109748}.\n",
      "[I 2020-08-11 09:17:59,150] Finished trial#60 resulted in value: 0.8055739465462937. Current best value is 0.8309067238059075 with parameters: {'max_depth': 3, 'min_child_weight': 5, 'subsample': 0.6982200138956735, 'colsample_bytree': 0.7965252511102283, 'min_data_in_leaf': 21, 'feature fraction': 0.8565573297109748}.\n",
      "[I 2020-08-11 09:18:00,025] Finished trial#61 resulted in value: 0.8043455161007537. Current best value is 0.8309067238059075 with parameters: {'max_depth': 3, 'min_child_weight': 5, 'subsample': 0.6982200138956735, 'colsample_bytree': 0.7965252511102283, 'min_data_in_leaf': 21, 'feature fraction': 0.8565573297109748}.\n",
      "[I 2020-08-11 09:18:00,834] Finished trial#62 resulted in value: 0.7907251874587344. Current best value is 0.8309067238059075 with parameters: {'max_depth': 3, 'min_child_weight': 5, 'subsample': 0.6982200138956735, 'colsample_bytree': 0.7965252511102283, 'min_data_in_leaf': 21, 'feature fraction': 0.8565573297109748}.\n",
      "[I 2020-08-11 09:18:01,441] Finished trial#63 resulted in value: 0.7955458272531444. Current best value is 0.8309067238059075 with parameters: {'max_depth': 3, 'min_child_weight': 5, 'subsample': 0.6982200138956735, 'colsample_bytree': 0.7965252511102283, 'min_data_in_leaf': 21, 'feature fraction': 0.8565573297109748}.\n",
      "[I 2020-08-11 09:18:02,307] Finished trial#64 resulted in value: 0.7880133416718782. Current best value is 0.8309067238059075 with parameters: {'max_depth': 3, 'min_child_weight': 5, 'subsample': 0.6982200138956735, 'colsample_bytree': 0.7965252511102283, 'min_data_in_leaf': 21, 'feature fraction': 0.8565573297109748}.\n",
      "[I 2020-08-11 09:18:02,520] Finished trial#65 resulted in value: 0.7870129976868446. Current best value is 0.8309067238059075 with parameters: {'max_depth': 3, 'min_child_weight': 5, 'subsample': 0.6982200138956735, 'colsample_bytree': 0.7965252511102283, 'min_data_in_leaf': 21, 'feature fraction': 0.8565573297109748}.\n",
      "[I 2020-08-11 09:18:03,283] Finished trial#66 resulted in value: 0.8228774720473635. Current best value is 0.8309067238059075 with parameters: {'max_depth': 3, 'min_child_weight': 5, 'subsample': 0.6982200138956735, 'colsample_bytree': 0.7965252511102283, 'min_data_in_leaf': 21, 'feature fraction': 0.8565573297109748}.\n",
      "[I 2020-08-11 09:18:04,124] Finished trial#67 resulted in value: 0.8228774720473635. Current best value is 0.8309067238059075 with parameters: {'max_depth': 3, 'min_child_weight': 5, 'subsample': 0.6982200138956735, 'colsample_bytree': 0.7965252511102283, 'min_data_in_leaf': 21, 'feature fraction': 0.8565573297109748}.\n",
      "[I 2020-08-11 09:18:04,505] Finished trial#68 resulted in value: 0.8248339954711387. Current best value is 0.8309067238059075 with parameters: {'max_depth': 3, 'min_child_weight': 5, 'subsample': 0.6982200138956735, 'colsample_bytree': 0.7965252511102283, 'min_data_in_leaf': 21, 'feature fraction': 0.8565573297109748}.\n",
      "[I 2020-08-11 09:18:04,734] Finished trial#69 resulted in value: 0.80169606035991. Current best value is 0.8309067238059075 with parameters: {'max_depth': 3, 'min_child_weight': 5, 'subsample': 0.6982200138956735, 'colsample_bytree': 0.7965252511102283, 'min_data_in_leaf': 21, 'feature fraction': 0.8565573297109748}.\n",
      "[I 2020-08-11 09:18:05,789] Finished trial#70 resulted in value: 0.8353169329246792. Current best value is 0.8353169329246792 with parameters: {'max_depth': 3, 'min_child_weight': 4, 'subsample': 0.5818824445730341, 'colsample_bytree': 0.7928832910093047, 'min_data_in_leaf': 35, 'feature fraction': 0.8268330547159679}.\n",
      "[I 2020-08-11 09:18:06,726] Finished trial#71 resulted in value: 0.8203192248493634. Current best value is 0.8353169329246792 with parameters: {'max_depth': 3, 'min_child_weight': 4, 'subsample': 0.5818824445730341, 'colsample_bytree': 0.7928832910093047, 'min_data_in_leaf': 35, 'feature fraction': 0.8268330547159679}.\n",
      "[I 2020-08-11 09:18:06,842] Finished trial#72 resulted in value: 0.8264965146871356. Current best value is 0.8353169329246792 with parameters: {'max_depth': 3, 'min_child_weight': 4, 'subsample': 0.5818824445730341, 'colsample_bytree': 0.7928832910093047, 'min_data_in_leaf': 35, 'feature fraction': 0.8268330547159679}.\n",
      "[I 2020-08-11 09:18:08,026] Finished trial#74 resulted in value: 0.8228774720473635. Current best value is 0.8353169329246792 with parameters: {'max_depth': 3, 'min_child_weight': 4, 'subsample': 0.5818824445730341, 'colsample_bytree': 0.7928832910093047, 'min_data_in_leaf': 35, 'feature fraction': 0.8268330547159679}.\n",
      "[I 2020-08-11 09:18:08,917] Finished trial#75 resulted in value: 0.8302080777139376. Current best value is 0.8353169329246792 with parameters: {'max_depth': 3, 'min_child_weight': 4, 'subsample': 0.5818824445730341, 'colsample_bytree': 0.7928832910093047, 'min_data_in_leaf': 35, 'feature fraction': 0.8268330547159679}.\n",
      "[I 2020-08-11 09:18:08,984] Finished trial#76 resulted in value: 0.81696572760603. Current best value is 0.8353169329246792 with parameters: {'max_depth': 3, 'min_child_weight': 4, 'subsample': 0.5818824445730341, 'colsample_bytree': 0.7928832910093047, 'min_data_in_leaf': 35, 'feature fraction': 0.8268330547159679}.\n",
      "[I 2020-08-11 09:18:09,649] Finished trial#73 resulted in value: 0.7201347486791722. Current best value is 0.8353169329246792 with parameters: {'max_depth': 3, 'min_child_weight': 4, 'subsample': 0.5818824445730341, 'colsample_bytree': 0.7928832910093047, 'min_data_in_leaf': 35, 'feature fraction': 0.8268330547159679}.\n",
      "[I 2020-08-11 09:18:11,358] Finished trial#77 resulted in value: 0.7968568338018219. Current best value is 0.8353169329246792 with parameters: {'max_depth': 3, 'min_child_weight': 4, 'subsample': 0.5818824445730341, 'colsample_bytree': 0.7928832910093047, 'min_data_in_leaf': 35, 'feature fraction': 0.8268330547159679}.\n",
      "[I 2020-08-11 09:18:11,477] Finished trial#78 resulted in value: 0.7873860182370821. Current best value is 0.8353169329246792 with parameters: {'max_depth': 3, 'min_child_weight': 4, 'subsample': 0.5818824445730341, 'colsample_bytree': 0.7928832910093047, 'min_data_in_leaf': 35, 'feature fraction': 0.8268330547159679}.\n",
      "[I 2020-08-11 09:18:12,156] Finished trial#79 resulted in value: 0.7900177731385811. Current best value is 0.8353169329246792 with parameters: {'max_depth': 3, 'min_child_weight': 4, 'subsample': 0.5818824445730341, 'colsample_bytree': 0.7928832910093047, 'min_data_in_leaf': 35, 'feature fraction': 0.8268330547159679}.\n",
      "[I 2020-08-11 09:18:12,219] Finished trial#80 resulted in value: 0.8005958513002398. Current best value is 0.8353169329246792 with parameters: {'max_depth': 3, 'min_child_weight': 4, 'subsample': 0.5818824445730341, 'colsample_bytree': 0.7928832910093047, 'min_data_in_leaf': 35, 'feature fraction': 0.8268330547159679}.\n",
      "[I 2020-08-11 09:18:13,902] Finished trial#82 resulted in value: 0.8203192248493634. Current best value is 0.8353169329246792 with parameters: {'max_depth': 3, 'min_child_weight': 4, 'subsample': 0.5818824445730341, 'colsample_bytree': 0.7928832910093047, 'min_data_in_leaf': 35, 'feature fraction': 0.8268330547159679}.\n",
      "[I 2020-08-11 09:18:14,169] Finished trial#81 resulted in value: 0.7819007638081502. Current best value is 0.8353169329246792 with parameters: {'max_depth': 3, 'min_child_weight': 4, 'subsample': 0.5818824445730341, 'colsample_bytree': 0.7928832910093047, 'min_data_in_leaf': 35, 'feature fraction': 0.8268330547159679}.\n",
      "[I 2020-08-11 09:18:14,241] Finished trial#84 resulted in value: 0.8302080777139376. Current best value is 0.8353169329246792 with parameters: {'max_depth': 3, 'min_child_weight': 4, 'subsample': 0.5818824445730341, 'colsample_bytree': 0.7928832910093047, 'min_data_in_leaf': 35, 'feature fraction': 0.8268330547159679}.\n",
      "[I 2020-08-11 09:18:15,105] Finished trial#83 resulted in value: 0.8203192248493634. Current best value is 0.8353169329246792 with parameters: {'max_depth': 3, 'min_child_weight': 4, 'subsample': 0.5818824445730341, 'colsample_bytree': 0.7928832910093047, 'min_data_in_leaf': 35, 'feature fraction': 0.8268330547159679}.\n",
      "[I 2020-08-11 09:18:16,168] Finished trial#85 resulted in value: 0.8186133771945928. Current best value is 0.8353169329246792 with parameters: {'max_depth': 3, 'min_child_weight': 4, 'subsample': 0.5818824445730341, 'colsample_bytree': 0.7928832910093047, 'min_data_in_leaf': 35, 'feature fraction': 0.8268330547159679}.\n",
      "[I 2020-08-11 09:18:16,344] Finished trial#87 resulted in value: 0.8302080777139376. Current best value is 0.8353169329246792 with parameters: {'max_depth': 3, 'min_child_weight': 4, 'subsample': 0.5818824445730341, 'colsample_bytree': 0.7928832910093047, 'min_data_in_leaf': 35, 'feature fraction': 0.8268330547159679}.\n",
      "[I 2020-08-11 09:18:16,915] Finished trial#86 resulted in value: 0.8228774720473635. Current best value is 0.8353169329246792 with parameters: {'max_depth': 3, 'min_child_weight': 4, 'subsample': 0.5818824445730341, 'colsample_bytree': 0.7928832910093047, 'min_data_in_leaf': 35, 'feature fraction': 0.8268330547159679}.\n",
      "[I 2020-08-11 09:18:17,712] Finished trial#88 resulted in value: 0.8353169329246792. Current best value is 0.8353169329246792 with parameters: {'max_depth': 3, 'min_child_weight': 4, 'subsample': 0.5818824445730341, 'colsample_bytree': 0.7928832910093047, 'min_data_in_leaf': 35, 'feature fraction': 0.8268330547159679}.\n",
      "[I 2020-08-11 09:18:18,426] Finished trial#90 resulted in value: 0.8228774720473635. Current best value is 0.8353169329246792 with parameters: {'max_depth': 3, 'min_child_weight': 4, 'subsample': 0.5818824445730341, 'colsample_bytree': 0.7928832910093047, 'min_data_in_leaf': 35, 'feature fraction': 0.8268330547159679}.\n",
      "[I 2020-08-11 09:18:18,820] Finished trial#89 resulted in value: 0.8228774720473635. Current best value is 0.8353169329246792 with parameters: {'max_depth': 3, 'min_child_weight': 4, 'subsample': 0.5818824445730341, 'colsample_bytree': 0.7928832910093047, 'min_data_in_leaf': 35, 'feature fraction': 0.8268330547159679}.\n",
      "[I 2020-08-11 09:18:19,328] Finished trial#91 resulted in value: 0.8228774720473635. Current best value is 0.8353169329246792 with parameters: {'max_depth': 3, 'min_child_weight': 4, 'subsample': 0.5818824445730341, 'colsample_bytree': 0.7928832910093047, 'min_data_in_leaf': 35, 'feature fraction': 0.8268330547159679}.\n",
      "[I 2020-08-11 09:18:20,131] Finished trial#92 resulted in value: 0.8228774720473635. Current best value is 0.8353169329246792 with parameters: {'max_depth': 3, 'min_child_weight': 4, 'subsample': 0.5818824445730341, 'colsample_bytree': 0.7928832910093047, 'min_data_in_leaf': 35, 'feature fraction': 0.8268330547159679}.\n",
      "[I 2020-08-11 09:18:20,919] Finished trial#94 resulted in value: 0.8341146654060301. Current best value is 0.8353169329246792 with parameters: {'max_depth': 3, 'min_child_weight': 4, 'subsample': 0.5818824445730341, 'colsample_bytree': 0.7928832910093047, 'min_data_in_leaf': 35, 'feature fraction': 0.8268330547159679}.\n",
      "[I 2020-08-11 09:18:20,982] Finished trial#93 resulted in value: 0.7837520114428749. Current best value is 0.8353169329246792 with parameters: {'max_depth': 3, 'min_child_weight': 4, 'subsample': 0.5818824445730341, 'colsample_bytree': 0.7928832910093047, 'min_data_in_leaf': 35, 'feature fraction': 0.8268330547159679}.\n",
      "[I 2020-08-11 09:18:21,726] Finished trial#95 resulted in value: 0.8341146654060301. Current best value is 0.8353169329246792 with parameters: {'max_depth': 3, 'min_child_weight': 4, 'subsample': 0.5818824445730341, 'colsample_bytree': 0.7928832910093047, 'min_data_in_leaf': 35, 'feature fraction': 0.8268330547159679}.\n",
      "[I 2020-08-11 09:18:23,073] Finished trial#98 resulted in value: 0.8341146654060301. Current best value is 0.8353169329246792 with parameters: {'max_depth': 3, 'min_child_weight': 4, 'subsample': 0.5818824445730341, 'colsample_bytree': 0.7928832910093047, 'min_data_in_leaf': 35, 'feature fraction': 0.8268330547159679}.\n",
      "[I 2020-08-11 09:18:23,198] Finished trial#97 resulted in value: 0.8341146654060301. Current best value is 0.8353169329246792 with parameters: {'max_depth': 3, 'min_child_weight': 4, 'subsample': 0.5818824445730341, 'colsample_bytree': 0.7928832910093047, 'min_data_in_leaf': 35, 'feature fraction': 0.8268330547159679}.\n",
      "[I 2020-08-11 09:18:23,794] Finished trial#99 resulted in value: 0.8341146654060301. Current best value is 0.8353169329246792 with parameters: {'max_depth': 3, 'min_child_weight': 4, 'subsample': 0.5818824445730341, 'colsample_bytree': 0.7928832910093047, 'min_data_in_leaf': 35, 'feature fraction': 0.8268330547159679}.\n",
      "[I 2020-08-11 09:18:24,758] Finished trial#96 resulted in value: 0.7530887438643462. Current best value is 0.8353169329246792 with parameters: {'max_depth': 3, 'min_child_weight': 4, 'subsample': 0.5818824445730341, 'colsample_bytree': 0.7928832910093047, 'min_data_in_leaf': 35, 'feature fraction': 0.8268330547159679}.\n"
     ]
    },
    {
     "name": "stdout",
     "output_type": "stream",
     "text": [
      "{'max_depth': 3, 'min_child_weight': 4, 'subsample': 0.5818824445730341, 'colsample_bytree': 0.7928832910093047, 'min_data_in_leaf': 35, 'feature fraction': 0.8268330547159679}\n",
      "0.8353169329246792\n",
      "CPU times: user 6min 10s, sys: 56.3 s, total: 7min 7s\n",
      "Wall time: 1min 16s\n"
     ]
    }
   ],
   "source": [
    "%%time\n",
    "\n",
    "study_lgb = optuna.create_study(direction='maximize')\n",
    "study_lgb.optimize(objective_lgb, n_trials=100, n_jobs=4)\n",
    "\n",
    "print(study_lgb.best_params)\n",
    "print(study_lgb.best_value)\n",
    "lgb_best_params = study_lgb.best_params"
   ]
  },
  {
   "cell_type": "code",
   "execution_count": 23,
   "metadata": {},
   "outputs": [
    {
     "data": {
      "text/plain": [
       "LGBMClassifier(colsample_bytree=0.7928832910093047,\n",
       "               feature fraction=0.8268330547159679, max_depth=3,\n",
       "               min_child_weight=4, min_data_in_leaf=35,\n",
       "               subsample=0.5818824445730341)"
      ]
     },
     "execution_count": 23,
     "metadata": {},
     "output_type": "execute_result"
    }
   ],
   "source": [
    "lgb_model = LGBMClassifier(**lgb_best_params)\n",
    "lgb_model.fit(x_train, y_train)"
   ]
  },
  {
   "cell_type": "code",
   "execution_count": 24,
   "metadata": {},
   "outputs": [
    {
     "name": "stdout",
     "output_type": "stream",
     "text": [
      "train score:0.9305218766473379, test_score:0.9290282902829028\n",
      "acc:0.9290282902829028, auc:0.8593235304105681\n"
     ]
    }
   ],
   "source": [
    "train_score_lgb = lgb_model.score(x_train, y_train)\n",
    "test_score_lgb = lgb_model.score(x_test, y_test)\n",
    "\n",
    "lgb_p = lgb_model.predict(x_test)\n",
    "\n",
    "acc_lgb = accuracy_score(lgb_p, y_test)\n",
    "auc_lgb = roc_auc_score(lgb_p, y_test)\n",
    "\n",
    "print('train score:{}, test_score:{}'.format(train_score_lgb, test_score_lgb))\n",
    "print('acc:{}, auc:{}'.format(acc_lgb, auc_lgb))"
   ]
  },
  {
   "cell_type": "code",
   "execution_count": 25,
   "metadata": {},
   "outputs": [
    {
     "data": {
      "text/plain": [
       "<matplotlib.axes._subplots.AxesSubplot at 0x7fec2c4883d0>"
      ]
     },
     "execution_count": 25,
     "metadata": {},
     "output_type": "execute_result"
    },
    {
     "data": {
      "image/png": "[encoded data removed]",
      "text/plain": [
       "<Figure size 576x576 with 1 Axes>"
      ]
     },
     "metadata": {
      "needs_background": "light"
     },
     "output_type": "display_data"
    }
   ],
   "source": [
    "lgb.plot_importance(lgb_model, figsize=(8,8), color='darkviolet')"
   ]
  },
  {
   "cell_type": "code",
   "execution_count": 26,
   "metadata": {},
   "outputs": [],
   "source": [
    "lgb_name = 'models/LGBM_' + now.strftime('%d_%H%M') + '.pkl'\n",
    "pickle.dump(lgb_model, open(lgb_name, 'wb'))"
   ]
  },
  {
   "cell_type": "code",
   "execution_count": 27,
   "metadata": {},
   "outputs": [
    {
     "data": {
      "text/html": [
       "<div>\n",
       "<style scoped>\n",
       "    .dataframe tbody tr th:only-of-type {\n",
       "        vertical-align: middle;\n",
       "    }\n",
       "\n",
       "    .dataframe tbody tr th {\n",
       "        vertical-align: top;\n",
       "    }\n",
       "\n",
       "    .dataframe thead th {\n",
       "        text-align: right;\n",
       "    }\n",
       "</style>\n",
       "<table border=\"1\" class=\"dataframe\">\n",
       "  <thead>\n",
       "    <tr style=\"text-align: right;\">\n",
       "      <th></th>\n",
       "      <th>0</th>\n",
       "      <th>1</th>\n",
       "    </tr>\n",
       "  </thead>\n",
       "  <tbody>\n",
       "    <tr>\n",
       "      <th>0</th>\n",
       "      <td>0.080229</td>\n",
       "      <td>0.919771</td>\n",
       "    </tr>\n",
       "    <tr>\n",
       "      <th>1</th>\n",
       "      <td>0.971200</td>\n",
       "      <td>0.028800</td>\n",
       "    </tr>\n",
       "    <tr>\n",
       "      <th>2</th>\n",
       "      <td>0.945897</td>\n",
       "      <td>0.054103</td>\n",
       "    </tr>\n",
       "    <tr>\n",
       "      <th>3</th>\n",
       "      <td>0.965297</td>\n",
       "      <td>0.034703</td>\n",
       "    </tr>\n",
       "    <tr>\n",
       "      <th>4</th>\n",
       "      <td>0.855384</td>\n",
       "      <td>0.144616</td>\n",
       "    </tr>\n",
       "  </tbody>\n",
       "</table>\n",
       "</div>"
      ],
      "text/plain": [
       "          0         1\n",
       "0  0.080229  0.919771\n",
       "1  0.971200  0.028800\n",
       "2  0.945897  0.054103\n",
       "3  0.965297  0.034703\n",
       "4  0.855384  0.144616"
      ]
     },
     "execution_count": 27,
     "metadata": {},
     "output_type": "execute_result"
    }
   ],
   "source": [
    "pred_lgb = lgb_model.predict_proba(test_df)\n",
    "lgb_p = pd.DataFrame(pred_lgb)\n",
    "lgb_p.head()"
   ]
  },
  {
   "cell_type": "markdown",
   "metadata": {},
   "source": [
    "# CB"
   ]
  },
  {
   "cell_type": "code",
   "execution_count": 28,
   "metadata": {},
   "outputs": [],
   "source": [
    "def objective_cb(trial):\n",
    "    \n",
    "    param_cb = {\n",
    "        'iterations': 1800,\n",
    "        'learning_rate': 0.05,\n",
    "        'depth': trial.suggest_int('depth', 3, 12),\n",
    "        'l2_leaf_reg': trial.suggest_int('l2_leaf_reg', 1, 9),\n",
    "        'od_type': trial.suggest_categorical('od_type', ['IncToDec', 'Iter']),\n",
    "        'od_wait' :trial.suggest_int('od_wait', 10, 50),\n",
    "        'random_seed': 18\n",
    "    }\n",
    "    \n",
    "    cb = CatBoostClassifier(**param_cb)\n",
    "    cb.fit(x_train, y_train, verbose=False)\n",
    "    predictions = cb.predict(x_test)\n",
    "    auc_score = roc_auc_score(predictions, y_test)\n",
    "    \n",
    "    return auc_score"
   ]
  },
  {
   "cell_type": "code",
   "execution_count": 29,
   "metadata": {
    "collapsed": true,
    "jupyter": {
     "outputs_hidden": true
    }
   },
   "outputs": [
    {
     "name": "stderr",
     "output_type": "stream",
     "text": [
      "[I 2020-08-11 09:19:14,788] Finished trial#2 resulted in value: 0.7872722305060705. Current best value is 0.7872722305060705 with parameters: {'depth': 6, 'l2_leaf_reg': 5, 'od_type': 'Iter', 'od_wait': 32}.\n",
      "[I 2020-08-11 09:19:18,721] Finished trial#3 resulted in value: 0.7638651415259867. Current best value is 0.7872722305060705 with parameters: {'depth': 6, 'l2_leaf_reg': 5, 'od_type': 'Iter', 'od_wait': 32}.\n",
      "[I 2020-08-11 09:19:36,803] Finished trial#1 resulted in value: 0.7430920778028216. Current best value is 0.7872722305060705 with parameters: {'depth': 6, 'l2_leaf_reg': 5, 'od_type': 'Iter', 'od_wait': 32}.\n",
      "[I 2020-08-11 09:19:53,870] Finished trial#4 resulted in value: 0.832892161678557. Current best value is 0.832892161678557 with parameters: {'depth': 3, 'l2_leaf_reg': 3, 'od_type': 'Iter', 'od_wait': 30}.\n",
      "[I 2020-08-11 09:20:19,080] Finished trial#6 resulted in value: 0.7949447895100068. Current best value is 0.832892161678557 with parameters: {'depth': 3, 'l2_leaf_reg': 3, 'od_type': 'Iter', 'od_wait': 30}.\n",
      "[I 2020-08-11 09:20:55,789] Finished trial#7 resulted in value: 0.7677445579514364. Current best value is 0.832892161678557 with parameters: {'depth': 3, 'l2_leaf_reg': 3, 'od_type': 'Iter', 'od_wait': 30}.\n",
      "[I 2020-08-11 09:21:45,383] Finished trial#8 resulted in value: 0.7587264914818734. Current best value is 0.832892161678557 with parameters: {'depth': 3, 'l2_leaf_reg': 3, 'od_type': 'Iter', 'od_wait': 30}.\n",
      "[I 2020-08-11 09:21:54,322] Finished trial#5 resulted in value: 0.7375588143036386. Current best value is 0.832892161678557 with parameters: {'depth': 3, 'l2_leaf_reg': 3, 'od_type': 'Iter', 'od_wait': 30}.\n",
      "[I 2020-08-11 09:22:20,152] Finished trial#9 resulted in value: 0.7345543262177113. Current best value is 0.832892161678557 with parameters: {'depth': 3, 'l2_leaf_reg': 3, 'od_type': 'Iter', 'od_wait': 30}.\n",
      "[I 2020-08-11 09:22:25,393] Finished trial#10 resulted in value: 0.832892161678557. Current best value is 0.832892161678557 with parameters: {'depth': 3, 'l2_leaf_reg': 3, 'od_type': 'Iter', 'od_wait': 30}.\n",
      "[I 2020-08-11 09:22:29,959] Finished trial#0 resulted in value: 0.7231925107306341. Current best value is 0.832892161678557 with parameters: {'depth': 3, 'l2_leaf_reg': 3, 'od_type': 'Iter', 'od_wait': 30}.\n",
      "[I 2020-08-11 09:22:58,543] Finished trial#12 resulted in value: 0.8087096050838996. Current best value is 0.832892161678557 with parameters: {'depth': 3, 'l2_leaf_reg': 3, 'od_type': 'Iter', 'od_wait': 30}.\n",
      "[I 2020-08-11 09:23:02,419] Finished trial#14 resulted in value: 0.8102630741030782. Current best value is 0.832892161678557 with parameters: {'depth': 3, 'l2_leaf_reg': 3, 'od_type': 'Iter', 'od_wait': 30}.\n",
      "[I 2020-08-11 09:23:04,381] Finished trial#13 resulted in value: 0.7739149197075731. Current best value is 0.832892161678557 with parameters: {'depth': 3, 'l2_leaf_reg': 3, 'od_type': 'Iter', 'od_wait': 30}.\n",
      "[I 2020-08-11 09:23:31,119] Finished trial#15 resulted in value: 0.8102630741030782. Current best value is 0.832892161678557 with parameters: {'depth': 3, 'l2_leaf_reg': 3, 'od_type': 'Iter', 'od_wait': 30}.\n",
      "[I 2020-08-11 09:23:35,451] Finished trial#16 resulted in value: 0.8244899115846748. Current best value is 0.832892161678557 with parameters: {'depth': 3, 'l2_leaf_reg': 3, 'od_type': 'Iter', 'od_wait': 30}.\n",
      "[I 2020-08-11 09:23:37,105] Finished trial#17 resulted in value: 0.8244899115846748. Current best value is 0.832892161678557 with parameters: {'depth': 3, 'l2_leaf_reg': 3, 'od_type': 'Iter', 'od_wait': 30}.\n",
      "[I 2020-08-11 09:24:05,607] Finished trial#18 resulted in value: 0.8337055089548855. Current best value is 0.8337055089548855 with parameters: {'depth': 3, 'l2_leaf_reg': 5, 'od_type': 'Iter', 'od_wait': 39}.\n",
      "[I 2020-08-11 09:24:13,677] Finished trial#19 resulted in value: 0.7990876140482439. Current best value is 0.8337055089548855 with parameters: {'depth': 3, 'l2_leaf_reg': 5, 'od_type': 'Iter', 'od_wait': 39}.\n",
      "[I 2020-08-11 09:24:16,135] Finished trial#20 resulted in value: 0.7990876140482439. Current best value is 0.8337055089548855 with parameters: {'depth': 3, 'l2_leaf_reg': 5, 'od_type': 'Iter', 'od_wait': 39}.\n",
      "[I 2020-08-11 09:24:44,702] Finished trial#21 resulted in value: 0.8087096050838996. Current best value is 0.8337055089548855 with parameters: {'depth': 3, 'l2_leaf_reg': 5, 'od_type': 'Iter', 'od_wait': 39}.\n",
      "[I 2020-08-11 09:24:51,249] Finished trial#22 resulted in value: 0.8087096050838996. Current best value is 0.8337055089548855 with parameters: {'depth': 3, 'l2_leaf_reg': 5, 'od_type': 'Iter', 'od_wait': 39}.\n",
      "[I 2020-08-11 09:24:55,247] Finished trial#23 resulted in value: 0.798975512243878. Current best value is 0.8337055089548855 with parameters: {'depth': 3, 'l2_leaf_reg': 5, 'od_type': 'Iter', 'od_wait': 39}.\n",
      "[I 2020-08-11 09:25:01,237] Finished trial#11 resulted in value: 0.7354847914169947. Current best value is 0.8337055089548855 with parameters: {'depth': 3, 'l2_leaf_reg': 5, 'od_type': 'Iter', 'od_wait': 39}.\n",
      "[I 2020-08-11 09:25:17,508] Finished trial#24 resulted in value: 0.8114388264669163. Current best value is 0.8337055089548855 with parameters: {'depth': 3, 'l2_leaf_reg': 5, 'od_type': 'Iter', 'od_wait': 39}.\n",
      "[I 2020-08-11 09:25:23,258] Finished trial#25 resulted in value: 0.8114388264669163. Current best value is 0.8337055089548855 with parameters: {'depth': 3, 'l2_leaf_reg': 5, 'od_type': 'Iter', 'od_wait': 39}.\n",
      "[I 2020-08-11 09:25:27,403] Finished trial#26 resulted in value: 0.8114388264669163. Current best value is 0.8337055089548855 with parameters: {'depth': 3, 'l2_leaf_reg': 5, 'od_type': 'Iter', 'od_wait': 39}.\n",
      "[I 2020-08-11 09:25:32,767] Finished trial#27 resulted in value: 0.8114388264669163. Current best value is 0.8337055089548855 with parameters: {'depth': 3, 'l2_leaf_reg': 5, 'od_type': 'Iter', 'od_wait': 39}.\n",
      "[I 2020-08-11 09:25:47,767] Finished trial#28 resulted in value: 0.8114388264669163. Current best value is 0.8337055089548855 with parameters: {'depth': 3, 'l2_leaf_reg': 5, 'od_type': 'Iter', 'od_wait': 39}.\n",
      "[I 2020-08-11 09:25:50,007] Finished trial#29 resulted in value: 0.8244899115846748. Current best value is 0.8337055089548855 with parameters: {'depth': 3, 'l2_leaf_reg': 5, 'od_type': 'Iter', 'od_wait': 39}.\n",
      "[I 2020-08-11 09:25:52,918] Finished trial#30 resulted in value: 0.8244899115846748. Current best value is 0.8337055089548855 with parameters: {'depth': 3, 'l2_leaf_reg': 5, 'od_type': 'Iter', 'od_wait': 39}.\n",
      "[I 2020-08-11 09:25:58,150] Finished trial#31 resulted in value: 0.8244899115846748. Current best value is 0.8337055089548855 with parameters: {'depth': 3, 'l2_leaf_reg': 5, 'od_type': 'Iter', 'od_wait': 39}.\n",
      "[I 2020-08-11 09:26:14,425] Finished trial#32 resulted in value: 0.8244899115846748. Current best value is 0.8337055089548855 with parameters: {'depth': 3, 'l2_leaf_reg': 5, 'od_type': 'Iter', 'od_wait': 39}.\n",
      "[I 2020-08-11 09:26:19,763] Finished trial#34 resulted in value: 0.8244899115846748. Current best value is 0.8337055089548855 with parameters: {'depth': 3, 'l2_leaf_reg': 5, 'od_type': 'Iter', 'od_wait': 39}.\n",
      "[I 2020-08-11 09:26:19,878] Finished trial#33 resulted in value: 0.7744227288113144. Current best value is 0.8337055089548855 with parameters: {'depth': 3, 'l2_leaf_reg': 5, 'od_type': 'Iter', 'od_wait': 39}.\n",
      "[I 2020-08-11 09:26:25,000] Finished trial#35 resulted in value: 0.8349511127288906. Current best value is 0.8349511127288906 with parameters: {'depth': 3, 'l2_leaf_reg': 6, 'od_type': 'Iter', 'od_wait': 29}.\n",
      "[I 2020-08-11 09:26:47,585] Finished trial#36 resulted in value: 0.8071184664637955. Current best value is 0.8349511127288906 with parameters: {'depth': 3, 'l2_leaf_reg': 6, 'od_type': 'Iter', 'od_wait': 29}.\n",
      "[I 2020-08-11 09:26:55,138] Finished trial#37 resulted in value: 0.8071184664637955. Current best value is 0.8349511127288906 with parameters: {'depth': 3, 'l2_leaf_reg': 6, 'od_type': 'Iter', 'od_wait': 29}.\n",
      "[I 2020-08-11 09:26:56,823] Finished trial#38 resulted in value: 0.7638651415259867. Current best value is 0.8349511127288906 with parameters: {'depth': 3, 'l2_leaf_reg': 6, 'od_type': 'Iter', 'od_wait': 29}.\n",
      "[I 2020-08-11 09:27:05,184] Finished trial#39 resulted in value: 0.8071184664637955. Current best value is 0.8349511127288906 with parameters: {'depth': 3, 'l2_leaf_reg': 6, 'od_type': 'Iter', 'od_wait': 29}.\n",
      "[I 2020-08-11 09:28:29,038] Finished trial#40 resulted in value: 0.7538019918179261. Current best value is 0.8349511127288906 with parameters: {'depth': 3, 'l2_leaf_reg': 6, 'od_type': 'Iter', 'od_wait': 29}.\n",
      "[I 2020-08-11 09:28:39,593] Finished trial#41 resulted in value: 0.7501617413807496. Current best value is 0.8349511127288906 with parameters: {'depth': 3, 'l2_leaf_reg': 6, 'od_type': 'Iter', 'od_wait': 29}.\n",
      "[I 2020-08-11 09:28:42,058] Finished trial#42 resulted in value: 0.7501617413807496. Current best value is 0.8349511127288906 with parameters: {'depth': 3, 'l2_leaf_reg': 6, 'od_type': 'Iter', 'od_wait': 29}.\n",
      "[I 2020-08-11 09:28:47,284] Finished trial#43 resulted in value: 0.7538019918179261. Current best value is 0.8349511127288906 with parameters: {'depth': 3, 'l2_leaf_reg': 6, 'od_type': 'Iter', 'od_wait': 29}.\n",
      "[I 2020-08-11 09:29:03,886] Finished trial#44 resulted in value: 0.8203192248493634. Current best value is 0.8349511127288906 with parameters: {'depth': 3, 'l2_leaf_reg': 6, 'od_type': 'Iter', 'od_wait': 29}.\n",
      "[I 2020-08-11 09:29:09,952] Finished trial#45 resulted in value: 0.8087096050838996. Current best value is 0.8349511127288906 with parameters: {'depth': 3, 'l2_leaf_reg': 6, 'od_type': 'Iter', 'od_wait': 29}.\n",
      "[I 2020-08-11 09:29:10,376] Finished trial#46 resulted in value: 0.8087096050838996. Current best value is 0.8349511127288906 with parameters: {'depth': 3, 'l2_leaf_reg': 6, 'od_type': 'Iter', 'od_wait': 29}.\n",
      "[I 2020-08-11 09:29:14,208] Finished trial#47 resulted in value: 0.8087096050838996. Current best value is 0.8349511127288906 with parameters: {'depth': 3, 'l2_leaf_reg': 6, 'od_type': 'Iter', 'od_wait': 29}.\n",
      "[I 2020-08-11 09:29:27,775] Finished trial#48 resulted in value: 0.832892161678557. Current best value is 0.8349511127288906 with parameters: {'depth': 3, 'l2_leaf_reg': 6, 'od_type': 'Iter', 'od_wait': 29}.\n",
      "[I 2020-08-11 09:29:33,724] Finished trial#49 resulted in value: 0.832892161678557. Current best value is 0.8349511127288906 with parameters: {'depth': 3, 'l2_leaf_reg': 6, 'od_type': 'Iter', 'od_wait': 29}.\n",
      "[I 2020-08-11 09:29:34,874] Finished trial#50 resulted in value: 0.8337055089548855. Current best value is 0.8349511127288906 with parameters: {'depth': 3, 'l2_leaf_reg': 6, 'od_type': 'Iter', 'od_wait': 29}.\n",
      "[I 2020-08-11 09:29:40,692] Finished trial#51 resulted in value: 0.8337055089548855. Current best value is 0.8349511127288906 with parameters: {'depth': 3, 'l2_leaf_reg': 6, 'od_type': 'Iter', 'od_wait': 29}.\n",
      "[I 2020-08-11 09:29:54,734] Finished trial#52 resulted in value: 0.8337055089548855. Current best value is 0.8349511127288906 with parameters: {'depth': 3, 'l2_leaf_reg': 6, 'od_type': 'Iter', 'od_wait': 29}.\n",
      "[I 2020-08-11 09:29:59,826] Finished trial#53 resulted in value: 0.8337055089548855. Current best value is 0.8349511127288906 with parameters: {'depth': 3, 'l2_leaf_reg': 6, 'od_type': 'Iter', 'od_wait': 29}.\n",
      "[I 2020-08-11 09:30:01,952] Finished trial#54 resulted in value: 0.8337055089548855. Current best value is 0.8349511127288906 with parameters: {'depth': 3, 'l2_leaf_reg': 6, 'od_type': 'Iter', 'od_wait': 29}.\n",
      "[I 2020-08-11 09:30:06,059] Finished trial#55 resulted in value: 0.8337055089548855. Current best value is 0.8349511127288906 with parameters: {'depth': 3, 'l2_leaf_reg': 6, 'od_type': 'Iter', 'od_wait': 29}.\n",
      "[I 2020-08-11 09:30:20,860] Finished trial#56 resulted in value: 0.8337055089548855. Current best value is 0.8349511127288906 with parameters: {'depth': 3, 'l2_leaf_reg': 6, 'od_type': 'Iter', 'od_wait': 29}.\n",
      "[I 2020-08-11 09:30:26,201] Finished trial#57 resulted in value: 0.8337055089548855. Current best value is 0.8349511127288906 with parameters: {'depth': 3, 'l2_leaf_reg': 6, 'od_type': 'Iter', 'od_wait': 29}.\n",
      "[I 2020-08-11 09:30:27,308] Finished trial#58 resulted in value: 0.8337055089548855. Current best value is 0.8349511127288906 with parameters: {'depth': 3, 'l2_leaf_reg': 6, 'od_type': 'Iter', 'od_wait': 29}.\n",
      "[I 2020-08-11 09:30:34,282] Finished trial#59 resulted in value: 0.7990876140482439. Current best value is 0.8349511127288906 with parameters: {'depth': 3, 'l2_leaf_reg': 6, 'od_type': 'Iter', 'od_wait': 29}.\n",
      "[I 2020-08-11 09:30:49,922] Finished trial#60 resulted in value: 0.7990876140482439. Current best value is 0.8349511127288906 with parameters: {'depth': 3, 'l2_leaf_reg': 6, 'od_type': 'Iter', 'od_wait': 29}.\n",
      "[I 2020-08-11 09:30:55,439] Finished trial#61 resulted in value: 0.7990876140482439. Current best value is 0.8349511127288906 with parameters: {'depth': 3, 'l2_leaf_reg': 6, 'od_type': 'Iter', 'od_wait': 29}.\n",
      "[I 2020-08-11 09:30:56,605] Finished trial#62 resulted in value: 0.8130092996099071. Current best value is 0.8349511127288906 with parameters: {'depth': 3, 'l2_leaf_reg': 6, 'od_type': 'Iter', 'od_wait': 29}.\n",
      "[I 2020-08-11 09:31:04,586] Finished trial#63 resulted in value: 0.8190085453903944. Current best value is 0.8349511127288906 with parameters: {'depth': 3, 'l2_leaf_reg': 6, 'od_type': 'Iter', 'od_wait': 29}.\n",
      "[I 2020-08-11 09:31:19,420] Finished trial#64 resulted in value: 0.8190085453903944. Current best value is 0.8349511127288906 with parameters: {'depth': 3, 'l2_leaf_reg': 6, 'od_type': 'Iter', 'od_wait': 29}.\n",
      "[I 2020-08-11 09:31:24,019] Finished trial#65 resulted in value: 0.8190085453903944. Current best value is 0.8349511127288906 with parameters: {'depth': 3, 'l2_leaf_reg': 6, 'od_type': 'Iter', 'od_wait': 29}.\n",
      "[I 2020-08-11 09:31:26,336] Finished trial#66 resulted in value: 0.8114388264669163. Current best value is 0.8349511127288906 with parameters: {'depth': 3, 'l2_leaf_reg': 6, 'od_type': 'Iter', 'od_wait': 29}.\n",
      "[I 2020-08-11 09:31:30,737] Finished trial#67 resulted in value: 0.8207696449206849. Current best value is 0.8349511127288906 with parameters: {'depth': 3, 'l2_leaf_reg': 6, 'od_type': 'Iter', 'od_wait': 29}.\n",
      "[I 2020-08-11 09:31:45,573] Finished trial#68 resulted in value: 0.8207696449206849. Current best value is 0.8349511127288906 with parameters: {'depth': 3, 'l2_leaf_reg': 6, 'od_type': 'Iter', 'od_wait': 29}.\n",
      "[I 2020-08-11 09:31:51,045] Finished trial#69 resulted in value: 0.8207696449206849. Current best value is 0.8349511127288906 with parameters: {'depth': 3, 'l2_leaf_reg': 6, 'od_type': 'Iter', 'od_wait': 29}.\n",
      "[I 2020-08-11 09:31:52,148] Finished trial#70 resulted in value: 0.8207696449206849. Current best value is 0.8349511127288906 with parameters: {'depth': 3, 'l2_leaf_reg': 6, 'od_type': 'Iter', 'od_wait': 29}.\n",
      "[I 2020-08-11 09:31:57,512] Finished trial#71 resulted in value: 0.8337055089548855. Current best value is 0.8349511127288906 with parameters: {'depth': 3, 'l2_leaf_reg': 6, 'od_type': 'Iter', 'od_wait': 29}.\n",
      "[I 2020-08-11 09:32:19,869] Finished trial#73 resulted in value: 0.8358403279869249. Current best value is 0.8358403279869249 with parameters: {'depth': 3, 'l2_leaf_reg': 7, 'od_type': 'IncToDec', 'od_wait': 25}.\n",
      "[I 2020-08-11 09:32:20,762] Finished trial#74 resulted in value: 0.8337055089548855. Current best value is 0.8358403279869249 with parameters: {'depth': 3, 'l2_leaf_reg': 7, 'od_type': 'IncToDec', 'od_wait': 25}.\n",
      "[I 2020-08-11 09:32:21,254] Finished trial#72 resulted in value: 0.7622373847515815. Current best value is 0.8358403279869249 with parameters: {'depth': 3, 'l2_leaf_reg': 7, 'od_type': 'IncToDec', 'od_wait': 25}.\n",
      "[I 2020-08-11 09:32:27,178] Finished trial#75 resulted in value: 0.8337055089548855. Current best value is 0.8358403279869249 with parameters: {'depth': 3, 'l2_leaf_reg': 7, 'od_type': 'IncToDec', 'od_wait': 25}.\n",
      "[I 2020-08-11 09:32:48,134] Finished trial#76 resulted in value: 0.8358403279869249. Current best value is 0.8358403279869249 with parameters: {'depth': 3, 'l2_leaf_reg': 7, 'od_type': 'IncToDec', 'od_wait': 25}.\n",
      "[I 2020-08-11 09:32:48,700] Finished trial#78 resulted in value: 0.8358403279869249. Current best value is 0.8358403279869249 with parameters: {'depth': 3, 'l2_leaf_reg': 7, 'od_type': 'IncToDec', 'od_wait': 25}.\n",
      "[I 2020-08-11 09:32:49,003] Finished trial#77 resulted in value: 0.8358403279869249. Current best value is 0.8358403279869249 with parameters: {'depth': 3, 'l2_leaf_reg': 7, 'od_type': 'IncToDec', 'od_wait': 25}.\n",
      "[I 2020-08-11 09:32:55,570] Finished trial#79 resulted in value: 0.8072097378277154. Current best value is 0.8358403279869249 with parameters: {'depth': 3, 'l2_leaf_reg': 7, 'od_type': 'IncToDec', 'od_wait': 25}.\n",
      "[I 2020-08-11 09:33:17,577] Finished trial#82 resulted in value: 0.8072097378277154. Current best value is 0.8358403279869249 with parameters: {'depth': 3, 'l2_leaf_reg': 7, 'od_type': 'IncToDec', 'od_wait': 25}.\n",
      "[I 2020-08-11 09:33:18,797] Finished trial#80 resulted in value: 0.8072097378277154. Current best value is 0.8358403279869249 with parameters: {'depth': 3, 'l2_leaf_reg': 7, 'od_type': 'IncToDec', 'od_wait': 25}.\n",
      "[I 2020-08-11 09:33:19,680] Finished trial#81 resulted in value: 0.8072097378277154. Current best value is 0.8358403279869249 with parameters: {'depth': 3, 'l2_leaf_reg': 7, 'od_type': 'IncToDec', 'od_wait': 25}.\n",
      "[I 2020-08-11 09:33:24,093] Finished trial#83 resulted in value: 0.8072097378277154. Current best value is 0.8358403279869249 with parameters: {'depth': 3, 'l2_leaf_reg': 7, 'od_type': 'IncToDec', 'od_wait': 25}.\n",
      "[I 2020-08-11 09:33:45,488] Finished trial#84 resulted in value: 0.8358403279869249. Current best value is 0.8358403279869249 with parameters: {'depth': 3, 'l2_leaf_reg': 7, 'od_type': 'IncToDec', 'od_wait': 25}.\n",
      "[I 2020-08-11 09:33:46,286] Finished trial#85 resulted in value: 0.8395179691475987. Current best value is 0.8395179691475987 with parameters: {'depth': 3, 'l2_leaf_reg': 8, 'od_type': 'IncToDec', 'od_wait': 47}.\n",
      "[I 2020-08-11 09:33:48,469] Finished trial#86 resulted in value: 0.8395179691475987. Current best value is 0.8395179691475987 with parameters: {'depth': 3, 'l2_leaf_reg': 8, 'od_type': 'IncToDec', 'od_wait': 47}.\n",
      "[I 2020-08-11 09:33:52,553] Finished trial#87 resulted in value: 0.8395179691475987. Current best value is 0.8395179691475987 with parameters: {'depth': 3, 'l2_leaf_reg': 8, 'od_type': 'IncToDec', 'od_wait': 47}.\n",
      "[I 2020-08-11 09:34:10,113] Finished trial#88 resulted in value: 0.8395179691475987. Current best value is 0.8395179691475987 with parameters: {'depth': 3, 'l2_leaf_reg': 8, 'od_type': 'IncToDec', 'od_wait': 47}.\n",
      "[I 2020-08-11 09:34:10,883] Finished trial#89 resulted in value: 0.8395179691475987. Current best value is 0.8395179691475987 with parameters: {'depth': 3, 'l2_leaf_reg': 8, 'od_type': 'IncToDec', 'od_wait': 47}.\n",
      "[I 2020-08-11 09:34:13,558] Finished trial#90 resulted in value: 0.8395179691475987. Current best value is 0.8395179691475987 with parameters: {'depth': 3, 'l2_leaf_reg': 8, 'od_type': 'IncToDec', 'od_wait': 47}.\n",
      "[I 2020-08-11 09:34:19,966] Finished trial#91 resulted in value: 0.8395179691475987. Current best value is 0.8395179691475987 with parameters: {'depth': 3, 'l2_leaf_reg': 8, 'od_type': 'IncToDec', 'od_wait': 47}.\n",
      "[I 2020-08-11 09:34:49,572] Finished trial#93 resulted in value: 0.8395179691475987. Current best value is 0.8395179691475987 with parameters: {'depth': 3, 'l2_leaf_reg': 8, 'od_type': 'IncToDec', 'od_wait': 47}.\n",
      "[I 2020-08-11 09:34:58,262] Finished trial#95 resulted in value: 0.8395179691475987. Current best value is 0.8395179691475987 with parameters: {'depth': 3, 'l2_leaf_reg': 8, 'od_type': 'IncToDec', 'od_wait': 47}.\n",
      "[I 2020-08-11 09:35:29,569] Finished trial#96 resulted in value: 0.8395179691475987. Current best value is 0.8395179691475987 with parameters: {'depth': 3, 'l2_leaf_reg': 8, 'od_type': 'IncToDec', 'od_wait': 47}.\n",
      "[I 2020-08-11 09:35:42,424] Finished trial#97 resulted in value: 0.8203192248493634. Current best value is 0.8395179691475987 with parameters: {'depth': 3, 'l2_leaf_reg': 8, 'od_type': 'IncToDec', 'od_wait': 47}.\n",
      "[I 2020-08-11 09:36:16,648] Finished trial#98 resulted in value: 0.8203192248493634. Current best value is 0.8395179691475987 with parameters: {'depth': 3, 'l2_leaf_reg': 8, 'od_type': 'IncToDec', 'od_wait': 47}.\n",
      "[I 2020-08-11 09:36:21,377] Finished trial#99 resulted in value: 0.8395179691475987. Current best value is 0.8395179691475987 with parameters: {'depth': 3, 'l2_leaf_reg': 8, 'od_type': 'IncToDec', 'od_wait': 47}.\n",
      "[I 2020-08-11 09:37:39,157] Finished trial#92 resulted in value: 0.7345543262177113. Current best value is 0.8395179691475987 with parameters: {'depth': 3, 'l2_leaf_reg': 8, 'od_type': 'IncToDec', 'od_wait': 47}.\n",
      "[I 2020-08-11 09:37:41,711] Finished trial#94 resulted in value: 0.7345543262177113. Current best value is 0.8395179691475987 with parameters: {'depth': 3, 'l2_leaf_reg': 8, 'od_type': 'IncToDec', 'od_wait': 47}.\n"
     ]
    },
    {
     "name": "stdout",
     "output_type": "stream",
     "text": [
      "{'depth': 3, 'l2_leaf_reg': 8, 'od_type': 'IncToDec', 'od_wait': 47}\n",
      "0.8395179691475987\n",
      "CPU times: user 1h 31min 4s, sys: 14min 33s, total: 1h 45min 37s\n",
      "Wall time: 19min 16s\n"
     ]
    }
   ],
   "source": [
    "%%time\n",
    "\n",
    "study_cb = optuna.create_study(direction='maximize')\n",
    "study_cb.optimize(objective_cb, n_trials=100, n_jobs=4)\n",
    "\n",
    "print(study_cb.best_params)\n",
    "print(study_cb.best_value)\n",
    "cb_best_params = study_cb.best_params"
   ]
  },
  {
   "cell_type": "code",
   "execution_count": 33,
   "metadata": {
    "collapsed": true,
    "jupyter": {
     "outputs_hidden": true
    }
   },
   "outputs": [
    {
     "name": "stdout",
     "output_type": "stream",
     "text": [
      "0:\tlearn: 0.6599480\ttotal: 6.06ms\tremaining: 6.06s\n",
      "1:\tlearn: 0.6291839\ttotal: 15ms\tremaining: 7.48s\n",
      "2:\tlearn: 0.6008277\ttotal: 24.4ms\tremaining: 8.09s\n",
      "3:\tlearn: 0.5754523\ttotal: 33.3ms\tremaining: 8.3s\n",
      "4:\tlearn: 0.5513976\ttotal: 41.2ms\tremaining: 8.21s\n",
      "5:\tlearn: 0.5296229\ttotal: 48.2ms\tremaining: 7.99s\n",
      "6:\tlearn: 0.5096343\ttotal: 57.3ms\tremaining: 8.13s\n",
      "7:\tlearn: 0.4898074\ttotal: 65.7ms\tremaining: 8.15s\n",
      "8:\tlearn: 0.4699613\ttotal: 73.8ms\tremaining: 8.13s\n",
      "9:\tlearn: 0.4518677\ttotal: 82.5ms\tremaining: 8.17s\n",
      "10:\tlearn: 0.4372567\ttotal: 92.3ms\tremaining: 8.29s\n",
      "11:\tlearn: 0.4226687\ttotal: 100ms\tremaining: 8.27s\n",
      "12:\tlearn: 0.4099497\ttotal: 108ms\tremaining: 8.21s\n",
      "13:\tlearn: 0.3983480\ttotal: 115ms\tremaining: 8.09s\n",
      "14:\tlearn: 0.3874055\ttotal: 121ms\tremaining: 7.98s\n",
      "15:\tlearn: 0.3760046\ttotal: 126ms\tremaining: 7.78s\n",
      "16:\tlearn: 0.3655435\ttotal: 131ms\tremaining: 7.56s\n",
      "17:\tlearn: 0.3572055\ttotal: 137ms\tremaining: 7.45s\n",
      "18:\tlearn: 0.3492596\ttotal: 143ms\tremaining: 7.39s\n",
      "19:\tlearn: 0.3422976\ttotal: 153ms\tremaining: 7.49s\n",
      "20:\tlearn: 0.3355716\ttotal: 164ms\tremaining: 7.62s\n",
      "21:\tlearn: 0.3294402\ttotal: 169ms\tremaining: 7.52s\n",
      "22:\tlearn: 0.3223091\ttotal: 174ms\tremaining: 7.4s\n",
      "23:\tlearn: 0.3172298\ttotal: 181ms\tremaining: 7.35s\n",
      "24:\tlearn: 0.3120614\ttotal: 187ms\tremaining: 7.28s\n",
      "25:\tlearn: 0.3076792\ttotal: 193ms\tremaining: 7.24s\n",
      "26:\tlearn: 0.3031317\ttotal: 199ms\tremaining: 7.17s\n",
      "27:\tlearn: 0.2982919\ttotal: 206ms\tremaining: 7.14s\n",
      "28:\tlearn: 0.2937910\ttotal: 214ms\tremaining: 7.17s\n",
      "29:\tlearn: 0.2904876\ttotal: 220ms\tremaining: 7.12s\n",
      "30:\tlearn: 0.2873456\ttotal: 225ms\tremaining: 7.05s\n",
      "31:\tlearn: 0.2845498\ttotal: 233ms\tremaining: 7.06s\n",
      "32:\tlearn: 0.2818513\ttotal: 239ms\tremaining: 6.99s\n",
      "33:\tlearn: 0.2791956\ttotal: 245ms\tremaining: 6.96s\n",
      "34:\tlearn: 0.2767199\ttotal: 253ms\tremaining: 6.96s\n",
      "35:\tlearn: 0.2738418\ttotal: 258ms\tremaining: 6.92s\n",
      "36:\tlearn: 0.2711985\ttotal: 264ms\tremaining: 6.86s\n",
      "37:\tlearn: 0.2692637\ttotal: 270ms\tremaining: 6.83s\n",
      "38:\tlearn: 0.2671290\ttotal: 276ms\tremaining: 6.8s\n",
      "39:\tlearn: 0.2653011\ttotal: 282ms\tremaining: 6.76s\n",
      "40:\tlearn: 0.2636856\ttotal: 289ms\tremaining: 6.75s\n",
      "41:\tlearn: 0.2616005\ttotal: 294ms\tremaining: 6.71s\n",
      "42:\tlearn: 0.2599343\ttotal: 300ms\tremaining: 6.67s\n",
      "43:\tlearn: 0.2585411\ttotal: 307ms\tremaining: 6.66s\n",
      "44:\tlearn: 0.2569019\ttotal: 312ms\tremaining: 6.62s\n",
      "45:\tlearn: 0.2557052\ttotal: 318ms\tremaining: 6.6s\n",
      "46:\tlearn: 0.2544534\ttotal: 325ms\tremaining: 6.58s\n",
      "47:\tlearn: 0.2534305\ttotal: 330ms\tremaining: 6.55s\n",
      "48:\tlearn: 0.2524944\ttotal: 335ms\tremaining: 6.5s\n",
      "49:\tlearn: 0.2514143\ttotal: 342ms\tremaining: 6.5s\n",
      "50:\tlearn: 0.2503386\ttotal: 347ms\tremaining: 6.45s\n",
      "51:\tlearn: 0.2492240\ttotal: 353ms\tremaining: 6.43s\n",
      "52:\tlearn: 0.2485065\ttotal: 359ms\tremaining: 6.41s\n",
      "53:\tlearn: 0.2478207\ttotal: 365ms\tremaining: 6.39s\n",
      "54:\tlearn: 0.2471634\ttotal: 370ms\tremaining: 6.36s\n",
      "55:\tlearn: 0.2465787\ttotal: 376ms\tremaining: 6.33s\n",
      "56:\tlearn: 0.2459195\ttotal: 381ms\tremaining: 6.3s\n",
      "57:\tlearn: 0.2452895\ttotal: 386ms\tremaining: 6.27s\n",
      "58:\tlearn: 0.2447252\ttotal: 393ms\tremaining: 6.26s\n",
      "59:\tlearn: 0.2440130\ttotal: 398ms\tremaining: 6.23s\n",
      "60:\tlearn: 0.2432566\ttotal: 403ms\tremaining: 6.21s\n",
      "61:\tlearn: 0.2424946\ttotal: 409ms\tremaining: 6.19s\n",
      "62:\tlearn: 0.2420184\ttotal: 428ms\tremaining: 6.36s\n",
      "63:\tlearn: 0.2415983\ttotal: 435ms\tremaining: 6.36s\n",
      "64:\tlearn: 0.2412581\ttotal: 440ms\tremaining: 6.33s\n",
      "65:\tlearn: 0.2406367\ttotal: 446ms\tremaining: 6.31s\n",
      "66:\tlearn: 0.2400676\ttotal: 451ms\tremaining: 6.29s\n",
      "67:\tlearn: 0.2396480\ttotal: 459ms\tremaining: 6.29s\n",
      "68:\tlearn: 0.2390316\ttotal: 466ms\tremaining: 6.29s\n",
      "69:\tlearn: 0.2386684\ttotal: 471ms\tremaining: 6.26s\n",
      "70:\tlearn: 0.2382937\ttotal: 476ms\tremaining: 6.23s\n",
      "71:\tlearn: 0.2380866\ttotal: 483ms\tremaining: 6.22s\n",
      "72:\tlearn: 0.2378804\ttotal: 488ms\tremaining: 6.2s\n",
      "73:\tlearn: 0.2374735\ttotal: 494ms\tremaining: 6.17s\n",
      "74:\tlearn: 0.2372369\ttotal: 498ms\tremaining: 6.14s\n",
      "75:\tlearn: 0.2369309\ttotal: 503ms\tremaining: 6.12s\n",
      "76:\tlearn: 0.2367464\ttotal: 510ms\tremaining: 6.11s\n",
      "77:\tlearn: 0.2364826\ttotal: 516ms\tremaining: 6.1s\n",
      "78:\tlearn: 0.2362595\ttotal: 522ms\tremaining: 6.09s\n",
      "79:\tlearn: 0.2359123\ttotal: 527ms\tremaining: 6.06s\n",
      "80:\tlearn: 0.2357437\ttotal: 533ms\tremaining: 6.05s\n",
      "81:\tlearn: 0.2355012\ttotal: 540ms\tremaining: 6.04s\n",
      "82:\tlearn: 0.2352553\ttotal: 546ms\tremaining: 6.03s\n",
      "83:\tlearn: 0.2349497\ttotal: 551ms\tremaining: 6.01s\n",
      "84:\tlearn: 0.2345721\ttotal: 557ms\tremaining: 6s\n",
      "85:\tlearn: 0.2342183\ttotal: 564ms\tremaining: 6s\n",
      "86:\tlearn: 0.2339454\ttotal: 570ms\tremaining: 5.98s\n",
      "87:\tlearn: 0.2337840\ttotal: 578ms\tremaining: 5.99s\n",
      "88:\tlearn: 0.2336279\ttotal: 583ms\tremaining: 5.97s\n",
      "89:\tlearn: 0.2333873\ttotal: 588ms\tremaining: 5.95s\n",
      "90:\tlearn: 0.2332422\ttotal: 593ms\tremaining: 5.93s\n",
      "91:\tlearn: 0.2329709\ttotal: 599ms\tremaining: 5.92s\n",
      "92:\tlearn: 0.2326875\ttotal: 604ms\tremaining: 5.89s\n",
      "93:\tlearn: 0.2325189\ttotal: 609ms\tremaining: 5.87s\n",
      "94:\tlearn: 0.2323791\ttotal: 616ms\tremaining: 5.87s\n",
      "95:\tlearn: 0.2321438\ttotal: 622ms\tremaining: 5.86s\n",
      "96:\tlearn: 0.2318949\ttotal: 629ms\tremaining: 5.85s\n",
      "97:\tlearn: 0.2317058\ttotal: 635ms\tremaining: 5.84s\n",
      "98:\tlearn: 0.2315941\ttotal: 640ms\tremaining: 5.82s\n",
      "99:\tlearn: 0.2314627\ttotal: 644ms\tremaining: 5.8s\n",
      "100:\tlearn: 0.2313561\ttotal: 649ms\tremaining: 5.78s\n",
      "101:\tlearn: 0.2312081\ttotal: 658ms\tremaining: 5.79s\n",
      "102:\tlearn: 0.2310693\ttotal: 665ms\tremaining: 5.79s\n",
      "103:\tlearn: 0.2309600\ttotal: 671ms\tremaining: 5.78s\n",
      "104:\tlearn: 0.2308573\ttotal: 679ms\tremaining: 5.79s\n",
      "105:\tlearn: 0.2307455\ttotal: 684ms\tremaining: 5.77s\n",
      "106:\tlearn: 0.2306411\ttotal: 689ms\tremaining: 5.75s\n",
      "107:\tlearn: 0.2305629\ttotal: 695ms\tremaining: 5.74s\n",
      "108:\tlearn: 0.2305028\ttotal: 701ms\tremaining: 5.73s\n",
      "109:\tlearn: 0.2303790\ttotal: 707ms\tremaining: 5.72s\n",
      "110:\tlearn: 0.2302754\ttotal: 713ms\tremaining: 5.71s\n",
      "111:\tlearn: 0.2301961\ttotal: 720ms\tremaining: 5.71s\n",
      "112:\tlearn: 0.2300303\ttotal: 725ms\tremaining: 5.69s\n",
      "113:\tlearn: 0.2299690\ttotal: 731ms\tremaining: 5.68s\n",
      "114:\tlearn: 0.2298787\ttotal: 736ms\tremaining: 5.66s\n",
      "115:\tlearn: 0.2297979\ttotal: 742ms\tremaining: 5.66s\n",
      "116:\tlearn: 0.2296528\ttotal: 749ms\tremaining: 5.65s\n",
      "117:\tlearn: 0.2295624\ttotal: 754ms\tremaining: 5.64s\n",
      "118:\tlearn: 0.2294914\ttotal: 762ms\tremaining: 5.64s\n",
      "119:\tlearn: 0.2293481\ttotal: 767ms\tremaining: 5.62s\n",
      "120:\tlearn: 0.2292290\ttotal: 773ms\tremaining: 5.62s\n",
      "121:\tlearn: 0.2291667\ttotal: 780ms\tremaining: 5.61s\n",
      "122:\tlearn: 0.2290502\ttotal: 786ms\tremaining: 5.6s\n",
      "123:\tlearn: 0.2289940\ttotal: 792ms\tremaining: 5.59s\n",
      "124:\tlearn: 0.2289387\ttotal: 797ms\tremaining: 5.58s\n",
      "125:\tlearn: 0.2288701\ttotal: 803ms\tremaining: 5.57s\n",
      "126:\tlearn: 0.2287805\ttotal: 808ms\tremaining: 5.56s\n",
      "127:\tlearn: 0.2286299\ttotal: 814ms\tremaining: 5.54s\n",
      "128:\tlearn: 0.2284883\ttotal: 819ms\tremaining: 5.53s\n",
      "129:\tlearn: 0.2283990\ttotal: 825ms\tremaining: 5.52s\n",
      "130:\tlearn: 0.2283567\ttotal: 831ms\tremaining: 5.51s\n",
      "131:\tlearn: 0.2283049\ttotal: 837ms\tremaining: 5.51s\n",
      "132:\tlearn: 0.2282331\ttotal: 843ms\tremaining: 5.5s\n",
      "133:\tlearn: 0.2281599\ttotal: 864ms\tremaining: 5.58s\n",
      "134:\tlearn: 0.2281068\ttotal: 871ms\tremaining: 5.58s\n",
      "135:\tlearn: 0.2280441\ttotal: 877ms\tremaining: 5.57s\n",
      "136:\tlearn: 0.2279963\ttotal: 882ms\tremaining: 5.55s\n",
      "137:\tlearn: 0.2279270\ttotal: 888ms\tremaining: 5.54s\n",
      "138:\tlearn: 0.2278480\ttotal: 894ms\tremaining: 5.54s\n",
      "139:\tlearn: 0.2277380\ttotal: 900ms\tremaining: 5.53s\n",
      "140:\tlearn: 0.2276182\ttotal: 907ms\tremaining: 5.52s\n",
      "141:\tlearn: 0.2275560\ttotal: 914ms\tremaining: 5.52s\n",
      "142:\tlearn: 0.2274983\ttotal: 919ms\tremaining: 5.5s\n",
      "143:\tlearn: 0.2274551\ttotal: 925ms\tremaining: 5.5s\n",
      "144:\tlearn: 0.2274031\ttotal: 930ms\tremaining: 5.48s\n",
      "145:\tlearn: 0.2273360\ttotal: 936ms\tremaining: 5.47s\n",
      "146:\tlearn: 0.2272924\ttotal: 945ms\tremaining: 5.48s\n",
      "147:\tlearn: 0.2272269\ttotal: 950ms\tremaining: 5.47s\n",
      "148:\tlearn: 0.2271556\ttotal: 957ms\tremaining: 5.47s\n",
      "149:\tlearn: 0.2270855\ttotal: 965ms\tremaining: 5.47s\n",
      "150:\tlearn: 0.2270336\ttotal: 971ms\tremaining: 5.46s\n",
      "151:\tlearn: 0.2269739\ttotal: 977ms\tremaining: 5.45s\n",
      "152:\tlearn: 0.2269318\ttotal: 983ms\tremaining: 5.44s\n",
      "153:\tlearn: 0.2268766\ttotal: 991ms\tremaining: 5.44s\n",
      "154:\tlearn: 0.2268242\ttotal: 998ms\tremaining: 5.44s\n",
      "155:\tlearn: 0.2267680\ttotal: 1s\tremaining: 5.44s\n",
      "156:\tlearn: 0.2266970\ttotal: 1.01s\tremaining: 5.44s\n",
      "157:\tlearn: 0.2266069\ttotal: 1.02s\tremaining: 5.43s\n",
      "158:\tlearn: 0.2265683\ttotal: 1.02s\tremaining: 5.42s\n",
      "159:\tlearn: 0.2265302\ttotal: 1.03s\tremaining: 5.41s\n",
      "160:\tlearn: 0.2264945\ttotal: 1.04s\tremaining: 5.4s\n",
      "161:\tlearn: 0.2264595\ttotal: 1.04s\tremaining: 5.39s\n",
      "162:\tlearn: 0.2263993\ttotal: 1.05s\tremaining: 5.39s\n",
      "163:\tlearn: 0.2263440\ttotal: 1.05s\tremaining: 5.38s\n",
      "164:\tlearn: 0.2262770\ttotal: 1.06s\tremaining: 5.37s\n",
      "165:\tlearn: 0.2262391\ttotal: 1.07s\tremaining: 5.37s\n",
      "166:\tlearn: 0.2261660\ttotal: 1.07s\tremaining: 5.36s\n",
      "167:\tlearn: 0.2261111\ttotal: 1.08s\tremaining: 5.34s\n",
      "168:\tlearn: 0.2260620\ttotal: 1.08s\tremaining: 5.34s\n",
      "169:\tlearn: 0.2260326\ttotal: 1.09s\tremaining: 5.32s\n",
      "170:\tlearn: 0.2259779\ttotal: 1.1s\tremaining: 5.32s\n",
      "171:\tlearn: 0.2259190\ttotal: 1.1s\tremaining: 5.31s\n",
      "172:\tlearn: 0.2258671\ttotal: 1.11s\tremaining: 5.3s\n",
      "173:\tlearn: 0.2258113\ttotal: 1.11s\tremaining: 5.29s\n",
      "174:\tlearn: 0.2257754\ttotal: 1.12s\tremaining: 5.28s\n",
      "175:\tlearn: 0.2257323\ttotal: 1.13s\tremaining: 5.27s\n",
      "176:\tlearn: 0.2256886\ttotal: 1.13s\tremaining: 5.26s\n",
      "177:\tlearn: 0.2256554\ttotal: 1.14s\tremaining: 5.25s\n",
      "178:\tlearn: 0.2255939\ttotal: 1.14s\tremaining: 5.24s\n",
      "179:\tlearn: 0.2255508\ttotal: 1.15s\tremaining: 5.24s\n",
      "180:\tlearn: 0.2255195\ttotal: 1.15s\tremaining: 5.22s\n",
      "181:\tlearn: 0.2254669\ttotal: 1.16s\tremaining: 5.21s\n",
      "182:\tlearn: 0.2254194\ttotal: 1.17s\tremaining: 5.2s\n",
      "183:\tlearn: 0.2253686\ttotal: 1.17s\tremaining: 5.19s\n",
      "184:\tlearn: 0.2253280\ttotal: 1.18s\tremaining: 5.18s\n",
      "185:\tlearn: 0.2252802\ttotal: 1.18s\tremaining: 5.17s\n",
      "186:\tlearn: 0.2252542\ttotal: 1.19s\tremaining: 5.17s\n",
      "187:\tlearn: 0.2252219\ttotal: 1.19s\tremaining: 5.16s\n",
      "188:\tlearn: 0.2251393\ttotal: 1.2s\tremaining: 5.15s\n",
      "189:\tlearn: 0.2251008\ttotal: 1.21s\tremaining: 5.14s\n",
      "190:\tlearn: 0.2250593\ttotal: 1.21s\tremaining: 5.13s\n",
      "191:\tlearn: 0.2250195\ttotal: 1.22s\tremaining: 5.13s\n",
      "192:\tlearn: 0.2249775\ttotal: 1.23s\tremaining: 5.13s\n",
      "193:\tlearn: 0.2249010\ttotal: 1.24s\tremaining: 5.13s\n",
      "194:\tlearn: 0.2248354\ttotal: 1.24s\tremaining: 5.13s\n",
      "195:\tlearn: 0.2248055\ttotal: 1.25s\tremaining: 5.13s\n",
      "196:\tlearn: 0.2247780\ttotal: 1.25s\tremaining: 5.12s\n",
      "197:\tlearn: 0.2247360\ttotal: 1.26s\tremaining: 5.11s\n",
      "198:\tlearn: 0.2246863\ttotal: 1.27s\tremaining: 5.1s\n",
      "199:\tlearn: 0.2246498\ttotal: 1.27s\tremaining: 5.09s\n",
      "200:\tlearn: 0.2246032\ttotal: 1.28s\tremaining: 5.08s\n",
      "201:\tlearn: 0.2245675\ttotal: 1.28s\tremaining: 5.07s\n",
      "202:\tlearn: 0.2245180\ttotal: 1.29s\tremaining: 5.06s\n",
      "203:\tlearn: 0.2244953\ttotal: 1.29s\tremaining: 5.05s\n",
      "204:\tlearn: 0.2244636\ttotal: 1.3s\tremaining: 5.04s\n",
      "205:\tlearn: 0.2244239\ttotal: 1.3s\tremaining: 5.03s\n",
      "206:\tlearn: 0.2243930\ttotal: 1.31s\tremaining: 5.02s\n",
      "207:\tlearn: 0.2243699\ttotal: 1.32s\tremaining: 5.01s\n",
      "208:\tlearn: 0.2243175\ttotal: 1.32s\tremaining: 5s\n",
      "209:\tlearn: 0.2242734\ttotal: 1.33s\tremaining: 4.99s\n",
      "210:\tlearn: 0.2242491\ttotal: 1.33s\tremaining: 4.99s\n",
      "211:\tlearn: 0.2242191\ttotal: 1.34s\tremaining: 4.98s\n",
      "212:\tlearn: 0.2241657\ttotal: 1.34s\tremaining: 4.97s\n",
      "213:\tlearn: 0.2241071\ttotal: 1.35s\tremaining: 4.96s\n",
      "214:\tlearn: 0.2240924\ttotal: 1.36s\tremaining: 4.96s\n",
      "215:\tlearn: 0.2240451\ttotal: 1.36s\tremaining: 4.95s\n",
      "216:\tlearn: 0.2240083\ttotal: 1.37s\tremaining: 4.95s\n",
      "217:\tlearn: 0.2239612\ttotal: 1.38s\tremaining: 4.94s\n",
      "218:\tlearn: 0.2239313\ttotal: 1.38s\tremaining: 4.93s\n",
      "219:\tlearn: 0.2238819\ttotal: 1.39s\tremaining: 4.92s\n",
      "220:\tlearn: 0.2238376\ttotal: 1.39s\tremaining: 4.91s\n",
      "221:\tlearn: 0.2238041\ttotal: 1.4s\tremaining: 4.9s\n",
      "222:\tlearn: 0.2237782\ttotal: 1.4s\tremaining: 4.89s\n",
      "223:\tlearn: 0.2237544\ttotal: 1.41s\tremaining: 4.88s\n",
      "224:\tlearn: 0.2236895\ttotal: 1.41s\tremaining: 4.87s\n",
      "225:\tlearn: 0.2236616\ttotal: 1.42s\tremaining: 4.86s\n",
      "226:\tlearn: 0.2236257\ttotal: 1.43s\tremaining: 4.85s\n",
      "227:\tlearn: 0.2236002\ttotal: 1.43s\tremaining: 4.85s\n",
      "228:\tlearn: 0.2235726\ttotal: 1.44s\tremaining: 4.84s\n",
      "229:\tlearn: 0.2235438\ttotal: 1.44s\tremaining: 4.83s\n",
      "230:\tlearn: 0.2235134\ttotal: 1.45s\tremaining: 4.82s\n",
      "231:\tlearn: 0.2234803\ttotal: 1.46s\tremaining: 4.82s\n",
      "232:\tlearn: 0.2234387\ttotal: 1.46s\tremaining: 4.81s\n",
      "233:\tlearn: 0.2233979\ttotal: 1.47s\tremaining: 4.8s\n",
      "234:\tlearn: 0.2233710\ttotal: 1.47s\tremaining: 4.8s\n",
      "235:\tlearn: 0.2233271\ttotal: 1.48s\tremaining: 4.79s\n",
      "236:\tlearn: 0.2232896\ttotal: 1.48s\tremaining: 4.78s\n",
      "237:\tlearn: 0.2232382\ttotal: 1.49s\tremaining: 4.77s\n",
      "238:\tlearn: 0.2232088\ttotal: 1.5s\tremaining: 4.76s\n",
      "239:\tlearn: 0.2231760\ttotal: 1.5s\tremaining: 4.75s\n",
      "240:\tlearn: 0.2231210\ttotal: 1.51s\tremaining: 4.74s\n",
      "241:\tlearn: 0.2230754\ttotal: 1.51s\tremaining: 4.73s\n",
      "242:\tlearn: 0.2230345\ttotal: 1.52s\tremaining: 4.73s\n",
      "243:\tlearn: 0.2229925\ttotal: 1.52s\tremaining: 4.72s\n",
      "244:\tlearn: 0.2229723\ttotal: 1.53s\tremaining: 4.71s\n",
      "245:\tlearn: 0.2229548\ttotal: 1.53s\tremaining: 4.71s\n",
      "246:\tlearn: 0.2229323\ttotal: 1.54s\tremaining: 4.7s\n",
      "247:\tlearn: 0.2229026\ttotal: 1.54s\tremaining: 4.69s\n",
      "248:\tlearn: 0.2228879\ttotal: 1.55s\tremaining: 4.68s\n",
      "249:\tlearn: 0.2228476\ttotal: 1.56s\tremaining: 4.68s\n",
      "250:\tlearn: 0.2228122\ttotal: 1.56s\tremaining: 4.67s\n",
      "251:\tlearn: 0.2227600\ttotal: 1.57s\tremaining: 4.66s\n",
      "252:\tlearn: 0.2227415\ttotal: 1.58s\tremaining: 4.65s\n",
      "253:\tlearn: 0.2226925\ttotal: 1.58s\tremaining: 4.65s\n",
      "254:\tlearn: 0.2226493\ttotal: 1.59s\tremaining: 4.64s\n",
      "255:\tlearn: 0.2226351\ttotal: 1.59s\tremaining: 4.64s\n",
      "256:\tlearn: 0.2226162\ttotal: 1.6s\tremaining: 4.63s\n",
      "257:\tlearn: 0.2225891\ttotal: 1.61s\tremaining: 4.62s\n",
      "258:\tlearn: 0.2225643\ttotal: 1.61s\tremaining: 4.62s\n",
      "259:\tlearn: 0.2225334\ttotal: 1.62s\tremaining: 4.61s\n",
      "260:\tlearn: 0.2225079\ttotal: 1.62s\tremaining: 4.6s\n",
      "261:\tlearn: 0.2224675\ttotal: 1.63s\tremaining: 4.59s\n",
      "262:\tlearn: 0.2224514\ttotal: 1.64s\tremaining: 4.59s\n",
      "263:\tlearn: 0.2224225\ttotal: 1.64s\tremaining: 4.58s\n",
      "264:\tlearn: 0.2223995\ttotal: 1.65s\tremaining: 4.58s\n",
      "265:\tlearn: 0.2223734\ttotal: 1.66s\tremaining: 4.57s\n",
      "266:\tlearn: 0.2223473\ttotal: 1.66s\tremaining: 4.56s\n",
      "267:\tlearn: 0.2223293\ttotal: 1.67s\tremaining: 4.55s\n",
      "268:\tlearn: 0.2223113\ttotal: 1.67s\tremaining: 4.54s\n",
      "269:\tlearn: 0.2222812\ttotal: 1.68s\tremaining: 4.54s\n",
      "270:\tlearn: 0.2222550\ttotal: 1.68s\tremaining: 4.53s\n",
      "271:\tlearn: 0.2222092\ttotal: 1.69s\tremaining: 4.52s\n",
      "272:\tlearn: 0.2221851\ttotal: 1.7s\tremaining: 4.51s\n",
      "273:\tlearn: 0.2221565\ttotal: 1.7s\tremaining: 4.51s\n",
      "274:\tlearn: 0.2221257\ttotal: 1.71s\tremaining: 4.5s\n",
      "275:\tlearn: 0.2220898\ttotal: 1.71s\tremaining: 4.5s\n",
      "276:\tlearn: 0.2220721\ttotal: 1.72s\tremaining: 4.49s\n",
      "277:\tlearn: 0.2220624\ttotal: 1.73s\tremaining: 4.48s\n",
      "278:\tlearn: 0.2220417\ttotal: 1.73s\tremaining: 4.47s\n",
      "279:\tlearn: 0.2220078\ttotal: 1.74s\tremaining: 4.47s\n",
      "280:\tlearn: 0.2219908\ttotal: 1.74s\tremaining: 4.46s\n",
      "281:\tlearn: 0.2219755\ttotal: 1.75s\tremaining: 4.45s\n",
      "282:\tlearn: 0.2219570\ttotal: 1.75s\tremaining: 4.44s\n",
      "283:\tlearn: 0.2219392\ttotal: 1.76s\tremaining: 4.43s\n",
      "284:\tlearn: 0.2219065\ttotal: 1.76s\tremaining: 4.43s\n",
      "285:\tlearn: 0.2218931\ttotal: 1.77s\tremaining: 4.42s\n",
      "286:\tlearn: 0.2218750\ttotal: 1.78s\tremaining: 4.41s\n",
      "287:\tlearn: 0.2218368\ttotal: 1.79s\tremaining: 4.43s\n",
      "288:\tlearn: 0.2218009\ttotal: 1.8s\tremaining: 4.43s\n",
      "289:\tlearn: 0.2217689\ttotal: 1.81s\tremaining: 4.42s\n",
      "290:\tlearn: 0.2217430\ttotal: 1.81s\tremaining: 4.41s\n",
      "291:\tlearn: 0.2217209\ttotal: 1.82s\tremaining: 4.4s\n",
      "292:\tlearn: 0.2216913\ttotal: 1.82s\tremaining: 4.4s\n",
      "293:\tlearn: 0.2216645\ttotal: 1.83s\tremaining: 4.39s\n",
      "294:\tlearn: 0.2216412\ttotal: 1.84s\tremaining: 4.39s\n",
      "295:\tlearn: 0.2216149\ttotal: 1.85s\tremaining: 4.39s\n",
      "296:\tlearn: 0.2215756\ttotal: 1.85s\tremaining: 4.39s\n",
      "297:\tlearn: 0.2215646\ttotal: 1.86s\tremaining: 4.38s\n",
      "298:\tlearn: 0.2215344\ttotal: 1.87s\tremaining: 4.38s\n",
      "299:\tlearn: 0.2215091\ttotal: 1.87s\tremaining: 4.37s\n",
      "300:\tlearn: 0.2214932\ttotal: 1.88s\tremaining: 4.37s\n",
      "301:\tlearn: 0.2214596\ttotal: 1.89s\tremaining: 4.36s\n",
      "302:\tlearn: 0.2214372\ttotal: 1.89s\tremaining: 4.36s\n",
      "303:\tlearn: 0.2214152\ttotal: 1.9s\tremaining: 4.35s\n",
      "304:\tlearn: 0.2213991\ttotal: 1.91s\tremaining: 4.34s\n",
      "305:\tlearn: 0.2213823\ttotal: 1.91s\tremaining: 4.34s\n",
      "306:\tlearn: 0.2213625\ttotal: 1.92s\tremaining: 4.33s\n",
      "307:\tlearn: 0.2213345\ttotal: 1.92s\tremaining: 4.32s\n",
      "308:\tlearn: 0.2213161\ttotal: 1.93s\tremaining: 4.32s\n",
      "309:\tlearn: 0.2212966\ttotal: 1.94s\tremaining: 4.31s\n",
      "310:\tlearn: 0.2212711\ttotal: 1.94s\tremaining: 4.3s\n",
      "311:\tlearn: 0.2212410\ttotal: 1.95s\tremaining: 4.29s\n",
      "312:\tlearn: 0.2212193\ttotal: 1.95s\tremaining: 4.28s\n",
      "313:\tlearn: 0.2211817\ttotal: 1.96s\tremaining: 4.28s\n",
      "314:\tlearn: 0.2211472\ttotal: 1.96s\tremaining: 4.27s\n",
      "315:\tlearn: 0.2211234\ttotal: 1.97s\tremaining: 4.27s\n",
      "316:\tlearn: 0.2211041\ttotal: 1.98s\tremaining: 4.26s\n",
      "317:\tlearn: 0.2210867\ttotal: 1.98s\tremaining: 4.25s\n",
      "318:\tlearn: 0.2210654\ttotal: 1.99s\tremaining: 4.24s\n",
      "319:\tlearn: 0.2210413\ttotal: 1.99s\tremaining: 4.23s\n",
      "320:\tlearn: 0.2210015\ttotal: 2s\tremaining: 4.23s\n",
      "321:\tlearn: 0.2209882\ttotal: 2s\tremaining: 4.22s\n",
      "322:\tlearn: 0.2209537\ttotal: 2.01s\tremaining: 4.21s\n",
      "323:\tlearn: 0.2209304\ttotal: 2.01s\tremaining: 4.2s\n",
      "324:\tlearn: 0.2209017\ttotal: 2.02s\tremaining: 4.2s\n",
      "325:\tlearn: 0.2208715\ttotal: 2.03s\tremaining: 4.19s\n",
      "326:\tlearn: 0.2208394\ttotal: 2.03s\tremaining: 4.18s\n",
      "327:\tlearn: 0.2208243\ttotal: 2.04s\tremaining: 4.18s\n",
      "328:\tlearn: 0.2207855\ttotal: 2.04s\tremaining: 4.17s\n",
      "329:\tlearn: 0.2207648\ttotal: 2.05s\tremaining: 4.16s\n",
      "330:\tlearn: 0.2207489\ttotal: 2.06s\tremaining: 4.15s\n",
      "331:\tlearn: 0.2207161\ttotal: 2.06s\tremaining: 4.15s\n",
      "332:\tlearn: 0.2206986\ttotal: 2.07s\tremaining: 4.14s\n",
      "333:\tlearn: 0.2206754\ttotal: 2.07s\tremaining: 4.14s\n",
      "334:\tlearn: 0.2206426\ttotal: 2.08s\tremaining: 4.13s\n",
      "335:\tlearn: 0.2206094\ttotal: 2.08s\tremaining: 4.12s\n",
      "336:\tlearn: 0.2205816\ttotal: 2.09s\tremaining: 4.11s\n",
      "337:\tlearn: 0.2205558\ttotal: 2.1s\tremaining: 4.1s\n",
      "338:\tlearn: 0.2205292\ttotal: 2.1s\tremaining: 4.1s\n",
      "339:\tlearn: 0.2205083\ttotal: 2.11s\tremaining: 4.09s\n",
      "340:\tlearn: 0.2204778\ttotal: 2.11s\tremaining: 4.08s\n",
      "341:\tlearn: 0.2204451\ttotal: 2.12s\tremaining: 4.08s\n",
      "342:\tlearn: 0.2204248\ttotal: 2.13s\tremaining: 4.08s\n",
      "343:\tlearn: 0.2203825\ttotal: 2.13s\tremaining: 4.07s\n",
      "344:\tlearn: 0.2203612\ttotal: 2.14s\tremaining: 4.06s\n",
      "345:\tlearn: 0.2203433\ttotal: 2.15s\tremaining: 4.06s\n",
      "346:\tlearn: 0.2203121\ttotal: 2.15s\tremaining: 4.05s\n",
      "347:\tlearn: 0.2202964\ttotal: 2.16s\tremaining: 4.04s\n",
      "348:\tlearn: 0.2202771\ttotal: 2.16s\tremaining: 4.04s\n",
      "349:\tlearn: 0.2202587\ttotal: 2.17s\tremaining: 4.03s\n",
      "350:\tlearn: 0.2202388\ttotal: 2.17s\tremaining: 4.02s\n",
      "351:\tlearn: 0.2202250\ttotal: 2.18s\tremaining: 4.01s\n",
      "352:\tlearn: 0.2202113\ttotal: 2.19s\tremaining: 4s\n",
      "353:\tlearn: 0.2201823\ttotal: 2.19s\tremaining: 4s\n",
      "354:\tlearn: 0.2201536\ttotal: 2.2s\tremaining: 3.99s\n",
      "355:\tlearn: 0.2201268\ttotal: 2.2s\tremaining: 3.98s\n",
      "356:\tlearn: 0.2201196\ttotal: 2.21s\tremaining: 3.98s\n",
      "357:\tlearn: 0.2200919\ttotal: 2.21s\tremaining: 3.97s\n",
      "358:\tlearn: 0.2200656\ttotal: 2.22s\tremaining: 3.96s\n",
      "359:\tlearn: 0.2200400\ttotal: 2.23s\tremaining: 3.96s\n",
      "360:\tlearn: 0.2200084\ttotal: 2.24s\tremaining: 3.96s\n",
      "361:\tlearn: 0.2199891\ttotal: 2.25s\tremaining: 3.96s\n",
      "362:\tlearn: 0.2199770\ttotal: 2.25s\tremaining: 3.95s\n",
      "363:\tlearn: 0.2199514\ttotal: 2.26s\tremaining: 3.95s\n",
      "364:\tlearn: 0.2199234\ttotal: 2.27s\tremaining: 3.95s\n",
      "365:\tlearn: 0.2198963\ttotal: 2.28s\tremaining: 3.94s\n",
      "366:\tlearn: 0.2198699\ttotal: 2.28s\tremaining: 3.94s\n",
      "367:\tlearn: 0.2198501\ttotal: 2.29s\tremaining: 3.93s\n",
      "368:\tlearn: 0.2198372\ttotal: 2.29s\tremaining: 3.92s\n",
      "369:\tlearn: 0.2198194\ttotal: 2.3s\tremaining: 3.91s\n",
      "370:\tlearn: 0.2198033\ttotal: 2.3s\tremaining: 3.91s\n",
      "371:\tlearn: 0.2197854\ttotal: 2.31s\tremaining: 3.9s\n",
      "372:\tlearn: 0.2197593\ttotal: 2.31s\tremaining: 3.89s\n",
      "373:\tlearn: 0.2197347\ttotal: 2.32s\tremaining: 3.88s\n",
      "374:\tlearn: 0.2197116\ttotal: 2.33s\tremaining: 3.88s\n",
      "375:\tlearn: 0.2196764\ttotal: 2.33s\tremaining: 3.87s\n",
      "376:\tlearn: 0.2196586\ttotal: 2.34s\tremaining: 3.87s\n",
      "377:\tlearn: 0.2196304\ttotal: 2.35s\tremaining: 3.87s\n",
      "378:\tlearn: 0.2196029\ttotal: 2.35s\tremaining: 3.86s\n",
      "379:\tlearn: 0.2195885\ttotal: 2.36s\tremaining: 3.85s\n",
      "380:\tlearn: 0.2195625\ttotal: 2.37s\tremaining: 3.85s\n",
      "381:\tlearn: 0.2195266\ttotal: 2.38s\tremaining: 3.85s\n",
      "382:\tlearn: 0.2194967\ttotal: 2.39s\tremaining: 3.85s\n",
      "383:\tlearn: 0.2194767\ttotal: 2.39s\tremaining: 3.84s\n",
      "384:\tlearn: 0.2194630\ttotal: 2.4s\tremaining: 3.83s\n",
      "385:\tlearn: 0.2194475\ttotal: 2.41s\tremaining: 3.83s\n",
      "386:\tlearn: 0.2194353\ttotal: 2.41s\tremaining: 3.82s\n",
      "387:\tlearn: 0.2194065\ttotal: 2.42s\tremaining: 3.81s\n",
      "388:\tlearn: 0.2193846\ttotal: 2.42s\tremaining: 3.81s\n",
      "389:\tlearn: 0.2193484\ttotal: 2.43s\tremaining: 3.8s\n",
      "390:\tlearn: 0.2193312\ttotal: 2.43s\tremaining: 3.79s\n",
      "391:\tlearn: 0.2193092\ttotal: 2.44s\tremaining: 3.78s\n",
      "392:\tlearn: 0.2192853\ttotal: 2.44s\tremaining: 3.78s\n",
      "393:\tlearn: 0.2192671\ttotal: 2.45s\tremaining: 3.77s\n",
      "394:\tlearn: 0.2192429\ttotal: 2.46s\tremaining: 3.76s\n",
      "395:\tlearn: 0.2192207\ttotal: 2.46s\tremaining: 3.75s\n",
      "396:\tlearn: 0.2192117\ttotal: 2.47s\tremaining: 3.75s\n",
      "397:\tlearn: 0.2191938\ttotal: 2.48s\tremaining: 3.74s\n",
      "398:\tlearn: 0.2191827\ttotal: 2.48s\tremaining: 3.74s\n",
      "399:\tlearn: 0.2191501\ttotal: 2.49s\tremaining: 3.73s\n",
      "400:\tlearn: 0.2191164\ttotal: 2.49s\tremaining: 3.72s\n",
      "401:\tlearn: 0.2190942\ttotal: 2.5s\tremaining: 3.71s\n",
      "402:\tlearn: 0.2190694\ttotal: 2.5s\tremaining: 3.71s\n",
      "403:\tlearn: 0.2190375\ttotal: 2.51s\tremaining: 3.7s\n",
      "404:\tlearn: 0.2190124\ttotal: 2.51s\tremaining: 3.69s\n",
      "405:\tlearn: 0.2189914\ttotal: 2.52s\tremaining: 3.68s\n",
      "406:\tlearn: 0.2189789\ttotal: 2.52s\tremaining: 3.67s\n",
      "407:\tlearn: 0.2189564\ttotal: 2.53s\tremaining: 3.67s\n",
      "408:\tlearn: 0.2189494\ttotal: 2.54s\tremaining: 3.66s\n",
      "409:\tlearn: 0.2189193\ttotal: 2.54s\tremaining: 3.65s\n",
      "410:\tlearn: 0.2188900\ttotal: 2.55s\tremaining: 3.65s\n",
      "411:\tlearn: 0.2188823\ttotal: 2.55s\tremaining: 3.64s\n",
      "412:\tlearn: 0.2188521\ttotal: 2.56s\tremaining: 3.63s\n",
      "413:\tlearn: 0.2188304\ttotal: 2.56s\tremaining: 3.63s\n",
      "414:\tlearn: 0.2188106\ttotal: 2.57s\tremaining: 3.62s\n",
      "415:\tlearn: 0.2187881\ttotal: 2.58s\tremaining: 3.62s\n",
      "416:\tlearn: 0.2187750\ttotal: 2.58s\tremaining: 3.61s\n",
      "417:\tlearn: 0.2187631\ttotal: 2.59s\tremaining: 3.6s\n",
      "418:\tlearn: 0.2187418\ttotal: 2.59s\tremaining: 3.6s\n",
      "419:\tlearn: 0.2187221\ttotal: 2.6s\tremaining: 3.59s\n",
      "420:\tlearn: 0.2187097\ttotal: 2.61s\tremaining: 3.59s\n",
      "421:\tlearn: 0.2187008\ttotal: 2.61s\tremaining: 3.58s\n",
      "422:\tlearn: 0.2186849\ttotal: 2.62s\tremaining: 3.57s\n",
      "423:\tlearn: 0.2186742\ttotal: 2.62s\tremaining: 3.56s\n",
      "424:\tlearn: 0.2186562\ttotal: 2.63s\tremaining: 3.56s\n",
      "425:\tlearn: 0.2186360\ttotal: 2.63s\tremaining: 3.55s\n",
      "426:\tlearn: 0.2186248\ttotal: 2.64s\tremaining: 3.54s\n",
      "427:\tlearn: 0.2185972\ttotal: 2.65s\tremaining: 3.54s\n",
      "428:\tlearn: 0.2185863\ttotal: 2.65s\tremaining: 3.53s\n",
      "429:\tlearn: 0.2185674\ttotal: 2.66s\tremaining: 3.53s\n",
      "430:\tlearn: 0.2185466\ttotal: 2.67s\tremaining: 3.52s\n",
      "431:\tlearn: 0.2185377\ttotal: 2.67s\tremaining: 3.52s\n",
      "432:\tlearn: 0.2185276\ttotal: 2.68s\tremaining: 3.51s\n",
      "433:\tlearn: 0.2185039\ttotal: 2.69s\tremaining: 3.5s\n",
      "434:\tlearn: 0.2184932\ttotal: 2.69s\tremaining: 3.5s\n",
      "435:\tlearn: 0.2184741\ttotal: 2.7s\tremaining: 3.49s\n",
      "436:\tlearn: 0.2184594\ttotal: 2.7s\tremaining: 3.48s\n",
      "437:\tlearn: 0.2184426\ttotal: 2.71s\tremaining: 3.48s\n",
      "438:\tlearn: 0.2184228\ttotal: 2.71s\tremaining: 3.47s\n",
      "439:\tlearn: 0.2184032\ttotal: 2.72s\tremaining: 3.46s\n",
      "440:\tlearn: 0.2183926\ttotal: 2.72s\tremaining: 3.45s\n",
      "441:\tlearn: 0.2183700\ttotal: 2.73s\tremaining: 3.45s\n",
      "442:\tlearn: 0.2183494\ttotal: 2.74s\tremaining: 3.44s\n",
      "443:\tlearn: 0.2183233\ttotal: 2.74s\tremaining: 3.44s\n",
      "444:\tlearn: 0.2183022\ttotal: 2.75s\tremaining: 3.43s\n",
      "445:\tlearn: 0.2182951\ttotal: 2.76s\tremaining: 3.42s\n",
      "446:\tlearn: 0.2182774\ttotal: 2.76s\tremaining: 3.42s\n",
      "447:\tlearn: 0.2182638\ttotal: 2.77s\tremaining: 3.41s\n",
      "448:\tlearn: 0.2182546\ttotal: 2.77s\tremaining: 3.4s\n",
      "449:\tlearn: 0.2182388\ttotal: 2.78s\tremaining: 3.39s\n",
      "450:\tlearn: 0.2182224\ttotal: 2.78s\tremaining: 3.39s\n",
      "451:\tlearn: 0.2181977\ttotal: 2.8s\tremaining: 3.4s\n",
      "452:\tlearn: 0.2181829\ttotal: 2.81s\tremaining: 3.39s\n",
      "453:\tlearn: 0.2181649\ttotal: 2.81s\tremaining: 3.38s\n",
      "454:\tlearn: 0.2181511\ttotal: 2.82s\tremaining: 3.38s\n",
      "455:\tlearn: 0.2181263\ttotal: 2.83s\tremaining: 3.37s\n",
      "456:\tlearn: 0.2181193\ttotal: 2.83s\tremaining: 3.37s\n",
      "457:\tlearn: 0.2180959\ttotal: 2.84s\tremaining: 3.36s\n",
      "458:\tlearn: 0.2180756\ttotal: 2.85s\tremaining: 3.35s\n",
      "459:\tlearn: 0.2180655\ttotal: 2.85s\tremaining: 3.35s\n",
      "460:\tlearn: 0.2180557\ttotal: 2.85s\tremaining: 3.34s\n",
      "461:\tlearn: 0.2180460\ttotal: 2.86s\tremaining: 3.33s\n",
      "462:\tlearn: 0.2180246\ttotal: 2.87s\tremaining: 3.32s\n",
      "463:\tlearn: 0.2180037\ttotal: 2.87s\tremaining: 3.32s\n",
      "464:\tlearn: 0.2179972\ttotal: 2.88s\tremaining: 3.31s\n",
      "465:\tlearn: 0.2179879\ttotal: 2.89s\tremaining: 3.31s\n",
      "466:\tlearn: 0.2179635\ttotal: 2.89s\tremaining: 3.3s\n",
      "467:\tlearn: 0.2179449\ttotal: 2.9s\tremaining: 3.29s\n",
      "468:\tlearn: 0.2179385\ttotal: 2.9s\tremaining: 3.29s\n",
      "469:\tlearn: 0.2179147\ttotal: 2.91s\tremaining: 3.28s\n",
      "470:\tlearn: 0.2179056\ttotal: 2.92s\tremaining: 3.28s\n",
      "471:\tlearn: 0.2178970\ttotal: 2.92s\tremaining: 3.27s\n",
      "472:\tlearn: 0.2178746\ttotal: 2.93s\tremaining: 3.26s\n",
      "473:\tlearn: 0.2178650\ttotal: 2.94s\tremaining: 3.26s\n",
      "474:\tlearn: 0.2178467\ttotal: 2.94s\tremaining: 3.25s\n",
      "475:\tlearn: 0.2178378\ttotal: 2.95s\tremaining: 3.24s\n",
      "476:\tlearn: 0.2178255\ttotal: 2.95s\tremaining: 3.24s\n",
      "477:\tlearn: 0.2178024\ttotal: 2.96s\tremaining: 3.23s\n",
      "478:\tlearn: 0.2177790\ttotal: 2.97s\tremaining: 3.23s\n",
      "479:\tlearn: 0.2177731\ttotal: 2.97s\tremaining: 3.22s\n",
      "480:\tlearn: 0.2177638\ttotal: 2.98s\tremaining: 3.21s\n",
      "481:\tlearn: 0.2177513\ttotal: 2.98s\tremaining: 3.21s\n",
      "482:\tlearn: 0.2177308\ttotal: 2.99s\tremaining: 3.2s\n",
      "483:\tlearn: 0.2177130\ttotal: 3s\tremaining: 3.19s\n",
      "484:\tlearn: 0.2177052\ttotal: 3s\tremaining: 3.19s\n",
      "485:\tlearn: 0.2176879\ttotal: 3.01s\tremaining: 3.18s\n",
      "486:\tlearn: 0.2176680\ttotal: 3.01s\tremaining: 3.17s\n",
      "487:\tlearn: 0.2176333\ttotal: 3.02s\tremaining: 3.17s\n",
      "488:\tlearn: 0.2176218\ttotal: 3.02s\tremaining: 3.16s\n",
      "489:\tlearn: 0.2176163\ttotal: 3.03s\tremaining: 3.15s\n",
      "490:\tlearn: 0.2176081\ttotal: 3.03s\tremaining: 3.14s\n",
      "491:\tlearn: 0.2175915\ttotal: 3.04s\tremaining: 3.14s\n",
      "492:\tlearn: 0.2175836\ttotal: 3.04s\tremaining: 3.13s\n",
      "493:\tlearn: 0.2175677\ttotal: 3.05s\tremaining: 3.13s\n",
      "494:\tlearn: 0.2175475\ttotal: 3.06s\tremaining: 3.12s\n",
      "495:\tlearn: 0.2175381\ttotal: 3.06s\tremaining: 3.11s\n",
      "496:\tlearn: 0.2175150\ttotal: 3.07s\tremaining: 3.11s\n",
      "497:\tlearn: 0.2174917\ttotal: 3.08s\tremaining: 3.1s\n",
      "498:\tlearn: 0.2174771\ttotal: 3.08s\tremaining: 3.1s\n",
      "499:\tlearn: 0.2174562\ttotal: 3.09s\tremaining: 3.09s\n",
      "500:\tlearn: 0.2174369\ttotal: 3.1s\tremaining: 3.08s\n",
      "501:\tlearn: 0.2174139\ttotal: 3.1s\tremaining: 3.08s\n",
      "502:\tlearn: 0.2174010\ttotal: 3.11s\tremaining: 3.07s\n",
      "503:\tlearn: 0.2173933\ttotal: 3.11s\tremaining: 3.06s\n",
      "504:\tlearn: 0.2173701\ttotal: 3.12s\tremaining: 3.06s\n",
      "505:\tlearn: 0.2173649\ttotal: 3.13s\tremaining: 3.05s\n",
      "506:\tlearn: 0.2173489\ttotal: 3.13s\tremaining: 3.04s\n",
      "507:\tlearn: 0.2173276\ttotal: 3.14s\tremaining: 3.04s\n",
      "508:\tlearn: 0.2173129\ttotal: 3.14s\tremaining: 3.03s\n",
      "509:\tlearn: 0.2172814\ttotal: 3.15s\tremaining: 3.02s\n",
      "510:\tlearn: 0.2172615\ttotal: 3.15s\tremaining: 3.02s\n",
      "511:\tlearn: 0.2172499\ttotal: 3.16s\tremaining: 3.01s\n",
      "512:\tlearn: 0.2172332\ttotal: 3.17s\tremaining: 3s\n",
      "513:\tlearn: 0.2172205\ttotal: 3.17s\tremaining: 3s\n",
      "514:\tlearn: 0.2172154\ttotal: 3.18s\tremaining: 2.99s\n",
      "515:\tlearn: 0.2171850\ttotal: 3.18s\tremaining: 2.98s\n",
      "516:\tlearn: 0.2171634\ttotal: 3.19s\tremaining: 2.98s\n",
      "517:\tlearn: 0.2171457\ttotal: 3.19s\tremaining: 2.97s\n",
      "518:\tlearn: 0.2171374\ttotal: 3.2s\tremaining: 2.96s\n",
      "519:\tlearn: 0.2171080\ttotal: 3.2s\tremaining: 2.96s\n",
      "520:\tlearn: 0.2171007\ttotal: 3.21s\tremaining: 2.95s\n",
      "521:\tlearn: 0.2170810\ttotal: 3.21s\tremaining: 2.94s\n",
      "522:\tlearn: 0.2170732\ttotal: 3.22s\tremaining: 2.94s\n",
      "523:\tlearn: 0.2170493\ttotal: 3.22s\tremaining: 2.93s\n",
      "524:\tlearn: 0.2170359\ttotal: 3.23s\tremaining: 2.92s\n",
      "525:\tlearn: 0.2170081\ttotal: 3.23s\tremaining: 2.92s\n",
      "526:\tlearn: 0.2169945\ttotal: 3.24s\tremaining: 2.91s\n",
      "527:\tlearn: 0.2169867\ttotal: 3.25s\tremaining: 2.9s\n",
      "528:\tlearn: 0.2169668\ttotal: 3.25s\tremaining: 2.9s\n",
      "529:\tlearn: 0.2169457\ttotal: 3.26s\tremaining: 2.89s\n",
      "530:\tlearn: 0.2169299\ttotal: 3.26s\tremaining: 2.88s\n",
      "531:\tlearn: 0.2169113\ttotal: 3.27s\tremaining: 2.87s\n",
      "532:\tlearn: 0.2169066\ttotal: 3.27s\tremaining: 2.87s\n",
      "533:\tlearn: 0.2168850\ttotal: 3.28s\tremaining: 2.86s\n",
      "534:\tlearn: 0.2168776\ttotal: 3.28s\tremaining: 2.85s\n",
      "535:\tlearn: 0.2168549\ttotal: 3.29s\tremaining: 2.85s\n",
      "536:\tlearn: 0.2168385\ttotal: 3.3s\tremaining: 2.84s\n",
      "537:\tlearn: 0.2168317\ttotal: 3.3s\tremaining: 2.83s\n",
      "538:\tlearn: 0.2168128\ttotal: 3.31s\tremaining: 2.83s\n",
      "539:\tlearn: 0.2167945\ttotal: 3.31s\tremaining: 2.82s\n",
      "540:\tlearn: 0.2167878\ttotal: 3.32s\tremaining: 2.81s\n",
      "541:\tlearn: 0.2167660\ttotal: 3.32s\tremaining: 2.81s\n",
      "542:\tlearn: 0.2167482\ttotal: 3.33s\tremaining: 2.8s\n",
      "543:\tlearn: 0.2167332\ttotal: 3.33s\tremaining: 2.79s\n",
      "544:\tlearn: 0.2167268\ttotal: 3.34s\tremaining: 2.79s\n",
      "545:\tlearn: 0.2167016\ttotal: 3.35s\tremaining: 2.78s\n",
      "546:\tlearn: 0.2166937\ttotal: 3.35s\tremaining: 2.78s\n",
      "547:\tlearn: 0.2166869\ttotal: 3.36s\tremaining: 2.77s\n",
      "548:\tlearn: 0.2166686\ttotal: 3.37s\tremaining: 2.77s\n",
      "549:\tlearn: 0.2166472\ttotal: 3.37s\tremaining: 2.76s\n",
      "550:\tlearn: 0.2166339\ttotal: 3.38s\tremaining: 2.76s\n",
      "551:\tlearn: 0.2166125\ttotal: 3.39s\tremaining: 2.75s\n",
      "552:\tlearn: 0.2166038\ttotal: 3.39s\tremaining: 2.74s\n",
      "553:\tlearn: 0.2165839\ttotal: 3.4s\tremaining: 2.74s\n",
      "554:\tlearn: 0.2165706\ttotal: 3.4s\tremaining: 2.73s\n",
      "555:\tlearn: 0.2165530\ttotal: 3.41s\tremaining: 2.72s\n",
      "556:\tlearn: 0.2165351\ttotal: 3.42s\tremaining: 2.72s\n",
      "557:\tlearn: 0.2165124\ttotal: 3.42s\tremaining: 2.71s\n",
      "558:\tlearn: 0.2165063\ttotal: 3.43s\tremaining: 2.7s\n",
      "559:\tlearn: 0.2164998\ttotal: 3.43s\tremaining: 2.7s\n",
      "560:\tlearn: 0.2164774\ttotal: 3.44s\tremaining: 2.69s\n",
      "561:\tlearn: 0.2164512\ttotal: 3.44s\tremaining: 2.69s\n",
      "562:\tlearn: 0.2164302\ttotal: 3.45s\tremaining: 2.68s\n",
      "563:\tlearn: 0.2164228\ttotal: 3.45s\tremaining: 2.67s\n",
      "564:\tlearn: 0.2164170\ttotal: 3.46s\tremaining: 2.67s\n",
      "565:\tlearn: 0.2163996\ttotal: 3.47s\tremaining: 2.66s\n",
      "566:\tlearn: 0.2163894\ttotal: 3.47s\tremaining: 2.65s\n",
      "567:\tlearn: 0.2163727\ttotal: 3.48s\tremaining: 2.65s\n",
      "568:\tlearn: 0.2163589\ttotal: 3.49s\tremaining: 2.64s\n",
      "569:\tlearn: 0.2163464\ttotal: 3.49s\tremaining: 2.63s\n",
      "570:\tlearn: 0.2163355\ttotal: 3.5s\tremaining: 2.63s\n",
      "571:\tlearn: 0.2163185\ttotal: 3.5s\tremaining: 2.62s\n",
      "572:\tlearn: 0.2162820\ttotal: 3.51s\tremaining: 2.62s\n",
      "573:\tlearn: 0.2162638\ttotal: 3.51s\tremaining: 2.61s\n",
      "574:\tlearn: 0.2162487\ttotal: 3.52s\tremaining: 2.6s\n",
      "575:\tlearn: 0.2162312\ttotal: 3.52s\tremaining: 2.59s\n",
      "576:\tlearn: 0.2162082\ttotal: 3.53s\tremaining: 2.59s\n",
      "577:\tlearn: 0.2161876\ttotal: 3.54s\tremaining: 2.58s\n",
      "578:\tlearn: 0.2161824\ttotal: 3.54s\tremaining: 2.58s\n",
      "579:\tlearn: 0.2161757\ttotal: 3.55s\tremaining: 2.57s\n",
      "580:\tlearn: 0.2161534\ttotal: 3.55s\tremaining: 2.56s\n",
      "581:\tlearn: 0.2161417\ttotal: 3.56s\tremaining: 2.56s\n",
      "582:\tlearn: 0.2161255\ttotal: 3.57s\tremaining: 2.55s\n",
      "583:\tlearn: 0.2161116\ttotal: 3.58s\tremaining: 2.55s\n",
      "584:\tlearn: 0.2161060\ttotal: 3.59s\tremaining: 2.54s\n",
      "585:\tlearn: 0.2160937\ttotal: 3.59s\tremaining: 2.54s\n",
      "586:\tlearn: 0.2160882\ttotal: 3.6s\tremaining: 2.53s\n",
      "587:\tlearn: 0.2160834\ttotal: 3.6s\tremaining: 2.52s\n",
      "588:\tlearn: 0.2160671\ttotal: 3.61s\tremaining: 2.52s\n",
      "589:\tlearn: 0.2160470\ttotal: 3.61s\tremaining: 2.51s\n",
      "590:\tlearn: 0.2160309\ttotal: 3.62s\tremaining: 2.5s\n",
      "591:\tlearn: 0.2160150\ttotal: 3.63s\tremaining: 2.5s\n",
      "592:\tlearn: 0.2159974\ttotal: 3.63s\tremaining: 2.49s\n",
      "593:\tlearn: 0.2159807\ttotal: 3.63s\tremaining: 2.48s\n",
      "594:\tlearn: 0.2159701\ttotal: 3.64s\tremaining: 2.48s\n",
      "595:\tlearn: 0.2159648\ttotal: 3.65s\tremaining: 2.47s\n",
      "596:\tlearn: 0.2159597\ttotal: 3.65s\tremaining: 2.46s\n",
      "597:\tlearn: 0.2159468\ttotal: 3.65s\tremaining: 2.46s\n",
      "598:\tlearn: 0.2159400\ttotal: 3.66s\tremaining: 2.45s\n",
      "599:\tlearn: 0.2159158\ttotal: 3.67s\tremaining: 2.44s\n",
      "600:\tlearn: 0.2158926\ttotal: 3.67s\tremaining: 2.44s\n",
      "601:\tlearn: 0.2158688\ttotal: 3.67s\tremaining: 2.43s\n",
      "602:\tlearn: 0.2158491\ttotal: 3.68s\tremaining: 2.42s\n",
      "603:\tlearn: 0.2158280\ttotal: 3.69s\tremaining: 2.42s\n",
      "604:\tlearn: 0.2158104\ttotal: 3.69s\tremaining: 2.41s\n",
      "605:\tlearn: 0.2157757\ttotal: 3.7s\tremaining: 2.4s\n",
      "606:\tlearn: 0.2157544\ttotal: 3.7s\tremaining: 2.4s\n",
      "607:\tlearn: 0.2157353\ttotal: 3.71s\tremaining: 2.39s\n",
      "608:\tlearn: 0.2157150\ttotal: 3.71s\tremaining: 2.38s\n",
      "609:\tlearn: 0.2157099\ttotal: 3.71s\tremaining: 2.38s\n",
      "610:\tlearn: 0.2156964\ttotal: 3.72s\tremaining: 2.37s\n",
      "611:\tlearn: 0.2156811\ttotal: 3.73s\tremaining: 2.36s\n",
      "612:\tlearn: 0.2156664\ttotal: 3.73s\tremaining: 2.35s\n",
      "613:\tlearn: 0.2156509\ttotal: 3.74s\tremaining: 2.35s\n",
      "614:\tlearn: 0.2156460\ttotal: 3.74s\tremaining: 2.34s\n",
      "615:\tlearn: 0.2156347\ttotal: 3.75s\tremaining: 2.33s\n",
      "616:\tlearn: 0.2156142\ttotal: 3.75s\tremaining: 2.33s\n",
      "617:\tlearn: 0.2155978\ttotal: 3.75s\tremaining: 2.32s\n",
      "618:\tlearn: 0.2155846\ttotal: 3.76s\tremaining: 2.31s\n",
      "619:\tlearn: 0.2155810\ttotal: 3.76s\tremaining: 2.31s\n",
      "620:\tlearn: 0.2155705\ttotal: 3.77s\tremaining: 2.3s\n",
      "621:\tlearn: 0.2155658\ttotal: 3.77s\tremaining: 2.29s\n",
      "622:\tlearn: 0.2155456\ttotal: 3.78s\tremaining: 2.29s\n",
      "623:\tlearn: 0.2155329\ttotal: 3.78s\tremaining: 2.28s\n",
      "624:\tlearn: 0.2155181\ttotal: 3.78s\tremaining: 2.27s\n",
      "625:\tlearn: 0.2155127\ttotal: 3.79s\tremaining: 2.26s\n",
      "626:\tlearn: 0.2155082\ttotal: 3.79s\tremaining: 2.26s\n",
      "627:\tlearn: 0.2154922\ttotal: 3.8s\tremaining: 2.25s\n",
      "628:\tlearn: 0.2154842\ttotal: 3.8s\tremaining: 2.24s\n",
      "629:\tlearn: 0.2154676\ttotal: 3.81s\tremaining: 2.23s\n",
      "630:\tlearn: 0.2154633\ttotal: 3.81s\tremaining: 2.23s\n",
      "631:\tlearn: 0.2154601\ttotal: 3.82s\tremaining: 2.22s\n",
      "632:\tlearn: 0.2154516\ttotal: 3.82s\tremaining: 2.21s\n",
      "633:\tlearn: 0.2154456\ttotal: 3.83s\tremaining: 2.21s\n",
      "634:\tlearn: 0.2154313\ttotal: 3.83s\tremaining: 2.2s\n",
      "635:\tlearn: 0.2154122\ttotal: 3.83s\tremaining: 2.19s\n",
      "636:\tlearn: 0.2154079\ttotal: 3.84s\tremaining: 2.19s\n",
      "637:\tlearn: 0.2153910\ttotal: 3.84s\tremaining: 2.18s\n",
      "638:\tlearn: 0.2153717\ttotal: 3.84s\tremaining: 2.17s\n",
      "639:\tlearn: 0.2153594\ttotal: 3.85s\tremaining: 2.17s\n",
      "640:\tlearn: 0.2153431\ttotal: 3.85s\tremaining: 2.16s\n",
      "641:\tlearn: 0.2153250\ttotal: 3.86s\tremaining: 2.15s\n",
      "642:\tlearn: 0.2153126\ttotal: 3.86s\tremaining: 2.14s\n",
      "643:\tlearn: 0.2152893\ttotal: 3.87s\tremaining: 2.14s\n",
      "644:\tlearn: 0.2152755\ttotal: 3.87s\tremaining: 2.13s\n",
      "645:\tlearn: 0.2152633\ttotal: 3.87s\tremaining: 2.12s\n",
      "646:\tlearn: 0.2152520\ttotal: 3.88s\tremaining: 2.12s\n",
      "647:\tlearn: 0.2152317\ttotal: 3.88s\tremaining: 2.11s\n",
      "648:\tlearn: 0.2152140\ttotal: 3.88s\tremaining: 2.1s\n",
      "649:\tlearn: 0.2152020\ttotal: 3.89s\tremaining: 2.09s\n",
      "650:\tlearn: 0.2151809\ttotal: 3.89s\tremaining: 2.09s\n",
      "651:\tlearn: 0.2151608\ttotal: 3.9s\tremaining: 2.08s\n",
      "652:\tlearn: 0.2151441\ttotal: 3.9s\tremaining: 2.07s\n",
      "653:\tlearn: 0.2151230\ttotal: 3.91s\tremaining: 2.07s\n",
      "654:\tlearn: 0.2151074\ttotal: 3.91s\tremaining: 2.06s\n",
      "655:\tlearn: 0.2150884\ttotal: 3.91s\tremaining: 2.05s\n",
      "656:\tlearn: 0.2150725\ttotal: 3.92s\tremaining: 2.04s\n",
      "657:\tlearn: 0.2150697\ttotal: 3.92s\tremaining: 2.04s\n",
      "658:\tlearn: 0.2150547\ttotal: 3.93s\tremaining: 2.03s\n",
      "659:\tlearn: 0.2150431\ttotal: 3.93s\tremaining: 2.02s\n",
      "660:\tlearn: 0.2150233\ttotal: 3.93s\tremaining: 2.02s\n",
      "661:\tlearn: 0.2150200\ttotal: 3.94s\tremaining: 2.01s\n",
      "662:\tlearn: 0.2150030\ttotal: 3.94s\tremaining: 2s\n",
      "663:\tlearn: 0.2149903\ttotal: 3.95s\tremaining: 2s\n",
      "664:\tlearn: 0.2149722\ttotal: 3.95s\tremaining: 1.99s\n",
      "665:\tlearn: 0.2149564\ttotal: 3.95s\tremaining: 1.98s\n",
      "666:\tlearn: 0.2149398\ttotal: 3.96s\tremaining: 1.98s\n",
      "667:\tlearn: 0.2149217\ttotal: 3.96s\tremaining: 1.97s\n",
      "668:\tlearn: 0.2149007\ttotal: 3.97s\tremaining: 1.96s\n",
      "669:\tlearn: 0.2148863\ttotal: 3.97s\tremaining: 1.96s\n",
      "670:\tlearn: 0.2148772\ttotal: 3.98s\tremaining: 1.95s\n",
      "671:\tlearn: 0.2148554\ttotal: 3.98s\tremaining: 1.94s\n",
      "672:\tlearn: 0.2148432\ttotal: 3.98s\tremaining: 1.94s\n",
      "673:\tlearn: 0.2148235\ttotal: 3.99s\tremaining: 1.93s\n",
      "674:\tlearn: 0.2148125\ttotal: 3.99s\tremaining: 1.92s\n",
      "675:\tlearn: 0.2147939\ttotal: 4s\tremaining: 1.92s\n",
      "676:\tlearn: 0.2147784\ttotal: 4.01s\tremaining: 1.91s\n",
      "677:\tlearn: 0.2147642\ttotal: 4.01s\tremaining: 1.91s\n",
      "678:\tlearn: 0.2147538\ttotal: 4.01s\tremaining: 1.9s\n",
      "679:\tlearn: 0.2147507\ttotal: 4.02s\tremaining: 1.89s\n",
      "680:\tlearn: 0.2147356\ttotal: 4.02s\tremaining: 1.89s\n",
      "681:\tlearn: 0.2147158\ttotal: 4.03s\tremaining: 1.88s\n",
      "682:\tlearn: 0.2147129\ttotal: 4.03s\tremaining: 1.87s\n",
      "683:\tlearn: 0.2146944\ttotal: 4.04s\tremaining: 1.86s\n",
      "684:\tlearn: 0.2146919\ttotal: 4.04s\tremaining: 1.86s\n",
      "685:\tlearn: 0.2146839\ttotal: 4.05s\tremaining: 1.85s\n",
      "686:\tlearn: 0.2146669\ttotal: 4.05s\tremaining: 1.85s\n",
      "687:\tlearn: 0.2146489\ttotal: 4.06s\tremaining: 1.84s\n",
      "688:\tlearn: 0.2146178\ttotal: 4.06s\tremaining: 1.83s\n",
      "689:\tlearn: 0.2146105\ttotal: 4.07s\tremaining: 1.83s\n",
      "690:\tlearn: 0.2146065\ttotal: 4.07s\tremaining: 1.82s\n",
      "691:\tlearn: 0.2145922\ttotal: 4.08s\tremaining: 1.81s\n",
      "692:\tlearn: 0.2145738\ttotal: 4.08s\tremaining: 1.81s\n",
      "693:\tlearn: 0.2145569\ttotal: 4.09s\tremaining: 1.8s\n",
      "694:\tlearn: 0.2145401\ttotal: 4.09s\tremaining: 1.79s\n",
      "695:\tlearn: 0.2145285\ttotal: 4.09s\tremaining: 1.79s\n",
      "696:\tlearn: 0.2145167\ttotal: 4.1s\tremaining: 1.78s\n",
      "697:\tlearn: 0.2144975\ttotal: 4.11s\tremaining: 1.78s\n",
      "698:\tlearn: 0.2144682\ttotal: 4.11s\tremaining: 1.77s\n",
      "699:\tlearn: 0.2144540\ttotal: 4.12s\tremaining: 1.76s\n",
      "700:\tlearn: 0.2144404\ttotal: 4.12s\tremaining: 1.76s\n",
      "701:\tlearn: 0.2144232\ttotal: 4.13s\tremaining: 1.75s\n",
      "702:\tlearn: 0.2144105\ttotal: 4.13s\tremaining: 1.75s\n",
      "703:\tlearn: 0.2143995\ttotal: 4.14s\tremaining: 1.74s\n",
      "704:\tlearn: 0.2143846\ttotal: 4.14s\tremaining: 1.73s\n",
      "705:\tlearn: 0.2143786\ttotal: 4.14s\tremaining: 1.73s\n",
      "706:\tlearn: 0.2143537\ttotal: 4.15s\tremaining: 1.72s\n",
      "707:\tlearn: 0.2143382\ttotal: 4.15s\tremaining: 1.71s\n",
      "708:\tlearn: 0.2143342\ttotal: 4.16s\tremaining: 1.71s\n",
      "709:\tlearn: 0.2143181\ttotal: 4.16s\tremaining: 1.7s\n",
      "710:\tlearn: 0.2142970\ttotal: 4.17s\tremaining: 1.69s\n",
      "711:\tlearn: 0.2142838\ttotal: 4.17s\tremaining: 1.69s\n",
      "712:\tlearn: 0.2142604\ttotal: 4.18s\tremaining: 1.68s\n",
      "713:\tlearn: 0.2142559\ttotal: 4.18s\tremaining: 1.68s\n",
      "714:\tlearn: 0.2142520\ttotal: 4.19s\tremaining: 1.67s\n",
      "715:\tlearn: 0.2142401\ttotal: 4.2s\tremaining: 1.66s\n",
      "716:\tlearn: 0.2142227\ttotal: 4.2s\tremaining: 1.66s\n",
      "717:\tlearn: 0.2142101\ttotal: 4.2s\tremaining: 1.65s\n",
      "718:\tlearn: 0.2142064\ttotal: 4.21s\tremaining: 1.65s\n",
      "719:\tlearn: 0.2141930\ttotal: 4.21s\tremaining: 1.64s\n",
      "720:\tlearn: 0.2141820\ttotal: 4.22s\tremaining: 1.63s\n",
      "721:\tlearn: 0.2141791\ttotal: 4.22s\tremaining: 1.63s\n",
      "722:\tlearn: 0.2141673\ttotal: 4.23s\tremaining: 1.62s\n",
      "723:\tlearn: 0.2141574\ttotal: 4.23s\tremaining: 1.61s\n",
      "724:\tlearn: 0.2141409\ttotal: 4.24s\tremaining: 1.61s\n",
      "725:\tlearn: 0.2141365\ttotal: 4.24s\tremaining: 1.6s\n",
      "726:\tlearn: 0.2141340\ttotal: 4.24s\tremaining: 1.59s\n",
      "727:\tlearn: 0.2141205\ttotal: 4.25s\tremaining: 1.59s\n",
      "728:\tlearn: 0.2141135\ttotal: 4.25s\tremaining: 1.58s\n",
      "729:\tlearn: 0.2140990\ttotal: 4.26s\tremaining: 1.57s\n",
      "730:\tlearn: 0.2140805\ttotal: 4.26s\tremaining: 1.57s\n",
      "731:\tlearn: 0.2140667\ttotal: 4.27s\tremaining: 1.56s\n",
      "732:\tlearn: 0.2140471\ttotal: 4.27s\tremaining: 1.55s\n",
      "733:\tlearn: 0.2140345\ttotal: 4.27s\tremaining: 1.55s\n",
      "734:\tlearn: 0.2140126\ttotal: 4.28s\tremaining: 1.54s\n",
      "735:\tlearn: 0.2139944\ttotal: 4.28s\tremaining: 1.54s\n",
      "736:\tlearn: 0.2139725\ttotal: 4.29s\tremaining: 1.53s\n",
      "737:\tlearn: 0.2139662\ttotal: 4.29s\tremaining: 1.52s\n",
      "738:\tlearn: 0.2139469\ttotal: 4.29s\tremaining: 1.52s\n",
      "739:\tlearn: 0.2139315\ttotal: 4.3s\tremaining: 1.51s\n",
      "740:\tlearn: 0.2139173\ttotal: 4.3s\tremaining: 1.5s\n",
      "741:\tlearn: 0.2139140\ttotal: 4.31s\tremaining: 1.5s\n",
      "742:\tlearn: 0.2139007\ttotal: 4.31s\tremaining: 1.49s\n",
      "743:\tlearn: 0.2138838\ttotal: 4.32s\tremaining: 1.49s\n",
      "744:\tlearn: 0.2138683\ttotal: 4.32s\tremaining: 1.48s\n",
      "745:\tlearn: 0.2138642\ttotal: 4.33s\tremaining: 1.47s\n",
      "746:\tlearn: 0.2138484\ttotal: 4.33s\tremaining: 1.47s\n",
      "747:\tlearn: 0.2138392\ttotal: 4.33s\tremaining: 1.46s\n",
      "748:\tlearn: 0.2138308\ttotal: 4.34s\tremaining: 1.45s\n",
      "749:\tlearn: 0.2138124\ttotal: 4.34s\tremaining: 1.45s\n",
      "750:\tlearn: 0.2137979\ttotal: 4.35s\tremaining: 1.44s\n",
      "751:\tlearn: 0.2137822\ttotal: 4.35s\tremaining: 1.44s\n",
      "752:\tlearn: 0.2137673\ttotal: 4.36s\tremaining: 1.43s\n",
      "753:\tlearn: 0.2137550\ttotal: 4.36s\tremaining: 1.42s\n",
      "754:\tlearn: 0.2137491\ttotal: 4.37s\tremaining: 1.42s\n",
      "755:\tlearn: 0.2137339\ttotal: 4.37s\tremaining: 1.41s\n",
      "756:\tlearn: 0.2137203\ttotal: 4.38s\tremaining: 1.41s\n",
      "757:\tlearn: 0.2137064\ttotal: 4.38s\tremaining: 1.4s\n",
      "758:\tlearn: 0.2137029\ttotal: 4.39s\tremaining: 1.39s\n",
      "759:\tlearn: 0.2136989\ttotal: 4.39s\tremaining: 1.39s\n",
      "760:\tlearn: 0.2136836\ttotal: 4.39s\tremaining: 1.38s\n",
      "761:\tlearn: 0.2136662\ttotal: 4.4s\tremaining: 1.37s\n",
      "762:\tlearn: 0.2136512\ttotal: 4.4s\tremaining: 1.37s\n",
      "763:\tlearn: 0.2136399\ttotal: 4.41s\tremaining: 1.36s\n",
      "764:\tlearn: 0.2136366\ttotal: 4.41s\tremaining: 1.35s\n",
      "765:\tlearn: 0.2136101\ttotal: 4.42s\tremaining: 1.35s\n",
      "766:\tlearn: 0.2135928\ttotal: 4.42s\tremaining: 1.34s\n",
      "767:\tlearn: 0.2135791\ttotal: 4.42s\tremaining: 1.34s\n",
      "768:\tlearn: 0.2135756\ttotal: 4.43s\tremaining: 1.33s\n",
      "769:\tlearn: 0.2135556\ttotal: 4.43s\tremaining: 1.32s\n",
      "770:\tlearn: 0.2135434\ttotal: 4.44s\tremaining: 1.32s\n",
      "771:\tlearn: 0.2135310\ttotal: 4.44s\tremaining: 1.31s\n",
      "772:\tlearn: 0.2135078\ttotal: 4.44s\tremaining: 1.3s\n",
      "773:\tlearn: 0.2134916\ttotal: 4.45s\tremaining: 1.3s\n",
      "774:\tlearn: 0.2134788\ttotal: 4.45s\tremaining: 1.29s\n",
      "775:\tlearn: 0.2134628\ttotal: 4.46s\tremaining: 1.29s\n",
      "776:\tlearn: 0.2134428\ttotal: 4.46s\tremaining: 1.28s\n",
      "777:\tlearn: 0.2134300\ttotal: 4.46s\tremaining: 1.27s\n",
      "778:\tlearn: 0.2134216\ttotal: 4.47s\tremaining: 1.27s\n",
      "779:\tlearn: 0.2134033\ttotal: 4.47s\tremaining: 1.26s\n",
      "780:\tlearn: 0.2133952\ttotal: 4.48s\tremaining: 1.25s\n",
      "781:\tlearn: 0.2133730\ttotal: 4.48s\tremaining: 1.25s\n",
      "782:\tlearn: 0.2133549\ttotal: 4.49s\tremaining: 1.24s\n",
      "783:\tlearn: 0.2133517\ttotal: 4.49s\tremaining: 1.24s\n",
      "784:\tlearn: 0.2133482\ttotal: 4.5s\tremaining: 1.23s\n",
      "785:\tlearn: 0.2133260\ttotal: 4.5s\tremaining: 1.23s\n",
      "786:\tlearn: 0.2133152\ttotal: 4.5s\tremaining: 1.22s\n",
      "787:\tlearn: 0.2133073\ttotal: 4.51s\tremaining: 1.21s\n",
      "788:\tlearn: 0.2132932\ttotal: 4.51s\tremaining: 1.21s\n",
      "789:\tlearn: 0.2132897\ttotal: 4.51s\tremaining: 1.2s\n",
      "790:\tlearn: 0.2132754\ttotal: 4.52s\tremaining: 1.19s\n",
      "791:\tlearn: 0.2132581\ttotal: 4.52s\tremaining: 1.19s\n",
      "792:\tlearn: 0.2132505\ttotal: 4.53s\tremaining: 1.18s\n",
      "793:\tlearn: 0.2132393\ttotal: 4.53s\tremaining: 1.18s\n",
      "794:\tlearn: 0.2132179\ttotal: 4.54s\tremaining: 1.17s\n",
      "795:\tlearn: 0.2132069\ttotal: 4.54s\tremaining: 1.16s\n",
      "796:\tlearn: 0.2131902\ttotal: 4.54s\tremaining: 1.16s\n",
      "797:\tlearn: 0.2131756\ttotal: 4.55s\tremaining: 1.15s\n",
      "798:\tlearn: 0.2131726\ttotal: 4.55s\tremaining: 1.15s\n",
      "799:\tlearn: 0.2131582\ttotal: 4.56s\tremaining: 1.14s\n",
      "800:\tlearn: 0.2131444\ttotal: 4.56s\tremaining: 1.13s\n",
      "801:\tlearn: 0.2131314\ttotal: 4.56s\tremaining: 1.13s\n",
      "802:\tlearn: 0.2131113\ttotal: 4.57s\tremaining: 1.12s\n",
      "803:\tlearn: 0.2130985\ttotal: 4.57s\tremaining: 1.11s\n",
      "804:\tlearn: 0.2130880\ttotal: 4.58s\tremaining: 1.11s\n",
      "805:\tlearn: 0.2130745\ttotal: 4.58s\tremaining: 1.1s\n",
      "806:\tlearn: 0.2130611\ttotal: 4.58s\tremaining: 1.1s\n",
      "807:\tlearn: 0.2130494\ttotal: 4.59s\tremaining: 1.09s\n",
      "808:\tlearn: 0.2130286\ttotal: 4.59s\tremaining: 1.08s\n",
      "809:\tlearn: 0.2130186\ttotal: 4.6s\tremaining: 1.08s\n",
      "810:\tlearn: 0.2129964\ttotal: 4.6s\tremaining: 1.07s\n",
      "811:\tlearn: 0.2129941\ttotal: 4.61s\tremaining: 1.07s\n",
      "812:\tlearn: 0.2129775\ttotal: 4.61s\tremaining: 1.06s\n",
      "813:\tlearn: 0.2129651\ttotal: 4.62s\tremaining: 1.05s\n",
      "814:\tlearn: 0.2129503\ttotal: 4.62s\tremaining: 1.05s\n",
      "815:\tlearn: 0.2129386\ttotal: 4.63s\tremaining: 1.04s\n",
      "816:\tlearn: 0.2129298\ttotal: 4.63s\tremaining: 1.04s\n",
      "817:\tlearn: 0.2129152\ttotal: 4.64s\tremaining: 1.03s\n",
      "818:\tlearn: 0.2128997\ttotal: 4.64s\tremaining: 1.02s\n",
      "819:\tlearn: 0.2128902\ttotal: 4.65s\tremaining: 1.02s\n",
      "820:\tlearn: 0.2128777\ttotal: 4.65s\tremaining: 1.01s\n",
      "821:\tlearn: 0.2128744\ttotal: 4.66s\tremaining: 1.01s\n",
      "822:\tlearn: 0.2128514\ttotal: 4.66s\tremaining: 1s\n",
      "823:\tlearn: 0.2128374\ttotal: 4.66s\tremaining: 996ms\n",
      "824:\tlearn: 0.2128243\ttotal: 4.67s\tremaining: 990ms\n",
      "825:\tlearn: 0.2128213\ttotal: 4.67s\tremaining: 984ms\n",
      "826:\tlearn: 0.2128079\ttotal: 4.68s\tremaining: 979ms\n",
      "827:\tlearn: 0.2127952\ttotal: 4.68s\tremaining: 973ms\n",
      "828:\tlearn: 0.2127804\ttotal: 4.69s\tremaining: 967ms\n",
      "829:\tlearn: 0.2127660\ttotal: 4.69s\tremaining: 961ms\n",
      "830:\tlearn: 0.2127540\ttotal: 4.7s\tremaining: 955ms\n",
      "831:\tlearn: 0.2127427\ttotal: 4.7s\tremaining: 949ms\n",
      "832:\tlearn: 0.2127314\ttotal: 4.7s\tremaining: 943ms\n",
      "833:\tlearn: 0.2127286\ttotal: 4.71s\tremaining: 937ms\n",
      "834:\tlearn: 0.2127152\ttotal: 4.71s\tremaining: 931ms\n",
      "835:\tlearn: 0.2126953\ttotal: 4.72s\tremaining: 925ms\n",
      "836:\tlearn: 0.2126879\ttotal: 4.72s\tremaining: 919ms\n",
      "837:\tlearn: 0.2126723\ttotal: 4.72s\tremaining: 914ms\n",
      "838:\tlearn: 0.2126690\ttotal: 4.73s\tremaining: 908ms\n",
      "839:\tlearn: 0.2126596\ttotal: 4.73s\tremaining: 902ms\n",
      "840:\tlearn: 0.2126490\ttotal: 4.74s\tremaining: 896ms\n",
      "841:\tlearn: 0.2126315\ttotal: 4.74s\tremaining: 890ms\n",
      "842:\tlearn: 0.2126135\ttotal: 4.75s\tremaining: 884ms\n",
      "843:\tlearn: 0.2125989\ttotal: 4.75s\tremaining: 878ms\n",
      "844:\tlearn: 0.2125823\ttotal: 4.76s\tremaining: 873ms\n",
      "845:\tlearn: 0.2125698\ttotal: 4.76s\tremaining: 867ms\n",
      "846:\tlearn: 0.2125486\ttotal: 4.77s\tremaining: 861ms\n",
      "847:\tlearn: 0.2125344\ttotal: 4.77s\tremaining: 855ms\n",
      "848:\tlearn: 0.2125217\ttotal: 4.78s\tremaining: 849ms\n",
      "849:\tlearn: 0.2125126\ttotal: 4.78s\tremaining: 843ms\n",
      "850:\tlearn: 0.2124973\ttotal: 4.78s\tremaining: 838ms\n",
      "851:\tlearn: 0.2124839\ttotal: 4.79s\tremaining: 832ms\n",
      "852:\tlearn: 0.2124753\ttotal: 4.79s\tremaining: 826ms\n",
      "853:\tlearn: 0.2124636\ttotal: 4.79s\tremaining: 820ms\n",
      "854:\tlearn: 0.2124519\ttotal: 4.8s\tremaining: 814ms\n",
      "855:\tlearn: 0.2124461\ttotal: 4.8s\tremaining: 808ms\n",
      "856:\tlearn: 0.2124394\ttotal: 4.81s\tremaining: 802ms\n",
      "857:\tlearn: 0.2124314\ttotal: 4.81s\tremaining: 797ms\n",
      "858:\tlearn: 0.2124206\ttotal: 4.82s\tremaining: 791ms\n",
      "859:\tlearn: 0.2124087\ttotal: 4.82s\tremaining: 785ms\n",
      "860:\tlearn: 0.2123923\ttotal: 4.83s\tremaining: 779ms\n",
      "861:\tlearn: 0.2123886\ttotal: 4.83s\tremaining: 773ms\n",
      "862:\tlearn: 0.2123772\ttotal: 4.83s\tremaining: 767ms\n",
      "863:\tlearn: 0.2123566\ttotal: 4.84s\tremaining: 761ms\n",
      "864:\tlearn: 0.2123535\ttotal: 4.84s\tremaining: 756ms\n",
      "865:\tlearn: 0.2123413\ttotal: 4.85s\tremaining: 750ms\n",
      "866:\tlearn: 0.2123281\ttotal: 4.85s\tremaining: 744ms\n",
      "867:\tlearn: 0.2123158\ttotal: 4.85s\tremaining: 738ms\n",
      "868:\tlearn: 0.2123059\ttotal: 4.86s\tremaining: 733ms\n",
      "869:\tlearn: 0.2122949\ttotal: 4.86s\tremaining: 727ms\n",
      "870:\tlearn: 0.2122923\ttotal: 4.87s\tremaining: 721ms\n",
      "871:\tlearn: 0.2122779\ttotal: 4.87s\tremaining: 715ms\n",
      "872:\tlearn: 0.2122752\ttotal: 4.88s\tremaining: 709ms\n",
      "873:\tlearn: 0.2122696\ttotal: 4.88s\tremaining: 704ms\n",
      "874:\tlearn: 0.2122523\ttotal: 4.88s\tremaining: 698ms\n",
      "875:\tlearn: 0.2122402\ttotal: 4.89s\tremaining: 692ms\n",
      "876:\tlearn: 0.2122303\ttotal: 4.89s\tremaining: 686ms\n",
      "877:\tlearn: 0.2122168\ttotal: 4.9s\tremaining: 680ms\n",
      "878:\tlearn: 0.2122062\ttotal: 4.9s\tremaining: 675ms\n",
      "879:\tlearn: 0.2121934\ttotal: 4.9s\tremaining: 669ms\n",
      "880:\tlearn: 0.2121807\ttotal: 4.91s\tremaining: 663ms\n",
      "881:\tlearn: 0.2121651\ttotal: 4.91s\tremaining: 657ms\n",
      "882:\tlearn: 0.2121481\ttotal: 4.92s\tremaining: 652ms\n",
      "883:\tlearn: 0.2121312\ttotal: 4.92s\tremaining: 646ms\n",
      "884:\tlearn: 0.2121132\ttotal: 4.92s\tremaining: 640ms\n",
      "885:\tlearn: 0.2120987\ttotal: 4.93s\tremaining: 634ms\n",
      "886:\tlearn: 0.2120967\ttotal: 4.93s\tremaining: 629ms\n",
      "887:\tlearn: 0.2120865\ttotal: 4.94s\tremaining: 623ms\n",
      "888:\tlearn: 0.2120771\ttotal: 4.94s\tremaining: 617ms\n",
      "889:\tlearn: 0.2120567\ttotal: 4.95s\tremaining: 612ms\n",
      "890:\tlearn: 0.2120403\ttotal: 4.95s\tremaining: 606ms\n",
      "891:\tlearn: 0.2120337\ttotal: 4.96s\tremaining: 600ms\n",
      "892:\tlearn: 0.2120312\ttotal: 4.96s\tremaining: 594ms\n",
      "893:\tlearn: 0.2120222\ttotal: 4.96s\tremaining: 589ms\n",
      "894:\tlearn: 0.2120102\ttotal: 4.97s\tremaining: 583ms\n",
      "895:\tlearn: 0.2120077\ttotal: 4.97s\tremaining: 577ms\n",
      "896:\tlearn: 0.2119924\ttotal: 4.98s\tremaining: 572ms\n",
      "897:\tlearn: 0.2119848\ttotal: 4.98s\tremaining: 566ms\n",
      "898:\tlearn: 0.2119731\ttotal: 4.99s\tremaining: 560ms\n",
      "899:\tlearn: 0.2119581\ttotal: 4.99s\tremaining: 555ms\n",
      "900:\tlearn: 0.2119463\ttotal: 5s\tremaining: 549ms\n",
      "901:\tlearn: 0.2119390\ttotal: 5s\tremaining: 543ms\n",
      "902:\tlearn: 0.2119273\ttotal: 5s\tremaining: 537ms\n",
      "903:\tlearn: 0.2119158\ttotal: 5.01s\tremaining: 532ms\n",
      "904:\tlearn: 0.2119129\ttotal: 5.01s\tremaining: 526ms\n",
      "905:\tlearn: 0.2119017\ttotal: 5.02s\tremaining: 521ms\n",
      "906:\tlearn: 0.2118832\ttotal: 5.02s\tremaining: 515ms\n",
      "907:\tlearn: 0.2118770\ttotal: 5.03s\tremaining: 509ms\n",
      "908:\tlearn: 0.2118637\ttotal: 5.03s\tremaining: 504ms\n",
      "909:\tlearn: 0.2118516\ttotal: 5.03s\tremaining: 498ms\n",
      "910:\tlearn: 0.2118379\ttotal: 5.04s\tremaining: 492ms\n",
      "911:\tlearn: 0.2118225\ttotal: 5.04s\tremaining: 487ms\n",
      "912:\tlearn: 0.2118162\ttotal: 5.05s\tremaining: 481ms\n",
      "913:\tlearn: 0.2117968\ttotal: 5.05s\tremaining: 475ms\n",
      "914:\tlearn: 0.2117863\ttotal: 5.05s\tremaining: 470ms\n",
      "915:\tlearn: 0.2117839\ttotal: 5.06s\tremaining: 464ms\n",
      "916:\tlearn: 0.2117730\ttotal: 5.06s\tremaining: 458ms\n",
      "917:\tlearn: 0.2117662\ttotal: 5.07s\tremaining: 453ms\n",
      "918:\tlearn: 0.2117580\ttotal: 5.07s\tremaining: 447ms\n",
      "919:\tlearn: 0.2117484\ttotal: 5.08s\tremaining: 441ms\n",
      "920:\tlearn: 0.2117333\ttotal: 5.08s\tremaining: 436ms\n",
      "921:\tlearn: 0.2117209\ttotal: 5.08s\tremaining: 430ms\n",
      "922:\tlearn: 0.2117139\ttotal: 5.09s\tremaining: 424ms\n",
      "923:\tlearn: 0.2116992\ttotal: 5.09s\tremaining: 419ms\n",
      "924:\tlearn: 0.2116941\ttotal: 5.1s\tremaining: 413ms\n",
      "925:\tlearn: 0.2116786\ttotal: 5.1s\tremaining: 408ms\n",
      "926:\tlearn: 0.2116763\ttotal: 5.11s\tremaining: 402ms\n",
      "927:\tlearn: 0.2116630\ttotal: 5.11s\tremaining: 396ms\n",
      "928:\tlearn: 0.2116516\ttotal: 5.11s\tremaining: 391ms\n",
      "929:\tlearn: 0.2116410\ttotal: 5.12s\tremaining: 385ms\n",
      "930:\tlearn: 0.2116377\ttotal: 5.12s\tremaining: 380ms\n",
      "931:\tlearn: 0.2116205\ttotal: 5.13s\tremaining: 374ms\n",
      "932:\tlearn: 0.2116097\ttotal: 5.13s\tremaining: 368ms\n",
      "933:\tlearn: 0.2115995\ttotal: 5.13s\tremaining: 363ms\n",
      "934:\tlearn: 0.2115876\ttotal: 5.14s\tremaining: 357ms\n",
      "935:\tlearn: 0.2115719\ttotal: 5.14s\tremaining: 352ms\n",
      "936:\tlearn: 0.2115535\ttotal: 5.14s\tremaining: 346ms\n",
      "937:\tlearn: 0.2115511\ttotal: 5.15s\tremaining: 340ms\n",
      "938:\tlearn: 0.2115399\ttotal: 5.15s\tremaining: 335ms\n",
      "939:\tlearn: 0.2115301\ttotal: 5.16s\tremaining: 329ms\n",
      "940:\tlearn: 0.2115286\ttotal: 5.16s\tremaining: 324ms\n",
      "941:\tlearn: 0.2115212\ttotal: 5.17s\tremaining: 318ms\n",
      "942:\tlearn: 0.2115060\ttotal: 5.17s\tremaining: 313ms\n",
      "943:\tlearn: 0.2115033\ttotal: 5.18s\tremaining: 307ms\n",
      "944:\tlearn: 0.2114988\ttotal: 5.18s\tremaining: 302ms\n",
      "945:\tlearn: 0.2114962\ttotal: 5.19s\tremaining: 296ms\n",
      "946:\tlearn: 0.2114887\ttotal: 5.2s\tremaining: 291ms\n",
      "947:\tlearn: 0.2114702\ttotal: 5.2s\tremaining: 285ms\n",
      "948:\tlearn: 0.2114513\ttotal: 5.21s\tremaining: 280ms\n",
      "949:\tlearn: 0.2114490\ttotal: 5.21s\tremaining: 274ms\n",
      "950:\tlearn: 0.2114351\ttotal: 5.22s\tremaining: 269ms\n",
      "951:\tlearn: 0.2114213\ttotal: 5.22s\tremaining: 263ms\n",
      "952:\tlearn: 0.2114037\ttotal: 5.23s\tremaining: 258ms\n",
      "953:\tlearn: 0.2114015\ttotal: 5.24s\tremaining: 253ms\n",
      "954:\tlearn: 0.2113858\ttotal: 5.25s\tremaining: 247ms\n",
      "955:\tlearn: 0.2113837\ttotal: 5.25s\tremaining: 242ms\n",
      "956:\tlearn: 0.2113612\ttotal: 5.26s\tremaining: 236ms\n",
      "957:\tlearn: 0.2113470\ttotal: 5.26s\tremaining: 231ms\n",
      "958:\tlearn: 0.2113357\ttotal: 5.27s\tremaining: 225ms\n",
      "959:\tlearn: 0.2113287\ttotal: 5.28s\tremaining: 220ms\n",
      "960:\tlearn: 0.2113178\ttotal: 5.28s\tremaining: 214ms\n",
      "961:\tlearn: 0.2112993\ttotal: 5.28s\tremaining: 209ms\n",
      "962:\tlearn: 0.2112891\ttotal: 5.29s\tremaining: 203ms\n",
      "963:\tlearn: 0.2112814\ttotal: 5.29s\tremaining: 198ms\n",
      "964:\tlearn: 0.2112702\ttotal: 5.3s\tremaining: 192ms\n",
      "965:\tlearn: 0.2112564\ttotal: 5.3s\tremaining: 187ms\n",
      "966:\tlearn: 0.2112440\ttotal: 5.31s\tremaining: 181ms\n",
      "967:\tlearn: 0.2112384\ttotal: 5.31s\tremaining: 176ms\n",
      "968:\tlearn: 0.2112276\ttotal: 5.31s\tremaining: 170ms\n",
      "969:\tlearn: 0.2112202\ttotal: 5.32s\tremaining: 164ms\n",
      "970:\tlearn: 0.2112084\ttotal: 5.32s\tremaining: 159ms\n",
      "971:\tlearn: 0.2111913\ttotal: 5.33s\tremaining: 153ms\n",
      "972:\tlearn: 0.2111843\ttotal: 5.33s\tremaining: 148ms\n",
      "973:\tlearn: 0.2111745\ttotal: 5.33s\tremaining: 142ms\n",
      "974:\tlearn: 0.2111652\ttotal: 5.34s\tremaining: 137ms\n",
      "975:\tlearn: 0.2111535\ttotal: 5.34s\tremaining: 131ms\n",
      "976:\tlearn: 0.2111396\ttotal: 5.35s\tremaining: 126ms\n",
      "977:\tlearn: 0.2111246\ttotal: 5.35s\tremaining: 120ms\n",
      "978:\tlearn: 0.2111080\ttotal: 5.36s\tremaining: 115ms\n",
      "979:\tlearn: 0.2110951\ttotal: 5.36s\tremaining: 109ms\n",
      "980:\tlearn: 0.2110869\ttotal: 5.37s\tremaining: 104ms\n",
      "981:\tlearn: 0.2110751\ttotal: 5.37s\tremaining: 98.4ms\n",
      "982:\tlearn: 0.2110640\ttotal: 5.37s\tremaining: 92.9ms\n",
      "983:\tlearn: 0.2110561\ttotal: 5.38s\tremaining: 87.5ms\n",
      "984:\tlearn: 0.2110441\ttotal: 5.38s\tremaining: 82ms\n",
      "985:\tlearn: 0.2110329\ttotal: 5.39s\tremaining: 76.5ms\n",
      "986:\tlearn: 0.2110198\ttotal: 5.39s\tremaining: 71ms\n",
      "987:\tlearn: 0.2110113\ttotal: 5.39s\tremaining: 65.5ms\n",
      "988:\tlearn: 0.2109966\ttotal: 5.4s\tremaining: 60.1ms\n",
      "989:\tlearn: 0.2109810\ttotal: 5.4s\tremaining: 54.6ms\n",
      "990:\tlearn: 0.2109715\ttotal: 5.41s\tremaining: 49.1ms\n",
      "991:\tlearn: 0.2109626\ttotal: 5.41s\tremaining: 43.6ms\n",
      "992:\tlearn: 0.2109447\ttotal: 5.42s\tremaining: 38.2ms\n",
      "993:\tlearn: 0.2109304\ttotal: 5.42s\tremaining: 32.7ms\n",
      "994:\tlearn: 0.2109197\ttotal: 5.42s\tremaining: 27.3ms\n",
      "995:\tlearn: 0.2109101\ttotal: 5.43s\tremaining: 21.8ms\n",
      "996:\tlearn: 0.2108943\ttotal: 5.43s\tremaining: 16.3ms\n",
      "997:\tlearn: 0.2108923\ttotal: 5.44s\tremaining: 10.9ms\n",
      "998:\tlearn: 0.2108788\ttotal: 5.44s\tremaining: 5.45ms\n",
      "999:\tlearn: 0.2108699\ttotal: 5.44s\tremaining: 0us\n"
     ]
    },
    {
     "data": {
      "text/plain": [
       "<catboost.core.CatBoostClassifier at 0x7fec2cb3efd0>"
      ]
     },
     "execution_count": 33,
     "metadata": {},
     "output_type": "execute_result"
    }
   ],
   "source": [
    "cb_model = CatBoostClassifier(**cb_best_params)\n",
    "cb_model.fit(x_train, y_train)"
   ]
  },
  {
   "cell_type": "code",
   "execution_count": 34,
   "metadata": {},
   "outputs": [
    {
     "name": "stdout",
     "output_type": "stream",
     "text": [
      "train score:0.9316816025303111, test_score:0.9289052890528905\n",
      "acc:0.9289052890528905, auc:0.8526883847709488\n"
     ]
    }
   ],
   "source": [
    "train_score_cb = cb.score(x_train, y_train)\n",
    "test_score_cb = cb.score(x_test, y_test)\n",
    "\n",
    "cb_p = cb_model.predict(x_test)\n",
    "\n",
    "acc_cb = accuracy_score(cb_p, y_test)\n",
    "auc_cb = roc_auc_score(cb_p, y_test)\n",
    "\n",
    "print('train score:{}, test_score:{}'.format(train_score_cb, test_score_cb))\n",
    "print('acc:{}, auc:{}'.format(acc_cb, auc_cb))"
   ]
  },
  {
   "cell_type": "code",
   "execution_count": null,
   "metadata": {},
   "outputs": [],
   "source": [
    "cb_name = 'models/CatBoost_' + now.strftime('%d_%H%M') + '.pkl'\n",
    "pickle.dump(cb_model, open(cb_name, 'wb'))"
   ]
  },
  {
   "cell_type": "code",
   "execution_count": 37,
   "metadata": {},
   "outputs": [
    {
     "data": {
      "text/html": [
       "<div>\n",
       "<style scoped>\n",
       "    .dataframe tbody tr th:only-of-type {\n",
       "        vertical-align: middle;\n",
       "    }\n",
       "\n",
       "    .dataframe tbody tr th {\n",
       "        vertical-align: top;\n",
       "    }\n",
       "\n",
       "    .dataframe thead th {\n",
       "        text-align: right;\n",
       "    }\n",
       "</style>\n",
       "<table border=\"1\" class=\"dataframe\">\n",
       "  <thead>\n",
       "    <tr style=\"text-align: right;\">\n",
       "      <th></th>\n",
       "      <th>0</th>\n",
       "      <th>1</th>\n",
       "    </tr>\n",
       "  </thead>\n",
       "  <tbody>\n",
       "    <tr>\n",
       "      <th>0</th>\n",
       "      <td>0.098381</td>\n",
       "      <td>0.901619</td>\n",
       "    </tr>\n",
       "    <tr>\n",
       "      <th>1</th>\n",
       "      <td>0.974592</td>\n",
       "      <td>0.025408</td>\n",
       "    </tr>\n",
       "    <tr>\n",
       "      <th>2</th>\n",
       "      <td>0.951896</td>\n",
       "      <td>0.048104</td>\n",
       "    </tr>\n",
       "    <tr>\n",
       "      <th>3</th>\n",
       "      <td>0.972561</td>\n",
       "      <td>0.027439</td>\n",
       "    </tr>\n",
       "    <tr>\n",
       "      <th>4</th>\n",
       "      <td>0.869990</td>\n",
       "      <td>0.130010</td>\n",
       "    </tr>\n",
       "  </tbody>\n",
       "</table>\n",
       "</div>"
      ],
      "text/plain": [
       "          0         1\n",
       "0  0.098381  0.901619\n",
       "1  0.974592  0.025408\n",
       "2  0.951896  0.048104\n",
       "3  0.972561  0.027439\n",
       "4  0.869990  0.130010"
      ]
     },
     "execution_count": 37,
     "metadata": {},
     "output_type": "execute_result"
    }
   ],
   "source": [
    "pred_cb = cb_model.predict_proba(test_df)\n",
    "cb_p = pd.DataFrame(pred_cb)\n",
    "cb_p.head()"
   ]
  },
  {
   "cell_type": "code",
   "execution_count": null,
   "metadata": {},
   "outputs": [],
   "source": []
  },
  {
   "cell_type": "code",
   "execution_count": null,
   "metadata": {},
   "outputs": [],
   "source": []
  },
  {
   "cell_type": "markdown",
   "metadata": {},
   "source": [
    "## submit"
   ]
  },
  {
   "cell_type": "code",
   "execution_count": 46,
   "metadata": {},
   "outputs": [
    {
     "data": {
      "text/html": [
       "<div>\n",
       "<style scoped>\n",
       "    .dataframe tbody tr th:only-of-type {\n",
       "        vertical-align: middle;\n",
       "    }\n",
       "\n",
       "    .dataframe tbody tr th {\n",
       "        vertical-align: top;\n",
       "    }\n",
       "\n",
       "    .dataframe thead th {\n",
       "        text-align: right;\n",
       "    }\n",
       "</style>\n",
       "<table border=\"1\" class=\"dataframe\">\n",
       "  <thead>\n",
       "    <tr style=\"text-align: right;\">\n",
       "      <th></th>\n",
       "      <th>RandomForest</th>\n",
       "      <th>XGBoost</th>\n",
       "      <th>LightGBM</th>\n",
       "      <th>CatBoost</th>\n",
       "    </tr>\n",
       "  </thead>\n",
       "  <tbody>\n",
       "    <tr>\n",
       "      <th>0</th>\n",
       "      <td>0.457150</td>\n",
       "      <td>1</td>\n",
       "      <td>0.919771</td>\n",
       "      <td>0.901619</td>\n",
       "    </tr>\n",
       "    <tr>\n",
       "      <th>1</th>\n",
       "      <td>0.053545</td>\n",
       "      <td>0</td>\n",
       "      <td>0.028800</td>\n",
       "      <td>0.025408</td>\n",
       "    </tr>\n",
       "    <tr>\n",
       "      <th>2</th>\n",
       "      <td>0.061601</td>\n",
       "      <td>0</td>\n",
       "      <td>0.054103</td>\n",
       "      <td>0.048104</td>\n",
       "    </tr>\n",
       "    <tr>\n",
       "      <th>3</th>\n",
       "      <td>0.054252</td>\n",
       "      <td>0</td>\n",
       "      <td>0.034703</td>\n",
       "      <td>0.027439</td>\n",
       "    </tr>\n",
       "    <tr>\n",
       "      <th>4</th>\n",
       "      <td>0.104480</td>\n",
       "      <td>0</td>\n",
       "      <td>0.144616</td>\n",
       "      <td>0.130010</td>\n",
       "    </tr>\n",
       "  </tbody>\n",
       "</table>\n",
       "</div>"
      ],
      "text/plain": [
       "   RandomForest  XGBoost  LightGBM  CatBoost\n",
       "0      0.457150        1  0.919771  0.901619\n",
       "1      0.053545        0  0.028800  0.025408\n",
       "2      0.061601        0  0.054103  0.048104\n",
       "3      0.054252        0  0.034703  0.027439\n",
       "4      0.104480        0  0.144616  0.130010"
      ]
     },
     "execution_count": 46,
     "metadata": {},
     "output_type": "execute_result"
    }
   ],
   "source": [
    "pred = pd.DataFrame({\n",
    "    'RandomForest': rf_p[1],\n",
    "    'XGBoost': xgb_p[0],\n",
    "    'LightGBM': lgb_p[1],\n",
    "    'CatBoost': cb_p[1]\n",
    "})\n",
    "\n",
    "pred.head()"
   ]
  },
  {
   "cell_type": "code",
   "execution_count": 47,
   "metadata": {},
   "outputs": [
    {
     "data": {
      "text/html": [
       "<div>\n",
       "<style scoped>\n",
       "    .dataframe tbody tr th:only-of-type {\n",
       "        vertical-align: middle;\n",
       "    }\n",
       "\n",
       "    .dataframe tbody tr th {\n",
       "        vertical-align: top;\n",
       "    }\n",
       "\n",
       "    .dataframe thead th {\n",
       "        text-align: right;\n",
       "    }\n",
       "</style>\n",
       "<table border=\"1\" class=\"dataframe\">\n",
       "  <thead>\n",
       "    <tr style=\"text-align: right;\">\n",
       "      <th></th>\n",
       "      <th>RandomForest</th>\n",
       "      <th>XGBoost</th>\n",
       "      <th>LightGBM</th>\n",
       "      <th>CatBoost</th>\n",
       "      <th>sum</th>\n",
       "      <th>pred</th>\n",
       "    </tr>\n",
       "  </thead>\n",
       "  <tbody>\n",
       "    <tr>\n",
       "      <th>0</th>\n",
       "      <td>0.457150</td>\n",
       "      <td>1</td>\n",
       "      <td>0.919771</td>\n",
       "      <td>0.901619</td>\n",
       "      <td>3.278539</td>\n",
       "      <td>0.819635</td>\n",
       "    </tr>\n",
       "    <tr>\n",
       "      <th>1</th>\n",
       "      <td>0.053545</td>\n",
       "      <td>0</td>\n",
       "      <td>0.028800</td>\n",
       "      <td>0.025408</td>\n",
       "      <td>0.107753</td>\n",
       "      <td>0.026938</td>\n",
       "    </tr>\n",
       "    <tr>\n",
       "      <th>2</th>\n",
       "      <td>0.061601</td>\n",
       "      <td>0</td>\n",
       "      <td>0.054103</td>\n",
       "      <td>0.048104</td>\n",
       "      <td>0.163807</td>\n",
       "      <td>0.040952</td>\n",
       "    </tr>\n",
       "    <tr>\n",
       "      <th>3</th>\n",
       "      <td>0.054252</td>\n",
       "      <td>0</td>\n",
       "      <td>0.034703</td>\n",
       "      <td>0.027439</td>\n",
       "      <td>0.116394</td>\n",
       "      <td>0.029099</td>\n",
       "    </tr>\n",
       "    <tr>\n",
       "      <th>4</th>\n",
       "      <td>0.104480</td>\n",
       "      <td>0</td>\n",
       "      <td>0.144616</td>\n",
       "      <td>0.130010</td>\n",
       "      <td>0.379105</td>\n",
       "      <td>0.094776</td>\n",
       "    </tr>\n",
       "  </tbody>\n",
       "</table>\n",
       "</div>"
      ],
      "text/plain": [
       "   RandomForest  XGBoost  LightGBM  CatBoost       sum      pred\n",
       "0      0.457150        1  0.919771  0.901619  3.278539  0.819635\n",
       "1      0.053545        0  0.028800  0.025408  0.107753  0.026938\n",
       "2      0.061601        0  0.054103  0.048104  0.163807  0.040952\n",
       "3      0.054252        0  0.034703  0.027439  0.116394  0.029099\n",
       "4      0.104480        0  0.144616  0.130010  0.379105  0.094776"
      ]
     },
     "execution_count": 47,
     "metadata": {},
     "output_type": "execute_result"
    }
   ],
   "source": [
    "pred['sum'] = pred.sum(axis=1)\n",
    "pred['pred'] = [i/4 for i in pred['sum']]\n",
    "pred.head()"
   ]
  },
  {
   "cell_type": "code",
   "execution_count": 48,
   "metadata": {},
   "outputs": [],
   "source": [
    "submission = pd.DataFrame({\n",
    "    'ID':ID,\n",
    "    'pred':pred['pred']\n",
    "})\n",
    "\n",
    "file_name = 'submit/submit_' + now.strftime('%d_%H%M') + '.csv'\n",
    "\n",
    "submission.to_csv(file_name, header=False, index=False)"
   ]
  },
  {
   "cell_type": "code",
   "execution_count": 41,
   "metadata": {},
   "outputs": [],
   "source": [
    "# RandomForest\n",
    "\n",
    "submission = pd.DataFrame({\n",
    "    'ID':ID,\n",
    "    'pred':rf_p[1]\n",
    "})\n",
    "\n",
    "file_name = 'submit/submit_RF' + now.strftime('%d_%H%M') + '.csv'\n",
    "\n",
    "submission.to_csv(file_name, index=False, header=False)"
   ]
  },
  {
   "cell_type": "code",
   "execution_count": 45,
   "metadata": {},
   "outputs": [],
   "source": [
    "# XGBoost\n",
    "\n",
    "submission = pd.DataFrame({\n",
    "    'ID':ID,\n",
    "    'pred':xgb_p[0]\n",
    "})\n",
    "\n",
    "file_name = 'submit/submit_XGBoost' + now.strftime('%d_%H%M') + '.csv'\n",
    "\n",
    "submission.to_csv(file_name, header=False, index=False)"
   ]
  },
  {
   "cell_type": "code",
   "execution_count": 49,
   "metadata": {},
   "outputs": [],
   "source": [
    "# LightGBM\n",
    "\n",
    "submission = pd.DataFrame({\n",
    "    'ID':ID,\n",
    "    'pred':lgb_p[1]\n",
    "})\n",
    "\n",
    "file_name = 'submit/submit_LGBM' + now.strftime('%d_%H%M') + '.csv'\n",
    "\n",
    "submission.to_csv(file_name, index=False, header=False)"
   ]
  },
  {
   "cell_type": "code",
   "execution_count": 39,
   "metadata": {},
   "outputs": [],
   "source": [
    "# CatBoost\n",
    "\n",
    "submission = pd.DataFrame({\n",
    "    'ID':ID,\n",
    "    'pred':cb_p[1]\n",
    "})\n",
    "\n",
    "file_name = 'submit/submit_CatBoost' + now.strftime('%d_%H%M') + '.csv'\n",
    "\n",
    "submission.to_csv(file_name, index=False, header=False)"
   ]
  },
  {
   "cell_type": "code",
   "execution_count": null,
   "metadata": {},
   "outputs": [],
   "source": []
  }
 ],
 "metadata": {
  "kernelspec": {
   "display_name": "Python 3",
   "language": "python",
   "name": "python3"
  },
  "language_info": {
   "codemirror_mode": {
    "name": "ipython",
    "version": 3
   },
   "file_extension": ".py",
   "mimetype": "text/x-python",
   "name": "python",
   "nbconvert_exporter": "python",
   "pygments_lexer": "ipython3",
   "version": "3.7.7"
  }
 },
 "nbformat": 4,
 "nbformat_minor": 4
}
