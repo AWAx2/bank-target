{
 "cells": [
  {
   "cell_type": "code",
   "execution_count": 1,
   "metadata": {},
   "outputs": [],
   "source": [
    "import datetime\n",
    "from copy import copy\n",
    "import numpy as np\n",
    "import pandas as pd\n",
    "import pandas_profiling as pdp\n",
    "import matplotlib.pyplot as plt\n",
    "%matplotlib inline\n",
    "import seaborn as sns\n",
    "\n",
    "from sklearn.preprocessing import StandardScaler, LabelEncoder\n",
    "from sklearn.model_selection import train_test_split, StratifiedKFold, cross_validate\n",
    "from sklearn.metrics import accuracy_score, roc_auc_score\n",
    "import optuna\n",
    "from sklearn.ensemble import RandomForestClassifier\n",
    "import lightgbm as lgb\n",
    "import xgboost as xgb\n",
    "from catboost import CatBoostClassifier"
   ]
  },
  {
   "cell_type": "code",
   "execution_count": 2,
   "metadata": {},
   "outputs": [],
   "source": [
    "train_df = pd.read_csv('dataset/train_01.csv')\n",
    "test_df = pd.read_csv('dataset/test_01.csv')"
   ]
  },
  {
   "cell_type": "code",
   "execution_count": 3,
   "metadata": {},
   "outputs": [],
   "source": [
    "ID = test_df['id']\n",
    "x = train_df.drop(columns=['y', 'id'])\n",
    "y = train_df['y']\n",
    "test_df = test_df.drop(columns='id')"
   ]
  },
  {
   "cell_type": "code",
   "execution_count": 4,
   "metadata": {},
   "outputs": [],
   "source": [
    "x_train, x_test, y_train, y_test = train_test_split(x, y,\n",
    "                                                    test_size=0.3,\n",
    "                                                    stratify=y,\n",
    "                                                    shuffle=True,\n",
    "                                                    random_state=18\n",
    "                                                   )"
   ]
  },
  {
   "cell_type": "markdown",
   "metadata": {},
   "source": [
    "# RFC"
   ]
  },
  {
   "cell_type": "code",
   "execution_count": 7,
   "metadata": {},
   "outputs": [],
   "source": [
    "def objective(trial):\n",
    "    skf = StratifiedKFold(n_splits=5, shuffle=True, random_state=18)\n",
    "    \n",
    "    param_rfc ={      \n",
    "        'n_estimators': trial.suggest_int('n_estimators', 800, 1500),\n",
    "        'criterion': trial.suggest_categorical(\"criterion\", [\"gini\", \"entropy\"]),\n",
    "        'max_depth': trial.suggest_int('max_depth', 3, 9),\n",
    "        'min_samples_split': trial.suggest_int('min_samples_split', 5, 15),\n",
    "        'min_samples_leaf': trial.suggest_int(\"min_samples_leaf\", 1, 5),\n",
    "        'random_state': 18,\n",
    "        'n_jobs': 4\n",
    "    }\n",
    "    \n",
    "    rfc = RandomForestClassifier(**param_rfc)\n",
    "    scores = cross_validate(rfc, x, y, cv=skf)\n",
    "    return scores['test_score'].mean()"
   ]
  },
  {
   "cell_type": "code",
   "execution_count": 8,
   "metadata": {
    "collapsed": true,
    "jupyter": {
     "outputs_hidden": true
    }
   },
   "outputs": [
    {
     "name": "stderr",
     "output_type": "stream",
     "text": [
      "[I 2020-08-08 13:18:01,213] Finished trial#0 resulted in value: 0.929040590405904. Current best value is 0.929040590405904 with parameters: {'n_estimators': 1032, 'criterion': 'gini', 'max_depth': 6, 'min_samples_split': 10, 'min_samples_leaf': 5}.\n",
      "[I 2020-08-08 13:18:27,749] Finished trial#1 resulted in value: 0.9249815498154981. Current best value is 0.929040590405904 with parameters: {'n_estimators': 1032, 'criterion': 'gini', 'max_depth': 6, 'min_samples_split': 10, 'min_samples_leaf': 5}.\n",
      "[I 2020-08-08 13:19:10,397] Finished trial#2 resulted in value: 0.9292250922509225. Current best value is 0.9292250922509225 with parameters: {'n_estimators': 1385, 'criterion': 'gini', 'max_depth': 6, 'min_samples_split': 5, 'min_samples_leaf': 3}.\n",
      "[I 2020-08-08 13:19:31,061] Finished trial#3 resulted in value: 0.9243911439114392. Current best value is 0.9292250922509225 with parameters: {'n_estimators': 1385, 'criterion': 'gini', 'max_depth': 6, 'min_samples_split': 5, 'min_samples_leaf': 3}.\n",
      "[I 2020-08-08 13:20:00,959] Finished trial#4 resulted in value: 0.9290774907749079. Current best value is 0.9292250922509225 with parameters: {'n_estimators': 1385, 'criterion': 'gini', 'max_depth': 6, 'min_samples_split': 5, 'min_samples_leaf': 3}.\n",
      "[I 2020-08-08 13:20:44,394] Finished trial#5 resulted in value: 0.929409594095941. Current best value is 0.929409594095941 with parameters: {'n_estimators': 1322, 'criterion': 'gini', 'max_depth': 7, 'min_samples_split': 6, 'min_samples_leaf': 1}.\n",
      "[I 2020-08-08 13:21:20,925] Finished trial#6 resulted in value: 0.9295940959409593. Current best value is 0.9295940959409593 with parameters: {'n_estimators': 1019, 'criterion': 'gini', 'max_depth': 8, 'min_samples_split': 8, 'min_samples_leaf': 1}.\n",
      "[I 2020-08-08 13:22:17,812] Finished trial#7 resulted in value: 0.9296309963099632. Current best value is 0.9296309963099632 with parameters: {'n_estimators': 1471, 'criterion': 'entropy', 'max_depth': 7, 'min_samples_split': 15, 'min_samples_leaf': 3}.\n",
      "[I 2020-08-08 13:22:51,984] Finished trial#8 resulted in value: 0.9296678966789667. Current best value is 0.9296678966789667 with parameters: {'n_estimators': 883, 'criterion': 'gini', 'max_depth': 9, 'min_samples_split': 11, 'min_samples_leaf': 2}.\n",
      "[I 2020-08-08 13:23:38,400] Finished trial#9 resulted in value: 0.9294095940959408. Current best value is 0.9296678966789667 with parameters: {'n_estimators': 883, 'criterion': 'gini', 'max_depth': 9, 'min_samples_split': 11, 'min_samples_leaf': 2}.\n",
      "[I 2020-08-08 13:24:09,471] Finished trial#10 resulted in value: 0.929520295202952. Current best value is 0.9296678966789667 with parameters: {'n_estimators': 883, 'criterion': 'gini', 'max_depth': 9, 'min_samples_split': 11, 'min_samples_leaf': 2}.\n",
      "[I 2020-08-08 13:25:17,249] Finished trial#11 resulted in value: 0.9298154981549815. Current best value is 0.9298154981549815 with parameters: {'n_estimators': 1463, 'criterion': 'entropy', 'max_depth': 9, 'min_samples_split': 15, 'min_samples_leaf': 4}.\n",
      "[I 2020-08-08 13:26:26,207] Finished trial#12 resulted in value: 0.9298154981549814. Current best value is 0.9298154981549815 with parameters: {'n_estimators': 1463, 'criterion': 'entropy', 'max_depth': 9, 'min_samples_split': 15, 'min_samples_leaf': 4}.\n",
      "[I 2020-08-08 13:27:33,236] Finished trial#13 resulted in value: 0.9297416974169742. Current best value is 0.9298154981549815 with parameters: {'n_estimators': 1463, 'criterion': 'entropy', 'max_depth': 9, 'min_samples_split': 15, 'min_samples_leaf': 4}.\n",
      "[I 2020-08-08 13:28:36,711] Finished trial#14 resulted in value: 0.9295940959409593. Current best value is 0.9298154981549815 with parameters: {'n_estimators': 1463, 'criterion': 'entropy', 'max_depth': 9, 'min_samples_split': 15, 'min_samples_leaf': 4}.\n",
      "[I 2020-08-08 13:29:33,482] Finished trial#15 resulted in value: 0.9297047970479705. Current best value is 0.9298154981549815 with parameters: {'n_estimators': 1463, 'criterion': 'entropy', 'max_depth': 9, 'min_samples_split': 15, 'min_samples_leaf': 4}.\n",
      "[I 2020-08-08 13:30:13,881] Finished trial#16 resulted in value: 0.9273431734317343. Current best value is 0.9298154981549815 with parameters: {'n_estimators': 1463, 'criterion': 'entropy', 'max_depth': 9, 'min_samples_split': 15, 'min_samples_leaf': 4}.\n",
      "[I 2020-08-08 13:31:17,817] Finished trial#17 resulted in value: 0.9297416974169742. Current best value is 0.9298154981549815 with parameters: {'n_estimators': 1463, 'criterion': 'entropy', 'max_depth': 9, 'min_samples_split': 15, 'min_samples_leaf': 4}.\n",
      "[I 2020-08-08 13:32:04,866] Finished trial#18 resulted in value: 0.9296678966789667. Current best value is 0.9298154981549815 with parameters: {'n_estimators': 1463, 'criterion': 'entropy', 'max_depth': 9, 'min_samples_split': 15, 'min_samples_leaf': 4}.\n",
      "[I 2020-08-08 13:33:03,410] Finished trial#19 resulted in value: 0.9297785977859778. Current best value is 0.9298154981549815 with parameters: {'n_estimators': 1463, 'criterion': 'entropy', 'max_depth': 9, 'min_samples_split': 15, 'min_samples_leaf': 4}.\n",
      "[I 2020-08-08 13:33:47,403] Finished trial#20 resulted in value: 0.928929889298893. Current best value is 0.9298154981549815 with parameters: {'n_estimators': 1463, 'criterion': 'entropy', 'max_depth': 9, 'min_samples_split': 15, 'min_samples_leaf': 4}.\n",
      "[I 2020-08-08 13:34:46,182] Finished trial#21 resulted in value: 0.9297047970479705. Current best value is 0.9298154981549815 with parameters: {'n_estimators': 1463, 'criterion': 'entropy', 'max_depth': 9, 'min_samples_split': 15, 'min_samples_leaf': 4}.\n",
      "[I 2020-08-08 13:35:43,562] Finished trial#22 resulted in value: 0.929520295202952. Current best value is 0.9298154981549815 with parameters: {'n_estimators': 1463, 'criterion': 'entropy', 'max_depth': 9, 'min_samples_split': 15, 'min_samples_leaf': 4}.\n",
      "[I 2020-08-08 13:36:37,432] Finished trial#23 resulted in value: 0.9297416974169742. Current best value is 0.9298154981549815 with parameters: {'n_estimators': 1463, 'criterion': 'entropy', 'max_depth': 9, 'min_samples_split': 15, 'min_samples_leaf': 4}.\n",
      "[I 2020-08-08 13:37:31,948] Finished trial#24 resulted in value: 0.9295940959409595. Current best value is 0.9298154981549815 with parameters: {'n_estimators': 1463, 'criterion': 'entropy', 'max_depth': 9, 'min_samples_split': 15, 'min_samples_leaf': 4}.\n",
      "[I 2020-08-08 13:38:29,896] Finished trial#25 resulted in value: 0.9295940959409593. Current best value is 0.9298154981549815 with parameters: {'n_estimators': 1463, 'criterion': 'entropy', 'max_depth': 9, 'min_samples_split': 15, 'min_samples_leaf': 4}.\n",
      "[I 2020-08-08 13:39:36,265] Finished trial#26 resulted in value: 0.9296309963099632. Current best value is 0.9298154981549815 with parameters: {'n_estimators': 1463, 'criterion': 'entropy', 'max_depth': 9, 'min_samples_split': 15, 'min_samples_leaf': 4}.\n",
      "[I 2020-08-08 13:40:34,962] Finished trial#27 resulted in value: 0.9295571955719557. Current best value is 0.9298154981549815 with parameters: {'n_estimators': 1463, 'criterion': 'entropy', 'max_depth': 9, 'min_samples_split': 15, 'min_samples_leaf': 4}.\n",
      "[I 2020-08-08 13:41:31,938] Finished trial#28 resulted in value: 0.9297047970479705. Current best value is 0.9298154981549815 with parameters: {'n_estimators': 1463, 'criterion': 'entropy', 'max_depth': 9, 'min_samples_split': 15, 'min_samples_leaf': 4}.\n",
      "[I 2020-08-08 13:42:09,680] Finished trial#29 resulted in value: 0.9290036900369005. Current best value is 0.9298154981549815 with parameters: {'n_estimators': 1463, 'criterion': 'entropy', 'max_depth': 9, 'min_samples_split': 15, 'min_samples_leaf': 4}.\n",
      "[I 2020-08-08 13:42:54,945] Finished trial#30 resulted in value: 0.9295940959409593. Current best value is 0.9298154981549815 with parameters: {'n_estimators': 1463, 'criterion': 'entropy', 'max_depth': 9, 'min_samples_split': 15, 'min_samples_leaf': 4}.\n",
      "[I 2020-08-08 13:43:46,830] Finished trial#31 resulted in value: 0.9296678966789667. Current best value is 0.9298154981549815 with parameters: {'n_estimators': 1463, 'criterion': 'entropy', 'max_depth': 9, 'min_samples_split': 15, 'min_samples_leaf': 4}.\n",
      "[I 2020-08-08 13:44:34,881] Finished trial#32 resulted in value: 0.9297047970479705. Current best value is 0.9298154981549815 with parameters: {'n_estimators': 1463, 'criterion': 'entropy', 'max_depth': 9, 'min_samples_split': 15, 'min_samples_leaf': 4}.\n",
      "[I 2020-08-08 13:45:36,577] Finished trial#33 resulted in value: 0.9296678966789667. Current best value is 0.9298154981549815 with parameters: {'n_estimators': 1463, 'criterion': 'entropy', 'max_depth': 9, 'min_samples_split': 15, 'min_samples_leaf': 4}.\n",
      "[I 2020-08-08 13:46:43,696] Finished trial#34 resulted in value: 0.9297785977859778. Current best value is 0.9298154981549815 with parameters: {'n_estimators': 1463, 'criterion': 'entropy', 'max_depth': 9, 'min_samples_split': 15, 'min_samples_leaf': 4}.\n",
      "[I 2020-08-08 13:47:47,846] Finished trial#35 resulted in value: 0.9297785977859778. Current best value is 0.9298154981549815 with parameters: {'n_estimators': 1463, 'criterion': 'entropy', 'max_depth': 9, 'min_samples_split': 15, 'min_samples_leaf': 4}.\n",
      "[I 2020-08-08 13:48:47,030] Finished trial#36 resulted in value: 0.9296309963099632. Current best value is 0.9298154981549815 with parameters: {'n_estimators': 1463, 'criterion': 'entropy', 'max_depth': 9, 'min_samples_split': 15, 'min_samples_leaf': 4}.\n",
      "[I 2020-08-08 13:49:43,877] Finished trial#37 resulted in value: 0.9297785977859778. Current best value is 0.9298154981549815 with parameters: {'n_estimators': 1463, 'criterion': 'entropy', 'max_depth': 9, 'min_samples_split': 15, 'min_samples_leaf': 4}.\n",
      "[I 2020-08-08 13:50:37,050] Finished trial#38 resulted in value: 0.9295940959409593. Current best value is 0.9298154981549815 with parameters: {'n_estimators': 1463, 'criterion': 'entropy', 'max_depth': 9, 'min_samples_split': 15, 'min_samples_leaf': 4}.\n",
      "[I 2020-08-08 13:51:28,018] Finished trial#39 resulted in value: 0.9298154981549814. Current best value is 0.9298154981549815 with parameters: {'n_estimators': 1463, 'criterion': 'entropy', 'max_depth': 9, 'min_samples_split': 15, 'min_samples_leaf': 4}.\n",
      "[I 2020-08-08 13:51:54,978] Finished trial#40 resulted in value: 0.9248339483394833. Current best value is 0.9298154981549815 with parameters: {'n_estimators': 1463, 'criterion': 'entropy', 'max_depth': 9, 'min_samples_split': 15, 'min_samples_leaf': 4}.\n",
      "[I 2020-08-08 13:52:49,845] Finished trial#41 resulted in value: 0.9297047970479705. Current best value is 0.9298154981549815 with parameters: {'n_estimators': 1463, 'criterion': 'entropy', 'max_depth': 9, 'min_samples_split': 15, 'min_samples_leaf': 4}.\n",
      "[I 2020-08-08 13:53:43,112] Finished trial#42 resulted in value: 0.9297785977859778. Current best value is 0.9298154981549815 with parameters: {'n_estimators': 1463, 'criterion': 'entropy', 'max_depth': 9, 'min_samples_split': 15, 'min_samples_leaf': 4}.\n",
      "[I 2020-08-08 13:54:30,659] Finished trial#43 resulted in value: 0.9297047970479705. Current best value is 0.9298154981549815 with parameters: {'n_estimators': 1463, 'criterion': 'entropy', 'max_depth': 9, 'min_samples_split': 15, 'min_samples_leaf': 4}.\n",
      "[I 2020-08-08 13:55:23,548] Finished trial#44 resulted in value: 0.9295940959409593. Current best value is 0.9298154981549815 with parameters: {'n_estimators': 1463, 'criterion': 'entropy', 'max_depth': 9, 'min_samples_split': 15, 'min_samples_leaf': 4}.\n",
      "[I 2020-08-08 13:56:13,225] Finished trial#45 resulted in value: 0.9298154981549814. Current best value is 0.9298154981549815 with parameters: {'n_estimators': 1463, 'criterion': 'entropy', 'max_depth': 9, 'min_samples_split': 15, 'min_samples_leaf': 4}.\n",
      "[I 2020-08-08 13:57:00,233] Finished trial#46 resulted in value: 0.9295940959409593. Current best value is 0.9298154981549815 with parameters: {'n_estimators': 1463, 'criterion': 'entropy', 'max_depth': 9, 'min_samples_split': 15, 'min_samples_leaf': 4}.\n",
      "[I 2020-08-08 13:57:46,220] Finished trial#47 resulted in value: 0.929520295202952. Current best value is 0.9298154981549815 with parameters: {'n_estimators': 1463, 'criterion': 'entropy', 'max_depth': 9, 'min_samples_split': 15, 'min_samples_leaf': 4}.\n",
      "[I 2020-08-08 13:58:33,178] Finished trial#48 resulted in value: 0.9297047970479705. Current best value is 0.9298154981549815 with parameters: {'n_estimators': 1463, 'criterion': 'entropy', 'max_depth': 9, 'min_samples_split': 15, 'min_samples_leaf': 4}.\n",
      "[I 2020-08-08 13:59:21,846] Finished trial#49 resulted in value: 0.9296309963099632. Current best value is 0.9298154981549815 with parameters: {'n_estimators': 1463, 'criterion': 'entropy', 'max_depth': 9, 'min_samples_split': 15, 'min_samples_leaf': 4}.\n",
      "[I 2020-08-08 14:00:12,876] Finished trial#50 resulted in value: 0.9295571955719557. Current best value is 0.9298154981549815 with parameters: {'n_estimators': 1463, 'criterion': 'entropy', 'max_depth': 9, 'min_samples_split': 15, 'min_samples_leaf': 4}.\n",
      "[I 2020-08-08 14:01:21,935] Finished trial#51 resulted in value: 0.9297785977859778. Current best value is 0.9298154981549815 with parameters: {'n_estimators': 1463, 'criterion': 'entropy', 'max_depth': 9, 'min_samples_split': 15, 'min_samples_leaf': 4}.\n",
      "[I 2020-08-08 14:02:30,324] Finished trial#52 resulted in value: 0.9297785977859778. Current best value is 0.9298154981549815 with parameters: {'n_estimators': 1463, 'criterion': 'entropy', 'max_depth': 9, 'min_samples_split': 15, 'min_samples_leaf': 4}.\n",
      "[I 2020-08-08 14:03:28,819] Finished trial#53 resulted in value: 0.9298154981549814. Current best value is 0.9298154981549815 with parameters: {'n_estimators': 1463, 'criterion': 'entropy', 'max_depth': 9, 'min_samples_split': 15, 'min_samples_leaf': 4}.\n",
      "[I 2020-08-08 14:04:28,242] Finished trial#54 resulted in value: 0.9298154981549814. Current best value is 0.9298154981549815 with parameters: {'n_estimators': 1463, 'criterion': 'entropy', 'max_depth': 9, 'min_samples_split': 15, 'min_samples_leaf': 4}.\n",
      "[I 2020-08-08 14:05:13,731] Finished trial#55 resulted in value: 0.9295571955719557. Current best value is 0.9298154981549815 with parameters: {'n_estimators': 1463, 'criterion': 'entropy', 'max_depth': 9, 'min_samples_split': 15, 'min_samples_leaf': 4}.\n",
      "[I 2020-08-08 14:06:09,905] Finished trial#56 resulted in value: 0.9298523985239854. Current best value is 0.9298523985239854 with parameters: {'n_estimators': 1183, 'criterion': 'entropy', 'max_depth': 9, 'min_samples_split': 13, 'min_samples_leaf': 4}.\n",
      "[I 2020-08-08 14:07:00,994] Finished trial#57 resulted in value: 0.9296309963099632. Current best value is 0.9298523985239854 with parameters: {'n_estimators': 1183, 'criterion': 'entropy', 'max_depth': 9, 'min_samples_split': 13, 'min_samples_leaf': 4}.\n",
      "[I 2020-08-08 14:08:00,098] Finished trial#58 resulted in value: 0.9298154981549814. Current best value is 0.9298523985239854 with parameters: {'n_estimators': 1183, 'criterion': 'entropy', 'max_depth': 9, 'min_samples_split': 13, 'min_samples_leaf': 4}.\n",
      "[I 2020-08-08 14:08:36,020] Finished trial#59 resulted in value: 0.9291143911439115. Current best value is 0.9298523985239854 with parameters: {'n_estimators': 1183, 'criterion': 'entropy', 'max_depth': 9, 'min_samples_split': 13, 'min_samples_leaf': 4}.\n",
      "[I 2020-08-08 14:09:06,284] Finished trial#60 resulted in value: 0.9275276752767528. Current best value is 0.9298523985239854 with parameters: {'n_estimators': 1183, 'criterion': 'entropy', 'max_depth': 9, 'min_samples_split': 13, 'min_samples_leaf': 4}.\n",
      "[I 2020-08-08 14:10:06,909] Finished trial#61 resulted in value: 0.9297047970479705. Current best value is 0.9298523985239854 with parameters: {'n_estimators': 1183, 'criterion': 'entropy', 'max_depth': 9, 'min_samples_split': 13, 'min_samples_leaf': 4}.\n",
      "[I 2020-08-08 14:11:05,706] Finished trial#62 resulted in value: 0.9298154981549814. Current best value is 0.9298523985239854 with parameters: {'n_estimators': 1183, 'criterion': 'entropy', 'max_depth': 9, 'min_samples_split': 13, 'min_samples_leaf': 4}.\n",
      "[I 2020-08-08 14:12:03,099] Finished trial#63 resulted in value: 0.9297785977859778. Current best value is 0.9298523985239854 with parameters: {'n_estimators': 1183, 'criterion': 'entropy', 'max_depth': 9, 'min_samples_split': 13, 'min_samples_leaf': 4}.\n",
      "[I 2020-08-08 14:12:57,933] Finished trial#64 resulted in value: 0.9297047970479705. Current best value is 0.9298523985239854 with parameters: {'n_estimators': 1183, 'criterion': 'entropy', 'max_depth': 9, 'min_samples_split': 13, 'min_samples_leaf': 4}.\n",
      "[I 2020-08-08 14:13:55,893] Finished trial#65 resulted in value: 0.9298154981549814. Current best value is 0.9298523985239854 with parameters: {'n_estimators': 1183, 'criterion': 'entropy', 'max_depth': 9, 'min_samples_split': 13, 'min_samples_leaf': 4}.\n",
      "[I 2020-08-08 14:14:53,208] Finished trial#66 resulted in value: 0.9298154981549814. Current best value is 0.9298523985239854 with parameters: {'n_estimators': 1183, 'criterion': 'entropy', 'max_depth': 9, 'min_samples_split': 13, 'min_samples_leaf': 4}.\n",
      "[I 2020-08-08 14:15:43,015] Finished trial#67 resulted in value: 0.9296309963099632. Current best value is 0.9298523985239854 with parameters: {'n_estimators': 1183, 'criterion': 'entropy', 'max_depth': 9, 'min_samples_split': 13, 'min_samples_leaf': 4}.\n",
      "[I 2020-08-08 14:16:44,509] Finished trial#68 resulted in value: 0.9297047970479705. Current best value is 0.9298523985239854 with parameters: {'n_estimators': 1183, 'criterion': 'entropy', 'max_depth': 9, 'min_samples_split': 13, 'min_samples_leaf': 4}.\n",
      "[I 2020-08-08 14:17:42,492] Finished trial#69 resulted in value: 0.9297416974169742. Current best value is 0.9298523985239854 with parameters: {'n_estimators': 1183, 'criterion': 'entropy', 'max_depth': 9, 'min_samples_split': 13, 'min_samples_leaf': 4}.\n",
      "[I 2020-08-08 14:18:32,778] Finished trial#70 resulted in value: 0.9295571955719557. Current best value is 0.9298523985239854 with parameters: {'n_estimators': 1183, 'criterion': 'entropy', 'max_depth': 9, 'min_samples_split': 13, 'min_samples_leaf': 4}.\n",
      "[I 2020-08-08 14:19:31,526] Finished trial#71 resulted in value: 0.9297047970479705. Current best value is 0.9298523985239854 with parameters: {'n_estimators': 1183, 'criterion': 'entropy', 'max_depth': 9, 'min_samples_split': 13, 'min_samples_leaf': 4}.\n",
      "[I 2020-08-08 14:20:28,239] Finished trial#72 resulted in value: 0.9298154981549814. Current best value is 0.9298523985239854 with parameters: {'n_estimators': 1183, 'criterion': 'entropy', 'max_depth': 9, 'min_samples_split': 13, 'min_samples_leaf': 4}.\n",
      "[I 2020-08-08 14:21:24,031] Finished trial#73 resulted in value: 0.9297416974169742. Current best value is 0.9298523985239854 with parameters: {'n_estimators': 1183, 'criterion': 'entropy', 'max_depth': 9, 'min_samples_split': 13, 'min_samples_leaf': 4}.\n",
      "[I 2020-08-08 14:22:14,270] Finished trial#74 resulted in value: 0.9298154981549814. Current best value is 0.9298523985239854 with parameters: {'n_estimators': 1183, 'criterion': 'entropy', 'max_depth': 9, 'min_samples_split': 13, 'min_samples_leaf': 4}.\n",
      "[I 2020-08-08 14:23:04,868] Finished trial#75 resulted in value: 0.9297785977859778. Current best value is 0.9298523985239854 with parameters: {'n_estimators': 1183, 'criterion': 'entropy', 'max_depth': 9, 'min_samples_split': 13, 'min_samples_leaf': 4}.\n",
      "[I 2020-08-08 14:23:46,417] Finished trial#76 resulted in value: 0.9295940959409593. Current best value is 0.9298523985239854 with parameters: {'n_estimators': 1183, 'criterion': 'entropy', 'max_depth': 9, 'min_samples_split': 13, 'min_samples_leaf': 4}.\n",
      "[I 2020-08-08 14:24:39,179] Finished trial#77 resulted in value: 0.9297047970479705. Current best value is 0.9298523985239854 with parameters: {'n_estimators': 1183, 'criterion': 'entropy', 'max_depth': 9, 'min_samples_split': 13, 'min_samples_leaf': 4}.\n",
      "[I 2020-08-08 14:25:08,086] Finished trial#78 resulted in value: 0.9289667896678967. Current best value is 0.9298523985239854 with parameters: {'n_estimators': 1183, 'criterion': 'entropy', 'max_depth': 9, 'min_samples_split': 13, 'min_samples_leaf': 4}.\n",
      "[I 2020-08-08 14:25:47,318] Finished trial#79 resulted in value: 0.9296309963099632. Current best value is 0.9298523985239854 with parameters: {'n_estimators': 1183, 'criterion': 'entropy', 'max_depth': 9, 'min_samples_split': 13, 'min_samples_leaf': 4}.\n",
      "[I 2020-08-08 14:26:43,172] Finished trial#80 resulted in value: 0.9297047970479705. Current best value is 0.9298523985239854 with parameters: {'n_estimators': 1183, 'criterion': 'entropy', 'max_depth': 9, 'min_samples_split': 13, 'min_samples_leaf': 4}.\n",
      "[I 2020-08-08 14:27:41,461] Finished trial#81 resulted in value: 0.9298154981549814. Current best value is 0.9298523985239854 with parameters: {'n_estimators': 1183, 'criterion': 'entropy', 'max_depth': 9, 'min_samples_split': 13, 'min_samples_leaf': 4}.\n",
      "[I 2020-08-08 14:28:39,328] Finished trial#82 resulted in value: 0.9298154981549814. Current best value is 0.9298523985239854 with parameters: {'n_estimators': 1183, 'criterion': 'entropy', 'max_depth': 9, 'min_samples_split': 13, 'min_samples_leaf': 4}.\n",
      "[I 2020-08-08 14:29:40,279] Finished trial#83 resulted in value: 0.9297785977859778. Current best value is 0.9298523985239854 with parameters: {'n_estimators': 1183, 'criterion': 'entropy', 'max_depth': 9, 'min_samples_split': 13, 'min_samples_leaf': 4}.\n",
      "[I 2020-08-08 14:30:33,986] Finished trial#84 resulted in value: 0.9298154981549814. Current best value is 0.9298523985239854 with parameters: {'n_estimators': 1183, 'criterion': 'entropy', 'max_depth': 9, 'min_samples_split': 13, 'min_samples_leaf': 4}.\n",
      "[I 2020-08-08 14:31:28,837] Finished trial#85 resulted in value: 0.9297047970479705. Current best value is 0.9298523985239854 with parameters: {'n_estimators': 1183, 'criterion': 'entropy', 'max_depth': 9, 'min_samples_split': 13, 'min_samples_leaf': 4}.\n",
      "[I 2020-08-08 14:32:25,003] Finished trial#86 resulted in value: 0.9298154981549814. Current best value is 0.9298523985239854 with parameters: {'n_estimators': 1183, 'criterion': 'entropy', 'max_depth': 9, 'min_samples_split': 13, 'min_samples_leaf': 4}.\n",
      "[I 2020-08-08 14:33:13,498] Finished trial#87 resulted in value: 0.9295571955719557. Current best value is 0.9298523985239854 with parameters: {'n_estimators': 1183, 'criterion': 'entropy', 'max_depth': 9, 'min_samples_split': 13, 'min_samples_leaf': 4}.\n",
      "[I 2020-08-08 14:34:02,487] Finished trial#88 resulted in value: 0.9297785977859778. Current best value is 0.9298523985239854 with parameters: {'n_estimators': 1183, 'criterion': 'entropy', 'max_depth': 9, 'min_samples_split': 13, 'min_samples_leaf': 4}.\n",
      "[I 2020-08-08 14:34:46,822] Finished trial#89 resulted in value: 0.9296309963099632. Current best value is 0.9298523985239854 with parameters: {'n_estimators': 1183, 'criterion': 'entropy', 'max_depth': 9, 'min_samples_split': 13, 'min_samples_leaf': 4}.\n",
      "[I 2020-08-08 14:35:38,326] Finished trial#90 resulted in value: 0.9298154981549814. Current best value is 0.9298523985239854 with parameters: {'n_estimators': 1183, 'criterion': 'entropy', 'max_depth': 9, 'min_samples_split': 13, 'min_samples_leaf': 4}.\n",
      "[I 2020-08-08 14:36:32,205] Finished trial#91 resulted in value: 0.9298154981549814. Current best value is 0.9298523985239854 with parameters: {'n_estimators': 1183, 'criterion': 'entropy', 'max_depth': 9, 'min_samples_split': 13, 'min_samples_leaf': 4}.\n",
      "[I 2020-08-08 14:37:24,496] Finished trial#92 resulted in value: 0.9297785977859778. Current best value is 0.9298523985239854 with parameters: {'n_estimators': 1183, 'criterion': 'entropy', 'max_depth': 9, 'min_samples_split': 13, 'min_samples_leaf': 4}.\n",
      "[I 2020-08-08 14:38:14,586] Finished trial#93 resulted in value: 0.9298154981549814. Current best value is 0.9298523985239854 with parameters: {'n_estimators': 1183, 'criterion': 'entropy', 'max_depth': 9, 'min_samples_split': 13, 'min_samples_leaf': 4}.\n",
      "[I 2020-08-08 14:38:56,085] Finished trial#94 resulted in value: 0.9297047970479705. Current best value is 0.9298523985239854 with parameters: {'n_estimators': 1183, 'criterion': 'entropy', 'max_depth': 9, 'min_samples_split': 13, 'min_samples_leaf': 4}.\n",
      "[I 2020-08-08 14:39:54,703] Finished trial#95 resulted in value: 0.9297785977859778. Current best value is 0.9298523985239854 with parameters: {'n_estimators': 1183, 'criterion': 'entropy', 'max_depth': 9, 'min_samples_split': 13, 'min_samples_leaf': 4}.\n",
      "[I 2020-08-08 14:40:55,419] Finished trial#96 resulted in value: 0.9297047970479705. Current best value is 0.9298523985239854 with parameters: {'n_estimators': 1183, 'criterion': 'entropy', 'max_depth': 9, 'min_samples_split': 13, 'min_samples_leaf': 4}.\n",
      "[I 2020-08-08 14:41:38,291] Finished trial#97 resulted in value: 0.9296309963099632. Current best value is 0.9298523985239854 with parameters: {'n_estimators': 1183, 'criterion': 'entropy', 'max_depth': 9, 'min_samples_split': 13, 'min_samples_leaf': 4}.\n",
      "[I 2020-08-08 14:42:36,282] Finished trial#98 resulted in value: 0.9298154981549814. Current best value is 0.9298523985239854 with parameters: {'n_estimators': 1183, 'criterion': 'entropy', 'max_depth': 9, 'min_samples_split': 13, 'min_samples_leaf': 4}.\n",
      "[I 2020-08-08 14:43:34,804] Finished trial#99 resulted in value: 0.9297416974169741. Current best value is 0.9298523985239854 with parameters: {'n_estimators': 1183, 'criterion': 'entropy', 'max_depth': 9, 'min_samples_split': 13, 'min_samples_leaf': 4}.\n"
     ]
    },
    {
     "name": "stdout",
     "output_type": "stream",
     "text": [
      "{'n_estimators': 1183, 'criterion': 'entropy', 'max_depth': 9, 'min_samples_split': 13, 'min_samples_leaf': 4}\n",
      "0.9298523985239854\n"
     ]
    }
   ],
   "source": [
    "study_rfc = optuna.create_study(direction='maximize')\n",
    "study_rfc.optimize(objective, n_trials=100, n_jobs=4)\n",
    "print(study_rfc.best_params)\n",
    "print(study_rfc.best_value)\n",
    "rfc_best_params = study_rfc.best_params"
   ]
  },
  {
   "cell_type": "code",
   "execution_count": null,
   "metadata": {},
   "outputs": [],
   "source": []
  },
  {
   "cell_type": "code",
   "execution_count": null,
   "metadata": {},
   "outputs": [],
   "source": []
  },
  {
   "cell_type": "code",
   "execution_count": null,
   "metadata": {},
   "outputs": [],
   "source": []
  },
  {
   "cell_type": "code",
   "execution_count": null,
   "metadata": {},
   "outputs": [],
   "source": []
  },
  {
   "cell_type": "code",
   "execution_count": null,
   "metadata": {},
   "outputs": [],
   "source": []
  },
  {
   "cell_type": "code",
   "execution_count": null,
   "metadata": {},
   "outputs": [],
   "source": []
  },
  {
   "cell_type": "code",
   "execution_count": null,
   "metadata": {},
   "outputs": [],
   "source": []
  },
  {
   "cell_type": "code",
   "execution_count": null,
   "metadata": {},
   "outputs": [],
   "source": []
  },
  {
   "cell_type": "code",
   "execution_count": null,
   "metadata": {},
   "outputs": [],
   "source": []
  },
  {
   "cell_type": "code",
   "execution_count": null,
   "metadata": {},
   "outputs": [],
   "source": []
  },
  {
   "cell_type": "code",
   "execution_count": 9,
   "metadata": {},
   "outputs": [
    {
     "data": {
      "text/plain": [
       "RandomForestClassifier(criterion='entropy', max_depth=9, min_samples_leaf=4,\n",
       "                       min_samples_split=13, n_estimators=1183)"
      ]
     },
     "execution_count": 9,
     "metadata": {},
     "output_type": "execute_result"
    }
   ],
   "source": [
    "rfc = RandomForestClassifier(**rfc_best_params)\n",
    "rfc.fit(x_train, y_train)"
   ]
  },
  {
   "cell_type": "code",
   "execution_count": 11,
   "metadata": {},
   "outputs": [
    {
     "name": "stdout",
     "output_type": "stream",
     "text": [
      "train score:0.9312071692145493, test_score:0.9302583025830258\n",
      "acc:0.9302583025830258, auc:0.9220031934033673\n"
     ]
    }
   ],
   "source": [
    "train_score_rfc = rfc.score(x_train, y_train)\n",
    "test_score_rfc = rfc.score(x_test, y_test)\n",
    "\n",
    "rfc_p = rfc.predict(x_test)\n",
    "\n",
    "acc_rfc = accuracy_score(rfc_p, y_test)\n",
    "auc_rfc = roc_auc_score(rfc_p, y_test)\n",
    "\n",
    "print('train score:{}, test_score:{}'.format(train_score_rfc, test_score_rfc))\n",
    "print('acc:{}, auc:{}'.format(acc_rfc, auc_rfc))"
   ]
  },
  {
   "cell_type": "code",
   "execution_count": 12,
   "metadata": {},
   "outputs": [
    {
     "name": "stderr",
     "output_type": "stream",
     "text": [
      "findfont: Font family ['sans-serif'] not found. Falling back to DejaVu Sans.\n"
     ]
    },
    {
     "data": {
      "image/png": "[encoded data removed]",
      "text/plain": [
       "<Figure size 432x432 with 1 Axes>"
      ]
     },
     "metadata": {
      "needs_background": "light"
     },
     "output_type": "display_data"
    }
   ],
   "source": [
    "features = x_train.columns\n",
    "importances = rfc.feature_importances_\n",
    "indices = np.argsort(importances)\n",
    "\n",
    "plt.figure(figsize=(6,6))\n",
    "plt.barh(range(len(indices)), importances[indices], color='b', align='center')\n",
    "plt.yticks(range(len(indices)), features[indices])\n",
    "plt.show()"
   ]
  },
  {
   "cell_type": "markdown",
   "metadata": {},
   "source": [
    "# XGB"
   ]
  },
  {
   "cell_type": "code",
   "execution_count": null,
   "metadata": {},
   "outputs": [],
   "source": [
    "xgb = xgb.XGBClassifier()\n",
    "xgb.fit(x_train, y_train)"
   ]
  },
  {
   "cell_type": "code",
   "execution_count": null,
   "metadata": {},
   "outputs": [],
   "source": [
    "train_score_xgb = xgb.score(x_train, y_train)\n",
    "test_score_xgb = xgb.score(x_test, y_test)\n",
    "\n",
    "print('train score:{}, test_score:{}'.format(train_score_xgb, test_score_xgb))"
   ]
  },
  {
   "cell_type": "markdown",
   "metadata": {},
   "source": [
    "# LGB"
   ]
  },
  {
   "cell_type": "code",
   "execution_count": null,
   "metadata": {},
   "outputs": [],
   "source": [
    "lgb_train = lgb.Dataset(x_train, y_train)\n",
    "lgb_eval = lgb.Dataset(x_test, y_test)\n",
    "\n",
    "params_lgb = {\n",
    "    'objective': 'binary',\n",
    "    'metric':'auc',\n",
    "    'num_iterations':1000,\n",
    "    'eary_stopping': 50,\n",
    "}\n",
    "\n",
    "lgb = lgb.train(params_lgb, lgb_train, valid_sets=lgb_eval, verbose_eval=100)"
   ]
  },
  {
   "cell_type": "markdown",
   "metadata": {},
   "source": [
    "# CB"
   ]
  },
  {
   "cell_type": "code",
   "execution_count": null,
   "metadata": {},
   "outputs": [],
   "source": [
    "params_cab = {\n",
    "    'iterations':1000,\n",
    "    'custom_loss':['Accuracy'],\n",
    "    'early_stopping_rounds':50,\n",
    "}"
   ]
  },
  {
   "cell_type": "code",
   "execution_count": null,
   "metadata": {},
   "outputs": [],
   "source": [
    "cab = CatBoostClassifier(**params_cab)\n",
    "\n",
    "cab.fit(x_train, y_train)"
   ]
  },
  {
   "cell_type": "code",
   "execution_count": null,
   "metadata": {},
   "outputs": [],
   "source": [
    "train_score_cab = cab.score(x_train, y_train)\n",
    "test_score_cab = cab.score(x_test, y_test)\n",
    "\n",
    "print('train score:{}, test_score:{}'.format(train_score_cab, test_score_cab))"
   ]
  },
  {
   "cell_type": "markdown",
   "metadata": {},
   "source": [
    "## submit"
   ]
  },
  {
   "cell_type": "code",
   "execution_count": null,
   "metadata": {},
   "outputs": [],
   "source": [
    "pred_rfc = rfc.predict(test_df)\n",
    "pred_xgb = xgb.predict(test_df)\n",
    "pred_lgb = lgb.predict(test_df)\n",
    "pred_cab = cab.predict(test_df)"
   ]
  },
  {
   "cell_type": "code",
   "execution_count": null,
   "metadata": {},
   "outputs": [],
   "source": [
    "pred = pd.DataFrame({\n",
    "    'RandomForest': pred_rfc,\n",
    "    'XGBoost': pred_xgb,\n",
    "    'LigntGBM': pred_lgb,\n",
    "    'CatBoost': pred_cab\n",
    "})\n",
    "\n",
    "pred['sum'] = pred.sum(axis=1)\n",
    "pred['pred'] = [i / 4.0 for i in pred['sum']]\n",
    "pred.head()"
   ]
  },
  {
   "cell_type": "markdown",
   "metadata": {},
   "source": [
    "## お試し-------ここから---------"
   ]
  },
  {
   "cell_type": "code",
   "execution_count": 14,
   "metadata": {},
   "outputs": [],
   "source": [
    "pred_rfc = rfc.predict(test_df)\n",
    "\n",
    "pred = pd.DataFrame({\n",
    "    'RandomForest': pred_rfc,\n",
    "})"
   ]
  },
  {
   "cell_type": "code",
   "execution_count": 15,
   "metadata": {},
   "outputs": [],
   "source": [
    "submission = pd.DataFrame({\n",
    "    'ID':ID,\n",
    "    'pred':pred['RandomForest']\n",
    "})\n",
    "\n",
    "\n",
    "now = datetime.datetime.now()\n",
    "file_name = 'submit/submit_' + now.strftime('%d_%H%M') + '.csv'\n",
    "\n",
    "submission.to_csv(file_name, header=False, index=False)"
   ]
  },
  {
   "cell_type": "markdown",
   "metadata": {},
   "source": [
    "# -------ここまで-----------"
   ]
  },
  {
   "cell_type": "code",
   "execution_count": null,
   "metadata": {},
   "outputs": [],
   "source": [
    "submission = pd.DataFrame({\n",
    "    'ID':ID,\n",
    "    'pred':pred['pred']\n",
    "})\n",
    "\n",
    "\n",
    "now = datetime.datetime.now()\n",
    "file_name = 'submit/submit_' + now.strftime('%d_%H%M') + '.csv'\n",
    "\n",
    "submission.to_csv(file_name, header=False, index=False)"
   ]
  },
  {
   "cell_type": "code",
   "execution_count": null,
   "metadata": {},
   "outputs": [],
   "source": []
  },
  {
   "cell_type": "code",
   "execution_count": null,
   "metadata": {},
   "outputs": [],
   "source": []
  }
 ],
 "metadata": {
  "kernelspec": {
   "display_name": "Python 3",
   "language": "python",
   "name": "python3"
  },
  "language_info": {
   "codemirror_mode": {
    "name": "ipython",
    "version": 3
   },
   "file_extension": ".py",
   "mimetype": "text/x-python",
   "name": "python",
   "nbconvert_exporter": "python",
   "pygments_lexer": "ipython3",
   "version": "3.7.7"
  }
 },
 "nbformat": 4,
 "nbformat_minor": 4
}
