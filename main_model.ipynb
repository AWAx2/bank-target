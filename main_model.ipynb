{
 "cells": [
  {
   "cell_type": "code",
   "execution_count": 1,
   "metadata": {},
   "outputs": [],
   "source": [
    "import datetime\n",
    "from copy import copy\n",
    "import numpy as np\n",
    "import pandas as pd\n",
    "import matplotlib.pyplot as plt\n",
    "%matplotlib inline\n",
    "import seaborn as sns\n",
    "import ipywidgets\n",
    "import pickle\n",
    "import gc\n",
    "\n",
    "from sklearn.model_selection import train_test_split, StratifiedKFold, cross_val_score, cross_validate\n",
    "from sklearn.metrics import accuracy_score, roc_auc_score\n",
    "\n",
    "from sklearn.ensemble import RandomForestClassifier\n",
    "import xgboost\n",
    "from xgboost import XGBClassifier\n",
    "from lightgbm import LGBMClassifier\n",
    "from catboost import CatBoostClassifier, cv, Pool\n",
    "import optuna\n",
    "from optuna.integration import lightgbm as lgb"
   ]
  },
  {
   "cell_type": "code",
   "execution_count": 2,
   "metadata": {},
   "outputs": [],
   "source": [
    "train_df = pd.read_csv('dataset/train_16_0246.csv')\n",
    "test_df = pd.read_csv('dataset/test_16_0246.csv')"
   ]
  },
  {
   "cell_type": "code",
   "execution_count": 3,
   "metadata": {},
   "outputs": [],
   "source": [
    "ID = test_df['id']\n",
    "x = train_df.drop(columns=['y', 'id'])\n",
    "y = train_df['y']\n",
    "test_df = test_df.drop(columns=['y', 'id'])"
   ]
  },
  {
   "cell_type": "code",
   "execution_count": 4,
   "metadata": {},
   "outputs": [],
   "source": [
    "x_train, x_test, y_train, y_test = train_test_split(x, y,\n",
    "                                                    test_size=0.35,\n",
    "                                                    stratify=y,\n",
    "                                                    shuffle=True,\n",
    "                                                    random_state=18)"
   ]
  },
  {
   "cell_type": "markdown",
   "metadata": {},
   "source": [
    "# ＜Random Forest＞"
   ]
  },
  {
   "cell_type": "code",
   "execution_count": 5,
   "metadata": {},
   "outputs": [],
   "source": [
    "def objective_rf(trial):\n",
    "    \n",
    "    param_rf = {\n",
    "    'n_estimators': 1200,\n",
    "    'criterion': trial.suggest_categorical('criterion', ['gini', 'entropy']),\n",
    "    'max_depth': trial.suggest_int('max_depth', 4, 10),\n",
    "    'min_samples_split': trial.suggest_int('min_samples_split', 2, 16),\n",
    "    'random_state': 1215,\n",
    "    'verbose': 0\n",
    "    }\n",
    "    \n",
    "    rf = RandomForestClassifier(**param_rf)\n",
    "    k = 5\n",
    "    skf = StratifiedKFold(n_splits=k, shuffle=True, random_state=18)\n",
    "    \n",
    "    scoring = 'roc_auc'\n",
    "    cv_output = cross_validate(rf, x_train, y_train, scoring=scoring, cv=skf, return_estimator=True)\n",
    "    \n",
    "    return cv_output['test_score'].mean()"
   ]
  },
  {
   "cell_type": "code",
   "execution_count": 6,
   "metadata": {
    "collapsed": true,
    "jupyter": {
     "outputs_hidden": true
    }
   },
   "outputs": [
    {
     "name": "stderr",
     "output_type": "stream",
     "text": [
      "[I 2020-08-29 12:07:59,046] Finished trial#0 resulted in value: 0.8214479034864782. Current best value is 0.8214479034864782 with parameters: {'criterion': 'entropy', 'max_depth': 6, 'min_samples_split': 5}.\n",
      "[I 2020-08-29 12:08:46,378] Finished trial#1 resulted in value: 0.8302852582574651. Current best value is 0.8302852582574651 with parameters: {'criterion': 'entropy', 'max_depth': 8, 'min_samples_split': 14}.\n",
      "[I 2020-08-29 12:09:33,260] Finished trial#2 resulted in value: 0.8301567610365905. Current best value is 0.8302852582574651 with parameters: {'criterion': 'entropy', 'max_depth': 8, 'min_samples_split': 14}.\n",
      "[I 2020-08-29 12:10:15,634] Finished trial#3 resulted in value: 0.8266778249667691. Current best value is 0.8302852582574651 with parameters: {'criterion': 'entropy', 'max_depth': 8, 'min_samples_split': 14}.\n",
      "[I 2020-08-29 12:10:39,869] Finished trial#4 resulted in value: 0.8047565721865044. Current best value is 0.8302852582574651 with parameters: {'criterion': 'entropy', 'max_depth': 8, 'min_samples_split': 14}.\n",
      "[I 2020-08-29 12:11:14,276] Finished trial#5 resulted in value: 0.8207931616959122. Current best value is 0.8302852582574651 with parameters: {'criterion': 'entropy', 'max_depth': 8, 'min_samples_split': 14}.\n",
      "[I 2020-08-29 12:11:48,372] Finished trial#6 resulted in value: 0.8210575413085225. Current best value is 0.8302852582574651 with parameters: {'criterion': 'entropy', 'max_depth': 8, 'min_samples_split': 14}.\n",
      "[I 2020-08-29 12:12:19,811] Finished trial#7 resulted in value: 0.8148518730158287. Current best value is 0.8302852582574651 with parameters: {'criterion': 'entropy', 'max_depth': 8, 'min_samples_split': 14}.\n",
      "[I 2020-08-29 12:13:12,540] Finished trial#8 resulted in value: 0.8350512780268062. Current best value is 0.8350512780268062 with parameters: {'criterion': 'entropy', 'max_depth': 10, 'min_samples_split': 12}.\n",
      "[I 2020-08-29 12:13:39,534] Finished trial#9 resulted in value: 0.8075901930636211. Current best value is 0.8350512780268062 with parameters: {'criterion': 'entropy', 'max_depth': 10, 'min_samples_split': 12}.\n",
      "[I 2020-08-29 12:14:31,758] Finished trial#10 resulted in value: 0.8350311240307586. Current best value is 0.8350512780268062 with parameters: {'criterion': 'entropy', 'max_depth': 10, 'min_samples_split': 12}.\n",
      "[I 2020-08-29 12:15:23,948] Finished trial#11 resulted in value: 0.8354857909054344. Current best value is 0.8354857909054344 with parameters: {'criterion': 'entropy', 'max_depth': 10, 'min_samples_split': 15}.\n",
      "[I 2020-08-29 12:16:16,374] Finished trial#12 resulted in value: 0.8350311240307586. Current best value is 0.8354857909054344 with parameters: {'criterion': 'entropy', 'max_depth': 10, 'min_samples_split': 15}.\n",
      "[I 2020-08-29 12:17:04,998] Finished trial#13 resulted in value: 0.8333636540604262. Current best value is 0.8354857909054344 with parameters: {'criterion': 'entropy', 'max_depth': 10, 'min_samples_split': 15}.\n",
      "[I 2020-08-29 12:17:57,824] Finished trial#14 resulted in value: 0.8351758966464977. Current best value is 0.8354857909054344 with parameters: {'criterion': 'entropy', 'max_depth': 10, 'min_samples_split': 15}.\n",
      "[I 2020-08-29 12:18:46,862] Finished trial#15 resulted in value: 0.8334987038825664. Current best value is 0.8354857909054344 with parameters: {'criterion': 'entropy', 'max_depth': 10, 'min_samples_split': 15}.\n",
      "[I 2020-08-29 12:19:35,971] Finished trial#16 resulted in value: 0.8332487941465573. Current best value is 0.8354857909054344 with parameters: {'criterion': 'entropy', 'max_depth': 10, 'min_samples_split': 15}.\n",
      "[I 2020-08-29 12:20:17,887] Finished trial#17 resulted in value: 0.8296224545758056. Current best value is 0.8354857909054344 with parameters: {'criterion': 'entropy', 'max_depth': 10, 'min_samples_split': 15}.\n",
      "[I 2020-08-29 12:21:02,812] Finished trial#18 resulted in value: 0.830640568905527. Current best value is 0.8354857909054344 with parameters: {'criterion': 'entropy', 'max_depth': 10, 'min_samples_split': 15}.\n",
      "[I 2020-08-29 12:21:52,014] Finished trial#19 resulted in value: 0.8332170706705593. Current best value is 0.8354857909054344 with parameters: {'criterion': 'entropy', 'max_depth': 10, 'min_samples_split': 15}.\n",
      "[I 2020-08-29 12:22:44,843] Finished trial#20 resulted in value: 0.8355514248866692. Current best value is 0.8355514248866692 with parameters: {'criterion': 'entropy', 'max_depth': 10, 'min_samples_split': 8}.\n",
      "[I 2020-08-29 12:23:37,445] Finished trial#21 resulted in value: 0.8355514248866692. Current best value is 0.8355514248866692 with parameters: {'criterion': 'entropy', 'max_depth': 10, 'min_samples_split': 8}.\n",
      "[I 2020-08-29 12:24:26,269] Finished trial#22 resulted in value: 0.8334258488016804. Current best value is 0.8355514248866692 with parameters: {'criterion': 'entropy', 'max_depth': 10, 'min_samples_split': 8}.\n",
      "[I 2020-08-29 12:25:18,902] Finished trial#23 resulted in value: 0.8350397175298163. Current best value is 0.8355514248866692 with parameters: {'criterion': 'entropy', 'max_depth': 10, 'min_samples_split': 8}.\n",
      "[I 2020-08-29 12:26:08,196] Finished trial#24 resulted in value: 0.8334275929810662. Current best value is 0.8355514248866692 with parameters: {'criterion': 'entropy', 'max_depth': 10, 'min_samples_split': 8}.\n",
      "[I 2020-08-29 12:26:53,013] Finished trial#25 resulted in value: 0.8304425999926399. Current best value is 0.8355514248866692 with parameters: {'criterion': 'entropy', 'max_depth': 10, 'min_samples_split': 8}.\n",
      "[I 2020-08-29 12:27:34,810] Finished trial#26 resulted in value: 0.8298895670382855. Current best value is 0.8355514248866692 with parameters: {'criterion': 'entropy', 'max_depth': 10, 'min_samples_split': 8}.\n",
      "[I 2020-08-29 12:28:23,776] Finished trial#27 resulted in value: 0.8331817221772742. Current best value is 0.8355514248866692 with parameters: {'criterion': 'entropy', 'max_depth': 10, 'min_samples_split': 8}.\n",
      "[I 2020-08-29 12:29:16,484] Finished trial#28 resulted in value: 0.8355514248866692. Current best value is 0.8355514248866692 with parameters: {'criterion': 'entropy', 'max_depth': 10, 'min_samples_split': 8}.\n",
      "[I 2020-08-29 12:29:52,441] Finished trial#29 resulted in value: 0.8214479034864782. Current best value is 0.8355514248866692 with parameters: {'criterion': 'entropy', 'max_depth': 10, 'min_samples_split': 8}.\n",
      "[I 2020-08-29 12:30:37,153] Finished trial#30 resulted in value: 0.830287528563584. Current best value is 0.8355514248866692 with parameters: {'criterion': 'entropy', 'max_depth': 10, 'min_samples_split': 8}.\n",
      "[I 2020-08-29 12:31:29,977] Finished trial#31 resulted in value: 0.835385489142847. Current best value is 0.8355514248866692 with parameters: {'criterion': 'entropy', 'max_depth': 10, 'min_samples_split': 8}.\n",
      "[I 2020-08-29 12:32:22,496] Finished trial#32 resulted in value: 0.8355160280226279. Current best value is 0.8355514248866692 with parameters: {'criterion': 'entropy', 'max_depth': 10, 'min_samples_split': 8}.\n",
      "[I 2020-08-29 12:33:11,122] Finished trial#33 resulted in value: 0.8334258488016804. Current best value is 0.8355514248866692 with parameters: {'criterion': 'entropy', 'max_depth': 10, 'min_samples_split': 8}.\n",
      "[I 2020-08-29 12:34:03,493] Finished trial#34 resulted in value: 0.8351348867263442. Current best value is 0.8355514248866692 with parameters: {'criterion': 'entropy', 'max_depth': 10, 'min_samples_split': 8}.\n",
      "[I 2020-08-29 12:34:48,088] Finished trial#35 resulted in value: 0.830287528563584. Current best value is 0.8355514248866692 with parameters: {'criterion': 'entropy', 'max_depth': 10, 'min_samples_split': 8}.\n",
      "[I 2020-08-29 12:35:40,556] Finished trial#36 resulted in value: 0.835385489142847. Current best value is 0.8355514248866692 with parameters: {'criterion': 'entropy', 'max_depth': 10, 'min_samples_split': 8}.\n",
      "[I 2020-08-29 12:36:19,376] Finished trial#37 resulted in value: 0.8268878986881274. Current best value is 0.8355514248866692 with parameters: {'criterion': 'entropy', 'max_depth': 10, 'min_samples_split': 8}.\n",
      "[I 2020-08-29 12:36:50,693] Finished trial#38 resulted in value: 0.8147765414095842. Current best value is 0.8355514248866692 with parameters: {'criterion': 'entropy', 'max_depth': 10, 'min_samples_split': 8}.\n",
      "[I 2020-08-29 12:37:42,995] Finished trial#39 resulted in value: 0.8350397175298163. Current best value is 0.8355514248866692 with parameters: {'criterion': 'entropy', 'max_depth': 10, 'min_samples_split': 8}.\n",
      "[I 2020-08-29 12:38:31,389] Finished trial#40 resulted in value: 0.8328493617196664. Current best value is 0.8355514248866692 with parameters: {'criterion': 'entropy', 'max_depth': 10, 'min_samples_split': 8}.\n",
      "[I 2020-08-29 12:39:23,802] Finished trial#41 resulted in value: 0.8355514248866692. Current best value is 0.8355514248866692 with parameters: {'criterion': 'entropy', 'max_depth': 10, 'min_samples_split': 8}.\n",
      "[I 2020-08-29 12:40:16,220] Finished trial#42 resulted in value: 0.8351758966464977. Current best value is 0.8355514248866692 with parameters: {'criterion': 'entropy', 'max_depth': 10, 'min_samples_split': 8}.\n",
      "[I 2020-08-29 12:41:08,571] Finished trial#43 resulted in value: 0.8355514248866692. Current best value is 0.8355514248866692 with parameters: {'criterion': 'entropy', 'max_depth': 10, 'min_samples_split': 8}.\n",
      "[I 2020-08-29 12:42:01,042] Finished trial#44 resulted in value: 0.8355514248866692. Current best value is 0.8355514248866692 with parameters: {'criterion': 'entropy', 'max_depth': 10, 'min_samples_split': 8}.\n",
      "[I 2020-08-29 12:42:49,786] Finished trial#45 resulted in value: 0.8332487941465573. Current best value is 0.8355514248866692 with parameters: {'criterion': 'entropy', 'max_depth': 10, 'min_samples_split': 8}.\n",
      "[I 2020-08-29 12:43:42,274] Finished trial#46 resulted in value: 0.8355514248866692. Current best value is 0.8355514248866692 with parameters: {'criterion': 'entropy', 'max_depth': 10, 'min_samples_split': 8}.\n",
      "[I 2020-08-29 12:44:23,971] Finished trial#47 resulted in value: 0.8296224545758056. Current best value is 0.8355514248866692 with parameters: {'criterion': 'entropy', 'max_depth': 10, 'min_samples_split': 8}.\n",
      "[I 2020-08-29 12:44:59,885] Finished trial#48 resulted in value: 0.8211494724799696. Current best value is 0.8355514248866692 with parameters: {'criterion': 'entropy', 'max_depth': 10, 'min_samples_split': 8}.\n",
      "[I 2020-08-29 12:45:48,633] Finished trial#49 resulted in value: 0.8334275929810662. Current best value is 0.8355514248866692 with parameters: {'criterion': 'entropy', 'max_depth': 10, 'min_samples_split': 8}.\n",
      "[I 2020-08-29 12:46:29,400] Finished trial#50 resulted in value: 0.8271068721391186. Current best value is 0.8355514248866692 with parameters: {'criterion': 'entropy', 'max_depth': 10, 'min_samples_split': 8}.\n",
      "[I 2020-08-29 12:47:21,874] Finished trial#51 resulted in value: 0.8355514248866692. Current best value is 0.8355514248866692 with parameters: {'criterion': 'entropy', 'max_depth': 10, 'min_samples_split': 8}.\n",
      "[I 2020-08-29 12:48:14,557] Finished trial#52 resulted in value: 0.8351758966464977. Current best value is 0.8355514248866692 with parameters: {'criterion': 'entropy', 'max_depth': 10, 'min_samples_split': 8}.\n",
      "[I 2020-08-29 12:49:07,026] Finished trial#53 resulted in value: 0.8355160280226279. Current best value is 0.8355514248866692 with parameters: {'criterion': 'entropy', 'max_depth': 10, 'min_samples_split': 8}.\n",
      "[I 2020-08-29 12:49:59,775] Finished trial#54 resulted in value: 0.8351758966464977. Current best value is 0.8355514248866692 with parameters: {'criterion': 'entropy', 'max_depth': 10, 'min_samples_split': 8}.\n",
      "[I 2020-08-29 12:50:52,306] Finished trial#55 resulted in value: 0.8355514248866692. Current best value is 0.8355514248866692 with parameters: {'criterion': 'entropy', 'max_depth': 10, 'min_samples_split': 8}.\n",
      "[I 2020-08-29 12:51:40,900] Finished trial#56 resulted in value: 0.8331817221772742. Current best value is 0.8355514248866692 with parameters: {'criterion': 'entropy', 'max_depth': 10, 'min_samples_split': 8}.\n",
      "[I 2020-08-29 12:52:33,768] Finished trial#57 resulted in value: 0.835385489142847. Current best value is 0.8355514248866692 with parameters: {'criterion': 'entropy', 'max_depth': 10, 'min_samples_split': 8}.\n",
      "[I 2020-08-29 12:53:26,364] Finished trial#58 resulted in value: 0.8355514248866692. Current best value is 0.8355514248866692 with parameters: {'criterion': 'entropy', 'max_depth': 10, 'min_samples_split': 8}.\n",
      "[I 2020-08-29 12:54:04,967] Finished trial#59 resulted in value: 0.8274167459430434. Current best value is 0.8355514248866692 with parameters: {'criterion': 'entropy', 'max_depth': 10, 'min_samples_split': 8}.\n",
      "[I 2020-08-29 12:54:53,911] Finished trial#60 resulted in value: 0.8332487941465573. Current best value is 0.8355514248866692 with parameters: {'criterion': 'entropy', 'max_depth': 10, 'min_samples_split': 8}.\n",
      "[I 2020-08-29 12:55:46,488] Finished trial#61 resulted in value: 0.8355514248866692. Current best value is 0.8355514248866692 with parameters: {'criterion': 'entropy', 'max_depth': 10, 'min_samples_split': 8}.\n",
      "[I 2020-08-29 12:56:38,994] Finished trial#62 resulted in value: 0.8355160280226279. Current best value is 0.8355514248866692 with parameters: {'criterion': 'entropy', 'max_depth': 10, 'min_samples_split': 8}.\n",
      "[I 2020-08-29 12:57:31,650] Finished trial#63 resulted in value: 0.8351758966464977. Current best value is 0.8355514248866692 with parameters: {'criterion': 'entropy', 'max_depth': 10, 'min_samples_split': 8}.\n",
      "[I 2020-08-29 12:58:24,260] Finished trial#64 resulted in value: 0.8355514248866692. Current best value is 0.8355514248866692 with parameters: {'criterion': 'entropy', 'max_depth': 10, 'min_samples_split': 8}.\n",
      "[I 2020-08-29 12:59:16,813] Finished trial#65 resulted in value: 0.8355514248866692. Current best value is 0.8355514248866692 with parameters: {'criterion': 'entropy', 'max_depth': 10, 'min_samples_split': 8}.\n",
      "[I 2020-08-29 13:00:09,680] Finished trial#66 resulted in value: 0.835385489142847. Current best value is 0.8355514248866692 with parameters: {'criterion': 'entropy', 'max_depth': 10, 'min_samples_split': 8}.\n",
      "[I 2020-08-29 13:00:58,392] Finished trial#67 resulted in value: 0.8334258488016804. Current best value is 0.8355514248866692 with parameters: {'criterion': 'entropy', 'max_depth': 10, 'min_samples_split': 8}.\n",
      "[I 2020-08-29 13:01:50,813] Finished trial#68 resulted in value: 0.8350397175298163. Current best value is 0.8355514248866692 with parameters: {'criterion': 'entropy', 'max_depth': 10, 'min_samples_split': 8}.\n",
      "[I 2020-08-29 13:02:43,416] Finished trial#69 resulted in value: 0.8355514248866692. Current best value is 0.8355514248866692 with parameters: {'criterion': 'entropy', 'max_depth': 10, 'min_samples_split': 8}.\n",
      "[I 2020-08-29 13:03:32,018] Finished trial#70 resulted in value: 0.8329553879955945. Current best value is 0.8355514248866692 with parameters: {'criterion': 'entropy', 'max_depth': 10, 'min_samples_split': 8}.\n",
      "[I 2020-08-29 13:04:24,590] Finished trial#71 resulted in value: 0.8355514248866692. Current best value is 0.8355514248866692 with parameters: {'criterion': 'entropy', 'max_depth': 10, 'min_samples_split': 8}.\n",
      "[I 2020-08-29 13:05:17,129] Finished trial#72 resulted in value: 0.8355514248866692. Current best value is 0.8355514248866692 with parameters: {'criterion': 'entropy', 'max_depth': 10, 'min_samples_split': 8}.\n",
      "[I 2020-08-29 13:06:09,773] Finished trial#73 resulted in value: 0.8351758966464977. Current best value is 0.8355514248866692 with parameters: {'criterion': 'entropy', 'max_depth': 10, 'min_samples_split': 8}.\n",
      "[I 2020-08-29 13:07:02,436] Finished trial#74 resulted in value: 0.8355160280226279. Current best value is 0.8355514248866692 with parameters: {'criterion': 'entropy', 'max_depth': 10, 'min_samples_split': 8}.\n",
      "[I 2020-08-29 13:07:55,072] Finished trial#75 resulted in value: 0.8351758966464977. Current best value is 0.8355514248866692 with parameters: {'criterion': 'entropy', 'max_depth': 10, 'min_samples_split': 8}.\n",
      "[I 2020-08-29 13:08:47,446] Finished trial#76 resulted in value: 0.8355160280226279. Current best value is 0.8355514248866692 with parameters: {'criterion': 'entropy', 'max_depth': 10, 'min_samples_split': 8}.\n",
      "[I 2020-08-29 13:09:36,173] Finished trial#77 resulted in value: 0.8331817221772742. Current best value is 0.8355514248866692 with parameters: {'criterion': 'entropy', 'max_depth': 10, 'min_samples_split': 8}.\n",
      "[I 2020-08-29 13:10:28,846] Finished trial#78 resulted in value: 0.835385489142847. Current best value is 0.8355514248866692 with parameters: {'criterion': 'entropy', 'max_depth': 10, 'min_samples_split': 8}.\n",
      "[I 2020-08-29 13:11:21,314] Finished trial#79 resulted in value: 0.8355514248866692. Current best value is 0.8355514248866692 with parameters: {'criterion': 'entropy', 'max_depth': 10, 'min_samples_split': 8}.\n",
      "[I 2020-08-29 13:12:02,892] Finished trial#80 resulted in value: 0.8290970839691644. Current best value is 0.8355514248866692 with parameters: {'criterion': 'entropy', 'max_depth': 10, 'min_samples_split': 8}.\n",
      "[I 2020-08-29 13:12:55,502] Finished trial#81 resulted in value: 0.8355514248866692. Current best value is 0.8355514248866692 with parameters: {'criterion': 'entropy', 'max_depth': 10, 'min_samples_split': 8}.\n",
      "[I 2020-08-29 13:13:48,074] Finished trial#82 resulted in value: 0.8351758966464977. Current best value is 0.8355514248866692 with parameters: {'criterion': 'entropy', 'max_depth': 10, 'min_samples_split': 8}.\n",
      "[I 2020-08-29 13:14:36,791] Finished trial#83 resulted in value: 0.8334258488016804. Current best value is 0.8355514248866692 with parameters: {'criterion': 'entropy', 'max_depth': 10, 'min_samples_split': 8}.\n",
      "[I 2020-08-29 13:15:29,332] Finished trial#84 resulted in value: 0.8355514248866692. Current best value is 0.8355514248866692 with parameters: {'criterion': 'entropy', 'max_depth': 10, 'min_samples_split': 8}.\n",
      "[I 2020-08-29 13:16:22,126] Finished trial#85 resulted in value: 0.8355514248866692. Current best value is 0.8355514248866692 with parameters: {'criterion': 'entropy', 'max_depth': 10, 'min_samples_split': 8}.\n",
      "[I 2020-08-29 13:17:14,777] Finished trial#86 resulted in value: 0.8351758966464977. Current best value is 0.8355514248866692 with parameters: {'criterion': 'entropy', 'max_depth': 10, 'min_samples_split': 8}.\n",
      "[I 2020-08-29 13:17:46,254] Finished trial#87 resulted in value: 0.8147765414095842. Current best value is 0.8355514248866692 with parameters: {'criterion': 'entropy', 'max_depth': 10, 'min_samples_split': 8}.\n",
      "[I 2020-08-29 13:18:38,880] Finished trial#88 resulted in value: 0.8355514248866692. Current best value is 0.8355514248866692 with parameters: {'criterion': 'entropy', 'max_depth': 10, 'min_samples_split': 8}.\n",
      "[I 2020-08-29 13:19:31,628] Finished trial#89 resulted in value: 0.835385489142847. Current best value is 0.8355514248866692 with parameters: {'criterion': 'entropy', 'max_depth': 10, 'min_samples_split': 8}.\n",
      "[I 2020-08-29 13:20:20,461] Finished trial#90 resulted in value: 0.8334275929810662. Current best value is 0.8355514248866692 with parameters: {'criterion': 'entropy', 'max_depth': 10, 'min_samples_split': 8}.\n",
      "[I 2020-08-29 13:21:13,151] Finished trial#91 resulted in value: 0.8351758966464977. Current best value is 0.8355514248866692 with parameters: {'criterion': 'entropy', 'max_depth': 10, 'min_samples_split': 8}.\n",
      "[I 2020-08-29 13:22:05,670] Finished trial#92 resulted in value: 0.8355160280226279. Current best value is 0.8355514248866692 with parameters: {'criterion': 'entropy', 'max_depth': 10, 'min_samples_split': 8}.\n",
      "[I 2020-08-29 13:22:58,092] Finished trial#93 resulted in value: 0.8355160280226279. Current best value is 0.8355514248866692 with parameters: {'criterion': 'entropy', 'max_depth': 10, 'min_samples_split': 8}.\n",
      "[I 2020-08-29 13:23:50,659] Finished trial#94 resulted in value: 0.8355514248866692. Current best value is 0.8355514248866692 with parameters: {'criterion': 'entropy', 'max_depth': 10, 'min_samples_split': 8}.\n",
      "[I 2020-08-29 13:24:43,214] Finished trial#95 resulted in value: 0.8355514248866692. Current best value is 0.8355514248866692 with parameters: {'criterion': 'entropy', 'max_depth': 10, 'min_samples_split': 8}.\n",
      "[I 2020-08-29 13:25:10,350] Finished trial#96 resulted in value: 0.8075643098014182. Current best value is 0.8355514248866692 with parameters: {'criterion': 'entropy', 'max_depth': 10, 'min_samples_split': 8}.\n",
      "[I 2020-08-29 13:26:02,856] Finished trial#97 resulted in value: 0.8355514248866692. Current best value is 0.8355514248866692 with parameters: {'criterion': 'entropy', 'max_depth': 10, 'min_samples_split': 8}.\n",
      "[I 2020-08-29 13:26:55,439] Finished trial#98 resulted in value: 0.8355514248866692. Current best value is 0.8355514248866692 with parameters: {'criterion': 'entropy', 'max_depth': 10, 'min_samples_split': 8}.\n",
      "[I 2020-08-29 13:27:44,015] Finished trial#99 resulted in value: 0.8334258488016804. Current best value is 0.8355514248866692 with parameters: {'criterion': 'entropy', 'max_depth': 10, 'min_samples_split': 8}.\n"
     ]
    },
    {
     "name": "stdout",
     "output_type": "stream",
     "text": [
      "{'criterion': 'entropy', 'max_depth': 10, 'min_samples_split': 8}\n",
      "0.8355514248866692\n",
      "CPU times: user 1h 19min 51s, sys: 19 s, total: 1h 20min 10s\n",
      "Wall time: 1h 20min 22s\n"
     ]
    }
   ],
   "source": [
    "%%time\n",
    "\n",
    "study_rf = optuna.create_study(direction='maximize')\n",
    "study_rf.optimize(objective_rf, n_trials=100)\n",
    "print(study_rf.best_params)\n",
    "print(study_rf.best_value)\n",
    "rf_best_params = study_rf.best_params"
   ]
  },
  {
   "cell_type": "code",
   "execution_count": 7,
   "metadata": {},
   "outputs": [
    {
     "data": {
      "text/plain": [
       "{'criterion': 'entropy', 'max_depth': 10, 'min_samples_split': 8}"
      ]
     },
     "execution_count": 7,
     "metadata": {},
     "output_type": "execute_result"
    }
   ],
   "source": [
    "rf_best_params"
   ]
  },
  {
   "cell_type": "code",
   "execution_count": 8,
   "metadata": {},
   "outputs": [
    {
     "data": {
      "text/plain": [
       "RandomForestClassifier(criterion='entropy', max_depth=10, min_samples_split=8,\n",
       "                       n_estimators=1200, n_jobs=-1, random_state=1215)"
      ]
     },
     "execution_count": 8,
     "metadata": {},
     "output_type": "execute_result"
    }
   ],
   "source": [
    "rf_best_params = {\n",
    "    'n_estimators': 1200,\n",
    "    'criterion': 'entropy',\n",
    "    'max_depth': 10,\n",
    "    'min_samples_split': 8,\n",
    "    'random_state': 1215,\n",
    "    'verbose': 0\n",
    "}\n",
    "\n",
    "\n",
    "rf = RandomForestClassifier(**rf_best_params, n_jobs=-1)\n",
    "rf.fit(x_train, y_train)"
   ]
  },
  {
   "cell_type": "code",
   "execution_count": 9,
   "metadata": {},
   "outputs": [
    {
     "name": "stdout",
     "output_type": "stream",
     "text": [
      "train score:0.9341470337780301, test_score:0.9291512915129151\n",
      "acc:0.9291512915129151, auc:0.8989371284453251\n"
     ]
    }
   ],
   "source": [
    "train_score_rf = rf.score(x_train, y_train)\n",
    "test_score_rf = rf.score(x_test, y_test)\n",
    "\n",
    "rf_p = rf.predict(x_test)\n",
    "\n",
    "acc_rf = accuracy_score(rf_p, y_test)\n",
    "auc_rf = roc_auc_score(rf_p, y_test)\n",
    "\n",
    "print('train score:{}, test_score:{}'.format(train_score_rf, test_score_rf))\n",
    "print('acc:{}, auc:{}'.format(acc_rf, auc_rf))"
   ]
  },
  {
   "cell_type": "code",
   "execution_count": 10,
   "metadata": {},
   "outputs": [
    {
     "data": {
      "image/png": "[encoded data removed]",
      "text/plain": [
       "<Figure size 432x432 with 1 Axes>"
      ]
     },
     "metadata": {
      "needs_background": "light"
     },
     "output_type": "display_data"
    }
   ],
   "source": [
    "features = x_train.columns\n",
    "importances = rf.feature_importances_\n",
    "indices = np.argsort(importances)\n",
    "\n",
    "plt.figure(figsize=(6,6))\n",
    "plt.barh(range(len(indices)), importances[indices], color='darkviolet', align='center')\n",
    "plt.yticks(range(len(indices)), features[indices])\n",
    "plt.show()"
   ]
  },
  {
   "cell_type": "code",
   "execution_count": 11,
   "metadata": {},
   "outputs": [
    {
     "data": {
      "text/html": [
       "<div>\n",
       "<style scoped>\n",
       "    .dataframe tbody tr th:only-of-type {\n",
       "        vertical-align: middle;\n",
       "    }\n",
       "\n",
       "    .dataframe tbody tr th {\n",
       "        vertical-align: top;\n",
       "    }\n",
       "\n",
       "    .dataframe thead th {\n",
       "        text-align: right;\n",
       "    }\n",
       "</style>\n",
       "<table border=\"1\" class=\"dataframe\">\n",
       "  <thead>\n",
       "    <tr style=\"text-align: right;\">\n",
       "      <th></th>\n",
       "      <th>0</th>\n",
       "      <th>1</th>\n",
       "    </tr>\n",
       "  </thead>\n",
       "  <tbody>\n",
       "    <tr>\n",
       "      <th>0</th>\n",
       "      <td>0.328937</td>\n",
       "      <td>0.671063</td>\n",
       "    </tr>\n",
       "    <tr>\n",
       "      <th>1</th>\n",
       "      <td>0.922570</td>\n",
       "      <td>0.077430</td>\n",
       "    </tr>\n",
       "    <tr>\n",
       "      <th>2</th>\n",
       "      <td>0.962256</td>\n",
       "      <td>0.037744</td>\n",
       "    </tr>\n",
       "    <tr>\n",
       "      <th>3</th>\n",
       "      <td>0.997722</td>\n",
       "      <td>0.002278</td>\n",
       "    </tr>\n",
       "    <tr>\n",
       "      <th>4</th>\n",
       "      <td>0.896759</td>\n",
       "      <td>0.103241</td>\n",
       "    </tr>\n",
       "  </tbody>\n",
       "</table>\n",
       "</div>"
      ],
      "text/plain": [
       "          0         1\n",
       "0  0.328937  0.671063\n",
       "1  0.922570  0.077430\n",
       "2  0.962256  0.037744\n",
       "3  0.997722  0.002278\n",
       "4  0.896759  0.103241"
      ]
     },
     "execution_count": 11,
     "metadata": {},
     "output_type": "execute_result"
    }
   ],
   "source": [
    "pred_rf = rf.predict_proba(test_df)\n",
    "rf_p = pd.DataFrame(pred_rf)\n",
    "rf_p.head()"
   ]
  },
  {
   "cell_type": "code",
   "execution_count": 13,
   "metadata": {},
   "outputs": [],
   "source": [
    "now = datetime.datetime.now()\n",
    "\n",
    "rf_name = 'models/RF_' + now.strftime('%d_%H%M') + '.pkl'\n",
    "pickle.dump(rf, open(rf_name, 'wb'))"
   ]
  },
  {
   "cell_type": "markdown",
   "metadata": {},
   "source": [
    "# ＜XGBoost＞"
   ]
  },
  {
   "cell_type": "code",
   "execution_count": 5,
   "metadata": {},
   "outputs": [],
   "source": [
    "def obj_xgb(trial):\n",
    "    \n",
    "    param_xgb = {\n",
    "        'objective': 'binary:logistic',\n",
    "        'booster': 'dart',\n",
    "        'eval_metric': 'auc',\n",
    "        'eta': 0.01,\n",
    "        'n_estimators': 1000,\n",
    "        'early_stopping_rounds': 100,\n",
    "        'max_depth': trial.suggest_int('max_depth', 7, 12),\n",
    "        'min_child_weight': trial.suggest_int('min_child_weight', 1, 5),\n",
    "        'subsample': trial.suggest_discrete_uniform('subsample', 0.8, 1.0, 0.1),\n",
    "        'colsample_bytree': trial.suggest_discrete_uniform('colsample_bytree', 0.80, 1.00, 0.05),\n",
    "        'gamma': 0.0,\n",
    "        'alpha': 0.0,\n",
    "        'seed': 18\n",
    "    }\n",
    "    \n",
    "    xgb = XGBClassifier(**param_xgb)\n",
    "    k = 5\n",
    "    skf = StratifiedKFold(n_splits=k, shuffle=True, random_state=18)\n",
    "    \n",
    "    scoring = 'roc_auc'\n",
    "    cv_output = cross_validate(xgb, x_train, y_train, scoring=scoring, cv=skf)\n",
    "    \n",
    "    return cv_output['test_score'].mean()"
   ]
  },
  {
   "cell_type": "code",
   "execution_count": 6,
   "metadata": {
    "collapsed": true,
    "jupyter": {
     "outputs_hidden": true
    }
   },
   "outputs": [
    {
     "name": "stderr",
     "output_type": "stream",
     "text": [
      "[I 2020-08-28 05:22:03,395] Finished trial#0 resulted in value: 0.8464100736984193. Current best value is 0.8464100736984193 with parameters: {'max_depth': 11, 'min_child_weight': 4, 'subsample': 0.8, 'colsample_bytree': 1.0}.\n",
      "[I 2020-08-28 05:29:48,398] Finished trial#1 resulted in value: 0.8506338810779287. Current best value is 0.8506338810779287 with parameters: {'max_depth': 7, 'min_child_weight': 1, 'subsample': 0.8, 'colsample_bytree': 0.8}.\n",
      "[I 2020-08-28 05:39:32,953] Finished trial#2 resulted in value: 0.8403898824117914. Current best value is 0.8506338810779287 with parameters: {'max_depth': 7, 'min_child_weight': 1, 'subsample': 0.8, 'colsample_bytree': 0.8}.\n",
      "[I 2020-08-28 05:49:59,023] Finished trial#3 resulted in value: 0.8491352319493174. Current best value is 0.8506338810779287 with parameters: {'max_depth': 7, 'min_child_weight': 1, 'subsample': 0.8, 'colsample_bytree': 0.8}.\n",
      "[I 2020-08-28 06:00:08,703] Finished trial#4 resulted in value: 0.8478259986953361. Current best value is 0.8506338810779287 with parameters: {'max_depth': 7, 'min_child_weight': 1, 'subsample': 0.8, 'colsample_bytree': 0.8}.\n",
      "[I 2020-08-28 06:08:38,480] Finished trial#5 resulted in value: 0.8489539563444648. Current best value is 0.8506338810779287 with parameters: {'max_depth': 7, 'min_child_weight': 1, 'subsample': 0.8, 'colsample_bytree': 0.8}.\n",
      "[I 2020-08-28 06:17:23,287] Finished trial#6 resulted in value: 0.8341647120258223. Current best value is 0.8506338810779287 with parameters: {'max_depth': 7, 'min_child_weight': 1, 'subsample': 0.8, 'colsample_bytree': 0.8}.\n",
      "[I 2020-08-28 06:24:41,681] Finished trial#7 resulted in value: 0.8499741529915917. Current best value is 0.8506338810779287 with parameters: {'max_depth': 7, 'min_child_weight': 1, 'subsample': 0.8, 'colsample_bytree': 0.8}.\n",
      "[I 2020-08-28 06:34:16,285] Finished trial#8 resulted in value: 0.8491698658175661. Current best value is 0.8506338810779287 with parameters: {'max_depth': 7, 'min_child_weight': 1, 'subsample': 0.8, 'colsample_bytree': 0.8}.\n",
      "[I 2020-08-28 06:46:18,465] Finished trial#9 resulted in value: 0.8399497215709262. Current best value is 0.8506338810779287 with parameters: {'max_depth': 7, 'min_child_weight': 1, 'subsample': 0.8, 'colsample_bytree': 0.8}.\n",
      "[I 2020-08-28 06:53:46,738] Finished trial#10 resulted in value: 0.8520275434871006. Current best value is 0.8520275434871006 with parameters: {'max_depth': 7, 'min_child_weight': 2, 'subsample': 0.8, 'colsample_bytree': 0.8}.\n",
      "[I 2020-08-28 07:01:14,278] Finished trial#11 resulted in value: 0.8520275434871006. Current best value is 0.8520275434871006 with parameters: {'max_depth': 7, 'min_child_weight': 2, 'subsample': 0.8, 'colsample_bytree': 0.8}.\n",
      "[I 2020-08-28 07:08:40,918] Finished trial#12 resulted in value: 0.8520275434871006. Current best value is 0.8520275434871006 with parameters: {'max_depth': 7, 'min_child_weight': 2, 'subsample': 0.8, 'colsample_bytree': 0.8}.\n",
      "[I 2020-08-28 07:17:40,844] Finished trial#13 resulted in value: 0.8495690137461374. Current best value is 0.8520275434871006 with parameters: {'max_depth': 7, 'min_child_weight': 2, 'subsample': 0.8, 'colsample_bytree': 0.8}.\n",
      "[I 2020-08-28 07:30:51,195] Finished trial#14 resulted in value: 0.8446189989867058. Current best value is 0.8520275434871006 with parameters: {'max_depth': 7, 'min_child_weight': 2, 'subsample': 0.8, 'colsample_bytree': 0.8}.\n",
      "[I 2020-08-28 07:38:03,948] Finished trial#15 resulted in value: 0.8520318352617181. Current best value is 0.8520318352617181 with parameters: {'max_depth': 7, 'min_child_weight': 3, 'subsample': 0.9, 'colsample_bytree': 0.8500000000000001}.\n",
      "[I 2020-08-28 07:45:43,339] Finished trial#16 resulted in value: 0.8479820904704143. Current best value is 0.8520318352617181 with parameters: {'max_depth': 7, 'min_child_weight': 3, 'subsample': 0.9, 'colsample_bytree': 0.8500000000000001}.\n",
      "[I 2020-08-28 07:55:26,304] Finished trial#17 resulted in value: 0.8469373927176449. Current best value is 0.8520318352617181 with parameters: {'max_depth': 7, 'min_child_weight': 3, 'subsample': 0.9, 'colsample_bytree': 0.8500000000000001}.\n",
      "[I 2020-08-28 08:02:22,551] Finished trial#18 resulted in value: 0.8532908805510815. Current best value is 0.8532908805510815 with parameters: {'max_depth': 7, 'min_child_weight': 5, 'subsample': 0.9, 'colsample_bytree': 0.8500000000000001}.\n",
      "[I 2020-08-28 08:11:31,718] Finished trial#19 resulted in value: 0.8506200885405623. Current best value is 0.8532908805510815 with parameters: {'max_depth': 7, 'min_child_weight': 5, 'subsample': 0.9, 'colsample_bytree': 0.8500000000000001}.\n",
      "[I 2020-08-28 08:18:34,555] Finished trial#20 resulted in value: 0.845777278744805. Current best value is 0.8532908805510815 with parameters: {'max_depth': 7, 'min_child_weight': 5, 'subsample': 0.9, 'colsample_bytree': 0.8500000000000001}.\n",
      "[I 2020-08-28 08:25:40,543] Finished trial#21 resulted in value: 0.8522301350445607. Current best value is 0.8532908805510815 with parameters: {'max_depth': 7, 'min_child_weight': 5, 'subsample': 0.9, 'colsample_bytree': 0.8500000000000001}.\n",
      "[I 2020-08-28 08:32:44,523] Finished trial#22 resulted in value: 0.8522301350445607. Current best value is 0.8532908805510815 with parameters: {'max_depth': 7, 'min_child_weight': 5, 'subsample': 0.9, 'colsample_bytree': 0.8500000000000001}.\n",
      "[I 2020-08-28 08:39:50,670] Finished trial#23 resulted in value: 0.8522301350445607. Current best value is 0.8532908805510815 with parameters: {'max_depth': 7, 'min_child_weight': 5, 'subsample': 0.9, 'colsample_bytree': 0.8500000000000001}.\n",
      "[I 2020-08-28 08:47:59,574] Finished trial#24 resulted in value: 0.8516719804800692. Current best value is 0.8532908805510815 with parameters: {'max_depth': 7, 'min_child_weight': 5, 'subsample': 0.9, 'colsample_bytree': 0.8500000000000001}.\n",
      "[I 2020-08-28 08:55:08,338] Finished trial#25 resulted in value: 0.8522301350445607. Current best value is 0.8532908805510815 with parameters: {'max_depth': 7, 'min_child_weight': 5, 'subsample': 0.9, 'colsample_bytree': 0.8500000000000001}.\n",
      "[I 2020-08-28 09:03:33,853] Finished trial#26 resulted in value: 0.8511148839214189. Current best value is 0.8532908805510815 with parameters: {'max_depth': 7, 'min_child_weight': 5, 'subsample': 0.9, 'colsample_bytree': 0.8500000000000001}.\n",
      "[I 2020-08-28 09:11:50,967] Finished trial#27 resulted in value: 0.845526001336046. Current best value is 0.8532908805510815 with parameters: {'max_depth': 7, 'min_child_weight': 5, 'subsample': 0.9, 'colsample_bytree': 0.8500000000000001}.\n",
      "[I 2020-08-28 09:23:22,788] Finished trial#28 resulted in value: 0.8448367244374821. Current best value is 0.8532908805510815 with parameters: {'max_depth': 7, 'min_child_weight': 5, 'subsample': 0.9, 'colsample_bytree': 0.8500000000000001}.\n",
      "[I 2020-08-28 09:34:39,611] Finished trial#29 resulted in value: 0.8485359916681426. Current best value is 0.8532908805510815 with parameters: {'max_depth': 7, 'min_child_weight': 5, 'subsample': 0.9, 'colsample_bytree': 0.8500000000000001}.\n",
      "[I 2020-08-28 09:41:10,002] Finished trial#30 resulted in value: 0.8499222730108368. Current best value is 0.8532908805510815 with parameters: {'max_depth': 7, 'min_child_weight': 5, 'subsample': 0.9, 'colsample_bytree': 0.8500000000000001}.\n",
      "[I 2020-08-28 09:48:18,605] Finished trial#31 resulted in value: 0.8522301350445607. Current best value is 0.8532908805510815 with parameters: {'max_depth': 7, 'min_child_weight': 5, 'subsample': 0.9, 'colsample_bytree': 0.8500000000000001}.\n",
      "[I 2020-08-28 09:55:23,963] Finished trial#32 resulted in value: 0.8522301350445607. Current best value is 0.8532908805510815 with parameters: {'max_depth': 7, 'min_child_weight': 5, 'subsample': 0.9, 'colsample_bytree': 0.8500000000000001}.\n",
      "[I 2020-08-28 10:02:24,849] Finished trial#33 resulted in value: 0.8516097937352949. Current best value is 0.8532908805510815 with parameters: {'max_depth': 7, 'min_child_weight': 5, 'subsample': 0.9, 'colsample_bytree': 0.8500000000000001}.\n",
      "[I 2020-08-28 10:11:09,349] Finished trial#34 resulted in value: 0.8502718738481951. Current best value is 0.8532908805510815 with parameters: {'max_depth': 7, 'min_child_weight': 5, 'subsample': 0.9, 'colsample_bytree': 0.8500000000000001}.\n",
      "[I 2020-08-28 10:18:08,507] Finished trial#35 resulted in value: 0.8532908805510815. Current best value is 0.8532908805510815 with parameters: {'max_depth': 7, 'min_child_weight': 5, 'subsample': 0.9, 'colsample_bytree': 0.8500000000000001}.\n",
      "[I 2020-08-28 10:26:23,683] Finished trial#36 resulted in value: 0.8518621974333754. Current best value is 0.8532908805510815 with parameters: {'max_depth': 7, 'min_child_weight': 5, 'subsample': 0.9, 'colsample_bytree': 0.8500000000000001}.\n",
      "[I 2020-08-28 10:33:24,338] Finished trial#37 resulted in value: 0.8532908805510815. Current best value is 0.8532908805510815 with parameters: {'max_depth': 7, 'min_child_weight': 5, 'subsample': 0.9, 'colsample_bytree': 0.8500000000000001}.\n",
      "[I 2020-08-28 10:39:55,770] Finished trial#38 resulted in value: 0.8499222730108368. Current best value is 0.8532908805510815 with parameters: {'max_depth': 7, 'min_child_weight': 5, 'subsample': 0.9, 'colsample_bytree': 0.8500000000000001}.\n",
      "[I 2020-08-28 10:48:11,224] Finished trial#39 resulted in value: 0.8518621974333754. Current best value is 0.8532908805510815 with parameters: {'max_depth': 7, 'min_child_weight': 5, 'subsample': 0.9, 'colsample_bytree': 0.8500000000000001}.\n",
      "[I 2020-08-28 10:55:06,743] Finished trial#40 resulted in value: 0.8532908805510815. Current best value is 0.8532908805510815 with parameters: {'max_depth': 7, 'min_child_weight': 5, 'subsample': 0.9, 'colsample_bytree': 0.8500000000000001}.\n",
      "[I 2020-08-28 11:02:02,083] Finished trial#41 resulted in value: 0.8532908805510815. Current best value is 0.8532908805510815 with parameters: {'max_depth': 7, 'min_child_weight': 5, 'subsample': 0.9, 'colsample_bytree': 0.8500000000000001}.\n",
      "[I 2020-08-28 11:08:58,378] Finished trial#42 resulted in value: 0.8532908805510815. Current best value is 0.8532908805510815 with parameters: {'max_depth': 7, 'min_child_weight': 5, 'subsample': 0.9, 'colsample_bytree': 0.8500000000000001}.\n",
      "[I 2020-08-28 11:15:51,832] Finished trial#43 resulted in value: 0.8532908805510815. Current best value is 0.8532908805510815 with parameters: {'max_depth': 7, 'min_child_weight': 5, 'subsample': 0.9, 'colsample_bytree': 0.8500000000000001}.\n",
      "[I 2020-08-28 11:24:01,522] Finished trial#44 resulted in value: 0.8518621974333754. Current best value is 0.8532908805510815 with parameters: {'max_depth': 7, 'min_child_weight': 5, 'subsample': 0.9, 'colsample_bytree': 0.8500000000000001}.\n",
      "[I 2020-08-28 11:30:56,218] Finished trial#45 resulted in value: 0.8532908805510815. Current best value is 0.8532908805510815 with parameters: {'max_depth': 7, 'min_child_weight': 5, 'subsample': 0.9, 'colsample_bytree': 0.8500000000000001}.\n",
      "[I 2020-08-28 11:37:51,556] Finished trial#46 resulted in value: 0.8532908805510815. Current best value is 0.8532908805510815 with parameters: {'max_depth': 7, 'min_child_weight': 5, 'subsample': 0.9, 'colsample_bytree': 0.8500000000000001}.\n",
      "[I 2020-08-28 11:46:04,835] Finished trial#47 resulted in value: 0.8527435471733853. Current best value is 0.8532908805510815 with parameters: {'max_depth': 7, 'min_child_weight': 5, 'subsample': 0.9, 'colsample_bytree': 0.8500000000000001}.\n",
      "[I 2020-08-28 11:53:01,542] Finished trial#48 resulted in value: 0.8532908805510815. Current best value is 0.8532908805510815 with parameters: {'max_depth': 7, 'min_child_weight': 5, 'subsample': 0.9, 'colsample_bytree': 0.8500000000000001}.\n",
      "[I 2020-08-28 12:03:40,935] Finished trial#49 resulted in value: 0.8499880042170144. Current best value is 0.8532908805510815 with parameters: {'max_depth': 7, 'min_child_weight': 5, 'subsample': 0.9, 'colsample_bytree': 0.8500000000000001}.\n",
      "[I 2020-08-28 12:10:36,335] Finished trial#50 resulted in value: 0.8532908805510815. Current best value is 0.8532908805510815 with parameters: {'max_depth': 7, 'min_child_weight': 5, 'subsample': 0.9, 'colsample_bytree': 0.8500000000000001}.\n",
      "[I 2020-08-28 12:17:33,055] Finished trial#51 resulted in value: 0.8532908805510815. Current best value is 0.8532908805510815 with parameters: {'max_depth': 7, 'min_child_weight': 5, 'subsample': 0.9, 'colsample_bytree': 0.8500000000000001}.\n",
      "[I 2020-08-28 12:24:29,206] Finished trial#52 resulted in value: 0.8532908805510815. Current best value is 0.8532908805510815 with parameters: {'max_depth': 7, 'min_child_weight': 5, 'subsample': 0.9, 'colsample_bytree': 0.8500000000000001}.\n",
      "[I 2020-08-28 12:31:21,852] Finished trial#53 resulted in value: 0.8532908805510815. Current best value is 0.8532908805510815 with parameters: {'max_depth': 7, 'min_child_weight': 5, 'subsample': 0.9, 'colsample_bytree': 0.8500000000000001}.\n",
      "[I 2020-08-28 12:39:28,934] Finished trial#54 resulted in value: 0.8518621974333754. Current best value is 0.8532908805510815 with parameters: {'max_depth': 7, 'min_child_weight': 5, 'subsample': 0.9, 'colsample_bytree': 0.8500000000000001}.\n",
      "[I 2020-08-28 12:46:20,306] Finished trial#55 resulted in value: 0.8532908805510815. Current best value is 0.8532908805510815 with parameters: {'max_depth': 7, 'min_child_weight': 5, 'subsample': 0.9, 'colsample_bytree': 0.8500000000000001}.\n",
      "[I 2020-08-28 12:53:11,164] Finished trial#56 resulted in value: 0.8532908805510815. Current best value is 0.8532908805510815 with parameters: {'max_depth': 7, 'min_child_weight': 5, 'subsample': 0.9, 'colsample_bytree': 0.8500000000000001}.\n",
      "[I 2020-08-28 13:01:18,244] Finished trial#57 resulted in value: 0.8518621974333754. Current best value is 0.8532908805510815 with parameters: {'max_depth': 7, 'min_child_weight': 5, 'subsample': 0.9, 'colsample_bytree': 0.8500000000000001}.\n",
      "[I 2020-08-28 13:08:14,595] Finished trial#58 resulted in value: 0.8536475593553243. Current best value is 0.8536475593553243 with parameters: {'max_depth': 7, 'min_child_weight': 5, 'subsample': 0.8, 'colsample_bytree': 0.8}.\n",
      "[I 2020-08-28 13:15:17,688] Finished trial#59 resulted in value: 0.8536152980453661. Current best value is 0.8536475593553243 with parameters: {'max_depth': 7, 'min_child_weight': 5, 'subsample': 0.8, 'colsample_bytree': 0.8}.\n",
      "[I 2020-08-28 13:23:39,434] Finished trial#60 resulted in value: 0.8525579446493452. Current best value is 0.8536475593553243 with parameters: {'max_depth': 7, 'min_child_weight': 5, 'subsample': 0.8, 'colsample_bytree': 0.8}.\n",
      "[I 2020-08-28 13:30:34,204] Finished trial#61 resulted in value: 0.8536475593553243. Current best value is 0.8536475593553243 with parameters: {'max_depth': 7, 'min_child_weight': 5, 'subsample': 0.8, 'colsample_bytree': 0.8}.\n",
      "[I 2020-08-28 13:37:37,408] Finished trial#62 resulted in value: 0.8536152980453661. Current best value is 0.8536475593553243 with parameters: {'max_depth': 7, 'min_child_weight': 5, 'subsample': 0.8, 'colsample_bytree': 0.8}.\n",
      "[I 2020-08-28 13:44:46,343] Finished trial#63 resulted in value: 0.8531244745447125. Current best value is 0.8536475593553243 with parameters: {'max_depth': 7, 'min_child_weight': 5, 'subsample': 0.8, 'colsample_bytree': 0.8}.\n",
      "[I 2020-08-28 13:51:48,016] Finished trial#64 resulted in value: 0.8536152980453661. Current best value is 0.8536475593553243 with parameters: {'max_depth': 7, 'min_child_weight': 5, 'subsample': 0.8, 'colsample_bytree': 0.8}.\n",
      "[I 2020-08-28 13:58:49,339] Finished trial#65 resulted in value: 0.8536152980453661. Current best value is 0.8536475593553243 with parameters: {'max_depth': 7, 'min_child_weight': 5, 'subsample': 0.8, 'colsample_bytree': 0.8}.\n",
      "[I 2020-08-28 14:05:57,265] Finished trial#66 resulted in value: 0.8536152980453661. Current best value is 0.8536475593553243 with parameters: {'max_depth': 7, 'min_child_weight': 5, 'subsample': 0.8, 'colsample_bytree': 0.8}.\n",
      "[I 2020-08-28 14:14:14,272] Finished trial#67 resulted in value: 0.8525579446493452. Current best value is 0.8536475593553243 with parameters: {'max_depth': 7, 'min_child_weight': 5, 'subsample': 0.8, 'colsample_bytree': 0.8}.\n",
      "[I 2020-08-28 14:21:16,650] Finished trial#68 resulted in value: 0.8526727068156024. Current best value is 0.8536475593553243 with parameters: {'max_depth': 7, 'min_child_weight': 5, 'subsample': 0.8, 'colsample_bytree': 0.8}.\n",
      "[I 2020-08-28 14:28:17,055] Finished trial#69 resulted in value: 0.8536152980453661. Current best value is 0.8536475593553243 with parameters: {'max_depth': 7, 'min_child_weight': 5, 'subsample': 0.8, 'colsample_bytree': 0.8}.\n",
      "[I 2020-08-28 14:37:40,245] Finished trial#70 resulted in value: 0.8510924231778197. Current best value is 0.8536475593553243 with parameters: {'max_depth': 7, 'min_child_weight': 5, 'subsample': 0.8, 'colsample_bytree': 0.8}.\n",
      "[I 2020-08-28 14:44:41,100] Finished trial#71 resulted in value: 0.8536152980453661. Current best value is 0.8536475593553243 with parameters: {'max_depth': 7, 'min_child_weight': 5, 'subsample': 0.8, 'colsample_bytree': 0.8}.\n",
      "[I 2020-08-28 14:51:41,319] Finished trial#72 resulted in value: 0.8536152980453661. Current best value is 0.8536475593553243 with parameters: {'max_depth': 7, 'min_child_weight': 5, 'subsample': 0.8, 'colsample_bytree': 0.8}.\n",
      "[I 2020-08-28 14:58:40,590] Finished trial#73 resulted in value: 0.8536152980453661. Current best value is 0.8536475593553243 with parameters: {'max_depth': 7, 'min_child_weight': 5, 'subsample': 0.8, 'colsample_bytree': 0.8}.\n",
      "[I 2020-08-28 15:05:48,031] Finished trial#74 resulted in value: 0.8531244745447125. Current best value is 0.8536475593553243 with parameters: {'max_depth': 7, 'min_child_weight': 5, 'subsample': 0.8, 'colsample_bytree': 0.8}.\n",
      "[I 2020-08-28 15:12:50,794] Finished trial#75 resulted in value: 0.8536152980453661. Current best value is 0.8536475593553243 with parameters: {'max_depth': 7, 'min_child_weight': 5, 'subsample': 0.8, 'colsample_bytree': 0.8}.\n",
      "[I 2020-08-28 15:19:46,771] Finished trial#76 resulted in value: 0.8523564634209448. Current best value is 0.8536475593553243 with parameters: {'max_depth': 7, 'min_child_weight': 5, 'subsample': 0.8, 'colsample_bytree': 0.8}.\n",
      "[I 2020-08-28 15:28:00,214] Finished trial#77 resulted in value: 0.8521486011624582. Current best value is 0.8536475593553243 with parameters: {'max_depth': 7, 'min_child_weight': 5, 'subsample': 0.8, 'colsample_bytree': 0.8}.\n",
      "[I 2020-08-28 15:38:13,943] Finished trial#78 resulted in value: 0.8503109929413869. Current best value is 0.8536475593553243 with parameters: {'max_depth': 7, 'min_child_weight': 5, 'subsample': 0.8, 'colsample_bytree': 0.8}.\n",
      "[I 2020-08-28 15:45:22,327] Finished trial#79 resulted in value: 0.8531244745447125. Current best value is 0.8536475593553243 with parameters: {'max_depth': 7, 'min_child_weight': 5, 'subsample': 0.8, 'colsample_bytree': 0.8}.\n",
      "[I 2020-08-28 15:54:24,578] Finished trial#80 resulted in value: 0.8521486011624582. Current best value is 0.8536475593553243 with parameters: {'max_depth': 7, 'min_child_weight': 5, 'subsample': 0.8, 'colsample_bytree': 0.8}.\n",
      "[I 2020-08-28 16:01:33,862] Finished trial#81 resulted in value: 0.8536152980453661. Current best value is 0.8536475593553243 with parameters: {'max_depth': 7, 'min_child_weight': 5, 'subsample': 0.8, 'colsample_bytree': 0.8}.\n",
      "[I 2020-08-28 16:08:34,588] Finished trial#82 resulted in value: 0.8536152980453661. Current best value is 0.8536475593553243 with parameters: {'max_depth': 7, 'min_child_weight': 5, 'subsample': 0.8, 'colsample_bytree': 0.8}.\n",
      "[I 2020-08-28 16:15:34,501] Finished trial#83 resulted in value: 0.8536152980453661. Current best value is 0.8536475593553243 with parameters: {'max_depth': 7, 'min_child_weight': 5, 'subsample': 0.8, 'colsample_bytree': 0.8}.\n",
      "[I 2020-08-28 16:22:35,566] Finished trial#84 resulted in value: 0.8536152980453661. Current best value is 0.8536475593553243 with parameters: {'max_depth': 7, 'min_child_weight': 5, 'subsample': 0.8, 'colsample_bytree': 0.8}.\n",
      "[I 2020-08-28 16:29:35,860] Finished trial#85 resulted in value: 0.8536152980453661. Current best value is 0.8536475593553243 with parameters: {'max_depth': 7, 'min_child_weight': 5, 'subsample': 0.8, 'colsample_bytree': 0.8}.\n",
      "[I 2020-08-28 16:36:36,146] Finished trial#86 resulted in value: 0.8536152980453661. Current best value is 0.8536475593553243 with parameters: {'max_depth': 7, 'min_child_weight': 5, 'subsample': 0.8, 'colsample_bytree': 0.8}.\n",
      "[I 2020-08-28 16:43:35,554] Finished trial#87 resulted in value: 0.8536152980453661. Current best value is 0.8536475593553243 with parameters: {'max_depth': 7, 'min_child_weight': 5, 'subsample': 0.8, 'colsample_bytree': 0.8}.\n",
      "[I 2020-08-28 16:50:44,771] Finished trial#88 resulted in value: 0.8531244745447125. Current best value is 0.8536475593553243 with parameters: {'max_depth': 7, 'min_child_weight': 5, 'subsample': 0.8, 'colsample_bytree': 0.8}.\n",
      "[I 2020-08-28 16:57:45,846] Finished trial#89 resulted in value: 0.8536152980453661. Current best value is 0.8536475593553243 with parameters: {'max_depth': 7, 'min_child_weight': 5, 'subsample': 0.8, 'colsample_bytree': 0.8}.\n",
      "[I 2020-08-28 17:04:48,070] Finished trial#90 resulted in value: 0.8536152980453661. Current best value is 0.8536475593553243 with parameters: {'max_depth': 7, 'min_child_weight': 5, 'subsample': 0.8, 'colsample_bytree': 0.8}.\n",
      "[I 2020-08-28 17:11:49,070] Finished trial#91 resulted in value: 0.8536152980453661. Current best value is 0.8536475593553243 with parameters: {'max_depth': 7, 'min_child_weight': 5, 'subsample': 0.8, 'colsample_bytree': 0.8}.\n",
      "[I 2020-08-28 17:18:49,428] Finished trial#92 resulted in value: 0.8536152980453661. Current best value is 0.8536475593553243 with parameters: {'max_depth': 7, 'min_child_weight': 5, 'subsample': 0.8, 'colsample_bytree': 0.8}.\n",
      "[I 2020-08-28 17:25:48,222] Finished trial#93 resulted in value: 0.8536152980453661. Current best value is 0.8536475593553243 with parameters: {'max_depth': 7, 'min_child_weight': 5, 'subsample': 0.8, 'colsample_bytree': 0.8}.\n",
      "[I 2020-08-28 17:32:43,699] Finished trial#94 resulted in value: 0.8530644154567213. Current best value is 0.8536475593553243 with parameters: {'max_depth': 7, 'min_child_weight': 5, 'subsample': 0.8, 'colsample_bytree': 0.8}.\n",
      "[I 2020-08-28 17:39:41,827] Finished trial#95 resulted in value: 0.8536152980453661. Current best value is 0.8536475593553243 with parameters: {'max_depth': 7, 'min_child_weight': 5, 'subsample': 0.8, 'colsample_bytree': 0.8}.\n",
      "[I 2020-08-28 17:46:40,588] Finished trial#96 resulted in value: 0.8536152980453661. Current best value is 0.8536475593553243 with parameters: {'max_depth': 7, 'min_child_weight': 5, 'subsample': 0.8, 'colsample_bytree': 0.8}.\n",
      "[I 2020-08-28 17:53:40,228] Finished trial#97 resulted in value: 0.8536152980453661. Current best value is 0.8536475593553243 with parameters: {'max_depth': 7, 'min_child_weight': 5, 'subsample': 0.8, 'colsample_bytree': 0.8}.\n",
      "[I 2020-08-28 18:01:58,186] Finished trial#98 resulted in value: 0.8525579446493452. Current best value is 0.8536475593553243 with parameters: {'max_depth': 7, 'min_child_weight': 5, 'subsample': 0.8, 'colsample_bytree': 0.8}.\n",
      "[I 2020-08-28 18:09:05,632] Finished trial#99 resulted in value: 0.8531244745447125. Current best value is 0.8536475593553243 with parameters: {'max_depth': 7, 'min_child_weight': 5, 'subsample': 0.8, 'colsample_bytree': 0.8}.\n"
     ]
    },
    {
     "name": "stdout",
     "output_type": "stream",
     "text": [
      "{'max_depth': 7, 'min_child_weight': 5, 'subsample': 0.8, 'colsample_bytree': 0.8}\n",
      "0.8536475593553243\n",
      "CPU times: user 3d 3h 54min 39s, sys: 10min 12s, total: 3d 4h 4min 51s\n",
      "Wall time: 12h 57min 50s\n"
     ]
    }
   ],
   "source": [
    "%%time\n",
    "\n",
    "study_xgb = optuna.create_study(direction='maximize')\n",
    "study_xgb.optimize(obj_xgb, n_trials=100)\n",
    "print(study_xgb.best_params)\n",
    "print(study_xgb.best_value)\n",
    "xgb_best_params = study_xgb.best_params"
   ]
  },
  {
   "cell_type": "code",
   "execution_count": 7,
   "metadata": {},
   "outputs": [
    {
     "data": {
      "text/plain": [
       "{'max_depth': 7,\n",
       " 'min_child_weight': 5,\n",
       " 'subsample': 0.8,\n",
       " 'colsample_bytree': 0.8}"
      ]
     },
     "execution_count": 7,
     "metadata": {},
     "output_type": "execute_result"
    }
   ],
   "source": [
    "xgb_best_params"
   ]
  },
  {
   "cell_type": "code",
   "execution_count": 6,
   "metadata": {},
   "outputs": [
    {
     "data": {
      "text/plain": [
       "XGBClassifier(alpha=0.0, base_score=0.5, booster='dart', colsample_bylevel=1,\n",
       "              colsample_bynode=1, colsample_bytree=0.8,\n",
       "              early_stopping_rounds=100, eta=0.01, eval_metric='auc', gamma=0.0,\n",
       "              gpu_id=-1, importance_type='gain', interaction_constraints=None,\n",
       "              learning_rate=0.00999999978, max_delta_step=0, max_depth=7,\n",
       "              min_child_weight=5, missing=nan, monotone_constraints=None,\n",
       "              n_estimators=1000, n_jobs=0, num_parallel_tree=1, random_state=18,\n",
       "              reg_alpha=0, reg_lambda=1, scale_pos_weight=1, seed=18,\n",
       "              subsample=0.8, tree_method=None, validate_parameters=False, ...)"
      ]
     },
     "execution_count": 6,
     "metadata": {},
     "output_type": "execute_result"
    }
   ],
   "source": [
    "xgb_best_params = {\n",
    "        'objective': 'binary:logistic',\n",
    "        'booster': 'dart',\n",
    "        'eval_metric': 'auc',\n",
    "        'eta': 0.01,\n",
    "        'n_estimators': 1000,\n",
    "        'early_stopping_rounds': 100,\n",
    "        'max_depth': 7,\n",
    "        'min_child_weight': 5,\n",
    "        'subsample': 0.8,\n",
    "        'colsample_bytree': 0.8,\n",
    "        'gamma': 0.0,\n",
    "        'alpha': 0.0,\n",
    "        'seed': 18\n",
    "}\n",
    "\n",
    "xgb_model = XGBClassifier(**xgb_best_params)\n",
    "xgb_model.fit(x_train, y_train, eval_set=[(x_test, y_test)], verbose=False)"
   ]
  },
  {
   "cell_type": "code",
   "execution_count": 7,
   "metadata": {},
   "outputs": [
    {
     "name": "stdout",
     "output_type": "stream",
     "text": [
      "train score:0.9444791370990633, test_score:0.9319978914074855\n",
      "acc:0.9319978914074855, auc:0.8356206246634355\n"
     ]
    }
   ],
   "source": [
    "train_score_xgb = xgb_model.score(x_train, y_train)\n",
    "test_score_xgb = xgb_model.score(x_test, y_test)\n",
    "\n",
    "xgb_p = xgb_model.predict(x_test)\n",
    "\n",
    "acc_xgb = accuracy_score(xgb_p, y_test)\n",
    "auc_xgb = roc_auc_score(xgb_p, y_test)\n",
    "\n",
    "print('train score:{}, test_score:{}'.format(train_score_xgb, test_score_xgb))\n",
    "print('acc:{}, auc:{}'.format(acc_xgb, auc_xgb))"
   ]
  },
  {
   "cell_type": "code",
   "execution_count": 8,
   "metadata": {},
   "outputs": [
    {
     "data": {
      "image/png": "[encoded data removed]",
      "text/plain": [
       "<Figure size 576x576 with 1 Axes>"
      ]
     },
     "metadata": {
      "needs_background": "light"
     },
     "output_type": "display_data"
    }
   ],
   "source": [
    "_, ax = plt.subplots(figsize=(8, 8))\n",
    "xgboost.plot_importance(xgb_model,\n",
    "                    ax=ax,\n",
    "                    importance_type='gain',\n",
    "                    color='darkviolet',\n",
    "                    show_values=False)\n",
    "plt.show()"
   ]
  },
  {
   "cell_type": "code",
   "execution_count": 9,
   "metadata": {},
   "outputs": [
    {
     "data": {
      "text/html": [
       "<div>\n",
       "<style scoped>\n",
       "    .dataframe tbody tr th:only-of-type {\n",
       "        vertical-align: middle;\n",
       "    }\n",
       "\n",
       "    .dataframe tbody tr th {\n",
       "        vertical-align: top;\n",
       "    }\n",
       "\n",
       "    .dataframe thead th {\n",
       "        text-align: right;\n",
       "    }\n",
       "</style>\n",
       "<table border=\"1\" class=\"dataframe\">\n",
       "  <thead>\n",
       "    <tr style=\"text-align: right;\">\n",
       "      <th></th>\n",
       "      <th>0</th>\n",
       "      <th>1</th>\n",
       "    </tr>\n",
       "  </thead>\n",
       "  <tbody>\n",
       "    <tr>\n",
       "      <th>0</th>\n",
       "      <td>0.271734</td>\n",
       "      <td>0.728266</td>\n",
       "    </tr>\n",
       "    <tr>\n",
       "      <th>1</th>\n",
       "      <td>0.887957</td>\n",
       "      <td>0.112043</td>\n",
       "    </tr>\n",
       "    <tr>\n",
       "      <th>2</th>\n",
       "      <td>0.979612</td>\n",
       "      <td>0.020388</td>\n",
       "    </tr>\n",
       "    <tr>\n",
       "      <th>3</th>\n",
       "      <td>0.997624</td>\n",
       "      <td>0.002376</td>\n",
       "    </tr>\n",
       "    <tr>\n",
       "      <th>4</th>\n",
       "      <td>0.964795</td>\n",
       "      <td>0.035205</td>\n",
       "    </tr>\n",
       "  </tbody>\n",
       "</table>\n",
       "</div>"
      ],
      "text/plain": [
       "          0         1\n",
       "0  0.271734  0.728266\n",
       "1  0.887957  0.112043\n",
       "2  0.979612  0.020388\n",
       "3  0.997624  0.002376\n",
       "4  0.964795  0.035205"
      ]
     },
     "execution_count": 9,
     "metadata": {},
     "output_type": "execute_result"
    }
   ],
   "source": [
    "pred_xgb = xgb_model.predict_proba(test_df)\n",
    "xgb_p = pd.DataFrame(pred_xgb)\n",
    "xgb_p.head()"
   ]
  },
  {
   "cell_type": "code",
   "execution_count": 10,
   "metadata": {},
   "outputs": [],
   "source": [
    "now = datetime.datetime.now()\n",
    "\n",
    "xgb_name = 'models/XG_' + now.strftime('%d_%H%M') + '.pkl'\n",
    "pickle.dump(xgb_model, open(xgb_name, 'wb'))"
   ]
  },
  {
   "cell_type": "markdown",
   "metadata": {},
   "source": [
    "# ＜LightGBM＞"
   ]
  },
  {
   "cell_type": "code",
   "execution_count": 14,
   "metadata": {},
   "outputs": [],
   "source": [
    "lgb_train = lgb.Dataset(x_train, y_train)\n",
    "lgb_eval = lgb.Dataset(x_test, y_test, reference=lgb_train)"
   ]
  },
  {
   "cell_type": "code",
   "execution_count": 19,
   "metadata": {},
   "outputs": [],
   "source": [
    "es = 1000\n",
    "\n",
    "lgb_params = {\n",
    "    'boosting': 'dart',\n",
    "    'n_estimations': 1000,\n",
    "    'learning_rate': 0.01,\n",
    "    'metric': 'auc',\n",
    "    'seed': 18\n",
    "}"
   ]
  },
  {
   "cell_type": "code",
   "execution_count": 20,
   "metadata": {
    "collapsed": true,
    "jupyter": {
     "outputs_hidden": true
    }
   },
   "outputs": [
    {
     "name": "stderr",
     "output_type": "stream",
     "text": [
      "\n",
      "  0%|          | 0/7 [00:00<?, ?it/s]\n",
      "tune_feature_fraction, val_score: -inf:   0%|          | 0/7 [00:00<?, ?it/s]\n",
      "tune_feature_fraction, val_score: 0.833812:   0%|          | 0/7 [00:09<?, ?it/s]\n",
      "tune_feature_fraction, val_score: 0.833812:  14%|#4        | 1/7 [00:09<00:57,  9.54s/it]\n",
      "tune_feature_fraction, val_score: 0.833812:  14%|#4        | 1/7 [00:09<00:57,  9.54s/it]\n",
      "tune_feature_fraction, val_score: 0.833812:  14%|#4        | 1/7 [00:18<00:57,  9.54s/it]\n",
      "tune_feature_fraction, val_score: 0.833812:  29%|##8       | 2/7 [00:18<00:47,  9.46s/it]\n",
      "tune_feature_fraction, val_score: 0.833812:  29%|##8       | 2/7 [00:18<00:47,  9.46s/it]\n",
      "tune_feature_fraction, val_score: 0.833812:  29%|##8       | 2/7 [00:27<00:47,  9.46s/it]\n",
      "tune_feature_fraction, val_score: 0.833812:  43%|####2     | 3/7 [00:27<00:37,  9.37s/it]\n",
      "tune_feature_fraction, val_score: 0.833812:  43%|####2     | 3/7 [00:28<00:37,  9.37s/it]\n",
      "tune_feature_fraction, val_score: 0.833812:  43%|####2     | 3/7 [00:37<00:37,  9.37s/it]\n",
      "tune_feature_fraction, val_score: 0.833812:  57%|#####7    | 4/7 [00:37<00:28,  9.42s/it]\n",
      "tune_feature_fraction, val_score: 0.833812:  57%|#####7    | 4/7 [00:37<00:28,  9.42s/it]\n",
      "tune_feature_fraction, val_score: 0.833812:  57%|#####7    | 4/7 [00:46<00:28,  9.42s/it]\n",
      "tune_feature_fraction, val_score: 0.833812:  71%|#######1  | 5/7 [00:46<00:18,  9.39s/it]\n",
      "tune_feature_fraction, val_score: 0.833812:  71%|#######1  | 5/7 [00:46<00:18,  9.39s/it]\n",
      "tune_feature_fraction, val_score: 0.833812:  71%|#######1  | 5/7 [00:56<00:18,  9.39s/it]\n",
      "tune_feature_fraction, val_score: 0.833812:  86%|########5 | 6/7 [00:56<00:09,  9.33s/it]\n",
      "tune_feature_fraction, val_score: 0.833812:  86%|########5 | 6/7 [00:56<00:09,  9.33s/it]\n",
      "tune_feature_fraction, val_score: 0.833812:  86%|########5 | 6/7 [01:05<00:09,  9.33s/it]\n",
      "tune_feature_fraction, val_score: 0.833812: 100%|##########| 7/7 [01:05<00:00,  9.35s/it]\n",
      "\n",
      "  0%|          | 0/20 [00:00<?, ?it/s]\n",
      "tune_num_leaves, val_score: 0.833812:   0%|          | 0/20 [00:00<?, ?it/s]\n",
      "tune_num_leaves, val_score: 0.837397:   0%|          | 0/20 [00:20<?, ?it/s]\n",
      "tune_num_leaves, val_score: 0.837397:   5%|5         | 1/20 [00:20<06:25, 20.27s/it]\n",
      "tune_num_leaves, val_score: 0.837397:   5%|5         | 1/20 [00:20<06:25, 20.27s/it]\n",
      "tune_num_leaves, val_score: 0.837397:   5%|5         | 1/20 [00:41<06:25, 20.27s/it]\n",
      "tune_num_leaves, val_score: 0.837397:  10%|#         | 2/20 [00:41<06:10, 20.56s/it]\n",
      "tune_num_leaves, val_score: 0.837397:  10%|#         | 2/20 [00:41<06:10, 20.56s/it]\n",
      "tune_num_leaves, val_score: 0.837397:  10%|#         | 2/20 [00:51<06:10, 20.56s/it]\n",
      "tune_num_leaves, val_score: 0.837397:  15%|#5        | 3/20 [00:51<04:57, 17.48s/it]\n",
      "tune_num_leaves, val_score: 0.837397:  15%|#5        | 3/20 [00:51<04:57, 17.48s/it]\n",
      "tune_num_leaves, val_score: 0.837535:  15%|#5        | 3/20 [01:10<04:57, 17.48s/it]\n",
      "tune_num_leaves, val_score: 0.837535:  20%|##        | 4/20 [01:10<04:46, 17.90s/it]\n",
      "tune_num_leaves, val_score: 0.837535:  20%|##        | 4/20 [01:10<04:46, 17.90s/it]\n",
      "tune_num_leaves, val_score: 0.837622:  20%|##        | 4/20 [01:22<04:46, 17.90s/it]\n",
      "tune_num_leaves, val_score: 0.837622:  25%|##5       | 5/20 [01:22<04:00, 16.01s/it]\n",
      "tune_num_leaves, val_score: 0.837622:  25%|##5       | 5/20 [01:22<04:00, 16.01s/it]\n",
      "tune_num_leaves, val_score: 0.837622:  25%|##5       | 5/20 [01:29<04:00, 16.01s/it]\n",
      "tune_num_leaves, val_score: 0.837622:  30%|###       | 6/20 [01:29<03:08, 13.45s/it]\n",
      "tune_num_leaves, val_score: 0.837622:  30%|###       | 6/20 [01:29<03:08, 13.45s/it]\n",
      "tune_num_leaves, val_score: 0.839248:  30%|###       | 6/20 [01:43<03:08, 13.45s/it]\n",
      "tune_num_leaves, val_score: 0.839248:  35%|###5      | 7/20 [01:43<02:56, 13.56s/it]\n",
      "tune_num_leaves, val_score: 0.839248:  35%|###5      | 7/20 [01:43<02:56, 13.56s/it]\n",
      "tune_num_leaves, val_score: 0.839248:  35%|###5      | 7/20 [01:54<02:56, 13.56s/it]\n",
      "tune_num_leaves, val_score: 0.839248:  40%|####      | 8/20 [01:54<02:34, 12.85s/it]\n",
      "tune_num_leaves, val_score: 0.839248:  40%|####      | 8/20 [01:54<02:34, 12.85s/it]\n",
      "tune_num_leaves, val_score: 0.839248:  40%|####      | 8/20 [02:12<02:34, 12.85s/it]\n",
      "tune_num_leaves, val_score: 0.839248:  45%|####5     | 9/20 [02:12<02:39, 14.46s/it]\n",
      "tune_num_leaves, val_score: 0.839248:  45%|####5     | 9/20 [02:13<02:39, 14.46s/it]\n",
      "tune_num_leaves, val_score: 0.839248:  45%|####5     | 9/20 [02:23<02:39, 14.46s/it]\n",
      "tune_num_leaves, val_score: 0.839248:  50%|#####     | 10/20 [02:23<02:11, 13.16s/it]\n",
      "tune_num_leaves, val_score: 0.839248:  50%|#####     | 10/20 [02:23<02:11, 13.16s/it]\n",
      "tune_num_leaves, val_score: 0.839248:  50%|#####     | 10/20 [02:38<02:11, 13.16s/it]\n",
      "tune_num_leaves, val_score: 0.839248:  55%|#####5    | 11/20 [02:38<02:03, 13.75s/it]\n",
      "tune_num_leaves, val_score: 0.839248:  55%|#####5    | 11/20 [02:38<02:03, 13.75s/it]\n",
      "tune_num_leaves, val_score: 0.839248:  55%|#####5    | 11/20 [02:53<02:03, 13.75s/it]\n",
      "tune_num_leaves, val_score: 0.839248:  60%|######    | 12/20 [02:53<01:53, 14.21s/it]\n",
      "tune_num_leaves, val_score: 0.839248:  60%|######    | 12/20 [02:53<01:53, 14.21s/it]\n",
      "tune_num_leaves, val_score: 0.839248:  60%|######    | 12/20 [03:08<01:53, 14.21s/it]\n",
      "tune_num_leaves, val_score: 0.839248:  65%|######5   | 13/20 [03:08<01:41, 14.46s/it]\n",
      "tune_num_leaves, val_score: 0.839248:  65%|######5   | 13/20 [03:08<01:41, 14.46s/it]\n",
      "tune_num_leaves, val_score: 0.839727:  65%|######5   | 13/20 [03:25<01:41, 14.46s/it]\n",
      "tune_num_leaves, val_score: 0.839727:  70%|#######   | 14/20 [03:25<01:31, 15.24s/it]\n",
      "tune_num_leaves, val_score: 0.839727:  70%|#######   | 14/20 [03:25<01:31, 15.24s/it]\n",
      "tune_num_leaves, val_score: 0.839740:  70%|#######   | 14/20 [03:42<01:31, 15.24s/it]\n",
      "tune_num_leaves, val_score: 0.839740:  75%|#######5  | 15/20 [03:42<01:18, 15.74s/it]\n",
      "tune_num_leaves, val_score: 0.839740:  75%|#######5  | 15/20 [03:42<01:18, 15.74s/it]\n",
      "tune_num_leaves, val_score: 0.839740:  75%|#######5  | 15/20 [04:04<01:18, 15.74s/it]\n",
      "tune_num_leaves, val_score: 0.839740:  80%|########  | 16/20 [04:04<01:10, 17.72s/it]\n",
      "tune_num_leaves, val_score: 0.839740:  80%|########  | 16/20 [04:04<01:10, 17.72s/it]\n",
      "tune_num_leaves, val_score: 0.839740:  80%|########  | 16/20 [04:22<01:10, 17.72s/it]\n",
      "tune_num_leaves, val_score: 0.839740:  85%|########5 | 17/20 [04:22<00:52, 17.63s/it]\n",
      "tune_num_leaves, val_score: 0.839740:  85%|########5 | 17/20 [04:22<00:52, 17.63s/it]\n",
      "tune_num_leaves, val_score: 0.839740:  85%|########5 | 17/20 [04:39<00:52, 17.63s/it]\n",
      "tune_num_leaves, val_score: 0.839740:  90%|######### | 18/20 [04:39<00:34, 17.49s/it]\n",
      "tune_num_leaves, val_score: 0.839740:  90%|######### | 18/20 [04:39<00:34, 17.49s/it]\n",
      "tune_num_leaves, val_score: 0.839740:  90%|######### | 18/20 [05:00<00:34, 17.49s/it]\n",
      "tune_num_leaves, val_score: 0.839740:  95%|#########5| 19/20 [05:00<00:18, 18.57s/it]\n",
      "tune_num_leaves, val_score: 0.839740:  95%|#########5| 19/20 [05:00<00:18, 18.57s/it]\n",
      "tune_num_leaves, val_score: 0.839740:  95%|#########5| 19/20 [05:17<00:18, 18.57s/it]\n",
      "tune_num_leaves, val_score: 0.839740: 100%|##########| 20/20 [05:17<00:00, 15.86s/it]\n",
      "\n",
      "  0%|          | 0/10 [00:00<?, ?it/s]\n",
      "tune_bagging_fraction_and_bagging_freq, val_score: 0.839740:   0%|          | 0/10 [00:00<?, ?it/s]\n",
      "tune_bagging_fraction_and_bagging_freq, val_score: 0.839740:   0%|          | 0/10 [00:18<?, ?it/s]\n",
      "tune_bagging_fraction_and_bagging_freq, val_score: 0.839740:  10%|#         | 1/10 [00:18<02:44, 18.24s/it]\n",
      "tune_bagging_fraction_and_bagging_freq, val_score: 0.839740:  10%|#         | 1/10 [00:18<02:44, 18.24s/it]\n",
      "tune_bagging_fraction_and_bagging_freq, val_score: 0.839740:  10%|#         | 1/10 [00:37<02:44, 18.24s/it]\n",
      "tune_bagging_fraction_and_bagging_freq, val_score: 0.839740:  20%|##        | 2/10 [00:37<02:28, 18.58s/it]\n",
      "tune_bagging_fraction_and_bagging_freq, val_score: 0.839740:  20%|##        | 2/10 [00:37<02:28, 18.58s/it]\n",
      "tune_bagging_fraction_and_bagging_freq, val_score: 0.839740:  20%|##        | 2/10 [00:55<02:28, 18.58s/it]\n",
      "tune_bagging_fraction_and_bagging_freq, val_score: 0.839740:  30%|###       | 3/10 [00:55<02:09, 18.48s/it]\n",
      "tune_bagging_fraction_and_bagging_freq, val_score: 0.839740:  30%|###       | 3/10 [00:55<02:09, 18.48s/it]\n",
      "tune_bagging_fraction_and_bagging_freq, val_score: 0.839740:  30%|###       | 3/10 [01:13<02:09, 18.48s/it]\n",
      "tune_bagging_fraction_and_bagging_freq, val_score: 0.839740:  40%|####      | 4/10 [01:13<01:49, 18.19s/it]\n",
      "tune_bagging_fraction_and_bagging_freq, val_score: 0.839740:  40%|####      | 4/10 [01:13<01:49, 18.19s/it]\n",
      "tune_bagging_fraction_and_bagging_freq, val_score: 0.839740:  40%|####      | 4/10 [01:31<01:49, 18.19s/it]\n",
      "tune_bagging_fraction_and_bagging_freq, val_score: 0.839740:  50%|#####     | 5/10 [01:31<01:31, 18.22s/it]\n",
      "tune_bagging_fraction_and_bagging_freq, val_score: 0.839740:  50%|#####     | 5/10 [01:31<01:31, 18.22s/it]\n",
      "tune_bagging_fraction_and_bagging_freq, val_score: 0.839740:  50%|#####     | 5/10 [01:49<01:31, 18.22s/it]\n",
      "tune_bagging_fraction_and_bagging_freq, val_score: 0.839740:  60%|######    | 6/10 [01:49<01:12, 18.02s/it]\n",
      "tune_bagging_fraction_and_bagging_freq, val_score: 0.839740:  60%|######    | 6/10 [01:49<01:12, 18.02s/it]\n",
      "tune_bagging_fraction_and_bagging_freq, val_score: 0.839740:  60%|######    | 6/10 [02:08<01:12, 18.02s/it]\n",
      "tune_bagging_fraction_and_bagging_freq, val_score: 0.839740:  70%|#######   | 7/10 [02:08<00:55, 18.35s/it]\n",
      "tune_bagging_fraction_and_bagging_freq, val_score: 0.839740:  70%|#######   | 7/10 [02:08<00:55, 18.35s/it]\n",
      "tune_bagging_fraction_and_bagging_freq, val_score: 0.839740:  70%|#######   | 7/10 [02:26<00:55, 18.35s/it]\n",
      "tune_bagging_fraction_and_bagging_freq, val_score: 0.839740:  80%|########  | 8/10 [02:26<00:36, 18.44s/it]\n",
      "tune_bagging_fraction_and_bagging_freq, val_score: 0.839740:  80%|########  | 8/10 [02:27<00:36, 18.44s/it]\n",
      "tune_bagging_fraction_and_bagging_freq, val_score: 0.839740:  80%|########  | 8/10 [02:44<00:36, 18.44s/it]\n",
      "tune_bagging_fraction_and_bagging_freq, val_score: 0.839740:  90%|######### | 9/10 [02:44<00:18, 18.20s/it]\n",
      "tune_bagging_fraction_and_bagging_freq, val_score: 0.839740:  90%|######### | 9/10 [02:44<00:18, 18.20s/it]\n",
      "tune_bagging_fraction_and_bagging_freq, val_score: 0.839740:  90%|######### | 9/10 [03:03<00:18, 18.20s/it]\n",
      "tune_bagging_fraction_and_bagging_freq, val_score: 0.839740: 100%|##########| 10/10 [03:03<00:00, 18.35s/it]\n",
      "\n",
      "  0%|          | 0/3 [00:00<?, ?it/s]\n",
      "tune_feature_fraction, val_score: 0.839740:   0%|          | 0/3 [00:00<?, ?it/s]\n",
      "tune_feature_fraction, val_score: 0.839740:   0%|          | 0/3 [00:16<?, ?it/s]\n",
      "tune_feature_fraction, val_score: 0.839740:  33%|###3      | 1/3 [00:16<00:33, 16.89s/it]\n",
      "tune_feature_fraction, val_score: 0.839740:  33%|###3      | 1/3 [00:16<00:33, 16.89s/it]\n",
      "tune_feature_fraction, val_score: 0.839740:  33%|###3      | 1/3 [00:33<00:33, 16.89s/it]\n",
      "tune_feature_fraction, val_score: 0.839740:  67%|######6   | 2/3 [00:33<00:16, 16.93s/it]\n",
      "tune_feature_fraction, val_score: 0.839740:  67%|######6   | 2/3 [00:33<00:16, 16.93s/it]\n",
      "tune_feature_fraction, val_score: 0.839740:  67%|######6   | 2/3 [00:51<00:16, 16.93s/it]\n",
      "tune_feature_fraction, val_score: 0.839740: 100%|##########| 3/3 [00:51<00:00, 17.07s/it]\n",
      "\n",
      "  0%|          | 0/20 [00:00<?, ?it/s]\n",
      "tune_lambda_l1_and_lambda_l2, val_score: 0.839740:   0%|          | 0/20 [00:00<?, ?it/s]\n",
      "tune_lambda_l1_and_lambda_l2, val_score: 0.839908:   0%|          | 0/20 [00:18<?, ?it/s]\n",
      "tune_lambda_l1_and_lambda_l2, val_score: 0.839908:   5%|5         | 1/20 [00:18<05:47, 18.26s/it]\n",
      "tune_lambda_l1_and_lambda_l2, val_score: 0.839908:   5%|5         | 1/20 [00:18<05:47, 18.26s/it]\n",
      "tune_lambda_l1_and_lambda_l2, val_score: 0.839908:   5%|5         | 1/20 [00:28<05:47, 18.26s/it]\n",
      "tune_lambda_l1_and_lambda_l2, val_score: 0.839908:  10%|#         | 2/20 [00:28<04:46, 15.94s/it]\n",
      "tune_lambda_l1_and_lambda_l2, val_score: 0.839908:  10%|#         | 2/20 [00:28<04:46, 15.94s/it]\n",
      "tune_lambda_l1_and_lambda_l2, val_score: 0.839908:  10%|#         | 2/20 [00:45<04:46, 15.94s/it]\n",
      "tune_lambda_l1_and_lambda_l2, val_score: 0.839908:  15%|#5        | 3/20 [00:45<04:36, 16.29s/it]\n",
      "tune_lambda_l1_and_lambda_l2, val_score: 0.839908:  15%|#5        | 3/20 [00:45<04:36, 16.29s/it]\n",
      "tune_lambda_l1_and_lambda_l2, val_score: 0.839908:  15%|#5        | 3/20 [01:02<04:36, 16.29s/it]\n",
      "tune_lambda_l1_and_lambda_l2, val_score: 0.839908:  20%|##        | 4/20 [01:02<04:24, 16.52s/it]\n",
      "tune_lambda_l1_and_lambda_l2, val_score: 0.839908:  20%|##        | 4/20 [01:03<04:24, 16.52s/it]\n",
      "tune_lambda_l1_and_lambda_l2, val_score: 0.839908:  20%|##        | 4/20 [01:20<04:24, 16.52s/it]\n",
      "tune_lambda_l1_and_lambda_l2, val_score: 0.839908:  25%|##5       | 5/20 [01:20<04:11, 16.74s/it]\n",
      "tune_lambda_l1_and_lambda_l2, val_score: 0.839908:  25%|##5       | 5/20 [01:20<04:11, 16.74s/it]\n",
      "tune_lambda_l1_and_lambda_l2, val_score: 0.839908:  25%|##5       | 5/20 [01:37<04:11, 16.74s/it]\n",
      "tune_lambda_l1_and_lambda_l2, val_score: 0.839908:  30%|###       | 6/20 [01:37<03:55, 16.83s/it]\n",
      "tune_lambda_l1_and_lambda_l2, val_score: 0.839908:  30%|###       | 6/20 [01:37<03:55, 16.83s/it]\n",
      "tune_lambda_l1_and_lambda_l2, val_score: 0.839908:  30%|###       | 6/20 [01:53<03:55, 16.83s/it]\n",
      "tune_lambda_l1_and_lambda_l2, val_score: 0.839908:  35%|###5      | 7/20 [01:53<03:38, 16.78s/it]\n",
      "tune_lambda_l1_and_lambda_l2, val_score: 0.839908:  35%|###5      | 7/20 [01:53<03:38, 16.78s/it]\n",
      "tune_lambda_l1_and_lambda_l2, val_score: 0.839908:  35%|###5      | 7/20 [02:10<03:38, 16.78s/it]\n",
      "tune_lambda_l1_and_lambda_l2, val_score: 0.839908:  40%|####      | 8/20 [02:10<03:20, 16.68s/it]\n",
      "tune_lambda_l1_and_lambda_l2, val_score: 0.839908:  40%|####      | 8/20 [02:10<03:20, 16.68s/it]\n",
      "tune_lambda_l1_and_lambda_l2, val_score: 0.839908:  40%|####      | 8/20 [02:27<03:20, 16.68s/it]\n",
      "tune_lambda_l1_and_lambda_l2, val_score: 0.839908:  45%|####5     | 9/20 [02:27<03:04, 16.81s/it]\n",
      "tune_lambda_l1_and_lambda_l2, val_score: 0.839908:  45%|####5     | 9/20 [02:27<03:04, 16.81s/it]\n",
      "tune_lambda_l1_and_lambda_l2, val_score: 0.839908:  45%|####5     | 9/20 [02:44<03:04, 16.81s/it]\n",
      "tune_lambda_l1_and_lambda_l2, val_score: 0.839908:  50%|#####     | 10/20 [02:44<02:49, 16.91s/it]\n",
      "tune_lambda_l1_and_lambda_l2, val_score: 0.839908:  50%|#####     | 10/20 [02:44<02:49, 16.91s/it]\n",
      "tune_lambda_l1_and_lambda_l2, val_score: 0.839908:  50%|#####     | 10/20 [03:01<02:49, 16.91s/it]\n",
      "tune_lambda_l1_and_lambda_l2, val_score: 0.839908:  55%|#####5    | 11/20 [03:01<02:32, 16.97s/it]\n",
      "tune_lambda_l1_and_lambda_l2, val_score: 0.839908:  55%|#####5    | 11/20 [03:01<02:32, 16.97s/it]\n",
      "tune_lambda_l1_and_lambda_l2, val_score: 0.839908:  55%|#####5    | 11/20 [03:19<02:32, 16.97s/it]\n",
      "tune_lambda_l1_and_lambda_l2, val_score: 0.839908:  60%|######    | 12/20 [03:19<02:16, 17.10s/it]\n",
      "tune_lambda_l1_and_lambda_l2, val_score: 0.839908:  60%|######    | 12/20 [03:19<02:16, 17.10s/it]\n",
      "tune_lambda_l1_and_lambda_l2, val_score: 0.839908:  60%|######    | 12/20 [03:36<02:16, 17.10s/it]\n",
      "tune_lambda_l1_and_lambda_l2, val_score: 0.839908:  65%|######5   | 13/20 [03:36<01:59, 17.13s/it]\n",
      "tune_lambda_l1_and_lambda_l2, val_score: 0.839908:  65%|######5   | 13/20 [03:36<01:59, 17.13s/it]\n",
      "tune_lambda_l1_and_lambda_l2, val_score: 0.839908:  65%|######5   | 13/20 [03:53<01:59, 17.13s/it]\n",
      "tune_lambda_l1_and_lambda_l2, val_score: 0.839908:  70%|#######   | 14/20 [03:53<01:42, 17.14s/it]\n",
      "tune_lambda_l1_and_lambda_l2, val_score: 0.839908:  70%|#######   | 14/20 [03:53<01:42, 17.14s/it]\n",
      "tune_lambda_l1_and_lambda_l2, val_score: 0.839908:  70%|#######   | 14/20 [04:10<01:42, 17.14s/it]\n",
      "tune_lambda_l1_and_lambda_l2, val_score: 0.839908:  75%|#######5  | 15/20 [04:10<01:26, 17.24s/it]\n",
      "tune_lambda_l1_and_lambda_l2, val_score: 0.839908:  75%|#######5  | 15/20 [04:11<01:26, 17.24s/it]\n",
      "tune_lambda_l1_and_lambda_l2, val_score: 0.839908:  75%|#######5  | 15/20 [04:28<01:26, 17.24s/it]\n",
      "tune_lambda_l1_and_lambda_l2, val_score: 0.839908:  80%|########  | 16/20 [04:28<01:08, 17.21s/it]\n",
      "tune_lambda_l1_and_lambda_l2, val_score: 0.839908:  80%|########  | 16/20 [04:28<01:08, 17.21s/it]\n",
      "tune_lambda_l1_and_lambda_l2, val_score: 0.839908:  80%|########  | 16/20 [04:45<01:08, 17.21s/it]\n",
      "tune_lambda_l1_and_lambda_l2, val_score: 0.839908:  85%|########5 | 17/20 [04:45<00:51, 17.17s/it]\n",
      "tune_lambda_l1_and_lambda_l2, val_score: 0.839908:  85%|########5 | 17/20 [04:45<00:51, 17.17s/it]\n",
      "tune_lambda_l1_and_lambda_l2, val_score: 0.839908:  85%|########5 | 17/20 [05:02<00:51, 17.17s/it]\n",
      "tune_lambda_l1_and_lambda_l2, val_score: 0.839908:  90%|######### | 18/20 [05:02<00:34, 17.16s/it]\n",
      "tune_lambda_l1_and_lambda_l2, val_score: 0.839908:  90%|######### | 18/20 [05:02<00:34, 17.16s/it]\n",
      "tune_lambda_l1_and_lambda_l2, val_score: 0.839908:  90%|######### | 18/20 [05:20<00:34, 17.16s/it]\n",
      "tune_lambda_l1_and_lambda_l2, val_score: 0.839908:  95%|#########5| 19/20 [05:20<00:17, 17.56s/it]\n",
      "tune_lambda_l1_and_lambda_l2, val_score: 0.839908:  95%|#########5| 19/20 [05:20<00:17, 17.56s/it]\n",
      "tune_lambda_l1_and_lambda_l2, val_score: 0.839908:  95%|#########5| 19/20 [05:37<00:17, 17.56s/it]\n",
      "tune_lambda_l1_and_lambda_l2, val_score: 0.839908: 100%|##########| 20/20 [05:37<00:00, 16.89s/it]\n",
      "\n",
      "  0%|          | 0/5 [00:00<?, ?it/s]\n",
      "tune_min_child_samples, val_score: 0.839908:   0%|          | 0/5 [00:00<?, ?it/s]\n",
      "tune_min_child_samples, val_score: 0.839908:   0%|          | 0/5 [00:17<?, ?it/s]\n",
      "tune_min_child_samples, val_score: 0.839908:  20%|##        | 1/5 [00:17<01:08, 17.01s/it]\n",
      "tune_min_child_samples, val_score: 0.839908:  20%|##        | 1/5 [00:17<01:08, 17.01s/it]\n",
      "tune_min_child_samples, val_score: 0.839908:  20%|##        | 1/5 [00:34<01:08, 17.01s/it]\n",
      "tune_min_child_samples, val_score: 0.839908:  40%|####      | 2/5 [00:34<00:51, 17.17s/it]\n",
      "tune_min_child_samples, val_score: 0.839908:  40%|####      | 2/5 [00:34<00:51, 17.17s/it]\n",
      "tune_min_child_samples, val_score: 0.839908:  40%|####      | 2/5 [00:52<00:51, 17.17s/it]\n",
      "tune_min_child_samples, val_score: 0.839908:  60%|######    | 3/5 [00:52<00:35, 17.54s/it]\n",
      "tune_min_child_samples, val_score: 0.839908:  60%|######    | 3/5 [00:53<00:35, 17.54s/it]\n",
      "tune_min_child_samples, val_score: 0.839908:  60%|######    | 3/5 [01:12<00:35, 17.54s/it]\n",
      "tune_min_child_samples, val_score: 0.839908:  80%|########  | 4/5 [01:12<00:18, 18.05s/it]\n",
      "tune_min_child_samples, val_score: 0.839908:  80%|########  | 4/5 [01:12<00:18, 18.05s/it]\n",
      "tune_min_child_samples, val_score: 0.839908:  80%|########  | 4/5 [01:29<00:18, 18.05s/it]\n",
      "tune_min_child_samples, val_score: 0.839908: 100%|##########| 5/5 [01:29<00:00, 17.90s/it]\n"
     ]
    },
    {
     "name": "stdout",
     "output_type": "stream",
     "text": [
      "CPU times: user 1h 42min 1s, sys: 21.9 s, total: 1h 42min 23s\n",
      "Wall time: 17min 24s\n"
     ]
    }
   ],
   "source": [
    "%%time\n",
    "\n",
    "best_lgb = lgb.train(lgb_params,\n",
    "                     lgb_train,\n",
    "                     valid_sets=lgb_eval,\n",
    "                     verbosity=False)"
   ]
  },
  {
   "cell_type": "code",
   "execution_count": 21,
   "metadata": {},
   "outputs": [
    {
     "data": {
      "text/plain": [
       "{'boosting': 'dart',\n",
       " 'n_estimations': 1000,\n",
       " 'learning_rate': 0.01,\n",
       " 'metric': 'auc',\n",
       " 'seed': 111,\n",
       " 'verbose': -1,\n",
       " 'lambda_l1': 0.6310328817584383,\n",
       " 'lambda_l2': 5.027795156469484e-07,\n",
       " 'num_leaves': 147,\n",
       " 'feature_fraction': 0.4,\n",
       " 'bagging_fraction': 1.0,\n",
       " 'bagging_freq': 0,\n",
       " 'min_child_samples': 20}"
      ]
     },
     "execution_count": 21,
     "metadata": {},
     "output_type": "execute_result"
    }
   ],
   "source": [
    "lgb_best_params = best_lgb.params\n",
    "lgb_best_params"
   ]
  },
  {
   "cell_type": "code",
   "execution_count": 22,
   "metadata": {},
   "outputs": [
    {
     "data": {
      "text/plain": [
       "0"
      ]
     },
     "execution_count": 22,
     "metadata": {},
     "output_type": "execute_result"
    }
   ],
   "source": [
    "best_itr = best_lgb.best_iteration\n",
    "best_itr"
   ]
  },
  {
   "cell_type": "code",
   "execution_count": 23,
   "metadata": {},
   "outputs": [
    {
     "data": {
      "text/plain": [
       "defaultdict(collections.OrderedDict,\n",
       "            {'valid_0': OrderedDict([('auc', 0.839907793146962)])})"
      ]
     },
     "execution_count": 23,
     "metadata": {},
     "output_type": "execute_result"
    }
   ],
   "source": [
    "best_lgb.best_score"
   ]
  },
  {
   "cell_type": "code",
   "execution_count": 25,
   "metadata": {
    "collapsed": true,
    "jupyter": {
     "outputs_hidden": true
    }
   },
   "outputs": [
    {
     "name": "stderr",
     "output_type": "stream",
     "text": [
      "\n",
      "\n",
      "  0%|          | 0/7 [00:00<?, ?it/s]\n",
      "\n",
      "tune_feature_fraction, val_score: -inf:   0%|          | 0/7 [00:00<?, ?it/s]\n",
      "\n",
      "tune_feature_fraction, val_score: 0.833812:   0%|          | 0/7 [00:09<?, ?it/s]\n",
      "\n",
      "tune_feature_fraction, val_score: 0.833812:  14%|#4        | 1/7 [00:09<00:57,  9.64s/it]\n",
      "\n",
      "tune_feature_fraction, val_score: 0.833812:  14%|#4        | 1/7 [00:09<00:57,  9.64s/it]\n",
      "\n",
      "tune_feature_fraction, val_score: 0.833812:  14%|#4        | 1/7 [00:20<00:57,  9.64s/it]\n",
      "\n",
      "tune_feature_fraction, val_score: 0.833812:  29%|##8       | 2/7 [00:20<00:49,  9.96s/it]\n",
      "\n",
      "tune_feature_fraction, val_score: 0.833812:  29%|##8       | 2/7 [00:20<00:49,  9.96s/it]\n",
      "\n",
      "tune_feature_fraction, val_score: 0.833812:  29%|##8       | 2/7 [00:29<00:49,  9.96s/it]\n",
      "\n",
      "tune_feature_fraction, val_score: 0.833812:  43%|####2     | 3/7 [00:29<00:38,  9.73s/it]\n",
      "\n",
      "tune_feature_fraction, val_score: 0.833812:  43%|####2     | 3/7 [00:29<00:38,  9.73s/it]\n",
      "\n",
      "tune_feature_fraction, val_score: 0.833812:  43%|####2     | 3/7 [00:38<00:38,  9.73s/it]\n",
      "\n",
      "tune_feature_fraction, val_score: 0.833812:  57%|#####7    | 4/7 [00:38<00:28,  9.50s/it]\n",
      "\n",
      "tune_feature_fraction, val_score: 0.833812:  57%|#####7    | 4/7 [00:38<00:28,  9.50s/it]\n",
      "\n",
      "tune_feature_fraction, val_score: 0.833812:  57%|#####7    | 4/7 [00:47<00:28,  9.50s/it]\n",
      "\n",
      "tune_feature_fraction, val_score: 0.833812:  71%|#######1  | 5/7 [00:47<00:18,  9.33s/it]\n",
      "\n",
      "tune_feature_fraction, val_score: 0.833812:  71%|#######1  | 5/7 [00:47<00:18,  9.33s/it]\n",
      "\n",
      "tune_feature_fraction, val_score: 0.833812:  71%|#######1  | 5/7 [00:56<00:18,  9.33s/it]\n",
      "\n",
      "tune_feature_fraction, val_score: 0.833812:  86%|########5 | 6/7 [00:56<00:09,  9.24s/it]\n",
      "\n",
      "tune_feature_fraction, val_score: 0.833812:  86%|########5 | 6/7 [00:56<00:09,  9.24s/it]\n",
      "\n",
      "tune_feature_fraction, val_score: 0.833812:  86%|########5 | 6/7 [01:05<00:09,  9.24s/it]\n",
      "\n",
      "tune_feature_fraction, val_score: 0.833812: 100%|##########| 7/7 [01:05<00:00,  9.39s/it]\n",
      "\n",
      "\n",
      "  0%|          | 0/20 [00:00<?, ?it/s]\n",
      "\n",
      "tune_num_leaves, val_score: 0.833812:   0%|          | 0/20 [00:00<?, ?it/s]\n",
      "\n",
      "tune_num_leaves, val_score: 0.839120:   0%|          | 0/20 [00:17<?, ?it/s]\n",
      "\n",
      "tune_num_leaves, val_score: 0.839120:   5%|5         | 1/20 [00:17<05:29, 17.34s/it]\n",
      "\n",
      "tune_num_leaves, val_score: 0.839120:   5%|5         | 1/20 [00:17<05:29, 17.34s/it]\n",
      "\n",
      "tune_num_leaves, val_score: 0.839120:   5%|5         | 1/20 [00:35<05:29, 17.34s/it]\n",
      "\n",
      "tune_num_leaves, val_score: 0.839120:  10%|#         | 2/20 [00:35<05:17, 17.62s/it]\n",
      "\n",
      "tune_num_leaves, val_score: 0.839120:  10%|#         | 2/20 [00:35<05:17, 17.62s/it]\n",
      "\n",
      "tune_num_leaves, val_score: 0.839120:  10%|#         | 2/20 [00:46<05:17, 17.62s/it]\n",
      "\n",
      "tune_num_leaves, val_score: 0.839120:  15%|#5        | 3/20 [00:46<04:23, 15.51s/it]\n",
      "\n",
      "tune_num_leaves, val_score: 0.839120:  15%|#5        | 3/20 [00:46<04:23, 15.51s/it]\n",
      "\n",
      "tune_num_leaves, val_score: 0.839120:  15%|#5        | 3/20 [01:07<04:23, 15.51s/it]\n",
      "\n",
      "tune_num_leaves, val_score: 0.839120:  20%|##        | 4/20 [01:07<04:36, 17.29s/it]\n",
      "\n",
      "tune_num_leaves, val_score: 0.839120:  20%|##        | 4/20 [01:07<04:36, 17.29s/it]\n",
      "\n",
      "tune_num_leaves, val_score: 0.839120:  20%|##        | 4/20 [01:16<04:36, 17.29s/it]\n",
      "\n",
      "tune_num_leaves, val_score: 0.839120:  25%|##5       | 5/20 [01:16<03:39, 14.66s/it]\n",
      "\n",
      "tune_num_leaves, val_score: 0.839120:  25%|##5       | 5/20 [01:16<03:39, 14.66s/it]\n",
      "\n",
      "tune_num_leaves, val_score: 0.839120:  25%|##5       | 5/20 [01:35<03:39, 14.66s/it]\n",
      "\n",
      "tune_num_leaves, val_score: 0.839120:  30%|###       | 6/20 [01:35<03:44, 16.06s/it]\n",
      "\n",
      "tune_num_leaves, val_score: 0.839120:  30%|###       | 6/20 [01:35<03:44, 16.06s/it]\n",
      "\n",
      "tune_num_leaves, val_score: 0.839197:  30%|###       | 6/20 [01:49<03:44, 16.06s/it]\n",
      "\n",
      "tune_num_leaves, val_score: 0.839197:  35%|###5      | 7/20 [01:49<03:22, 15.55s/it]\n",
      "\n",
      "tune_num_leaves, val_score: 0.839197:  35%|###5      | 7/20 [01:49<03:22, 15.55s/it]\n",
      "\n",
      "tune_num_leaves, val_score: 0.839197:  35%|###5      | 7/20 [02:10<03:22, 15.55s/it]\n",
      "\n",
      "tune_num_leaves, val_score: 0.839197:  40%|####      | 8/20 [02:10<03:24, 17.05s/it]\n",
      "\n",
      "tune_num_leaves, val_score: 0.839197:  40%|####      | 8/20 [02:10<03:24, 17.05s/it]\n",
      "\n",
      "tune_num_leaves, val_score: 0.839197:  40%|####      | 8/20 [02:29<03:24, 17.05s/it]\n",
      "\n",
      "tune_num_leaves, val_score: 0.839197:  45%|####5     | 9/20 [02:29<03:13, 17.56s/it]\n",
      "\n",
      "tune_num_leaves, val_score: 0.839197:  45%|####5     | 9/20 [02:29<03:13, 17.56s/it]\n",
      "\n",
      "tune_num_leaves, val_score: 0.839197:  45%|####5     | 9/20 [02:44<03:13, 17.56s/it]\n",
      "\n",
      "tune_num_leaves, val_score: 0.839197:  50%|#####     | 10/20 [02:44<02:48, 16.83s/it]\n",
      "\n",
      "tune_num_leaves, val_score: 0.839197:  50%|#####     | 10/20 [02:44<02:48, 16.83s/it]\n",
      "\n",
      "tune_num_leaves, val_score: 0.839197:  50%|#####     | 10/20 [02:58<02:48, 16.83s/it]\n",
      "\n",
      "tune_num_leaves, val_score: 0.839197:  55%|#####5    | 11/20 [02:58<02:23, 15.97s/it]\n",
      "\n",
      "tune_num_leaves, val_score: 0.839197:  55%|#####5    | 11/20 [02:58<02:23, 15.97s/it]\n",
      "\n",
      "tune_num_leaves, val_score: 0.839197:  55%|#####5    | 11/20 [03:13<02:23, 15.97s/it]\n",
      "\n",
      "tune_num_leaves, val_score: 0.839197:  60%|######    | 12/20 [03:13<02:06, 15.79s/it]\n",
      "\n",
      "tune_num_leaves, val_score: 0.839197:  60%|######    | 12/20 [03:13<02:06, 15.79s/it]\n",
      "\n",
      "tune_num_leaves, val_score: 0.839197:  60%|######    | 12/20 [03:27<02:06, 15.79s/it]\n",
      "\n",
      "tune_num_leaves, val_score: 0.839197:  65%|######5   | 13/20 [03:27<01:46, 15.24s/it]\n",
      "\n",
      "tune_num_leaves, val_score: 0.839197:  65%|######5   | 13/20 [03:27<01:46, 15.24s/it]\n",
      "\n",
      "tune_num_leaves, val_score: 0.839197:  65%|######5   | 13/20 [03:39<01:46, 15.24s/it]\n",
      "\n",
      "tune_num_leaves, val_score: 0.839197:  70%|#######   | 14/20 [03:39<01:25, 14.19s/it]\n",
      "\n",
      "tune_num_leaves, val_score: 0.839197:  70%|#######   | 14/20 [03:39<01:25, 14.19s/it]\n",
      "\n",
      "tune_num_leaves, val_score: 0.839197:  70%|#######   | 14/20 [03:55<01:25, 14.19s/it]\n",
      "\n",
      "tune_num_leaves, val_score: 0.839197:  75%|#######5  | 15/20 [03:55<01:13, 14.73s/it]\n",
      "\n",
      "tune_num_leaves, val_score: 0.839197:  75%|#######5  | 15/20 [03:55<01:13, 14.73s/it]\n",
      "\n",
      "tune_num_leaves, val_score: 0.839671:  75%|#######5  | 15/20 [04:11<01:13, 14.73s/it]\n",
      "\n",
      "tune_num_leaves, val_score: 0.839671:  80%|########  | 16/20 [04:11<01:00, 15.19s/it]\n",
      "\n",
      "tune_num_leaves, val_score: 0.839671:  80%|########  | 16/20 [04:11<01:00, 15.19s/it]\n",
      "\n",
      "tune_num_leaves, val_score: 0.839671:  80%|########  | 16/20 [04:23<01:00, 15.19s/it]\n",
      "\n",
      "tune_num_leaves, val_score: 0.839671:  85%|########5 | 17/20 [04:23<00:42, 14.29s/it]\n",
      "\n",
      "tune_num_leaves, val_score: 0.839671:  85%|########5 | 17/20 [04:23<00:42, 14.29s/it]\n",
      "\n",
      "tune_num_leaves, val_score: 0.839671:  85%|########5 | 17/20 [04:26<00:42, 14.29s/it]\n",
      "\n",
      "tune_num_leaves, val_score: 0.839671:  90%|######### | 18/20 [04:26<00:21, 10.70s/it]\n",
      "\n",
      "tune_num_leaves, val_score: 0.839671:  90%|######### | 18/20 [04:26<00:21, 10.70s/it]\n",
      "\n",
      "tune_num_leaves, val_score: 0.839830:  90%|######### | 18/20 [04:43<00:21, 10.70s/it]\n",
      "\n",
      "tune_num_leaves, val_score: 0.839830:  95%|#########5| 19/20 [04:43<00:12, 12.59s/it]\n",
      "\n",
      "tune_num_leaves, val_score: 0.839830:  95%|#########5| 19/20 [04:43<00:12, 12.59s/it]\n",
      "\n",
      "tune_num_leaves, val_score: 0.839830:  95%|#########5| 19/20 [05:00<00:12, 12.59s/it]\n",
      "\n",
      "tune_num_leaves, val_score: 0.839830: 100%|##########| 20/20 [05:00<00:00, 15.02s/it]\n",
      "\n",
      "\n",
      "  0%|          | 0/10 [00:00<?, ?it/s]\n",
      "\n",
      "tune_bagging_fraction_and_bagging_freq, val_score: 0.839830:   0%|          | 0/10 [00:00<?, ?it/s]\n",
      "\n",
      "tune_bagging_fraction_and_bagging_freq, val_score: 0.839830:   0%|          | 0/10 [00:17<?, ?it/s]\n",
      "\n",
      "tune_bagging_fraction_and_bagging_freq, val_score: 0.839830:  10%|#         | 1/10 [00:17<02:39, 17.73s/it]\n",
      "\n",
      "tune_bagging_fraction_and_bagging_freq, val_score: 0.839830:  10%|#         | 1/10 [00:17<02:39, 17.73s/it]\n",
      "\n",
      "tune_bagging_fraction_and_bagging_freq, val_score: 0.839830:  10%|#         | 1/10 [00:36<02:39, 17.73s/it]\n",
      "\n",
      "tune_bagging_fraction_and_bagging_freq, val_score: 0.839830:  20%|##        | 2/10 [00:36<02:23, 18.00s/it]\n",
      "\n",
      "tune_bagging_fraction_and_bagging_freq, val_score: 0.839830:  20%|##        | 2/10 [00:36<02:23, 18.00s/it]\n",
      "\n",
      "tune_bagging_fraction_and_bagging_freq, val_score: 0.839830:  20%|##        | 2/10 [00:54<02:23, 18.00s/it]\n",
      "\n",
      "tune_bagging_fraction_and_bagging_freq, val_score: 0.839830:  30%|###       | 3/10 [00:54<02:06, 18.14s/it]\n",
      "\n",
      "tune_bagging_fraction_and_bagging_freq, val_score: 0.839830:  30%|###       | 3/10 [00:54<02:06, 18.14s/it]\n",
      "\n",
      "tune_bagging_fraction_and_bagging_freq, val_score: 0.839830:  30%|###       | 3/10 [01:12<02:06, 18.14s/it]\n",
      "\n",
      "tune_bagging_fraction_and_bagging_freq, val_score: 0.839830:  40%|####      | 4/10 [01:12<01:47, 17.99s/it]\n",
      "\n",
      "tune_bagging_fraction_and_bagging_freq, val_score: 0.839830:  40%|####      | 4/10 [01:12<01:47, 17.99s/it]\n",
      "\n",
      "tune_bagging_fraction_and_bagging_freq, val_score: 0.839830:  40%|####      | 4/10 [01:31<01:47, 17.99s/it]\n",
      "\n",
      "tune_bagging_fraction_and_bagging_freq, val_score: 0.839830:  50%|#####     | 5/10 [01:31<01:31, 18.34s/it]\n",
      "\n",
      "tune_bagging_fraction_and_bagging_freq, val_score: 0.839830:  50%|#####     | 5/10 [01:31<01:31, 18.34s/it]\n",
      "\n",
      "tune_bagging_fraction_and_bagging_freq, val_score: 0.839830:  50%|#####     | 5/10 [01:49<01:31, 18.34s/it]\n",
      "\n",
      "tune_bagging_fraction_and_bagging_freq, val_score: 0.839830:  60%|######    | 6/10 [01:49<01:12, 18.18s/it]\n",
      "\n",
      "tune_bagging_fraction_and_bagging_freq, val_score: 0.839830:  60%|######    | 6/10 [01:49<01:12, 18.18s/it]\n",
      "\n",
      "tune_bagging_fraction_and_bagging_freq, val_score: 0.839830:  60%|######    | 6/10 [02:06<01:12, 18.18s/it]\n",
      "\n",
      "tune_bagging_fraction_and_bagging_freq, val_score: 0.839830:  70%|#######   | 7/10 [02:06<00:53, 17.94s/it]\n",
      "\n",
      "tune_bagging_fraction_and_bagging_freq, val_score: 0.839830:  70%|#######   | 7/10 [02:06<00:53, 17.94s/it]\n",
      "\n",
      "tune_bagging_fraction_and_bagging_freq, val_score: 0.839830:  70%|#######   | 7/10 [02:24<00:53, 17.94s/it]\n",
      "\n",
      "tune_bagging_fraction_and_bagging_freq, val_score: 0.839830:  80%|########  | 8/10 [02:24<00:35, 17.77s/it]\n",
      "\n",
      "tune_bagging_fraction_and_bagging_freq, val_score: 0.839830:  80%|########  | 8/10 [02:24<00:35, 17.77s/it]\n",
      "\n",
      "tune_bagging_fraction_and_bagging_freq, val_score: 0.839830:  80%|########  | 8/10 [02:43<00:35, 17.77s/it]\n",
      "\n",
      "tune_bagging_fraction_and_bagging_freq, val_score: 0.839830:  90%|######### | 9/10 [02:43<00:18, 18.10s/it]\n",
      "\n",
      "tune_bagging_fraction_and_bagging_freq, val_score: 0.839830:  90%|######### | 9/10 [02:43<00:18, 18.10s/it]\n",
      "\n",
      "tune_bagging_fraction_and_bagging_freq, val_score: 0.839830:  90%|######### | 9/10 [03:00<00:18, 18.10s/it]\n",
      "\n",
      "tune_bagging_fraction_and_bagging_freq, val_score: 0.839830: 100%|##########| 10/10 [03:00<00:00, 18.06s/it]\n",
      "\n",
      "\n",
      "  0%|          | 0/3 [00:00<?, ?it/s]\n",
      "\n",
      "tune_feature_fraction, val_score: 0.839830:   0%|          | 0/3 [00:00<?, ?it/s]\n",
      "\n",
      "tune_feature_fraction, val_score: 0.839830:   0%|          | 0/3 [00:16<?, ?it/s]\n",
      "\n",
      "tune_feature_fraction, val_score: 0.839830:  33%|###3      | 1/3 [00:16<00:33, 16.76s/it]\n",
      "\n",
      "tune_feature_fraction, val_score: 0.839830:  33%|###3      | 1/3 [00:16<00:33, 16.76s/it]\n",
      "\n",
      "tune_feature_fraction, val_score: 0.839830:  33%|###3      | 1/3 [00:33<00:33, 16.76s/it]\n",
      "\n",
      "tune_feature_fraction, val_score: 0.839830:  67%|######6   | 2/3 [00:33<00:16, 16.83s/it]\n",
      "\n",
      "tune_feature_fraction, val_score: 0.839830:  67%|######6   | 2/3 [00:33<00:16, 16.83s/it]\n",
      "\n",
      "tune_feature_fraction, val_score: 0.839830:  67%|######6   | 2/3 [00:50<00:16, 16.83s/it]\n",
      "\n",
      "tune_feature_fraction, val_score: 0.839830: 100%|##########| 3/3 [00:50<00:00, 16.93s/it]\n",
      "\n",
      "\n",
      "  0%|          | 0/20 [00:00<?, ?it/s]\n",
      "\n",
      "tune_lambda_l1_and_lambda_l2, val_score: 0.839830:   0%|          | 0/20 [00:00<?, ?it/s]\n",
      "\n",
      "tune_lambda_l1_and_lambda_l2, val_score: 0.839830:   0%|          | 0/20 [00:17<?, ?it/s]\n",
      "\n",
      "tune_lambda_l1_and_lambda_l2, val_score: 0.839830:   5%|5         | 1/20 [00:17<05:23, 17.03s/it]\n",
      "\n",
      "tune_lambda_l1_and_lambda_l2, val_score: 0.839830:   5%|5         | 1/20 [00:17<05:23, 17.03s/it]\n",
      "\n",
      "tune_lambda_l1_and_lambda_l2, val_score: 0.839830:   5%|5         | 1/20 [00:33<05:23, 17.03s/it]\n",
      "\n",
      "tune_lambda_l1_and_lambda_l2, val_score: 0.839830:  10%|#         | 2/20 [00:33<05:05, 16.98s/it]\n",
      "\n",
      "tune_lambda_l1_and_lambda_l2, val_score: 0.839830:  10%|#         | 2/20 [00:33<05:05, 16.98s/it]\n",
      "\n",
      "tune_lambda_l1_and_lambda_l2, val_score: 0.839830:  10%|#         | 2/20 [00:50<05:05, 16.98s/it]\n",
      "\n",
      "tune_lambda_l1_and_lambda_l2, val_score: 0.839830:  15%|#5        | 3/20 [00:50<04:48, 16.96s/it]\n",
      "\n",
      "tune_lambda_l1_and_lambda_l2, val_score: 0.839830:  15%|#5        | 3/20 [00:50<04:48, 16.96s/it]\n",
      "\n",
      "tune_lambda_l1_and_lambda_l2, val_score: 0.840180:  15%|#5        | 3/20 [01:09<04:48, 16.96s/it]\n",
      "\n",
      "tune_lambda_l1_and_lambda_l2, val_score: 0.840180:  20%|##        | 4/20 [01:09<04:39, 17.47s/it]\n",
      "\n",
      "tune_lambda_l1_and_lambda_l2, val_score: 0.840180:  20%|##        | 4/20 [01:09<04:39, 17.47s/it]\n",
      "\n",
      "tune_lambda_l1_and_lambda_l2, val_score: 0.840180:  20%|##        | 4/20 [01:22<04:39, 17.47s/it]\n",
      "\n",
      "tune_lambda_l1_and_lambda_l2, val_score: 0.840180:  25%|##5       | 5/20 [01:22<04:02, 16.16s/it]\n",
      "\n",
      "tune_lambda_l1_and_lambda_l2, val_score: 0.840180:  25%|##5       | 5/20 [01:22<04:02, 16.16s/it]\n",
      "\n",
      "tune_lambda_l1_and_lambda_l2, val_score: 0.840180:  25%|##5       | 5/20 [01:40<04:02, 16.16s/it]\n",
      "\n",
      "tune_lambda_l1_and_lambda_l2, val_score: 0.840180:  30%|###       | 6/20 [01:40<03:52, 16.62s/it]\n",
      "\n",
      "tune_lambda_l1_and_lambda_l2, val_score: 0.840180:  30%|###       | 6/20 [01:40<03:52, 16.62s/it]\n",
      "\n",
      "tune_lambda_l1_and_lambda_l2, val_score: 0.840180:  30%|###       | 6/20 [01:57<03:52, 16.62s/it]\n",
      "\n",
      "tune_lambda_l1_and_lambda_l2, val_score: 0.840180:  35%|###5      | 7/20 [01:57<03:38, 16.84s/it]\n",
      "\n",
      "tune_lambda_l1_and_lambda_l2, val_score: 0.840180:  35%|###5      | 7/20 [01:57<03:38, 16.84s/it]\n",
      "\n",
      "tune_lambda_l1_and_lambda_l2, val_score: 0.840180:  35%|###5      | 7/20 [02:14<03:38, 16.84s/it]\n",
      "\n",
      "tune_lambda_l1_and_lambda_l2, val_score: 0.840180:  40%|####      | 8/20 [02:14<03:22, 16.84s/it]\n",
      "\n",
      "tune_lambda_l1_and_lambda_l2, val_score: 0.840180:  40%|####      | 8/20 [02:14<03:22, 16.84s/it]\n",
      "\n",
      "tune_lambda_l1_and_lambda_l2, val_score: 0.840180:  40%|####      | 8/20 [02:31<03:22, 16.84s/it]\n",
      "\n",
      "tune_lambda_l1_and_lambda_l2, val_score: 0.840180:  45%|####5     | 9/20 [02:31<03:05, 16.88s/it]\n",
      "\n",
      "tune_lambda_l1_and_lambda_l2, val_score: 0.840180:  45%|####5     | 9/20 [02:31<03:05, 16.88s/it]\n",
      "\n",
      "tune_lambda_l1_and_lambda_l2, val_score: 0.840180:  45%|####5     | 9/20 [02:48<03:05, 16.88s/it]\n",
      "\n",
      "tune_lambda_l1_and_lambda_l2, val_score: 0.840180:  50%|#####     | 10/20 [02:48<02:49, 16.96s/it]\n",
      "\n",
      "tune_lambda_l1_and_lambda_l2, val_score: 0.840180:  50%|#####     | 10/20 [02:48<02:49, 16.96s/it]\n",
      "\n",
      "tune_lambda_l1_and_lambda_l2, val_score: 0.840180:  50%|#####     | 10/20 [03:05<02:49, 16.96s/it]\n",
      "\n",
      "tune_lambda_l1_and_lambda_l2, val_score: 0.840180:  55%|#####5    | 11/20 [03:05<02:32, 16.94s/it]\n",
      "\n",
      "tune_lambda_l1_and_lambda_l2, val_score: 0.840180:  55%|#####5    | 11/20 [03:05<02:32, 16.94s/it]\n",
      "\n",
      "tune_lambda_l1_and_lambda_l2, val_score: 0.840180:  55%|#####5    | 11/20 [03:22<02:32, 16.94s/it]\n",
      "\n",
      "tune_lambda_l1_and_lambda_l2, val_score: 0.840180:  60%|######    | 12/20 [03:22<02:15, 16.88s/it]\n",
      "\n",
      "tune_lambda_l1_and_lambda_l2, val_score: 0.840180:  60%|######    | 12/20 [03:22<02:15, 16.88s/it]\n",
      "\n",
      "tune_lambda_l1_and_lambda_l2, val_score: 0.840180:  60%|######    | 12/20 [03:39<02:15, 16.88s/it]\n",
      "\n",
      "tune_lambda_l1_and_lambda_l2, val_score: 0.840180:  65%|######5   | 13/20 [03:39<01:58, 16.88s/it]\n",
      "\n",
      "tune_lambda_l1_and_lambda_l2, val_score: 0.840180:  65%|######5   | 13/20 [03:39<01:58, 16.88s/it]\n",
      "\n",
      "tune_lambda_l1_and_lambda_l2, val_score: 0.840180:  65%|######5   | 13/20 [03:56<01:58, 16.88s/it]\n",
      "\n",
      "tune_lambda_l1_and_lambda_l2, val_score: 0.840180:  70%|#######   | 14/20 [03:56<01:41, 16.89s/it]\n",
      "\n",
      "tune_lambda_l1_and_lambda_l2, val_score: 0.840180:  70%|#######   | 14/20 [03:56<01:41, 16.89s/it]\n",
      "\n",
      "tune_lambda_l1_and_lambda_l2, val_score: 0.840180:  70%|#######   | 14/20 [04:13<01:41, 16.89s/it]\n",
      "\n",
      "tune_lambda_l1_and_lambda_l2, val_score: 0.840180:  75%|#######5  | 15/20 [04:13<01:24, 16.94s/it]\n",
      "\n",
      "tune_lambda_l1_and_lambda_l2, val_score: 0.840180:  75%|#######5  | 15/20 [04:13<01:24, 16.94s/it]\n",
      "\n",
      "tune_lambda_l1_and_lambda_l2, val_score: 0.840180:  75%|#######5  | 15/20 [04:24<01:24, 16.94s/it]\n",
      "\n",
      "tune_lambda_l1_and_lambda_l2, val_score: 0.840180:  80%|########  | 16/20 [04:24<01:00, 15.15s/it]\n",
      "\n",
      "tune_lambda_l1_and_lambda_l2, val_score: 0.840180:  80%|########  | 16/20 [04:24<01:00, 15.15s/it]\n",
      "\n",
      "tune_lambda_l1_and_lambda_l2, val_score: 0.840180:  80%|########  | 16/20 [04:40<01:00, 15.15s/it]\n",
      "\n",
      "tune_lambda_l1_and_lambda_l2, val_score: 0.840180:  85%|########5 | 17/20 [04:40<00:47, 15.68s/it]\n",
      "\n",
      "tune_lambda_l1_and_lambda_l2, val_score: 0.840180:  85%|########5 | 17/20 [04:41<00:47, 15.68s/it]\n",
      "\n",
      "tune_lambda_l1_and_lambda_l2, val_score: 0.840180:  85%|########5 | 17/20 [04:58<00:47, 15.68s/it]\n",
      "\n",
      "tune_lambda_l1_and_lambda_l2, val_score: 0.840180:  90%|######### | 18/20 [04:58<00:32, 16.36s/it]\n",
      "\n",
      "tune_lambda_l1_and_lambda_l2, val_score: 0.840180:  90%|######### | 18/20 [04:58<00:32, 16.36s/it]\n",
      "\n",
      "tune_lambda_l1_and_lambda_l2, val_score: 0.840180:  90%|######### | 18/20 [05:15<00:32, 16.36s/it]\n",
      "\n",
      "tune_lambda_l1_and_lambda_l2, val_score: 0.840180:  95%|#########5| 19/20 [05:15<00:16, 16.49s/it]\n",
      "\n",
      "tune_lambda_l1_and_lambda_l2, val_score: 0.840180:  95%|#########5| 19/20 [05:15<00:16, 16.49s/it]\n",
      "\n",
      "tune_lambda_l1_and_lambda_l2, val_score: 0.840180:  95%|#########5| 19/20 [05:32<00:16, 16.49s/it]\n",
      "\n",
      "tune_lambda_l1_and_lambda_l2, val_score: 0.840180: 100%|##########| 20/20 [05:32<00:00, 16.63s/it]\n",
      "\n",
      "\n",
      "  0%|          | 0/5 [00:00<?, ?it/s]\n",
      "\n",
      "tune_min_child_samples, val_score: 0.840180:   0%|          | 0/5 [00:00<?, ?it/s]\n",
      "\n",
      "tune_min_child_samples, val_score: 0.840180:   0%|          | 0/5 [00:18<?, ?it/s]\n",
      "\n",
      "tune_min_child_samples, val_score: 0.840180:  20%|##        | 1/5 [00:18<01:14, 18.51s/it]\n",
      "\n",
      "tune_min_child_samples, val_score: 0.840180:  20%|##        | 1/5 [00:18<01:14, 18.51s/it]\n",
      "\n",
      "tune_min_child_samples, val_score: 0.840180:  20%|##        | 1/5 [00:36<01:14, 18.51s/it]\n",
      "\n",
      "tune_min_child_samples, val_score: 0.840180:  40%|####      | 2/5 [00:36<00:55, 18.50s/it]\n",
      "\n",
      "tune_min_child_samples, val_score: 0.840180:  40%|####      | 2/5 [00:37<00:55, 18.50s/it]\n",
      "\n",
      "tune_min_child_samples, val_score: 0.840180:  40%|####      | 2/5 [00:55<00:55, 18.50s/it]\n",
      "\n",
      "tune_min_child_samples, val_score: 0.840180:  60%|######    | 3/5 [00:55<00:36, 18.49s/it]\n",
      "\n",
      "tune_min_child_samples, val_score: 0.840180:  60%|######    | 3/5 [00:55<00:36, 18.49s/it]\n",
      "\n",
      "tune_min_child_samples, val_score: 0.840180:  60%|######    | 3/5 [01:13<00:36, 18.49s/it]\n",
      "\n",
      "tune_min_child_samples, val_score: 0.840180:  80%|########  | 4/5 [01:13<00:18, 18.47s/it]\n",
      "\n",
      "tune_min_child_samples, val_score: 0.840180:  80%|########  | 4/5 [01:13<00:18, 18.47s/it]\n",
      "\n",
      "tune_min_child_samples, val_score: 0.840180:  80%|########  | 4/5 [01:32<00:18, 18.47s/it]\n",
      "\n",
      "tune_min_child_samples, val_score: 0.840180: 100%|##########| 5/5 [01:32<00:00, 18.47s/it]\n"
     ]
    }
   ],
   "source": [
    "lgb_model = lgb.train(lgb_best_params,\n",
    "                     lgb_train,\n",
    "                     valid_sets=lgb_eval,\n",
    "                     verbosity=False)"
   ]
  },
  {
   "cell_type": "code",
   "execution_count": 26,
   "metadata": {},
   "outputs": [
    {
     "data": {
      "text/plain": [
       "<matplotlib.axes._subplots.AxesSubplot at 0x7fa1842d7b90>"
      ]
     },
     "execution_count": 26,
     "metadata": {},
     "output_type": "execute_result"
    },
    {
     "data": {
      "image/png": "[encoded data removed]",
      "text/plain": [
       "<Figure size 576x576 with 1 Axes>"
      ]
     },
     "metadata": {
      "needs_background": "light"
     },
     "output_type": "display_data"
    }
   ],
   "source": [
    "lgb.plot_importance(lgb_model, figsize=(8,8), color='darkviolet')"
   ]
  },
  {
   "cell_type": "code",
   "execution_count": 27,
   "metadata": {},
   "outputs": [
    {
     "data": {
      "text/html": [
       "<div>\n",
       "<style scoped>\n",
       "    .dataframe tbody tr th:only-of-type {\n",
       "        vertical-align: middle;\n",
       "    }\n",
       "\n",
       "    .dataframe tbody tr th {\n",
       "        vertical-align: top;\n",
       "    }\n",
       "\n",
       "    .dataframe thead th {\n",
       "        text-align: right;\n",
       "    }\n",
       "</style>\n",
       "<table border=\"1\" class=\"dataframe\">\n",
       "  <thead>\n",
       "    <tr style=\"text-align: right;\">\n",
       "      <th></th>\n",
       "      <th>0</th>\n",
       "    </tr>\n",
       "  </thead>\n",
       "  <tbody>\n",
       "    <tr>\n",
       "      <th>0</th>\n",
       "      <td>0.545177</td>\n",
       "    </tr>\n",
       "    <tr>\n",
       "      <th>1</th>\n",
       "      <td>0.115565</td>\n",
       "    </tr>\n",
       "    <tr>\n",
       "      <th>2</th>\n",
       "      <td>0.019731</td>\n",
       "    </tr>\n",
       "    <tr>\n",
       "      <th>3</th>\n",
       "      <td>0.000824</td>\n",
       "    </tr>\n",
       "    <tr>\n",
       "      <th>4</th>\n",
       "      <td>0.039956</td>\n",
       "    </tr>\n",
       "  </tbody>\n",
       "</table>\n",
       "</div>"
      ],
      "text/plain": [
       "          0\n",
       "0  0.545177\n",
       "1  0.115565\n",
       "2  0.019731\n",
       "3  0.000824\n",
       "4  0.039956"
      ]
     },
     "execution_count": 27,
     "metadata": {},
     "output_type": "execute_result"
    }
   ],
   "source": [
    "pred_lgb = lgb_model.predict(test_df, num_iteration=best_itr)\n",
    "lgb_p = pd.DataFrame(pred_lgb)\n",
    "lgb_p.head()"
   ]
  },
  {
   "cell_type": "code",
   "execution_count": 29,
   "metadata": {},
   "outputs": [],
   "source": [
    "now = datetime.datetime.now()\n",
    "\n",
    "lgb_name = 'models/LGBM_dart_' + now.strftime('%d_%H%M') + '.pkl'\n",
    "pickle.dump(best_lgb, open(lgb_name, 'wb'))"
   ]
  },
  {
   "cell_type": "markdown",
   "metadata": {},
   "source": [
    "# ＜CatBoost＞"
   ]
  },
  {
   "cell_type": "code",
   "execution_count": null,
   "metadata": {},
   "outputs": [],
   "source": [
    "train_df = pd.read_csv('dataset/train_cat_16_2206.csv')\n",
    "test_df = pd.read_csv('dataset/test_cat_16_2206.csv')"
   ]
  },
  {
   "cell_type": "code",
   "execution_count": null,
   "metadata": {},
   "outputs": [],
   "source": [
    "ID = test_df['id']\n",
    "x = train_df.drop(columns=['y', 'id'])\n",
    "y = train_df['y']\n",
    "test_df = test_df.drop(columns=['y', 'id'])"
   ]
  },
  {
   "cell_type": "code",
   "execution_count": null,
   "metadata": {},
   "outputs": [],
   "source": [
    "cat_features = np.where(x.dtypes != np.float)[0]"
   ]
  },
  {
   "cell_type": "code",
   "execution_count": null,
   "metadata": {},
   "outputs": [],
   "source": [
    "x_train, x_test, y_train, y_test = train_test_split(x, y,\n",
    "                                                    test_size=0.2,\n",
    "                                                    stratify=y,\n",
    "                                                    shuffle=True,\n",
    "                                                    random_state=18)"
   ]
  },
  {
   "cell_type": "code",
   "execution_count": null,
   "metadata": {},
   "outputs": [],
   "source": [
    "def obj_cb(trial):\n",
    "    \n",
    "    param_cb = {\n",
    "        'eval_metric': 'AUC',\n",
    "        'cat_features': cat_features,\n",
    "        'iterations': 1000,\n",
    "        'learning_rate': 0.001,\n",
    "        'depth': trial.suggest_int('depth', 6, 10),\n",
    "        'od_pval': trial.suggest_loguniform('od_pval', 1e-10, 1e-2),\n",
    "        'od_wait': 1000,\n",
    "        'l2_leaf_reg': trial.suggest_int('l2_leaf_reg', 1, 100),\n",
    "        'random_strength': trial.suggest_int('random_strength', 1, 3),\n",
    "        'bagging_temperature': trial.suggest_int('bagging_temperature', 1, 10),\n",
    "        'random_seed': 18,\n",
    "        'use_best_model': True\n",
    "    }\n",
    "    \n",
    "    cb = CatBoostClassifier(**param_cb)\n",
    "    cb.fit(x_train, y_train, eval_set=[(x_test, y_test)], early_stopping_rounds=100, silent=True)\n",
    "    predictions = cb.predict(x_test)\n",
    "    auc_score = roc_auc_score(predictions, y_test)\n",
    "    \n",
    "    return auc_score"
   ]
  },
  {
   "cell_type": "code",
   "execution_count": null,
   "metadata": {},
   "outputs": [],
   "source": [
    "def obj_cb2(trial):\n",
    "    \n",
    "    param_cb = {\n",
    "        'eval_metric': 'AUC',\n",
    "        'cat_features': cat_features,\n",
    "        'iterations': 1000,\n",
    "        'learning_rate': 0.005,\n",
    "        'depth': trial.suggest_int('depth', 6, 10),\n",
    "        'od_pval': trial.suggest_loguniform('od_pval', 1e-10, 1e-2),\n",
    "        'od_wait': 1000,\n",
    "        'l2_leaf_reg': trial.suggest_int('l2_leaf_reg', 1, 100),\n",
    "        'random_strength': trial.suggest_int('random_strength', 1, 3),\n",
    "        'bagging_temperature': trial.suggest_int('bagging_temperature', 1, 10),\n",
    "        'random_seed': 18,\n",
    "    }\n",
    "    \n",
    "    cb = CatBoostClassifier(**param_cb)\n",
    "    k = 5\n",
    "    skf = StratifiedKFold(n_splits=k, shuffle=True, random_state=18)\n",
    "    \n",
    "    scoring = 'roc_auc'\n",
    "    cv_output = cross_validate(cb, x_train, y_train, n_jobs=1, scoring=scoring, cv=skf)\n",
    "    \n",
    "    return cv_output['test_score'].mean()"
   ]
  },
  {
   "cell_type": "code",
   "execution_count": null,
   "metadata": {},
   "outputs": [],
   "source": [
    "%%time\n",
    "\n",
    "study_cb = optuna.create_study(direction='maximize')\n",
    "study_cb.optimize(obj_cb2, n_trials=100, n_jobs=1)\n",
    "\n",
    "print(study_cb.best_params)\n",
    "print(study_cb.best_value)\n",
    "cb_best_params = study_cb.best_params"
   ]
  },
  {
   "cell_type": "code",
   "execution_count": null,
   "metadata": {},
   "outputs": [],
   "source": [
    "cb_best_params"
   ]
  },
  {
   "cell_type": "code",
   "execution_count": null,
   "metadata": {},
   "outputs": [],
   "source": [
    "cb_best_params = {\n",
    "        'eval_metric': 'AUC',\n",
    "        'cat_features': cat_features,\n",
    "        'iterations': 10000,\n",
    "        'learning_rate': 0.005,\n",
    "        'depth': 10,\n",
    "        'od_pval': 0.00000000010051726483293451,\n",
    "        'od_wait': 1000,\n",
    "        'l2_leaf_reg': 1,\n",
    "        'random_strength': 1,\n",
    "        'bagging_temperature': 9,\n",
    "        'random_seed': 18,\n",
    "        'use_best_model': True\n",
    "}\n",
    "\n"
   ]
  },
  {
   "cell_type": "code",
   "execution_count": null,
   "metadata": {},
   "outputs": [],
   "source": [
    "cb_model = CatBoostClassifier(**cb_best_params)\n",
    "cb_model.fit(x_train, y_train, eval_set=[(x_test, y_test)], early_stopping_rounds=1000, silent=True)"
   ]
  },
  {
   "cell_type": "code",
   "execution_count": null,
   "metadata": {},
   "outputs": [],
   "source": [
    "cv_params = cb_model.get_params()\n",
    "cv_params.update({\n",
    "    'loss_function': 'Logloss'\n",
    "})\n",
    "\n",
    "cv_data = cv(Pool(x, y, cat_features=cat_features),\n",
    "            cv_params,\n",
    "            plot=True)"
   ]
  },
  {
   "cell_type": "code",
   "execution_count": null,
   "metadata": {},
   "outputs": [],
   "source": [
    "train_score_cb = cb_model.score(x_train, y_train)\n",
    "test_score_cb = cb_model.score(x_test, y_test)\n",
    "\n",
    "cb_p = cb_model.predict(x_test)\n",
    "\n",
    "acc_cb = accuracy_score(cb_p, y_test)\n",
    "auc_cb = roc_auc_score(cb_p, y_test)\n",
    "\n",
    "print('train score:{}, test_score:{}'.format(train_score_cb, test_score_cb))\n",
    "print('acc:{}, auc:{}'.format(acc_cb, auc_cb))"
   ]
  },
  {
   "cell_type": "code",
   "execution_count": null,
   "metadata": {},
   "outputs": [],
   "source": [
    "fea_imp = pd.DataFrame({'imp': cb_model.feature_importances_, 'col': x.columns})\n",
    "fea_imp = fea_imp.sort_values(['imp', 'col'], ascending=[True, False]).iloc[-30:]\n",
    "fea_imp.plot(kind='barh', x='col', y='imp', figsize=(10, 7), color='darkviolet', legend=None)\n",
    "plt.title('CatBoost - Feature Importance')\n",
    "plt.ylabel('Features')\n",
    "plt.xlabel('Importance')"
   ]
  },
  {
   "cell_type": "code",
   "execution_count": null,
   "metadata": {},
   "outputs": [],
   "source": [
    "pred_cb = cb_model.predict_proba(test_df)\n",
    "cb_p = pd.DataFrame(pred_cb)\n",
    "cb_p.head()"
   ]
  },
  {
   "cell_type": "code",
   "execution_count": null,
   "metadata": {},
   "outputs": [],
   "source": [
    "now = datetime.datetime.now()\n",
    "\n",
    "cb_name = 'models/CatBoost_' + now.strftime('%d_%H%M') + '.pkl'\n",
    "pickle.dump(cb_model, open(cb_name, 'wb'))"
   ]
  },
  {
   "cell_type": "markdown",
   "metadata": {},
   "source": [
    "# ＜SUBMIT＞"
   ]
  },
  {
   "cell_type": "code",
   "execution_count": null,
   "metadata": {},
   "outputs": [],
   "source": [
    "pred = pd.DataFrame({\n",
    "    'XGBoost': xgb_p[1],\n",
    "    'LightGBM': lgb_p[0],\n",
    "    'CatBoost': cb_p[1]\n",
    "})\n",
    "\n",
    "pred.head()"
   ]
  },
  {
   "cell_type": "code",
   "execution_count": null,
   "metadata": {},
   "outputs": [],
   "source": [
    "print(pred.corr())"
   ]
  },
  {
   "cell_type": "code",
   "execution_count": null,
   "metadata": {},
   "outputs": [],
   "source": [
    "print(pred.corr())"
   ]
  },
  {
   "cell_type": "code",
   "execution_count": null,
   "metadata": {},
   "outputs": [],
   "source": [
    "pred['pred'] = pred.XGBoost* 0.2 + pred.LightGBM * 0.8\n",
    "pred.head(10)"
   ]
  },
  {
   "cell_type": "code",
   "execution_count": null,
   "metadata": {},
   "outputs": [],
   "source": [
    "# ensemble\n",
    "\n",
    "now = datetime.datetime.now()\n",
    "\n",
    "submission = pd.DataFrame({\n",
    "    'ID':ID,\n",
    "    'pred':pred['pred']\n",
    "})\n",
    "\n",
    "file_name = 'submit/submit_' + now.strftime('%d_%H%M') + '.csv'\n",
    "\n",
    "submission.to_csv(file_name, header=False, index=False)"
   ]
  },
  {
   "cell_type": "code",
   "execution_count": 12,
   "metadata": {},
   "outputs": [],
   "source": [
    "# RandomForest\n",
    "\n",
    "now = datetime.datetime.now()\n",
    "\n",
    "submission = pd.DataFrame({\n",
    "    'ID':ID,\n",
    "    'pred':rf_p[1]\n",
    "})\n",
    "\n",
    "file_name = 'submit/submit_RF' + now.strftime('%d_%H%M') + '.csv'\n",
    "\n",
    "submission.to_csv(file_name, index=False, header=False)"
   ]
  },
  {
   "cell_type": "code",
   "execution_count": 12,
   "metadata": {},
   "outputs": [],
   "source": [
    "# XGBoost\n",
    "\n",
    "now = datetime.datetime.now()\n",
    "\n",
    "submission = pd.DataFrame({\n",
    "    'ID':ID,\n",
    "    'pred':xgb_p[1]\n",
    "})\n",
    "\n",
    "file_name = 'submit/submit_XGBoost' + now.strftime('%d_%H%M') + '.csv'\n",
    "\n",
    "submission.to_csv(file_name, index=False, header=False)"
   ]
  },
  {
   "cell_type": "code",
   "execution_count": 28,
   "metadata": {},
   "outputs": [],
   "source": [
    "# LightGBM\n",
    "\n",
    "now = datetime.datetime.now()\n",
    "\n",
    "submission = pd.DataFrame({\n",
    "    'ID':ID,\n",
    "    'pred':lgb_p[0]\n",
    "})\n",
    "\n",
    "file_name = 'submit/submit_LGBM' + now.strftime('%d_%H%M') + '.csv'\n",
    "\n",
    "submission.to_csv(file_name, index=False, header=False)"
   ]
  },
  {
   "cell_type": "code",
   "execution_count": null,
   "metadata": {},
   "outputs": [],
   "source": [
    "# CatBoost\n",
    "\n",
    "now = datetime.datetime.now()\n",
    "\n",
    "submission = pd.DataFrame({\n",
    "    'ID':ID,\n",
    "    'pred':cb_p[1]\n",
    "})\n",
    "\n",
    "file_name = 'submit/submit_CatBoost' + now.strftime('%d_%H%M') + '.csv'\n",
    "\n",
    "submission.to_csv(file_name, index=False, header=False)"
   ]
  },
  {
   "cell_type": "code",
   "execution_count": null,
   "metadata": {},
   "outputs": [],
   "source": []
  }
 ],
 "metadata": {
  "kernelspec": {
   "display_name": "Python 3",
   "language": "python",
   "name": "python3"
  },
  "language_info": {
   "codemirror_mode": {
    "name": "ipython",
    "version": 3
   },
   "file_extension": ".py",
   "mimetype": "text/x-python",
   "name": "python",
   "nbconvert_exporter": "python",
   "pygments_lexer": "ipython3",
   "version": "3.7.7"
  }
 },
 "nbformat": 4,
 "nbformat_minor": 4
}
