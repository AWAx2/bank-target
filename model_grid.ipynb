{
 "cells": [
  {
   "cell_type": "code",
   "execution_count": 7,
   "metadata": {},
   "outputs": [],
   "source": [
    "import datetime\n",
    "from copy import copy\n",
    "import numpy as np\n",
    "import pandas as pd\n",
    "import matplotlib.pyplot as plt\n",
    "%matplotlib inline\n",
    "import seaborn as sns\n",
    "import pickle\n",
    "\n",
    "from sklearn.model_selection import train_test_split, StratifiedKFold, cross_validate, GridSearchCV\n",
    "from sklearn.metrics import accuracy_score, roc_auc_score\n",
    "from sklearn.ensemble import RandomForestClassifier\n",
    "import lightgbm as lgb"
   ]
  },
  {
   "cell_type": "code",
   "execution_count": 8,
   "metadata": {},
   "outputs": [],
   "source": [
    "now = datetime.datetime.now()"
   ]
  },
  {
   "cell_type": "code",
   "execution_count": 9,
   "metadata": {},
   "outputs": [],
   "source": [
    "train_df = pd.read_csv('dataset/train_16_0246.csv')\n",
    "test_df = pd.read_csv('dataset/test_16_0246.csv')"
   ]
  },
  {
   "cell_type": "code",
   "execution_count": 10,
   "metadata": {},
   "outputs": [],
   "source": [
    "ID = test_df['id']\n",
    "x = train_df.drop(columns=['y', 'id'])\n",
    "y = train_df['y']\n",
    "test_df = test_df.drop(columns=['y', 'id'])"
   ]
  },
  {
   "cell_type": "code",
   "execution_count": 11,
   "metadata": {},
   "outputs": [],
   "source": [
    "x_train, x_test, y_train, y_test = train_test_split(x, y,\n",
    "                                                    test_size=0.2,\n",
    "                                                    stratify=y,\n",
    "                                                    shuffle=True,\n",
    "                                                    random_state=18)"
   ]
  },
  {
   "cell_type": "code",
   "execution_count": 12,
   "metadata": {},
   "outputs": [],
   "source": [
    "skf = StratifiedKFold(n_splits=8, shuffle=True, random_state=18)"
   ]
  },
  {
   "cell_type": "markdown",
   "metadata": {},
   "source": [
    "# ＜RandomForest＞"
   ]
  },
  {
   "cell_type": "code",
   "execution_count": 13,
   "metadata": {},
   "outputs": [
    {
     "name": "stdout",
     "output_type": "stream",
     "text": [
      "CPU times: user 24.4 s, sys: 3.5 s, total: 27.9 s\n",
      "Wall time: 2h 34min 25s\n"
     ]
    },
    {
     "data": {
      "text/plain": [
       "GridSearchCV(cv=StratifiedKFold(n_splits=8, random_state=18, shuffle=True),\n",
       "             estimator=RandomForestClassifier(), n_jobs=-1,\n",
       "             param_grid={'criterion': ['gini', 'entropy'],\n",
       "                         'max_depth': [3, 4, 5, 6, 7, 8, 9],\n",
       "                         'min_samples_split': [2, 3, 4, 5, 6, 7, 8, 9, 10, 11,\n",
       "                                               12, 13, 14, 15],\n",
       "                         'n_estimators': [1000, 1100, 1200],\n",
       "                         'random_state': [18], 'verbose': [0]},\n",
       "             scoring='roc_auc')"
      ]
     },
     "execution_count": 13,
     "metadata": {},
     "output_type": "execute_result"
    }
   ],
   "source": [
    "%%time\n",
    "\n",
    "rf_param = {\n",
    "    'n_estimators': [i for i in range(1000,1300,100)],\n",
    "    'criterion': ['gini', 'entropy'],\n",
    "    'max_depth': [i for i in range(3,10)],\n",
    "    'min_samples_split': [i for i in range(2,16)],\n",
    "    'random_state': [18],\n",
    "    'verbose': [0]\n",
    "}\n",
    "\n",
    "rf = RandomForestClassifier()\n",
    "gs_rf = GridSearchCV(rf, param_grid=rf_param, cv=skf, scoring='roc_auc', n_jobs=-1)\n",
    "gs_rf.fit(x_train, y_train)"
   ]
  },
  {
   "cell_type": "code",
   "execution_count": 16,
   "metadata": {},
   "outputs": [
    {
     "name": "stdout",
     "output_type": "stream",
     "text": [
      "0.8297325625282433\n",
      "{'criterion': 'entropy', 'max_depth': 9, 'min_samples_split': 14, 'n_estimators': 1200, 'random_state': 18, 'verbose': 0}\n"
     ]
    }
   ],
   "source": [
    "rf_best_param = gs_rf.best_params_\n",
    "\n",
    "print(gs_rf.best_score_)\n",
    "print(gs_rf.best_params_)"
   ]
  },
  {
   "cell_type": "code",
   "execution_count": 17,
   "metadata": {},
   "outputs": [
    {
     "data": {
      "text/plain": [
       "RandomForestClassifier(criterion='entropy', max_depth=9, min_samples_split=14,\n",
       "                       n_estimators=1200, n_jobs=-1, random_state=18)"
      ]
     },
     "execution_count": 17,
     "metadata": {},
     "output_type": "execute_result"
    }
   ],
   "source": [
    "rf_model = RandomForestClassifier(**rf_best_param, n_jobs=-1)\n",
    "rf_model.fit(x_train, y_train)"
   ]
  },
  {
   "cell_type": "code",
   "execution_count": 19,
   "metadata": {},
   "outputs": [
    {
     "name": "stdout",
     "output_type": "stream",
     "text": [
      "train score:0.9320110701107011, test_score:0.9280442804428044\n",
      "acc:0.9280442804428044, auc:0.8811119384462647\n"
     ]
    }
   ],
   "source": [
    "train_score_rf = rf_model.score(x_train, y_train)\n",
    "test_score_rf = rf_model.score(x_test, y_test)\n",
    "\n",
    "rf_p = rf_model.predict(x_test)\n",
    "\n",
    "acc_rf = accuracy_score(rf_p, y_test)\n",
    "auc_rf = roc_auc_score(rf_p, y_test)\n",
    "\n",
    "print('train score:{}, test_score:{}'.format(train_score_rf, test_score_rf))\n",
    "print('acc:{}, auc:{}'.format(acc_rf, auc_rf))"
   ]
  },
  {
   "cell_type": "code",
   "execution_count": 21,
   "metadata": {},
   "outputs": [
    {
     "data": {
      "image/png": "[encoded data removed]",
      "text/plain": [
       "<Figure size 432x432 with 1 Axes>"
      ]
     },
     "metadata": {
      "needs_background": "light"
     },
     "output_type": "display_data"
    }
   ],
   "source": [
    "features = x_train.columns\n",
    "importances = rf_model.feature_importances_\n",
    "indices = np.argsort(importances)\n",
    "\n",
    "plt.figure(figsize=(6,6))\n",
    "plt.barh(range(len(indices)), importances[indices], color='darkviolet', align='center')\n",
    "plt.yticks(range(len(indices)), features[indices])\n",
    "plt.show()"
   ]
  },
  {
   "cell_type": "code",
   "execution_count": 23,
   "metadata": {},
   "outputs": [
    {
     "data": {
      "text/html": [
       "<div>\n",
       "<style scoped>\n",
       "    .dataframe tbody tr th:only-of-type {\n",
       "        vertical-align: middle;\n",
       "    }\n",
       "\n",
       "    .dataframe tbody tr th {\n",
       "        vertical-align: top;\n",
       "    }\n",
       "\n",
       "    .dataframe thead th {\n",
       "        text-align: right;\n",
       "    }\n",
       "</style>\n",
       "<table border=\"1\" class=\"dataframe\">\n",
       "  <thead>\n",
       "    <tr style=\"text-align: right;\">\n",
       "      <th></th>\n",
       "      <th>0</th>\n",
       "      <th>1</th>\n",
       "    </tr>\n",
       "  </thead>\n",
       "  <tbody>\n",
       "    <tr>\n",
       "      <th>0</th>\n",
       "      <td>0.351893</td>\n",
       "      <td>0.648107</td>\n",
       "    </tr>\n",
       "    <tr>\n",
       "      <th>1</th>\n",
       "      <td>0.928926</td>\n",
       "      <td>0.071074</td>\n",
       "    </tr>\n",
       "    <tr>\n",
       "      <th>2</th>\n",
       "      <td>0.957092</td>\n",
       "      <td>0.042908</td>\n",
       "    </tr>\n",
       "    <tr>\n",
       "      <th>3</th>\n",
       "      <td>0.996419</td>\n",
       "      <td>0.003581</td>\n",
       "    </tr>\n",
       "    <tr>\n",
       "      <th>4</th>\n",
       "      <td>0.909486</td>\n",
       "      <td>0.090514</td>\n",
       "    </tr>\n",
       "  </tbody>\n",
       "</table>\n",
       "</div>"
      ],
      "text/plain": [
       "          0         1\n",
       "0  0.351893  0.648107\n",
       "1  0.928926  0.071074\n",
       "2  0.957092  0.042908\n",
       "3  0.996419  0.003581\n",
       "4  0.909486  0.090514"
      ]
     },
     "execution_count": 23,
     "metadata": {},
     "output_type": "execute_result"
    }
   ],
   "source": [
    "pred_rf = rf_model.predict_proba(test_df)\n",
    "rf_p = pd.DataFrame(pred_rf)\n",
    "rf_p.head()"
   ]
  },
  {
   "cell_type": "code",
   "execution_count": 25,
   "metadata": {},
   "outputs": [],
   "source": [
    "now = datetime.datetime.now()\n",
    "\n",
    "rf_name = 'models/RF_' + now.strftime('%d_%H%M') + '.pkl'\n",
    "pickle.dump(rf_model, open(rf_name, 'wb'))"
   ]
  },
  {
   "cell_type": "markdown",
   "metadata": {},
   "source": [
    "# ・SUBMIT"
   ]
  },
  {
   "cell_type": "code",
   "execution_count": 24,
   "metadata": {},
   "outputs": [],
   "source": [
    "# RandomForest\n",
    "\n",
    "now = datetime.datetime.now()\n",
    "\n",
    "submission = pd.DataFrame({\n",
    "    'ID':ID,\n",
    "    'pred':rf_p[1]\n",
    "})\n",
    "\n",
    "file_name = 'submit/submit_RF' + now.strftime('%d_%H%M') + '.csv'\n",
    "\n",
    "submission.to_csv(file_name, index=False, header=False)"
   ]
  },
  {
   "cell_type": "code",
   "execution_count": null,
   "metadata": {},
   "outputs": [],
   "source": []
  }
 ],
 "metadata": {
  "kernelspec": {
   "display_name": "Python 3",
   "language": "python",
   "name": "python3"
  },
  "language_info": {
   "codemirror_mode": {
    "name": "ipython",
    "version": 3
   },
   "file_extension": ".py",
   "mimetype": "text/x-python",
   "name": "python",
   "nbconvert_exporter": "python",
   "pygments_lexer": "ipython3",
   "version": "3.7.7"
  }
 },
 "nbformat": 4,
 "nbformat_minor": 4
}
