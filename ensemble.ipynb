{
 "cells": [
  {
   "cell_type": "code",
   "execution_count": 38,
   "metadata": {},
   "outputs": [],
   "source": [
    "import datetime\n",
    "from copy import copy\n",
    "import numpy as np\n",
    "import pandas as pd\n",
    "import matplotlib.pyplot as plt\n",
    "%matplotlib inline\n",
    "import seaborn as sns\n",
    "import ipywidgets\n",
    "import pickle\n",
    "import gc\n",
    "\n",
    "from sklearn.model_selection import train_test_split, StratifiedKFold, cross_validate, GridSearchCV\n",
    "from sklearn.metrics import accuracy_score, roc_auc_score\n",
    "\n",
    "from sklearn.linear_model import LogisticRegression\n",
    "import xgboost\n",
    "from xgboost import XGBClassifier\n",
    "from lightgbm import LGBMClassifier\n",
    "from catboost import CatBoostClassifier, cv, Pool\n",
    "import optuna\n",
    "from optuna.integration import lightgbm as lgb\n",
    "import tensorflow as tf"
   ]
  },
  {
   "cell_type": "code",
   "execution_count": null,
   "metadata": {},
   "outputs": [],
   "source": [
    "pred_rf = pd.read_csv('submit/submit_RF22_2244.csv', names=('id', 'RandomForest'))\n",
    "pred_xgb = pd.read_csv('submit/submit_XGBoost17_1208.csv', names=('id', 'XGBoost'))\n",
    "pred_lgb = pd.read_csv('submit/submit_LGBM24_0416.csv', names=('id', 'LightGBM'))\n",
    "pred_cb = pd.read_csv('submit/submit_CatBoost24_0350.csv', names=('id, 'CatBoost'))\n",
    "pred_nn = pd.read_csv('submit/submit_NN17_1648.csv', names=('id', 'NN'))"
   ]
  },
  {
   "cell_type": "code",
   "execution_count": null,
   "metadata": {},
   "outputs": [],
   "source": [
    "pred = pd.merge(pred_rf, pred_xgb, on='id')\n",
    "pred = pd.merge(pred, pred_lgb, on='id')\n",
    "pred = pd.merge(pred, pred_cb, on='id')\n",
    "pred = pd.merge(pred, pred_nn, on='id')\n",
    "pred.head(10)id"
   ]
  },
  {
   "cell_type": "code",
   "execution_count": null,
   "metadata": {},
   "outputs": [],
   "source": [
    "corr = pred.corr()\n",
    "\n",
    "plt.subplots(figsize=(6,6))\n",
    "sns.heatmap(corr, annot=True, square=True, cmap='inferno')"
   ]
  },
  {
   "cell_type": "code",
   "execution_count": null,
   "metadata": {},
   "outputs": [],
   "source": [
    "pred['pred'] = (pred.RandomForest * 0.04 + pred.XGBoost * 0.03 + pred.NN * 0.03\n",
    "                + pred.LightGBM * 0.35 + pred.CatBoost * 0.55)\n",
    "pred.head()"
   ]
  },
  {
   "cell_type": "code",
   "execution_count": null,
   "metadata": {},
   "outputs": [],
   "source": [
    "now = datetime.datetime.now()\n",
    "\n",
    "submission = pd.DataFrame({\n",
    "    'ID':pred['id'],\n",
    "    'pred':pred['pred']\n",
    "})\n",
    "\n",
    "file_name = 'submit/submit_' + now.strftime('%d_%H%M') + '.csv'\n",
    "\n",
    "submission.to_csv(file_name, header=False, index=False)"
   ]
  },
  {
   "cell_type": "markdown",
   "metadata": {},
   "source": [
    "# LogisticRegression"
   ]
  },
  {
   "cell_type": "code",
   "execution_count": 2,
   "metadata": {},
   "outputs": [],
   "source": [
    "train_df = pd.read_csv('dataset/train_16_0246.csv')\n",
    "test_df = pd.read_csv('dataset/test_16_0246.csv')"
   ]
  },
  {
   "cell_type": "code",
   "execution_count": 3,
   "metadata": {},
   "outputs": [],
   "source": [
    "ID = train_df['id']\n",
    "x = train_df.drop(columns=['y', 'id'])\n",
    "y = train_df['y']"
   ]
  },
  {
   "cell_type": "code",
   "execution_count": 4,
   "metadata": {},
   "outputs": [],
   "source": [
    "rf_model = pickle.load(open('models/RF_22_2248.pkl', 'rb'))\n",
    "xgb_model = pickle.load(open('models/XG_17_1144.pkl', 'rb'))\n",
    "lgb_model = pickle.load(open('models/LGBM_op24_0418.pkl', 'rb'))"
   ]
  },
  {
   "cell_type": "code",
   "execution_count": 5,
   "metadata": {},
   "outputs": [
    {
     "data": {
      "text/html": [
       "<div>\n",
       "<style scoped>\n",
       "    .dataframe tbody tr th:only-of-type {\n",
       "        vertical-align: middle;\n",
       "    }\n",
       "\n",
       "    .dataframe tbody tr th {\n",
       "        vertical-align: top;\n",
       "    }\n",
       "\n",
       "    .dataframe thead th {\n",
       "        text-align: right;\n",
       "    }\n",
       "</style>\n",
       "<table border=\"1\" class=\"dataframe\">\n",
       "  <thead>\n",
       "    <tr style=\"text-align: right;\">\n",
       "      <th></th>\n",
       "      <th>id</th>\n",
       "      <th>RF</th>\n",
       "      <th>XGB</th>\n",
       "      <th>LGB</th>\n",
       "      <th>y</th>\n",
       "    </tr>\n",
       "  </thead>\n",
       "  <tbody>\n",
       "    <tr>\n",
       "      <th>0</th>\n",
       "      <td>0</td>\n",
       "      <td>0.019764</td>\n",
       "      <td>0.000207</td>\n",
       "      <td>0.041840</td>\n",
       "      <td>0</td>\n",
       "    </tr>\n",
       "    <tr>\n",
       "      <th>1</th>\n",
       "      <td>1</td>\n",
       "      <td>0.178051</td>\n",
       "      <td>0.845551</td>\n",
       "      <td>0.178831</td>\n",
       "      <td>1</td>\n",
       "    </tr>\n",
       "    <tr>\n",
       "      <th>2</th>\n",
       "      <td>2</td>\n",
       "      <td>0.010521</td>\n",
       "      <td>0.000607</td>\n",
       "      <td>0.036251</td>\n",
       "      <td>0</td>\n",
       "    </tr>\n",
       "    <tr>\n",
       "      <th>3</th>\n",
       "      <td>3</td>\n",
       "      <td>0.014289</td>\n",
       "      <td>0.000238</td>\n",
       "      <td>0.040736</td>\n",
       "      <td>0</td>\n",
       "    </tr>\n",
       "    <tr>\n",
       "      <th>4</th>\n",
       "      <td>4</td>\n",
       "      <td>0.186455</td>\n",
       "      <td>0.004137</td>\n",
       "      <td>0.118117</td>\n",
       "      <td>0</td>\n",
       "    </tr>\n",
       "    <tr>\n",
       "      <th>...</th>\n",
       "      <td>...</td>\n",
       "      <td>...</td>\n",
       "      <td>...</td>\n",
       "      <td>...</td>\n",
       "      <td>...</td>\n",
       "    </tr>\n",
       "    <tr>\n",
       "      <th>27085</th>\n",
       "      <td>27085</td>\n",
       "      <td>0.025268</td>\n",
       "      <td>0.000278</td>\n",
       "      <td>0.046788</td>\n",
       "      <td>0</td>\n",
       "    </tr>\n",
       "    <tr>\n",
       "      <th>27086</th>\n",
       "      <td>27086</td>\n",
       "      <td>0.023498</td>\n",
       "      <td>0.000030</td>\n",
       "      <td>0.041830</td>\n",
       "      <td>0</td>\n",
       "    </tr>\n",
       "    <tr>\n",
       "      <th>27087</th>\n",
       "      <td>27087</td>\n",
       "      <td>0.044049</td>\n",
       "      <td>0.002026</td>\n",
       "      <td>0.051748</td>\n",
       "      <td>0</td>\n",
       "    </tr>\n",
       "    <tr>\n",
       "      <th>27088</th>\n",
       "      <td>27088</td>\n",
       "      <td>0.141111</td>\n",
       "      <td>0.091323</td>\n",
       "      <td>0.114841</td>\n",
       "      <td>0</td>\n",
       "    </tr>\n",
       "    <tr>\n",
       "      <th>27089</th>\n",
       "      <td>27089</td>\n",
       "      <td>0.043240</td>\n",
       "      <td>0.002842</td>\n",
       "      <td>0.051638</td>\n",
       "      <td>0</td>\n",
       "    </tr>\n",
       "  </tbody>\n",
       "</table>\n",
       "<p>27090 rows × 5 columns</p>\n",
       "</div>"
      ],
      "text/plain": [
       "          id        RF       XGB       LGB  y\n",
       "0          0  0.019764  0.000207  0.041840  0\n",
       "1          1  0.178051  0.845551  0.178831  1\n",
       "2          2  0.010521  0.000607  0.036251  0\n",
       "3          3  0.014289  0.000238  0.040736  0\n",
       "4          4  0.186455  0.004137  0.118117  0\n",
       "...      ...       ...       ...       ... ..\n",
       "27085  27085  0.025268  0.000278  0.046788  0\n",
       "27086  27086  0.023498  0.000030  0.041830  0\n",
       "27087  27087  0.044049  0.002026  0.051748  0\n",
       "27088  27088  0.141111  0.091323  0.114841  0\n",
       "27089  27089  0.043240  0.002842  0.051638  0\n",
       "\n",
       "[27090 rows x 5 columns]"
      ]
     },
     "execution_count": 5,
     "metadata": {},
     "output_type": "execute_result"
    }
   ],
   "source": [
    "f_rf = rf_model.predict_proba(x)\n",
    "first_rf = pd.DataFrame(f_rf)\n",
    "\n",
    "f_xgb = xgb_model.predict_proba(x)\n",
    "first_xgb = pd.DataFrame(f_xgb)\n",
    "\n",
    "f_lgb = lgb_model.predict(x)\n",
    "first_lgb = pd.DataFrame(f_lgb)\n",
    "\n",
    "first_pred = np.column_stack((first_rf[1],first_xgb[1], first_lgb[0]))\n",
    "train_pred = pd.DataFrame(first_pred, columns=('RF', 'XGB', 'LGB'))\n",
    "\n",
    "train_pred = pd.concat([ID, train_pred, y], axis=1)\n",
    "train_pred['id'] = [int(i) for i in train_pred['id']]\n",
    "train_pred.head(-10)"
   ]
  },
  {
   "cell_type": "code",
   "execution_count": 6,
   "metadata": {},
   "outputs": [],
   "source": [
    "del train_df, test_df, ID, x, y"
   ]
  },
  {
   "cell_type": "code",
   "execution_count": 7,
   "metadata": {},
   "outputs": [],
   "source": [
    "train_df = pd.read_csv('dataset/train_cat_16_2206.csv')\n",
    "test_df = pd.read_csv('dataset/test_cat_16_2206.csv')"
   ]
  },
  {
   "cell_type": "code",
   "execution_count": 8,
   "metadata": {},
   "outputs": [],
   "source": [
    "ID = train_df['id']\n",
    "x = train_df.drop(columns=['y', 'id'])"
   ]
  },
  {
   "cell_type": "code",
   "execution_count": 9,
   "metadata": {},
   "outputs": [],
   "source": [
    "cb_model = pickle.load(open('models/CatBoost_24_0835.pkl', 'rb'))"
   ]
  },
  {
   "cell_type": "code",
   "execution_count": 10,
   "metadata": {},
   "outputs": [
    {
     "data": {
      "text/html": [
       "<div>\n",
       "<style scoped>\n",
       "    .dataframe tbody tr th:only-of-type {\n",
       "        vertical-align: middle;\n",
       "    }\n",
       "\n",
       "    .dataframe tbody tr th {\n",
       "        vertical-align: top;\n",
       "    }\n",
       "\n",
       "    .dataframe thead th {\n",
       "        text-align: right;\n",
       "    }\n",
       "</style>\n",
       "<table border=\"1\" class=\"dataframe\">\n",
       "  <thead>\n",
       "    <tr style=\"text-align: right;\">\n",
       "      <th></th>\n",
       "      <th>id</th>\n",
       "      <th>1</th>\n",
       "    </tr>\n",
       "  </thead>\n",
       "  <tbody>\n",
       "    <tr>\n",
       "      <th>0</th>\n",
       "      <td>0</td>\n",
       "      <td>0.005982</td>\n",
       "    </tr>\n",
       "    <tr>\n",
       "      <th>1</th>\n",
       "      <td>1</td>\n",
       "      <td>0.174154</td>\n",
       "    </tr>\n",
       "    <tr>\n",
       "      <th>2</th>\n",
       "      <td>2</td>\n",
       "      <td>0.006766</td>\n",
       "    </tr>\n",
       "    <tr>\n",
       "      <th>3</th>\n",
       "      <td>3</td>\n",
       "      <td>0.004269</td>\n",
       "    </tr>\n",
       "    <tr>\n",
       "      <th>4</th>\n",
       "      <td>4</td>\n",
       "      <td>0.148330</td>\n",
       "    </tr>\n",
       "    <tr>\n",
       "      <th>...</th>\n",
       "      <td>...</td>\n",
       "      <td>...</td>\n",
       "    </tr>\n",
       "    <tr>\n",
       "      <th>27085</th>\n",
       "      <td>27085</td>\n",
       "      <td>0.011141</td>\n",
       "    </tr>\n",
       "    <tr>\n",
       "      <th>27086</th>\n",
       "      <td>27086</td>\n",
       "      <td>0.003571</td>\n",
       "    </tr>\n",
       "    <tr>\n",
       "      <th>27087</th>\n",
       "      <td>27087</td>\n",
       "      <td>0.017806</td>\n",
       "    </tr>\n",
       "    <tr>\n",
       "      <th>27088</th>\n",
       "      <td>27088</td>\n",
       "      <td>0.182574</td>\n",
       "    </tr>\n",
       "    <tr>\n",
       "      <th>27089</th>\n",
       "      <td>27089</td>\n",
       "      <td>0.029935</td>\n",
       "    </tr>\n",
       "  </tbody>\n",
       "</table>\n",
       "<p>27090 rows × 2 columns</p>\n",
       "</div>"
      ],
      "text/plain": [
       "          id         1\n",
       "0          0  0.005982\n",
       "1          1  0.174154\n",
       "2          2  0.006766\n",
       "3          3  0.004269\n",
       "4          4  0.148330\n",
       "...      ...       ...\n",
       "27085  27085  0.011141\n",
       "27086  27086  0.003571\n",
       "27087  27087  0.017806\n",
       "27088  27088  0.182574\n",
       "27089  27089  0.029935\n",
       "\n",
       "[27090 rows x 2 columns]"
      ]
     },
     "execution_count": 10,
     "metadata": {},
     "output_type": "execute_result"
    }
   ],
   "source": [
    "f_cb = cb_model.predict_proba(x)\n",
    "first_cb = pd.DataFrame(f_cb)\n",
    "\n",
    "tmp_train_pred = pd.concat([ID, first_cb[1]], axis=1)\n",
    "tmp_train_pred['id'] = [int(i) for i in tmp_train_pred['id']]\n",
    "tmp_train_pred.head(-10)"
   ]
  },
  {
   "cell_type": "code",
   "execution_count": 20,
   "metadata": {},
   "outputs": [
    {
     "data": {
      "text/plain": [
       "(27100, 6)"
      ]
     },
     "execution_count": 20,
     "metadata": {},
     "output_type": "execute_result"
    }
   ],
   "source": [
    "tr_pred = pd.merge(train_pred, tmp_train_pred, on='id')\n",
    "tr_pred = tr_pred.rename(columns={1: 'CB'})"
   ]
  },
  {
   "cell_type": "code",
   "execution_count": null,
   "metadata": {},
   "outputs": [],
   "source": [
    "\"\"\"\n",
    "NNモデル追加\n",
    "\"\"\""
   ]
  },
  {
   "cell_type": "code",
   "execution_count": null,
   "metadata": {},
   "outputs": [],
   "source": []
  },
  {
   "cell_type": "code",
   "execution_count": null,
   "metadata": {},
   "outputs": [],
   "source": []
  },
  {
   "cell_type": "code",
   "execution_count": null,
   "metadata": {},
   "outputs": [],
   "source": []
  },
  {
   "cell_type": "code",
   "execution_count": null,
   "metadata": {},
   "outputs": [],
   "source": []
  },
  {
   "cell_type": "code",
   "execution_count": null,
   "metadata": {},
   "outputs": [],
   "source": []
  },
  {
   "cell_type": "code",
   "execution_count": null,
   "metadata": {},
   "outputs": [],
   "source": []
  },
  {
   "cell_type": "code",
   "execution_count": null,
   "metadata": {},
   "outputs": [],
   "source": []
  },
  {
   "cell_type": "code",
   "execution_count": null,
   "metadata": {},
   "outputs": [],
   "source": []
  },
  {
   "cell_type": "code",
   "execution_count": null,
   "metadata": {},
   "outputs": [],
   "source": []
  },
  {
   "cell_type": "code",
   "execution_count": null,
   "metadata": {},
   "outputs": [],
   "source": []
  },
  {
   "cell_type": "code",
   "execution_count": null,
   "metadata": {},
   "outputs": [],
   "source": []
  },
  {
   "cell_type": "code",
   "execution_count": null,
   "metadata": {},
   "outputs": [],
   "source": []
  },
  {
   "cell_type": "code",
   "execution_count": 21,
   "metadata": {},
   "outputs": [
    {
     "data": {
      "text/html": [
       "<div>\n",
       "<style scoped>\n",
       "    .dataframe tbody tr th:only-of-type {\n",
       "        vertical-align: middle;\n",
       "    }\n",
       "\n",
       "    .dataframe tbody tr th {\n",
       "        vertical-align: top;\n",
       "    }\n",
       "\n",
       "    .dataframe thead th {\n",
       "        text-align: right;\n",
       "    }\n",
       "</style>\n",
       "<table border=\"1\" class=\"dataframe\">\n",
       "  <thead>\n",
       "    <tr style=\"text-align: right;\">\n",
       "      <th></th>\n",
       "      <th>id</th>\n",
       "      <th>RF</th>\n",
       "      <th>XGB</th>\n",
       "      <th>LGB</th>\n",
       "      <th>CB</th>\n",
       "      <th>y</th>\n",
       "    </tr>\n",
       "  </thead>\n",
       "  <tbody>\n",
       "    <tr>\n",
       "      <th>0</th>\n",
       "      <td>0</td>\n",
       "      <td>0.019764</td>\n",
       "      <td>0.000207</td>\n",
       "      <td>0.041840</td>\n",
       "      <td>0.005982</td>\n",
       "      <td>0</td>\n",
       "    </tr>\n",
       "    <tr>\n",
       "      <th>1</th>\n",
       "      <td>1</td>\n",
       "      <td>0.178051</td>\n",
       "      <td>0.845551</td>\n",
       "      <td>0.178831</td>\n",
       "      <td>0.174154</td>\n",
       "      <td>1</td>\n",
       "    </tr>\n",
       "    <tr>\n",
       "      <th>2</th>\n",
       "      <td>2</td>\n",
       "      <td>0.010521</td>\n",
       "      <td>0.000607</td>\n",
       "      <td>0.036251</td>\n",
       "      <td>0.006766</td>\n",
       "      <td>0</td>\n",
       "    </tr>\n",
       "    <tr>\n",
       "      <th>3</th>\n",
       "      <td>3</td>\n",
       "      <td>0.014289</td>\n",
       "      <td>0.000238</td>\n",
       "      <td>0.040736</td>\n",
       "      <td>0.004269</td>\n",
       "      <td>0</td>\n",
       "    </tr>\n",
       "    <tr>\n",
       "      <th>4</th>\n",
       "      <td>4</td>\n",
       "      <td>0.186455</td>\n",
       "      <td>0.004137</td>\n",
       "      <td>0.118117</td>\n",
       "      <td>0.148330</td>\n",
       "      <td>0</td>\n",
       "    </tr>\n",
       "    <tr>\n",
       "      <th>...</th>\n",
       "      <td>...</td>\n",
       "      <td>...</td>\n",
       "      <td>...</td>\n",
       "      <td>...</td>\n",
       "      <td>...</td>\n",
       "      <td>...</td>\n",
       "    </tr>\n",
       "    <tr>\n",
       "      <th>27085</th>\n",
       "      <td>27085</td>\n",
       "      <td>0.025268</td>\n",
       "      <td>0.000278</td>\n",
       "      <td>0.046788</td>\n",
       "      <td>0.011141</td>\n",
       "      <td>0</td>\n",
       "    </tr>\n",
       "    <tr>\n",
       "      <th>27086</th>\n",
       "      <td>27086</td>\n",
       "      <td>0.023498</td>\n",
       "      <td>0.000030</td>\n",
       "      <td>0.041830</td>\n",
       "      <td>0.003571</td>\n",
       "      <td>0</td>\n",
       "    </tr>\n",
       "    <tr>\n",
       "      <th>27087</th>\n",
       "      <td>27087</td>\n",
       "      <td>0.044049</td>\n",
       "      <td>0.002026</td>\n",
       "      <td>0.051748</td>\n",
       "      <td>0.017806</td>\n",
       "      <td>0</td>\n",
       "    </tr>\n",
       "    <tr>\n",
       "      <th>27088</th>\n",
       "      <td>27088</td>\n",
       "      <td>0.141111</td>\n",
       "      <td>0.091323</td>\n",
       "      <td>0.114841</td>\n",
       "      <td>0.182574</td>\n",
       "      <td>0</td>\n",
       "    </tr>\n",
       "    <tr>\n",
       "      <th>27089</th>\n",
       "      <td>27089</td>\n",
       "      <td>0.043240</td>\n",
       "      <td>0.002842</td>\n",
       "      <td>0.051638</td>\n",
       "      <td>0.029935</td>\n",
       "      <td>0</td>\n",
       "    </tr>\n",
       "  </tbody>\n",
       "</table>\n",
       "<p>27090 rows × 6 columns</p>\n",
       "</div>"
      ],
      "text/plain": [
       "          id        RF       XGB       LGB        CB  y\n",
       "0          0  0.019764  0.000207  0.041840  0.005982  0\n",
       "1          1  0.178051  0.845551  0.178831  0.174154  1\n",
       "2          2  0.010521  0.000607  0.036251  0.006766  0\n",
       "3          3  0.014289  0.000238  0.040736  0.004269  0\n",
       "4          4  0.186455  0.004137  0.118117  0.148330  0\n",
       "...      ...       ...       ...       ...       ... ..\n",
       "27085  27085  0.025268  0.000278  0.046788  0.011141  0\n",
       "27086  27086  0.023498  0.000030  0.041830  0.003571  0\n",
       "27087  27087  0.044049  0.002026  0.051748  0.017806  0\n",
       "27088  27088  0.141111  0.091323  0.114841  0.182574  0\n",
       "27089  27089  0.043240  0.002842  0.051638  0.029935  0\n",
       "\n",
       "[27090 rows x 6 columns]"
      ]
     },
     "execution_count": 21,
     "metadata": {},
     "output_type": "execute_result"
    }
   ],
   "source": [
    "col = ['id', 'RF', 'XGB', 'LGB', 'CB', 'NN', 'y']\n",
    "tr_pred = tr_pred.reindex(col, axis=1)\n",
    "\n",
    "del col\n",
    "tr_pred.head(-10)"
   ]
  },
  {
   "cell_type": "code",
   "execution_count": 24,
   "metadata": {},
   "outputs": [
    {
     "data": {
      "text/plain": [
       "2449"
      ]
     },
     "execution_count": 24,
     "metadata": {},
     "output_type": "execute_result"
    }
   ],
   "source": [
    "del train_df, test_df, ID, x\n",
    "gc.collect()"
   ]
  },
  {
   "cell_type": "code",
   "execution_count": 34,
   "metadata": {},
   "outputs": [],
   "source": [
    "x = tr_pred.iloc[:, 1:5]\n",
    "y = tr_pred['y']\n",
    "ID = tr_pred['id']"
   ]
  },
  {
   "cell_type": "code",
   "execution_count": 31,
   "metadata": {},
   "outputs": [
    {
     "data": {
      "text/plain": [
       "<matplotlib.axes._subplots.AxesSubplot at 0x7f956c2dd950>"
      ]
     },
     "execution_count": 31,
     "metadata": {},
     "output_type": "execute_result"
    },
    {
     "data": {
      "image/png": "[encoded data removed]",
      "text/plain": [
       "<Figure size 432x432 with 2 Axes>"
      ]
     },
     "metadata": {
      "needs_background": "light"
     },
     "output_type": "display_data"
    }
   ],
   "source": [
    "corr = x.corr()\n",
    "\n",
    "plt.subplots(figsize=(6,6))\n",
    "sns.heatmap(corr, annot=True, square=True, cmap='inferno')"
   ]
  },
  {
   "cell_type": "code",
   "execution_count": 39,
   "metadata": {},
   "outputs": [
    {
     "data": {
      "text/plain": [
       "LogisticRegression()"
      ]
     },
     "execution_count": 39,
     "metadata": {},
     "output_type": "execute_result"
    }
   ],
   "source": [
    "lr_model = LogisticRegression()\n",
    "lr_model.fit(x, y)"
   ]
  },
  {
   "cell_type": "code",
   "execution_count": 48,
   "metadata": {},
   "outputs": [
    {
     "data": {
      "text/plain": [
       "(27100, 2)"
      ]
     },
     "execution_count": 48,
     "metadata": {},
     "output_type": "execute_result"
    }
   ],
   "source": [
    "lr_p.shape"
   ]
  },
  {
   "cell_type": "code",
   "execution_count": 50,
   "metadata": {},
   "outputs": [],
   "source": [
    "lr_p = lr_model.predict_proba(x)\n",
    "p_lr = pd.DataFrame(lr_p)\n",
    "\n",
    "lr_pred = pd.DataFrame({\n",
    "    'id':ID,\n",
    "    'logistic': p_lr[1]\n",
    "})"
   ]
  },
  {
   "cell_type": "code",
   "execution_count": 51,
   "metadata": {},
   "outputs": [
    {
     "data": {
      "text/html": [
       "<div>\n",
       "<style scoped>\n",
       "    .dataframe tbody tr th:only-of-type {\n",
       "        vertical-align: middle;\n",
       "    }\n",
       "\n",
       "    .dataframe tbody tr th {\n",
       "        vertical-align: top;\n",
       "    }\n",
       "\n",
       "    .dataframe thead th {\n",
       "        text-align: right;\n",
       "    }\n",
       "</style>\n",
       "<table border=\"1\" class=\"dataframe\">\n",
       "  <thead>\n",
       "    <tr style=\"text-align: right;\">\n",
       "      <th></th>\n",
       "      <th>id</th>\n",
       "      <th>RF</th>\n",
       "      <th>XGB</th>\n",
       "      <th>LGB</th>\n",
       "      <th>CB</th>\n",
       "      <th>y</th>\n",
       "      <th>logistic</th>\n",
       "    </tr>\n",
       "  </thead>\n",
       "  <tbody>\n",
       "    <tr>\n",
       "      <th>0</th>\n",
       "      <td>0</td>\n",
       "      <td>0.019764</td>\n",
       "      <td>0.000207</td>\n",
       "      <td>0.041840</td>\n",
       "      <td>0.005982</td>\n",
       "      <td>0</td>\n",
       "      <td>0.008872</td>\n",
       "    </tr>\n",
       "    <tr>\n",
       "      <th>1</th>\n",
       "      <td>1</td>\n",
       "      <td>0.178051</td>\n",
       "      <td>0.845551</td>\n",
       "      <td>0.178831</td>\n",
       "      <td>0.174154</td>\n",
       "      <td>1</td>\n",
       "      <td>0.986398</td>\n",
       "    </tr>\n",
       "    <tr>\n",
       "      <th>2</th>\n",
       "      <td>2</td>\n",
       "      <td>0.010521</td>\n",
       "      <td>0.000607</td>\n",
       "      <td>0.036251</td>\n",
       "      <td>0.006766</td>\n",
       "      <td>0</td>\n",
       "      <td>0.008870</td>\n",
       "    </tr>\n",
       "    <tr>\n",
       "      <th>3</th>\n",
       "      <td>3</td>\n",
       "      <td>0.014289</td>\n",
       "      <td>0.000238</td>\n",
       "      <td>0.040736</td>\n",
       "      <td>0.004269</td>\n",
       "      <td>0</td>\n",
       "      <td>0.008862</td>\n",
       "    </tr>\n",
       "    <tr>\n",
       "      <th>4</th>\n",
       "      <td>4</td>\n",
       "      <td>0.186455</td>\n",
       "      <td>0.004137</td>\n",
       "      <td>0.118117</td>\n",
       "      <td>0.148330</td>\n",
       "      <td>0</td>\n",
       "      <td>0.010982</td>\n",
       "    </tr>\n",
       "    <tr>\n",
       "      <th>...</th>\n",
       "      <td>...</td>\n",
       "      <td>...</td>\n",
       "      <td>...</td>\n",
       "      <td>...</td>\n",
       "      <td>...</td>\n",
       "      <td>...</td>\n",
       "      <td>...</td>\n",
       "    </tr>\n",
       "    <tr>\n",
       "      <th>27085</th>\n",
       "      <td>27085</td>\n",
       "      <td>0.025268</td>\n",
       "      <td>0.000278</td>\n",
       "      <td>0.046788</td>\n",
       "      <td>0.011141</td>\n",
       "      <td>0</td>\n",
       "      <td>0.008961</td>\n",
       "    </tr>\n",
       "    <tr>\n",
       "      <th>27086</th>\n",
       "      <td>27086</td>\n",
       "      <td>0.023498</td>\n",
       "      <td>0.000030</td>\n",
       "      <td>0.041830</td>\n",
       "      <td>0.003571</td>\n",
       "      <td>0</td>\n",
       "      <td>0.008830</td>\n",
       "    </tr>\n",
       "    <tr>\n",
       "      <th>27087</th>\n",
       "      <td>27087</td>\n",
       "      <td>0.044049</td>\n",
       "      <td>0.002026</td>\n",
       "      <td>0.051748</td>\n",
       "      <td>0.017806</td>\n",
       "      <td>0</td>\n",
       "      <td>0.009188</td>\n",
       "    </tr>\n",
       "    <tr>\n",
       "      <th>27088</th>\n",
       "      <td>27088</td>\n",
       "      <td>0.141111</td>\n",
       "      <td>0.091323</td>\n",
       "      <td>0.114841</td>\n",
       "      <td>0.182574</td>\n",
       "      <td>0</td>\n",
       "      <td>0.027504</td>\n",
       "    </tr>\n",
       "    <tr>\n",
       "      <th>27089</th>\n",
       "      <td>27089</td>\n",
       "      <td>0.043240</td>\n",
       "      <td>0.002842</td>\n",
       "      <td>0.051638</td>\n",
       "      <td>0.029935</td>\n",
       "      <td>0</td>\n",
       "      <td>0.009358</td>\n",
       "    </tr>\n",
       "  </tbody>\n",
       "</table>\n",
       "<p>27090 rows × 7 columns</p>\n",
       "</div>"
      ],
      "text/plain": [
       "          id        RF       XGB       LGB        CB  y  logistic\n",
       "0          0  0.019764  0.000207  0.041840  0.005982  0  0.008872\n",
       "1          1  0.178051  0.845551  0.178831  0.174154  1  0.986398\n",
       "2          2  0.010521  0.000607  0.036251  0.006766  0  0.008870\n",
       "3          3  0.014289  0.000238  0.040736  0.004269  0  0.008862\n",
       "4          4  0.186455  0.004137  0.118117  0.148330  0  0.010982\n",
       "...      ...       ...       ...       ...       ... ..       ...\n",
       "27085  27085  0.025268  0.000278  0.046788  0.011141  0  0.008961\n",
       "27086  27086  0.023498  0.000030  0.041830  0.003571  0  0.008830\n",
       "27087  27087  0.044049  0.002026  0.051748  0.017806  0  0.009188\n",
       "27088  27088  0.141111  0.091323  0.114841  0.182574  0  0.027504\n",
       "27089  27089  0.043240  0.002842  0.051638  0.029935  0  0.009358\n",
       "\n",
       "[27090 rows x 7 columns]"
      ]
     },
     "execution_count": 51,
     "metadata": {},
     "output_type": "execute_result"
    }
   ],
   "source": [
    "train_pred_df = pd.merge(tr_pred, lr_pred, on='id')\n",
    "train_pred_df.head(-10)"
   ]
  },
  {
   "cell_type": "code",
   "execution_count": 62,
   "metadata": {},
   "outputs": [],
   "source": [
    "pred_rf = pd.read_csv('submit/submit_RF22_2244.csv', names=('id', 'RandomForest'))\n",
    "pred_xgb = pd.read_csv('submit/submit_XGBoost17_1208.csv', names=('id', 'XGBoost'))\n",
    "pred_lgb = pd.read_csv('submit/submit_LGBM24_0416.csv', names=('id', 'LightGBM'))\n",
    "pred_cb = pd.read_csv('submit/submit_CatBoost24_0350.csv', names=('id', 'CatBoost'))\n",
    "pred_nn = pd.read_csv('submit/submit_NN17_1648.csv', names=('id', 'NN'))"
   ]
  },
  {
   "cell_type": "code",
   "execution_count": 63,
   "metadata": {},
   "outputs": [
    {
     "data": {
      "text/html": [
       "<div>\n",
       "<style scoped>\n",
       "    .dataframe tbody tr th:only-of-type {\n",
       "        vertical-align: middle;\n",
       "    }\n",
       "\n",
       "    .dataframe tbody tr th {\n",
       "        vertical-align: top;\n",
       "    }\n",
       "\n",
       "    .dataframe thead th {\n",
       "        text-align: right;\n",
       "    }\n",
       "</style>\n",
       "<table border=\"1\" class=\"dataframe\">\n",
       "  <thead>\n",
       "    <tr style=\"text-align: right;\">\n",
       "      <th></th>\n",
       "      <th>id</th>\n",
       "      <th>RandomForest</th>\n",
       "      <th>XGBoost</th>\n",
       "      <th>LightGBM</th>\n",
       "      <th>CatBoost</th>\n",
       "    </tr>\n",
       "  </thead>\n",
       "  <tbody>\n",
       "    <tr>\n",
       "      <th>0</th>\n",
       "      <td>0</td>\n",
       "      <td>0.653176</td>\n",
       "      <td>0.850221</td>\n",
       "      <td>0.359419</td>\n",
       "      <td>0.874176</td>\n",
       "    </tr>\n",
       "    <tr>\n",
       "      <th>1</th>\n",
       "      <td>1</td>\n",
       "      <td>0.074268</td>\n",
       "      <td>0.136567</td>\n",
       "      <td>0.092231</td>\n",
       "      <td>0.055457</td>\n",
       "    </tr>\n",
       "    <tr>\n",
       "      <th>2</th>\n",
       "      <td>2</td>\n",
       "      <td>0.039741</td>\n",
       "      <td>0.001006</td>\n",
       "      <td>0.050437</td>\n",
       "      <td>0.024032</td>\n",
       "    </tr>\n",
       "    <tr>\n",
       "      <th>3</th>\n",
       "      <td>3</td>\n",
       "      <td>0.002598</td>\n",
       "      <td>0.000054</td>\n",
       "      <td>0.035582</td>\n",
       "      <td>0.003217</td>\n",
       "    </tr>\n",
       "    <tr>\n",
       "      <th>4</th>\n",
       "      <td>4</td>\n",
       "      <td>0.092913</td>\n",
       "      <td>0.002854</td>\n",
       "      <td>0.071720</td>\n",
       "      <td>0.042077</td>\n",
       "    </tr>\n",
       "    <tr>\n",
       "      <th>...</th>\n",
       "      <td>...</td>\n",
       "      <td>...</td>\n",
       "      <td>...</td>\n",
       "      <td>...</td>\n",
       "      <td>...</td>\n",
       "    </tr>\n",
       "    <tr>\n",
       "      <th>18035</th>\n",
       "      <td>18035</td>\n",
       "      <td>0.076255</td>\n",
       "      <td>0.013287</td>\n",
       "      <td>0.078328</td>\n",
       "      <td>0.037572</td>\n",
       "    </tr>\n",
       "    <tr>\n",
       "      <th>18036</th>\n",
       "      <td>18036</td>\n",
       "      <td>0.054682</td>\n",
       "      <td>0.071169</td>\n",
       "      <td>0.077653</td>\n",
       "      <td>0.066366</td>\n",
       "    </tr>\n",
       "    <tr>\n",
       "      <th>18037</th>\n",
       "      <td>18037</td>\n",
       "      <td>0.001582</td>\n",
       "      <td>0.000357</td>\n",
       "      <td>0.034496</td>\n",
       "      <td>0.002404</td>\n",
       "    </tr>\n",
       "    <tr>\n",
       "      <th>18038</th>\n",
       "      <td>18038</td>\n",
       "      <td>0.030693</td>\n",
       "      <td>0.000552</td>\n",
       "      <td>0.053604</td>\n",
       "      <td>0.030467</td>\n",
       "    </tr>\n",
       "    <tr>\n",
       "      <th>18039</th>\n",
       "      <td>18039</td>\n",
       "      <td>0.089653</td>\n",
       "      <td>0.011267</td>\n",
       "      <td>0.067621</td>\n",
       "      <td>0.036947</td>\n",
       "    </tr>\n",
       "  </tbody>\n",
       "</table>\n",
       "<p>18040 rows × 5 columns</p>\n",
       "</div>"
      ],
      "text/plain": [
       "          id  RandomForest   XGBoost  LightGBM  CatBoost\n",
       "0          0      0.653176  0.850221  0.359419  0.874176\n",
       "1          1      0.074268  0.136567  0.092231  0.055457\n",
       "2          2      0.039741  0.001006  0.050437  0.024032\n",
       "3          3      0.002598  0.000054  0.035582  0.003217\n",
       "4          4      0.092913  0.002854  0.071720  0.042077\n",
       "...      ...           ...       ...       ...       ...\n",
       "18035  18035      0.076255  0.013287  0.078328  0.037572\n",
       "18036  18036      0.054682  0.071169  0.077653  0.066366\n",
       "18037  18037      0.001582  0.000357  0.034496  0.002404\n",
       "18038  18038      0.030693  0.000552  0.053604  0.030467\n",
       "18039  18039      0.089653  0.011267  0.067621  0.036947\n",
       "\n",
       "[18040 rows x 5 columns]"
      ]
     },
     "execution_count": 63,
     "metadata": {},
     "output_type": "execute_result"
    }
   ],
   "source": [
    "pred = pd.merge(pred_rf, pred_xgb, on='id')\n",
    "pred = pd.merge(pred, pred_lgb, on='id')\n",
    "pred = pd.merge(pred, pred_cb, on='id')\n",
    "pred = pd.merge(pred, pred_nn, on='id')\n",
    "pred.head(-10)"
   ]
  },
  {
   "cell_type": "code",
   "execution_count": 58,
   "metadata": {},
   "outputs": [
    {
     "data": {
      "text/plain": [
       "<matplotlib.axes._subplots.AxesSubplot at 0x7f956ccab190>"
      ]
     },
     "execution_count": 58,
     "metadata": {},
     "output_type": "execute_result"
    },
    {
     "data": {
      "image/png": "[encoded data removed]",
      "text/plain": [
       "<Figure size 432x432 with 2 Axes>"
      ]
     },
     "metadata": {
      "needs_background": "light"
     },
     "output_type": "display_data"
    }
   ],
   "source": [
    "corr = pred.corr()\n",
    "\n",
    "plt.subplots(figsize=(6,6))\n",
    "sns.heatmap(corr, annot=True, square=True, cmap='inferno')"
   ]
  },
  {
   "cell_type": "code",
   "execution_count": 59,
   "metadata": {},
   "outputs": [],
   "source": [
    "del x, y\n",
    "gc.collect()"
   ]
  },
  {
   "cell_type": "code",
   "execution_count": 64,
   "metadata": {},
   "outputs": [],
   "source": [
    "x = pred.iloc[:, 1:]\n",
    "ID = pred['id']"
   ]
  },
  {
   "cell_type": "code",
   "execution_count": 65,
   "metadata": {},
   "outputs": [],
   "source": [
    "reg_p = lr_model.predict_proba(x)\n",
    "\n",
    "p_reg = pd.DataFrame(reg_p)\n",
    "\n",
    "reg_pred = pd.DataFrame({\n",
    "    'id':ID,\n",
    "    'logistic': p_reg[1]\n",
    "})"
   ]
  },
  {
   "cell_type": "code",
   "execution_count": 66,
   "metadata": {},
   "outputs": [
    {
     "data": {
      "text/html": [
       "<div>\n",
       "<style scoped>\n",
       "    .dataframe tbody tr th:only-of-type {\n",
       "        vertical-align: middle;\n",
       "    }\n",
       "\n",
       "    .dataframe tbody tr th {\n",
       "        vertical-align: top;\n",
       "    }\n",
       "\n",
       "    .dataframe thead th {\n",
       "        text-align: right;\n",
       "    }\n",
       "</style>\n",
       "<table border=\"1\" class=\"dataframe\">\n",
       "  <thead>\n",
       "    <tr style=\"text-align: right;\">\n",
       "      <th></th>\n",
       "      <th>id</th>\n",
       "      <th>RandomForest</th>\n",
       "      <th>XGBoost</th>\n",
       "      <th>LightGBM</th>\n",
       "      <th>CatBoost</th>\n",
       "      <th>logistic</th>\n",
       "    </tr>\n",
       "  </thead>\n",
       "  <tbody>\n",
       "    <tr>\n",
       "      <th>0</th>\n",
       "      <td>0</td>\n",
       "      <td>0.653176</td>\n",
       "      <td>0.850221</td>\n",
       "      <td>0.359419</td>\n",
       "      <td>0.874176</td>\n",
       "      <td>0.993472</td>\n",
       "    </tr>\n",
       "    <tr>\n",
       "      <th>1</th>\n",
       "      <td>1</td>\n",
       "      <td>0.074268</td>\n",
       "      <td>0.136567</td>\n",
       "      <td>0.092231</td>\n",
       "      <td>0.055457</td>\n",
       "      <td>0.038562</td>\n",
       "    </tr>\n",
       "    <tr>\n",
       "      <th>2</th>\n",
       "      <td>2</td>\n",
       "      <td>0.039741</td>\n",
       "      <td>0.001006</td>\n",
       "      <td>0.050437</td>\n",
       "      <td>0.024032</td>\n",
       "      <td>0.009134</td>\n",
       "    </tr>\n",
       "    <tr>\n",
       "      <th>3</th>\n",
       "      <td>3</td>\n",
       "      <td>0.002598</td>\n",
       "      <td>0.000054</td>\n",
       "      <td>0.035582</td>\n",
       "      <td>0.003217</td>\n",
       "      <td>0.008805</td>\n",
       "    </tr>\n",
       "    <tr>\n",
       "      <th>4</th>\n",
       "      <td>4</td>\n",
       "      <td>0.092913</td>\n",
       "      <td>0.002854</td>\n",
       "      <td>0.071720</td>\n",
       "      <td>0.042077</td>\n",
       "      <td>0.009582</td>\n",
       "    </tr>\n",
       "    <tr>\n",
       "      <th>...</th>\n",
       "      <td>...</td>\n",
       "      <td>...</td>\n",
       "      <td>...</td>\n",
       "      <td>...</td>\n",
       "      <td>...</td>\n",
       "      <td>...</td>\n",
       "    </tr>\n",
       "    <tr>\n",
       "      <th>18035</th>\n",
       "      <td>18035</td>\n",
       "      <td>0.076255</td>\n",
       "      <td>0.013287</td>\n",
       "      <td>0.078328</td>\n",
       "      <td>0.037572</td>\n",
       "      <td>0.010755</td>\n",
       "    </tr>\n",
       "    <tr>\n",
       "      <th>18036</th>\n",
       "      <td>18036</td>\n",
       "      <td>0.054682</td>\n",
       "      <td>0.071169</td>\n",
       "      <td>0.077653</td>\n",
       "      <td>0.066366</td>\n",
       "      <td>0.019918</td>\n",
       "    </tr>\n",
       "    <tr>\n",
       "      <th>18037</th>\n",
       "      <td>18037</td>\n",
       "      <td>0.001582</td>\n",
       "      <td>0.000357</td>\n",
       "      <td>0.034496</td>\n",
       "      <td>0.002404</td>\n",
       "      <td>0.008816</td>\n",
       "    </tr>\n",
       "    <tr>\n",
       "      <th>18038</th>\n",
       "      <td>18038</td>\n",
       "      <td>0.030693</td>\n",
       "      <td>0.000552</td>\n",
       "      <td>0.053604</td>\n",
       "      <td>0.030467</td>\n",
       "      <td>0.009197</td>\n",
       "    </tr>\n",
       "    <tr>\n",
       "      <th>18039</th>\n",
       "      <td>18039</td>\n",
       "      <td>0.089653</td>\n",
       "      <td>0.011267</td>\n",
       "      <td>0.067621</td>\n",
       "      <td>0.036947</td>\n",
       "      <td>0.010351</td>\n",
       "    </tr>\n",
       "  </tbody>\n",
       "</table>\n",
       "<p>18040 rows × 6 columns</p>\n",
       "</div>"
      ],
      "text/plain": [
       "          id  RandomForest   XGBoost  LightGBM  CatBoost  logistic\n",
       "0          0      0.653176  0.850221  0.359419  0.874176  0.993472\n",
       "1          1      0.074268  0.136567  0.092231  0.055457  0.038562\n",
       "2          2      0.039741  0.001006  0.050437  0.024032  0.009134\n",
       "3          3      0.002598  0.000054  0.035582  0.003217  0.008805\n",
       "4          4      0.092913  0.002854  0.071720  0.042077  0.009582\n",
       "...      ...           ...       ...       ...       ...       ...\n",
       "18035  18035      0.076255  0.013287  0.078328  0.037572  0.010755\n",
       "18036  18036      0.054682  0.071169  0.077653  0.066366  0.019918\n",
       "18037  18037      0.001582  0.000357  0.034496  0.002404  0.008816\n",
       "18038  18038      0.030693  0.000552  0.053604  0.030467  0.009197\n",
       "18039  18039      0.089653  0.011267  0.067621  0.036947  0.010351\n",
       "\n",
       "[18040 rows x 6 columns]"
      ]
     },
     "execution_count": 66,
     "metadata": {},
     "output_type": "execute_result"
    }
   ],
   "source": [
    "pred_df = pd.merge(pred, reg_pred, on='id')\n",
    "pred_df.head(-10)"
   ]
  },
  {
   "cell_type": "code",
   "execution_count": null,
   "metadata": {},
   "outputs": [],
   "source": [
    "pred['pred'] = (pred.RandomForest * 0.04 + pred.XGBoost * 0.03 + pred.NN * 0.03\n",
    "                + pred.LightGBM * 0.35 + pred.CatBoost * 0.55)\n",
    "pred.head()"
   ]
  },
  {
   "cell_type": "code",
   "execution_count": null,
   "metadata": {},
   "outputs": [],
   "source": [
    "now = datetime.datetime.now()\n",
    "\n",
    "submission = pd.DataFrame({\n",
    "    'ID':pred['id'],\n",
    "    'pred':pred['pred']\n",
    "})\n",
    "\n",
    "file_name = 'submit/submit_' + now.strftime('%d_%H%M') + '.csv'\n",
    "\n",
    "submission.to_csv(file_name, header=False, index=False)"
   ]
  },
  {
   "cell_type": "code",
   "execution_count": null,
   "metadata": {},
   "outputs": [],
   "source": []
  }
 ],
 "metadata": {
  "kernelspec": {
   "display_name": "Python 3",
   "language": "python",
   "name": "python3"
  },
  "language_info": {
   "codemirror_mode": {
    "name": "ipython",
    "version": 3
   },
   "file_extension": ".py",
   "mimetype": "text/x-python",
   "name": "python",
   "nbconvert_exporter": "python",
   "pygments_lexer": "ipython3",
   "version": "3.7.7"
  }
 },
 "nbformat": 4,
 "nbformat_minor": 4
}
