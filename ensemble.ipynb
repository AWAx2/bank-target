{
 "cells": [
  {
   "cell_type": "code",
   "execution_count": 1,
   "metadata": {},
   "outputs": [],
   "source": [
    "import datetime\n",
    "from copy import copy\n",
    "import numpy as np\n",
    "import pandas as pd\n",
    "import matplotlib.pyplot as plt\n",
    "%matplotlib inline\n",
    "import seaborn as sns\n",
    "import ipywidgets\n",
    "import pickle\n",
    "import gc\n",
    "\n",
    "from sklearn.model_selection import train_test_split, StratifiedKFold, cross_validate, GridSearchCV\n",
    "from sklearn.metrics import accuracy_score, roc_auc_score\n",
    "\n",
    "from sklearn.linear_model import LogisticRegression\n",
    "import xgboost\n",
    "from xgboost import XGBClassifier\n",
    "from lightgbm import LGBMClassifier\n",
    "from catboost import CatBoostClassifier, cv, Pool\n",
    "import optuna\n",
    "from optuna.integration import lightgbm as lgb\n",
    "import tensorflow as tf"
   ]
  },
  {
   "cell_type": "code",
   "execution_count": null,
   "metadata": {},
   "outputs": [],
   "source": [
    "pred_rf = pd.read_csv('submit/submit_RF22_2244.csv', names=('id', 'RandomForest'))\n",
    "pred_xgb = pd.read_csv('submit/submit_XGBoost17_1208.csv', names=('id', 'XGBoost'))\n",
    "pred_lgb = pd.read_csv('submit/submit_LGBM24_0416.csv', names=('id', 'LightGBM'))\n",
    "pred_cb = pd.read_csv('submit/submit_CatBoost24_0350.csv', names=('id, 'CatBoost'))\n",
    "pred_nn = pd.read_csv('submit/submit_NN17_1648.csv', names=('id', 'NN'))"
   ]
  },
  {
   "cell_type": "code",
   "execution_count": null,
   "metadata": {},
   "outputs": [],
   "source": [
    "pred = pd.merge(pred_rf, pred_xgb, on='id')\n",
    "pred = pd.merge(pred, pred_lgb, on='id')\n",
    "pred = pd.merge(pred, pred_cb, on='id')\n",
    "pred = pd.merge(pred, pred_nn, on='id')\n",
    "pred.head(10)id"
   ]
  },
  {
   "cell_type": "code",
   "execution_count": null,
   "metadata": {},
   "outputs": [],
   "source": [
    "corr = pred.corr()\n",
    "\n",
    "plt.subplots(figsize=(6,6))\n",
    "sns.heatmap(corr, annot=True, square=True, cmap='inferno')"
   ]
  },
  {
   "cell_type": "code",
   "execution_count": null,
   "metadata": {},
   "outputs": [],
   "source": [
    "pred['pred'] = (pred.RandomForest * 0.04 + pred.XGBoost * 0.03 + pred.NN * 0.03\n",
    "                + pred.LightGBM * 0.35 + pred.CatBoost * 0.55)\n",
    "pred.head()"
   ]
  },
  {
   "cell_type": "code",
   "execution_count": null,
   "metadata": {},
   "outputs": [],
   "source": [
    "now = datetime.datetime.now()\n",
    "\n",
    "submission = pd.DataFrame({\n",
    "    'ID':pred['id'],\n",
    "    'pred':pred['pred']\n",
    "})\n",
    "\n",
    "file_name = 'submit/submit_' + now.strftime('%d_%H%M') + '.csv'\n",
    "\n",
    "submission.to_csv(file_name, header=False, index=False)"
   ]
  },
  {
   "cell_type": "markdown",
   "metadata": {},
   "source": [
    "# LogisticRegression"
   ]
  },
  {
   "cell_type": "code",
   "execution_count": 2,
   "metadata": {},
   "outputs": [],
   "source": [
    "train_df = pd.read_csv('dataset/train_16_0246.csv')\n",
    "test_df = pd.read_csv('dataset/test_16_0246.csv')"
   ]
  },
  {
   "cell_type": "code",
   "execution_count": 3,
   "metadata": {},
   "outputs": [],
   "source": [
    "ID = train_df['id']\n",
    "x = train_df.drop(columns=['y', 'id'])\n",
    "y = train_df['y']"
   ]
  },
  {
   "cell_type": "code",
   "execution_count": 4,
   "metadata": {},
   "outputs": [],
   "source": [
    "rf_model = pickle.load(open('models/RF_22_2248.pkl', 'rb'))\n",
    "xgb_model = pickle.load(open('models/XG_17_1144.pkl', 'rb'))\n",
    "lgb_model = pickle.load(open('models/LGBM_op24_0418.pkl', 'rb'))"
   ]
  },
  {
   "cell_type": "code",
   "execution_count": 5,
   "metadata": {},
   "outputs": [
    {
     "data": {
      "text/html": [
       "<div>\n",
       "<style scoped>\n",
       "    .dataframe tbody tr th:only-of-type {\n",
       "        vertical-align: middle;\n",
       "    }\n",
       "\n",
       "    .dataframe tbody tr th {\n",
       "        vertical-align: top;\n",
       "    }\n",
       "\n",
       "    .dataframe thead th {\n",
       "        text-align: right;\n",
       "    }\n",
       "</style>\n",
       "<table border=\"1\" class=\"dataframe\">\n",
       "  <thead>\n",
       "    <tr style=\"text-align: right;\">\n",
       "      <th></th>\n",
       "      <th>id</th>\n",
       "      <th>RF</th>\n",
       "      <th>XGB</th>\n",
       "      <th>LGB</th>\n",
       "      <th>y</th>\n",
       "    </tr>\n",
       "  </thead>\n",
       "  <tbody>\n",
       "    <tr>\n",
       "      <th>0</th>\n",
       "      <td>0</td>\n",
       "      <td>0.019764</td>\n",
       "      <td>0.000207</td>\n",
       "      <td>0.041840</td>\n",
       "      <td>0</td>\n",
       "    </tr>\n",
       "    <tr>\n",
       "      <th>1</th>\n",
       "      <td>1</td>\n",
       "      <td>0.178051</td>\n",
       "      <td>0.845551</td>\n",
       "      <td>0.178831</td>\n",
       "      <td>1</td>\n",
       "    </tr>\n",
       "    <tr>\n",
       "      <th>2</th>\n",
       "      <td>2</td>\n",
       "      <td>0.010521</td>\n",
       "      <td>0.000607</td>\n",
       "      <td>0.036251</td>\n",
       "      <td>0</td>\n",
       "    </tr>\n",
       "    <tr>\n",
       "      <th>3</th>\n",
       "      <td>3</td>\n",
       "      <td>0.014289</td>\n",
       "      <td>0.000238</td>\n",
       "      <td>0.040736</td>\n",
       "      <td>0</td>\n",
       "    </tr>\n",
       "    <tr>\n",
       "      <th>4</th>\n",
       "      <td>4</td>\n",
       "      <td>0.186455</td>\n",
       "      <td>0.004137</td>\n",
       "      <td>0.118117</td>\n",
       "      <td>0</td>\n",
       "    </tr>\n",
       "    <tr>\n",
       "      <th>...</th>\n",
       "      <td>...</td>\n",
       "      <td>...</td>\n",
       "      <td>...</td>\n",
       "      <td>...</td>\n",
       "      <td>...</td>\n",
       "    </tr>\n",
       "    <tr>\n",
       "      <th>27085</th>\n",
       "      <td>27085</td>\n",
       "      <td>0.025268</td>\n",
       "      <td>0.000278</td>\n",
       "      <td>0.046788</td>\n",
       "      <td>0</td>\n",
       "    </tr>\n",
       "    <tr>\n",
       "      <th>27086</th>\n",
       "      <td>27086</td>\n",
       "      <td>0.023498</td>\n",
       "      <td>0.000030</td>\n",
       "      <td>0.041830</td>\n",
       "      <td>0</td>\n",
       "    </tr>\n",
       "    <tr>\n",
       "      <th>27087</th>\n",
       "      <td>27087</td>\n",
       "      <td>0.044049</td>\n",
       "      <td>0.002026</td>\n",
       "      <td>0.051748</td>\n",
       "      <td>0</td>\n",
       "    </tr>\n",
       "    <tr>\n",
       "      <th>27088</th>\n",
       "      <td>27088</td>\n",
       "      <td>0.141111</td>\n",
       "      <td>0.091323</td>\n",
       "      <td>0.114841</td>\n",
       "      <td>0</td>\n",
       "    </tr>\n",
       "    <tr>\n",
       "      <th>27089</th>\n",
       "      <td>27089</td>\n",
       "      <td>0.043240</td>\n",
       "      <td>0.002842</td>\n",
       "      <td>0.051638</td>\n",
       "      <td>0</td>\n",
       "    </tr>\n",
       "  </tbody>\n",
       "</table>\n",
       "<p>27090 rows × 5 columns</p>\n",
       "</div>"
      ],
      "text/plain": [
       "          id        RF       XGB       LGB  y\n",
       "0          0  0.019764  0.000207  0.041840  0\n",
       "1          1  0.178051  0.845551  0.178831  1\n",
       "2          2  0.010521  0.000607  0.036251  0\n",
       "3          3  0.014289  0.000238  0.040736  0\n",
       "4          4  0.186455  0.004137  0.118117  0\n",
       "...      ...       ...       ...       ... ..\n",
       "27085  27085  0.025268  0.000278  0.046788  0\n",
       "27086  27086  0.023498  0.000030  0.041830  0\n",
       "27087  27087  0.044049  0.002026  0.051748  0\n",
       "27088  27088  0.141111  0.091323  0.114841  0\n",
       "27089  27089  0.043240  0.002842  0.051638  0\n",
       "\n",
       "[27090 rows x 5 columns]"
      ]
     },
     "execution_count": 5,
     "metadata": {},
     "output_type": "execute_result"
    }
   ],
   "source": [
    "f_rf = rf_model.predict_proba(x)\n",
    "first_rf = pd.DataFrame(f_rf)\n",
    "\n",
    "f_xgb = xgb_model.predict_proba(x)\n",
    "first_xgb = pd.DataFrame(f_xgb)\n",
    "\n",
    "f_lgb = lgb_model.predict(x)\n",
    "first_lgb = pd.DataFrame(f_lgb)\n",
    "\n",
    "first_pred = np.column_stack((first_rf[1],first_xgb[1], first_lgb[0]))\n",
    "train_pred = pd.DataFrame(first_pred, columns=('RF', 'XGB', 'LGB'))\n",
    "\n",
    "train_pred = pd.concat([ID, train_pred, y], axis=1)\n",
    "train_pred['id'] = [int(i) for i in train_pred['id']]\n",
    "train_pred.head(-10)"
   ]
  },
  {
   "cell_type": "code",
   "execution_count": 6,
   "metadata": {},
   "outputs": [],
   "source": [
    "del train_df, test_df, ID, x, y"
   ]
  },
  {
   "cell_type": "code",
   "execution_count": 7,
   "metadata": {},
   "outputs": [],
   "source": [
    "train_df = pd.read_csv('dataset/train_cat_16_2206.csv')\n",
    "test_df = pd.read_csv('dataset/test_cat_16_2206.csv')"
   ]
  },
  {
   "cell_type": "code",
   "execution_count": 8,
   "metadata": {},
   "outputs": [],
   "source": [
    "ID = train_df['id']\n",
    "x = train_df.drop(columns=['y', 'id'])"
   ]
  },
  {
   "cell_type": "code",
   "execution_count": 9,
   "metadata": {},
   "outputs": [],
   "source": [
    "cb_model = pickle.load(open('models/CatBoost_24_0835.pkl', 'rb'))"
   ]
  },
  {
   "cell_type": "code",
   "execution_count": 10,
   "metadata": {},
   "outputs": [
    {
     "data": {
      "text/html": [
       "<div>\n",
       "<style scoped>\n",
       "    .dataframe tbody tr th:only-of-type {\n",
       "        vertical-align: middle;\n",
       "    }\n",
       "\n",
       "    .dataframe tbody tr th {\n",
       "        vertical-align: top;\n",
       "    }\n",
       "\n",
       "    .dataframe thead th {\n",
       "        text-align: right;\n",
       "    }\n",
       "</style>\n",
       "<table border=\"1\" class=\"dataframe\">\n",
       "  <thead>\n",
       "    <tr style=\"text-align: right;\">\n",
       "      <th></th>\n",
       "      <th>id</th>\n",
       "      <th>1</th>\n",
       "    </tr>\n",
       "  </thead>\n",
       "  <tbody>\n",
       "    <tr>\n",
       "      <th>0</th>\n",
       "      <td>0</td>\n",
       "      <td>0.005982</td>\n",
       "    </tr>\n",
       "    <tr>\n",
       "      <th>1</th>\n",
       "      <td>1</td>\n",
       "      <td>0.174154</td>\n",
       "    </tr>\n",
       "    <tr>\n",
       "      <th>2</th>\n",
       "      <td>2</td>\n",
       "      <td>0.006766</td>\n",
       "    </tr>\n",
       "    <tr>\n",
       "      <th>3</th>\n",
       "      <td>3</td>\n",
       "      <td>0.004269</td>\n",
       "    </tr>\n",
       "    <tr>\n",
       "      <th>4</th>\n",
       "      <td>4</td>\n",
       "      <td>0.148330</td>\n",
       "    </tr>\n",
       "    <tr>\n",
       "      <th>...</th>\n",
       "      <td>...</td>\n",
       "      <td>...</td>\n",
       "    </tr>\n",
       "    <tr>\n",
       "      <th>27085</th>\n",
       "      <td>27085</td>\n",
       "      <td>0.011141</td>\n",
       "    </tr>\n",
       "    <tr>\n",
       "      <th>27086</th>\n",
       "      <td>27086</td>\n",
       "      <td>0.003571</td>\n",
       "    </tr>\n",
       "    <tr>\n",
       "      <th>27087</th>\n",
       "      <td>27087</td>\n",
       "      <td>0.017806</td>\n",
       "    </tr>\n",
       "    <tr>\n",
       "      <th>27088</th>\n",
       "      <td>27088</td>\n",
       "      <td>0.182574</td>\n",
       "    </tr>\n",
       "    <tr>\n",
       "      <th>27089</th>\n",
       "      <td>27089</td>\n",
       "      <td>0.029935</td>\n",
       "    </tr>\n",
       "  </tbody>\n",
       "</table>\n",
       "<p>27090 rows × 2 columns</p>\n",
       "</div>"
      ],
      "text/plain": [
       "          id         1\n",
       "0          0  0.005982\n",
       "1          1  0.174154\n",
       "2          2  0.006766\n",
       "3          3  0.004269\n",
       "4          4  0.148330\n",
       "...      ...       ...\n",
       "27085  27085  0.011141\n",
       "27086  27086  0.003571\n",
       "27087  27087  0.017806\n",
       "27088  27088  0.182574\n",
       "27089  27089  0.029935\n",
       "\n",
       "[27090 rows x 2 columns]"
      ]
     },
     "execution_count": 10,
     "metadata": {},
     "output_type": "execute_result"
    }
   ],
   "source": [
    "f_cb = cb_model.predict_proba(x)\n",
    "first_cb = pd.DataFrame(f_cb)\n",
    "\n",
    "tmp_train_pred = pd.concat([ID, first_cb[1]], axis=1)\n",
    "tmp_train_pred['id'] = [int(i) for i in tmp_train_pred['id']]\n",
    "tmp_train_pred.head(-10)"
   ]
  },
  {
   "cell_type": "code",
   "execution_count": 11,
   "metadata": {},
   "outputs": [],
   "source": [
    "tr_pred = pd.merge(train_pred, tmp_train_pred, on='id')\n",
    "tr_pred = tr_pred.rename(columns={1: 'CB'})"
   ]
  },
  {
   "cell_type": "code",
   "execution_count": 12,
   "metadata": {},
   "outputs": [
    {
     "data": {
      "text/plain": [
       "'\\nNNモデル追加\\n'"
      ]
     },
     "execution_count": 12,
     "metadata": {},
     "output_type": "execute_result"
    }
   ],
   "source": [
    "\"\"\"\n",
    "NNモデル追加\n",
    "\"\"\""
   ]
  },
  {
   "cell_type": "code",
   "execution_count": 13,
   "metadata": {},
   "outputs": [
    {
     "data": {
      "text/plain": [
       "90"
      ]
     },
     "execution_count": 13,
     "metadata": {},
     "output_type": "execute_result"
    }
   ],
   "source": [
    "del train_df, test_df, x, ID, tmp_train_pred\n",
    "gc.collect()"
   ]
  },
  {
   "cell_type": "code",
   "execution_count": 14,
   "metadata": {},
   "outputs": [],
   "source": [
    "train_df = pd.read_csv('dataset/train_nn17_1435.csv')\n",
    "test_df = pd.read_csv('dataset/test_nn17_1435.csv')"
   ]
  },
  {
   "cell_type": "code",
   "execution_count": 15,
   "metadata": {},
   "outputs": [],
   "source": [
    "ID = train_df['id']\n",
    "x = train_df.drop(columns=['id', 'y'])"
   ]
  },
  {
   "cell_type": "code",
   "execution_count": 16,
   "metadata": {},
   "outputs": [],
   "source": [
    "nn_model = tf.keras.models.load_model('models/nn_model_0.8250201.h5', compile=False)"
   ]
  },
  {
   "cell_type": "code",
   "execution_count": 17,
   "metadata": {},
   "outputs": [
    {
     "data": {
      "text/html": [
       "<div>\n",
       "<style scoped>\n",
       "    .dataframe tbody tr th:only-of-type {\n",
       "        vertical-align: middle;\n",
       "    }\n",
       "\n",
       "    .dataframe tbody tr th {\n",
       "        vertical-align: top;\n",
       "    }\n",
       "\n",
       "    .dataframe thead th {\n",
       "        text-align: right;\n",
       "    }\n",
       "</style>\n",
       "<table border=\"1\" class=\"dataframe\">\n",
       "  <thead>\n",
       "    <tr style=\"text-align: right;\">\n",
       "      <th></th>\n",
       "      <th>id</th>\n",
       "      <th>0</th>\n",
       "    </tr>\n",
       "  </thead>\n",
       "  <tbody>\n",
       "    <tr>\n",
       "      <th>0</th>\n",
       "      <td>0</td>\n",
       "      <td>0.003727</td>\n",
       "    </tr>\n",
       "    <tr>\n",
       "      <th>1</th>\n",
       "      <td>1</td>\n",
       "      <td>0.105578</td>\n",
       "    </tr>\n",
       "    <tr>\n",
       "      <th>2</th>\n",
       "      <td>2</td>\n",
       "      <td>0.004983</td>\n",
       "    </tr>\n",
       "    <tr>\n",
       "      <th>3</th>\n",
       "      <td>3</td>\n",
       "      <td>0.010434</td>\n",
       "    </tr>\n",
       "    <tr>\n",
       "      <th>4</th>\n",
       "      <td>4</td>\n",
       "      <td>0.110732</td>\n",
       "    </tr>\n",
       "    <tr>\n",
       "      <th>...</th>\n",
       "      <td>...</td>\n",
       "      <td>...</td>\n",
       "    </tr>\n",
       "    <tr>\n",
       "      <th>27085</th>\n",
       "      <td>27085</td>\n",
       "      <td>0.025660</td>\n",
       "    </tr>\n",
       "    <tr>\n",
       "      <th>27086</th>\n",
       "      <td>27086</td>\n",
       "      <td>0.009491</td>\n",
       "    </tr>\n",
       "    <tr>\n",
       "      <th>27087</th>\n",
       "      <td>27087</td>\n",
       "      <td>0.025590</td>\n",
       "    </tr>\n",
       "    <tr>\n",
       "      <th>27088</th>\n",
       "      <td>27088</td>\n",
       "      <td>0.151165</td>\n",
       "    </tr>\n",
       "    <tr>\n",
       "      <th>27089</th>\n",
       "      <td>27089</td>\n",
       "      <td>0.022120</td>\n",
       "    </tr>\n",
       "  </tbody>\n",
       "</table>\n",
       "<p>27090 rows × 2 columns</p>\n",
       "</div>"
      ],
      "text/plain": [
       "          id         0\n",
       "0          0  0.003727\n",
       "1          1  0.105578\n",
       "2          2  0.004983\n",
       "3          3  0.010434\n",
       "4          4  0.110732\n",
       "...      ...       ...\n",
       "27085  27085  0.025660\n",
       "27086  27086  0.009491\n",
       "27087  27087  0.025590\n",
       "27088  27088  0.151165\n",
       "27089  27089  0.022120\n",
       "\n",
       "[27090 rows x 2 columns]"
      ]
     },
     "execution_count": 17,
     "metadata": {},
     "output_type": "execute_result"
    }
   ],
   "source": [
    "nn_pred = nn_model.predict(x)\n",
    "first_nn = pd.DataFrame(nn_pred)\n",
    "\n",
    "tmp_train_pred = pd.concat([ID, first_nn[0]], axis=1)\n",
    "tmp_train_pred['id'] = [int(i) for i in tmp_train_pred['id']]\n",
    "tmp_train_pred.head(-10)"
   ]
  },
  {
   "cell_type": "code",
   "execution_count": 18,
   "metadata": {},
   "outputs": [],
   "source": [
    "tr_pred = pd.merge(tr_pred, tmp_train_pred, on='id')\n",
    "tr_pred = tr_pred.rename(columns={0: 'NN'})"
   ]
  },
  {
   "cell_type": "code",
   "execution_count": 19,
   "metadata": {},
   "outputs": [
    {
     "data": {
      "text/html": [
       "<div>\n",
       "<style scoped>\n",
       "    .dataframe tbody tr th:only-of-type {\n",
       "        vertical-align: middle;\n",
       "    }\n",
       "\n",
       "    .dataframe tbody tr th {\n",
       "        vertical-align: top;\n",
       "    }\n",
       "\n",
       "    .dataframe thead th {\n",
       "        text-align: right;\n",
       "    }\n",
       "</style>\n",
       "<table border=\"1\" class=\"dataframe\">\n",
       "  <thead>\n",
       "    <tr style=\"text-align: right;\">\n",
       "      <th></th>\n",
       "      <th>id</th>\n",
       "      <th>RF</th>\n",
       "      <th>XGB</th>\n",
       "      <th>LGB</th>\n",
       "      <th>CB</th>\n",
       "      <th>NN</th>\n",
       "      <th>y</th>\n",
       "    </tr>\n",
       "  </thead>\n",
       "  <tbody>\n",
       "    <tr>\n",
       "      <th>0</th>\n",
       "      <td>0</td>\n",
       "      <td>0.019764</td>\n",
       "      <td>0.000207</td>\n",
       "      <td>0.041840</td>\n",
       "      <td>0.005982</td>\n",
       "      <td>0.003727</td>\n",
       "      <td>0</td>\n",
       "    </tr>\n",
       "    <tr>\n",
       "      <th>1</th>\n",
       "      <td>1</td>\n",
       "      <td>0.178051</td>\n",
       "      <td>0.845551</td>\n",
       "      <td>0.178831</td>\n",
       "      <td>0.174154</td>\n",
       "      <td>0.105578</td>\n",
       "      <td>1</td>\n",
       "    </tr>\n",
       "    <tr>\n",
       "      <th>2</th>\n",
       "      <td>2</td>\n",
       "      <td>0.010521</td>\n",
       "      <td>0.000607</td>\n",
       "      <td>0.036251</td>\n",
       "      <td>0.006766</td>\n",
       "      <td>0.004983</td>\n",
       "      <td>0</td>\n",
       "    </tr>\n",
       "    <tr>\n",
       "      <th>3</th>\n",
       "      <td>3</td>\n",
       "      <td>0.014289</td>\n",
       "      <td>0.000238</td>\n",
       "      <td>0.040736</td>\n",
       "      <td>0.004269</td>\n",
       "      <td>0.010434</td>\n",
       "      <td>0</td>\n",
       "    </tr>\n",
       "    <tr>\n",
       "      <th>4</th>\n",
       "      <td>4</td>\n",
       "      <td>0.186455</td>\n",
       "      <td>0.004137</td>\n",
       "      <td>0.118117</td>\n",
       "      <td>0.148330</td>\n",
       "      <td>0.110732</td>\n",
       "      <td>0</td>\n",
       "    </tr>\n",
       "    <tr>\n",
       "      <th>...</th>\n",
       "      <td>...</td>\n",
       "      <td>...</td>\n",
       "      <td>...</td>\n",
       "      <td>...</td>\n",
       "      <td>...</td>\n",
       "      <td>...</td>\n",
       "      <td>...</td>\n",
       "    </tr>\n",
       "    <tr>\n",
       "      <th>27085</th>\n",
       "      <td>27085</td>\n",
       "      <td>0.025268</td>\n",
       "      <td>0.000278</td>\n",
       "      <td>0.046788</td>\n",
       "      <td>0.011141</td>\n",
       "      <td>0.025660</td>\n",
       "      <td>0</td>\n",
       "    </tr>\n",
       "    <tr>\n",
       "      <th>27086</th>\n",
       "      <td>27086</td>\n",
       "      <td>0.023498</td>\n",
       "      <td>0.000030</td>\n",
       "      <td>0.041830</td>\n",
       "      <td>0.003571</td>\n",
       "      <td>0.009491</td>\n",
       "      <td>0</td>\n",
       "    </tr>\n",
       "    <tr>\n",
       "      <th>27087</th>\n",
       "      <td>27087</td>\n",
       "      <td>0.044049</td>\n",
       "      <td>0.002026</td>\n",
       "      <td>0.051748</td>\n",
       "      <td>0.017806</td>\n",
       "      <td>0.025590</td>\n",
       "      <td>0</td>\n",
       "    </tr>\n",
       "    <tr>\n",
       "      <th>27088</th>\n",
       "      <td>27088</td>\n",
       "      <td>0.141111</td>\n",
       "      <td>0.091323</td>\n",
       "      <td>0.114841</td>\n",
       "      <td>0.182574</td>\n",
       "      <td>0.151165</td>\n",
       "      <td>0</td>\n",
       "    </tr>\n",
       "    <tr>\n",
       "      <th>27089</th>\n",
       "      <td>27089</td>\n",
       "      <td>0.043240</td>\n",
       "      <td>0.002842</td>\n",
       "      <td>0.051638</td>\n",
       "      <td>0.029935</td>\n",
       "      <td>0.022120</td>\n",
       "      <td>0</td>\n",
       "    </tr>\n",
       "  </tbody>\n",
       "</table>\n",
       "<p>27090 rows × 7 columns</p>\n",
       "</div>"
      ],
      "text/plain": [
       "          id        RF       XGB       LGB        CB        NN  y\n",
       "0          0  0.019764  0.000207  0.041840  0.005982  0.003727  0\n",
       "1          1  0.178051  0.845551  0.178831  0.174154  0.105578  1\n",
       "2          2  0.010521  0.000607  0.036251  0.006766  0.004983  0\n",
       "3          3  0.014289  0.000238  0.040736  0.004269  0.010434  0\n",
       "4          4  0.186455  0.004137  0.118117  0.148330  0.110732  0\n",
       "...      ...       ...       ...       ...       ...       ... ..\n",
       "27085  27085  0.025268  0.000278  0.046788  0.011141  0.025660  0\n",
       "27086  27086  0.023498  0.000030  0.041830  0.003571  0.009491  0\n",
       "27087  27087  0.044049  0.002026  0.051748  0.017806  0.025590  0\n",
       "27088  27088  0.141111  0.091323  0.114841  0.182574  0.151165  0\n",
       "27089  27089  0.043240  0.002842  0.051638  0.029935  0.022120  0\n",
       "\n",
       "[27090 rows x 7 columns]"
      ]
     },
     "execution_count": 19,
     "metadata": {},
     "output_type": "execute_result"
    }
   ],
   "source": [
    "col = ['id', 'RF', 'XGB', 'LGB', 'CB', 'NN', 'y']\n",
    "tr_pred = tr_pred.reindex(col, axis=1)\n",
    "\n",
    "del col\n",
    "tr_pred.head(-10)"
   ]
  },
  {
   "cell_type": "code",
   "execution_count": 20,
   "metadata": {},
   "outputs": [
    {
     "data": {
      "text/plain": [
       "726"
      ]
     },
     "execution_count": 20,
     "metadata": {},
     "output_type": "execute_result"
    }
   ],
   "source": [
    "del train_df, test_df, ID, x, tmp_train_pred\n",
    "gc.collect()"
   ]
  },
  {
   "cell_type": "code",
   "execution_count": 21,
   "metadata": {},
   "outputs": [],
   "source": [
    "x = tr_pred.iloc[:, 1:6]\n",
    "y = tr_pred['y']\n",
    "ID = tr_pred['id']"
   ]
  },
  {
   "cell_type": "code",
   "execution_count": 22,
   "metadata": {},
   "outputs": [
    {
     "data": {
      "text/plain": [
       "<matplotlib.axes._subplots.AxesSubplot at 0x7f44c24d7250>"
      ]
     },
     "execution_count": 22,
     "metadata": {},
     "output_type": "execute_result"
    },
    {
     "data": {
      "image/png": "[encoded data removed]",
      "text/plain": [
       "<Figure size 432x432 with 2 Axes>"
      ]
     },
     "metadata": {
      "needs_background": "light"
     },
     "output_type": "display_data"
    }
   ],
   "source": [
    "corr = x.corr()\n",
    "\n",
    "plt.subplots(figsize=(6,6))\n",
    "sns.heatmap(corr, annot=True, square=True, cmap='inferno')"
   ]
  },
  {
   "cell_type": "code",
   "execution_count": 23,
   "metadata": {},
   "outputs": [
    {
     "data": {
      "text/plain": [
       "'\\nmodel tuning\\n'"
      ]
     },
     "execution_count": 23,
     "metadata": {},
     "output_type": "execute_result"
    }
   ],
   "source": [
    "\"\"\"\n",
    "model tuning\n",
    "\"\"\""
   ]
  },
  {
   "cell_type": "code",
   "execution_count": 24,
   "metadata": {},
   "outputs": [],
   "source": [
    "def objective_lreg(trial):\n",
    "    \n",
    "    param_lreg = {\n",
    "        'C': trial.suggest_loguniform('C', 1e-6, 1e+5)\n",
    "    }\n",
    "    \n",
    "    lreg = LogisticRegression(**param_lreg, max_iter=1000, random_state=18)\n",
    "    k = 5\n",
    "    skf = StratifiedKFold(n_splits=k, shuffle=True, random_state=18)\n",
    "    \n",
    "    scoring = 'roc_auc'\n",
    "    cv_output = cross_validate(lreg, x, y, n_jobs=-1, scoring=scoring, cv=skf)\n",
    "    \n",
    "    return cv_output['test_score'].mean()"
   ]
  },
  {
   "cell_type": "code",
   "execution_count": 25,
   "metadata": {
    "collapsed": true,
    "jupyter": {
     "outputs_hidden": true
    }
   },
   "outputs": [
    {
     "name": "stderr",
     "output_type": "stream",
     "text": [
      "[I 2020-08-26 10:40:51,444] Finished trial#4 resulted in value: 0.9725510056109826. Current best value is 0.9725510056109826 with parameters: {'C': 0.0020393043152879134}.\n",
      "[I 2020-08-26 10:40:51,616] Finished trial#0 resulted in value: 0.9723317231658111. Current best value is 0.9725510056109826 with parameters: {'C': 0.0020393043152879134}.\n",
      "[I 2020-08-26 10:40:51,695] Finished trial#2 resulted in value: 0.9727051888730349. Current best value is 0.9727051888730349 with parameters: {'C': 0.008369612374772743}.\n",
      "[I 2020-08-26 10:40:52,550] Finished trial#5 resulted in value: 0.9662826258391141. Current best value is 0.9727051888730349 with parameters: {'C': 0.008369612374772743}.\n",
      "[I 2020-08-26 10:40:52,551] Finished trial#1 resulted in value: 0.966281390655654. Current best value is 0.9727051888730349 with parameters: {'C': 0.008369612374772743}.\n",
      "[I 2020-08-26 10:40:52,674] Finished trial#3 resulted in value: 0.9663064171824093. Current best value is 0.9727051888730349 with parameters: {'C': 0.008369612374772743}.\n",
      "[I 2020-08-26 10:40:52,676] Finished trial#6 resulted in value: 0.9723373104320832. Current best value is 0.9727051888730349 with parameters: {'C': 0.008369612374772743}.\n",
      "[I 2020-08-26 10:40:52,853] Finished trial#7 resulted in value: 0.9723324811473679. Current best value is 0.9727051888730349 with parameters: {'C': 0.008369612374772743}.\n",
      "[I 2020-08-26 10:40:53,168] Finished trial#8 resulted in value: 0.9725054694591586. Current best value is 0.9727051888730349 with parameters: {'C': 0.008369612374772743}.\n",
      "[I 2020-08-26 10:40:53,977] Finished trial#12 resulted in value: 0.9723337120207812. Current best value is 0.9727051888730349 with parameters: {'C': 0.008369612374772743}.\n",
      "[I 2020-08-26 10:40:54,221] Finished trial#13 resulted in value: 0.9725604763782567. Current best value is 0.9727051888730349 with parameters: {'C': 0.008369612374772743}.\n",
      "[I 2020-08-26 10:40:54,223] Finished trial#11 resulted in value: 0.9723300183743392. Current best value is 0.9727051888730349 with parameters: {'C': 0.008369612374772743}.\n",
      "[I 2020-08-26 10:40:54,718] Finished trial#9 resulted in value: 0.9662806322636165. Current best value is 0.9727051888730349 with parameters: {'C': 0.008369612374772743}.\n",
      "[I 2020-08-26 10:40:54,885] Finished trial#14 resulted in value: 0.9719441575377079. Current best value is 0.9727051888730349 with parameters: {'C': 0.008369612374772743}.\n",
      "[I 2020-08-26 10:40:55,001] Finished trial#10 resulted in value: 0.9662806322636165. Current best value is 0.9727051888730349 with parameters: {'C': 0.008369612374772743}.\n",
      "[I 2020-08-26 10:40:56,414] Finished trial#15 resulted in value: 0.9674014289700146. Current best value is 0.9727051888730349 with parameters: {'C': 0.008369612374772743}.\n",
      "[I 2020-08-26 10:40:56,697] Finished trial#17 resulted in value: 0.9686408328431952. Current best value is 0.9727051888730349 with parameters: {'C': 0.008369612374772743}.\n",
      "[I 2020-08-26 10:40:56,800] Finished trial#16 resulted in value: 0.9685794950394563. Current best value is 0.9727051888730349 with parameters: {'C': 0.008369612374772743}.\n",
      "[I 2020-08-26 10:40:57,076] Finished trial#18 resulted in value: 0.9691319472085883. Current best value is 0.9727051888730349 with parameters: {'C': 0.008369612374772743}.\n",
      "[I 2020-08-26 10:40:57,241] Finished trial#19 resulted in value: 0.9697493206174851. Current best value is 0.9727051888730349 with parameters: {'C': 0.008369612374772743}.\n",
      "[I 2020-08-26 10:40:57,415] Finished trial#20 resulted in value: 0.9687361936124248. Current best value is 0.9727051888730349 with parameters: {'C': 0.008369612374772743}.\n",
      "[I 2020-08-26 10:40:57,632] Finished trial#21 resulted in value: 0.9726514021475865. Current best value is 0.9727051888730349 with parameters: {'C': 0.008369612374772743}.\n",
      "[I 2020-08-26 10:40:58,039] Finished trial#22 resulted in value: 0.97267867511681. Current best value is 0.9727051888730349 with parameters: {'C': 0.008369612374772743}.\n",
      "[I 2020-08-26 10:40:58,260] Finished trial#23 resulted in value: 0.9727048071115121. Current best value is 0.9727051888730349 with parameters: {'C': 0.008369612374772743}.\n",
      "[I 2020-08-26 10:40:58,572] Finished trial#24 resulted in value: 0.97268852313032. Current best value is 0.9727051888730349 with parameters: {'C': 0.008369612374772743}.\n",
      "[I 2020-08-26 10:40:58,735] Finished trial#25 resulted in value: 0.9725686239103414. Current best value is 0.9727051888730349 with parameters: {'C': 0.008369612374772743}.\n",
      "[I 2020-08-26 10:40:58,807] Finished trial#26 resulted in value: 0.9726731830856783. Current best value is 0.9727051888730349 with parameters: {'C': 0.008369612374772743}.\n",
      "[I 2020-08-26 10:40:59,137] Finished trial#27 resulted in value: 0.972643919824802. Current best value is 0.9727051888730349 with parameters: {'C': 0.008369612374772743}.\n",
      "[I 2020-08-26 10:40:59,556] Finished trial#28 resulted in value: 0.9726980885170136. Current best value is 0.9727051888730349 with parameters: {'C': 0.008369612374772743}.\n",
      "[I 2020-08-26 10:40:59,851] Finished trial#29 resulted in value: 0.9725821364298023. Current best value is 0.9727051888730349 with parameters: {'C': 0.008369612374772743}.\n",
      "[I 2020-08-26 10:41:00,123] Finished trial#30 resulted in value: 0.9725568313810369. Current best value is 0.9727051888730349 with parameters: {'C': 0.008369612374772743}.\n",
      "[I 2020-08-26 10:41:00,229] Finished trial#32 resulted in value: 0.9725645031479004. Current best value is 0.9727051888730349 with parameters: {'C': 0.008369612374772743}.\n",
      "[I 2020-08-26 10:41:00,396] Finished trial#31 resulted in value: 0.9725714214484942. Current best value is 0.9727051888730349 with parameters: {'C': 0.008369612374772743}.\n",
      "[I 2020-08-26 10:41:00,683] Finished trial#33 resulted in value: 0.9723962072291682. Current best value is 0.9727051888730349 with parameters: {'C': 0.008369612374772743}.\n",
      "[I 2020-08-26 10:41:00,995] Finished trial#35 resulted in value: 0.9723624106437458. Current best value is 0.9727051888730349 with parameters: {'C': 0.008369612374772743}.\n",
      "[I 2020-08-26 10:41:01,170] Finished trial#36 resulted in value: 0.9723702743175723. Current best value is 0.9727051888730349 with parameters: {'C': 0.008369612374772743}.\n",
      "[I 2020-08-26 10:41:01,396] Finished trial#34 resulted in value: 0.9723845569314026. Current best value is 0.9727051888730349 with parameters: {'C': 0.008369612374772743}.\n",
      "[I 2020-08-26 10:41:01,397] Finished trial#38 resulted in value: 0.972369515925535. Current best value is 0.9727051888730349 with parameters: {'C': 0.008369612374772743}.\n",
      "[I 2020-08-26 10:41:01,465] Finished trial#37 resulted in value: 0.9723554022390196. Current best value is 0.9727051888730349 with parameters: {'C': 0.008369612374772743}.\n",
      "[I 2020-08-26 10:41:01,764] Finished trial#39 resulted in value: 0.9723874182883921. Current best value is 0.9727051888730349 with parameters: {'C': 0.008369612374772743}.\n",
      "[I 2020-08-26 10:41:01,947] Finished trial#40 resulted in value: 0.9723604221992561. Current best value is 0.9727051888730349 with parameters: {'C': 0.008369612374772743}.\n",
      "[I 2020-08-26 10:41:02,678] Finished trial#41 resulted in value: 0.9716281923195595. Current best value is 0.9727051888730349 with parameters: {'C': 0.008369612374772743}.\n",
      "[I 2020-08-26 10:41:03,068] Finished trial#42 resulted in value: 0.9717199926505794. Current best value is 0.9727051888730349 with parameters: {'C': 0.008369612374772743}.\n",
      "[I 2020-08-26 10:41:03,400] Finished trial#44 resulted in value: 0.9716241175273156. Current best value is 0.9727051888730349 with parameters: {'C': 0.008369612374772743}.\n",
      "[I 2020-08-26 10:41:03,408] Finished trial#43 resulted in value: 0.9715080642493612. Current best value is 0.9727051888730349 with parameters: {'C': 0.008369612374772743}.\n",
      "[I 2020-08-26 10:41:03,570] Finished trial#46 resulted in value: 0.9714003536942993. Current best value is 0.9727051888730349 with parameters: {'C': 0.008369612374772743}.\n",
      "[I 2020-08-26 10:41:03,635] Finished trial#45 resulted in value: 0.9716790630831931. Current best value is 0.9727051888730349 with parameters: {'C': 0.008369612374772743}.\n",
      "[I 2020-08-26 10:41:04,158] Finished trial#47 resulted in value: 0.9727030029800938. Current best value is 0.9727051888730349 with parameters: {'C': 0.008369612374772743}.\n",
      "[I 2020-08-26 10:41:04,444] Finished trial#48 resulted in value: 0.9727058401259938. Current best value is 0.9727058401259938 with parameters: {'C': 0.010069577482775661}.\n",
      "[I 2020-08-26 10:41:04,775] Finished trial#49 resulted in value: 0.9727092538137437. Current best value is 0.9727092538137437 with parameters: {'C': 0.009517918900449424}.\n",
      "[I 2020-08-26 10:41:04,941] Finished trial#50 resulted in value: 0.9726742698767563. Current best value is 0.9727092538137437 with parameters: {'C': 0.009517918900449424}.\n",
      "[I 2020-08-26 10:41:05,150] Finished trial#52 resulted in value: 0.9727056615596513. Current best value is 0.9727092538137437 with parameters: {'C': 0.009517918900449424}.\n",
      "[I 2020-08-26 10:41:05,328] Finished trial#51 resulted in value: 0.9726767373703122. Current best value is 0.9727092538137437 with parameters: {'C': 0.009517918900449424}.\n",
      "[I 2020-08-26 10:41:05,820] Finished trial#53 resulted in value: 0.9727061241894924. Current best value is 0.9727092538137437 with parameters: {'C': 0.009517918900449424}.\n",
      "[I 2020-08-26 10:41:05,930] Finished trial#54 resulted in value: 0.9727044179613383. Current best value is 0.9727092538137437 with parameters: {'C': 0.009517918900449424}.\n",
      "[I 2020-08-26 10:41:06,331] Finished trial#55 resulted in value: 0.9726976829476142. Current best value is 0.9727092538137437 with parameters: {'C': 0.009517918900449424}.\n",
      "[I 2020-08-26 10:41:06,427] Finished trial#56 resulted in value: 0.9726975877124738. Current best value is 0.9727092538137437 with parameters: {'C': 0.009517918900449424}.\n",
      "[I 2020-08-26 10:41:06,512] Finished trial#58 resulted in value: 0.9724900056437049. Current best value is 0.9727092538137437 with parameters: {'C': 0.009517918900449424}.\n",
      "[I 2020-08-26 10:41:06,755] Finished trial#57 resulted in value: 0.9723307761506558. Current best value is 0.9727092538137437 with parameters: {'C': 0.009517918900449424}.\n",
      "[I 2020-08-26 10:41:07,244] Finished trial#60 resulted in value: 0.9724547678135453. Current best value is 0.9727092538137437 with parameters: {'C': 0.009517918900449424}.\n",
      "[I 2020-08-26 10:41:07,313] Finished trial#59 resulted in value: 0.9724558088323991. Current best value is 0.9727092538137437 with parameters: {'C': 0.009517918900449424}.\n",
      "[I 2020-08-26 10:41:07,720] Finished trial#63 resulted in value: 0.9724519261523585. Current best value is 0.9727092538137437 with parameters: {'C': 0.009517918900449424}.\n",
      "[I 2020-08-26 10:41:07,902] Finished trial#64 resulted in value: 0.972468597436562. Current best value is 0.9727092538137437 with parameters: {'C': 0.009517918900449424}.\n",
      "[I 2020-08-26 10:41:08,174] Finished trial#62 resulted in value: 0.972220905779074. Current best value is 0.9727092538137437 with parameters: {'C': 0.009517918900449424}.\n",
      "[I 2020-08-26 10:41:08,177] Finished trial#61 resulted in value: 0.9722088741302665. Current best value is 0.9727092538137437 with parameters: {'C': 0.009517918900449424}.\n",
      "[I 2020-08-26 10:41:08,919] Finished trial#67 resulted in value: 0.972340817713051. Current best value is 0.9727092538137437 with parameters: {'C': 0.009517918900449424}.\n",
      "[I 2020-08-26 10:41:09,107] Finished trial#65 resulted in value: 0.9721893548224262. Current best value is 0.9727092538137437 with parameters: {'C': 0.009517918900449424}.\n",
      "[I 2020-08-26 10:41:09,211] Finished trial#66 resulted in value: 0.9721731533514746. Current best value is 0.9727092538137437 with parameters: {'C': 0.009517918900449424}.\n",
      "[I 2020-08-26 10:41:09,440] Finished trial#70 resulted in value: 0.9723430902210393. Current best value is 0.9727092538137437 with parameters: {'C': 0.009517918900449424}.\n",
      "[I 2020-08-26 10:41:09,440] Finished trial#69 resulted in value: 0.9723406280637314. Current best value is 0.9727092538137437 with parameters: {'C': 0.009517918900449424}.\n",
      "[I 2020-08-26 10:41:09,508] Finished trial#68 resulted in value: 0.9721767540204199. Current best value is 0.9727092538137437 with parameters: {'C': 0.009517918900449424}.\n",
      "[I 2020-08-26 10:41:10,836] Finished trial#71 resulted in value: 0.9709270603984296. Current best value is 0.9727092538137437 with parameters: {'C': 0.009517918900449424}.\n",
      "[I 2020-08-26 10:41:10,906] Finished trial#74 resulted in value: 0.9727058518246917. Current best value is 0.9727092538137437 with parameters: {'C': 0.009517918900449424}.\n",
      "[I 2020-08-26 10:41:11,140] Finished trial#73 resulted in value: 0.9707378453747623. Current best value is 0.9727092538137437 with parameters: {'C': 0.009517918900449424}.\n",
      "[I 2020-08-26 10:41:11,210] Finished trial#76 resulted in value: 0.972706514365868. Current best value is 0.9727092538137437 with parameters: {'C': 0.009517918900449424}.\n",
      "[I 2020-08-26 10:41:11,212] Finished trial#75 resulted in value: 0.9727086830186227. Current best value is 0.9727092538137437 with parameters: {'C': 0.009517918900449424}.\n",
      "[I 2020-08-26 10:41:11,373] Finished trial#72 resulted in value: 0.9675498100646491. Current best value is 0.9727092538137437 with parameters: {'C': 0.009517918900449424}.\n",
      "[I 2020-08-26 10:41:11,882] Finished trial#78 resulted in value: 0.9726359689202075. Current best value is 0.9727092538137437 with parameters: {'C': 0.009517918900449424}.\n",
      "[I 2020-08-26 10:41:12,410] Finished trial#80 resulted in value: 0.9726062298941102. Current best value is 0.9727092538137437 with parameters: {'C': 0.009517918900449424}.\n",
      "[I 2020-08-26 10:41:12,689] Finished trial#81 resulted in value: 0.9725943926151492. Current best value is 0.9727092538137437 with parameters: {'C': 0.009517918900449424}.\n",
      "[I 2020-08-26 10:41:12,866] Finished trial#77 resulted in value: 0.9664649262492461. Current best value is 0.9727092538137437 with parameters: {'C': 0.009517918900449424}.\n",
      "[I 2020-08-26 10:41:12,935] Finished trial#82 resulted in value: 0.9726121987166648. Current best value is 0.9727092538137437 with parameters: {'C': 0.009517918900449424}.\n",
      "[I 2020-08-26 10:41:13,335] Finished trial#79 resulted in value: 0.9663042368309567. Current best value is 0.9727092538137437 with parameters: {'C': 0.009517918900449424}.\n",
      "[I 2020-08-26 10:41:13,645] Finished trial#83 resulted in value: 0.9726336904638838. Current best value is 0.9727092538137437 with parameters: {'C': 0.009517918900449424}.\n",
      "[I 2020-08-26 10:41:14,142] Finished trial#85 resulted in value: 0.9726976133675134. Current best value is 0.9727092538137437 with parameters: {'C': 0.009517918900449424}.\n",
      "[I 2020-08-26 10:41:14,419] Finished trial#84 resulted in value: 0.9726410859663808. Current best value is 0.9727092538137437 with parameters: {'C': 0.009517918900449424}.\n",
      "[I 2020-08-26 10:41:14,513] Finished trial#86 resulted in value: 0.9726548336948777. Current best value is 0.9727092538137437 with parameters: {'C': 0.009517918900449424}.\n",
      "[I 2020-08-26 10:41:14,728] Finished trial#87 resulted in value: 0.9726369140918338. Current best value is 0.9727092538137437 with parameters: {'C': 0.009517918900449424}.\n",
      "[I 2020-08-26 10:41:15,019] Finished trial#88 resulted in value: 0.9726357764011574. Current best value is 0.9727092538137437 with parameters: {'C': 0.009517918900449424}.\n",
      "[I 2020-08-26 10:41:15,201] Finished trial#89 resulted in value: 0.9727021544839239. Current best value is 0.9727092538137437 with parameters: {'C': 0.009517918900449424}.\n",
      "[I 2020-08-26 10:41:15,827] Finished trial#90 resulted in value: 0.9724519298539518. Current best value is 0.9727092538137437 with parameters: {'C': 0.009517918900449424}.\n",
      "[I 2020-08-26 10:41:16,098] Finished trial#92 resulted in value: 0.9724267229136911. Current best value is 0.9727092538137437 with parameters: {'C': 0.009517918900449424}.\n",
      "[I 2020-08-26 10:41:16,105] Finished trial#91 resulted in value: 0.9724066334264505. Current best value is 0.9727092538137437 with parameters: {'C': 0.009517918900449424}.\n",
      "[I 2020-08-26 10:41:16,265] Finished trial#93 resulted in value: 0.9726986574649719. Current best value is 0.9727092538137437 with parameters: {'C': 0.009517918900449424}.\n",
      "[I 2020-08-26 10:41:16,441] Finished trial#94 resulted in value: 0.9727042410369183. Current best value is 0.9727092538137437 with parameters: {'C': 0.009517918900449424}.\n",
      "[I 2020-08-26 10:41:17,131] Finished trial#95 resulted in value: 0.9724037917652637. Current best value is 0.9727092538137437 with parameters: {'C': 0.009517918900449424}.\n",
      "[I 2020-08-26 10:41:17,277] Finished trial#98 resulted in value: 0.9724019073739804. Current best value is 0.9727092538137437 with parameters: {'C': 0.009517918900449424}.\n",
      "[I 2020-08-26 10:41:17,467] Finished trial#97 resulted in value: 0.9727025245467485. Current best value is 0.9727092538137437 with parameters: {'C': 0.009517918900449424}.\n",
      "[I 2020-08-26 10:41:17,529] Finished trial#96 resulted in value: 0.97270547067889. Current best value is 0.9727092538137437 with parameters: {'C': 0.009517918900449424}.\n",
      "[I 2020-08-26 10:41:17,635] Finished trial#100 resulted in value: 0.9724058877520451. Current best value is 0.9727092538137437 with parameters: {'C': 0.009517918900449424}.\n",
      "[I 2020-08-26 10:41:17,700] Finished trial#99 resulted in value: 0.9727035717228117. Current best value is 0.9727092538137437 with parameters: {'C': 0.009517918900449424}.\n",
      "[I 2020-08-26 10:41:18,669] Finished trial#101 resulted in value: 0.9726974932982948. Current best value is 0.9727092538137437 with parameters: {'C': 0.009517918900449424}.\n",
      "[I 2020-08-26 10:41:18,670] Finished trial#103 resulted in value: 0.9725280845193305. Current best value is 0.9727092538137437 with parameters: {'C': 0.009517918900449424}.\n",
      "[I 2020-08-26 10:41:18,735] Finished trial#104 resulted in value: 0.9725341428302967. Current best value is 0.9727092538137437 with parameters: {'C': 0.009517918900449424}.\n",
      "[I 2020-08-26 10:41:18,900] Finished trial#102 resulted in value: 0.9727003411166912. Current best value is 0.9727092538137437 with parameters: {'C': 0.009517918900449424}.\n",
      "[I 2020-08-26 10:41:18,963] Finished trial#105 resulted in value: 0.9726887131901201. Current best value is 0.9727092538137437 with parameters: {'C': 0.009517918900449424}.\n",
      "[I 2020-08-26 10:41:19,178] Finished trial#106 resulted in value: 0.9726739427091576. Current best value is 0.9727092538137437 with parameters: {'C': 0.009517918900449424}.\n",
      "[I 2020-08-26 10:41:19,913] Finished trial#108 resulted in value: 0.97267365926138. Current best value is 0.9727092538137437 with parameters: {'C': 0.009517918900449424}.\n",
      "[I 2020-08-26 10:41:19,995] Finished trial#109 resulted in value: 0.9726802863150642. Current best value is 0.9727092538137437 with parameters: {'C': 0.009517918900449424}.\n",
      "[I 2020-08-26 10:41:20,090] Finished trial#107 resulted in value: 0.9726675962298866. Current best value is 0.9727092538137437 with parameters: {'C': 0.009517918900449424}.\n",
      "[I 2020-08-26 10:41:20,287] Finished trial#110 resulted in value: 0.9726675962298866. Current best value is 0.9727092538137437 with parameters: {'C': 0.009517918900449424}.\n",
      "[I 2020-08-26 10:41:20,477] Finished trial#111 resulted in value: 0.9725650712748974. Current best value is 0.9727092538137437 with parameters: {'C': 0.009517918900449424}.\n",
      "[I 2020-08-26 10:41:20,886] Finished trial#112 resulted in value: 0.9725085964152859. Current best value is 0.9727092538137437 with parameters: {'C': 0.009517918900449424}.\n",
      "[I 2020-08-26 10:41:21,488] Finished trial#113 resulted in value: 0.9725809987391261. Current best value is 0.9727092538137437 with parameters: {'C': 0.009517918900449424}.\n",
      "[I 2020-08-26 10:41:21,792] Finished trial#117 resulted in value: 0.9727047153654572. Current best value is 0.9727092538137437 with parameters: {'C': 0.009517918900449424}.\n",
      "[I 2020-08-26 10:41:22,019] Finished trial#115 resulted in value: 0.9725411937270356. Current best value is 0.9727092538137437 with parameters: {'C': 0.009517918900449424}.\n",
      "[I 2020-08-26 10:41:22,082] Finished trial#114 resulted in value: 0.9726009915545439. Current best value is 0.9727092538137437 with parameters: {'C': 0.009517918900449424}.\n",
      "[I 2020-08-26 10:41:22,082] Finished trial#116 resulted in value: 0.9725098274939399. Current best value is 0.9727092538137437 with parameters: {'C': 0.009517918900449424}.\n",
      "[I 2020-08-26 10:41:22,289] Finished trial#118 resulted in value: 0.972675788507994. Current best value is 0.9727092538137437 with parameters: {'C': 0.009517918900449424}.\n",
      "[I 2020-08-26 10:41:22,900] Finished trial#119 resulted in value: 0.9727029155440855. Current best value is 0.9727092538137437 with parameters: {'C': 0.009517918900449424}.\n",
      "[I 2020-08-26 10:41:23,307] Finished trial#120 resulted in value: 0.9726616633280211. Current best value is 0.9727092538137437 with parameters: {'C': 0.009517918900449424}.\n",
      "[I 2020-08-26 10:41:23,501] Finished trial#121 resulted in value: 0.9727025288567953. Current best value is 0.9727092538137437 with parameters: {'C': 0.009517918900449424}.\n",
      "[I 2020-08-26 10:41:23,738] Finished trial#122 resulted in value: 0.9727081183807108. Current best value is 0.9727092538137437 with parameters: {'C': 0.009517918900449424}.\n",
      "[I 2020-08-26 10:41:23,742] Finished trial#123 resulted in value: 0.9726761690380747. Current best value is 0.9727092538137437 with parameters: {'C': 0.009517918900449424}.\n",
      "[I 2020-08-26 10:41:24,005] Finished trial#124 resulted in value: 0.9719341167962741. Current best value is 0.9727092538137437 with parameters: {'C': 0.009517918900449424}.\n",
      "[I 2020-08-26 10:41:24,517] Finished trial#125 resulted in value: 0.972684223797903. Current best value is 0.9727092538137437 with parameters: {'C': 0.009517918900449424}.\n",
      "[I 2020-08-26 10:41:24,596] Finished trial#126 resulted in value: 0.9727045259213781. Current best value is 0.9727092538137437 with parameters: {'C': 0.009517918900449424}.\n",
      "[I 2020-08-26 10:41:24,770] Finished trial#127 resulted in value: 0.9725782890474621. Current best value is 0.9727092538137437 with parameters: {'C': 0.009517918900449424}.\n",
      "[I 2020-08-26 10:41:24,932] Finished trial#128 resulted in value: 0.9725890875652128. Current best value is 0.9727092538137437 with parameters: {'C': 0.009517918900449424}.\n",
      "[I 2020-08-26 10:41:24,997] Finished trial#129 resulted in value: 0.9725784778758204. Current best value is 0.9727092538137437 with parameters: {'C': 0.009517918900449424}.\n",
      "[I 2020-08-26 10:41:25,268] Finished trial#130 resulted in value: 0.9725666362868128. Current best value is 0.9727092538137437 with parameters: {'C': 0.009517918900449424}.\n",
      "[I 2020-08-26 10:41:25,643] Finished trial#131 resulted in value: 0.9725806580220328. Current best value is 0.9727092538137437 with parameters: {'C': 0.009517918900449424}.\n",
      "[I 2020-08-26 10:41:25,712] Finished trial#132 resulted in value: 0.9725326270724233. Current best value is 0.9727092538137437 with parameters: {'C': 0.009517918900449424}.\n",
      "[I 2020-08-26 10:41:25,922] Finished trial#133 resulted in value: 0.9724337423941268. Current best value is 0.9727092538137437 with parameters: {'C': 0.009517918900449424}.\n",
      "[I 2020-08-26 10:41:26,019] Finished trial#134 resulted in value: 0.9724176334901914. Current best value is 0.9727092538137437 with parameters: {'C': 0.009517918900449424}.\n",
      "[I 2020-08-26 10:41:26,187] Finished trial#135 resulted in value: 0.972434311342085. Current best value is 0.9727092538137437 with parameters: {'C': 0.009517918900449424}.\n",
      "[I 2020-08-26 10:41:26,582] Finished trial#136 resulted in value: 0.9727056619701321. Current best value is 0.9727092538137437 with parameters: {'C': 0.009517918900449424}.\n",
      "[I 2020-08-26 10:41:27,096] Finished trial#138 resulted in value: 0.972697995129036. Current best value is 0.9727092538137437 with parameters: {'C': 0.009517918900449424}.\n",
      "[I 2020-08-26 10:41:27,283] Finished trial#137 resulted in value: 0.9727088734889033. Current best value is 0.9727092538137437 with parameters: {'C': 0.009517918900449424}.\n",
      "[I 2020-08-26 10:41:27,372] Finished trial#139 resulted in value: 0.9727051868206319. Current best value is 0.9727092538137437 with parameters: {'C': 0.009517918900449424}.\n",
      "[I 2020-08-26 10:41:27,466] Finished trial#140 resulted in value: 0.9727056629963335. Current best value is 0.9727092538137437 with parameters: {'C': 0.009517918900449424}.\n",
      "[I 2020-08-26 10:41:27,651] Finished trial#141 resulted in value: 0.9727044313019588. Current best value is 0.9727092538137437 with parameters: {'C': 0.009517918900449424}.\n",
      "[I 2020-08-26 10:41:28,255] Finished trial#142 resulted in value: 0.9727041449808169. Current best value is 0.9727092538137437 with parameters: {'C': 0.009517918900449424}.\n",
      "[I 2020-08-26 10:41:28,745] Finished trial#143 resulted in value: 0.9727050915854913. Current best value is 0.9727092538137437 with parameters: {'C': 0.009517918900449424}.\n",
      "[I 2020-08-26 10:41:28,851] Finished trial#145 resulted in value: 0.97269635663382. Current best value is 0.9727092538137437 with parameters: {'C': 0.009517918900449424}.\n",
      "[I 2020-08-26 10:41:28,914] Finished trial#144 resulted in value: 0.9727029937442797. Current best value is 0.9727092538137437 with parameters: {'C': 0.009517918900449424}.\n",
      "[I 2020-08-26 10:41:29,120] Finished trial#146 resulted in value: 0.9727029935390391. Current best value is 0.9727092538137437 with parameters: {'C': 0.009517918900449424}.\n",
      "[I 2020-08-26 10:41:29,186] Finished trial#147 resulted in value: 0.9726974939140156. Current best value is 0.9727092538137437 with parameters: {'C': 0.009517918900449424}.\n",
      "[I 2020-08-26 10:41:29,807] Finished trial#148 resulted in value: 0.9726893467924116. Current best value is 0.9727092538137437 with parameters: {'C': 0.009517918900449424}.\n",
      "[I 2020-08-26 10:41:30,312] Finished trial#149 resulted in value: 0.9726975887386754. Current best value is 0.9727092538137437 with parameters: {'C': 0.009517918900449424}.\n",
      "[I 2020-08-26 10:41:30,397] Finished trial#150 resulted in value: 0.972646013975322. Current best value is 0.9727092538137437 with parameters: {'C': 0.009517918900449424}.\n",
      "[I 2020-08-26 10:41:30,587] Finished trial#151 resulted in value: 0.9723129238773367. Current best value is 0.9727092538137437 with parameters: {'C': 0.009517918900449424}.\n",
      "[I 2020-08-26 10:41:30,767] Finished trial#152 resulted in value: 0.9726165333576837. Current best value is 0.9727092538137437 with parameters: {'C': 0.009517918900449424}.\n",
      "[I 2020-08-26 10:41:30,943] Finished trial#153 resulted in value: 0.9726440247098711. Current best value is 0.9727092538137437 with parameters: {'C': 0.009517918900449424}.\n",
      "[I 2020-08-26 10:41:31,128] Finished trial#154 resulted in value: 0.9726512124982671. Current best value is 0.9727092538137437 with parameters: {'C': 0.009517918900449424}.\n",
      "[I 2020-08-26 10:41:31,626] Finished trial#155 resulted in value: 0.9726734689963396. Current best value is 0.9727092538137437 with parameters: {'C': 0.009517918900449424}.\n",
      "[I 2020-08-26 10:41:31,696] Finished trial#156 resulted in value: 0.9726784852622504. Current best value is 0.9727092538137437 with parameters: {'C': 0.009517918900449424}.\n",
      "[I 2020-08-26 10:41:31,975] Finished trial#157 resulted in value: 0.9726873868763258. Current best value is 0.9727092538137437 with parameters: {'C': 0.009517918900449424}.\n",
      "[I 2020-08-26 10:41:32,041] Finished trial#158 resulted in value: 0.9726876736079484. Current best value is 0.9727092538137437 with parameters: {'C': 0.009517918900449424}.\n",
      "[I 2020-08-26 10:41:32,419] Finished trial#160 resulted in value: 0.9726880514699052. Current best value is 0.9727092538137437 with parameters: {'C': 0.009517918900449424}.\n",
      "[I 2020-08-26 10:41:32,420] Finished trial#159 resulted in value: 0.9726730901081814. Current best value is 0.9727092538137437 with parameters: {'C': 0.009517918900449424}.\n",
      "[I 2020-08-26 10:41:33,102] Finished trial#162 resulted in value: 0.9726878579210197. Current best value is 0.9727092538137437 with parameters: {'C': 0.009517918900449424}.\n",
      "[I 2020-08-26 10:41:33,178] Finished trial#161 resulted in value: 0.9726973290987745. Current best value is 0.9727092538137437 with parameters: {'C': 0.009517918900449424}.\n",
      "[I 2020-08-26 10:41:33,555] Finished trial#163 resulted in value: 0.9726586270917472. Current best value is 0.9727092538137437 with parameters: {'C': 0.009517918900449424}.\n",
      "[I 2020-08-26 10:41:33,720] Finished trial#165 resulted in value: 0.9727050924064529. Current best value is 0.9727092538137437 with parameters: {'C': 0.009517918900449424}.\n",
      "[I 2020-08-26 10:41:33,786] Finished trial#164 resulted in value: 0.9726559715907944. Current best value is 0.9727092538137437 with parameters: {'C': 0.009517918900449424}.\n",
      "[I 2020-08-26 10:41:33,892] Finished trial#166 resulted in value: 0.972705378317114. Current best value is 0.9727092538137437 with parameters: {'C': 0.009517918900449424}.\n",
      "[I 2020-08-26 10:41:34,801] Finished trial#168 resulted in value: 0.9727043333986943. Current best value is 0.9727092538137437 with parameters: {'C': 0.009517918900449424}.\n",
      "[I 2020-08-26 10:41:34,802] Finished trial#167 resulted in value: 0.9727032913536389. Current best value is 0.9727092538137437 with parameters: {'C': 0.009517918900449424}.\n",
      "[I 2020-08-26 10:41:35,099] Finished trial#169 resulted in value: 0.9727036647003088. Current best value is 0.9727092538137437 with parameters: {'C': 0.009517918900449424}.\n",
      "[I 2020-08-26 10:41:35,287] Finished trial#170 resulted in value: 0.9727035762380988. Current best value is 0.9727092538137437 with parameters: {'C': 0.009517918900449424}.\n",
      "[I 2020-08-26 10:41:35,381] Finished trial#171 resulted in value: 0.9727083074143094. Current best value is 0.9727092538137437 with parameters: {'C': 0.009517918900449424}.\n",
      "[I 2020-08-26 10:41:35,456] Finished trial#172 resulted in value: 0.9727038578387136. Current best value is 0.9727092538137437 with parameters: {'C': 0.009517918900449424}.\n",
      "[I 2020-08-26 10:41:36,063] Finished trial#173 resulted in value: 0.9726274484519337. Current best value is 0.9727092538137437 with parameters: {'C': 0.009517918900449424}.\n",
      "[I 2020-08-26 10:41:36,136] Finished trial#174 resulted in value: 0.9726368207002224. Current best value is 0.9727092538137437 with parameters: {'C': 0.009517918900449424}.\n",
      "[I 2020-08-26 10:41:36,429] Finished trial#175 resulted in value: 0.9724988159222061. Current best value is 0.9727092538137437 with parameters: {'C': 0.009517918900449424}.\n",
      "[I 2020-08-26 10:41:36,907] Finished trial#178 resulted in value: 0.9726628991272023. Current best value is 0.9727092538137437 with parameters: {'C': 0.009517918900449424}.\n",
      "[I 2020-08-26 10:41:36,973] Finished trial#176 resulted in value: 0.9726770193814074. Current best value is 0.9727092538137437 with parameters: {'C': 0.009517918900449424}.\n",
      "[I 2020-08-26 10:41:37,040] Finished trial#177 resulted in value: 0.9725382555992665. Current best value is 0.9727092538137437 with parameters: {'C': 0.009517918900449424}.\n",
      "[I 2020-08-26 10:41:37,247] Finished trial#179 resulted in value: 0.9724925626256724. Current best value is 0.9727092538137437 with parameters: {'C': 0.009517918900449424}.\n",
      "[I 2020-08-26 10:41:37,554] Finished trial#180 resulted in value: 0.9725741717741068. Current best value is 0.9727092538137437 with parameters: {'C': 0.009517918900449424}.\n",
      "[I 2020-08-26 10:41:37,723] Finished trial#181 resulted in value: 0.9726606218986866. Current best value is 0.9727092538137437 with parameters: {'C': 0.009517918900449424}.\n",
      "[I 2020-08-26 10:41:38,437] Finished trial#182 resulted in value: 0.9725696203956804. Current best value is 0.9727092538137437 with parameters: {'C': 0.009517918900449424}.\n",
      "[I 2020-08-26 10:41:38,896] Finished trial#185 resulted in value: 0.9726273417269695. Current best value is 0.9727092538137437 with parameters: {'C': 0.009517918900449424}.\n",
      "[I 2020-08-26 10:41:38,960] Finished trial#183 resulted in value: 0.9726070574594017. Current best value is 0.9727092538137437 with parameters: {'C': 0.009517918900449424}.\n",
      "[I 2020-08-26 10:41:38,960] Finished trial#184 resulted in value: 0.9725960635456028. Current best value is 0.9727092538137437 with parameters: {'C': 0.009517918900449424}.\n",
      "[I 2020-08-26 10:41:39,130] Finished trial#187 resulted in value: 0.9726977042926069. Current best value is 0.9727092538137437 with parameters: {'C': 0.009517918900449424}.\n",
      "[I 2020-08-26 10:41:39,198] Finished trial#186 resulted in value: 0.9726881109932306. Current best value is 0.9727092538137437 with parameters: {'C': 0.009517918900449424}.\n",
      "[I 2020-08-26 10:41:39,956] Finished trial#188 resulted in value: 0.9726980854384089. Current best value is 0.9727092538137437 with parameters: {'C': 0.009517918900449424}.\n",
      "[I 2020-08-26 10:41:40,271] Finished trial#189 resulted in value: 0.9726980610148113. Current best value is 0.9727092538137437 with parameters: {'C': 0.009517918900449424}.\n",
      "[I 2020-08-26 10:41:40,435] Finished trial#190 resulted in value: 0.9726908855372003. Current best value is 0.9727092538137437 with parameters: {'C': 0.009517918900449424}.\n",
      "[I 2020-08-26 10:41:40,497] Finished trial#193 resulted in value: 0.97233181757999. Current best value is 0.9727092538137437 with parameters: {'C': 0.009517918900449424}.\n",
      "[I 2020-08-26 10:41:40,560] Finished trial#192 resulted in value: 0.9726368184425789. Current best value is 0.9727092538137437 with parameters: {'C': 0.009517918900449424}.\n",
      "[I 2020-08-26 10:41:40,625] Finished trial#191 resulted in value: 0.972694744204124. Current best value is 0.9727092538137437 with parameters: {'C': 0.009517918900449424}.\n",
      "[I 2020-08-26 10:41:41,006] Finished trial#194 resulted in value: 0.9726212879276565. Current best value is 0.9727092538137437 with parameters: {'C': 0.009517918900449424}.\n",
      "[I 2020-08-26 10:41:41,420] Finished trial#195 resulted in value: 0.9726366308456628. Current best value is 0.9727092538137437 with parameters: {'C': 0.009517918900449424}.\n",
      "[I 2020-08-26 10:41:41,948] Finished trial#197 resulted in value: 0.972707738466351. Current best value is 0.9727092538137437 with parameters: {'C': 0.009517918900449424}.\n",
      "[I 2020-08-26 10:41:42,022] Finished trial#196 resulted in value: 0.9727035762380988. Current best value is 0.9727092538137437 with parameters: {'C': 0.009517918900449424}.\n",
      "[I 2020-08-26 10:41:42,117] Finished trial#198 resulted in value: 0.9727035713123312. Current best value is 0.9727092538137437 with parameters: {'C': 0.009517918900449424}.\n",
      "[I 2020-08-26 10:41:42,281] Finished trial#199 resulted in value: 0.9727084956269467. Current best value is 0.9727092538137437 with parameters: {'C': 0.009517918900449424}.\n",
      "[I 2020-08-26 10:41:42,669] Finished trial#200 resulted in value: 0.9727045183274866. Current best value is 0.9727092538137437 with parameters: {'C': 0.009517918900449424}.\n",
      "[I 2020-08-26 10:41:42,966] Finished trial#201 resulted in value: 0.9727039489690477. Current best value is 0.9727092538137437 with parameters: {'C': 0.009517918900449424}.\n",
      "[I 2020-08-26 10:41:43,345] Finished trial#202 resulted in value: 0.9726929716797141. Current best value is 0.9727092538137437 with parameters: {'C': 0.009517918900449424}.\n",
      "[I 2020-08-26 10:41:43,419] Finished trial#203 resulted in value: 0.9726972342741147. Current best value is 0.9727092538137437 with parameters: {'C': 0.009517918900449424}.\n",
      "[I 2020-08-26 10:41:43,533] Finished trial#204 resulted in value: 0.9726975181323729. Current best value is 0.9727092538137437 with parameters: {'C': 0.009517918900449424}.\n",
      "[I 2020-08-26 10:41:43,956] Finished trial#205 resulted in value: 0.9726855527798213. Current best value is 0.9727092538137437 with parameters: {'C': 0.009517918900449424}.\n",
      "[I 2020-08-26 10:41:44,144] Finished trial#206 resulted in value: 0.9726941103965923. Current best value is 0.9727092538137437 with parameters: {'C': 0.009517918900449424}.\n",
      "[I 2020-08-26 10:41:44,647] Finished trial#207 resulted in value: 0.9726882386563409. Current best value is 0.9727092538137437 with parameters: {'C': 0.009517918900449424}.\n",
      "[I 2020-08-26 10:41:44,835] Finished trial#208 resulted in value: 0.9726883958776902. Current best value is 0.9727092538137437 with parameters: {'C': 0.009517918900449424}.\n",
      "[I 2020-08-26 10:41:45,003] Finished trial#209 resulted in value: 0.972675504854976. Current best value is 0.9727092538137437 with parameters: {'C': 0.009517918900449424}.\n",
      "[I 2020-08-26 10:41:45,076] Finished trial#210 resulted in value: 0.9726883010530306. Current best value is 0.9727092538137437 with parameters: {'C': 0.009517918900449424}.\n",
      "[I 2020-08-26 10:41:45,702] Finished trial#211 resulted in value: 0.9726790109045019. Current best value is 0.9727092538137437 with parameters: {'C': 0.009517918900449424}.\n",
      "[I 2020-08-26 10:41:45,786] Finished trial#212 resulted in value: 0.9726655521652713. Current best value is 0.9727092538137437 with parameters: {'C': 0.009517918900449424}.\n",
      "[I 2020-08-26 10:41:46,195] Finished trial#213 resulted in value: 0.9726731323913201. Current best value is 0.9727092538137437 with parameters: {'C': 0.009517918900449424}.\n",
      "[I 2020-08-26 10:41:46,382] Finished trial#214 resulted in value: 0.9726613796750032. Current best value is 0.9727092538137437 with parameters: {'C': 0.009517918900449424}.\n",
      "[I 2020-08-26 10:41:46,549] Finished trial#216 resulted in value: 0.9727038555810701. Current best value is 0.9727092538137437 with parameters: {'C': 0.009517918900449424}.\n",
      "[I 2020-08-26 10:41:46,611] Finished trial#215 resulted in value: 0.9727084022389691. Current best value is 0.9727092538137437 with parameters: {'C': 0.009517918900449424}.\n",
      "[I 2020-08-26 10:41:47,281] Finished trial#217 resulted in value: 0.9727092515561002. Current best value is 0.9727092538137437 with parameters: {'C': 0.009517918900449424}.\n",
      "[I 2020-08-26 10:41:47,475] Finished trial#218 resulted in value: 0.9727031973499404. Current best value is 0.9727092538137437 with parameters: {'C': 0.009517918900449424}.\n",
      "[I 2020-08-26 10:41:47,791] Finished trial#219 resulted in value: 0.9727083997760854. Current best value is 0.9727092538137437 with parameters: {'C': 0.009517918900449424}.\n",
      "[I 2020-08-26 10:41:47,880] Finished trial#221 resulted in value: 0.9726294371016637. Current best value is 0.9727092538137437 with parameters: {'C': 0.009517918900449424}.\n",
      "[I 2020-08-26 10:41:47,960] Finished trial#220 resulted in value: 0.972704237547833. Current best value is 0.9727092538137437 with parameters: {'C': 0.009517918900449424}.\n",
      "[I 2020-08-26 10:41:48,044] Finished trial#222 resulted in value: 0.9726360586138594. Current best value is 0.9727092538137437 with parameters: {'C': 0.009517918900449424}.\n",
      "[I 2020-08-26 10:41:48,660] Finished trial#224 resulted in value: 0.972673942298677. Current best value is 0.9727092538137437 with parameters: {'C': 0.009517918900449424}.\n",
      "[I 2020-08-26 10:41:48,748] Finished trial#223 resulted in value: 0.9726559486002453. Current best value is 0.9727092538137437 with parameters: {'C': 0.009517918900449424}.\n",
      "[I 2020-08-26 10:41:49,071] Finished trial#225 resulted in value: 0.9726362484684191. Current best value is 0.9727092538137437 with parameters: {'C': 0.009517918900449424}.\n",
      "[I 2020-08-26 10:41:49,243] Finished trial#226 resulted in value: 0.9726761210082071. Current best value is 0.9727092538137437 with parameters: {'C': 0.009517918900449424}.\n",
      "[I 2020-08-26 10:41:49,445] Finished trial#228 resulted in value: 0.9726728992274201. Current best value is 0.9727092538137437 with parameters: {'C': 0.009517918900449424}.\n",
      "[I 2020-08-26 10:41:49,620] Finished trial#227 resulted in value: 0.9726882390668214. Current best value is 0.9727092538137437 with parameters: {'C': 0.009517918900449424}.\n",
      "[I 2020-08-26 10:41:50,495] Finished trial#230 resulted in value: 0.9727029007667827. Current best value is 0.9727092538137437 with parameters: {'C': 0.009517918900449424}.\n",
      "[I 2020-08-26 10:41:50,502] Finished trial#229 resulted in value: 0.9727043237523993. Current best value is 0.9727092538137437 with parameters: {'C': 0.009517918900449424}.\n",
      "[I 2020-08-26 10:41:50,700] Finished trial#231 resulted in value: 0.972708588193963. Current best value is 0.9727092538137437 with parameters: {'C': 0.009517918900449424}.\n",
      "[I 2020-08-26 10:41:50,879] Finished trial#232 resulted in value: 0.972703571722812. Current best value is 0.9727092538137437 with parameters: {'C': 0.009517918900449424}.\n",
      "[I 2020-08-26 10:41:51,082] Finished trial#233 resulted in value: 0.9727030926737456. Current best value is 0.9727092538137437 with parameters: {'C': 0.009517918900449424}.\n",
      "[I 2020-08-26 10:41:51,427] Finished trial#234 resulted in value: 0.9727028100469293. Current best value is 0.9727092538137437 with parameters: {'C': 0.009517918900449424}.\n",
      "[I 2020-08-26 10:41:51,848] Finished trial#235 resulted in value: 0.9727035760328585. Current best value is 0.9727092538137437 with parameters: {'C': 0.009517918900449424}.\n",
      "[I 2020-08-26 10:41:51,926] Finished trial#236 resulted in value: 0.9726964709563097. Current best value is 0.9727092538137437 with parameters: {'C': 0.009517918900449424}.\n",
      "[I 2020-08-26 10:41:52,019] Finished trial#237 resulted in value: 0.972703672704681. Current best value is 0.9727092538137437 with parameters: {'C': 0.009517918900449424}.\n",
      "[I 2020-08-26 10:41:52,438] Finished trial#238 resulted in value: 0.9727058518246917. Current best value is 0.9727092538137437 with parameters: {'C': 0.009517918900449424}.\n",
      "[I 2020-08-26 10:41:52,711] Finished trial#239 resulted in value: 0.9726976084417457. Current best value is 0.9727092538137437 with parameters: {'C': 0.009517918900449424}.\n",
      "[I 2020-08-26 10:41:53,210] Finished trial#240 resulted in value: 0.9726201375157144. Current best value is 0.9727092538137437 with parameters: {'C': 0.009517918900449424}.\n",
      "[I 2020-08-26 10:41:53,502] Finished trial#241 resulted in value: 0.9726299003508594. Current best value is 0.9727092538137437 with parameters: {'C': 0.009517918900449424}.\n",
      "[I 2020-08-26 10:41:53,772] Finished trial#243 resulted in value: 0.9726497135737333. Current best value is 0.9727092538137437 with parameters: {'C': 0.009517918900449424}.\n",
      "[I 2020-08-26 10:41:53,844] Finished trial#242 resulted in value: 0.9726570146620513. Current best value is 0.9727092538137437 with parameters: {'C': 0.009517918900449424}.\n",
      "[I 2020-08-26 10:41:54,138] Finished trial#245 resulted in value: 0.9726360600541755. Current best value is 0.9727092538137437 with parameters: {'C': 0.009517918900449424}.\n",
      "[I 2020-08-26 10:41:54,204] Finished trial#244 resulted in value: 0.9726320796761104. Current best value is 0.9727092538137437 with parameters: {'C': 0.009517918900449424}.\n",
      "[I 2020-08-26 10:41:54,928] Finished trial#246 resulted in value: 0.97264383403435. Current best value is 0.9727092538137437 with parameters: {'C': 0.009517918900449424}.\n",
      "[I 2020-08-26 10:41:55,126] Finished trial#247 resulted in value: 0.9726780636841064. Current best value is 0.9727092538137437 with parameters: {'C': 0.009517918900449424}.\n",
      "[I 2020-08-26 10:41:55,459] Finished trial#249 resulted in value: 0.9726969272237008. Current best value is 0.9727092538137437 with parameters: {'C': 0.009517918900449424}.\n",
      "[I 2020-08-26 10:41:55,459] Finished trial#248 resulted in value: 0.9726975883281949. Current best value is 0.9727092538137437 with parameters: {'C': 0.009517918900449424}.\n",
      "[I 2020-08-26 10:41:55,634] Finished trial#251 resulted in value: 0.9726908857424407. Current best value is 0.9727092538137437 with parameters: {'C': 0.009517918900449424}.\n",
      "[I 2020-08-26 10:41:55,814] Finished trial#250 resulted in value: 0.9726903847326607. Current best value is 0.9727092538137437 with parameters: {'C': 0.009517918900449424}.\n",
      "[I 2020-08-26 10:41:56,339] Finished trial#252 resulted in value: 0.9727028036844793. Current best value is 0.9727092538137437 with parameters: {'C': 0.009517918900449424}.\n",
      "[I 2020-08-26 10:41:56,639] Finished trial#253 resulted in value: 0.9726936348366113. Current best value is 0.9727092538137437 with parameters: {'C': 0.009517918900449424}.\n",
      "[I 2020-08-26 10:41:56,827] Finished trial#254 resulted in value: 0.9726984680208928. Current best value is 0.9727092538137437 with parameters: {'C': 0.009517918900449424}.\n",
      "[I 2020-08-26 10:41:56,892] Finished trial#255 resulted in value: 0.9726926861795334. Current best value is 0.9727092538137437 with parameters: {'C': 0.009517918900449424}.\n",
      "[I 2020-08-26 10:41:57,071] Finished trial#256 resulted in value: 0.9726966604003889. Current best value is 0.9727092538137437 with parameters: {'C': 0.009517918900449424}.\n",
      "[I 2020-08-26 10:41:57,164] Finished trial#257 resulted in value: 0.9725639816068213. Current best value is 0.9727092538137437 with parameters: {'C': 0.009517918900449424}.\n",
      "[I 2020-08-26 10:41:57,665] Finished trial#258 resulted in value: 0.9726881428054795. Current best value is 0.9727092538137437 with parameters: {'C': 0.009517918900449424}.\n",
      "[I 2020-08-26 10:41:57,835] Finished trial#259 resulted in value: 0.9725811311191299. Current best value is 0.9727092538137437 with parameters: {'C': 0.009517918900449424}.\n",
      "[I 2020-08-26 10:41:58,151] Finished trial#261 resulted in value: 0.9725803733428133. Current best value is 0.9727092538137437 with parameters: {'C': 0.009517918900449424}.\n",
      "[I 2020-08-26 10:41:58,334] Finished trial#260 resulted in value: 0.9724710669897887. Current best value is 0.9727092538137437 with parameters: {'C': 0.009517918900449424}.\n",
      "[I 2020-08-26 10:41:58,634] Finished trial#263 resulted in value: 0.9727068823762895. Current best value is 0.9727092538137437 with parameters: {'C': 0.009517918900449424}.\n",
      "[I 2020-08-26 10:41:58,869] Finished trial#262 resulted in value: 0.9727033728376782. Current best value is 0.9727092538137437 with parameters: {'C': 0.009517918900449424}.\n",
      "[I 2020-08-26 10:41:59,271] Finished trial#264 resulted in value: 0.9727060285438714. Current best value is 0.9727092538137437 with parameters: {'C': 0.009517918900449424}.\n",
      "[I 2020-08-26 10:41:59,476] Finished trial#265 resulted in value: 0.972703850244822. Current best value is 0.9727092538137437 with parameters: {'C': 0.009517918900449424}.\n",
      "[I 2020-08-26 10:41:59,662] Finished trial#266 resulted in value: 0.9727051759428951. Current best value is 0.9727092538137437 with parameters: {'C': 0.009517918900449424}.\n",
      "[I 2020-08-26 10:41:59,837] Finished trial#267 resulted in value: 0.9727090621120211. Current best value is 0.9727092538137437 with parameters: {'C': 0.009517918900449424}.\n",
      "[I 2020-08-26 10:42:00,204] Finished trial#268 resulted in value: 0.9727034734090667. Current best value is 0.9727092538137437 with parameters: {'C': 0.009517918900449424}.\n",
      "[I 2020-08-26 10:42:00,489] Finished trial#269 resulted in value: 0.9727032856069101. Current best value is 0.9727092538137437 with parameters: {'C': 0.009517918900449424}.\n",
      "[I 2020-08-26 10:42:00,817] Finished trial#270 resulted in value: 0.972693607334409. Current best value is 0.9727092538137437 with parameters: {'C': 0.009517918900449424}.\n",
      "[I 2020-08-26 10:42:01,106] Finished trial#272 resulted in value: 0.9726785378074048. Current best value is 0.9727092538137437 with parameters: {'C': 0.009517918900449424}.\n",
      "[I 2020-08-26 10:42:01,183] Finished trial#271 resulted in value: 0.972678537807405. Current best value is 0.9727092538137437 with parameters: {'C': 0.009517918900449424}.\n",
      "[I 2020-08-26 10:42:01,362] Finished trial#273 resulted in value: 0.972536456598856. Current best value is 0.9727092538137437 with parameters: {'C': 0.009517918900449424}.\n",
      "[I 2020-08-26 10:42:01,564] Finished trial#274 resulted in value: 0.972670341834972. Current best value is 0.9727092538137437 with parameters: {'C': 0.009517918900449424}.\n",
      "[I 2020-08-26 10:42:02,160] Finished trial#275 resulted in value: 0.972539582734022. Current best value is 0.9727092538137437 with parameters: {'C': 0.009517918900449424}.\n",
      "[I 2020-08-26 10:42:02,335] Finished trial#276 resulted in value: 0.9726737532650785. Current best value is 0.9727092538137437 with parameters: {'C': 0.009517918900449424}.\n",
      "[I 2020-08-26 10:42:02,605] Finished trial#278 resulted in value: 0.9726792455014506. Current best value is 0.9727092538137437 with parameters: {'C': 0.009517918900449424}.\n",
      "[I 2020-08-26 10:42:02,779] Finished trial#279 resulted in value: 0.9726674067858075. Current best value is 0.9727092538137437 with parameters: {'C': 0.009517918900449424}.\n",
      "[I 2020-08-26 10:42:02,849] Finished trial#277 resulted in value: 0.972524612136484. Current best value is 0.9727092538137437 with parameters: {'C': 0.009517918900449424}.\n",
      "[I 2020-08-26 10:42:03,018] Finished trial#280 resulted in value: 0.9726732795522605. Current best value is 0.9727092538137437 with parameters: {'C': 0.009517918900449424}.\n",
      "[I 2020-08-26 10:42:03,537] Finished trial#281 resulted in value: 0.9726593567465066. Current best value is 0.9727092538137437 with parameters: {'C': 0.009517918900449424}.\n",
      "[I 2020-08-26 10:42:03,832] Finished trial#282 resulted in value: 0.9727034824396406. Current best value is 0.9727092538137437 with parameters: {'C': 0.009517918900449424}.\n",
      "[I 2020-08-26 10:42:03,952] Finished trial#283 resulted in value: 0.9727043344248958. Current best value is 0.9727092538137437 with parameters: {'C': 0.009517918900449424}.\n",
      "[I 2020-08-26 10:42:04,336] Finished trial#285 resulted in value: 0.9727008279648894. Current best value is 0.9727092538137437 with parameters: {'C': 0.009517918900449424}.\n",
      "[I 2020-08-26 10:42:04,403] Finished trial#284 resulted in value: 0.9726989382446254. Current best value is 0.9727092538137437 with parameters: {'C': 0.009517918900449424}.\n",
      "[I 2020-08-26 10:42:04,523] Finished trial#286 resulted in value: 0.9727003542520715. Current best value is 0.9727092538137437 with parameters: {'C': 0.009517918900449424}.\n",
      "[I 2020-08-26 10:42:05,131] Finished trial#287 resulted in value: 0.972703198376142. Current best value is 0.9727092538137437 with parameters: {'C': 0.009517918900449424}.\n",
      "[I 2020-08-26 10:42:05,528] Finished trial#288 resulted in value: 0.9726608107270449. Current best value is 0.9727092538137437 with parameters: {'C': 0.009517918900449424}.\n",
      "[I 2020-08-26 10:42:05,729] Finished trial#289 resulted in value: 0.9726582484088292. Current best value is 0.9727092538137437 with parameters: {'C': 0.009517918900449424}.\n",
      "[I 2020-08-26 10:42:06,137] Finished trial#290 resulted in value: 0.9726608111375254. Current best value is 0.9727092538137437 with parameters: {'C': 0.009517918900449424}.\n",
      "[I 2020-08-26 10:42:06,231] Finished trial#292 resulted in value: 0.9726618509249374. Current best value is 0.9727092538137437 with parameters: {'C': 0.009517918900449424}.\n",
      "[I 2020-08-26 10:42:06,330] Finished trial#291 resulted in value: 0.9726618529773405. Current best value is 0.9727092538137437 with parameters: {'C': 0.009517918900449424}.\n",
      "[I 2020-08-26 10:42:07,068] Finished trial#294 resulted in value: 0.9726848877757612. Current best value is 0.9727092538137437 with parameters: {'C': 0.009517918900449424}.\n",
      "[I 2020-08-26 10:42:07,362] Finished trial#295 resulted in value: 0.9726891571430922. Current best value is 0.9727092538137437 with parameters: {'C': 0.009517918900449424}.\n",
      "[I 2020-08-26 10:42:07,641] Finished trial#293 resulted in value: 0.9662810113570149. Current best value is 0.9727092538137437 with parameters: {'C': 0.009517918900449424}.\n",
      "[I 2020-08-26 10:42:07,713] Finished trial#296 resulted in value: 0.9726970197907171. Current best value is 0.9727092538137437 with parameters: {'C': 0.009517918900449424}.\n",
      "[I 2020-08-26 10:42:07,817] Finished trial#297 resulted in value: 0.9726951228870421. Current best value is 0.9727092538137437 with parameters: {'C': 0.009517918900449424}.\n",
      "[I 2020-08-26 10:42:08,189] Finished trial#298 resulted in value: 0.9696685256937219. Current best value is 0.9727092538137437 with parameters: {'C': 0.009517918900449424}.\n",
      "[I 2020-08-26 10:42:08,305] Finished trial#299 resulted in value: 0.9692065415825791. Current best value is 0.9727092538137437 with parameters: {'C': 0.009517918900449424}.\n"
     ]
    },
    {
     "name": "stdout",
     "output_type": "stream",
     "text": [
      "CPU times: user 3min 13s, sys: 3min 16s, total: 6min 30s\n",
      "Wall time: 1min 17s\n"
     ]
    }
   ],
   "source": [
    "%%time\n",
    "\n",
    "study_lreg = optuna.create_study(direction='maximize')\n",
    "study_lreg.optimize(objective_lreg, n_trials=300, n_jobs=-1)\n",
    "\n",
    "lreg_best_params = study_lreg.best_params"
   ]
  },
  {
   "cell_type": "code",
   "execution_count": 26,
   "metadata": {},
   "outputs": [
    {
     "name": "stdout",
     "output_type": "stream",
     "text": [
      "{'C': 0.009517918900449424}\n",
      "auc: 0.9727092538137437\n"
     ]
    }
   ],
   "source": [
    "print(study_lreg.best_params)\n",
    "print('auc:', study_lreg.best_value)"
   ]
  },
  {
   "cell_type": "code",
   "execution_count": null,
   "metadata": {},
   "outputs": [],
   "source": [
    "lreg_best_params = {\n",
    "        'C': 0.009771875742604573\n",
    "}"
   ]
  },
  {
   "cell_type": "code",
   "execution_count": null,
   "metadata": {},
   "outputs": [],
   "source": [
    "lreg_model = LogisticRegression(**lreg_best_params, max_iter=1000, random_state=18)\n",
    "lreg_model.fit(x, y)"
   ]
  },
  {
   "cell_type": "code",
   "execution_count": null,
   "metadata": {},
   "outputs": [],
   "source": []
  },
  {
   "cell_type": "code",
   "execution_count": null,
   "metadata": {},
   "outputs": [],
   "source": []
  },
  {
   "cell_type": "code",
   "execution_count": null,
   "metadata": {},
   "outputs": [],
   "source": [
    "lreg_p = lreg_model.predict_proba(x)\n",
    "p_lreg = pd.DataFrame(lreg_p)\n",
    "\n",
    "lreg_pred = pd.DataFrame({\n",
    "    'id':ID,\n",
    "    'lreg': p_lreg[1]\n",
    "})"
   ]
  },
  {
   "cell_type": "code",
   "execution_count": null,
   "metadata": {},
   "outputs": [],
   "source": [
    "train_pred_df = pd.merge(tr_pred, lreg_pred, on='id')\n",
    "train_pred_df.head(-10)"
   ]
  },
  {
   "cell_type": "markdown",
   "metadata": {},
   "source": [
    "# PREDICT"
   ]
  },
  {
   "cell_type": "code",
   "execution_count": null,
   "metadata": {},
   "outputs": [],
   "source": [
    "pred_rf = pd.read_csv('submit/submit_RF22_2244.csv', names=('id', 'RandomForest'))\n",
    "pred_xgb = pd.read_csv('submit/submit_XGBoost17_1208.csv', names=('id', 'XGBoost'))\n",
    "pred_lgb = pd.read_csv('submit/submit_LGBM24_0416.csv', names=('id', 'LightGBM'))\n",
    "pred_cb = pd.read_csv('submit/submit_CatBoost24_0350.csv', names=('id', 'CatBoost'))\n",
    "pred_nn = pd.read_csv('submit/submit_NN17_1648.csv', names=('id', 'NN'))"
   ]
  },
  {
   "cell_type": "code",
   "execution_count": null,
   "metadata": {},
   "outputs": [],
   "source": [
    "pred = pd.merge(pred_rf, pred_xgb, on='id')\n",
    "pred = pd.merge(pred, pred_lgb, on='id')\n",
    "pred = pd.merge(pred, pred_cb, on='id')\n",
    "pred = pd.merge(pred, pred_nn, on='id')\n",
    "pred.head(-10)"
   ]
  },
  {
   "cell_type": "code",
   "execution_count": null,
   "metadata": {},
   "outputs": [],
   "source": [
    "corr = pred.corr()\n",
    "\n",
    "plt.subplots(figsize=(6,6))\n",
    "sns.heatmap(corr, annot=True, square=True, cmap='inferno')"
   ]
  },
  {
   "cell_type": "code",
   "execution_count": null,
   "metadata": {},
   "outputs": [],
   "source": [
    "del x, y, lreg_p, lreg_pred, p_lreg\n",
    "gc.collect()"
   ]
  },
  {
   "cell_type": "code",
   "execution_count": null,
   "metadata": {},
   "outputs": [],
   "source": [
    "x = pred.iloc[:, 1:]\n",
    "ID = pred['id']"
   ]
  },
  {
   "cell_type": "code",
   "execution_count": null,
   "metadata": {},
   "outputs": [],
   "source": [
    "lreg_p = lreg_model.predict_proba(x)\n",
    "p_lreg = pd.DataFrame(lreg_p)\n",
    "\n",
    "lreg_pred = pd.DataFrame({\n",
    "    'id':ID,\n",
    "    'lreg': p_lreg[1]\n",
    "})"
   ]
  },
  {
   "cell_type": "code",
   "execution_count": null,
   "metadata": {},
   "outputs": [],
   "source": [
    "pred_df = pd.merge(pred, lreg_pred, on='id')\n",
    "pred_df.head(-10)"
   ]
  },
  {
   "cell_type": "code",
   "execution_count": null,
   "metadata": {},
   "outputs": [],
   "source": [
    "pred_df['pred'] = (pred_df.RandomForest * 0.03 + pred_df.XGBoost * 0.02 + pred_df.NN * 0.02\n",
    "                + pred_df.LightGBM * 0.3 + pred_df.CatBoost * 0.6 + pred_df.lreg * 0.05)\n",
    "pred_df.head(-10)"
   ]
  },
  {
   "cell_type": "code",
   "execution_count": null,
   "metadata": {},
   "outputs": [],
   "source": [
    "now = datetime.datetime.now()\n",
    "\n",
    "submission = pd.DataFrame({\n",
    "    'ID':pred_df['id'],\n",
    "    'pred':pred_df['pred']\n",
    "})\n",
    "\n",
    "file_name = 'submit/submit_' + now.strftime('%d_%H%M') + '.csv'\n",
    "\n",
    "submission.to_csv(file_name, header=False, index=False)"
   ]
  },
  {
   "cell_type": "code",
   "execution_count": null,
   "metadata": {},
   "outputs": [],
   "source": [
    "now = datetime.datetime.now()\n",
    "\n",
    "submission = pd.DataFrame({\n",
    "    'ID':pred_df['id'],\n",
    "    'pred':pred_df['lreg']\n",
    "})\n",
    "\n",
    "file_name = 'submit/submit_lreg_' + now.strftime('%d_%H%M') + '.csv'\n",
    "\n",
    "submission.to_csv(file_name, header=False, index=False)"
   ]
  },
  {
   "cell_type": "code",
   "execution_count": null,
   "metadata": {},
   "outputs": [],
   "source": []
  }
 ],
 "metadata": {
  "kernelspec": {
   "display_name": "Python 3",
   "language": "python",
   "name": "python3"
  },
  "language_info": {
   "codemirror_mode": {
    "name": "ipython",
    "version": 3
   },
   "file_extension": ".py",
   "mimetype": "text/x-python",
   "name": "python",
   "nbconvert_exporter": "python",
   "pygments_lexer": "ipython3",
   "version": "3.7.7"
  }
 },
 "nbformat": 4,
 "nbformat_minor": 4
}
