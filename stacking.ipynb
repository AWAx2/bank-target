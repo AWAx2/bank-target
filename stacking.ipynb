{
 "cells": [
  {
   "cell_type": "code",
   "execution_count": 2,
   "metadata": {},
   "outputs": [],
   "source": [
    "import datetime\n",
    "from copy import copy\n",
    "import numpy as np\n",
    "import pandas as pd\n",
    "import matplotlib.pyplot as plt\n",
    "%matplotlib inline\n",
    "import seaborn as sns\n",
    "import ipywidgets\n",
    "import pickle\n",
    "import gc\n",
    "\n",
    "from sklearn.model_selection import train_test_split, StratifiedKFold, cross_validate\n",
    "from sklearn.metrics import accuracy_score, roc_auc_score\n",
    "\n",
    "from sklearn.ensemble import RandomForestClassifier, StackingClassifier\n",
    "from sklearn.linear_model import LogisticRegression\n",
    "import xgboost\n",
    "from xgboost import XGBClassifier\n",
    "from lightgbm import LGBMClassifier\n",
    "from catboost import CatBoostClassifier, cv, Pool\n",
    "import optuna\n",
    "from optuna.integration import lightgbm as lgb\n",
    "import tensorflow as tf"
   ]
  },
  {
   "cell_type": "code",
   "execution_count": 27,
   "metadata": {},
   "outputs": [],
   "source": [
    "train_df = pd.read_csv('dataset/train_16_0246.csv')\n",
    "test_df = pd.read_csv('dataset/test_16_0246.csv')"
   ]
  },
  {
   "cell_type": "code",
   "execution_count": 28,
   "metadata": {},
   "outputs": [],
   "source": [
    "ID = test_df['id']\n",
    "x = train_df.drop(columns=['y', 'id'])\n",
    "y = train_df['y']\n",
    "test_df = test_df.drop(columns=['id', 'y'])"
   ]
  },
  {
   "cell_type": "code",
   "execution_count": 4,
   "metadata": {},
   "outputs": [],
   "source": [
    "rf_model = pickle.load(open('models/RF_22_2248.pkl', 'rb'))\n",
    "xgb_model = pickle.load(open('models/XG_17_1144.pkl', 'rb'))\n",
    "lgb_model = pickle.load(open('models/LGBM_op24_0418.pkl', 'rb'))"
   ]
  },
  {
   "cell_type": "code",
   "execution_count": 8,
   "metadata": {},
   "outputs": [],
   "source": [
    "x_train, x_test, y_train, y_test = train_test_split(x, y, test_size=0.3, stratify=y, random_state=18)"
   ]
  },
  {
   "cell_type": "code",
   "execution_count": 10,
   "metadata": {},
   "outputs": [],
   "source": [
    "rf_best_params = {\n",
    "    'n_estimators': 1200,\n",
    "    'criterion': 'entropy',\n",
    "    'max_depth': 10,\n",
    "    'min_samples_split': 22,\n",
    "    'random_state': 18,\n",
    "    'verbose': 0\n",
    "}"
   ]
  },
  {
   "cell_type": "code",
   "execution_count": 11,
   "metadata": {},
   "outputs": [],
   "source": [
    "xgb_best_params = {\n",
    "        'objective': 'binary:logistic',\n",
    "        'booster': 'gbtree',\n",
    "        'eval_metric': 'auc',\n",
    "        'eta': 0.01,\n",
    "        'n_estimators': 10000,\n",
    "        'early_stopping_rounds': 100,\n",
    "        'max_depth': 6,\n",
    "        'min_child_weight': 1,\n",
    "        'subsample': 0.9,\n",
    "        'colsample_bytree': 0.85,\n",
    "        'gamma': 0.0,\n",
    "        'alpha': 0.0,\n",
    "        'seed': 18\n",
    "}\n"
   ]
  },
  {
   "cell_type": "code",
   "execution_count": 12,
   "metadata": {},
   "outputs": [],
   "source": [
    "lgb_best_params = {\n",
    "        'n_estimations': 10000,\n",
    "        'learning_rate': 0.001,\n",
    "        'metric': 'auc',\n",
    "        'seed': 111,\n",
    "        'verbose': -1,\n",
    "        'lambda_l1': 0.11736816437265646,\n",
    "        'lambda_l2': 0.04906024417734872,\n",
    "        'num_leaves': 140,\n",
    "        'feature_fraction': 0.4,\n",
    "        'bagging_fraction': 1.0,\n",
    "        'bagging_freq': 0,\n",
    "        'min_child_samples': 20\n",
    "}"
   ]
  },
  {
   "cell_type": "code",
   "execution_count": 14,
   "metadata": {},
   "outputs": [
    {
     "name": "stdout",
     "output_type": "stream",
     "text": [
      "CPU times: user 19min 12s, sys: 7.58 s, total: 19min 19s\n",
      "Wall time: 4min 14s\n"
     ]
    },
    {
     "data": {
      "text/plain": [
       "StackingClassifier(estimators=[('rf',\n",
       "                                RandomForestClassifier(criterion='entropy',\n",
       "                                                       max_depth=10,\n",
       "                                                       min_samples_split=22,\n",
       "                                                       n_estimators=1200,\n",
       "                                                       random_state=18)),\n",
       "                               ('xgb',\n",
       "                                XGBClassifier(alpha=0.0, base_score=None,\n",
       "                                              booster='gbtree',\n",
       "                                              colsample_bylevel=None,\n",
       "                                              colsample_bynode=None,\n",
       "                                              colsample_bytree=0.85,\n",
       "                                              early_stopping_rounds=100,\n",
       "                                              eta=0.01, eval_metric='auc',\n",
       "                                              gamma=0.0, gpu_id...\n",
       "                                              subsample=0.9, tree_method=None,\n",
       "                                              validate_parameters=False, ...)),\n",
       "                               ('lgb',\n",
       "                                LGBMClassifier(bagging_fraction=1.0,\n",
       "                                               bagging_freq=0,\n",
       "                                               feature_fraction=0.4,\n",
       "                                               lambda_l1=0.11736816437265646,\n",
       "                                               lambda_l2=0.04906024417734872,\n",
       "                                               learning_rate=0.001,\n",
       "                                               metric='auc',\n",
       "                                               n_estimations=10000,\n",
       "                                               num_leaves=140, seed=111,\n",
       "                                               verbose=-1))],\n",
       "                   final_estimator=LogisticRegression(max_iter=1000,\n",
       "                                                      random_state=18))"
      ]
     },
     "execution_count": 14,
     "metadata": {},
     "output_type": "execute_result"
    }
   ],
   "source": [
    "%%time\n",
    "\n",
    "estimators = [\n",
    "    ('rf', RandomForestClassifier(**rf_best_params)),\n",
    "    ('xgb', XGBClassifier(**xgb_best_params)),\n",
    "    ('lgb', LGBMClassifier(**lgb_best_params))\n",
    "]\n",
    "\n",
    "sclf = StackingClassifier(estimators=estimators,\n",
    "                          final_estimator=LogisticRegression(max_iter=1000, random_state=18))\n",
    "\n",
    "sclf.fit(x_train, y_train)"
   ]
  },
  {
   "cell_type": "code",
   "execution_count": 20,
   "metadata": {},
   "outputs": [
    {
     "name": "stdout",
     "output_type": "stream",
     "text": [
      "acc:0.9302583025830258, auc:0.8095053912498169\n"
     ]
    }
   ],
   "source": [
    "sclf_p = sclf.predict(x_test)\n",
    "\n",
    "acc_sclf = accuracy_score(sclf_p, y_test)\n",
    "auc_sclf = roc_auc_score(sclf_p, y_test)\n",
    "\n",
    "print('acc:{}, auc:{}'.format(acc_sclf, auc_sclf))"
   ]
  },
  {
   "cell_type": "code",
   "execution_count": 29,
   "metadata": {},
   "outputs": [
    {
     "data": {
      "text/html": [
       "<div>\n",
       "<style scoped>\n",
       "    .dataframe tbody tr th:only-of-type {\n",
       "        vertical-align: middle;\n",
       "    }\n",
       "\n",
       "    .dataframe tbody tr th {\n",
       "        vertical-align: top;\n",
       "    }\n",
       "\n",
       "    .dataframe thead th {\n",
       "        text-align: right;\n",
       "    }\n",
       "</style>\n",
       "<table border=\"1\" class=\"dataframe\">\n",
       "  <thead>\n",
       "    <tr style=\"text-align: right;\">\n",
       "      <th></th>\n",
       "      <th>0</th>\n",
       "      <th>1</th>\n",
       "    </tr>\n",
       "  </thead>\n",
       "  <tbody>\n",
       "    <tr>\n",
       "      <th>0</th>\n",
       "      <td>0.031051</td>\n",
       "      <td>0.968949</td>\n",
       "    </tr>\n",
       "    <tr>\n",
       "      <th>1</th>\n",
       "      <td>0.940884</td>\n",
       "      <td>0.059116</td>\n",
       "    </tr>\n",
       "    <tr>\n",
       "      <th>2</th>\n",
       "      <td>0.962093</td>\n",
       "      <td>0.037907</td>\n",
       "    </tr>\n",
       "    <tr>\n",
       "      <th>3</th>\n",
       "      <td>0.971538</td>\n",
       "      <td>0.028462</td>\n",
       "    </tr>\n",
       "    <tr>\n",
       "      <th>4</th>\n",
       "      <td>0.943304</td>\n",
       "      <td>0.056696</td>\n",
       "    </tr>\n",
       "    <tr>\n",
       "      <th>...</th>\n",
       "      <td>...</td>\n",
       "      <td>...</td>\n",
       "    </tr>\n",
       "    <tr>\n",
       "      <th>18035</th>\n",
       "      <td>0.944752</td>\n",
       "      <td>0.055248</td>\n",
       "    </tr>\n",
       "    <tr>\n",
       "      <th>18036</th>\n",
       "      <td>0.944058</td>\n",
       "      <td>0.055942</td>\n",
       "    </tr>\n",
       "    <tr>\n",
       "      <th>18037</th>\n",
       "      <td>0.971607</td>\n",
       "      <td>0.028393</td>\n",
       "    </tr>\n",
       "    <tr>\n",
       "      <th>18038</th>\n",
       "      <td>0.964811</td>\n",
       "      <td>0.035189</td>\n",
       "    </tr>\n",
       "    <tr>\n",
       "      <th>18039</th>\n",
       "      <td>0.940810</td>\n",
       "      <td>0.059190</td>\n",
       "    </tr>\n",
       "  </tbody>\n",
       "</table>\n",
       "<p>18040 rows × 2 columns</p>\n",
       "</div>"
      ],
      "text/plain": [
       "              0         1\n",
       "0      0.031051  0.968949\n",
       "1      0.940884  0.059116\n",
       "2      0.962093  0.037907\n",
       "3      0.971538  0.028462\n",
       "4      0.943304  0.056696\n",
       "...         ...       ...\n",
       "18035  0.944752  0.055248\n",
       "18036  0.944058  0.055942\n",
       "18037  0.971607  0.028393\n",
       "18038  0.964811  0.035189\n",
       "18039  0.940810  0.059190\n",
       "\n",
       "[18040 rows x 2 columns]"
      ]
     },
     "execution_count": 29,
     "metadata": {},
     "output_type": "execute_result"
    }
   ],
   "source": [
    "pred_sclf = sclf.predict_proba(test_df)\n",
    "sclf_p = pd.DataFrame(pred_sclf)\n",
    "sclf_p.head(-10)"
   ]
  },
  {
   "cell_type": "code",
   "execution_count": 30,
   "metadata": {},
   "outputs": [],
   "source": [
    "now = datetime.datetime.now()\n",
    "\n",
    "submission = pd.DataFrame({\n",
    "    'ID':ID,\n",
    "    'pred':sclf_p[1]\n",
    "})\n",
    "\n",
    "file_name = 'submit/submit_stacking_' + now.strftime('%d_%H%M') + '.csv'\n",
    "\n",
    "submission.to_csv(file_name, index=False, header=False)"
   ]
  },
  {
   "cell_type": "code",
   "execution_count": null,
   "metadata": {},
   "outputs": [],
   "source": []
  }
 ],
 "metadata": {
  "kernelspec": {
   "display_name": "Python 3",
   "language": "python",
   "name": "python3"
  },
  "language_info": {
   "codemirror_mode": {
    "name": "ipython",
    "version": 3
   },
   "file_extension": ".py",
   "mimetype": "text/x-python",
   "name": "python",
   "nbconvert_exporter": "python",
   "pygments_lexer": "ipython3",
   "version": "3.7.7"
  }
 },
 "nbformat": 4,
 "nbformat_minor": 4
}
